{
 "cells": [
  {
   "cell_type": "code",
   "execution_count": 1,
   "metadata": {
    "ExecuteTime": {
     "end_time": "2021-09-30T16:20:44.213790Z",
     "start_time": "2021-09-30T16:20:44.194662Z"
    }
   },
   "outputs": [],
   "source": [
    "%load_ext autoreload\n",
    "%autoreload 2"
   ]
  },
  {
   "cell_type": "code",
   "execution_count": 2,
   "metadata": {
    "ExecuteTime": {
     "end_time": "2021-09-30T16:20:45.641834Z",
     "start_time": "2021-09-30T16:20:44.343576Z"
    }
   },
   "outputs": [
    {
     "name": "stderr",
     "output_type": "stream",
     "text": [
      "/home/AD/tsainbur/anaconda3/envs/cdcp_paper/lib/python3.6/site-packages/ipykernel_launcher.py:5: TqdmExperimentalWarning: Using `tqdm.autonotebook.tqdm` in notebook mode. Use `tqdm.tqdm` instead to force console mode (e.g. in jupyter console)\n",
      "  \"\"\"\n"
     ]
    }
   ],
   "source": [
    "from behav import plotting, utils, loading\n",
    "import numpy as np\n",
    "import pandas as pd\n",
    "import matplotlib.pyplot as plt\n",
    "from tqdm.autonotebook import tqdm\n",
    "pd.set_option('display.max_columns', 500)"
   ]
  },
  {
   "cell_type": "code",
   "execution_count": 3,
   "metadata": {
    "ExecuteTime": {
     "end_time": "2021-09-30T16:20:45.810744Z",
     "start_time": "2021-09-30T16:20:45.643476Z"
    }
   },
   "outputs": [
    {
     "data": {
      "text/plain": [
       "(('B1174',\n",
       "  'B1426',\n",
       "  'B1170',\n",
       "  'B1432',\n",
       "  'B1437',\n",
       "  'B1433',\n",
       "  'B1597',\n",
       "  'B1427',\n",
       "  'B1188',\n",
       "  'B1244',\n",
       "  'B1590',\n",
       "  'B1399',\n",
       "  'B1591',\n",
       "  'B1252',\n",
       "  'B1110',\n",
       "  'B1390',\n",
       "  'B1248',\n",
       "  'B1593',\n",
       "  'B1595',\n",
       "  'B1276'),\n",
       " PosixPath('/mnt/cube/RawData/Magpi'))"
      ]
     },
     "execution_count": 3,
     "metadata": {},
     "output_type": "execute_result"
    }
   ],
   "source": [
    "from cdcp.experiment_info import subjects\n",
    "from cdcp.paths import DATA_PATH_MAGPI\n",
    "from cdcp.behavior.data import prepare_behavior_data\n",
    "from cdcp.visualization.colors import colors\n",
    "from cdcp.behavior.visualize_behavior import plot_stages\n",
    "subjects, DATA_PATH_MAGPI"
   ]
  },
  {
   "cell_type": "code",
   "execution_count": 4,
   "metadata": {
    "ExecuteTime": {
     "end_time": "2021-09-30T16:20:45.825122Z",
     "start_time": "2021-09-30T16:20:45.813232Z"
    }
   },
   "outputs": [],
   "source": [
    "%matplotlib inline"
   ]
  },
  {
   "cell_type": "markdown",
   "metadata": {},
   "source": [
    "### load data"
   ]
  },
  {
   "cell_type": "code",
   "execution_count": 5,
   "metadata": {
    "ExecuteTime": {
     "end_time": "2021-09-30T16:20:53.989531Z",
     "start_time": "2021-09-30T16:20:45.826176Z"
    }
   },
   "outputs": [],
   "source": [
    "## Runs the plotting code on my data\n",
    "behav_data = loading.load_data_pandas(['B1597'],DATA_PATH_MAGPI)['B1597']"
   ]
  },
  {
   "cell_type": "code",
   "execution_count": 6,
   "metadata": {
    "ExecuteTime": {
     "end_time": "2021-09-30T16:20:54.052979Z",
     "start_time": "2021-09-30T16:20:53.990765Z"
    }
   },
   "outputs": [],
   "source": [
    "behav_data = behav_data[behav_data.rt.isnull()==False]"
   ]
  },
  {
   "cell_type": "code",
   "execution_count": 7,
   "metadata": {
    "ExecuteTime": {
     "end_time": "2021-09-30T16:20:54.066160Z",
     "start_time": "2021-09-30T16:20:54.054102Z"
    }
   },
   "outputs": [],
   "source": [
    "behav_data = behav_data[-100000:]"
   ]
  },
  {
   "cell_type": "code",
   "execution_count": 8,
   "metadata": {
    "ExecuteTime": {
     "end_time": "2021-09-30T16:20:54.094132Z",
     "start_time": "2021-09-30T16:20:54.067099Z"
    }
   },
   "outputs": [
    {
     "data": {
      "text/html": [
       "<div>\n",
       "<style scoped>\n",
       "    .dataframe tbody tr th:only-of-type {\n",
       "        vertical-align: middle;\n",
       "    }\n",
       "\n",
       "    .dataframe tbody tr th {\n",
       "        vertical-align: top;\n",
       "    }\n",
       "\n",
       "    .dataframe thead th {\n",
       "        text-align: right;\n",
       "    }\n",
       "</style>\n",
       "<table border=\"1\" class=\"dataframe\">\n",
       "  <thead>\n",
       "    <tr style=\"text-align: right;\">\n",
       "      <th></th>\n",
       "      <th>session</th>\n",
       "      <th>index</th>\n",
       "      <th>type_</th>\n",
       "      <th>stimulus</th>\n",
       "      <th>class_</th>\n",
       "      <th>response</th>\n",
       "      <th>correct</th>\n",
       "      <th>rt</th>\n",
       "      <th>reward</th>\n",
       "      <th>punish</th>\n",
       "      <th>cue_class</th>\n",
       "      <th>cue_id</th>\n",
       "      <th>cue_prob</th>\n",
       "      <th>num_stims</th>\n",
       "      <th>flip_cues</th>\n",
       "      <th>binary_choice</th>\n",
       "      <th>cueing</th>\n",
       "      <th>left_stim</th>\n",
       "      <th>right_stim</th>\n",
       "      <th>interpolation_point</th>\n",
       "      <th>prob_cue</th>\n",
       "      <th>prob_cued_no_cue</th>\n",
       "      <th>data_file</th>\n",
       "      <th>self_initiated</th>\n",
       "    </tr>\n",
       "    <tr>\n",
       "      <th>time</th>\n",
       "      <th></th>\n",
       "      <th></th>\n",
       "      <th></th>\n",
       "      <th></th>\n",
       "      <th></th>\n",
       "      <th></th>\n",
       "      <th></th>\n",
       "      <th></th>\n",
       "      <th></th>\n",
       "      <th></th>\n",
       "      <th></th>\n",
       "      <th></th>\n",
       "      <th></th>\n",
       "      <th></th>\n",
       "      <th></th>\n",
       "      <th></th>\n",
       "      <th></th>\n",
       "      <th></th>\n",
       "      <th></th>\n",
       "      <th></th>\n",
       "      <th></th>\n",
       "      <th></th>\n",
       "      <th></th>\n",
       "      <th></th>\n",
       "    </tr>\n",
       "  </thead>\n",
       "  <tbody>\n",
       "    <tr>\n",
       "      <th>2021-04-17 17:14:06.566014</th>\n",
       "      <td>47.0</td>\n",
       "      <td>20.0</td>\n",
       "      <td>normal</td>\n",
       "      <td>/home/bird/opdat/cdp_stimuli/BG/CR1/CR1_BG_017...</td>\n",
       "      <td>R</td>\n",
       "      <td>R</td>\n",
       "      <td>True</td>\n",
       "      <td>0.703234</td>\n",
       "      <td>False</td>\n",
       "      <td>False</td>\n",
       "      <td>CR</td>\n",
       "      <td>CR1</td>\n",
       "      <td>0.875</td>\n",
       "      <td>3.0</td>\n",
       "      <td>False</td>\n",
       "      <td>False</td>\n",
       "      <td>True</td>\n",
       "      <td>B</td>\n",
       "      <td>G</td>\n",
       "      <td>17.0</td>\n",
       "      <td>0.8</td>\n",
       "      <td>0.2</td>\n",
       "      <td>/mnt/cube/RawData/Magpi/B1597/B1597_trialdata_...</td>\n",
       "      <td>NaN</td>\n",
       "    </tr>\n",
       "    <tr>\n",
       "      <th>2021-04-17 17:14:11.846466</th>\n",
       "      <td>47.0</td>\n",
       "      <td>21.0</td>\n",
       "      <td>normal</td>\n",
       "      <td>/home/bird/opdat/cdp_stimuli/AE/CR0/CR0_AE_028...</td>\n",
       "      <td>R</td>\n",
       "      <td>R</td>\n",
       "      <td>True</td>\n",
       "      <td>0.890750</td>\n",
       "      <td>False</td>\n",
       "      <td>False</td>\n",
       "      <td>CR</td>\n",
       "      <td>CR0</td>\n",
       "      <td>0.750</td>\n",
       "      <td>3.0</td>\n",
       "      <td>False</td>\n",
       "      <td>False</td>\n",
       "      <td>True</td>\n",
       "      <td>A</td>\n",
       "      <td>E</td>\n",
       "      <td>28.0</td>\n",
       "      <td>0.8</td>\n",
       "      <td>0.2</td>\n",
       "      <td>/mnt/cube/RawData/Magpi/B1597/B1597_trialdata_...</td>\n",
       "      <td>NaN</td>\n",
       "    </tr>\n",
       "    <tr>\n",
       "      <th>2021-04-17 17:14:17.669401</th>\n",
       "      <td>47.0</td>\n",
       "      <td>22.0</td>\n",
       "      <td>normal</td>\n",
       "      <td>/home/bird/opdat/cdp_stimuli/BE/CR1/CR1_BE_120...</td>\n",
       "      <td>L</td>\n",
       "      <td>L</td>\n",
       "      <td>True</td>\n",
       "      <td>0.516516</td>\n",
       "      <td>True</td>\n",
       "      <td>False</td>\n",
       "      <td>CR</td>\n",
       "      <td>CR1</td>\n",
       "      <td>0.875</td>\n",
       "      <td>3.0</td>\n",
       "      <td>False</td>\n",
       "      <td>False</td>\n",
       "      <td>True</td>\n",
       "      <td>B</td>\n",
       "      <td>E</td>\n",
       "      <td>120.0</td>\n",
       "      <td>0.8</td>\n",
       "      <td>0.2</td>\n",
       "      <td>/mnt/cube/RawData/Magpi/B1597/B1597_trialdata_...</td>\n",
       "      <td>NaN</td>\n",
       "    </tr>\n",
       "  </tbody>\n",
       "</table>\n",
       "</div>"
      ],
      "text/plain": [
       "                            session  index   type_  \\\n",
       "time                                                 \n",
       "2021-04-17 17:14:06.566014     47.0   20.0  normal   \n",
       "2021-04-17 17:14:11.846466     47.0   21.0  normal   \n",
       "2021-04-17 17:14:17.669401     47.0   22.0  normal   \n",
       "\n",
       "                                                                     stimulus  \\\n",
       "time                                                                            \n",
       "2021-04-17 17:14:06.566014  /home/bird/opdat/cdp_stimuli/BG/CR1/CR1_BG_017...   \n",
       "2021-04-17 17:14:11.846466  /home/bird/opdat/cdp_stimuli/AE/CR0/CR0_AE_028...   \n",
       "2021-04-17 17:14:17.669401  /home/bird/opdat/cdp_stimuli/BE/CR1/CR1_BE_120...   \n",
       "\n",
       "                           class_ response correct        rt  reward punish  \\\n",
       "time                                                                          \n",
       "2021-04-17 17:14:06.566014      R        R    True  0.703234   False  False   \n",
       "2021-04-17 17:14:11.846466      R        R    True  0.890750   False  False   \n",
       "2021-04-17 17:14:17.669401      L        L    True  0.516516    True  False   \n",
       "\n",
       "                           cue_class cue_id  cue_prob  num_stims flip_cues  \\\n",
       "time                                                                         \n",
       "2021-04-17 17:14:06.566014        CR    CR1     0.875        3.0     False   \n",
       "2021-04-17 17:14:11.846466        CR    CR0     0.750        3.0     False   \n",
       "2021-04-17 17:14:17.669401        CR    CR1     0.875        3.0     False   \n",
       "\n",
       "                           binary_choice cueing left_stim right_stim  \\\n",
       "time                                                                   \n",
       "2021-04-17 17:14:06.566014         False   True         B          G   \n",
       "2021-04-17 17:14:11.846466         False   True         A          E   \n",
       "2021-04-17 17:14:17.669401         False   True         B          E   \n",
       "\n",
       "                            interpolation_point  prob_cue  prob_cued_no_cue  \\\n",
       "time                                                                          \n",
       "2021-04-17 17:14:06.566014                 17.0       0.8               0.2   \n",
       "2021-04-17 17:14:11.846466                 28.0       0.8               0.2   \n",
       "2021-04-17 17:14:17.669401                120.0       0.8               0.2   \n",
       "\n",
       "                                                                    data_file  \\\n",
       "time                                                                            \n",
       "2021-04-17 17:14:06.566014  /mnt/cube/RawData/Magpi/B1597/B1597_trialdata_...   \n",
       "2021-04-17 17:14:11.846466  /mnt/cube/RawData/Magpi/B1597/B1597_trialdata_...   \n",
       "2021-04-17 17:14:17.669401  /mnt/cube/RawData/Magpi/B1597/B1597_trialdata_...   \n",
       "\n",
       "                           self_initiated  \n",
       "time                                       \n",
       "2021-04-17 17:14:06.566014            NaN  \n",
       "2021-04-17 17:14:11.846466            NaN  \n",
       "2021-04-17 17:14:17.669401            NaN  "
      ]
     },
     "execution_count": 8,
     "metadata": {},
     "output_type": "execute_result"
    }
   ],
   "source": [
    "behav_data[:3]"
   ]
  },
  {
   "cell_type": "code",
   "execution_count": 9,
   "metadata": {
    "ExecuteTime": {
     "end_time": "2021-09-30T16:20:54.258014Z",
     "start_time": "2021-09-30T16:20:54.095491Z"
    }
   },
   "outputs": [
    {
     "data": {
      "text/plain": [
       "(array([73550., 18064.,  4911.,  1644.,   725.,   439.,   259.,   167.,\n",
       "          147.,    94.]),\n",
       " array([-0.09452  ,  0.4114331,  0.9173862,  1.4233393,  1.9292924,\n",
       "         2.4352455,  2.9411986,  3.4471517,  3.9531048,  4.4590579,\n",
       "         4.965011 ]),\n",
       " <BarContainer object of 10 artists>)"
      ]
     },
     "execution_count": 9,
     "metadata": {},
     "output_type": "execute_result"
    },
    {
     "data": {
      "image/png": "[encoded data removed]",
      "text/plain": [
       "<Figure size 432x288 with 1 Axes>"
      ]
     },
     "metadata": {
      "needs_background": "light"
     },
     "output_type": "display_data"
    }
   ],
   "source": [
    "plt.hist(behav_data.rt.values)"
   ]
  },
  {
   "cell_type": "code",
   "execution_count": 10,
   "metadata": {
    "ExecuteTime": {
     "end_time": "2021-09-30T16:20:54.272418Z",
     "start_time": "2021-09-30T16:20:54.259399Z"
    }
   },
   "outputs": [],
   "source": [
    "import seaborn as sns"
   ]
  },
  {
   "cell_type": "code",
   "execution_count": 109,
   "metadata": {},
   "outputs": [
    {
     "data": {
      "text/plain": [
       "<seaborn.axisgrid.FacetGrid at 0x7ff5c82ebd90>"
      ]
     },
     "execution_count": 109,
     "metadata": {},
     "output_type": "execute_result"
    },
    {
     "data": {
      "image/png": "[encoded data removed]",
      "text/plain": [
       "<Figure size 360x360 with 1 Axes>"
      ]
     },
     "metadata": {
      "needs_background": "light"
     },
     "output_type": "display_data"
    }
   ],
   "source": [
    "sns.catplot(x='correct', y='rt', data = behav_data, kind=\"bar\")"
   ]
  },
  {
   "cell_type": "code",
   "execution_count": 110,
   "metadata": {},
   "outputs": [
    {
     "data": {
      "text/plain": [
       "<AxesSubplot:xlabel='interpolation_point', ylabel='rt'>"
      ]
     },
     "execution_count": 110,
     "metadata": {},
     "output_type": "execute_result"
    },
    {
     "data": {
      "image/png": "[encoded data removed]",
      "text/plain": [
       "<Figure size 432x288 with 1 Axes>"
      ]
     },
     "metadata": {
      "needs_background": "light"
     },
     "output_type": "display_data"
    }
   ],
   "source": [
    "sns.lineplot(x='interpolation_point', y='rt', data = behav_data)"
   ]
  },
  {
   "cell_type": "code",
   "execution_count": 111,
   "metadata": {},
   "outputs": [],
   "source": [
    "import matplotlib.patches as patches"
   ]
  },
  {
   "cell_type": "code",
   "execution_count": 112,
   "metadata": {},
   "outputs": [],
   "source": [
    "import re\n",
    "\n",
    "def hex_to_rgb(hx, hsl=False):\n",
    "    \"\"\"Converts a HEX code into RGB or HSL.\n",
    "    Args:\n",
    "        hx (str): Takes both short as well as long HEX codes.\n",
    "        hsl (bool): Converts the given HEX code into HSL value if True.\n",
    "    Return:\n",
    "        Tuple of length 3 consisting of either int or float values.\n",
    "    Raise:\n",
    "        ValueError: If given value is not a valid HEX code.\"\"\"\n",
    "    if re.compile(r'#[a-fA-F0-9]{3}(?:[a-fA-F0-9]{3})?$').match(hx):\n",
    "        div = 255.0 if hsl else 0\n",
    "        if len(hx) <= 4:\n",
    "            return tuple(int(hx[i]*2, 16) / div if div else\n",
    "                         int(hx[i]*2, 16) for i in (1, 2, 3))\n",
    "        return tuple(int(hx[i:i+2], 16) / div if div else\n",
    "                     int(hx[i:i+2], 16) for i in (1, 3, 5))\n",
    "    raise ValueError(f'\"{hx}\" is not a valid HEX code.')"
   ]
  },
  {
   "cell_type": "code",
   "execution_count": 113,
   "metadata": {},
   "outputs": [],
   "source": [
    "L_color = np.array(hex_to_rgb(colors['reinforce']['L']['dark']))/255.\n",
    "R_color = np.array(hex_to_rgb(colors['reinforce']['R']['dark']))/255."
   ]
  },
  {
   "cell_type": "code",
   "execution_count": 114,
   "metadata": {},
   "outputs": [],
   "source": [
    "color_grad = [L_color * i + R_color * (1-i) for i in np.linspace(0,1,128)]"
   ]
  },
  {
   "cell_type": "code",
   "execution_count": 115,
   "metadata": {},
   "outputs": [
    {
     "data": {
      "image/png": "[encoded data removed]",
      "text/plain": [
       "<Figure size 1872x72 with 1 Axes>"
      ]
     },
     "metadata": {
      "needs_background": "light"
     },
     "output_type": "display_data"
    }
   ],
   "source": [
    "sns.palplot(color_grad[::5])"
   ]
  },
  {
   "cell_type": "code",
   "execution_count": 131,
   "metadata": {},
   "outputs": [
    {
     "data": {
      "text/html": [
       "<div>\n",
       "<style scoped>\n",
       "    .dataframe tbody tr th:only-of-type {\n",
       "        vertical-align: middle;\n",
       "    }\n",
       "\n",
       "    .dataframe tbody tr th {\n",
       "        vertical-align: top;\n",
       "    }\n",
       "\n",
       "    .dataframe thead th {\n",
       "        text-align: right;\n",
       "    }\n",
       "</style>\n",
       "<table border=\"1\" class=\"dataframe\">\n",
       "  <thead>\n",
       "    <tr style=\"text-align: right;\">\n",
       "      <th></th>\n",
       "      <th>session</th>\n",
       "      <th>index</th>\n",
       "      <th>type_</th>\n",
       "      <th>stimulus</th>\n",
       "      <th>class_</th>\n",
       "      <th>response</th>\n",
       "      <th>correct</th>\n",
       "      <th>rt</th>\n",
       "      <th>reward</th>\n",
       "      <th>punish</th>\n",
       "      <th>cue_class</th>\n",
       "      <th>cue_id</th>\n",
       "      <th>cue_prob</th>\n",
       "      <th>num_stims</th>\n",
       "      <th>flip_cues</th>\n",
       "      <th>binary_choice</th>\n",
       "      <th>cueing</th>\n",
       "      <th>left_stim</th>\n",
       "      <th>right_stim</th>\n",
       "      <th>interpolation_point</th>\n",
       "      <th>prob_cue</th>\n",
       "      <th>prob_cued_no_cue</th>\n",
       "      <th>data_file</th>\n",
       "      <th>self_initiated</th>\n",
       "    </tr>\n",
       "    <tr>\n",
       "      <th>time</th>\n",
       "      <th></th>\n",
       "      <th></th>\n",
       "      <th></th>\n",
       "      <th></th>\n",
       "      <th></th>\n",
       "      <th></th>\n",
       "      <th></th>\n",
       "      <th></th>\n",
       "      <th></th>\n",
       "      <th></th>\n",
       "      <th></th>\n",
       "      <th></th>\n",
       "      <th></th>\n",
       "      <th></th>\n",
       "      <th></th>\n",
       "      <th></th>\n",
       "      <th></th>\n",
       "      <th></th>\n",
       "      <th></th>\n",
       "      <th></th>\n",
       "      <th></th>\n",
       "      <th></th>\n",
       "      <th></th>\n",
       "      <th></th>\n",
       "    </tr>\n",
       "  </thead>\n",
       "  <tbody>\n",
       "    <tr>\n",
       "      <th>2021-04-17 17:14:06.566014</th>\n",
       "      <td>47.0</td>\n",
       "      <td>20.0</td>\n",
       "      <td>normal</td>\n",
       "      <td>/home/bird/opdat/cdp_stimuli/BG/CR1/CR1_BG_017...</td>\n",
       "      <td>R</td>\n",
       "      <td>R</td>\n",
       "      <td>True</td>\n",
       "      <td>0.703234</td>\n",
       "      <td>False</td>\n",
       "      <td>False</td>\n",
       "      <td>CR</td>\n",
       "      <td>CR1</td>\n",
       "      <td>0.875</td>\n",
       "      <td>3.0</td>\n",
       "      <td>False</td>\n",
       "      <td>False</td>\n",
       "      <td>True</td>\n",
       "      <td>B</td>\n",
       "      <td>G</td>\n",
       "      <td>17.0</td>\n",
       "      <td>0.8</td>\n",
       "      <td>0.2</td>\n",
       "      <td>/mnt/cube/RawData/Magpi/B1597/B1597_trialdata_...</td>\n",
       "      <td>NaN</td>\n",
       "    </tr>\n",
       "    <tr>\n",
       "      <th>2021-04-17 17:14:11.846466</th>\n",
       "      <td>47.0</td>\n",
       "      <td>21.0</td>\n",
       "      <td>normal</td>\n",
       "      <td>/home/bird/opdat/cdp_stimuli/AE/CR0/CR0_AE_028...</td>\n",
       "      <td>R</td>\n",
       "      <td>R</td>\n",
       "      <td>True</td>\n",
       "      <td>0.890750</td>\n",
       "      <td>False</td>\n",
       "      <td>False</td>\n",
       "      <td>CR</td>\n",
       "      <td>CR0</td>\n",
       "      <td>0.750</td>\n",
       "      <td>3.0</td>\n",
       "      <td>False</td>\n",
       "      <td>False</td>\n",
       "      <td>True</td>\n",
       "      <td>A</td>\n",
       "      <td>E</td>\n",
       "      <td>28.0</td>\n",
       "      <td>0.8</td>\n",
       "      <td>0.2</td>\n",
       "      <td>/mnt/cube/RawData/Magpi/B1597/B1597_trialdata_...</td>\n",
       "      <td>NaN</td>\n",
       "    </tr>\n",
       "    <tr>\n",
       "      <th>2021-04-17 17:14:17.669401</th>\n",
       "      <td>47.0</td>\n",
       "      <td>22.0</td>\n",
       "      <td>normal</td>\n",
       "      <td>/home/bird/opdat/cdp_stimuli/BE/CR1/CR1_BE_120...</td>\n",
       "      <td>L</td>\n",
       "      <td>L</td>\n",
       "      <td>True</td>\n",
       "      <td>0.516516</td>\n",
       "      <td>True</td>\n",
       "      <td>False</td>\n",
       "      <td>CR</td>\n",
       "      <td>CR1</td>\n",
       "      <td>0.875</td>\n",
       "      <td>3.0</td>\n",
       "      <td>False</td>\n",
       "      <td>False</td>\n",
       "      <td>True</td>\n",
       "      <td>B</td>\n",
       "      <td>E</td>\n",
       "      <td>120.0</td>\n",
       "      <td>0.8</td>\n",
       "      <td>0.2</td>\n",
       "      <td>/mnt/cube/RawData/Magpi/B1597/B1597_trialdata_...</td>\n",
       "      <td>NaN</td>\n",
       "    </tr>\n",
       "  </tbody>\n",
       "</table>\n",
       "</div>"
      ],
      "text/plain": [
       "                            session  index   type_  \\\n",
       "time                                                 \n",
       "2021-04-17 17:14:06.566014     47.0   20.0  normal   \n",
       "2021-04-17 17:14:11.846466     47.0   21.0  normal   \n",
       "2021-04-17 17:14:17.669401     47.0   22.0  normal   \n",
       "\n",
       "                                                                     stimulus  \\\n",
       "time                                                                            \n",
       "2021-04-17 17:14:06.566014  /home/bird/opdat/cdp_stimuli/BG/CR1/CR1_BG_017...   \n",
       "2021-04-17 17:14:11.846466  /home/bird/opdat/cdp_stimuli/AE/CR0/CR0_AE_028...   \n",
       "2021-04-17 17:14:17.669401  /home/bird/opdat/cdp_stimuli/BE/CR1/CR1_BE_120...   \n",
       "\n",
       "                           class_ response correct        rt  reward punish  \\\n",
       "time                                                                          \n",
       "2021-04-17 17:14:06.566014      R        R    True  0.703234   False  False   \n",
       "2021-04-17 17:14:11.846466      R        R    True  0.890750   False  False   \n",
       "2021-04-17 17:14:17.669401      L        L    True  0.516516    True  False   \n",
       "\n",
       "                           cue_class cue_id  cue_prob  num_stims flip_cues  \\\n",
       "time                                                                         \n",
       "2021-04-17 17:14:06.566014        CR    CR1     0.875        3.0     False   \n",
       "2021-04-17 17:14:11.846466        CR    CR0     0.750        3.0     False   \n",
       "2021-04-17 17:14:17.669401        CR    CR1     0.875        3.0     False   \n",
       "\n",
       "                           binary_choice cueing left_stim right_stim  \\\n",
       "time                                                                   \n",
       "2021-04-17 17:14:06.566014         False   True         B          G   \n",
       "2021-04-17 17:14:11.846466         False   True         A          E   \n",
       "2021-04-17 17:14:17.669401         False   True         B          E   \n",
       "\n",
       "                            interpolation_point  prob_cue  prob_cued_no_cue  \\\n",
       "time                                                                          \n",
       "2021-04-17 17:14:06.566014                 17.0       0.8               0.2   \n",
       "2021-04-17 17:14:11.846466                 28.0       0.8               0.2   \n",
       "2021-04-17 17:14:17.669401                120.0       0.8               0.2   \n",
       "\n",
       "                                                                    data_file  \\\n",
       "time                                                                            \n",
       "2021-04-17 17:14:06.566014  /mnt/cube/RawData/Magpi/B1597/B1597_trialdata_...   \n",
       "2021-04-17 17:14:11.846466  /mnt/cube/RawData/Magpi/B1597/B1597_trialdata_...   \n",
       "2021-04-17 17:14:17.669401  /mnt/cube/RawData/Magpi/B1597/B1597_trialdata_...   \n",
       "\n",
       "                           self_initiated  \n",
       "time                                       \n",
       "2021-04-17 17:14:06.566014            NaN  \n",
       "2021-04-17 17:14:11.846466            NaN  \n",
       "2021-04-17 17:14:17.669401            NaN  "
      ]
     },
     "execution_count": 131,
     "metadata": {},
     "output_type": "execute_result"
    }
   ],
   "source": [
    "behav_data[:3]"
   ]
  },
  {
   "cell_type": "code",
   "execution_count": 133,
   "metadata": {},
   "outputs": [
    {
     "data": {
      "text/plain": [
       "(array([ 1176,  2250,  3243,  3675,  4924,  4926,  8979,  9762, 10431,\n",
       "        10432, 11116, 11142, 11740, 11811, 17829, 18683, 18720, 19298,\n",
       "        24769, 25427, 25645, 27440, 30255, 34621, 34646, 35048, 35054,\n",
       "        35089, 35170, 35268, 39254, 39307, 40012, 40015, 40064, 41136,\n",
       "        41144, 41390, 41410, 42222, 42730, 45779, 46445, 46859, 46884,\n",
       "        46893, 47923, 47927, 50511, 50570, 52493, 53149, 55449, 55473,\n",
       "        55546, 55847, 55883, 56241, 57149, 59705, 62334, 62952, 63212,\n",
       "        64226, 65230, 65913, 65921, 65923, 67454, 73069, 73071, 73667,\n",
       "        73688, 74355, 74904, 76616, 80596, 83701, 85140, 87148, 87157,\n",
       "        87169, 87173, 87185, 87478, 87484, 87486, 87521, 87704, 87725,\n",
       "        87758, 87765, 87838, 88788, 88808, 89479, 91767, 91907, 91945,\n",
       "        91964, 93535, 93631, 94561, 97709, 97766, 97767, 99015, 99017,\n",
       "        99641, 99646, 99713]),)"
      ]
     },
     "execution_count": 133,
     "metadata": {},
     "output_type": "execute_result"
    }
   ],
   "source": [
    "np.where((behav_data.interpolation_point == 127) & (behav_data.left_stim == 'B')  & (behav_data.right_stim == 'F'))"
   ]
  },
  {
   "cell_type": "code",
   "execution_count": 135,
   "metadata": {},
   "outputs": [
    {
     "data": {
      "text/plain": [
       "111"
      ]
     },
     "execution_count": 135,
     "metadata": {},
     "output_type": "execute_result"
    }
   ],
   "source": [
    "len(np.where((behav_data.interpolation_point == 127) & (behav_data.left_stim == 'B')  & (behav_data.right_stim == 'F'))[0])"
   ]
  },
  {
   "cell_type": "code",
   "execution_count": 141,
   "metadata": {},
   "outputs": [],
   "source": [
    "n = 2250"
   ]
  },
  {
   "cell_type": "code",
   "execution_count": 143,
   "metadata": {},
   "outputs": [
    {
     "data": {
      "text/plain": [
       "(0.0, 4.266951000000001, 0.0, 48.0)"
      ]
     },
     "execution_count": 143,
     "metadata": {},
     "output_type": "execute_result"
    },
    {
     "data": {
      "image/png": "[encoded data removed]",
      "text/plain": [
       "<Figure size 1080x432 with 1 Axes>"
      ]
     },
     "metadata": {
      "needs_background": "light"
     },
     "output_type": "display_data"
    }
   ],
   "source": [
    "edgecolor = \"k\"\n",
    "linewidth = 3\n",
    "reward_time = 1.0\n",
    "punish_time = 1.0\n",
    "row_height = 2\n",
    "peck_width = 0.25\n",
    "cue_width = 1\n",
    "audio_width = 1\n",
    "max_width = 0\n",
    "nex = 24\n",
    "fig, ax = plt.subplots(figsize=(15, 6))\n",
    "for exi, (idx, row) in enumerate(behav_data[n:n+nex].iterrows()):\n",
    "\n",
    "    if row.cue_id in [\"CN\", \"CL0\", \"CL1\", \"CR0\", \"CR1\"]:\n",
    "        cur_time = 0\n",
    "    else:\n",
    "        cur_time = 1\n",
    "    # peck\n",
    "    rect = patches.Rectangle(\n",
    "        (cur_time, exi * row_height),\n",
    "        peck_width,\n",
    "        row_height,\n",
    "        linewidth=linewidth,\n",
    "        edgecolor=edgecolor,\n",
    "        facecolor=\"#cccccc\",\n",
    "    )\n",
    "    cur_time += peck_width\n",
    "    ax.add_patch(rect)\n",
    "\n",
    "    # cue\n",
    "    if row.cue_id in [\"CN\", \"CL0\", \"CL1\", \"CR0\", \"CR1\"]:\n",
    "        rect = patches.Rectangle(\n",
    "            (cur_time, exi * row_height),\n",
    "            1,\n",
    "            row_height,\n",
    "            linewidth=linewidth,\n",
    "            edgecolor=edgecolor,\n",
    "            facecolor=colors[\"cue_pal\"][row.cue_id],\n",
    "        )\n",
    "        cur_time += 1\n",
    "        ax.add_patch(rect)\n",
    "\n",
    "    # stim\n",
    "    rect = patches.Rectangle(\n",
    "        (cur_time, exi * row_height),\n",
    "        1,\n",
    "        row_height,\n",
    "        linewidth=linewidth,\n",
    "        edgecolor=edgecolor,\n",
    "        facecolor=color_grad[int(row.interpolation_point)],\n",
    "    )\n",
    "    cur_time += 1\n",
    "    ax.add_patch(rect)\n",
    "\n",
    "    # reaction time\n",
    "    rect = patches.Rectangle(\n",
    "        (cur_time, exi * row_height),\n",
    "        row.rt,\n",
    "        row_height,\n",
    "        linewidth=linewidth,\n",
    "        edgecolor=edgecolor,\n",
    "        facecolor=\"#eeeeee\",\n",
    "    )\n",
    "    cur_time += row.rt\n",
    "    ax.add_patch(rect)\n",
    "\n",
    "    # peck\n",
    "    rect = patches.Rectangle(\n",
    "        (cur_time, exi * row_height),\n",
    "        peck_width,\n",
    "        row_height,\n",
    "        linewidth=linewidth,\n",
    "        edgecolor=edgecolor,\n",
    "        facecolor=colors[\"reinforce\"][row.response][\"dark\"],\n",
    "    )\n",
    "    cur_time += peck_width\n",
    "    ax.add_patch(rect)\n",
    "\n",
    "    if row.reward:\n",
    "        rect = patches.Rectangle(\n",
    "            (cur_time, exi * row_height),\n",
    "            reward_time,\n",
    "            row_height,\n",
    "            linewidth=linewidth,\n",
    "            edgecolor=edgecolor,\n",
    "            facecolor=\"yellow\",\n",
    "        )\n",
    "        cur_time += reward_time\n",
    "        ax.add_patch(rect)\n",
    "\n",
    "    if row.punish:\n",
    "        rect = patches.Rectangle(\n",
    "            (cur_time, exi * row_height),\n",
    "            punish_time,\n",
    "            row_height,\n",
    "            linewidth=linewidth,\n",
    "            edge˜color=edgecolor,\n",
    "            facecolor=\"black\",\n",
    "        )\n",
    "        cur_time += punish_time\n",
    "        ax.add_patch(rect)\n",
    "\n",
    "    max_width = np.max([max_width, cur_time])\n",
    "\n",
    "\n",
    "ax.set_xlim([0, max_width])\n",
    "ax.set_ylim([0, (exi + 1) * row_height])\n",
    "ax.axis(\"off\")"
   ]
  },
  {
   "cell_type": "code",
   "execution_count": 25,
   "metadata": {},
   "outputs": [
    {
     "data": {
      "text/plain": [
       "'CL1'"
      ]
     },
     "execution_count": 25,
     "metadata": {},
     "output_type": "execute_result"
    }
   ],
   "source": [
    "row.cue_id"
   ]
  },
  {
   "cell_type": "code",
   "execution_count": null,
   "metadata": {},
   "outputs": [],
   "source": []
  }
 ],
 "metadata": {
  "kernelspec": {
   "display_name": "cdcp_paper",
   "language": "python",
   "name": "cdcp_paper"
  },
  "language_info": {
   "codemirror_mode": {
    "name": "ipython",
    "version": 3
   },
   "file_extension": ".py",
   "mimetype": "text/x-python",
   "name": "python",
   "nbconvert_exporter": "python",
   "pygments_lexer": "ipython3",
   "version": "3.7.7"
  }
 },
 "nbformat": 4,
 "nbformat_minor": 4
}
