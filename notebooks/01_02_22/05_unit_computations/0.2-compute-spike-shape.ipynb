{
 "cells": [
  {
   "cell_type": "code",
   "execution_count": 1,
   "metadata": {
    "ExecuteTime": {
     "end_time": "2021-11-05T18:40:18.693560Z",
     "start_time": "2021-11-05T18:40:18.676809Z"
    }
   },
   "outputs": [],
   "source": [
    "%load_ext autoreload\n",
    "%autoreload 2"
   ]
  },
  {
   "cell_type": "code",
   "execution_count": 2,
   "metadata": {
    "ExecuteTime": {
     "end_time": "2021-11-05T18:40:18.705831Z",
     "start_time": "2021-11-05T18:40:18.694724Z"
    }
   },
   "outputs": [
    {
     "data": {
      "text/plain": [
       "1"
      ]
     },
     "execution_count": 2,
     "metadata": {},
     "output_type": "execute_result"
    }
   ],
   "source": [
    "import os\n",
    "# set to be lower priority\n",
    "os.nice(1) "
   ]
  },
  {
   "cell_type": "code",
   "execution_count": 3,
   "metadata": {
    "ExecuteTime": {
     "end_time": "2021-11-05T18:40:19.472428Z",
     "start_time": "2021-11-05T18:40:18.706767Z"
    }
   },
   "outputs": [
    {
     "name": "stderr",
     "output_type": "stream",
     "text": [
      "/mnt/cube/tsainbur/conda_envs/cdcp_paper_cube/lib/python3.7/site-packages/ipykernel_launcher.py:7: TqdmExperimentalWarning: Using `tqdm.autonotebook.tqdm` in notebook mode. Use `tqdm.tqdm` instead to force console mode (e.g. in jupyter console)\n",
      "  import sys\n"
     ]
    }
   ],
   "source": [
    "import pandas  as pd\n",
    "from cdcp.paths import DATA_DIR, ensure_dir\n",
    "import numpy as np\n",
    "import matplotlib.pyplot as plt\n",
    "import datetime\n",
    "from pathlib2 import Path\n",
    "from tqdm.autonotebook import tqdm\n",
    "pd.set_option('display.max_columns', 500)\n",
    "from joblib import Parallel, delayed"
   ]
  },
  {
   "cell_type": "code",
   "execution_count": 4,
   "metadata": {
    "ExecuteTime": {
     "end_time": "2021-11-05T18:40:19.494969Z",
     "start_time": "2021-11-05T18:40:19.473974Z"
    }
   },
   "outputs": [],
   "source": [
    "from datetime import datetime"
   ]
  },
  {
   "cell_type": "code",
   "execution_count": 5,
   "metadata": {
    "ExecuteTime": {
     "end_time": "2021-11-05T18:40:21.310051Z",
     "start_time": "2021-11-05T18:40:19.496702Z"
    }
   },
   "outputs": [],
   "source": [
    "from cdcp.spiketrain_analysis.unit_statistics import get_unit_spike_trains"
   ]
  },
  {
   "cell_type": "code",
   "execution_count": 6,
   "metadata": {
    "ExecuteTime": {
     "end_time": "2021-11-05T18:40:21.342527Z",
     "start_time": "2021-11-05T18:40:21.314888Z"
    }
   },
   "outputs": [],
   "source": [
    "from cdcp.spiketrain_analysis.unit_stats.unit_shape_and_stats import (\n",
    "    compute_unit_shape\n",
    ")"
   ]
  },
  {
   "cell_type": "code",
   "execution_count": 7,
   "metadata": {
    "ExecuteTime": {
     "end_time": "2021-11-05T18:40:21.369082Z",
     "start_time": "2021-11-05T18:40:21.345386Z"
    }
   },
   "outputs": [
    {
     "data": {
      "text/plain": [
       "'2021-10-23_23-02-31_846685'"
      ]
     },
     "execution_count": 7,
     "metadata": {},
     "output_type": "execute_result"
    }
   ],
   "source": [
    "# \"2021-10-07_16-05-58_796914\" '2021-10-06_13-30-08_899062' '2021-10-01_17-02-56_744915' \n",
    "statistics_timestamp = '2021-10-23_23-02-31_846685'# datetime.now().strftime(\"%Y-%m-%d_%H-%M-%S_%f\")#\n",
    "statistics_timestamp"
   ]
  },
  {
   "cell_type": "code",
   "execution_count": 8,
   "metadata": {
    "ExecuteTime": {
     "end_time": "2021-11-05T18:40:21.396353Z",
     "start_time": "2021-11-05T18:40:21.371098Z"
    }
   },
   "outputs": [],
   "source": [
    "birds = [\n",
    "    ('B1597', '2021-05-14_12-40-20_423998', 'kilosort2_5'),\n",
    "    ('B1188', '2021-05-31_18-52-29_558216', 'kilosort2_5'),\n",
    "    ('B1595', '2021-07-10_16-42-47_090257', 'kilosort2'),\n",
    "    ('B1276', '2021-07-14_11-14-02_257025', 'kilosort2'),\n",
    "    ('B1426', '2021-07-14_11-29-39_657273', 'kilosort2'),\n",
    "    ('B1432', '2021-06-01_15-14-38_561892', 'kilosort2_5'),\n",
    "    ('B1170', '2021-06-01_21-01-26_519005', 'kilosort2_5'),\n",
    "    ('B1244', '2021-07-14_12-57-45_546674', 'kilosort2'),\n",
    "    ('B1593', '2021-06-28_18-13-24_826008', 'kilosort2_5'),\n",
    "    ('B1248', '2021-07-03_18-08-01_063431', 'kilosort2_5'),\n",
    "    # acute\n",
    "    ('B1279', '2021-04-12_16-27-07_289527', 'kilosort2_5'),\n",
    "    ('B1500', '2021-08-27_09-24-48_680961', 'kilosort2_5'),\n",
    "    ('B1239', '2021-05-17_22-18-51_557635', 'kilosort2'),\n",
    "    ('B1459', '2021-08-26_21-21-12_755614', 'kilosort2_5'),\n",
    "]"
   ]
  },
  {
   "cell_type": "code",
   "execution_count": 9,
   "metadata": {
    "ExecuteTime": {
     "end_time": "2021-11-05T18:40:21.415933Z",
     "start_time": "2021-11-05T18:40:21.397526Z"
    }
   },
   "outputs": [],
   "source": [
    "acute_birds = ['B1279', 'B1500', 'B1239', 'B1459']"
   ]
  },
  {
   "cell_type": "code",
   "execution_count": 10,
   "metadata": {
    "ExecuteTime": {
     "end_time": "2021-11-05T18:40:21.434238Z",
     "start_time": "2021-11-05T18:40:21.416978Z"
    }
   },
   "outputs": [],
   "source": [
    "min_playbacks = 1000"
   ]
  },
  {
   "cell_type": "markdown",
   "metadata": {},
   "source": [
    "### Compute spike vectors and statistics"
   ]
  },
  {
   "cell_type": "code",
   "execution_count": 11,
   "metadata": {
    "ExecuteTime": {
     "end_time": "2021-11-05T18:40:21.452569Z",
     "start_time": "2021-11-05T18:40:21.435375Z"
    }
   },
   "outputs": [],
   "source": [
    "identifier = \"spike_shape\""
   ]
  },
  {
   "cell_type": "code",
   "execution_count": 12,
   "metadata": {
    "ExecuteTime": {
     "end_time": "2021-11-05T18:40:21.474648Z",
     "start_time": "2021-11-05T18:40:21.453591Z"
    }
   },
   "outputs": [],
   "source": [
    "def get_unit_statistic(\n",
    "    unit_to_analyze,\n",
    "    spikesorting_folder,\n",
    "    statistics_timestamp,\n",
    "    unit_features,\n",
    "    identifier=identifier,\n",
    "    recompute=False,\n",
    "    parallel=True,\n",
    "    save=True,\n",
    "    plot=False,\n",
    "):\n",
    "    def run():\n",
    "\n",
    "        unit_series_save_loc = (\n",
    "            spikesorting_folder\n",
    "            / \"unit_statistics\"\n",
    "            / statistics_timestamp\n",
    "            / identifier\n",
    "            / \"{}.pickle\".format(unit_to_analyze.cluster_id)\n",
    "        )\n",
    "\n",
    "        # check if we need to run everything\n",
    "        if unit_series_save_loc.exists() and (recompute is False):\n",
    "            print(\"neurometric already exists\")\n",
    "            return\n",
    "\n",
    "        # make sure folder exists\n",
    "        ensure_dir(unit_series_save_loc)\n",
    "\n",
    "        unit_series_list = []\n",
    "        # load spike trains\n",
    "\n",
    "        # how self-similar the unit's activity remains over time\n",
    "        statistic_series = compute_unit_shape(\n",
    "            unit_to_analyze.cluster_id, unit_features, unit_to_analyze\n",
    "        )\n",
    "        if statistic_series is not None:\n",
    "            unit_series_list.append(statistic_series)\n",
    "\n",
    "        # skip if no data is available\n",
    "        if len(unit_series_list) == 0:\n",
    "            return\n",
    "\n",
    "        # save final row\n",
    "        unit_series = pd.concat(unit_series_list)\n",
    "\n",
    "        if save:\n",
    "            unit_series.to_pickle(unit_series_save_loc)\n",
    "\n",
    "        return unit_series\n",
    "\n",
    "    if parallel == False:\n",
    "        run()\n",
    "    else:\n",
    "        try:\n",
    "            run()\n",
    "        except Exception as e:\n",
    "            with open(\"error_log.txt\", \"w\") as text_file:\n",
    "                text_file.write(str(e))\n",
    "            raise ValueError(unit_to_analyze.cluster_id)"
   ]
  },
  {
   "cell_type": "code",
   "execution_count": 13,
   "metadata": {
    "ExecuteTime": {
     "end_time": "2021-11-05T18:44:42.695497Z",
     "start_time": "2021-11-05T18:40:21.475795Z"
    },
    "scrolled": true
   },
   "outputs": [
    {
     "data": {
      "application/vnd.jupyter.widget-view+json": {
       "model_id": "6359b3f51c874f808744e5c5fb7066d5",
       "version_major": 2,
       "version_minor": 0
      },
      "text/plain": [
       "  0%|          | 0/14 [00:00<?, ?it/s]"
      ]
     },
     "metadata": {},
     "output_type": "display_data"
    },
    {
     "data": {
      "image/png": "[encoded data removed]",
      "text/plain": [
       "<Figure size 720x144 with 2 Axes>"
      ]
     },
     "metadata": {
      "needs_background": "light"
     },
     "output_type": "display_data"
    },
    {
     "name": "stdout",
     "output_type": "stream",
     "text": [
      "B1597 total # merged units: 6750\n"
     ]
    },
    {
     "data": {
      "application/vnd.jupyter.widget-view+json": {
       "model_id": "4bb40bb7e3b34c0f84392641ca70cd09",
       "version_major": 2,
       "version_minor": 0
      },
      "text/plain": [
       "unit:   0%|          | 0/6750 [00:00<?, ?it/s]"
      ]
     },
     "metadata": {},
     "output_type": "display_data"
    },
    {
     "name": "stderr",
     "output_type": "stream",
     "text": [
      "[Parallel(n_jobs=1)]: Using backend SequentialBackend with 1 concurrent workers.\n",
      "[Parallel(n_jobs=1)]: Done   1 out of   1 | elapsed:    0.2s remaining:    0.0s\n",
      "[Parallel(n_jobs=1)]: Done   2 out of   2 | elapsed:    0.3s remaining:    0.0s\n",
      "[Parallel(n_jobs=1)]: Done   3 out of   3 | elapsed:    0.3s remaining:    0.0s\n",
      "[Parallel(n_jobs=1)]: Done   4 out of   4 | elapsed:    0.4s remaining:    0.0s\n",
      "[Parallel(n_jobs=1)]: Done   5 out of   5 | elapsed:    0.5s remaining:    0.0s\n",
      "[Parallel(n_jobs=1)]: Done   6 out of   6 | elapsed:    0.6s remaining:    0.0s\n",
      "[Parallel(n_jobs=1)]: Done   7 out of   7 | elapsed:    0.6s remaining:    0.0s\n",
      "[Parallel(n_jobs=1)]: Done   8 out of   8 | elapsed:    0.7s remaining:    0.0s\n",
      "[Parallel(n_jobs=1)]: Done   9 out of   9 | elapsed:    0.8s remaining:    0.0s\n",
      "/mnt/cube/tsainbur/Projects/github_repos/cdcp_chronic/cdcp/spiketrain_analysis/unit_stats/unit_shape_and_stats.py:65: RuntimeWarning: Mean of empty slice\n",
      "  \"full_width\": np.nanmean(spike_full_widths),\n",
      "[Parallel(n_jobs=1)]: Done 6750 out of 6750 | elapsed:   49.6s finished\n"
     ]
    },
    {
     "data": {
      "image/png": "[encoded data removed]",
      "text/plain": [
       "<Figure size 720x144 with 2 Axes>"
      ]
     },
     "metadata": {
      "needs_background": "light"
     },
     "output_type": "display_data"
    },
    {
     "name": "stdout",
     "output_type": "stream",
     "text": [
      "B1188 total # merged units: 603\n"
     ]
    },
    {
     "data": {
      "application/vnd.jupyter.widget-view+json": {
       "model_id": "c1f824773a1d4c0eac70d0f894f00664",
       "version_major": 2,
       "version_minor": 0
      },
      "text/plain": [
       "unit:   0%|          | 0/603 [00:00<?, ?it/s]"
      ]
     },
     "metadata": {},
     "output_type": "display_data"
    },
    {
     "name": "stderr",
     "output_type": "stream",
     "text": [
      "[Parallel(n_jobs=1)]: Using backend SequentialBackend with 1 concurrent workers.\n",
      "[Parallel(n_jobs=1)]: Done   1 out of   1 | elapsed:    0.0s remaining:    0.0s\n",
      "[Parallel(n_jobs=1)]: Done   2 out of   2 | elapsed:    0.0s remaining:    0.0s\n",
      "[Parallel(n_jobs=1)]: Done   3 out of   3 | elapsed:    0.0s remaining:    0.0s\n",
      "[Parallel(n_jobs=1)]: Done   4 out of   4 | elapsed:    0.0s remaining:    0.0s\n",
      "[Parallel(n_jobs=1)]: Done   5 out of   5 | elapsed:    0.0s remaining:    0.0s\n",
      "[Parallel(n_jobs=1)]: Done   6 out of   6 | elapsed:    0.0s remaining:    0.0s\n",
      "[Parallel(n_jobs=1)]: Done   7 out of   7 | elapsed:    0.0s remaining:    0.0s\n",
      "[Parallel(n_jobs=1)]: Done   8 out of   8 | elapsed:    0.1s remaining:    0.0s\n",
      "[Parallel(n_jobs=1)]: Done   9 out of   9 | elapsed:    0.1s remaining:    0.0s\n",
      "[Parallel(n_jobs=1)]: Done 603 out of 603 | elapsed:    2.5s finished\n"
     ]
    },
    {
     "data": {
      "image/png": "[encoded data removed]",
      "text/plain": [
       "<Figure size 720x144 with 2 Axes>"
      ]
     },
     "metadata": {
      "needs_background": "light"
     },
     "output_type": "display_data"
    },
    {
     "name": "stdout",
     "output_type": "stream",
     "text": [
      "B1595 total # merged units: 242\n"
     ]
    },
    {
     "data": {
      "application/vnd.jupyter.widget-view+json": {
       "model_id": "104bd507e0114948bcb438e3bdea1f9f",
       "version_major": 2,
       "version_minor": 0
      },
      "text/plain": [
       "unit:   0%|          | 0/242 [00:00<?, ?it/s]"
      ]
     },
     "metadata": {},
     "output_type": "display_data"
    },
    {
     "name": "stderr",
     "output_type": "stream",
     "text": [
      "[Parallel(n_jobs=1)]: Using backend SequentialBackend with 1 concurrent workers.\n",
      "[Parallel(n_jobs=1)]: Done   1 out of   1 | elapsed:    0.0s remaining:    0.0s\n",
      "[Parallel(n_jobs=1)]: Done   2 out of   2 | elapsed:    0.0s remaining:    0.0s\n",
      "[Parallel(n_jobs=1)]: Done   3 out of   3 | elapsed:    0.0s remaining:    0.0s\n",
      "[Parallel(n_jobs=1)]: Done   4 out of   4 | elapsed:    0.0s remaining:    0.0s\n",
      "[Parallel(n_jobs=1)]: Done   5 out of   5 | elapsed:    0.0s remaining:    0.0s\n",
      "[Parallel(n_jobs=1)]: Done   6 out of   6 | elapsed:    0.0s remaining:    0.0s\n",
      "[Parallel(n_jobs=1)]: Done   7 out of   7 | elapsed:    0.0s remaining:    0.0s\n",
      "[Parallel(n_jobs=1)]: Done   8 out of   8 | elapsed:    0.0s remaining:    0.0s\n",
      "[Parallel(n_jobs=1)]: Done   9 out of   9 | elapsed:    0.0s remaining:    0.0s\n",
      "/mnt/cube/tsainbur/Projects/github_repos/cdcp_chronic/cdcp/spiketrain_analysis/unit_stats/unit_shape_and_stats.py:65: RuntimeWarning: Mean of empty slice\n",
      "  \"full_width\": np.nanmean(spike_full_widths),\n",
      "[Parallel(n_jobs=1)]: Done 242 out of 242 | elapsed:    1.0s finished\n"
     ]
    },
    {
     "data": {
      "image/png": "[encoded data removed]",
      "text/plain": [
       "<Figure size 720x144 with 2 Axes>"
      ]
     },
     "metadata": {
      "needs_background": "light"
     },
     "output_type": "display_data"
    },
    {
     "name": "stdout",
     "output_type": "stream",
     "text": [
      "B1276 total # merged units: 46\n"
     ]
    },
    {
     "data": {
      "application/vnd.jupyter.widget-view+json": {
       "model_id": "c367a9528258496a91177d86b37f95e0",
       "version_major": 2,
       "version_minor": 0
      },
      "text/plain": [
       "unit:   0%|          | 0/46 [00:00<?, ?it/s]"
      ]
     },
     "metadata": {},
     "output_type": "display_data"
    },
    {
     "name": "stderr",
     "output_type": "stream",
     "text": [
      "[Parallel(n_jobs=1)]: Using backend SequentialBackend with 1 concurrent workers.\n",
      "[Parallel(n_jobs=1)]: Done   1 out of   1 | elapsed:    0.0s remaining:    0.0s\n",
      "[Parallel(n_jobs=1)]: Done   2 out of   2 | elapsed:    0.0s remaining:    0.0s\n",
      "[Parallel(n_jobs=1)]: Done   3 out of   3 | elapsed:    0.0s remaining:    0.0s\n",
      "[Parallel(n_jobs=1)]: Done   4 out of   4 | elapsed:    0.0s remaining:    0.0s\n",
      "[Parallel(n_jobs=1)]: Done   5 out of   5 | elapsed:    0.0s remaining:    0.0s\n",
      "[Parallel(n_jobs=1)]: Done   6 out of   6 | elapsed:    0.0s remaining:    0.0s\n",
      "[Parallel(n_jobs=1)]: Done   7 out of   7 | elapsed:    0.0s remaining:    0.0s\n",
      "[Parallel(n_jobs=1)]: Done   8 out of   8 | elapsed:    0.0s remaining:    0.0s\n",
      "[Parallel(n_jobs=1)]: Done   9 out of   9 | elapsed:    0.0s remaining:    0.0s\n",
      "[Parallel(n_jobs=1)]: Done  46 out of  46 | elapsed:    0.2s finished\n"
     ]
    },
    {
     "data": {
      "image/png": "[encoded data removed]",
      "text/plain": [
       "<Figure size 720x144 with 2 Axes>"
      ]
     },
     "metadata": {
      "needs_background": "light"
     },
     "output_type": "display_data"
    },
    {
     "name": "stdout",
     "output_type": "stream",
     "text": [
      "B1426 total # merged units: 107\n"
     ]
    },
    {
     "data": {
      "application/vnd.jupyter.widget-view+json": {
       "model_id": "9688947c9a75475e80726fe54e4d3752",
       "version_major": 2,
       "version_minor": 0
      },
      "text/plain": [
       "unit:   0%|          | 0/107 [00:00<?, ?it/s]"
      ]
     },
     "metadata": {},
     "output_type": "display_data"
    },
    {
     "name": "stderr",
     "output_type": "stream",
     "text": [
      "[Parallel(n_jobs=1)]: Using backend SequentialBackend with 1 concurrent workers.\n",
      "[Parallel(n_jobs=1)]: Done   1 out of   1 | elapsed:    0.0s remaining:    0.0s\n",
      "[Parallel(n_jobs=1)]: Done   2 out of   2 | elapsed:    0.0s remaining:    0.0s\n",
      "[Parallel(n_jobs=1)]: Done   3 out of   3 | elapsed:    0.0s remaining:    0.0s\n",
      "[Parallel(n_jobs=1)]: Done   4 out of   4 | elapsed:    0.0s remaining:    0.0s\n",
      "[Parallel(n_jobs=1)]: Done   5 out of   5 | elapsed:    0.0s remaining:    0.0s\n",
      "[Parallel(n_jobs=1)]: Done   6 out of   6 | elapsed:    0.0s remaining:    0.0s\n",
      "[Parallel(n_jobs=1)]: Done   7 out of   7 | elapsed:    0.0s remaining:    0.0s\n",
      "[Parallel(n_jobs=1)]: Done   8 out of   8 | elapsed:    0.0s remaining:    0.0s\n",
      "[Parallel(n_jobs=1)]: Done   9 out of   9 | elapsed:    0.0s remaining:    0.0s\n",
      "/mnt/cube/tsainbur/Projects/github_repos/cdcp_chronic/cdcp/spiketrain_analysis/unit_stats/unit_shape_and_stats.py:65: RuntimeWarning: Mean of empty slice\n",
      "  \"full_width\": np.nanmean(spike_full_widths),\n",
      "[Parallel(n_jobs=1)]: Done 107 out of 107 | elapsed:    0.4s finished\n"
     ]
    },
    {
     "data": {
      "image/png": "[encoded data removed]",
      "text/plain": [
       "<Figure size 720x144 with 2 Axes>"
      ]
     },
     "metadata": {
      "needs_background": "light"
     },
     "output_type": "display_data"
    },
    {
     "name": "stdout",
     "output_type": "stream",
     "text": [
      "B1432 total # merged units: 2198\n"
     ]
    },
    {
     "data": {
      "application/vnd.jupyter.widget-view+json": {
       "model_id": "baa40ca5eb884d7d91a79123b4131080",
       "version_major": 2,
       "version_minor": 0
      },
      "text/plain": [
       "unit:   0%|          | 0/2198 [00:00<?, ?it/s]"
      ]
     },
     "metadata": {},
     "output_type": "display_data"
    },
    {
     "name": "stderr",
     "output_type": "stream",
     "text": [
      "[Parallel(n_jobs=1)]: Using backend SequentialBackend with 1 concurrent workers.\n",
      "[Parallel(n_jobs=1)]: Done   1 out of   1 | elapsed:    0.0s remaining:    0.0s\n",
      "[Parallel(n_jobs=1)]: Done   2 out of   2 | elapsed:    0.0s remaining:    0.0s\n",
      "[Parallel(n_jobs=1)]: Done   3 out of   3 | elapsed:    0.1s remaining:    0.0s\n",
      "[Parallel(n_jobs=1)]: Done   4 out of   4 | elapsed:    0.1s remaining:    0.0s\n",
      "[Parallel(n_jobs=1)]: Done   5 out of   5 | elapsed:    0.1s remaining:    0.0s\n",
      "[Parallel(n_jobs=1)]: Done   6 out of   6 | elapsed:    0.1s remaining:    0.0s\n",
      "[Parallel(n_jobs=1)]: Done   7 out of   7 | elapsed:    0.1s remaining:    0.0s\n",
      "[Parallel(n_jobs=1)]: Done   8 out of   8 | elapsed:    0.1s remaining:    0.0s\n",
      "[Parallel(n_jobs=1)]: Done   9 out of   9 | elapsed:    0.1s remaining:    0.0s\n",
      "/mnt/cube/tsainbur/Projects/github_repos/cdcp_chronic/cdcp/spiketrain_analysis/unit_stats/unit_shape_and_stats.py:65: RuntimeWarning: Mean of empty slice\n",
      "  \"full_width\": np.nanmean(spike_full_widths),\n",
      "[Parallel(n_jobs=1)]: Done 2198 out of 2198 | elapsed:   10.4s finished\n"
     ]
    },
    {
     "data": {
      "image/png": "[encoded data removed]",
      "text/plain": [
       "<Figure size 720x144 with 2 Axes>"
      ]
     },
     "metadata": {
      "needs_background": "light"
     },
     "output_type": "display_data"
    },
    {
     "name": "stdout",
     "output_type": "stream",
     "text": [
      "B1170 total # merged units: 1281\n"
     ]
    },
    {
     "data": {
      "application/vnd.jupyter.widget-view+json": {
       "model_id": "2df49d94c11442a0bd93b38fde148e6a",
       "version_major": 2,
       "version_minor": 0
      },
      "text/plain": [
       "unit:   0%|          | 0/1281 [00:00<?, ?it/s]"
      ]
     },
     "metadata": {},
     "output_type": "display_data"
    },
    {
     "name": "stderr",
     "output_type": "stream",
     "text": [
      "[Parallel(n_jobs=1)]: Using backend SequentialBackend with 1 concurrent workers.\n",
      "[Parallel(n_jobs=1)]: Done   1 out of   1 | elapsed:    0.0s remaining:    0.0s\n",
      "[Parallel(n_jobs=1)]: Done   2 out of   2 | elapsed:    0.0s remaining:    0.0s\n",
      "[Parallel(n_jobs=1)]: Done   3 out of   3 | elapsed:    0.0s remaining:    0.0s\n",
      "[Parallel(n_jobs=1)]: Done   4 out of   4 | elapsed:    0.1s remaining:    0.0s\n",
      "[Parallel(n_jobs=1)]: Done   5 out of   5 | elapsed:    0.1s remaining:    0.0s\n",
      "[Parallel(n_jobs=1)]: Done   6 out of   6 | elapsed:    0.1s remaining:    0.0s\n",
      "[Parallel(n_jobs=1)]: Done   7 out of   7 | elapsed:    0.1s remaining:    0.0s\n",
      "[Parallel(n_jobs=1)]: Done   8 out of   8 | elapsed:    0.1s remaining:    0.0s\n",
      "[Parallel(n_jobs=1)]: Done   9 out of   9 | elapsed:    0.1s remaining:    0.0s\n",
      "[Parallel(n_jobs=1)]: Done 1281 out of 1281 | elapsed:    5.5s finished\n"
     ]
    },
    {
     "data": {
      "image/png": "[encoded data removed]",
      "text/plain": [
       "<Figure size 720x144 with 2 Axes>"
      ]
     },
     "metadata": {
      "needs_background": "light"
     },
     "output_type": "display_data"
    },
    {
     "name": "stdout",
     "output_type": "stream",
     "text": [
      "B1244 total # merged units: 141\n"
     ]
    },
    {
     "data": {
      "application/vnd.jupyter.widget-view+json": {
       "model_id": "f2c642b98c334415a2201f2871ef601d",
       "version_major": 2,
       "version_minor": 0
      },
      "text/plain": [
       "unit:   0%|          | 0/141 [00:00<?, ?it/s]"
      ]
     },
     "metadata": {},
     "output_type": "display_data"
    },
    {
     "name": "stderr",
     "output_type": "stream",
     "text": [
      "[Parallel(n_jobs=1)]: Using backend SequentialBackend with 1 concurrent workers.\n",
      "[Parallel(n_jobs=1)]: Done   1 out of   1 | elapsed:    0.0s remaining:    0.0s\n",
      "[Parallel(n_jobs=1)]: Done   2 out of   2 | elapsed:    0.0s remaining:    0.0s\n",
      "[Parallel(n_jobs=1)]: Done   3 out of   3 | elapsed:    0.0s remaining:    0.0s\n",
      "[Parallel(n_jobs=1)]: Done   4 out of   4 | elapsed:    0.0s remaining:    0.0s\n",
      "[Parallel(n_jobs=1)]: Done   5 out of   5 | elapsed:    0.0s remaining:    0.0s\n",
      "[Parallel(n_jobs=1)]: Done   6 out of   6 | elapsed:    0.0s remaining:    0.0s\n",
      "[Parallel(n_jobs=1)]: Done   7 out of   7 | elapsed:    0.0s remaining:    0.0s\n",
      "[Parallel(n_jobs=1)]: Done   8 out of   8 | elapsed:    0.0s remaining:    0.0s\n",
      "[Parallel(n_jobs=1)]: Done   9 out of   9 | elapsed:    0.1s remaining:    0.0s\n",
      "[Parallel(n_jobs=1)]: Done 141 out of 141 | elapsed:    0.6s finished\n"
     ]
    },
    {
     "data": {
      "image/png": "[encoded data removed]",
      "text/plain": [
       "<Figure size 720x144 with 2 Axes>"
      ]
     },
     "metadata": {
      "needs_background": "light"
     },
     "output_type": "display_data"
    },
    {
     "name": "stdout",
     "output_type": "stream",
     "text": [
      "B1593 total # merged units: 7966\n"
     ]
    },
    {
     "data": {
      "application/vnd.jupyter.widget-view+json": {
       "model_id": "6b148449f7d04ea0a8854e056ab7985e",
       "version_major": 2,
       "version_minor": 0
      },
      "text/plain": [
       "unit:   0%|          | 0/7966 [00:00<?, ?it/s]"
      ]
     },
     "metadata": {},
     "output_type": "display_data"
    },
    {
     "name": "stderr",
     "output_type": "stream",
     "text": [
      "[Parallel(n_jobs=1)]: Using backend SequentialBackend with 1 concurrent workers.\n",
      "[Parallel(n_jobs=1)]: Done   1 out of   1 | elapsed:    0.1s remaining:    0.0s\n",
      "[Parallel(n_jobs=1)]: Done   2 out of   2 | elapsed:    0.2s remaining:    0.0s\n",
      "[Parallel(n_jobs=1)]: Done   3 out of   3 | elapsed:    0.3s remaining:    0.0s\n",
      "[Parallel(n_jobs=1)]: Done   4 out of   4 | elapsed:    0.4s remaining:    0.0s\n",
      "[Parallel(n_jobs=1)]: Done   5 out of   5 | elapsed:    0.4s remaining:    0.0s\n",
      "[Parallel(n_jobs=1)]: Done   6 out of   6 | elapsed:    0.5s remaining:    0.0s\n",
      "[Parallel(n_jobs=1)]: Done   7 out of   7 | elapsed:    0.6s remaining:    0.0s\n",
      "[Parallel(n_jobs=1)]: Done   8 out of   8 | elapsed:    0.6s remaining:    0.0s\n",
      "[Parallel(n_jobs=1)]: Done   9 out of   9 | elapsed:    0.7s remaining:    0.0s\n",
      "/mnt/cube/tsainbur/Projects/github_repos/cdcp_chronic/cdcp/spiketrain_analysis/unit_stats/unit_shape_and_stats.py:65: RuntimeWarning: Mean of empty slice\n",
      "  \"full_width\": np.nanmean(spike_full_widths),\n",
      "[Parallel(n_jobs=1)]: Done 7966 out of 7966 | elapsed:  1.2min finished\n"
     ]
    },
    {
     "data": {
      "image/png": "[encoded data removed]",
      "text/plain": [
       "<Figure size 720x144 with 2 Axes>"
      ]
     },
     "metadata": {
      "needs_background": "light"
     },
     "output_type": "display_data"
    },
    {
     "name": "stdout",
     "output_type": "stream",
     "text": [
      "B1248 total # merged units: 8698\n"
     ]
    },
    {
     "data": {
      "application/vnd.jupyter.widget-view+json": {
       "model_id": "eaeeba677f3c4c30b6cd9b4d531cb844",
       "version_major": 2,
       "version_minor": 0
      },
      "text/plain": [
       "unit:   0%|          | 0/8698 [00:00<?, ?it/s]"
      ]
     },
     "metadata": {},
     "output_type": "display_data"
    },
    {
     "name": "stderr",
     "output_type": "stream",
     "text": [
      "[Parallel(n_jobs=1)]: Using backend SequentialBackend with 1 concurrent workers.\n",
      "[Parallel(n_jobs=1)]: Done   1 out of   1 | elapsed:    0.1s remaining:    0.0s\n",
      "[Parallel(n_jobs=1)]: Done   2 out of   2 | elapsed:    0.1s remaining:    0.0s\n",
      "[Parallel(n_jobs=1)]: Done   3 out of   3 | elapsed:    0.2s remaining:    0.0s\n",
      "[Parallel(n_jobs=1)]: Done   4 out of   4 | elapsed:    0.2s remaining:    0.0s\n",
      "[Parallel(n_jobs=1)]: Done   5 out of   5 | elapsed:    0.3s remaining:    0.0s\n",
      "[Parallel(n_jobs=1)]: Done   6 out of   6 | elapsed:    0.3s remaining:    0.0s\n",
      "[Parallel(n_jobs=1)]: Done   7 out of   7 | elapsed:    0.3s remaining:    0.0s\n",
      "[Parallel(n_jobs=1)]: Done   8 out of   8 | elapsed:    0.4s remaining:    0.0s\n",
      "[Parallel(n_jobs=1)]: Done   9 out of   9 | elapsed:    0.4s remaining:    0.0s\n",
      "/mnt/cube/tsainbur/Projects/github_repos/cdcp_chronic/cdcp/spiketrain_analysis/unit_stats/unit_shape_and_stats.py:65: RuntimeWarning: Mean of empty slice\n",
      "  \"full_width\": np.nanmean(spike_full_widths),\n",
      "[Parallel(n_jobs=1)]: Done 8698 out of 8698 | elapsed:  1.1min finished\n"
     ]
    },
    {
     "data": {
      "image/png": "[encoded data removed]",
      "text/plain": [
       "<Figure size 720x144 with 2 Axes>"
      ]
     },
     "metadata": {
      "needs_background": "light"
     },
     "output_type": "display_data"
    },
    {
     "name": "stdout",
     "output_type": "stream",
     "text": [
      "B1279 total # merged units: 827\n"
     ]
    },
    {
     "data": {
      "application/vnd.jupyter.widget-view+json": {
       "model_id": "fc55beeb147f4979b9276c8e48008e23",
       "version_major": 2,
       "version_minor": 0
      },
      "text/plain": [
       "unit:   0%|          | 0/827 [00:00<?, ?it/s]"
      ]
     },
     "metadata": {},
     "output_type": "display_data"
    },
    {
     "name": "stderr",
     "output_type": "stream",
     "text": [
      "[Parallel(n_jobs=1)]: Using backend SequentialBackend with 1 concurrent workers.\n",
      "[Parallel(n_jobs=1)]: Done   1 out of   1 | elapsed:    0.0s remaining:    0.0s\n",
      "[Parallel(n_jobs=1)]: Done   2 out of   2 | elapsed:    0.0s remaining:    0.0s\n",
      "[Parallel(n_jobs=1)]: Done   3 out of   3 | elapsed:    0.0s remaining:    0.0s\n",
      "[Parallel(n_jobs=1)]: Done   4 out of   4 | elapsed:    0.0s remaining:    0.0s\n",
      "[Parallel(n_jobs=1)]: Done   5 out of   5 | elapsed:    0.0s remaining:    0.0s\n",
      "[Parallel(n_jobs=1)]: Done   6 out of   6 | elapsed:    0.0s remaining:    0.0s\n",
      "[Parallel(n_jobs=1)]: Done   7 out of   7 | elapsed:    0.0s remaining:    0.0s\n",
      "[Parallel(n_jobs=1)]: Done   8 out of   8 | elapsed:    0.0s remaining:    0.0s\n",
      "[Parallel(n_jobs=1)]: Done   9 out of   9 | elapsed:    0.0s remaining:    0.0s\n",
      "[Parallel(n_jobs=1)]: Done 827 out of 827 | elapsed:    3.3s finished\n"
     ]
    },
    {
     "data": {
      "image/png": "[encoded data removed]",
      "text/plain": [
       "<Figure size 720x144 with 2 Axes>"
      ]
     },
     "metadata": {
      "needs_background": "light"
     },
     "output_type": "display_data"
    },
    {
     "name": "stdout",
     "output_type": "stream",
     "text": [
      "B1500 total # merged units: 307\n"
     ]
    },
    {
     "data": {
      "application/vnd.jupyter.widget-view+json": {
       "model_id": "b06a767d748c480286032ade065360df",
       "version_major": 2,
       "version_minor": 0
      },
      "text/plain": [
       "unit:   0%|          | 0/307 [00:00<?, ?it/s]"
      ]
     },
     "metadata": {},
     "output_type": "display_data"
    },
    {
     "name": "stderr",
     "output_type": "stream",
     "text": [
      "[Parallel(n_jobs=1)]: Using backend SequentialBackend with 1 concurrent workers.\n",
      "[Parallel(n_jobs=1)]: Done   1 out of   1 | elapsed:    0.0s remaining:    0.0s\n",
      "[Parallel(n_jobs=1)]: Done   2 out of   2 | elapsed:    0.0s remaining:    0.0s\n",
      "[Parallel(n_jobs=1)]: Done   3 out of   3 | elapsed:    0.0s remaining:    0.0s\n",
      "[Parallel(n_jobs=1)]: Done   4 out of   4 | elapsed:    0.0s remaining:    0.0s\n",
      "[Parallel(n_jobs=1)]: Done   5 out of   5 | elapsed:    0.0s remaining:    0.0s\n",
      "[Parallel(n_jobs=1)]: Done   6 out of   6 | elapsed:    0.0s remaining:    0.0s\n",
      "[Parallel(n_jobs=1)]: Done   7 out of   7 | elapsed:    0.0s remaining:    0.0s\n",
      "[Parallel(n_jobs=1)]: Done   8 out of   8 | elapsed:    0.0s remaining:    0.0s\n",
      "[Parallel(n_jobs=1)]: Done   9 out of   9 | elapsed:    0.0s remaining:    0.0s\n",
      "[Parallel(n_jobs=1)]: Done 307 out of 307 | elapsed:    1.2s finished\n"
     ]
    },
    {
     "data": {
      "image/png": "[encoded data removed]",
      "text/plain": [
       "<Figure size 720x144 with 2 Axes>"
      ]
     },
     "metadata": {
      "needs_background": "light"
     },
     "output_type": "display_data"
    },
    {
     "name": "stdout",
     "output_type": "stream",
     "text": [
      "B1239 total # merged units: 206\n"
     ]
    },
    {
     "data": {
      "application/vnd.jupyter.widget-view+json": {
       "model_id": "b10b02e1d2714026b94848a23743c6ad",
       "version_major": 2,
       "version_minor": 0
      },
      "text/plain": [
       "unit:   0%|          | 0/206 [00:00<?, ?it/s]"
      ]
     },
     "metadata": {},
     "output_type": "display_data"
    },
    {
     "name": "stderr",
     "output_type": "stream",
     "text": [
      "[Parallel(n_jobs=1)]: Using backend SequentialBackend with 1 concurrent workers.\n",
      "[Parallel(n_jobs=1)]: Done   1 out of   1 | elapsed:    0.0s remaining:    0.0s\n",
      "[Parallel(n_jobs=1)]: Done   2 out of   2 | elapsed:    0.0s remaining:    0.0s\n",
      "[Parallel(n_jobs=1)]: Done   3 out of   3 | elapsed:    0.0s remaining:    0.0s\n",
      "[Parallel(n_jobs=1)]: Done   4 out of   4 | elapsed:    0.0s remaining:    0.0s\n",
      "[Parallel(n_jobs=1)]: Done   5 out of   5 | elapsed:    0.0s remaining:    0.0s\n",
      "[Parallel(n_jobs=1)]: Done   6 out of   6 | elapsed:    0.0s remaining:    0.0s\n",
      "[Parallel(n_jobs=1)]: Done   7 out of   7 | elapsed:    0.0s remaining:    0.0s\n",
      "[Parallel(n_jobs=1)]: Done   8 out of   8 | elapsed:    0.0s remaining:    0.0s\n",
      "[Parallel(n_jobs=1)]: Done   9 out of   9 | elapsed:    0.0s remaining:    0.0s\n",
      "[Parallel(n_jobs=1)]: Done 206 out of 206 | elapsed:    0.8s finished\n"
     ]
    },
    {
     "data": {
      "image/png": "[encoded data removed]",
      "text/plain": [
       "<Figure size 720x144 with 2 Axes>"
      ]
     },
     "metadata": {
      "needs_background": "light"
     },
     "output_type": "display_data"
    },
    {
     "name": "stdout",
     "output_type": "stream",
     "text": [
      "B1459 total # merged units: 447\n"
     ]
    },
    {
     "data": {
      "application/vnd.jupyter.widget-view+json": {
       "model_id": "68b5bf873d7843d6b23f315ba760e2bd",
       "version_major": 2,
       "version_minor": 0
      },
      "text/plain": [
       "unit:   0%|          | 0/447 [00:00<?, ?it/s]"
      ]
     },
     "metadata": {},
     "output_type": "display_data"
    },
    {
     "name": "stderr",
     "output_type": "stream",
     "text": [
      "[Parallel(n_jobs=1)]: Using backend SequentialBackend with 1 concurrent workers.\n",
      "[Parallel(n_jobs=1)]: Done   1 out of   1 | elapsed:    0.0s remaining:    0.0s\n",
      "[Parallel(n_jobs=1)]: Done   2 out of   2 | elapsed:    0.0s remaining:    0.0s\n",
      "[Parallel(n_jobs=1)]: Done   3 out of   3 | elapsed:    0.0s remaining:    0.0s\n",
      "[Parallel(n_jobs=1)]: Done   4 out of   4 | elapsed:    0.0s remaining:    0.0s\n",
      "[Parallel(n_jobs=1)]: Done   5 out of   5 | elapsed:    0.0s remaining:    0.0s\n",
      "[Parallel(n_jobs=1)]: Done   6 out of   6 | elapsed:    0.0s remaining:    0.0s\n",
      "[Parallel(n_jobs=1)]: Done   7 out of   7 | elapsed:    0.0s remaining:    0.0s\n",
      "[Parallel(n_jobs=1)]: Done   8 out of   8 | elapsed:    0.0s remaining:    0.0s\n",
      "[Parallel(n_jobs=1)]: Done   9 out of   9 | elapsed:    0.0s remaining:    0.0s\n",
      "/mnt/cube/tsainbur/Projects/github_repos/cdcp_chronic/cdcp/spiketrain_analysis/unit_stats/unit_shape_and_stats.py:65: RuntimeWarning: Mean of empty slice\n",
      "  \"full_width\": np.nanmean(spike_full_widths),\n",
      "[Parallel(n_jobs=1)]: Done 447 out of 447 | elapsed:    1.8s finished\n"
     ]
    }
   ],
   "source": [
    "for bird, timestamp, sorter in tqdm(birds):\n",
    "    spikesorting_folder = (DATA_DIR\n",
    "                / \"spikesorting\"\n",
    "                / bird\n",
    "                / timestamp)\n",
    "    #if bird != 'B1593':\n",
    "    #    continue\n",
    "    recording_summary_df = pd.read_pickle(spikesorting_folder/ 'recording_df.pickle')\n",
    "\n",
    "    # get units that are to be merged\n",
    "    merged_units = pd.read_pickle(spikesorting_folder / 'unit_clusters2.pickle')\n",
    "    merged_units = merged_units.sort_values(by='n_playbacks', ascending=False)\n",
    "    merged_units = merged_units[merged_units.n_playbacks.astype('float')  > min_playbacks]\n",
    "    merged_units = merged_units[merged_units.n_spikes > 1000]\n",
    "    \n",
    "    # get all units info\n",
    "    if bird in acute_birds:\n",
    "        unit_features = pd.read_pickle(spikesorting_folder / 'recording_features.pickle')\n",
    "    else:\n",
    "        unit_features = pd.read_pickle(spikesorting_folder / 'recording_features_merged_units2.pickle')\n",
    "    \n",
    "    plot = True\n",
    "    if plot:\n",
    "        fig, axs = plt.subplots(ncols=2, figsize=(10,2))\n",
    "        axs[0].hist(np.log10(merged_units.n_playbacks.values.astype('float')+1), bins = 100);\n",
    "        axs[0].set_title('log # playbacks')\n",
    "        axs[1].hist(np.log10(merged_units.n_spikes.values.astype('float')+1), bins = 100);\n",
    "        axs[1].set_title('log # spikes')\n",
    "        plt.show()\n",
    "        print('{} total # merged units: {}'.format(bird, len(merged_units)))\n",
    "\n",
    "    ensure_dir(spikesorting_folder / 'unit_statistics' / statistics_timestamp)\n",
    "    Parallel(n_jobs = 1, verbose=10)(\n",
    "        delayed(get_unit_statistic)(\n",
    "            unit_to_analyze,\n",
    "            spikesorting_folder,\n",
    "            statistics_timestamp,\n",
    "            recompute=True,\n",
    "            parallel=True,\n",
    "            unit_features = unit_features,\n",
    "            \n",
    "                    )\n",
    "        for uniti, unit_to_analyze in tqdm(\n",
    "            merged_units.iterrows(), desc=\"unit\", total=len(merged_units)\n",
    "        )\n",
    "    );"
   ]
  },
  {
   "cell_type": "code",
   "execution_count": 14,
   "metadata": {
    "ExecuteTime": {
     "end_time": "2021-11-05T18:44:43.382468Z",
     "start_time": "2021-11-05T18:44:42.697059Z"
    }
   },
   "outputs": [
    {
     "data": {
      "text/html": [
       "<div>\n",
       "<style scoped>\n",
       "    .dataframe tbody tr th:only-of-type {\n",
       "        vertical-align: middle;\n",
       "    }\n",
       "\n",
       "    .dataframe tbody tr th {\n",
       "        vertical-align: top;\n",
       "    }\n",
       "\n",
       "    .dataframe thead th {\n",
       "        text-align: right;\n",
       "    }\n",
       "</style>\n",
       "<table border=\"1\" class=\"dataframe\">\n",
       "  <thead>\n",
       "    <tr style=\"text-align: right;\">\n",
       "      <th></th>\n",
       "      <th>template</th>\n",
       "      <th>presence_ratio</th>\n",
       "      <th>isi_violations_rate</th>\n",
       "      <th>max_channel</th>\n",
       "      <th>center_of_mass_x</th>\n",
       "      <th>center_of_mass_y</th>\n",
       "      <th>spike_amplitude</th>\n",
       "      <th>amp_channel_0</th>\n",
       "      <th>amp_channel_1</th>\n",
       "      <th>amp_channel_2</th>\n",
       "      <th>amp_channel_3</th>\n",
       "      <th>amp_channel_4</th>\n",
       "      <th>amp_channel_5</th>\n",
       "      <th>amp_channel_6</th>\n",
       "      <th>amp_channel_7</th>\n",
       "      <th>amp_channel_8</th>\n",
       "      <th>amp_channel_9</th>\n",
       "      <th>amp_channel_10</th>\n",
       "      <th>amp_channel_11</th>\n",
       "      <th>amp_channel_12</th>\n",
       "      <th>amp_channel_13</th>\n",
       "      <th>amp_channel_14</th>\n",
       "      <th>amp_channel_15</th>\n",
       "      <th>amp_channel_16</th>\n",
       "      <th>amp_channel_17</th>\n",
       "      <th>amp_channel_18</th>\n",
       "      <th>amp_channel_19</th>\n",
       "      <th>amp_channel_20</th>\n",
       "      <th>amp_channel_21</th>\n",
       "      <th>amp_channel_22</th>\n",
       "      <th>amp_channel_23</th>\n",
       "      <th>amp_channel_24</th>\n",
       "      <th>amp_channel_25</th>\n",
       "      <th>amp_channel_26</th>\n",
       "      <th>amp_channel_27</th>\n",
       "      <th>amp_channel_28</th>\n",
       "      <th>amp_channel_29</th>\n",
       "      <th>amp_channel_30</th>\n",
       "      <th>amp_channel_31</th>\n",
       "      <th>amp_channel_32</th>\n",
       "      <th>amp_channel_33</th>\n",
       "      <th>amp_channel_34</th>\n",
       "      <th>amp_channel_35</th>\n",
       "      <th>amp_channel_36</th>\n",
       "      <th>amp_channel_37</th>\n",
       "      <th>amp_channel_38</th>\n",
       "      <th>amp_channel_39</th>\n",
       "      <th>amp_channel_40</th>\n",
       "      <th>amp_channel_41</th>\n",
       "      <th>amp_channel_42</th>\n",
       "      <th>amp_channel_43</th>\n",
       "      <th>amp_channel_44</th>\n",
       "      <th>amp_channel_45</th>\n",
       "      <th>amp_channel_46</th>\n",
       "      <th>amp_channel_47</th>\n",
       "      <th>amp_channel_48</th>\n",
       "      <th>amp_channel_49</th>\n",
       "      <th>amp_channel_50</th>\n",
       "      <th>amp_channel_51</th>\n",
       "      <th>amp_channel_52</th>\n",
       "      <th>amp_channel_53</th>\n",
       "      <th>amp_channel_54</th>\n",
       "      <th>amp_channel_55</th>\n",
       "      <th>amp_channel_56</th>\n",
       "      <th>amp_channel_57</th>\n",
       "      <th>amp_channel_58</th>\n",
       "      <th>amp_channel_59</th>\n",
       "      <th>amp_channel_60</th>\n",
       "      <th>amp_channel_61</th>\n",
       "      <th>amp_channel_62</th>\n",
       "      <th>amp_channel_63</th>\n",
       "      <th>snrs</th>\n",
       "      <th>amplitude_cutoff</th>\n",
       "      <th>best_channel_0</th>\n",
       "      <th>best_channel_1</th>\n",
       "      <th>best_channel_2</th>\n",
       "      <th>best_channel_3</th>\n",
       "      <th>best_channel_4</th>\n",
       "      <th>best_channel_5</th>\n",
       "      <th>best_channel_6</th>\n",
       "      <th>best_channel_7</th>\n",
       "      <th>best_channel_8</th>\n",
       "      <th>best_channel_9</th>\n",
       "      <th>isi_violations_count</th>\n",
       "      <th>n_spikes</th>\n",
       "      <th>recording_id</th>\n",
       "      <th>datetime</th>\n",
       "      <th>unit</th>\n",
       "      <th>n_hours</th>\n",
       "      <th>spike_rate</th>\n",
       "      <th>good_unit</th>\n",
       "      <th>z_score_template</th>\n",
       "      <th>median_relative_channel_max</th>\n",
       "    </tr>\n",
       "  </thead>\n",
       "  <tbody>\n",
       "    <tr>\n",
       "      <th>0</th>\n",
       "      <td>[[38.0, 2.0, 3.0, 9.0, 0.0, 5.0, 7.0, 1.0, 1.0...</td>\n",
       "      <td>1.0</td>\n",
       "      <td>0.016098</td>\n",
       "      <td>0</td>\n",
       "      <td>200.761180</td>\n",
       "      <td>29.686013</td>\n",
       "      <td>-1008.5</td>\n",
       "      <td>1008.5</td>\n",
       "      <td>8.0</td>\n",
       "      <td>4.0</td>\n",
       "      <td>-0.0</td>\n",
       "      <td>1.5</td>\n",
       "      <td>-0.0</td>\n",
       "      <td>-2.0</td>\n",
       "      <td>3.0</td>\n",
       "      <td>0.5</td>\n",
       "      <td>1.0</td>\n",
       "      <td>2.0</td>\n",
       "      <td>1.5</td>\n",
       "      <td>1.0</td>\n",
       "      <td>1.0</td>\n",
       "      <td>-0.0</td>\n",
       "      <td>1.0</td>\n",
       "      <td>1.0</td>\n",
       "      <td>-0.0</td>\n",
       "      <td>1.0</td>\n",
       "      <td>3.0</td>\n",
       "      <td>-0.0</td>\n",
       "      <td>1.0</td>\n",
       "      <td>-0.0</td>\n",
       "      <td>1.0</td>\n",
       "      <td>2.0</td>\n",
       "      <td>-1.0</td>\n",
       "      <td>-1.0</td>\n",
       "      <td>-0.0</td>\n",
       "      <td>2.5</td>\n",
       "      <td>2.0</td>\n",
       "      <td>2.0</td>\n",
       "      <td>3.0</td>\n",
       "      <td>-0.0</td>\n",
       "      <td>-0.0</td>\n",
       "      <td>-0.0</td>\n",
       "      <td>-0.0</td>\n",
       "      <td>4.0</td>\n",
       "      <td>-0.0</td>\n",
       "      <td>-0.0</td>\n",
       "      <td>-0.0</td>\n",
       "      <td>1.0</td>\n",
       "      <td>1.0</td>\n",
       "      <td>1.0</td>\n",
       "      <td>1.0</td>\n",
       "      <td>2.0</td>\n",
       "      <td>1.0</td>\n",
       "      <td>2.0</td>\n",
       "      <td>1.0</td>\n",
       "      <td>-0.0</td>\n",
       "      <td>7.0</td>\n",
       "      <td>0.5</td>\n",
       "      <td>-0.0</td>\n",
       "      <td>1.0</td>\n",
       "      <td>-0.0</td>\n",
       "      <td>-0.0</td>\n",
       "      <td>8.0</td>\n",
       "      <td>-0.0</td>\n",
       "      <td>-0.0</td>\n",
       "      <td>-0.0</td>\n",
       "      <td>1.0</td>\n",
       "      <td>2.0</td>\n",
       "      <td>-0.0</td>\n",
       "      <td>-0.0</td>\n",
       "      <td>-0.0</td>\n",
       "      <td>20.585960</td>\n",
       "      <td>0.007981</td>\n",
       "      <td>0</td>\n",
       "      <td>55</td>\n",
       "      <td>1</td>\n",
       "      <td>49</td>\n",
       "      <td>2</td>\n",
       "      <td>36</td>\n",
       "      <td>7</td>\n",
       "      <td>19</td>\n",
       "      <td>31</td>\n",
       "      <td>28</td>\n",
       "      <td>324</td>\n",
       "      <td>26705</td>\n",
       "      <td>exp1_rec1_dat2021-07-20_17-15-11</td>\n",
       "      <td>2021-07-20 17:15:11</td>\n",
       "      <td>0</td>\n",
       "      <td>5.590597</td>\n",
       "      <td>1.326881</td>\n",
       "      <td>True</td>\n",
       "      <td>[[1.3555804202471096, 0.00013726999496187895, ...</td>\n",
       "      <td>0.002478</td>\n",
       "    </tr>\n",
       "    <tr>\n",
       "      <th>1</th>\n",
       "      <td>[[22.0, 0.0, 1.0, 11.0, 0.0, 4.0, 6.0, 3.0, 1....</td>\n",
       "      <td>1.0</td>\n",
       "      <td>0.348502</td>\n",
       "      <td>0</td>\n",
       "      <td>285.714286</td>\n",
       "      <td>44.897959</td>\n",
       "      <td>-410.0</td>\n",
       "      <td>410.0</td>\n",
       "      <td>4.0</td>\n",
       "      <td>-0.0</td>\n",
       "      <td>5.0</td>\n",
       "      <td>1.0</td>\n",
       "      <td>3.0</td>\n",
       "      <td>-0.0</td>\n",
       "      <td>2.0</td>\n",
       "      <td>-0.0</td>\n",
       "      <td>2.0</td>\n",
       "      <td>1.0</td>\n",
       "      <td>1.0</td>\n",
       "      <td>-0.0</td>\n",
       "      <td>1.0</td>\n",
       "      <td>-0.0</td>\n",
       "      <td>2.0</td>\n",
       "      <td>1.0</td>\n",
       "      <td>-0.0</td>\n",
       "      <td>1.0</td>\n",
       "      <td>2.0</td>\n",
       "      <td>-0.0</td>\n",
       "      <td>1.0</td>\n",
       "      <td>-0.0</td>\n",
       "      <td>2.0</td>\n",
       "      <td>2.0</td>\n",
       "      <td>-1.0</td>\n",
       "      <td>-0.0</td>\n",
       "      <td>3.0</td>\n",
       "      <td>3.0</td>\n",
       "      <td>2.0</td>\n",
       "      <td>-0.0</td>\n",
       "      <td>2.0</td>\n",
       "      <td>-0.0</td>\n",
       "      <td>-0.0</td>\n",
       "      <td>-0.0</td>\n",
       "      <td>-0.0</td>\n",
       "      <td>3.0</td>\n",
       "      <td>-0.0</td>\n",
       "      <td>-0.0</td>\n",
       "      <td>-0.0</td>\n",
       "      <td>2.0</td>\n",
       "      <td>-0.0</td>\n",
       "      <td>-0.0</td>\n",
       "      <td>2.0</td>\n",
       "      <td>1.0</td>\n",
       "      <td>1.0</td>\n",
       "      <td>2.0</td>\n",
       "      <td>1.0</td>\n",
       "      <td>1.0</td>\n",
       "      <td>4.0</td>\n",
       "      <td>-0.0</td>\n",
       "      <td>-0.0</td>\n",
       "      <td>1.0</td>\n",
       "      <td>1.0</td>\n",
       "      <td>-0.0</td>\n",
       "      <td>4.0</td>\n",
       "      <td>-0.0</td>\n",
       "      <td>-0.0</td>\n",
       "      <td>-0.0</td>\n",
       "      <td>-0.0</td>\n",
       "      <td>1.5</td>\n",
       "      <td>-0.0</td>\n",
       "      <td>-0.0</td>\n",
       "      <td>-0.0</td>\n",
       "      <td>8.369106</td>\n",
       "      <td>0.000173</td>\n",
       "      <td>0</td>\n",
       "      <td>3</td>\n",
       "      <td>1</td>\n",
       "      <td>49</td>\n",
       "      <td>55</td>\n",
       "      <td>5</td>\n",
       "      <td>36</td>\n",
       "      <td>28</td>\n",
       "      <td>27</td>\n",
       "      <td>24</td>\n",
       "      <td>7014</td>\n",
       "      <td>140445</td>\n",
       "      <td>exp1_rec1_dat2021-07-20_17-15-11</td>\n",
       "      <td>2021-07-20 17:15:11</td>\n",
       "      <td>1</td>\n",
       "      <td>5.590597</td>\n",
       "      <td>6.978235</td>\n",
       "      <td>True</td>\n",
       "      <td>[[1.898381351254745, -0.20597308487571586, -0....</td>\n",
       "      <td>0.006907</td>\n",
       "    </tr>\n",
       "    <tr>\n",
       "      <th>2</th>\n",
       "      <td>[[21.0, 1.0, 6.0, 7.0, 1.0, 4.0, 8.0, 0.0, 0.0...</td>\n",
       "      <td>1.0</td>\n",
       "      <td>0.477637</td>\n",
       "      <td>0</td>\n",
       "      <td>610.135970</td>\n",
       "      <td>51.915946</td>\n",
       "      <td>-375.0</td>\n",
       "      <td>375.0</td>\n",
       "      <td>2.0</td>\n",
       "      <td>1.0</td>\n",
       "      <td>2.0</td>\n",
       "      <td>2.0</td>\n",
       "      <td>-0.0</td>\n",
       "      <td>-0.0</td>\n",
       "      <td>1.0</td>\n",
       "      <td>1.0</td>\n",
       "      <td>1.0</td>\n",
       "      <td>1.0</td>\n",
       "      <td>1.0</td>\n",
       "      <td>1.0</td>\n",
       "      <td>1.0</td>\n",
       "      <td>1.0</td>\n",
       "      <td>2.0</td>\n",
       "      <td>1.0</td>\n",
       "      <td>1.0</td>\n",
       "      <td>0.5</td>\n",
       "      <td>1.0</td>\n",
       "      <td>-0.0</td>\n",
       "      <td>1.0</td>\n",
       "      <td>-0.0</td>\n",
       "      <td>1.0</td>\n",
       "      <td>2.0</td>\n",
       "      <td>1.0</td>\n",
       "      <td>-1.0</td>\n",
       "      <td>1.0</td>\n",
       "      <td>3.0</td>\n",
       "      <td>2.0</td>\n",
       "      <td>2.0</td>\n",
       "      <td>1.0</td>\n",
       "      <td>1.0</td>\n",
       "      <td>1.0</td>\n",
       "      <td>1.0</td>\n",
       "      <td>1.0</td>\n",
       "      <td>3.0</td>\n",
       "      <td>-0.0</td>\n",
       "      <td>-0.0</td>\n",
       "      <td>-0.0</td>\n",
       "      <td>2.0</td>\n",
       "      <td>-0.0</td>\n",
       "      <td>1.0</td>\n",
       "      <td>1.0</td>\n",
       "      <td>2.0</td>\n",
       "      <td>1.0</td>\n",
       "      <td>2.0</td>\n",
       "      <td>1.0</td>\n",
       "      <td>-0.0</td>\n",
       "      <td>7.0</td>\n",
       "      <td>1.0</td>\n",
       "      <td>-0.0</td>\n",
       "      <td>-0.0</td>\n",
       "      <td>1.5</td>\n",
       "      <td>-0.0</td>\n",
       "      <td>6.0</td>\n",
       "      <td>-0.0</td>\n",
       "      <td>1.0</td>\n",
       "      <td>1.0</td>\n",
       "      <td>-0.0</td>\n",
       "      <td>2.5</td>\n",
       "      <td>1.0</td>\n",
       "      <td>1.0</td>\n",
       "      <td>-0.0</td>\n",
       "      <td>7.654670</td>\n",
       "      <td>0.000173</td>\n",
       "      <td>0</td>\n",
       "      <td>49</td>\n",
       "      <td>55</td>\n",
       "      <td>28</td>\n",
       "      <td>36</td>\n",
       "      <td>60</td>\n",
       "      <td>24</td>\n",
       "      <td>40</td>\n",
       "      <td>15</td>\n",
       "      <td>44</td>\n",
       "      <td>9613</td>\n",
       "      <td>335442</td>\n",
       "      <td>exp1_rec1_dat2021-07-20_17-15-11</td>\n",
       "      <td>2021-07-20 17:15:11</td>\n",
       "      <td>2</td>\n",
       "      <td>5.590597</td>\n",
       "      <td>16.666975</td>\n",
       "      <td>True</td>\n",
       "      <td>[[1.6272217504225346, -0.05925896717912066, 0....</td>\n",
       "      <td>0.006098</td>\n",
       "    </tr>\n",
       "  </tbody>\n",
       "</table>\n",
       "</div>"
      ],
      "text/plain": [
       "                                            template  presence_ratio  \\\n",
       "0  [[38.0, 2.0, 3.0, 9.0, 0.0, 5.0, 7.0, 1.0, 1.0...             1.0   \n",
       "1  [[22.0, 0.0, 1.0, 11.0, 0.0, 4.0, 6.0, 3.0, 1....             1.0   \n",
       "2  [[21.0, 1.0, 6.0, 7.0, 1.0, 4.0, 8.0, 0.0, 0.0...             1.0   \n",
       "\n",
       "   isi_violations_rate  max_channel  center_of_mass_x  center_of_mass_y  \\\n",
       "0             0.016098            0        200.761180         29.686013   \n",
       "1             0.348502            0        285.714286         44.897959   \n",
       "2             0.477637            0        610.135970         51.915946   \n",
       "\n",
       "   spike_amplitude  amp_channel_0  amp_channel_1  amp_channel_2  \\\n",
       "0          -1008.5         1008.5            8.0            4.0   \n",
       "1           -410.0          410.0            4.0           -0.0   \n",
       "2           -375.0          375.0            2.0            1.0   \n",
       "\n",
       "   amp_channel_3  amp_channel_4  amp_channel_5  amp_channel_6  amp_channel_7  \\\n",
       "0           -0.0            1.5           -0.0           -2.0            3.0   \n",
       "1            5.0            1.0            3.0           -0.0            2.0   \n",
       "2            2.0            2.0           -0.0           -0.0            1.0   \n",
       "\n",
       "   amp_channel_8  amp_channel_9  amp_channel_10  amp_channel_11  \\\n",
       "0            0.5            1.0             2.0             1.5   \n",
       "1           -0.0            2.0             1.0             1.0   \n",
       "2            1.0            1.0             1.0             1.0   \n",
       "\n",
       "   amp_channel_12  amp_channel_13  amp_channel_14  amp_channel_15  \\\n",
       "0             1.0             1.0            -0.0             1.0   \n",
       "1            -0.0             1.0            -0.0             2.0   \n",
       "2             1.0             1.0             1.0             2.0   \n",
       "\n",
       "   amp_channel_16  amp_channel_17  amp_channel_18  amp_channel_19  \\\n",
       "0             1.0            -0.0             1.0             3.0   \n",
       "1             1.0            -0.0             1.0             2.0   \n",
       "2             1.0             1.0             0.5             1.0   \n",
       "\n",
       "   amp_channel_20  amp_channel_21  amp_channel_22  amp_channel_23  \\\n",
       "0            -0.0             1.0            -0.0             1.0   \n",
       "1            -0.0             1.0            -0.0             2.0   \n",
       "2            -0.0             1.0            -0.0             1.0   \n",
       "\n",
       "   amp_channel_24  amp_channel_25  amp_channel_26  amp_channel_27  \\\n",
       "0             2.0            -1.0            -1.0            -0.0   \n",
       "1             2.0            -1.0            -0.0             3.0   \n",
       "2             2.0             1.0            -1.0             1.0   \n",
       "\n",
       "   amp_channel_28  amp_channel_29  amp_channel_30  amp_channel_31  \\\n",
       "0             2.5             2.0             2.0             3.0   \n",
       "1             3.0             2.0            -0.0             2.0   \n",
       "2             3.0             2.0             2.0             1.0   \n",
       "\n",
       "   amp_channel_32  amp_channel_33  amp_channel_34  amp_channel_35  \\\n",
       "0            -0.0            -0.0            -0.0            -0.0   \n",
       "1            -0.0            -0.0            -0.0            -0.0   \n",
       "2             1.0             1.0             1.0             1.0   \n",
       "\n",
       "   amp_channel_36  amp_channel_37  amp_channel_38  amp_channel_39  \\\n",
       "0             4.0            -0.0            -0.0            -0.0   \n",
       "1             3.0            -0.0            -0.0            -0.0   \n",
       "2             3.0            -0.0            -0.0            -0.0   \n",
       "\n",
       "   amp_channel_40  amp_channel_41  amp_channel_42  amp_channel_43  \\\n",
       "0             1.0             1.0             1.0             1.0   \n",
       "1             2.0            -0.0            -0.0             2.0   \n",
       "2             2.0            -0.0             1.0             1.0   \n",
       "\n",
       "   amp_channel_44  amp_channel_45  amp_channel_46  amp_channel_47  \\\n",
       "0             2.0             1.0             2.0             1.0   \n",
       "1             1.0             1.0             2.0             1.0   \n",
       "2             2.0             1.0             2.0             1.0   \n",
       "\n",
       "   amp_channel_48  amp_channel_49  amp_channel_50  amp_channel_51  \\\n",
       "0            -0.0             7.0             0.5            -0.0   \n",
       "1             1.0             4.0            -0.0            -0.0   \n",
       "2            -0.0             7.0             1.0            -0.0   \n",
       "\n",
       "   amp_channel_52  amp_channel_53  amp_channel_54  amp_channel_55  \\\n",
       "0             1.0            -0.0            -0.0             8.0   \n",
       "1             1.0             1.0            -0.0             4.0   \n",
       "2            -0.0             1.5            -0.0             6.0   \n",
       "\n",
       "   amp_channel_56  amp_channel_57  amp_channel_58  amp_channel_59  \\\n",
       "0            -0.0            -0.0            -0.0             1.0   \n",
       "1            -0.0            -0.0            -0.0            -0.0   \n",
       "2            -0.0             1.0             1.0            -0.0   \n",
       "\n",
       "   amp_channel_60  amp_channel_61  amp_channel_62  amp_channel_63       snrs  \\\n",
       "0             2.0            -0.0            -0.0            -0.0  20.585960   \n",
       "1             1.5            -0.0            -0.0            -0.0   8.369106   \n",
       "2             2.5             1.0             1.0            -0.0   7.654670   \n",
       "\n",
       "   amplitude_cutoff  best_channel_0  best_channel_1  best_channel_2  \\\n",
       "0          0.007981               0              55               1   \n",
       "1          0.000173               0               3               1   \n",
       "2          0.000173               0              49              55   \n",
       "\n",
       "   best_channel_3  best_channel_4  best_channel_5  best_channel_6  \\\n",
       "0              49               2              36               7   \n",
       "1              49              55               5              36   \n",
       "2              28              36              60              24   \n",
       "\n",
       "   best_channel_7  best_channel_8  best_channel_9  isi_violations_count  \\\n",
       "0              19              31              28                   324   \n",
       "1              28              27              24                  7014   \n",
       "2              40              15              44                  9613   \n",
       "\n",
       "   n_spikes                      recording_id            datetime  unit  \\\n",
       "0     26705  exp1_rec1_dat2021-07-20_17-15-11 2021-07-20 17:15:11     0   \n",
       "1    140445  exp1_rec1_dat2021-07-20_17-15-11 2021-07-20 17:15:11     1   \n",
       "2    335442  exp1_rec1_dat2021-07-20_17-15-11 2021-07-20 17:15:11     2   \n",
       "\n",
       "    n_hours  spike_rate  good_unit  \\\n",
       "0  5.590597    1.326881       True   \n",
       "1  5.590597    6.978235       True   \n",
       "2  5.590597   16.666975       True   \n",
       "\n",
       "                                    z_score_template  \\\n",
       "0  [[1.3555804202471096, 0.00013726999496187895, ...   \n",
       "1  [[1.898381351254745, -0.20597308487571586, -0....   \n",
       "2  [[1.6272217504225346, -0.05925896717912066, 0....   \n",
       "\n",
       "   median_relative_channel_max  \n",
       "0                     0.002478  \n",
       "1                     0.006907  \n",
       "2                     0.006098  "
      ]
     },
     "execution_count": 14,
     "metadata": {},
     "output_type": "execute_result"
    }
   ],
   "source": [
    "unit_features[:3]"
   ]
  },
  {
   "cell_type": "markdown",
   "metadata": {},
   "source": [
    "### Debugging"
   ]
  },
  {
   "cell_type": "code",
   "execution_count": 15,
   "metadata": {
    "ExecuteTime": {
     "end_time": "2021-11-05T18:44:43.622165Z",
     "start_time": "2021-11-05T18:44:43.383768Z"
    }
   },
   "outputs": [
    {
     "ename": "NameError",
     "evalue": "name 'breakme' is not defined",
     "output_type": "error",
     "traceback": [
      "\u001b[0;31m---------------------------------------------------------------------------\u001b[0m",
      "\u001b[0;31mNameError\u001b[0m                                 Traceback (most recent call last)",
      "\u001b[0;32m<ipython-input-15-30cfd92a94be>\u001b[0m in \u001b[0;36m<module>\u001b[0;34m\u001b[0m\n\u001b[0;32m----> 1\u001b[0;31m \u001b[0mbreakme\u001b[0m\u001b[0;34m\u001b[0m\u001b[0;34m\u001b[0m\u001b[0m\n\u001b[0m",
      "\u001b[0;31mNameError\u001b[0m: name 'breakme' is not defined"
     ]
    }
   ],
   "source": [
    "breakme"
   ]
  },
  {
   "cell_type": "code",
   "execution_count": null,
   "metadata": {
    "ExecuteTime": {
     "end_time": "2021-11-05T18:44:43.624236Z",
     "start_time": "2021-11-05T18:40:18.588Z"
    }
   },
   "outputs": [],
   "source": [
    "np.where(merged_units.cluster_id == 12315)"
   ]
  },
  {
   "cell_type": "code",
   "execution_count": null,
   "metadata": {
    "ExecuteTime": {
     "end_time": "2021-11-05T18:44:43.625111Z",
     "start_time": "2021-11-05T18:40:18.591Z"
    },
    "scrolled": true
   },
   "outputs": [],
   "source": [
    "Parallel(n_jobs=1, verbose=10)(\n",
    "    delayed(get_unit_statistic)(\n",
    "        unit_to_analyze,\n",
    "        spikesorting_folder,\n",
    "        statistics_timestamp,\n",
    "            unit_features = unit_features,\n",
    "        recompute=True,\n",
    "        parallel=False,\n",
    "        save=False,\n",
    "        plot=False,\n",
    "    )\n",
    "    for uniti, unit_to_analyze in tqdm(\n",
    "        merged_units[10:]\n",
    "        .iterrows(), desc=\"unit\", total=len(merged_units)\n",
    "    )\n",
    "\n",
    ")"
   ]
  },
  {
   "cell_type": "code",
   "execution_count": null,
   "metadata": {
    "ExecuteTime": {
     "end_time": "2021-11-05T18:44:43.625774Z",
     "start_time": "2021-11-05T18:40:18.594Z"
    }
   },
   "outputs": [],
   "source": [
    "unit_features[:3]"
   ]
  },
  {
   "cell_type": "code",
   "execution_count": null,
   "metadata": {
    "ExecuteTime": {
     "end_time": "2021-11-05T18:44:43.626382Z",
     "start_time": "2021-11-05T18:40:18.595Z"
    }
   },
   "outputs": [],
   "source": [
    "unit_features = pd.read_pickle(spikesorting_folder / 'recording_features.pickle')"
   ]
  },
  {
   "cell_type": "code",
   "execution_count": null,
   "metadata": {
    "ExecuteTime": {
     "end_time": "2021-11-05T18:44:43.627215Z",
     "start_time": "2021-11-05T18:40:18.599Z"
    }
   },
   "outputs": [],
   "source": [
    "unit_features[unit_features.recording_id== 'exp1_rec1_dat2021-09-04_22-16-45_1550']"
   ]
  },
  {
   "cell_type": "code",
   "execution_count": null,
   "metadata": {
    "ExecuteTime": {
     "end_time": "2021-11-05T18:44:43.627852Z",
     "start_time": "2021-11-05T18:40:18.600Z"
    }
   },
   "outputs": [],
   "source": [
    "%debug"
   ]
  },
  {
   "cell_type": "markdown",
   "metadata": {},
   "source": [
    "### make dataframe"
   ]
  },
  {
   "cell_type": "code",
   "execution_count": 16,
   "metadata": {
    "ExecuteTime": {
     "end_time": "2021-11-05T18:44:47.061391Z",
     "start_time": "2021-11-05T18:44:47.033265Z"
    }
   },
   "outputs": [],
   "source": [
    "ensure_dir(DATA_DIR / 'unit_statistics' / statistics_timestamp / identifier)"
   ]
  },
  {
   "cell_type": "code",
   "execution_count": 17,
   "metadata": {
    "ExecuteTime": {
     "end_time": "2021-11-05T18:44:47.222029Z",
     "start_time": "2021-11-05T18:44:47.201728Z"
    }
   },
   "outputs": [],
   "source": [
    "def read_and_unit(i):\n",
    "    try:\n",
    "        df = pd.read_pickle(i)\n",
    "        df['unit'] = i.stem\n",
    "        return df\n",
    "    except:\n",
    "        return"
   ]
  },
  {
   "cell_type": "code",
   "execution_count": 18,
   "metadata": {
    "ExecuteTime": {
     "end_time": "2021-11-05T18:45:06.378682Z",
     "start_time": "2021-11-05T18:44:47.365506Z"
    }
   },
   "outputs": [
    {
     "data": {
      "application/vnd.jupyter.widget-view+json": {
       "model_id": "ae2fbcf1287a48c2b0f282afd3c14676",
       "version_major": 2,
       "version_minor": 0
      },
      "text/plain": [
       "  0%|          | 0/14 [00:00<?, ?it/s]"
      ]
     },
     "metadata": {},
     "output_type": "display_data"
    },
    {
     "name": "stdout",
     "output_type": "stream",
     "text": [
      "B1597\n"
     ]
    },
    {
     "data": {
      "application/vnd.jupyter.widget-view+json": {
       "model_id": "",
       "version_major": 2,
       "version_minor": 0
      },
      "text/plain": [
       "reading pickles:   0%|          | 0/6750 [00:00<?, ?it/s]"
      ]
     },
     "metadata": {},
     "output_type": "display_data"
    },
    {
     "name": "stdout",
     "output_type": "stream",
     "text": [
      "B1188\n"
     ]
    },
    {
     "data": {
      "application/vnd.jupyter.widget-view+json": {
       "model_id": "",
       "version_major": 2,
       "version_minor": 0
      },
      "text/plain": [
       "reading pickles:   0%|          | 0/603 [00:00<?, ?it/s]"
      ]
     },
     "metadata": {},
     "output_type": "display_data"
    },
    {
     "name": "stdout",
     "output_type": "stream",
     "text": [
      "B1595\n"
     ]
    },
    {
     "data": {
      "application/vnd.jupyter.widget-view+json": {
       "model_id": "",
       "version_major": 2,
       "version_minor": 0
      },
      "text/plain": [
       "reading pickles:   0%|          | 0/242 [00:00<?, ?it/s]"
      ]
     },
     "metadata": {},
     "output_type": "display_data"
    },
    {
     "name": "stdout",
     "output_type": "stream",
     "text": [
      "B1276\n"
     ]
    },
    {
     "data": {
      "application/vnd.jupyter.widget-view+json": {
       "model_id": "",
       "version_major": 2,
       "version_minor": 0
      },
      "text/plain": [
       "reading pickles:   0%|          | 0/46 [00:00<?, ?it/s]"
      ]
     },
     "metadata": {},
     "output_type": "display_data"
    },
    {
     "name": "stdout",
     "output_type": "stream",
     "text": [
      "B1426\n"
     ]
    },
    {
     "data": {
      "application/vnd.jupyter.widget-view+json": {
       "model_id": "",
       "version_major": 2,
       "version_minor": 0
      },
      "text/plain": [
       "reading pickles:   0%|          | 0/107 [00:00<?, ?it/s]"
      ]
     },
     "metadata": {},
     "output_type": "display_data"
    },
    {
     "name": "stdout",
     "output_type": "stream",
     "text": [
      "B1432\n"
     ]
    },
    {
     "data": {
      "application/vnd.jupyter.widget-view+json": {
       "model_id": "",
       "version_major": 2,
       "version_minor": 0
      },
      "text/plain": [
       "reading pickles:   0%|          | 0/2198 [00:00<?, ?it/s]"
      ]
     },
     "metadata": {},
     "output_type": "display_data"
    },
    {
     "name": "stdout",
     "output_type": "stream",
     "text": [
      "B1170\n"
     ]
    },
    {
     "data": {
      "application/vnd.jupyter.widget-view+json": {
       "model_id": "",
       "version_major": 2,
       "version_minor": 0
      },
      "text/plain": [
       "reading pickles:   0%|          | 0/1281 [00:00<?, ?it/s]"
      ]
     },
     "metadata": {},
     "output_type": "display_data"
    },
    {
     "name": "stdout",
     "output_type": "stream",
     "text": [
      "B1244\n"
     ]
    },
    {
     "data": {
      "application/vnd.jupyter.widget-view+json": {
       "model_id": "",
       "version_major": 2,
       "version_minor": 0
      },
      "text/plain": [
       "reading pickles:   0%|          | 0/141 [00:00<?, ?it/s]"
      ]
     },
     "metadata": {},
     "output_type": "display_data"
    },
    {
     "name": "stdout",
     "output_type": "stream",
     "text": [
      "B1593\n"
     ]
    },
    {
     "data": {
      "application/vnd.jupyter.widget-view+json": {
       "model_id": "",
       "version_major": 2,
       "version_minor": 0
      },
      "text/plain": [
       "reading pickles:   0%|          | 0/7966 [00:00<?, ?it/s]"
      ]
     },
     "metadata": {},
     "output_type": "display_data"
    },
    {
     "name": "stdout",
     "output_type": "stream",
     "text": [
      "B1248\n"
     ]
    },
    {
     "data": {
      "application/vnd.jupyter.widget-view+json": {
       "model_id": "",
       "version_major": 2,
       "version_minor": 0
      },
      "text/plain": [
       "reading pickles:   0%|          | 0/8698 [00:00<?, ?it/s]"
      ]
     },
     "metadata": {},
     "output_type": "display_data"
    },
    {
     "name": "stdout",
     "output_type": "stream",
     "text": [
      "B1279\n"
     ]
    },
    {
     "data": {
      "application/vnd.jupyter.widget-view+json": {
       "model_id": "",
       "version_major": 2,
       "version_minor": 0
      },
      "text/plain": [
       "reading pickles:   0%|          | 0/827 [00:00<?, ?it/s]"
      ]
     },
     "metadata": {},
     "output_type": "display_data"
    },
    {
     "name": "stdout",
     "output_type": "stream",
     "text": [
      "B1500\n"
     ]
    },
    {
     "data": {
      "application/vnd.jupyter.widget-view+json": {
       "model_id": "",
       "version_major": 2,
       "version_minor": 0
      },
      "text/plain": [
       "reading pickles:   0%|          | 0/307 [00:00<?, ?it/s]"
      ]
     },
     "metadata": {},
     "output_type": "display_data"
    },
    {
     "name": "stdout",
     "output_type": "stream",
     "text": [
      "B1239\n"
     ]
    },
    {
     "data": {
      "application/vnd.jupyter.widget-view+json": {
       "model_id": "",
       "version_major": 2,
       "version_minor": 0
      },
      "text/plain": [
       "reading pickles:   0%|          | 0/206 [00:00<?, ?it/s]"
      ]
     },
     "metadata": {},
     "output_type": "display_data"
    },
    {
     "name": "stdout",
     "output_type": "stream",
     "text": [
      "B1459\n"
     ]
    },
    {
     "data": {
      "application/vnd.jupyter.widget-view+json": {
       "model_id": "",
       "version_major": 2,
       "version_minor": 0
      },
      "text/plain": [
       "reading pickles:   0%|          | 0/447 [00:00<?, ?it/s]"
      ]
     },
     "metadata": {},
     "output_type": "display_data"
    }
   ],
   "source": [
    "for bird, timestamp, sorter in tqdm(birds):\n",
    "    print(bird)\n",
    "    spikesorting_folder = DATA_DIR / \"spikesorting\" / bird / timestamp\n",
    "    recording_summary_df = pd.read_pickle(spikesorting_folder / \"recording_df.pickle\")\n",
    "\n",
    "    unit_series_save_loc = (\n",
    "        spikesorting_folder / \"unit_statistics\" / statistics_timestamp / identifier\n",
    "    )\n",
    "    unit_pickles = list(unit_series_save_loc.glob(\"*.pickle\"))\n",
    "    \n",
    "    unit_statistics_df = pd.concat(\n",
    "        #Parallel(n_jobs=1, prefer=\"threads\")(\n",
    "        Parallel(n_jobs = 10)(\n",
    "            delayed(read_and_unit)(i)\n",
    "            for i in tqdm(unit_pickles, leave=False, desc=\"reading pickles\")\n",
    "        ),\n",
    "        axis=1,\n",
    "    ).T\n",
    "\n",
    "    unit_statistics_df.to_pickle(\n",
    "        DATA_DIR\n",
    "        / \"unit_statistics\"\n",
    "        / statistics_timestamp\n",
    "        / identifier\n",
    "        / \"{}.pickle\".format(bird)\n",
    "    )"
   ]
  },
  {
   "cell_type": "code",
   "execution_count": null,
   "metadata": {
    "ExecuteTime": {
     "end_time": "2021-11-05T18:44:43.631956Z",
     "start_time": "2021-11-05T18:40:18.609Z"
    }
   },
   "outputs": [],
   "source": [
    "len(unit_pickles)"
   ]
  },
  {
   "cell_type": "code",
   "execution_count": null,
   "metadata": {
    "ExecuteTime": {
     "end_time": "2021-11-05T18:44:43.633057Z",
     "start_time": "2021-11-05T18:40:18.610Z"
    }
   },
   "outputs": [],
   "source": [
    "test = pd.read_pickle(unit_pickles[0])"
   ]
  },
  {
   "cell_type": "code",
   "execution_count": null,
   "metadata": {
    "ExecuteTime": {
     "end_time": "2021-11-05T18:44:43.634137Z",
     "start_time": "2021-11-05T18:40:18.611Z"
    }
   },
   "outputs": [],
   "source": [
    "pd.DataFrame([test])"
   ]
  },
  {
   "cell_type": "code",
   "execution_count": null,
   "metadata": {
    "ExecuteTime": {
     "end_time": "2021-11-05T18:44:43.635302Z",
     "start_time": "2021-11-05T18:40:18.613Z"
    }
   },
   "outputs": [],
   "source": [
    "test.rv_euclidean_CF.dtype"
   ]
  },
  {
   "cell_type": "code",
   "execution_count": null,
   "metadata": {
    "ExecuteTime": {
     "end_time": "2021-11-05T18:44:43.636573Z",
     "start_time": "2021-11-05T18:40:18.614Z"
    }
   },
   "outputs": [],
   "source": [
    "test.sm_euclidean_BE.dtype"
   ]
  },
  {
   "cell_type": "code",
   "execution_count": null,
   "metadata": {
    "ExecuteTime": {
     "end_time": "2021-11-05T18:44:43.637738Z",
     "start_time": "2021-11-05T18:40:18.616Z"
    }
   },
   "outputs": [],
   "source": [
    "unit_pickles"
   ]
  },
  {
   "cell_type": "code",
   "execution_count": null,
   "metadata": {
    "ExecuteTime": {
     "end_time": "2021-11-05T18:44:43.638426Z",
     "start_time": "2021-11-05T18:40:18.618Z"
    }
   },
   "outputs": [],
   "source": [
    "!ls -lht /mnt/cube/tsainbur/Projects/github_repos/cdcp_chronic/data/spikesorting/B1597/2021-05-14_12-40-20_423998/unit_statistics/2021-10-23_23-02-31_846685/nm_by_interpolation_128/"
   ]
  },
  {
   "cell_type": "code",
   "execution_count": null,
   "metadata": {},
   "outputs": [],
   "source": []
  }
 ],
 "metadata": {
  "kernelspec": {
   "display_name": "cdcp_paper_cube",
   "language": "python",
   "name": "cdcp_paper_cube"
  },
  "language_info": {
   "codemirror_mode": {
    "name": "ipython",
    "version": 3
   },
   "file_extension": ".py",
   "mimetype": "text/x-python",
   "name": "python",
   "nbconvert_exporter": "python",
   "pygments_lexer": "ipython3",
   "version": "3.7.11"
  }
 },
 "nbformat": 4,
 "nbformat_minor": 2
}
