{
 "cells": [
  {
   "cell_type": "code",
   "execution_count": 1,
   "id": "cef6c39c",
   "metadata": {
    "ExecuteTime": {
     "end_time": "2022-01-23T20:31:09.094117Z",
     "start_time": "2022-01-23T20:31:09.078531Z"
    }
   },
   "outputs": [],
   "source": [
    "%load_ext autoreload\n",
    "%autoreload 2"
   ]
  },
  {
   "cell_type": "code",
   "execution_count": 2,
   "id": "e8fd39fe",
   "metadata": {
    "ExecuteTime": {
     "end_time": "2022-01-23T20:31:09.114221Z",
     "start_time": "2022-01-23T20:31:09.096368Z"
    }
   },
   "outputs": [
    {
     "data": {
      "text/plain": [
       "1"
      ]
     },
     "execution_count": 2,
     "metadata": {},
     "output_type": "execute_result"
    }
   ],
   "source": [
    "import os\n",
    "# set to be lower priority\n",
    "os.nice(1) "
   ]
  },
  {
   "cell_type": "code",
   "execution_count": 3,
   "id": "29edc857",
   "metadata": {
    "ExecuteTime": {
     "end_time": "2022-01-23T20:31:09.888832Z",
     "start_time": "2022-01-23T20:31:09.116242Z"
    }
   },
   "outputs": [
    {
     "name": "stderr",
     "output_type": "stream",
     "text": [
      "/home/AD/tsainbur/anaconda3/envs/cdcp_paper/lib/python3.7/site-packages/ipykernel_launcher.py:7: TqdmExperimentalWarning: Using `tqdm.autonotebook.tqdm` in notebook mode. Use `tqdm.tqdm` instead to force console mode (e.g. in jupyter console)\n",
      "  import sys\n"
     ]
    }
   ],
   "source": [
    "import pandas  as pd\n",
    "from cdcp.paths import DATA_DIR, ensure_dir\n",
    "import numpy as np\n",
    "import matplotlib.pyplot as plt\n",
    "import datetime\n",
    "from pathlib2 import Path\n",
    "from tqdm.autonotebook import tqdm\n",
    "pd.set_option('display.max_columns', 500)\n",
    "from joblib import Parallel, delayed"
   ]
  },
  {
   "cell_type": "code",
   "execution_count": 4,
   "id": "2f08f4df",
   "metadata": {
    "ExecuteTime": {
     "end_time": "2022-01-23T20:31:09.913834Z",
     "start_time": "2022-01-23T20:31:09.891750Z"
    }
   },
   "outputs": [],
   "source": [
    "from datetime import datetime"
   ]
  },
  {
   "cell_type": "code",
   "execution_count": 5,
   "id": "04f550e7",
   "metadata": {
    "ExecuteTime": {
     "end_time": "2022-01-23T20:31:24.746902Z",
     "start_time": "2022-01-23T20:31:09.915995Z"
    }
   },
   "outputs": [],
   "source": [
    "from cdcp.spiketrain_analysis.unit_statistics import get_unit_spike_trains"
   ]
  },
  {
   "cell_type": "code",
   "execution_count": 6,
   "id": "ef8c2b51",
   "metadata": {
    "ExecuteTime": {
     "end_time": "2022-01-23T20:31:24.777304Z",
     "start_time": "2022-01-23T20:31:24.748880Z"
    }
   },
   "outputs": [],
   "source": [
    "from cdcp.spiketrain_analysis.spiketrain_utils import (\n",
    "    get_spike_train_vector\n",
    ")"
   ]
  },
  {
   "cell_type": "code",
   "execution_count": 7,
   "id": "2736fd2c",
   "metadata": {
    "ExecuteTime": {
     "end_time": "2022-01-23T20:31:24.836501Z",
     "start_time": "2022-01-23T20:31:24.781929Z"
    }
   },
   "outputs": [],
   "source": [
    "from cdcp.spiketrain_analysis.unit_stats.cued_similarity_and_spikevector_differences import (\n",
    "    compute_cued_average_sm_rv_differences\n",
    ")"
   ]
  },
  {
   "cell_type": "code",
   "execution_count": 8,
   "id": "f9e5e533",
   "metadata": {
    "ExecuteTime": {
     "end_time": "2022-01-23T20:31:24.868501Z",
     "start_time": "2022-01-23T20:31:24.841323Z"
    }
   },
   "outputs": [
    {
     "data": {
      "text/plain": [
       "'2021-10-23_23-02-31_846685'"
      ]
     },
     "execution_count": 8,
     "metadata": {},
     "output_type": "execute_result"
    }
   ],
   "source": [
    "# \"2021-10-07_16-05-58_796914\" '2021-10-06_13-30-08_899062' '2021-10-01_17-02-56_744915' \n",
    "statistics_timestamp = '2021-10-23_23-02-31_846685'# datetime.now().strftime(\"%Y-%m-%d_%H-%M-%S_%f\")#\n",
    "statistics_timestamp"
   ]
  },
  {
   "cell_type": "code",
   "execution_count": 9,
   "id": "8c22c611",
   "metadata": {
    "ExecuteTime": {
     "end_time": "2022-01-23T20:31:24.896122Z",
     "start_time": "2022-01-23T20:31:24.870955Z"
    }
   },
   "outputs": [],
   "source": [
    "birds = [\n",
    "    #('B1597', '2021-05-14_12-40-20_423998', 'kilosort2_5'),\n",
    "    #('B1188', '2021-05-31_18-52-29_558216', 'kilosort2_5'),\n",
    "    #('B1595', '2021-07-10_16-42-47_090257', 'kilosort2'),\n",
    "    #('B1276', '2021-07-14_11-14-02_257025', 'kilosort2'),\n",
    "    #('B1426', '2021-07-14_11-29-39_657273', 'kilosort2'),\n",
    "    #('B1432', '2021-06-01_15-14-38_561892', 'kilosort2_5'),\n",
    "    #('B1170', '2021-06-01_21-01-26_519005', 'kilosort2_5'),\n",
    "    #('B1244', '2021-07-14_12-57-45_546674', 'kilosort2'),\n",
    "    #('B1593', '2021-06-28_18-13-24_826008', 'kilosort2_5'),\n",
    "    #('B1248', '2021-07-03_18-08-01_063431', 'kilosort2_5'),\n",
    "    # acute\n",
    "    ('B1279', '2021-04-12_16-27-07_289527', 'kilosort2_5'),\n",
    "    ('B1500', '2021-08-27_09-24-48_680961', 'kilosort2_5'),\n",
    "    ('B1239', '2021-05-17_22-18-51_557635', 'kilosort2'),\n",
    "    ('B1459', '2021-08-26_21-21-12_755614', 'kilosort2_5'),\n",
    "]"
   ]
  },
  {
   "cell_type": "code",
   "execution_count": 10,
   "id": "fee8b65f",
   "metadata": {
    "ExecuteTime": {
     "end_time": "2022-01-23T20:31:24.918123Z",
     "start_time": "2022-01-23T20:31:24.897999Z"
    }
   },
   "outputs": [],
   "source": [
    "min_playbacks = 1000"
   ]
  },
  {
   "cell_type": "code",
   "execution_count": 11,
   "id": "0e1495e6",
   "metadata": {
    "ExecuteTime": {
     "end_time": "2022-01-23T20:31:24.941123Z",
     "start_time": "2022-01-23T20:31:24.919834Z"
    }
   },
   "outputs": [],
   "source": [
    "import pandas as pd\n",
    "from cdcp.paths import DATA_DIR, ensure_dir\n",
    "import numpy as np\n",
    "import matplotlib.pyplot as plt\n",
    "import datetime\n",
    "from pathlib2 import Path\n",
    "from tqdm.autonotebook import tqdm\n",
    "from scipy.ndimage import gaussian_filter1d\n",
    "\n",
    "from sklearn.metrics.pairwise import (\n",
    "    cosine_similarity,\n",
    "    euclidean_distances,\n",
    "    manhattan_distances,\n",
    ")"
   ]
  },
  {
   "cell_type": "code",
   "execution_count": 12,
   "id": "09c903ff",
   "metadata": {
    "ExecuteTime": {
     "end_time": "2022-01-23T20:31:24.969988Z",
     "start_time": "2022-01-23T20:31:24.942757Z"
    }
   },
   "outputs": [],
   "source": [
    "def get_spike_train_vector(\n",
    "    row,\n",
    "    nbins=100,\n",
    "    gaussian_sigma_ms=5,\n",
    "    return_gauss=False,\n",
    "    no_cue=True,\n",
    "    padding_s = 0.1,\n",
    "    mode=\"constant\",\n",
    "):\n",
    "    \"\"\"\n",
    "    From a list of rows, create a gaussian smoothed spike impulse vector\n",
    "\n",
    "    Parameters\n",
    "    ----------\n",
    "    row : [type]\n",
    "        [description]\n",
    "    gaussian_sigma : int, optional\n",
    "        [description], by default 5\n",
    "    nbins : int, optional\n",
    "        [description], by default 100\n",
    "    gaussian_sigma_ms : int, optional\n",
    "        [description], by default 5\n",
    "    return_gauss : bool, optional\n",
    "        [description], by default False\n",
    "\n",
    "    Returns\n",
    "    -------\n",
    "    [type]\n",
    "        [description]\n",
    "    \"\"\"\n",
    "    \n",
    "    if len(row.spike_times) == 0:\n",
    "        return np.zeros(nbins)\n",
    "    \n",
    "    bin_ms = 1000 / nbins\n",
    "    gaussian_sigma = gaussian_sigma_ms / bin_ms\n",
    "    padding_bins = int(padding_s*nbins)\n",
    "    if padding_bins - padding_s*nbins != 0:\n",
    "        raise ValueError('nbins incompatible with padding')    \n",
    "    if no_cue:\n",
    "        if row.cue in [\"CL1\", \"CL0\", \"CN\", \"CR0\", \"CR1\"]:\n",
    "            bins = np.linspace(1-padding_s, 2+padding_s, nbins + 1 + padding_bins*2)\n",
    "        else:\n",
    "            bins = np.linspace(0-padding_s, 1+padding_s, nbins + 1+ padding_bins*2)\n",
    "    else:\n",
    "        if row.cue in [\"CL1\", \"CL0\", \"CN\", \"CR0\", \"CR1\"]:\n",
    "            bins = np.linspace(0-padding_s, 2-padding_s, nbins * 2 + 1+ padding_bins*2)\n",
    "        else:\n",
    "            bins = np.linspace(-1-padding_s, 1-padding_s, nbins * 2 + 1+ padding_bins*2)\n",
    "\n",
    "    hist = np.histogram(row.spike_times, bins, density=False)[0]\n",
    "    if padding_bins>0:\n",
    "        hist = hist[padding_bins:-padding_bins]\n",
    "\n",
    "    if return_gauss:\n",
    "        gauss_convolved_psth = gaussian_filter1d(\n",
    "            hist.astype(\"float\"), gaussian_sigma, mode=mode\n",
    "        )\n",
    "        return gauss_convolved_psth\n",
    "    else:\n",
    "        return hist"
   ]
  },
  {
   "cell_type": "markdown",
   "id": "a250b608",
   "metadata": {},
   "source": [
    "### Compute spike vectors and statistics"
   ]
  },
  {
   "cell_type": "code",
   "execution_count": 13,
   "id": "7578f873",
   "metadata": {
    "ExecuteTime": {
     "end_time": "2022-01-23T20:31:24.992083Z",
     "start_time": "2022-01-23T20:31:24.971564Z"
    }
   },
   "outputs": [],
   "source": [
    "n_time_bins = 100\n",
    "identifier = \"response_vector_25ms_{}\".format(n_time_bins)"
   ]
  },
  {
   "cell_type": "code",
   "execution_count": 14,
   "id": "2d2b732a",
   "metadata": {
    "ExecuteTime": {
     "end_time": "2022-01-23T20:31:25.019325Z",
     "start_time": "2022-01-23T20:31:24.993702Z"
    }
   },
   "outputs": [],
   "source": [
    "def get_unit_statistic(\n",
    "    unit_to_analyze,\n",
    "    spikesorting_folder,\n",
    "    statistics_timestamp,\n",
    "    identifier=identifier,\n",
    "    recompute=False,\n",
    "    parallel=True,\n",
    "    n_time_bins=100,\n",
    "    gaussian_sigma_ms=25,\n",
    "    save=True,\n",
    "    plot=False,\n",
    "):\n",
    "    def run():\n",
    "\n",
    "        unit_series_save_loc = (\n",
    "            spikesorting_folder\n",
    "            / \"unit_statistics\"\n",
    "            / statistics_timestamp\n",
    "            / identifier\n",
    "            / \"{}.npy\".format(unit_to_analyze.cluster_id)\n",
    "        )\n",
    "\n",
    "        # check if we need to run everything\n",
    "        if unit_series_save_loc.exists() and (recompute is False):\n",
    "            print(\"stat already exists\")\n",
    "            return\n",
    "\n",
    "        # make sure folder exists\n",
    "        ensure_dir(unit_series_save_loc)\n",
    "\n",
    "        unit_series_list = []\n",
    "        # load spike trains\n",
    "        trial_aligned_spikes = get_unit_spike_trains(\n",
    "            unit_to_analyze.sort_units,\n",
    "            spikesorting_folder,\n",
    "            sorter,\n",
    "            unit_to_analyze,\n",
    "            save_folder=\"trial_aligned_spikes_padding_100ms\",\n",
    "        )\n",
    "        if trial_aligned_spikes is None:\n",
    "            # breakme\n",
    "            # because there are not enough spikes for this unit to be worth it\n",
    "            print(\"no trial_aligned_spikes\")\n",
    "            return\n",
    "\n",
    "        # get vectors\n",
    "        spike_vectors = [\n",
    "            get_spike_train_vector(\n",
    "                row,\n",
    "                nbins=n_time_bins,\n",
    "                return_gauss=True,\n",
    "                gaussian_sigma_ms=gaussian_sigma_ms,\n",
    "            )\n",
    "            for idx, row in tqdm(\n",
    "                trial_aligned_spikes.iterrows(),\n",
    "                total=len(trial_aligned_spikes),\n",
    "                desc=\"spike vectors\",\n",
    "                leave=False,\n",
    "            )\n",
    "        ]\n",
    "\n",
    "        if save:\n",
    "            np.save(unit_series_save_loc, np.array(spike_vectors))\n",
    "\n",
    "        return\n",
    "\n",
    "    if parallel == False:\n",
    "        run()\n",
    "    else:\n",
    "        try:\n",
    "            run()\n",
    "        except Exception as e:\n",
    "            with open(\"error_log.txt\", \"w\") as text_file:\n",
    "                text_file.write(str(e))\n",
    "            raise ValueError(unit_to_analyze.cluster_id)"
   ]
  },
  {
   "cell_type": "code",
   "execution_count": 15,
   "id": "978ccbcd",
   "metadata": {
    "ExecuteTime": {
     "end_time": "2022-01-23T20:31:25.042082Z",
     "start_time": "2022-01-23T20:31:25.020868Z"
    }
   },
   "outputs": [
    {
     "data": {
      "text/plain": [
       "[('B1279', '2021-04-12_16-27-07_289527', 'kilosort2_5'),\n",
       " ('B1500', '2021-08-27_09-24-48_680961', 'kilosort2_5'),\n",
       " ('B1239', '2021-05-17_22-18-51_557635', 'kilosort2'),\n",
       " ('B1459', '2021-08-26_21-21-12_755614', 'kilosort2_5')]"
      ]
     },
     "execution_count": 15,
     "metadata": {},
     "output_type": "execute_result"
    }
   ],
   "source": [
    "birds"
   ]
  },
  {
   "cell_type": "code",
   "execution_count": 21,
   "id": "b191d7df",
   "metadata": {
    "ExecuteTime": {
     "end_time": "2022-01-23T20:34:22.123898Z",
     "start_time": "2022-01-23T20:32:29.601411Z"
    },
    "scrolled": true
   },
   "outputs": [
    {
     "data": {
      "application/vnd.jupyter.widget-view+json": {
       "model_id": "14dbf6f112e04ef7a85b0c8065cc425a",
       "version_major": 2,
       "version_minor": 0
      },
      "text/plain": [
       "  0%|          | 0/4 [00:00<?, ?it/s]"
      ]
     },
     "metadata": {},
     "output_type": "display_data"
    },
    {
     "data": {
      "image/png": "[encoded data removed]",
      "text/plain": [
       "<Figure size 1000x200 with 2 Axes>"
      ]
     },
     "metadata": {},
     "output_type": "display_data"
    },
    {
     "name": "stdout",
     "output_type": "stream",
     "text": [
      "B1279 total # merged units: 1126\n"
     ]
    },
    {
     "data": {
      "application/vnd.jupyter.widget-view+json": {
       "model_id": "6063555f11fd49ac967bc28b68639496",
       "version_major": 2,
       "version_minor": 0
      },
      "text/plain": [
       "unit:   0%|          | 0/1126 [00:00<?, ?it/s]"
      ]
     },
     "metadata": {},
     "output_type": "display_data"
    },
    {
     "name": "stderr",
     "output_type": "stream",
     "text": [
      "[Parallel(n_jobs=36)]: Using backend LokyBackend with 36 concurrent workers.\n",
      "[Parallel(n_jobs=36)]: Done  13 tasks      | elapsed:   21.3s\n",
      "[Parallel(n_jobs=36)]: Done  26 tasks      | elapsed:   22.9s\n",
      "[Parallel(n_jobs=36)]: Done  41 tasks      | elapsed:   24.5s\n",
      "[Parallel(n_jobs=36)]: Done  56 tasks      | elapsed:   26.6s\n",
      "[Parallel(n_jobs=36)]: Done  73 tasks      | elapsed:   28.3s\n",
      "[Parallel(n_jobs=36)]: Done  90 tasks      | elapsed:   29.6s\n",
      "[Parallel(n_jobs=36)]: Done 109 tasks      | elapsed:   30.7s\n",
      "[Parallel(n_jobs=36)]: Done 128 tasks      | elapsed:   31.3s\n",
      "[Parallel(n_jobs=36)]: Done 149 tasks      | elapsed:   31.9s\n",
      "[Parallel(n_jobs=36)]: Done 170 tasks      | elapsed:   32.7s\n",
      "[Parallel(n_jobs=36)]: Done 193 tasks      | elapsed:   33.7s\n",
      "[Parallel(n_jobs=36)]: Done 216 tasks      | elapsed:   34.6s\n",
      "[Parallel(n_jobs=36)]: Done 241 tasks      | elapsed:   35.0s\n",
      "[Parallel(n_jobs=36)]: Done 266 tasks      | elapsed:   35.5s\n",
      "[Parallel(n_jobs=36)]: Done 293 tasks      | elapsed:   36.1s\n",
      "[Parallel(n_jobs=36)]: Done 320 tasks      | elapsed:   36.6s\n",
      "[Parallel(n_jobs=36)]: Done 349 tasks      | elapsed:   38.1s\n",
      "[Parallel(n_jobs=36)]: Done 378 tasks      | elapsed:   39.0s\n",
      "[Parallel(n_jobs=36)]: Done 409 tasks      | elapsed:   40.0s\n",
      "[Parallel(n_jobs=36)]: Done 440 tasks      | elapsed:   40.8s\n",
      "[Parallel(n_jobs=36)]: Done 473 tasks      | elapsed:   42.2s\n",
      "[Parallel(n_jobs=36)]: Done 506 tasks      | elapsed:   43.1s\n",
      "[Parallel(n_jobs=36)]: Done 541 tasks      | elapsed:   44.3s\n",
      "[Parallel(n_jobs=36)]: Done 576 tasks      | elapsed:   45.8s\n",
      "[Parallel(n_jobs=36)]: Done 613 tasks      | elapsed:   47.4s\n",
      "[Parallel(n_jobs=36)]: Done 650 tasks      | elapsed:   48.8s\n",
      "[Parallel(n_jobs=36)]: Done 689 tasks      | elapsed:   50.4s\n",
      "[Parallel(n_jobs=36)]: Done 728 tasks      | elapsed:   51.9s\n",
      "[Parallel(n_jobs=36)]: Done 769 tasks      | elapsed:   53.4s\n",
      "[Parallel(n_jobs=36)]: Done 810 tasks      | elapsed:   55.3s\n",
      "[Parallel(n_jobs=36)]: Done 853 tasks      | elapsed:   56.9s\n",
      "[Parallel(n_jobs=36)]: Done 896 tasks      | elapsed:   58.0s\n",
      "[Parallel(n_jobs=36)]: Done 941 tasks      | elapsed:   58.9s\n",
      "[Parallel(n_jobs=36)]: Done 986 tasks      | elapsed:   60.0s\n",
      "[Parallel(n_jobs=36)]: Done 1033 tasks      | elapsed:  1.0min\n",
      "[Parallel(n_jobs=36)]: Done 1126 out of 1126 | elapsed:  1.1min finished\n"
     ]
    },
    {
     "data": {
      "image/png": "[encoded data removed]",
      "text/plain": [
       "<Figure size 1000x200 with 2 Axes>"
      ]
     },
     "metadata": {},
     "output_type": "display_data"
    },
    {
     "name": "stdout",
     "output_type": "stream",
     "text": [
      "B1500 total # merged units: 377\n"
     ]
    },
    {
     "data": {
      "application/vnd.jupyter.widget-view+json": {
       "model_id": "25803708f38b46e18d073c57198994e1",
       "version_major": 2,
       "version_minor": 0
      },
      "text/plain": [
       "unit:   0%|          | 0/377 [00:00<?, ?it/s]"
      ]
     },
     "metadata": {},
     "output_type": "display_data"
    },
    {
     "name": "stderr",
     "output_type": "stream",
     "text": [
      "[Parallel(n_jobs=36)]: Using backend LokyBackend with 36 concurrent workers.\n",
      "[Parallel(n_jobs=36)]: Batch computation too fast (0.0456s.) Setting batch_size=2.\n",
      "[Parallel(n_jobs=36)]: Done  13 tasks      | elapsed:    0.6s\n",
      "[Parallel(n_jobs=36)]: Done  26 tasks      | elapsed:    0.9s\n",
      "[Parallel(n_jobs=36)]: Done  41 tasks      | elapsed:    1.2s\n",
      "[Parallel(n_jobs=36)]: Done  57 tasks      | elapsed:    1.5s\n",
      "[Parallel(n_jobs=36)]: Done  77 tasks      | elapsed:    2.0s\n",
      "[Parallel(n_jobs=36)]: Batch computation too slow (2.1003s.) Setting batch_size=1.\n",
      "[Parallel(n_jobs=36)]: Done 108 tasks      | elapsed:    3.0s\n",
      "[Parallel(n_jobs=36)]: Done 146 tasks      | elapsed:    3.6s\n",
      "[Parallel(n_jobs=36)]: Done 184 tasks      | elapsed:    4.1s\n",
      "[Parallel(n_jobs=36)]: Done 226 tasks      | elapsed:    4.8s\n",
      "[Parallel(n_jobs=36)]: Done 262 tasks      | elapsed:    5.1s\n",
      "[Parallel(n_jobs=36)]: Done 295 tasks      | elapsed:    5.4s\n",
      "[Parallel(n_jobs=36)]: Done 306 out of 377 | elapsed:    5.5s remaining:    1.3s\n",
      "[Parallel(n_jobs=36)]: Done 344 out of 377 | elapsed:    5.9s remaining:    0.6s\n",
      "[Parallel(n_jobs=36)]: Done 377 out of 377 | elapsed:    6.2s finished\n"
     ]
    },
    {
     "data": {
      "image/png": "[encoded data removed]",
      "text/plain": [
       "<Figure size 1000x200 with 2 Axes>"
      ]
     },
     "metadata": {},
     "output_type": "display_data"
    },
    {
     "name": "stdout",
     "output_type": "stream",
     "text": [
      "B1239 total # merged units: 212\n"
     ]
    },
    {
     "data": {
      "application/vnd.jupyter.widget-view+json": {
       "model_id": "36aacb4a89c840679687c2cbdba44cdb",
       "version_major": 2,
       "version_minor": 0
      },
      "text/plain": [
       "unit:   0%|          | 0/212 [00:00<?, ?it/s]"
      ]
     },
     "metadata": {},
     "output_type": "display_data"
    },
    {
     "name": "stderr",
     "output_type": "stream",
     "text": [
      "[Parallel(n_jobs=36)]: Using backend LokyBackend with 36 concurrent workers.\n",
      "[Parallel(n_jobs=36)]: Batch computation too fast (0.0894s.) Setting batch_size=2.\n",
      "[Parallel(n_jobs=36)]: Done  13 tasks      | elapsed:    1.0s\n",
      "[Parallel(n_jobs=36)]: Done  26 tasks      | elapsed:    1.3s\n",
      "[Parallel(n_jobs=36)]: Done  41 tasks      | elapsed:    1.6s\n",
      "[Parallel(n_jobs=36)]: Done  56 tasks      | elapsed:    2.2s\n",
      "[Parallel(n_jobs=36)]: Done  74 tasks      | elapsed:    3.4s\n",
      "[Parallel(n_jobs=36)]: Batch computation too slow (2.1440s.) Setting batch_size=1.\n",
      "[Parallel(n_jobs=36)]: Done 107 tasks      | elapsed:    4.3s\n",
      "[Parallel(n_jobs=36)]: Done 163 out of 212 | elapsed:    5.8s remaining:    1.7s\n",
      "[Parallel(n_jobs=36)]: Done 185 out of 212 | elapsed:    6.5s remaining:    0.9s\n",
      "[Parallel(n_jobs=36)]: Done 207 out of 212 | elapsed:    7.0s remaining:    0.2s\n",
      "[Parallel(n_jobs=36)]: Done 212 out of 212 | elapsed:    7.2s finished\n"
     ]
    },
    {
     "data": {
      "image/png": "[encoded data removed]",
      "text/plain": [
       "<Figure size 1000x200 with 2 Axes>"
      ]
     },
     "metadata": {},
     "output_type": "display_data"
    },
    {
     "name": "stdout",
     "output_type": "stream",
     "text": [
      "B1459 total # merged units: 460\n"
     ]
    },
    {
     "data": {
      "application/vnd.jupyter.widget-view+json": {
       "model_id": "13c388664334431289ac647cf5380cd8",
       "version_major": 2,
       "version_minor": 0
      },
      "text/plain": [
       "unit:   0%|          | 0/460 [00:00<?, ?it/s]"
      ]
     },
     "metadata": {},
     "output_type": "display_data"
    },
    {
     "name": "stderr",
     "output_type": "stream",
     "text": [
      "[Parallel(n_jobs=36)]: Using backend LokyBackend with 36 concurrent workers.\n",
      "[Parallel(n_jobs=36)]: Done  13 tasks      | elapsed:    2.4s\n",
      "[Parallel(n_jobs=36)]: Done  26 tasks      | elapsed:    3.3s\n",
      "[Parallel(n_jobs=36)]: Done  41 tasks      | elapsed:    4.3s\n",
      "[Parallel(n_jobs=36)]: Done  56 tasks      | elapsed:    6.0s\n",
      "[Parallel(n_jobs=36)]: Done  73 tasks      | elapsed:    7.2s\n",
      "[Parallel(n_jobs=36)]: Done  90 tasks      | elapsed:    8.4s\n",
      "[Parallel(n_jobs=36)]: Done 109 tasks      | elapsed:    9.8s\n",
      "[Parallel(n_jobs=36)]: Done 128 tasks      | elapsed:   11.3s\n",
      "[Parallel(n_jobs=36)]: Done 149 tasks      | elapsed:   12.9s\n",
      "[Parallel(n_jobs=36)]: Done 170 tasks      | elapsed:   14.4s\n",
      "[Parallel(n_jobs=36)]: Done 193 tasks      | elapsed:   16.6s\n",
      "[Parallel(n_jobs=36)]: Done 216 tasks      | elapsed:   18.0s\n",
      "[Parallel(n_jobs=36)]: Done 241 tasks      | elapsed:   20.1s\n",
      "[Parallel(n_jobs=36)]: Done 266 tasks      | elapsed:   21.9s\n",
      "[Parallel(n_jobs=36)]: Done 293 tasks      | elapsed:   24.0s\n",
      "[Parallel(n_jobs=36)]: Done 320 tasks      | elapsed:   25.4s\n",
      "[Parallel(n_jobs=36)]: Done 349 tasks      | elapsed:   27.0s\n",
      "[Parallel(n_jobs=36)]: Done 378 tasks      | elapsed:   28.0s\n",
      "[Parallel(n_jobs=36)]: Done 436 out of 460 | elapsed:   30.2s remaining:    1.7s\n",
      "[Parallel(n_jobs=36)]: Done 460 out of 460 | elapsed:   31.3s finished\n"
     ]
    }
   ],
   "source": [
    "for bird, timestamp, sorter in tqdm(birds):\n",
    "    spikesorting_folder = (DATA_DIR\n",
    "                / \"spikesorting\"\n",
    "                / bird\n",
    "                / timestamp)\n",
    "    recording_summary_df = pd.read_pickle(spikesorting_folder/ 'recording_df.pickle')\n",
    "\n",
    "    # get units that are to be merged\n",
    "    merged_units = pd.read_pickle(spikesorting_folder / 'unit_clusters2.pickle')\n",
    "    merged_units = merged_units.sort_values(by='n_playbacks', ascending=False)\n",
    "    merged_units = merged_units[merged_units.n_playbacks.astype('float')  > min_playbacks]\n",
    "    \n",
    "    plot = True\n",
    "    if plot:\n",
    "        fig, axs = plt.subplots(ncols=2, figsize=(10,2))\n",
    "        axs[0].hist(np.log10(merged_units.n_playbacks.values.astype('float')+1), bins = 100);\n",
    "        axs[0].set_title('log # playbacks')\n",
    "        axs[1].hist(np.log10(merged_units.n_spikes.values.astype('float')+1), bins = 100);\n",
    "        axs[1].set_title('log # spikes')\n",
    "        plt.show()\n",
    "        print('{} total # merged units: {}'.format(bird, len(merged_units)))\n",
    "\n",
    "    ensure_dir(spikesorting_folder / 'unit_statistics' / statistics_timestamp)\n",
    "    #if bird == 'B1593':\n",
    "    #    break\n",
    "    #else:\n",
    "    #    continue\n",
    "    Parallel(n_jobs = 36, verbose=10)(\n",
    "        delayed(get_unit_statistic)(\n",
    "            unit_to_analyze,\n",
    "            spikesorting_folder,\n",
    "            statistics_timestamp,\n",
    "            recompute=True,\n",
    "            parallel=True,\n",
    "            n_time_bins = n_time_bins\n",
    "            \n",
    "                    )\n",
    "        for uniti, unit_to_analyze in tqdm(\n",
    "            merged_units.iterrows(), desc=\"unit\", total=len(merged_units)\n",
    "        )\n",
    "    );"
   ]
  },
  {
   "cell_type": "code",
   "execution_count": 17,
   "id": "bc0b6ccd",
   "metadata": {
    "ExecuteTime": {
     "end_time": "2022-01-23T20:32:18.659242Z",
     "start_time": "2022-01-23T20:32:18.618786Z"
    }
   },
   "outputs": [
    {
     "data": {
      "text/plain": [
       "'B1279'"
      ]
     },
     "execution_count": 17,
     "metadata": {},
     "output_type": "execute_result"
    }
   ],
   "source": [
    "bird"
   ]
  },
  {
   "cell_type": "markdown",
   "id": "26ea7689",
   "metadata": {},
   "source": [
    "### Debugging"
   ]
  },
  {
   "cell_type": "code",
   "execution_count": 18,
   "id": "4d672323",
   "metadata": {
    "ExecuteTime": {
     "end_time": "2022-01-23T20:32:19.264548Z",
     "start_time": "2022-01-23T20:32:19.229533Z"
    }
   },
   "outputs": [
    {
     "ename": "NameError",
     "evalue": "name 'breakme' is not defined",
     "output_type": "error",
     "traceback": [
      "\u001b[0;31m---------------------------------------------------------------------------\u001b[0m",
      "\u001b[0;31mNameError\u001b[0m                                 Traceback (most recent call last)",
      "\u001b[0;32m<ipython-input-18-30cfd92a94be>\u001b[0m in \u001b[0;36m<module>\u001b[0;34m\u001b[0m\n\u001b[0;32m----> 1\u001b[0;31m \u001b[0mbreakme\u001b[0m\u001b[0;34m\u001b[0m\u001b[0;34m\u001b[0m\u001b[0m\n\u001b[0m",
      "\u001b[0;31mNameError\u001b[0m: name 'breakme' is not defined"
     ]
    }
   ],
   "source": [
    "breakme"
   ]
  },
  {
   "cell_type": "code",
   "execution_count": 19,
   "id": "850ac5ab",
   "metadata": {
    "ExecuteTime": {
     "end_time": "2022-01-23T20:32:19.775262Z",
     "start_time": "2022-01-23T20:32:19.743091Z"
    }
   },
   "outputs": [
    {
     "data": {
      "text/plain": [
       "(array([1095]),)"
      ]
     },
     "execution_count": 19,
     "metadata": {},
     "output_type": "execute_result"
    }
   ],
   "source": [
    "np.where(merged_units.cluster_id == 387)"
   ]
  },
  {
   "cell_type": "code",
   "execution_count": 20,
   "id": "11f280e7",
   "metadata": {
    "ExecuteTime": {
     "end_time": "2022-01-23T20:32:25.396763Z",
     "start_time": "2022-01-23T20:32:20.475735Z"
    },
    "scrolled": true
   },
   "outputs": [
    {
     "data": {
      "application/vnd.jupyter.widget-view+json": {
       "model_id": "e553f7f98e1e4998b559876036224972",
       "version_major": 2,
       "version_minor": 0
      },
      "text/plain": [
       "unit:   0%|          | 0/1126 [00:00<?, ?it/s]"
      ]
     },
     "metadata": {},
     "output_type": "display_data"
    },
    {
     "name": "stderr",
     "output_type": "stream",
     "text": [
      "[Parallel(n_jobs=1)]: Using backend SequentialBackend with 1 concurrent workers.\n"
     ]
    },
    {
     "data": {
      "application/vnd.jupyter.widget-view+json": {
       "model_id": "",
       "version_major": 2,
       "version_minor": 0
      },
      "text/plain": [
       "unit spike trains:   0%|          | 0/1 [00:00<?, ?it/s]"
      ]
     },
     "metadata": {},
     "output_type": "display_data"
    },
    {
     "data": {
      "application/vnd.jupyter.widget-view+json": {
       "model_id": "",
       "version_major": 2,
       "version_minor": 0
      },
      "text/plain": [
       "spike vectors:   0%|          | 0/5760 [00:00<?, ?it/s]"
      ]
     },
     "metadata": {},
     "output_type": "display_data"
    },
    {
     "name": "stderr",
     "output_type": "stream",
     "text": [
      "[Parallel(n_jobs=1)]: Done   1 out of   1 | elapsed:    1.8s remaining:    0.0s\n"
     ]
    },
    {
     "data": {
      "application/vnd.jupyter.widget-view+json": {
       "model_id": "",
       "version_major": 2,
       "version_minor": 0
      },
      "text/plain": [
       "unit spike trains:   0%|          | 0/1 [00:00<?, ?it/s]"
      ]
     },
     "metadata": {},
     "output_type": "display_data"
    },
    {
     "data": {
      "application/vnd.jupyter.widget-view+json": {
       "model_id": "",
       "version_major": 2,
       "version_minor": 0
      },
      "text/plain": [
       "spike vectors:   0%|          | 0/5760 [00:00<?, ?it/s]"
      ]
     },
     "metadata": {},
     "output_type": "display_data"
    },
    {
     "name": "stderr",
     "output_type": "stream",
     "text": [
      "[Parallel(n_jobs=1)]: Done   2 out of   2 | elapsed:    3.2s remaining:    0.0s\n"
     ]
    },
    {
     "data": {
      "application/vnd.jupyter.widget-view+json": {
       "model_id": "",
       "version_major": 2,
       "version_minor": 0
      },
      "text/plain": [
       "unit spike trains:   0%|          | 0/1 [00:00<?, ?it/s]"
      ]
     },
     "metadata": {},
     "output_type": "display_data"
    },
    {
     "data": {
      "application/vnd.jupyter.widget-view+json": {
       "model_id": "",
       "version_major": 2,
       "version_minor": 0
      },
      "text/plain": [
       "spike vectors:   0%|          | 0/5760 [00:00<?, ?it/s]"
      ]
     },
     "metadata": {},
     "output_type": "display_data"
    },
    {
     "name": "stderr",
     "output_type": "stream",
     "text": [
      "[Parallel(n_jobs=1)]: Done   3 out of   3 | elapsed:    4.2s remaining:    0.0s\n"
     ]
    },
    {
     "data": {
      "application/vnd.jupyter.widget-view+json": {
       "model_id": "",
       "version_major": 2,
       "version_minor": 0
      },
      "text/plain": [
       "unit spike trains:   0%|          | 0/1 [00:00<?, ?it/s]"
      ]
     },
     "metadata": {},
     "output_type": "display_data"
    },
    {
     "name": "stdout",
     "output_type": "stream",
     "text": [
      "no trial_aligned_spikes\n"
     ]
    },
    {
     "name": "stderr",
     "output_type": "stream",
     "text": [
      "[Parallel(n_jobs=1)]: Done   4 out of   4 | elapsed:    4.2s remaining:    0.0s\n"
     ]
    },
    {
     "data": {
      "application/vnd.jupyter.widget-view+json": {
       "model_id": "",
       "version_major": 2,
       "version_minor": 0
      },
      "text/plain": [
       "unit spike trains:   0%|          | 0/1 [00:00<?, ?it/s]"
      ]
     },
     "metadata": {},
     "output_type": "display_data"
    },
    {
     "data": {
      "application/vnd.jupyter.widget-view+json": {
       "model_id": "e30b7196cc26416aae6052257eeadd9c",
       "version_major": 2,
       "version_minor": 0
      },
      "text/plain": [
       "spike vectors:   0%|          | 0/5760 [00:00<?, ?it/s]"
      ]
     },
     "metadata": {},
     "output_type": "display_data"
    },
    {
     "ename": "KeyboardInterrupt",
     "evalue": "",
     "output_type": "error",
     "traceback": [
      "\u001b[0;31m---------------------------------------------------------------------------\u001b[0m",
      "\u001b[0;31mKeyboardInterrupt\u001b[0m                         Traceback (most recent call last)",
      "\u001b[0;32m<ipython-input-20-0732c5aaf35c>\u001b[0m in \u001b[0;36m<module>\u001b[0;34m\u001b[0m\n\u001b[1;32m     11\u001b[0m     for uniti, unit_to_analyze in tqdm(\n\u001b[1;32m     12\u001b[0m         \u001b[0mmerged_units\u001b[0m\u001b[0;34m[\u001b[0m\u001b[0;34m:\u001b[0m\u001b[0;34m]\u001b[0m\u001b[0;34m\u001b[0m\u001b[0;34m\u001b[0m\u001b[0m\n\u001b[0;32m---> 13\u001b[0;31m         \u001b[0;34m.\u001b[0m\u001b[0miterrows\u001b[0m\u001b[0;34m(\u001b[0m\u001b[0;34m)\u001b[0m\u001b[0;34m,\u001b[0m \u001b[0mdesc\u001b[0m\u001b[0;34m=\u001b[0m\u001b[0;34m\"unit\"\u001b[0m\u001b[0;34m,\u001b[0m \u001b[0mtotal\u001b[0m\u001b[0;34m=\u001b[0m\u001b[0mlen\u001b[0m\u001b[0;34m(\u001b[0m\u001b[0mmerged_units\u001b[0m\u001b[0;34m)\u001b[0m\u001b[0;34m\u001b[0m\u001b[0;34m\u001b[0m\u001b[0m\n\u001b[0m\u001b[1;32m     14\u001b[0m     )\n\u001b[1;32m     15\u001b[0m )\n",
      "\u001b[0;32m~/anaconda3/envs/cdcp_paper/lib/python3.7/site-packages/joblib/parallel.py\u001b[0m in \u001b[0;36m__call__\u001b[0;34m(self, iterable)\u001b[0m\n\u001b[1;32m   1042\u001b[0m                 \u001b[0mself\u001b[0m\u001b[0;34m.\u001b[0m\u001b[0m_iterating\u001b[0m \u001b[0;34m=\u001b[0m \u001b[0mself\u001b[0m\u001b[0;34m.\u001b[0m\u001b[0m_original_iterator\u001b[0m \u001b[0;32mis\u001b[0m \u001b[0;32mnot\u001b[0m \u001b[0;32mNone\u001b[0m\u001b[0;34m\u001b[0m\u001b[0;34m\u001b[0m\u001b[0m\n\u001b[1;32m   1043\u001b[0m \u001b[0;34m\u001b[0m\u001b[0m\n\u001b[0;32m-> 1044\u001b[0;31m             \u001b[0;32mwhile\u001b[0m \u001b[0mself\u001b[0m\u001b[0;34m.\u001b[0m\u001b[0mdispatch_one_batch\u001b[0m\u001b[0;34m(\u001b[0m\u001b[0miterator\u001b[0m\u001b[0;34m)\u001b[0m\u001b[0;34m:\u001b[0m\u001b[0;34m\u001b[0m\u001b[0;34m\u001b[0m\u001b[0m\n\u001b[0m\u001b[1;32m   1045\u001b[0m                 \u001b[0;32mpass\u001b[0m\u001b[0;34m\u001b[0m\u001b[0;34m\u001b[0m\u001b[0m\n\u001b[1;32m   1046\u001b[0m \u001b[0;34m\u001b[0m\u001b[0m\n",
      "\u001b[0;32m~/anaconda3/envs/cdcp_paper/lib/python3.7/site-packages/joblib/parallel.py\u001b[0m in \u001b[0;36mdispatch_one_batch\u001b[0;34m(self, iterator)\u001b[0m\n\u001b[1;32m    857\u001b[0m                 \u001b[0;32mreturn\u001b[0m \u001b[0;32mFalse\u001b[0m\u001b[0;34m\u001b[0m\u001b[0;34m\u001b[0m\u001b[0m\n\u001b[1;32m    858\u001b[0m             \u001b[0;32melse\u001b[0m\u001b[0;34m:\u001b[0m\u001b[0;34m\u001b[0m\u001b[0;34m\u001b[0m\u001b[0m\n\u001b[0;32m--> 859\u001b[0;31m                 \u001b[0mself\u001b[0m\u001b[0;34m.\u001b[0m\u001b[0m_dispatch\u001b[0m\u001b[0;34m(\u001b[0m\u001b[0mtasks\u001b[0m\u001b[0;34m)\u001b[0m\u001b[0;34m\u001b[0m\u001b[0;34m\u001b[0m\u001b[0m\n\u001b[0m\u001b[1;32m    860\u001b[0m                 \u001b[0;32mreturn\u001b[0m \u001b[0;32mTrue\u001b[0m\u001b[0;34m\u001b[0m\u001b[0;34m\u001b[0m\u001b[0m\n\u001b[1;32m    861\u001b[0m \u001b[0;34m\u001b[0m\u001b[0m\n",
      "\u001b[0;32m~/anaconda3/envs/cdcp_paper/lib/python3.7/site-packages/joblib/parallel.py\u001b[0m in \u001b[0;36m_dispatch\u001b[0;34m(self, batch)\u001b[0m\n\u001b[1;32m    775\u001b[0m         \u001b[0;32mwith\u001b[0m \u001b[0mself\u001b[0m\u001b[0;34m.\u001b[0m\u001b[0m_lock\u001b[0m\u001b[0;34m:\u001b[0m\u001b[0;34m\u001b[0m\u001b[0;34m\u001b[0m\u001b[0m\n\u001b[1;32m    776\u001b[0m             \u001b[0mjob_idx\u001b[0m \u001b[0;34m=\u001b[0m \u001b[0mlen\u001b[0m\u001b[0;34m(\u001b[0m\u001b[0mself\u001b[0m\u001b[0;34m.\u001b[0m\u001b[0m_jobs\u001b[0m\u001b[0;34m)\u001b[0m\u001b[0;34m\u001b[0m\u001b[0;34m\u001b[0m\u001b[0m\n\u001b[0;32m--> 777\u001b[0;31m             \u001b[0mjob\u001b[0m \u001b[0;34m=\u001b[0m \u001b[0mself\u001b[0m\u001b[0;34m.\u001b[0m\u001b[0m_backend\u001b[0m\u001b[0;34m.\u001b[0m\u001b[0mapply_async\u001b[0m\u001b[0;34m(\u001b[0m\u001b[0mbatch\u001b[0m\u001b[0;34m,\u001b[0m \u001b[0mcallback\u001b[0m\u001b[0;34m=\u001b[0m\u001b[0mcb\u001b[0m\u001b[0;34m)\u001b[0m\u001b[0;34m\u001b[0m\u001b[0;34m\u001b[0m\u001b[0m\n\u001b[0m\u001b[1;32m    778\u001b[0m             \u001b[0;31m# A job can complete so quickly than its callback is\u001b[0m\u001b[0;34m\u001b[0m\u001b[0;34m\u001b[0m\u001b[0;34m\u001b[0m\u001b[0m\n\u001b[1;32m    779\u001b[0m             \u001b[0;31m# called before we get here, causing self._jobs to\u001b[0m\u001b[0;34m\u001b[0m\u001b[0;34m\u001b[0m\u001b[0;34m\u001b[0m\u001b[0m\n",
      "\u001b[0;32m~/anaconda3/envs/cdcp_paper/lib/python3.7/site-packages/joblib/_parallel_backends.py\u001b[0m in \u001b[0;36mapply_async\u001b[0;34m(self, func, callback)\u001b[0m\n\u001b[1;32m    206\u001b[0m     \u001b[0;32mdef\u001b[0m \u001b[0mapply_async\u001b[0m\u001b[0;34m(\u001b[0m\u001b[0mself\u001b[0m\u001b[0;34m,\u001b[0m \u001b[0mfunc\u001b[0m\u001b[0;34m,\u001b[0m \u001b[0mcallback\u001b[0m\u001b[0;34m=\u001b[0m\u001b[0;32mNone\u001b[0m\u001b[0;34m)\u001b[0m\u001b[0;34m:\u001b[0m\u001b[0;34m\u001b[0m\u001b[0;34m\u001b[0m\u001b[0m\n\u001b[1;32m    207\u001b[0m         \u001b[0;34m\"\"\"Schedule a func to be run\"\"\"\u001b[0m\u001b[0;34m\u001b[0m\u001b[0;34m\u001b[0m\u001b[0m\n\u001b[0;32m--> 208\u001b[0;31m         \u001b[0mresult\u001b[0m \u001b[0;34m=\u001b[0m \u001b[0mImmediateResult\u001b[0m\u001b[0;34m(\u001b[0m\u001b[0mfunc\u001b[0m\u001b[0;34m)\u001b[0m\u001b[0;34m\u001b[0m\u001b[0;34m\u001b[0m\u001b[0m\n\u001b[0m\u001b[1;32m    209\u001b[0m         \u001b[0;32mif\u001b[0m \u001b[0mcallback\u001b[0m\u001b[0;34m:\u001b[0m\u001b[0;34m\u001b[0m\u001b[0;34m\u001b[0m\u001b[0m\n\u001b[1;32m    210\u001b[0m             \u001b[0mcallback\u001b[0m\u001b[0;34m(\u001b[0m\u001b[0mresult\u001b[0m\u001b[0;34m)\u001b[0m\u001b[0;34m\u001b[0m\u001b[0;34m\u001b[0m\u001b[0m\n",
      "\u001b[0;32m~/anaconda3/envs/cdcp_paper/lib/python3.7/site-packages/joblib/_parallel_backends.py\u001b[0m in \u001b[0;36m__init__\u001b[0;34m(self, batch)\u001b[0m\n\u001b[1;32m    570\u001b[0m         \u001b[0;31m# Don't delay the application, to avoid keeping the input\u001b[0m\u001b[0;34m\u001b[0m\u001b[0;34m\u001b[0m\u001b[0;34m\u001b[0m\u001b[0m\n\u001b[1;32m    571\u001b[0m         \u001b[0;31m# arguments in memory\u001b[0m\u001b[0;34m\u001b[0m\u001b[0;34m\u001b[0m\u001b[0;34m\u001b[0m\u001b[0m\n\u001b[0;32m--> 572\u001b[0;31m         \u001b[0mself\u001b[0m\u001b[0;34m.\u001b[0m\u001b[0mresults\u001b[0m \u001b[0;34m=\u001b[0m \u001b[0mbatch\u001b[0m\u001b[0;34m(\u001b[0m\u001b[0;34m)\u001b[0m\u001b[0;34m\u001b[0m\u001b[0;34m\u001b[0m\u001b[0m\n\u001b[0m\u001b[1;32m    573\u001b[0m \u001b[0;34m\u001b[0m\u001b[0m\n\u001b[1;32m    574\u001b[0m     \u001b[0;32mdef\u001b[0m \u001b[0mget\u001b[0m\u001b[0;34m(\u001b[0m\u001b[0mself\u001b[0m\u001b[0;34m)\u001b[0m\u001b[0;34m:\u001b[0m\u001b[0;34m\u001b[0m\u001b[0;34m\u001b[0m\u001b[0m\n",
      "\u001b[0;32m~/anaconda3/envs/cdcp_paper/lib/python3.7/site-packages/joblib/parallel.py\u001b[0m in \u001b[0;36m__call__\u001b[0;34m(self)\u001b[0m\n\u001b[1;32m    261\u001b[0m         \u001b[0;32mwith\u001b[0m \u001b[0mparallel_backend\u001b[0m\u001b[0;34m(\u001b[0m\u001b[0mself\u001b[0m\u001b[0;34m.\u001b[0m\u001b[0m_backend\u001b[0m\u001b[0;34m,\u001b[0m \u001b[0mn_jobs\u001b[0m\u001b[0;34m=\u001b[0m\u001b[0mself\u001b[0m\u001b[0;34m.\u001b[0m\u001b[0m_n_jobs\u001b[0m\u001b[0;34m)\u001b[0m\u001b[0;34m:\u001b[0m\u001b[0;34m\u001b[0m\u001b[0;34m\u001b[0m\u001b[0m\n\u001b[1;32m    262\u001b[0m             return [func(*args, **kwargs)\n\u001b[0;32m--> 263\u001b[0;31m                     for func, args, kwargs in self.items]\n\u001b[0m\u001b[1;32m    264\u001b[0m \u001b[0;34m\u001b[0m\u001b[0m\n\u001b[1;32m    265\u001b[0m     \u001b[0;32mdef\u001b[0m \u001b[0m__reduce__\u001b[0m\u001b[0;34m(\u001b[0m\u001b[0mself\u001b[0m\u001b[0;34m)\u001b[0m\u001b[0;34m:\u001b[0m\u001b[0;34m\u001b[0m\u001b[0;34m\u001b[0m\u001b[0m\n",
      "\u001b[0;32m~/anaconda3/envs/cdcp_paper/lib/python3.7/site-packages/joblib/parallel.py\u001b[0m in \u001b[0;36m<listcomp>\u001b[0;34m(.0)\u001b[0m\n\u001b[1;32m    261\u001b[0m         \u001b[0;32mwith\u001b[0m \u001b[0mparallel_backend\u001b[0m\u001b[0;34m(\u001b[0m\u001b[0mself\u001b[0m\u001b[0;34m.\u001b[0m\u001b[0m_backend\u001b[0m\u001b[0;34m,\u001b[0m \u001b[0mn_jobs\u001b[0m\u001b[0;34m=\u001b[0m\u001b[0mself\u001b[0m\u001b[0;34m.\u001b[0m\u001b[0m_n_jobs\u001b[0m\u001b[0;34m)\u001b[0m\u001b[0;34m:\u001b[0m\u001b[0;34m\u001b[0m\u001b[0;34m\u001b[0m\u001b[0m\n\u001b[1;32m    262\u001b[0m             return [func(*args, **kwargs)\n\u001b[0;32m--> 263\u001b[0;31m                     for func, args, kwargs in self.items]\n\u001b[0m\u001b[1;32m    264\u001b[0m \u001b[0;34m\u001b[0m\u001b[0m\n\u001b[1;32m    265\u001b[0m     \u001b[0;32mdef\u001b[0m \u001b[0m__reduce__\u001b[0m\u001b[0;34m(\u001b[0m\u001b[0mself\u001b[0m\u001b[0;34m)\u001b[0m\u001b[0;34m:\u001b[0m\u001b[0;34m\u001b[0m\u001b[0;34m\u001b[0m\u001b[0m\n",
      "\u001b[0;32m<ipython-input-14-4f9bd363d04f>\u001b[0m in \u001b[0;36mget_unit_statistic\u001b[0;34m(unit_to_analyze, spikesorting_folder, statistics_timestamp, identifier, recompute, parallel, n_time_bins, gaussian_sigma_ms, save, plot)\u001b[0m\n\u001b[1;32m     66\u001b[0m \u001b[0;34m\u001b[0m\u001b[0m\n\u001b[1;32m     67\u001b[0m     \u001b[0;32mif\u001b[0m \u001b[0mparallel\u001b[0m \u001b[0;34m==\u001b[0m \u001b[0;32mFalse\u001b[0m\u001b[0;34m:\u001b[0m\u001b[0;34m\u001b[0m\u001b[0;34m\u001b[0m\u001b[0m\n\u001b[0;32m---> 68\u001b[0;31m         \u001b[0mrun\u001b[0m\u001b[0;34m(\u001b[0m\u001b[0;34m)\u001b[0m\u001b[0;34m\u001b[0m\u001b[0;34m\u001b[0m\u001b[0m\n\u001b[0m\u001b[1;32m     69\u001b[0m     \u001b[0;32melse\u001b[0m\u001b[0;34m:\u001b[0m\u001b[0;34m\u001b[0m\u001b[0;34m\u001b[0m\u001b[0m\n\u001b[1;32m     70\u001b[0m         \u001b[0;32mtry\u001b[0m\u001b[0;34m:\u001b[0m\u001b[0;34m\u001b[0m\u001b[0;34m\u001b[0m\u001b[0m\n",
      "\u001b[0;32m<ipython-input-14-4f9bd363d04f>\u001b[0m in \u001b[0;36mrun\u001b[0;34m()\u001b[0m\n\u001b[1;32m     56\u001b[0m                 \u001b[0mtotal\u001b[0m\u001b[0;34m=\u001b[0m\u001b[0mlen\u001b[0m\u001b[0;34m(\u001b[0m\u001b[0mtrial_aligned_spikes\u001b[0m\u001b[0;34m)\u001b[0m\u001b[0;34m,\u001b[0m\u001b[0;34m\u001b[0m\u001b[0;34m\u001b[0m\u001b[0m\n\u001b[1;32m     57\u001b[0m                 \u001b[0mdesc\u001b[0m\u001b[0;34m=\u001b[0m\u001b[0;34m\"spike vectors\"\u001b[0m\u001b[0;34m,\u001b[0m\u001b[0;34m\u001b[0m\u001b[0;34m\u001b[0m\u001b[0m\n\u001b[0;32m---> 58\u001b[0;31m                 \u001b[0mleave\u001b[0m\u001b[0;34m=\u001b[0m\u001b[0;32mFalse\u001b[0m\u001b[0;34m,\u001b[0m\u001b[0;34m\u001b[0m\u001b[0;34m\u001b[0m\u001b[0m\n\u001b[0m\u001b[1;32m     59\u001b[0m             )\n\u001b[1;32m     60\u001b[0m         ]\n",
      "\u001b[0;32m<ipython-input-14-4f9bd363d04f>\u001b[0m in \u001b[0;36m<listcomp>\u001b[0;34m(.0)\u001b[0m\n\u001b[1;32m     52\u001b[0m                 \u001b[0mgaussian_sigma_ms\u001b[0m\u001b[0;34m=\u001b[0m\u001b[0mgaussian_sigma_ms\u001b[0m\u001b[0;34m,\u001b[0m\u001b[0;34m\u001b[0m\u001b[0;34m\u001b[0m\u001b[0m\n\u001b[1;32m     53\u001b[0m             )\n\u001b[0;32m---> 54\u001b[0;31m             for idx, row in tqdm(\n\u001b[0m\u001b[1;32m     55\u001b[0m                 \u001b[0mtrial_aligned_spikes\u001b[0m\u001b[0;34m.\u001b[0m\u001b[0miterrows\u001b[0m\u001b[0;34m(\u001b[0m\u001b[0;34m)\u001b[0m\u001b[0;34m,\u001b[0m\u001b[0;34m\u001b[0m\u001b[0;34m\u001b[0m\u001b[0m\n\u001b[1;32m     56\u001b[0m                 \u001b[0mtotal\u001b[0m\u001b[0;34m=\u001b[0m\u001b[0mlen\u001b[0m\u001b[0;34m(\u001b[0m\u001b[0mtrial_aligned_spikes\u001b[0m\u001b[0;34m)\u001b[0m\u001b[0;34m,\u001b[0m\u001b[0;34m\u001b[0m\u001b[0;34m\u001b[0m\u001b[0m\n",
      "\u001b[0;32m<ipython-input-12-06c7f002a003>\u001b[0m in \u001b[0;36mget_spike_train_vector\u001b[0;34m(row, nbins, gaussian_sigma_ms, return_gauss, no_cue, padding_s, mode)\u001b[0m\n\u001b[1;32m     49\u001b[0m             \u001b[0mbins\u001b[0m \u001b[0;34m=\u001b[0m \u001b[0mnp\u001b[0m\u001b[0;34m.\u001b[0m\u001b[0mlinspace\u001b[0m\u001b[0;34m(\u001b[0m\u001b[0;34m-\u001b[0m\u001b[0;36m1\u001b[0m\u001b[0;34m-\u001b[0m\u001b[0mpadding_s\u001b[0m\u001b[0;34m,\u001b[0m \u001b[0;36m1\u001b[0m\u001b[0;34m-\u001b[0m\u001b[0mpadding_s\u001b[0m\u001b[0;34m,\u001b[0m \u001b[0mnbins\u001b[0m \u001b[0;34m*\u001b[0m \u001b[0;36m2\u001b[0m \u001b[0;34m+\u001b[0m \u001b[0;36m1\u001b[0m\u001b[0;34m+\u001b[0m \u001b[0mpadding_bins\u001b[0m\u001b[0;34m*\u001b[0m\u001b[0;36m2\u001b[0m\u001b[0;34m)\u001b[0m\u001b[0;34m\u001b[0m\u001b[0;34m\u001b[0m\u001b[0m\n\u001b[1;32m     50\u001b[0m \u001b[0;34m\u001b[0m\u001b[0m\n\u001b[0;32m---> 51\u001b[0;31m     \u001b[0mhist\u001b[0m \u001b[0;34m=\u001b[0m \u001b[0mnp\u001b[0m\u001b[0;34m.\u001b[0m\u001b[0mhistogram\u001b[0m\u001b[0;34m(\u001b[0m\u001b[0mrow\u001b[0m\u001b[0;34m.\u001b[0m\u001b[0mspike_times\u001b[0m\u001b[0;34m,\u001b[0m \u001b[0mbins\u001b[0m\u001b[0;34m,\u001b[0m \u001b[0mdensity\u001b[0m\u001b[0;34m=\u001b[0m\u001b[0;32mFalse\u001b[0m\u001b[0;34m)\u001b[0m\u001b[0;34m[\u001b[0m\u001b[0;36m0\u001b[0m\u001b[0;34m]\u001b[0m\u001b[0;34m\u001b[0m\u001b[0;34m\u001b[0m\u001b[0m\n\u001b[0m\u001b[1;32m     52\u001b[0m     \u001b[0;32mif\u001b[0m \u001b[0mpadding_bins\u001b[0m\u001b[0;34m>\u001b[0m\u001b[0;36m0\u001b[0m\u001b[0;34m:\u001b[0m\u001b[0;34m\u001b[0m\u001b[0;34m\u001b[0m\u001b[0m\n\u001b[1;32m     53\u001b[0m         \u001b[0mhist\u001b[0m \u001b[0;34m=\u001b[0m \u001b[0mhist\u001b[0m\u001b[0;34m[\u001b[0m\u001b[0mpadding_bins\u001b[0m\u001b[0;34m:\u001b[0m\u001b[0;34m-\u001b[0m\u001b[0mpadding_bins\u001b[0m\u001b[0;34m]\u001b[0m\u001b[0;34m\u001b[0m\u001b[0;34m\u001b[0m\u001b[0m\n",
      "\u001b[0;32m<__array_function__ internals>\u001b[0m in \u001b[0;36mhistogram\u001b[0;34m(*args, **kwargs)\u001b[0m\n",
      "\u001b[0;32m~/anaconda3/envs/cdcp_paper/lib/python3.7/site-packages/numpy/lib/histograms.py\u001b[0m in \u001b[0;36mhistogram\u001b[0;34m(a, bins, range, normed, weights, density)\u001b[0m\n\u001b[1;32m    791\u001b[0m     \u001b[0ma\u001b[0m\u001b[0;34m,\u001b[0m \u001b[0mweights\u001b[0m \u001b[0;34m=\u001b[0m \u001b[0m_ravel_and_check_weights\u001b[0m\u001b[0;34m(\u001b[0m\u001b[0ma\u001b[0m\u001b[0;34m,\u001b[0m \u001b[0mweights\u001b[0m\u001b[0;34m)\u001b[0m\u001b[0;34m\u001b[0m\u001b[0;34m\u001b[0m\u001b[0m\n\u001b[1;32m    792\u001b[0m \u001b[0;34m\u001b[0m\u001b[0m\n\u001b[0;32m--> 793\u001b[0;31m     \u001b[0mbin_edges\u001b[0m\u001b[0;34m,\u001b[0m \u001b[0muniform_bins\u001b[0m \u001b[0;34m=\u001b[0m \u001b[0m_get_bin_edges\u001b[0m\u001b[0;34m(\u001b[0m\u001b[0ma\u001b[0m\u001b[0;34m,\u001b[0m \u001b[0mbins\u001b[0m\u001b[0;34m,\u001b[0m \u001b[0mrange\u001b[0m\u001b[0;34m,\u001b[0m \u001b[0mweights\u001b[0m\u001b[0;34m)\u001b[0m\u001b[0;34m\u001b[0m\u001b[0;34m\u001b[0m\u001b[0m\n\u001b[0m\u001b[1;32m    794\u001b[0m \u001b[0;34m\u001b[0m\u001b[0m\n\u001b[1;32m    795\u001b[0m     \u001b[0;31m# Histogram is an integer or a float array depending on the weights.\u001b[0m\u001b[0;34m\u001b[0m\u001b[0;34m\u001b[0m\u001b[0;34m\u001b[0m\u001b[0m\n",
      "\u001b[0;32m~/anaconda3/envs/cdcp_paper/lib/python3.7/site-packages/numpy/lib/histograms.py\u001b[0m in \u001b[0;36m_get_bin_edges\u001b[0;34m(a, bins, range, weights)\u001b[0m\n\u001b[1;32m    428\u001b[0m     \u001b[0;32melif\u001b[0m \u001b[0mnp\u001b[0m\u001b[0;34m.\u001b[0m\u001b[0mndim\u001b[0m\u001b[0;34m(\u001b[0m\u001b[0mbins\u001b[0m\u001b[0;34m)\u001b[0m \u001b[0;34m==\u001b[0m \u001b[0;36m1\u001b[0m\u001b[0;34m:\u001b[0m\u001b[0;34m\u001b[0m\u001b[0;34m\u001b[0m\u001b[0m\n\u001b[1;32m    429\u001b[0m         \u001b[0mbin_edges\u001b[0m \u001b[0;34m=\u001b[0m \u001b[0mnp\u001b[0m\u001b[0;34m.\u001b[0m\u001b[0masarray\u001b[0m\u001b[0;34m(\u001b[0m\u001b[0mbins\u001b[0m\u001b[0;34m)\u001b[0m\u001b[0;34m\u001b[0m\u001b[0;34m\u001b[0m\u001b[0m\n\u001b[0;32m--> 430\u001b[0;31m         \u001b[0;32mif\u001b[0m \u001b[0mnp\u001b[0m\u001b[0;34m.\u001b[0m\u001b[0many\u001b[0m\u001b[0;34m(\u001b[0m\u001b[0mbin_edges\u001b[0m\u001b[0;34m[\u001b[0m\u001b[0;34m:\u001b[0m\u001b[0;34m-\u001b[0m\u001b[0;36m1\u001b[0m\u001b[0;34m]\u001b[0m \u001b[0;34m>\u001b[0m \u001b[0mbin_edges\u001b[0m\u001b[0;34m[\u001b[0m\u001b[0;36m1\u001b[0m\u001b[0;34m:\u001b[0m\u001b[0;34m]\u001b[0m\u001b[0;34m)\u001b[0m\u001b[0;34m:\u001b[0m\u001b[0;34m\u001b[0m\u001b[0;34m\u001b[0m\u001b[0m\n\u001b[0m\u001b[1;32m    431\u001b[0m             raise ValueError(\n\u001b[1;32m    432\u001b[0m                 '`bins` must increase monotonically, when an array')\n",
      "\u001b[0;32m<__array_function__ internals>\u001b[0m in \u001b[0;36many\u001b[0;34m(*args, **kwargs)\u001b[0m\n",
      "\u001b[0;32m~/anaconda3/envs/cdcp_paper/lib/python3.7/site-packages/numpy/core/fromnumeric.py\u001b[0m in \u001b[0;36many\u001b[0;34m(a, axis, out, keepdims, where)\u001b[0m\n\u001b[1;32m   2357\u001b[0m     \"\"\"\n\u001b[1;32m   2358\u001b[0m     return _wrapreduction(a, np.logical_or, 'any', axis, None, out,\n\u001b[0;32m-> 2359\u001b[0;31m                           keepdims=keepdims, where=where)\n\u001b[0m\u001b[1;32m   2360\u001b[0m \u001b[0;34m\u001b[0m\u001b[0m\n\u001b[1;32m   2361\u001b[0m \u001b[0;34m\u001b[0m\u001b[0m\n",
      "\u001b[0;32m~/anaconda3/envs/cdcp_paper/lib/python3.7/site-packages/numpy/core/fromnumeric.py\u001b[0m in \u001b[0;36m_wrapreduction\u001b[0;34m(obj, ufunc, method, axis, dtype, out, **kwargs)\u001b[0m\n\u001b[1;32m     84\u001b[0m                 \u001b[0;32mreturn\u001b[0m \u001b[0mreduction\u001b[0m\u001b[0;34m(\u001b[0m\u001b[0maxis\u001b[0m\u001b[0;34m=\u001b[0m\u001b[0maxis\u001b[0m\u001b[0;34m,\u001b[0m \u001b[0mout\u001b[0m\u001b[0;34m=\u001b[0m\u001b[0mout\u001b[0m\u001b[0;34m,\u001b[0m \u001b[0;34m**\u001b[0m\u001b[0mpasskwargs\u001b[0m\u001b[0;34m)\u001b[0m\u001b[0;34m\u001b[0m\u001b[0;34m\u001b[0m\u001b[0m\n\u001b[1;32m     85\u001b[0m \u001b[0;34m\u001b[0m\u001b[0m\n\u001b[0;32m---> 86\u001b[0;31m     \u001b[0;32mreturn\u001b[0m \u001b[0mufunc\u001b[0m\u001b[0;34m.\u001b[0m\u001b[0mreduce\u001b[0m\u001b[0;34m(\u001b[0m\u001b[0mobj\u001b[0m\u001b[0;34m,\u001b[0m \u001b[0maxis\u001b[0m\u001b[0;34m,\u001b[0m \u001b[0mdtype\u001b[0m\u001b[0;34m,\u001b[0m \u001b[0mout\u001b[0m\u001b[0;34m,\u001b[0m \u001b[0;34m**\u001b[0m\u001b[0mpasskwargs\u001b[0m\u001b[0;34m)\u001b[0m\u001b[0;34m\u001b[0m\u001b[0;34m\u001b[0m\u001b[0m\n\u001b[0m\u001b[1;32m     87\u001b[0m \u001b[0;34m\u001b[0m\u001b[0m\n\u001b[1;32m     88\u001b[0m \u001b[0;34m\u001b[0m\u001b[0m\n",
      "\u001b[0;31mKeyboardInterrupt\u001b[0m: "
     ]
    }
   ],
   "source": [
    "Parallel(n_jobs=1, verbose=10)(\n",
    "    delayed(get_unit_statistic)(\n",
    "        unit_to_analyze,\n",
    "        spikesorting_folder,\n",
    "        statistics_timestamp,\n",
    "        recompute=True,\n",
    "        parallel=False,\n",
    "        save=False,\n",
    "        plot=False,\n",
    "    )\n",
    "    for uniti, unit_to_analyze in tqdm(\n",
    "        merged_units[:]\n",
    "        .iterrows(), desc=\"unit\", total=len(merged_units)\n",
    "    )\n",
    ")"
   ]
  },
  {
   "cell_type": "code",
   "execution_count": null,
   "id": "14e9cb75",
   "metadata": {
    "ExecuteTime": {
     "end_time": "2022-01-23T20:31:26.014494Z",
     "start_time": "2022-01-23T20:31:08.857Z"
    },
    "scrolled": true
   },
   "outputs": [],
   "source": [
    "%debug"
   ]
  },
  {
   "cell_type": "code",
   "execution_count": null,
   "id": "2f405e1c",
   "metadata": {
    "ExecuteTime": {
     "end_time": "2022-01-23T20:31:26.015506Z",
     "start_time": "2022-01-23T20:31:08.858Z"
    }
   },
   "outputs": [],
   "source": [
    "??get_unit_spike_trains"
   ]
  },
  {
   "cell_type": "code",
   "execution_count": null,
   "id": "a2e72329",
   "metadata": {
    "ExecuteTime": {
     "end_time": "2022-01-23T20:31:26.016561Z",
     "start_time": "2022-01-23T20:31:08.860Z"
    }
   },
   "outputs": [],
   "source": [
    "merged_units[:3]"
   ]
  },
  {
   "cell_type": "code",
   "execution_count": null,
   "id": "3e314f01",
   "metadata": {
    "ExecuteTime": {
     "end_time": "2022-01-23T20:31:26.017544Z",
     "start_time": "2022-01-23T20:31:08.862Z"
    }
   },
   "outputs": [],
   "source": [
    "recording_id = "
   ]
  },
  {
   "cell_type": "code",
   "execution_count": null,
   "id": "ed92991b",
   "metadata": {
    "ExecuteTime": {
     "end_time": "2022-01-23T20:31:26.018567Z",
     "start_time": "2022-01-23T20:31:08.863Z"
    }
   },
   "outputs": [],
   "source": [
    "(spikesorting_folder\n",
    "            / \"trial_aligned_spikes_padding_100ms\"\n",
    "            / sorter\n",
    "            / \"exp1_rec1_dat2021-07-20_23-18-06\")"
   ]
  },
  {
   "cell_type": "code",
   "execution_count": null,
   "id": "117891f5",
   "metadata": {
    "ExecuteTime": {
     "end_time": "2022-01-23T20:31:26.019515Z",
     "start_time": "2022-01-23T20:31:08.865Z"
    }
   },
   "outputs": [],
   "source": [
    "!ls /mnt/cube/tsainbur/Projects/github_repos/cdcp_chronic/data/spikesorting/B1459/2021-08-26_21-21-12_755614/trial_aligned_spikes_padding_100ms/kilosort2_5/exp1_rec1_dat2021-07-20_17-15-11"
   ]
  },
  {
   "cell_type": "code",
   "execution_count": null,
   "id": "54f67368",
   "metadata": {},
   "outputs": [],
   "source": []
  },
  {
   "cell_type": "code",
   "execution_count": null,
   "id": "465f7ac8",
   "metadata": {},
   "outputs": [],
   "source": []
  }
 ],
 "metadata": {
  "kernelspec": {
   "display_name": "cdcp_paper",
   "language": "python",
   "name": "cdcp_paper"
  },
  "language_info": {
   "codemirror_mode": {
    "name": "ipython",
    "version": 3
   },
   "file_extension": ".py",
   "mimetype": "text/x-python",
   "name": "python",
   "nbconvert_exporter": "python",
   "pygments_lexer": "ipython3",
   "version": "3.9.16"
  }
 },
 "nbformat": 4,
 "nbformat_minor": 5
}
