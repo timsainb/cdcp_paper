{
 "cells": [
  {
   "cell_type": "code",
   "execution_count": 3,
   "id": "ca15f86f",
   "metadata": {
    "ExecuteTime": {
     "end_time": "2021-11-20T22:17:47.371601Z",
     "start_time": "2021-11-20T22:17:47.243665Z"
    }
   },
   "outputs": [],
   "source": [
    "%load_ext autoreload\n",
    "%autoreload 2"
   ]
  },
  {
   "cell_type": "code",
   "execution_count": 4,
   "id": "b6245c52",
   "metadata": {
    "ExecuteTime": {
     "end_time": "2021-11-20T22:17:47.509534Z",
     "start_time": "2021-11-20T22:17:47.480856Z"
    }
   },
   "outputs": [
    {
     "data": {
      "text/plain": [
       "1"
      ]
     },
     "execution_count": 4,
     "metadata": {},
     "output_type": "execute_result"
    }
   ],
   "source": [
    "import os\n",
    "# set to be lower priority\n",
    "os.nice(1) "
   ]
  },
  {
   "cell_type": "code",
   "execution_count": 5,
   "id": "8eca520e",
   "metadata": {
    "ExecuteTime": {
     "end_time": "2021-11-20T22:17:48.510117Z",
     "start_time": "2021-11-20T22:17:47.677464Z"
    }
   },
   "outputs": [
    {
     "name": "stderr",
     "output_type": "stream",
     "text": [
      "/home/AD/tsainbur/anaconda3/envs/cdcp_paper/lib/python3.7/site-packages/ipykernel_launcher.py:7: TqdmExperimentalWarning: Using `tqdm.autonotebook.tqdm` in notebook mode. Use `tqdm.tqdm` instead to force console mode (e.g. in jupyter console)\n",
      "  import sys\n"
     ]
    }
   ],
   "source": [
    "import pandas  as pd\n",
    "from cdcp.paths import DATA_DIR, ensure_dir\n",
    "import numpy as np\n",
    "import matplotlib.pyplot as plt\n",
    "import datetime\n",
    "from pathlib2 import Path\n",
    "from tqdm.autonotebook import tqdm\n",
    "pd.set_option('display.max_columns', 500)\n",
    "from joblib import Parallel, delayed"
   ]
  },
  {
   "cell_type": "code",
   "execution_count": 6,
   "id": "85545ea9",
   "metadata": {
    "ExecuteTime": {
     "end_time": "2021-11-20T22:17:48.534643Z",
     "start_time": "2021-11-20T22:17:48.512384Z"
    }
   },
   "outputs": [],
   "source": [
    "from datetime import datetime"
   ]
  },
  {
   "cell_type": "code",
   "execution_count": 7,
   "id": "e9ed2153",
   "metadata": {
    "ExecuteTime": {
     "end_time": "2021-11-20T22:17:48.656918Z",
     "start_time": "2021-11-20T22:17:48.536953Z"
    }
   },
   "outputs": [],
   "source": [
    "from cdcp.spiketrain_analysis.spiketrain_utils import get_unit_spike_trains"
   ]
  },
  {
   "cell_type": "code",
   "execution_count": 8,
   "id": "a56431c7",
   "metadata": {
    "ExecuteTime": {
     "end_time": "2021-11-20T22:17:48.683481Z",
     "start_time": "2021-11-20T22:17:48.661259Z"
    }
   },
   "outputs": [
    {
     "data": {
      "text/plain": [
       "'2021-10-23_23-02-31_846685'"
      ]
     },
     "execution_count": 8,
     "metadata": {},
     "output_type": "execute_result"
    }
   ],
   "source": [
    "# \"2021-10-07_16-05-58_796914\" '2021-10-06_13-30-08_899062' '2021-10-01_17-02-56_744915' \n",
    "statistics_timestamp = '2021-10-23_23-02-31_846685'# datetime.now().strftime(\"%Y-%m-%d_%H-%M-%S_%f\")#\n",
    "statistics_timestamp"
   ]
  },
  {
   "cell_type": "code",
   "execution_count": 9,
   "id": "afaebd76",
   "metadata": {
    "ExecuteTime": {
     "end_time": "2021-11-20T22:17:48.705135Z",
     "start_time": "2021-11-20T22:17:48.685188Z"
    }
   },
   "outputs": [],
   "source": [
    "birds = [\n",
    "    ('B1597', '2021-05-14_12-40-20_423998', 'kilosort2_5'),\n",
    "    ('B1188', '2021-05-31_18-52-29_558216', 'kilosort2_5'),\n",
    "    ('B1595', '2021-07-10_16-42-47_090257', 'kilosort2'),\n",
    "    ('B1276', '2021-07-14_11-14-02_257025', 'kilosort2'),\n",
    "    ('B1426', '2021-07-14_11-29-39_657273', 'kilosort2'),\n",
    "    ('B1432', '2021-06-01_15-14-38_561892', 'kilosort2_5'),\n",
    "    ('B1170', '2021-06-01_21-01-26_519005', 'kilosort2_5'),\n",
    "    ('B1244', '2021-07-14_12-57-45_546674', 'kilosort2'),\n",
    "    ('B1593', '2021-06-28_18-13-24_826008', 'kilosort2_5'),\n",
    "    ('B1248', '2021-07-03_18-08-01_063431', 'kilosort2_5'),\n",
    "    # acute\n",
    "    #('B1279', '2021-04-12_16-27-07_289527', 'kilosort2_5'),\n",
    "    #('B1500', '2021-08-27_09-24-48_680961', 'kilosort2_5'),\n",
    "    #('B1239', '2021-05-17_22-18-51_557635', 'kilosort2'),\n",
    "    #('B1459', '2021-08-26_21-21-12_755614', 'kilosort2_5'),\n",
    "]"
   ]
  },
  {
   "cell_type": "code",
   "execution_count": 10,
   "id": "22b67748",
   "metadata": {
    "ExecuteTime": {
     "end_time": "2021-11-20T22:17:48.724649Z",
     "start_time": "2021-11-20T22:17:48.706868Z"
    }
   },
   "outputs": [],
   "source": [
    "min_playbacks = 1000"
   ]
  },
  {
   "cell_type": "code",
   "execution_count": 73,
   "id": "a238d4e3",
   "metadata": {
    "ExecuteTime": {
     "end_time": "2021-11-21T03:04:50.829673Z",
     "start_time": "2021-11-21T03:04:50.797922Z"
    }
   },
   "outputs": [],
   "source": [
    "from sklearn.metrics.pairwise import (\n",
    "    cosine_similarity,\n",
    "    euclidean_distances,\n",
    "    manhattan_distances,\n",
    ")\n",
    "\n",
    "\n",
    "def get_similarity_matrix(x, y, metric=\"correlation\"):\n",
    "    if metric == \"correlation\":\n",
    "        sm = corr2_coeff(x, y)\n",
    "    elif metric == \"manhattan\":\n",
    "        sm = 1 / (1 + euclidean_distances(x, y))\n",
    "    elif metric == \"euclidean\":\n",
    "        sm = 1 / (1 + manhattan_distances(x, y))\n",
    "    elif metric == \"cosine\":\n",
    "        sm = cosine_similarity(x, y)\n",
    "    return sm\n",
    "\n",
    "\n",
    "def z_score(x):\n",
    "    x = np.array(x)\n",
    "    return (x - np.mean(x)) / np.std(x)\n",
    "\n",
    "def get_mean_similarity(similarity_dict, cue=\"CL\", n_interp_point_bins=16):\n",
    "    mean_similarity_matrix = np.zeros((n_interp_point_bins, n_interp_point_bins))\n",
    "    n_similarity_matrix = np.zeros((n_interp_point_bins, n_interp_point_bins))\n",
    "    mean_similarity_matrix[:] = np.nan\n",
    "    for ip1 in range(n_interp_point_bins):\n",
    "        for ip2 in range(ip1 + 1):\n",
    "            if ip1 in similarity_dict[cue]:\n",
    "                if ip2 in similarity_dict[cue][ip1]:\n",
    "                    mean_similarity_matrix[ip1, ip2] = mean_similarity_matrix[\n",
    "                        ip2, ip1\n",
    "                    ] = np.nanmean(similarity_dict[cue][ip1][ip2])\n",
    "                    n_similarity_matrix[ip1, ip2] = n_similarity_matrix[\n",
    "                        ip2, ip1\n",
    "                    ] = np.sum(np.isnan(similarity_dict[cue][ip1][ip2]) == False)\n",
    "\n",
    "    return mean_similarity_matrix, n_similarity_matrix"
   ]
  },
  {
   "cell_type": "code",
   "execution_count": 74,
   "id": "0486ff09",
   "metadata": {
    "ExecuteTime": {
     "end_time": "2021-11-21T03:04:51.017879Z",
     "start_time": "2021-11-21T03:04:50.994812Z"
    }
   },
   "outputs": [],
   "source": [
    "from cdcp.spiketrain_analysis.spiketrain_utils import (\n",
    "    bin_interp_points)"
   ]
  },
  {
   "cell_type": "code",
   "execution_count": 94,
   "id": "14fcaaa5",
   "metadata": {
    "ExecuteTime": {
     "end_time": "2021-11-21T03:53:54.063700Z",
     "start_time": "2021-11-21T03:53:54.028418Z"
    }
   },
   "outputs": [],
   "source": [
    "def create_similarity_metric_dict(\n",
    "    interp_trial_aligned_spikes,\n",
    "    n_interp_point_bins,\n",
    "    all_cues,\n",
    "    similarity_metrics,\n",
    "    cue_col=\"cue\",\n",
    "):\n",
    "    similarity_metric_dict = {\n",
    "        metric: {\n",
    "            cue: {i: {j: [] for j in range(i + 1)} for i in range(n_interp_point_bins)}\n",
    "            for cue in [c[-1] for c in all_cues]\n",
    "        }\n",
    "        for metric in similarity_metrics\n",
    "    }\n",
    "    for cue_list, cue_identifier in tqdm(\n",
    "        all_cues,\n",
    "        desc=\"cue\",\n",
    "        leave=False,\n",
    "    ):\n",
    "        cue_interp_trial_aligned_spikes = interp_trial_aligned_spikes[\n",
    "            interp_trial_aligned_spikes[cue_col].isin(cue_list)\n",
    "        ]\n",
    "        nex = len(cue_interp_trial_aligned_spikes)\n",
    "\n",
    "        if nex < 2:\n",
    "            continue\n",
    "\n",
    "        unique_interpolation_points = np.unique(\n",
    "            cue_interp_trial_aligned_spikes.interp_point_binned.values.astype(int)\n",
    "        )\n",
    "\n",
    "        for ip1 in unique_interpolation_points:\n",
    "            for ip2 in unique_interpolation_points[unique_interpolation_points <= ip1]:\n",
    "                # get mask for spikes\n",
    "                ip1_spikes_mask = (\n",
    "                    cue_interp_trial_aligned_spikes.interp_point_binned == ip1\n",
    "                )\n",
    "                ip2_spikes_mask = (\n",
    "                    cue_interp_trial_aligned_spikes.interp_point_binned == ip2\n",
    "                )\n",
    "\n",
    "                if (np.sum(ip1_spikes_mask) == 0) or (np.sum(ip2_spikes_mask) == 0):\n",
    "                    continue\n",
    "\n",
    "                # grab spiketrains\n",
    "                ip1_spikes = np.stack(\n",
    "                    cue_interp_trial_aligned_spikes[\n",
    "                        ip1_spikes_mask\n",
    "                    ].spike_vectors.values\n",
    "                )\n",
    "                ip2_spikes = np.stack(\n",
    "                    cue_interp_trial_aligned_spikes[\n",
    "                        ip2_spikes_mask\n",
    "                    ].spike_vectors.values\n",
    "                )\n",
    "                \n",
    "                if (len(ip1_spikes) == 1)& (len(ip2_spikes) == 1):\n",
    "                    if ip1 == ip2:\n",
    "                        continue\n",
    "\n",
    "                # similarity\n",
    "                for similarity_metric in similarity_metrics:\n",
    "                    similarity_matrix = get_similarity_matrix(\n",
    "                        ip1_spikes, ip2_spikes, metric=similarity_metric\n",
    "                    )\n",
    "                    if ip1 == ip2:\n",
    "                        similarity_vals = similarity_matrix[\n",
    "                            np.tril_indices(len(similarity_matrix), k=-1)\n",
    "                        ]\n",
    "                    else:\n",
    "                        similarity_vals = similarity_matrix.flatten()\n",
    "                        \n",
    "                    if cue_identifier == 'CL0':\n",
    "                        breakme\n",
    "                    \n",
    "                    similarity_metric_dict[similarity_metric][cue_identifier][ip1][\n",
    "                        ip2\n",
    "                    ] = similarity_vals\n",
    "                    \n",
    "                    \n",
    "\n",
    "    return similarity_metric_dict"
   ]
  },
  {
   "cell_type": "code",
   "execution_count": 76,
   "id": "0a73cf67",
   "metadata": {
    "ExecuteTime": {
     "end_time": "2021-11-21T03:04:51.341508Z",
     "start_time": "2021-11-21T03:04:51.310240Z"
    }
   },
   "outputs": [],
   "source": [
    "def get_cued_similarity_difference(\n",
    "    similarity_dict, n_interp_point_bins, cue_A=\"CL\", cue_B=\"CR\", equal_sizes=False\n",
    "):\n",
    "    cue_cue_distance_mat_d = np.zeros((n_interp_point_bins, n_interp_point_bins))\n",
    "    cue_cue_distance_mat_d[:] = np.nan\n",
    "\n",
    "    cue_cue_count_A = np.zeros((n_interp_point_bins, n_interp_point_bins))\n",
    "    cue_cue_count_A[:] = np.nan\n",
    "\n",
    "    cue_cue_count_B = np.zeros((n_interp_point_bins, n_interp_point_bins))\n",
    "    cue_cue_count_B[:] = np.nan\n",
    "\n",
    "    for ip1 in range(n_interp_point_bins):\n",
    "        for ip2 in range(ip1 + 1):\n",
    "            sim_A = np.array(similarity_dict[cue_A][ip1][ip2])\n",
    "            sim_B = np.array(similarity_dict[cue_B][ip1][ip2])\n",
    "            sim_A = sim_A[np.isnan(sim_A) == False]\n",
    "            sim_B = sim_B[np.isnan(sim_B) == False]\n",
    "\n",
    "            if (len(sim_A) > 1) and (len(sim_B) > 1):\n",
    "\n",
    "                cue_cue_distance_mat_d[ip2, ip1] = np.nanmean(sim_A) - np.nanmean(sim_B)\n",
    "                cue_cue_distance_mat_d[ip1, ip2] = np.nanmean(sim_A) - np.nanmean(sim_B)\n",
    "\n",
    "                # count the number\n",
    "                cue_cue_count_A[ip2, ip1] = np.sum(np.isnan(sim_A) == False)\n",
    "                cue_cue_count_A[ip1, ip2] = np.sum(np.isnan(sim_A) == False)\n",
    "                cue_cue_count_B[ip2, ip1] = np.sum(np.isnan(sim_B) == False)\n",
    "                cue_cue_count_B[ip1, ip2] = np.sum(np.isnan(sim_B) == False)\n",
    "\n",
    "    return (\n",
    "        cue_cue_distance_mat_d,\n",
    "        cue_cue_count_A,\n",
    "        cue_cue_count_B,\n",
    "    )"
   ]
  },
  {
   "cell_type": "code",
   "execution_count": 77,
   "id": "30c59581",
   "metadata": {
    "ExecuteTime": {
     "end_time": "2021-11-21T03:04:51.517088Z",
     "start_time": "2021-11-21T03:04:51.480834Z"
    }
   },
   "outputs": [],
   "source": [
    "def compute_cued_sm_differences(\n",
    "    trial_aligned_spikes,\n",
    "    n_time_bins,\n",
    "    n_interp_point_bins,\n",
    "    passive=False,\n",
    "    flip_bins=True,\n",
    "    equal_sizes=False,\n",
    "    exclude_non_responses=False,\n",
    "    all_cues=[\n",
    "        ([\"CL0\", \"CL1\"], \"CL\"),\n",
    "        ([\"CR0\", \"CR1\"], \"CR\"),\n",
    "        ([\"CR1\"], \"CR1\"),\n",
    "        ([\"CL1\"], \"CL1\"),\n",
    "        ([\"CR0\"], \"CR0\"),\n",
    "        ([\"CL0\"], \"CL0\"),\n",
    "        ([\"NC\"], \"NC\"),\n",
    "        ([\"CN\"], \"CN\"),\n",
    "    ],\n",
    "    similarity_metrics=[\"cosine\", \"euclidean\"],\n",
    "):\n",
    "\n",
    "    # ensure interp point is an integer\n",
    "    trial_aligned_spikes[\"interp_point_binned\"] = bin_interp_points(\n",
    "        trial_aligned_spikes[\"interp_point\"].values.astype(int),\n",
    "        n_interp_point_bins,\n",
    "        flip_bins=flip_bins,\n",
    "    )\n",
    "    # exclude passive trials\n",
    "    trial_aligned_spikes = trial_aligned_spikes[\n",
    "        trial_aligned_spikes.passive == passive\n",
    "    ]\n",
    "    \n",
    "    if exclude_non_responses:\n",
    "        trial_aligned_spikes = trial_aligned_spikes[\n",
    "            trial_aligned_spikes.response.isin([\"left\", \"right\"])\n",
    "        ]\n",
    "    \n",
    "    sm_df = pd.DataFrame(\n",
    "        columns = [\n",
    "            \"interp\", \"cue\", \"metric\", \"sm\", \"sm_n\", \"shuffled\"\n",
    "        ]\n",
    "    )\n",
    "    \n",
    "    for interpolation in tqdm(\n",
    "        trial_aligned_spikes.interp.unique(), desc=\"interpolation\", leave=False\n",
    "    ):\n",
    "        # subset\n",
    "        interp_trial_aligned_spikes = trial_aligned_spikes[\n",
    "            (trial_aligned_spikes.interp == interpolation)\n",
    "        ]\n",
    "\n",
    "        # create shuffled cue condition\n",
    "        interp_trial_aligned_spikes[\"cue_shuffled\"] = interp_trial_aligned_spikes[\"cue\"]\n",
    "        for ip_bin in np.unique(interp_trial_aligned_spikes.interp_point_binned.values):\n",
    "            m = (\n",
    "                (interp_trial_aligned_spikes.interp_point_binned == ip_bin)\n",
    "                & (interp_trial_aligned_spikes.cue.isin([\"CL0\", \"CL1\", \"CR0\", \"CR1\"]))\n",
    "            ).values\n",
    "            permuted_cues = list(\n",
    "                np.random.permutation(interp_trial_aligned_spikes.iloc[m][\"cue\"].values)\n",
    "            )\n",
    "            interp_trial_aligned_spikes.loc[m, \"cue_shuffled\"] = permuted_cues\n",
    "        \n",
    "        # get similarity\n",
    "        similarity_metric_dict = create_similarity_metric_dict(\n",
    "            interp_trial_aligned_spikes,\n",
    "            n_interp_point_bins,\n",
    "            all_cues,\n",
    "            cue_col=\"cue\",\n",
    "            similarity_metrics=similarity_metrics,\n",
    "        )\n",
    "\n",
    "        similarity_metric_dict_shuffled = create_similarity_metric_dict(\n",
    "            interp_trial_aligned_spikes,\n",
    "            n_interp_point_bins,\n",
    "            all_cues,\n",
    "            cue_col=\"cue_shuffled\",\n",
    "            similarity_metrics=similarity_metrics,\n",
    "        )\n",
    "\n",
    "        for (sm_dict, shuffled) in [\n",
    "            (similarity_metric_dict, False),\n",
    "            (similarity_metric_dict_shuffled, True),\n",
    "        ]:\n",
    "\n",
    "            # save the average similarity matrices\n",
    "            for similarity_metric in similarity_metrics:\n",
    "                for cue_list, cue_identifier in all_cues:\n",
    "                    mean_similarity_matrix, n_similarity_matrix = get_mean_similarity(\n",
    "                        sm_dict[similarity_metric], cue=cue_identifier\n",
    "                    )\n",
    "                    \n",
    "                    ### add to dataset\n",
    "                    sm_df.loc[len(sm_df)] = [\n",
    "                        interpolation,\n",
    "                        cue_identifier,\n",
    "                        similarity_metric,\n",
    "                        mean_similarity_matrix,\n",
    "                        n_similarity_matrix,\n",
    "                        shuffled\n",
    "                    ]\n",
    "                    \n",
    "    return sm_df"
   ]
  },
  {
   "cell_type": "markdown",
   "id": "c1cdb66c",
   "metadata": {},
   "source": [
    "### Compute spike vectors and statistics"
   ]
  },
  {
   "cell_type": "code",
   "execution_count": 78,
   "id": "7a914ed0",
   "metadata": {
    "ExecuteTime": {
     "end_time": "2021-11-21T03:04:52.450707Z",
     "start_time": "2021-11-21T03:04:52.426621Z"
    }
   },
   "outputs": [],
   "source": [
    "identifier = \"sm_each_cue\""
   ]
  },
  {
   "cell_type": "code",
   "execution_count": 79,
   "id": "51bc18a4",
   "metadata": {
    "ExecuteTime": {
     "end_time": "2021-11-21T03:04:52.694885Z",
     "start_time": "2021-11-21T03:04:52.664750Z"
    }
   },
   "outputs": [],
   "source": [
    "def get_unit_statistic(\n",
    "    unit_to_analyze,\n",
    "    spikesorting_folder,\n",
    "    statistics_timestamp,\n",
    "    identifier=identifier,\n",
    "    recompute=False,\n",
    "    parallel=True,\n",
    "    n_interp_point_bins=16,\n",
    "    n_time_bins=100,\n",
    "    include_passive=True,\n",
    "    flip_bins=True,\n",
    "    save=True,\n",
    "    passive=False, \n",
    "    plot=False,\n",
    "    exclude_non_responses=True,\n",
    "    equal_sizes=False\n",
    "):\n",
    "    def run():\n",
    "\n",
    "        unit_series_save_loc = (\n",
    "            spikesorting_folder\n",
    "            / \"unit_statistics\"\n",
    "            / statistics_timestamp\n",
    "            / identifier\n",
    "            / \"{}.pickle\".format(unit_to_analyze.cluster_id)\n",
    "        )\n",
    "\n",
    "        # check if we need to run everything\n",
    "        if unit_series_save_loc.exists() and (recompute is False):\n",
    "            print(\"neurometric already exists\")\n",
    "            return\n",
    "\n",
    "        # make sure folder exists\n",
    "        ensure_dir(unit_series_save_loc)\n",
    "\n",
    "        unit_series_list = []\n",
    "        \n",
    "        # load spike trains\n",
    "        trial_aligned_spikes = get_unit_spike_trains(\n",
    "            unit_to_analyze.sort_units, spikesorting_folder, sorter, unit_to_analyze\n",
    "        )\n",
    "        if trial_aligned_spikes is None:\n",
    "            #breakme\n",
    "            # because there are not enough spikes for this unit to be worth it\n",
    "            print(\"no trial_aligned_spikes\") \n",
    "            return\n",
    "\n",
    "        # load spike train vectors\n",
    "        spiketrain_vector_loc = (\n",
    "            spikesorting_folder\n",
    "            / \"unit_statistics\"\n",
    "            / statistics_timestamp\n",
    "            / \"response_vector_25ms_{}\".format(n_time_bins)\n",
    "            / \"{}.npy\".format(unit_to_analyze.cluster_id)\n",
    "        )\n",
    "        if spiketrain_vector_loc.exists() == False:\n",
    "            print(\"no spiketrains\")\n",
    "            return\n",
    "\n",
    "        trial_aligned_spikes[\"spike_vectors\"] = list(np.load(spiketrain_vector_loc))\n",
    "\n",
    "        # how self-similar the unit's activity remains over time\n",
    "        statistic_series = compute_cued_sm_differences(\n",
    "            trial_aligned_spikes,\n",
    "            flip_bins=flip_bins,\n",
    "            n_time_bins=n_time_bins,\n",
    "            n_interp_point_bins=n_interp_point_bins,\n",
    "            passive=passive,\n",
    "            equal_sizes=equal_sizes,\n",
    "            exclude_non_responses=exclude_non_responses,\n",
    "        )\n",
    "        if statistic_series is not None:\n",
    "            unit_series_list.append(statistic_series)\n",
    "\n",
    "        # skip if no data is available\n",
    "        if len(unit_series_list) == 0:\n",
    "            return\n",
    "\n",
    "        # save final row\n",
    "        unit_series = pd.concat(unit_series_list)\n",
    "\n",
    "        if save:\n",
    "            unit_series.to_pickle(unit_series_save_loc)\n",
    "        \n",
    "        return unit_series\n",
    "\n",
    "    if parallel == False:\n",
    "        run()\n",
    "    else:\n",
    "        try:\n",
    "            run()\n",
    "        except Exception as e:\n",
    "            with open(\"error_log.txt\", \"w\") as text_file:\n",
    "                text_file.write(str(e))\n",
    "            raise ValueError(unit_to_analyze.cluster_id)"
   ]
  },
  {
   "cell_type": "code",
   "execution_count": 85,
   "id": "b27bf318",
   "metadata": {
    "ExecuteTime": {
     "end_time": "2021-11-21T03:47:58.518073Z",
     "start_time": "2021-11-21T03:47:57.508942Z"
    },
    "scrolled": true
   },
   "outputs": [
    {
     "data": {
      "application/vnd.jupyter.widget-view+json": {
       "model_id": "ac5ba68cd09c47be9ef080c5457eb73f",
       "version_major": 2,
       "version_minor": 0
      },
      "text/plain": [
       "  0%|          | 0/10 [00:00<?, ?it/s]"
      ]
     },
     "metadata": {},
     "output_type": "display_data"
    },
    {
     "data": {
      "image/png": "[encoded data removed]",
      "text/plain": [
       "<Figure size 1000x200 with 2 Axes>"
      ]
     },
     "metadata": {},
     "output_type": "display_data"
    },
    {
     "name": "stdout",
     "output_type": "stream",
     "text": [
      "B1597 total # merged units: 8711\n"
     ]
    }
   ],
   "source": [
    "for bird, timestamp, sorter in tqdm(birds):\n",
    "    spikesorting_folder = (DATA_DIR\n",
    "                / \"spikesorting\"\n",
    "                / bird\n",
    "                / timestamp)\n",
    "    recording_summary_df = pd.read_pickle(spikesorting_folder/ 'recording_df.pickle')\n",
    "\n",
    "    # get units that are to be merged\n",
    "    merged_units = pd.read_pickle(spikesorting_folder / 'unit_clusters2.pickle')\n",
    "    merged_units = merged_units.sort_values(by='n_playbacks', ascending=False)\n",
    "    merged_units = merged_units[merged_units.n_playbacks.astype('float')  > min_playbacks]\n",
    "    \n",
    "    plot = True\n",
    "    if plot:\n",
    "        fig, axs = plt.subplots(ncols=2, figsize=(10,2))\n",
    "        axs[0].hist(np.log10(merged_units.n_playbacks.values.astype('float')+1), bins = 100);\n",
    "        axs[0].set_title('log # playbacks')\n",
    "        axs[1].hist(np.log10(merged_units.n_spikes.values.astype('float')+1), bins = 100);\n",
    "        axs[1].set_title('log # spikes')\n",
    "        plt.show()\n",
    "        print('{} total # merged units: {}'.format(bird, len(merged_units)))\n",
    "\n",
    "    ensure_dir(spikesorting_folder / 'unit_statistics' / statistics_timestamp)\n",
    "    break\n",
    "    Parallel(n_jobs = 44, verbose=10)(\n",
    "        delayed(get_unit_statistic)(\n",
    "            unit_to_analyze,\n",
    "            spikesorting_folder,\n",
    "            statistics_timestamp,\n",
    "            recompute=True,\n",
    "            parallel=True,\n",
    "            n_interp_point_bins=16,\n",
    "            exclude_non_responses=True,\n",
    "            passive=False\n",
    "                    )\n",
    "        for uniti, unit_to_analyze in tqdm(\n",
    "            merged_units.iterrows(), desc=\"unit\", total=len(merged_units)\n",
    "        )\n",
    "    );"
   ]
  },
  {
   "cell_type": "code",
   "execution_count": 54,
   "id": "0ef7bceb",
   "metadata": {
    "ExecuteTime": {
     "end_time": "2021-11-21T02:21:51.130195Z",
     "start_time": "2021-11-21T02:21:51.083134Z"
    }
   },
   "outputs": [
    {
     "data": {
      "text/plain": [
       "'B1248'"
      ]
     },
     "execution_count": 54,
     "metadata": {},
     "output_type": "execute_result"
    }
   ],
   "source": [
    "bird"
   ]
  },
  {
   "cell_type": "markdown",
   "id": "93d67864",
   "metadata": {},
   "source": [
    "### Debugging"
   ]
  },
  {
   "cell_type": "code",
   "execution_count": 50,
   "id": "c0023f32",
   "metadata": {
    "ExecuteTime": {
     "end_time": "2021-11-20T22:21:11.596855Z",
     "start_time": "2021-11-20T22:21:11.570643Z"
    }
   },
   "outputs": [
    {
     "ename": "NameError",
     "evalue": "name 'breakme' is not defined",
     "output_type": "error",
     "traceback": [
      "\u001b[0;31m---------------------------------------------------------------------------\u001b[0m",
      "\u001b[0;31mNameError\u001b[0m                                 Traceback (most recent call last)",
      "\u001b[0;32m<ipython-input-50-30cfd92a94be>\u001b[0m in \u001b[0;36m<module>\u001b[0;34m\u001b[0m\n\u001b[0;32m----> 1\u001b[0;31m \u001b[0mbreakme\u001b[0m\u001b[0;34m\u001b[0m\u001b[0;34m\u001b[0m\u001b[0m\n\u001b[0m",
      "\u001b[0;31mNameError\u001b[0m: name 'breakme' is not defined"
     ]
    }
   ],
   "source": [
    "breakme"
   ]
  },
  {
   "cell_type": "code",
   "execution_count": 86,
   "id": "b3994489",
   "metadata": {
    "ExecuteTime": {
     "end_time": "2021-11-21T03:48:07.442750Z",
     "start_time": "2021-11-21T03:48:07.410155Z"
    }
   },
   "outputs": [
    {
     "data": {
      "text/plain": [
       "(array([1436]),)"
      ]
     },
     "execution_count": 86,
     "metadata": {},
     "output_type": "execute_result"
    }
   ],
   "source": [
    "np.where(merged_units.cluster_id == 6270)"
   ]
  },
  {
   "cell_type": "code",
   "execution_count": 95,
   "id": "ec85d05c",
   "metadata": {
    "ExecuteTime": {
     "end_time": "2021-11-21T03:54:05.405310Z",
     "start_time": "2021-11-21T03:54:04.154150Z"
    },
    "scrolled": true
   },
   "outputs": [
    {
     "data": {
      "application/vnd.jupyter.widget-view+json": {
       "model_id": "ae0cfad9421a469e95e5eaff96814985",
       "version_major": 2,
       "version_minor": 0
      },
      "text/plain": [
       "unit:   0%|          | 0/8711 [00:00<?, ?it/s]"
      ]
     },
     "metadata": {},
     "output_type": "display_data"
    },
    {
     "name": "stderr",
     "output_type": "stream",
     "text": [
      "[Parallel(n_jobs=1)]: Using backend SequentialBackend with 1 concurrent workers.\n"
     ]
    },
    {
     "data": {
      "application/vnd.jupyter.widget-view+json": {
       "model_id": "",
       "version_major": 2,
       "version_minor": 0
      },
      "text/plain": [
       "unit spike trains:   0%|          | 0/2 [00:00<?, ?it/s]"
      ]
     },
     "metadata": {},
     "output_type": "display_data"
    },
    {
     "data": {
      "application/vnd.jupyter.widget-view+json": {
       "model_id": "aa1ce652cfa94c18b96795eb05a59aae",
       "version_major": 2,
       "version_minor": 0
      },
      "text/plain": [
       "interpolation:   0%|          | 0/9 [00:00<?, ?it/s]"
      ]
     },
     "metadata": {},
     "output_type": "display_data"
    },
    {
     "data": {
      "application/vnd.jupyter.widget-view+json": {
       "model_id": "2715acde63fc44d8ae31652fac4567c5",
       "version_major": 2,
       "version_minor": 0
      },
      "text/plain": [
       "cue:   0%|          | 0/8 [00:00<?, ?it/s]"
      ]
     },
     "metadata": {},
     "output_type": "display_data"
    },
    {
     "ename": "NameError",
     "evalue": "name 'breakme' is not defined",
     "output_type": "error",
     "traceback": [
      "\u001b[0;31m---------------------------------------------------------------------------\u001b[0m",
      "\u001b[0;31mNameError\u001b[0m                                 Traceback (most recent call last)",
      "\u001b[0;32m<ipython-input-95-d2d6f074adc5>\u001b[0m in \u001b[0;36m<module>\u001b[0;34m\u001b[0m\n\u001b[1;32m     11\u001b[0m     for uniti, unit_to_analyze in tqdm(\n\u001b[1;32m     12\u001b[0m         \u001b[0mmerged_units\u001b[0m\u001b[0;34m[\u001b[0m\u001b[0;36m1436\u001b[0m\u001b[0;34m:\u001b[0m\u001b[0;34m]\u001b[0m\u001b[0;34m\u001b[0m\u001b[0;34m\u001b[0m\u001b[0m\n\u001b[0;32m---> 13\u001b[0;31m         \u001b[0;34m.\u001b[0m\u001b[0miterrows\u001b[0m\u001b[0;34m(\u001b[0m\u001b[0;34m)\u001b[0m\u001b[0;34m,\u001b[0m \u001b[0mdesc\u001b[0m\u001b[0;34m=\u001b[0m\u001b[0;34m\"unit\"\u001b[0m\u001b[0;34m,\u001b[0m \u001b[0mtotal\u001b[0m\u001b[0;34m=\u001b[0m\u001b[0mlen\u001b[0m\u001b[0;34m(\u001b[0m\u001b[0mmerged_units\u001b[0m\u001b[0;34m)\u001b[0m\u001b[0;34m\u001b[0m\u001b[0;34m\u001b[0m\u001b[0m\n\u001b[0m\u001b[1;32m     14\u001b[0m     )\n\u001b[1;32m     15\u001b[0m )\n",
      "\u001b[0;32m~/anaconda3/envs/cdcp_paper/lib/python3.7/site-packages/joblib/parallel.py\u001b[0m in \u001b[0;36m__call__\u001b[0;34m(self, iterable)\u001b[0m\n\u001b[1;32m   1039\u001b[0m             \u001b[0;31m# remaining jobs.\u001b[0m\u001b[0;34m\u001b[0m\u001b[0;34m\u001b[0m\u001b[0;34m\u001b[0m\u001b[0m\n\u001b[1;32m   1040\u001b[0m             \u001b[0mself\u001b[0m\u001b[0;34m.\u001b[0m\u001b[0m_iterating\u001b[0m \u001b[0;34m=\u001b[0m \u001b[0;32mFalse\u001b[0m\u001b[0;34m\u001b[0m\u001b[0;34m\u001b[0m\u001b[0m\n\u001b[0;32m-> 1041\u001b[0;31m             \u001b[0;32mif\u001b[0m \u001b[0mself\u001b[0m\u001b[0;34m.\u001b[0m\u001b[0mdispatch_one_batch\u001b[0m\u001b[0;34m(\u001b[0m\u001b[0miterator\u001b[0m\u001b[0;34m)\u001b[0m\u001b[0;34m:\u001b[0m\u001b[0;34m\u001b[0m\u001b[0;34m\u001b[0m\u001b[0m\n\u001b[0m\u001b[1;32m   1042\u001b[0m                 \u001b[0mself\u001b[0m\u001b[0;34m.\u001b[0m\u001b[0m_iterating\u001b[0m \u001b[0;34m=\u001b[0m \u001b[0mself\u001b[0m\u001b[0;34m.\u001b[0m\u001b[0m_original_iterator\u001b[0m \u001b[0;32mis\u001b[0m \u001b[0;32mnot\u001b[0m \u001b[0;32mNone\u001b[0m\u001b[0;34m\u001b[0m\u001b[0;34m\u001b[0m\u001b[0m\n\u001b[1;32m   1043\u001b[0m \u001b[0;34m\u001b[0m\u001b[0m\n",
      "\u001b[0;32m~/anaconda3/envs/cdcp_paper/lib/python3.7/site-packages/joblib/parallel.py\u001b[0m in \u001b[0;36mdispatch_one_batch\u001b[0;34m(self, iterator)\u001b[0m\n\u001b[1;32m    857\u001b[0m                 \u001b[0;32mreturn\u001b[0m \u001b[0;32mFalse\u001b[0m\u001b[0;34m\u001b[0m\u001b[0;34m\u001b[0m\u001b[0m\n\u001b[1;32m    858\u001b[0m             \u001b[0;32melse\u001b[0m\u001b[0;34m:\u001b[0m\u001b[0;34m\u001b[0m\u001b[0;34m\u001b[0m\u001b[0m\n\u001b[0;32m--> 859\u001b[0;31m                 \u001b[0mself\u001b[0m\u001b[0;34m.\u001b[0m\u001b[0m_dispatch\u001b[0m\u001b[0;34m(\u001b[0m\u001b[0mtasks\u001b[0m\u001b[0;34m)\u001b[0m\u001b[0;34m\u001b[0m\u001b[0;34m\u001b[0m\u001b[0m\n\u001b[0m\u001b[1;32m    860\u001b[0m                 \u001b[0;32mreturn\u001b[0m \u001b[0;32mTrue\u001b[0m\u001b[0;34m\u001b[0m\u001b[0;34m\u001b[0m\u001b[0m\n\u001b[1;32m    861\u001b[0m \u001b[0;34m\u001b[0m\u001b[0m\n",
      "\u001b[0;32m~/anaconda3/envs/cdcp_paper/lib/python3.7/site-packages/joblib/parallel.py\u001b[0m in \u001b[0;36m_dispatch\u001b[0;34m(self, batch)\u001b[0m\n\u001b[1;32m    775\u001b[0m         \u001b[0;32mwith\u001b[0m \u001b[0mself\u001b[0m\u001b[0;34m.\u001b[0m\u001b[0m_lock\u001b[0m\u001b[0;34m:\u001b[0m\u001b[0;34m\u001b[0m\u001b[0;34m\u001b[0m\u001b[0m\n\u001b[1;32m    776\u001b[0m             \u001b[0mjob_idx\u001b[0m \u001b[0;34m=\u001b[0m \u001b[0mlen\u001b[0m\u001b[0;34m(\u001b[0m\u001b[0mself\u001b[0m\u001b[0;34m.\u001b[0m\u001b[0m_jobs\u001b[0m\u001b[0;34m)\u001b[0m\u001b[0;34m\u001b[0m\u001b[0;34m\u001b[0m\u001b[0m\n\u001b[0;32m--> 777\u001b[0;31m             \u001b[0mjob\u001b[0m \u001b[0;34m=\u001b[0m \u001b[0mself\u001b[0m\u001b[0;34m.\u001b[0m\u001b[0m_backend\u001b[0m\u001b[0;34m.\u001b[0m\u001b[0mapply_async\u001b[0m\u001b[0;34m(\u001b[0m\u001b[0mbatch\u001b[0m\u001b[0;34m,\u001b[0m \u001b[0mcallback\u001b[0m\u001b[0;34m=\u001b[0m\u001b[0mcb\u001b[0m\u001b[0;34m)\u001b[0m\u001b[0;34m\u001b[0m\u001b[0;34m\u001b[0m\u001b[0m\n\u001b[0m\u001b[1;32m    778\u001b[0m             \u001b[0;31m# A job can complete so quickly than its callback is\u001b[0m\u001b[0;34m\u001b[0m\u001b[0;34m\u001b[0m\u001b[0;34m\u001b[0m\u001b[0m\n\u001b[1;32m    779\u001b[0m             \u001b[0;31m# called before we get here, causing self._jobs to\u001b[0m\u001b[0;34m\u001b[0m\u001b[0;34m\u001b[0m\u001b[0;34m\u001b[0m\u001b[0m\n",
      "\u001b[0;32m~/anaconda3/envs/cdcp_paper/lib/python3.7/site-packages/joblib/_parallel_backends.py\u001b[0m in \u001b[0;36mapply_async\u001b[0;34m(self, func, callback)\u001b[0m\n\u001b[1;32m    206\u001b[0m     \u001b[0;32mdef\u001b[0m \u001b[0mapply_async\u001b[0m\u001b[0;34m(\u001b[0m\u001b[0mself\u001b[0m\u001b[0;34m,\u001b[0m \u001b[0mfunc\u001b[0m\u001b[0;34m,\u001b[0m \u001b[0mcallback\u001b[0m\u001b[0;34m=\u001b[0m\u001b[0;32mNone\u001b[0m\u001b[0;34m)\u001b[0m\u001b[0;34m:\u001b[0m\u001b[0;34m\u001b[0m\u001b[0;34m\u001b[0m\u001b[0m\n\u001b[1;32m    207\u001b[0m         \u001b[0;34m\"\"\"Schedule a func to be run\"\"\"\u001b[0m\u001b[0;34m\u001b[0m\u001b[0;34m\u001b[0m\u001b[0m\n\u001b[0;32m--> 208\u001b[0;31m         \u001b[0mresult\u001b[0m \u001b[0;34m=\u001b[0m \u001b[0mImmediateResult\u001b[0m\u001b[0;34m(\u001b[0m\u001b[0mfunc\u001b[0m\u001b[0;34m)\u001b[0m\u001b[0;34m\u001b[0m\u001b[0;34m\u001b[0m\u001b[0m\n\u001b[0m\u001b[1;32m    209\u001b[0m         \u001b[0;32mif\u001b[0m \u001b[0mcallback\u001b[0m\u001b[0;34m:\u001b[0m\u001b[0;34m\u001b[0m\u001b[0;34m\u001b[0m\u001b[0m\n\u001b[1;32m    210\u001b[0m             \u001b[0mcallback\u001b[0m\u001b[0;34m(\u001b[0m\u001b[0mresult\u001b[0m\u001b[0;34m)\u001b[0m\u001b[0;34m\u001b[0m\u001b[0;34m\u001b[0m\u001b[0m\n",
      "\u001b[0;32m~/anaconda3/envs/cdcp_paper/lib/python3.7/site-packages/joblib/_parallel_backends.py\u001b[0m in \u001b[0;36m__init__\u001b[0;34m(self, batch)\u001b[0m\n\u001b[1;32m    570\u001b[0m         \u001b[0;31m# Don't delay the application, to avoid keeping the input\u001b[0m\u001b[0;34m\u001b[0m\u001b[0;34m\u001b[0m\u001b[0;34m\u001b[0m\u001b[0m\n\u001b[1;32m    571\u001b[0m         \u001b[0;31m# arguments in memory\u001b[0m\u001b[0;34m\u001b[0m\u001b[0;34m\u001b[0m\u001b[0;34m\u001b[0m\u001b[0m\n\u001b[0;32m--> 572\u001b[0;31m         \u001b[0mself\u001b[0m\u001b[0;34m.\u001b[0m\u001b[0mresults\u001b[0m \u001b[0;34m=\u001b[0m \u001b[0mbatch\u001b[0m\u001b[0;34m(\u001b[0m\u001b[0;34m)\u001b[0m\u001b[0;34m\u001b[0m\u001b[0;34m\u001b[0m\u001b[0m\n\u001b[0m\u001b[1;32m    573\u001b[0m \u001b[0;34m\u001b[0m\u001b[0m\n\u001b[1;32m    574\u001b[0m     \u001b[0;32mdef\u001b[0m \u001b[0mget\u001b[0m\u001b[0;34m(\u001b[0m\u001b[0mself\u001b[0m\u001b[0;34m)\u001b[0m\u001b[0;34m:\u001b[0m\u001b[0;34m\u001b[0m\u001b[0;34m\u001b[0m\u001b[0m\n",
      "\u001b[0;32m~/anaconda3/envs/cdcp_paper/lib/python3.7/site-packages/joblib/parallel.py\u001b[0m in \u001b[0;36m__call__\u001b[0;34m(self)\u001b[0m\n\u001b[1;32m    261\u001b[0m         \u001b[0;32mwith\u001b[0m \u001b[0mparallel_backend\u001b[0m\u001b[0;34m(\u001b[0m\u001b[0mself\u001b[0m\u001b[0;34m.\u001b[0m\u001b[0m_backend\u001b[0m\u001b[0;34m,\u001b[0m \u001b[0mn_jobs\u001b[0m\u001b[0;34m=\u001b[0m\u001b[0mself\u001b[0m\u001b[0;34m.\u001b[0m\u001b[0m_n_jobs\u001b[0m\u001b[0;34m)\u001b[0m\u001b[0;34m:\u001b[0m\u001b[0;34m\u001b[0m\u001b[0;34m\u001b[0m\u001b[0m\n\u001b[1;32m    262\u001b[0m             return [func(*args, **kwargs)\n\u001b[0;32m--> 263\u001b[0;31m                     for func, args, kwargs in self.items]\n\u001b[0m\u001b[1;32m    264\u001b[0m \u001b[0;34m\u001b[0m\u001b[0m\n\u001b[1;32m    265\u001b[0m     \u001b[0;32mdef\u001b[0m \u001b[0m__reduce__\u001b[0m\u001b[0;34m(\u001b[0m\u001b[0mself\u001b[0m\u001b[0;34m)\u001b[0m\u001b[0;34m:\u001b[0m\u001b[0;34m\u001b[0m\u001b[0;34m\u001b[0m\u001b[0m\n",
      "\u001b[0;32m~/anaconda3/envs/cdcp_paper/lib/python3.7/site-packages/joblib/parallel.py\u001b[0m in \u001b[0;36m<listcomp>\u001b[0;34m(.0)\u001b[0m\n\u001b[1;32m    261\u001b[0m         \u001b[0;32mwith\u001b[0m \u001b[0mparallel_backend\u001b[0m\u001b[0;34m(\u001b[0m\u001b[0mself\u001b[0m\u001b[0;34m.\u001b[0m\u001b[0m_backend\u001b[0m\u001b[0;34m,\u001b[0m \u001b[0mn_jobs\u001b[0m\u001b[0;34m=\u001b[0m\u001b[0mself\u001b[0m\u001b[0;34m.\u001b[0m\u001b[0m_n_jobs\u001b[0m\u001b[0;34m)\u001b[0m\u001b[0;34m:\u001b[0m\u001b[0;34m\u001b[0m\u001b[0;34m\u001b[0m\u001b[0m\n\u001b[1;32m    262\u001b[0m             return [func(*args, **kwargs)\n\u001b[0;32m--> 263\u001b[0;31m                     for func, args, kwargs in self.items]\n\u001b[0m\u001b[1;32m    264\u001b[0m \u001b[0;34m\u001b[0m\u001b[0m\n\u001b[1;32m    265\u001b[0m     \u001b[0;32mdef\u001b[0m \u001b[0m__reduce__\u001b[0m\u001b[0;34m(\u001b[0m\u001b[0mself\u001b[0m\u001b[0;34m)\u001b[0m\u001b[0;34m:\u001b[0m\u001b[0;34m\u001b[0m\u001b[0;34m\u001b[0m\u001b[0m\n",
      "\u001b[0;32m<ipython-input-79-d90b40b96c79>\u001b[0m in \u001b[0;36mget_unit_statistic\u001b[0;34m(unit_to_analyze, spikesorting_folder, statistics_timestamp, identifier, recompute, parallel, n_interp_point_bins, n_time_bins, include_passive, flip_bins, save, passive, plot, exclude_non_responses, equal_sizes)\u001b[0m\n\u001b[1;32m     86\u001b[0m \u001b[0;34m\u001b[0m\u001b[0m\n\u001b[1;32m     87\u001b[0m     \u001b[0;32mif\u001b[0m \u001b[0mparallel\u001b[0m \u001b[0;34m==\u001b[0m \u001b[0;32mFalse\u001b[0m\u001b[0;34m:\u001b[0m\u001b[0;34m\u001b[0m\u001b[0;34m\u001b[0m\u001b[0m\n\u001b[0;32m---> 88\u001b[0;31m         \u001b[0mrun\u001b[0m\u001b[0;34m(\u001b[0m\u001b[0;34m)\u001b[0m\u001b[0;34m\u001b[0m\u001b[0;34m\u001b[0m\u001b[0m\n\u001b[0m\u001b[1;32m     89\u001b[0m     \u001b[0;32melse\u001b[0m\u001b[0;34m:\u001b[0m\u001b[0;34m\u001b[0m\u001b[0;34m\u001b[0m\u001b[0m\n\u001b[1;32m     90\u001b[0m         \u001b[0;32mtry\u001b[0m\u001b[0;34m:\u001b[0m\u001b[0;34m\u001b[0m\u001b[0;34m\u001b[0m\u001b[0m\n",
      "\u001b[0;32m<ipython-input-79-d90b40b96c79>\u001b[0m in \u001b[0;36mrun\u001b[0;34m()\u001b[0m\n\u001b[1;32m     68\u001b[0m             \u001b[0mpassive\u001b[0m\u001b[0;34m=\u001b[0m\u001b[0mpassive\u001b[0m\u001b[0;34m,\u001b[0m\u001b[0;34m\u001b[0m\u001b[0;34m\u001b[0m\u001b[0m\n\u001b[1;32m     69\u001b[0m             \u001b[0mequal_sizes\u001b[0m\u001b[0;34m=\u001b[0m\u001b[0mequal_sizes\u001b[0m\u001b[0;34m,\u001b[0m\u001b[0;34m\u001b[0m\u001b[0;34m\u001b[0m\u001b[0m\n\u001b[0;32m---> 70\u001b[0;31m             \u001b[0mexclude_non_responses\u001b[0m\u001b[0;34m=\u001b[0m\u001b[0mexclude_non_responses\u001b[0m\u001b[0;34m,\u001b[0m\u001b[0;34m\u001b[0m\u001b[0;34m\u001b[0m\u001b[0m\n\u001b[0m\u001b[1;32m     71\u001b[0m         )\n\u001b[1;32m     72\u001b[0m         \u001b[0;32mif\u001b[0m \u001b[0mstatistic_series\u001b[0m \u001b[0;32mis\u001b[0m \u001b[0;32mnot\u001b[0m \u001b[0;32mNone\u001b[0m\u001b[0;34m:\u001b[0m\u001b[0;34m\u001b[0m\u001b[0;34m\u001b[0m\u001b[0m\n",
      "\u001b[0;32m<ipython-input-77-ae2ae6f92ab9>\u001b[0m in \u001b[0;36mcompute_cued_sm_differences\u001b[0;34m(trial_aligned_spikes, n_time_bins, n_interp_point_bins, passive, flip_bins, equal_sizes, exclude_non_responses, all_cues, similarity_metrics)\u001b[0m\n\u001b[1;32m     73\u001b[0m             \u001b[0mall_cues\u001b[0m\u001b[0;34m,\u001b[0m\u001b[0;34m\u001b[0m\u001b[0;34m\u001b[0m\u001b[0m\n\u001b[1;32m     74\u001b[0m             \u001b[0mcue_col\u001b[0m\u001b[0;34m=\u001b[0m\u001b[0;34m\"cue\"\u001b[0m\u001b[0;34m,\u001b[0m\u001b[0;34m\u001b[0m\u001b[0;34m\u001b[0m\u001b[0m\n\u001b[0;32m---> 75\u001b[0;31m             \u001b[0msimilarity_metrics\u001b[0m\u001b[0;34m=\u001b[0m\u001b[0msimilarity_metrics\u001b[0m\u001b[0;34m,\u001b[0m\u001b[0;34m\u001b[0m\u001b[0;34m\u001b[0m\u001b[0m\n\u001b[0m\u001b[1;32m     76\u001b[0m         )\n\u001b[1;32m     77\u001b[0m \u001b[0;34m\u001b[0m\u001b[0m\n",
      "\u001b[0;32m<ipython-input-94-3030ba5c7bb9>\u001b[0m in \u001b[0;36mcreate_similarity_metric_dict\u001b[0;34m(interp_trial_aligned_spikes, n_interp_point_bins, all_cues, similarity_metrics, cue_col)\u001b[0m\n\u001b[1;32m     72\u001b[0m \u001b[0;34m\u001b[0m\u001b[0m\n\u001b[1;32m     73\u001b[0m                     \u001b[0;32mif\u001b[0m \u001b[0mcue_identifier\u001b[0m \u001b[0;34m==\u001b[0m \u001b[0;34m'CL0'\u001b[0m\u001b[0;34m:\u001b[0m\u001b[0;34m\u001b[0m\u001b[0;34m\u001b[0m\u001b[0m\n\u001b[0;32m---> 74\u001b[0;31m                         \u001b[0mbreakme\u001b[0m\u001b[0;34m\u001b[0m\u001b[0;34m\u001b[0m\u001b[0m\n\u001b[0m\u001b[1;32m     75\u001b[0m \u001b[0;34m\u001b[0m\u001b[0m\n\u001b[1;32m     76\u001b[0m                     similarity_metric_dict[similarity_metric][cue_identifier][ip1][\n",
      "\u001b[0;31mNameError\u001b[0m: name 'breakme' is not defined"
     ]
    }
   ],
   "source": [
    "Parallel(n_jobs=1, verbose=10)(\n",
    "    delayed(get_unit_statistic)(\n",
    "        unit_to_analyze,\n",
    "        spikesorting_folder,\n",
    "        statistics_timestamp,\n",
    "        recompute=True,\n",
    "        parallel=False,\n",
    "        save=False,\n",
    "        plot=False,\n",
    "    )\n",
    "    for uniti, unit_to_analyze in tqdm(\n",
    "        merged_units[1436:]\n",
    "        .iterrows(), desc=\"unit\", total=len(merged_units)\n",
    "    )\n",
    ")"
   ]
  },
  {
   "cell_type": "code",
   "execution_count": null,
   "id": "3f82860d",
   "metadata": {},
   "outputs": [],
   "source": []
  },
  {
   "cell_type": "markdown",
   "id": "dde5e4d1",
   "metadata": {},
   "source": [
    "### make dataframe"
   ]
  },
  {
   "cell_type": "code",
   "execution_count": 55,
   "id": "a899ed10",
   "metadata": {
    "ExecuteTime": {
     "end_time": "2021-11-21T02:22:05.500411Z",
     "start_time": "2021-11-21T02:22:01.701023Z"
    }
   },
   "outputs": [],
   "source": [
    "ensure_dir(DATA_DIR / 'unit_statistics' / statistics_timestamp / identifier)"
   ]
  },
  {
   "cell_type": "code",
   "execution_count": 56,
   "id": "2e45506e",
   "metadata": {
    "ExecuteTime": {
     "end_time": "2021-11-21T02:22:05.527624Z",
     "start_time": "2021-11-21T02:22:05.505084Z"
    }
   },
   "outputs": [],
   "source": [
    "def read_and_unit(i, metric=\"cosine\", shuffled=True):\n",
    "    try:\n",
    "        df = pd.read_pickle(i)\n",
    "        df['unit'] = i.stem\n",
    "        df = df[(df.metric == metric) & (df.shuffled == shuffled)]\n",
    "        return df\n",
    "    except:\n",
    "        return"
   ]
  },
  {
   "cell_type": "code",
   "execution_count": 59,
   "id": "ae6e28ca",
   "metadata": {
    "ExecuteTime": {
     "end_time": "2021-11-21T02:54:03.741636Z",
     "start_time": "2021-11-21T02:44:18.943515Z"
    },
    "scrolled": true
   },
   "outputs": [
    {
     "data": {
      "application/vnd.jupyter.widget-view+json": {
       "model_id": "db76ce1aff9f48e69672b709c23c212a",
       "version_major": 2,
       "version_minor": 0
      },
      "text/plain": [
       "  0%|          | 0/2 [00:00<?, ?it/s]"
      ]
     },
     "metadata": {},
     "output_type": "display_data"
    },
    {
     "name": "stdout",
     "output_type": "stream",
     "text": [
      "B1593\n"
     ]
    },
    {
     "data": {
      "application/vnd.jupyter.widget-view+json": {
       "model_id": "",
       "version_major": 2,
       "version_minor": 0
      },
      "text/plain": [
       "reading pickles:   0%|          | 0/7714 [00:00<?, ?it/s]"
      ]
     },
     "metadata": {},
     "output_type": "display_data"
    },
    {
     "name": "stdout",
     "output_type": "stream",
     "text": [
      "B1248\n"
     ]
    },
    {
     "data": {
      "application/vnd.jupyter.widget-view+json": {
       "model_id": "",
       "version_major": 2,
       "version_minor": 0
      },
      "text/plain": [
       "reading pickles:   0%|          | 0/8698 [00:00<?, ?it/s]"
      ]
     },
     "metadata": {},
     "output_type": "display_data"
    },
    {
     "data": {
      "application/vnd.jupyter.widget-view+json": {
       "model_id": "0a9d2dbfe7d3469a8ce6e95d30ee96ab",
       "version_major": 2,
       "version_minor": 0
      },
      "text/plain": [
       "  0%|          | 0/2 [00:00<?, ?it/s]"
      ]
     },
     "metadata": {},
     "output_type": "display_data"
    },
    {
     "name": "stdout",
     "output_type": "stream",
     "text": [
      "B1593\n"
     ]
    },
    {
     "data": {
      "application/vnd.jupyter.widget-view+json": {
       "model_id": "",
       "version_major": 2,
       "version_minor": 0
      },
      "text/plain": [
       "reading pickles:   0%|          | 0/7714 [00:00<?, ?it/s]"
      ]
     },
     "metadata": {},
     "output_type": "display_data"
    },
    {
     "name": "stdout",
     "output_type": "stream",
     "text": [
      "B1248\n"
     ]
    },
    {
     "data": {
      "application/vnd.jupyter.widget-view+json": {
       "model_id": "",
       "version_major": 2,
       "version_minor": 0
      },
      "text/plain": [
       "reading pickles:   0%|          | 0/8698 [00:00<?, ?it/s]"
      ]
     },
     "metadata": {},
     "output_type": "display_data"
    },
    {
     "data": {
      "application/vnd.jupyter.widget-view+json": {
       "model_id": "9bf0cf7b8b3d45c28d55374c0a7c167b",
       "version_major": 2,
       "version_minor": 0
      },
      "text/plain": [
       "  0%|          | 0/2 [00:00<?, ?it/s]"
      ]
     },
     "metadata": {},
     "output_type": "display_data"
    },
    {
     "name": "stdout",
     "output_type": "stream",
     "text": [
      "B1593\n"
     ]
    },
    {
     "data": {
      "application/vnd.jupyter.widget-view+json": {
       "model_id": "",
       "version_major": 2,
       "version_minor": 0
      },
      "text/plain": [
       "reading pickles:   0%|          | 0/7714 [00:00<?, ?it/s]"
      ]
     },
     "metadata": {},
     "output_type": "display_data"
    },
    {
     "name": "stdout",
     "output_type": "stream",
     "text": [
      "B1248\n"
     ]
    },
    {
     "data": {
      "application/vnd.jupyter.widget-view+json": {
       "model_id": "",
       "version_major": 2,
       "version_minor": 0
      },
      "text/plain": [
       "reading pickles:   0%|          | 0/8698 [00:00<?, ?it/s]"
      ]
     },
     "metadata": {},
     "output_type": "display_data"
    },
    {
     "data": {
      "application/vnd.jupyter.widget-view+json": {
       "model_id": "50a874b5ae81478cac97d5ce96de0967",
       "version_major": 2,
       "version_minor": 0
      },
      "text/plain": [
       "  0%|          | 0/2 [00:00<?, ?it/s]"
      ]
     },
     "metadata": {},
     "output_type": "display_data"
    },
    {
     "name": "stdout",
     "output_type": "stream",
     "text": [
      "B1593\n"
     ]
    },
    {
     "data": {
      "application/vnd.jupyter.widget-view+json": {
       "model_id": "",
       "version_major": 2,
       "version_minor": 0
      },
      "text/plain": [
       "reading pickles:   0%|          | 0/7714 [00:00<?, ?it/s]"
      ]
     },
     "metadata": {},
     "output_type": "display_data"
    },
    {
     "name": "stdout",
     "output_type": "stream",
     "text": [
      "B1248\n"
     ]
    },
    {
     "data": {
      "application/vnd.jupyter.widget-view+json": {
       "model_id": "",
       "version_major": 2,
       "version_minor": 0
      },
      "text/plain": [
       "reading pickles:   0%|          | 0/8698 [00:00<?, ?it/s]"
      ]
     },
     "metadata": {},
     "output_type": "display_data"
    }
   ],
   "source": [
    "for metric in [\"cosine\", \"euclidean\"]:\n",
    "    for shuffled in [False, True]:\n",
    "        for bird, timestamp, sorter in tqdm(birds[8:]):\n",
    "            print(bird)\n",
    "            spikesorting_folder = DATA_DIR / \"spikesorting\" / bird / timestamp\n",
    "            recording_summary_df = pd.read_pickle(\n",
    "                spikesorting_folder / \"recording_df.pickle\"\n",
    "            )\n",
    "\n",
    "            unit_series_save_loc = (\n",
    "                spikesorting_folder\n",
    "                / \"unit_statistics\"\n",
    "                / statistics_timestamp\n",
    "                / identifier\n",
    "            )\n",
    "            unit_pickles = list(unit_series_save_loc.glob(\"*.pickle\"))\n",
    "            if len(unit_pickles) == 0:\n",
    "                print(\"\\t no units\")\n",
    "                continue\n",
    "\n",
    "            usdf = Parallel(n_jobs=-1, prefer=\"threads\")(\n",
    "                delayed(read_and_unit)(i, metric=metric, shuffled=shuffled)\n",
    "                for i in tqdm(unit_pickles, leave=False, desc=\"reading pickles\")\n",
    "            )\n",
    "\n",
    "            unit_statistics_df = pd.concat(\n",
    "                usdf,\n",
    "                axis=0,\n",
    "            )\n",
    "            ensure_dir(\n",
    "                DATA_DIR\n",
    "                / \"unit_statistics\"\n",
    "                / statistics_timestamp\n",
    "                / (identifier + \"_{}_{}\".format(metric, shuffled))\n",
    "            )\n",
    "            unit_statistics_df.to_pickle(\n",
    "                DATA_DIR\n",
    "                / \"unit_statistics\"\n",
    "                / statistics_timestamp\n",
    "                / (identifier + \"_{}_{}\".format(metric, shuffled))\n",
    "                / \"{}.pickle\".format(bird)\n",
    "            )"
   ]
  },
  {
   "cell_type": "code",
   "execution_count": 58,
   "id": "55fa2a3f",
   "metadata": {
    "ExecuteTime": {
     "end_time": "2021-11-21T02:42:39.261357Z",
     "start_time": "2021-11-21T02:42:39.157518Z"
    }
   },
   "outputs": [
    {
     "data": {
      "text/html": [
       "<div>\n",
       "<style scoped>\n",
       "    .dataframe tbody tr th:only-of-type {\n",
       "        vertical-align: middle;\n",
       "    }\n",
       "\n",
       "    .dataframe tbody tr th {\n",
       "        vertical-align: top;\n",
       "    }\n",
       "\n",
       "    .dataframe thead th {\n",
       "        text-align: right;\n",
       "    }\n",
       "</style>\n",
       "<table border=\"1\" class=\"dataframe\">\n",
       "  <thead>\n",
       "    <tr style=\"text-align: right;\">\n",
       "      <th></th>\n",
       "      <th>interp</th>\n",
       "      <th>cue</th>\n",
       "      <th>metric</th>\n",
       "      <th>sm</th>\n",
       "      <th>sm_n</th>\n",
       "      <th>shuffled</th>\n",
       "      <th>unit</th>\n",
       "    </tr>\n",
       "  </thead>\n",
       "  <tbody>\n",
       "    <tr>\n",
       "      <th>24</th>\n",
       "      <td>AF</td>\n",
       "      <td>CL</td>\n",
       "      <td>euclidean</td>\n",
       "      <td>[[0.07815383711506421, 0.0911404051323169, 0.0...</td>\n",
       "      <td>[[28.0, 96.0, 40.0, 128.0, 48.0, 72.0, 8.0, 56...</td>\n",
       "      <td>True</td>\n",
       "      <td>40</td>\n",
       "    </tr>\n",
       "    <tr>\n",
       "      <th>25</th>\n",
       "      <td>AF</td>\n",
       "      <td>CR</td>\n",
       "      <td>euclidean</td>\n",
       "      <td>[[nan, nan, nan, nan, nan, nan, nan, nan, nan,...</td>\n",
       "      <td>[[0.0, 0.0, 0.0, 0.0, 0.0, 0.0, 0.0, 0.0, 0.0,...</td>\n",
       "      <td>True</td>\n",
       "      <td>40</td>\n",
       "    </tr>\n",
       "    <tr>\n",
       "      <th>26</th>\n",
       "      <td>AF</td>\n",
       "      <td>CR1</td>\n",
       "      <td>euclidean</td>\n",
       "      <td>[[nan, nan, nan, nan, nan, nan, nan, nan, nan,...</td>\n",
       "      <td>[[0.0, 0.0, 0.0, 0.0, 0.0, 0.0, 0.0, 0.0, 0.0,...</td>\n",
       "      <td>True</td>\n",
       "      <td>40</td>\n",
       "    </tr>\n",
       "  </tbody>\n",
       "</table>\n",
       "</div>"
      ],
      "text/plain": [
       "   interp  cue     metric                                                 sm  \\\n",
       "24     AF   CL  euclidean  [[0.07815383711506421, 0.0911404051323169, 0.0...   \n",
       "25     AF   CR  euclidean  [[nan, nan, nan, nan, nan, nan, nan, nan, nan,...   \n",
       "26     AF  CR1  euclidean  [[nan, nan, nan, nan, nan, nan, nan, nan, nan,...   \n",
       "\n",
       "                                                 sm_n shuffled unit  \n",
       "24  [[28.0, 96.0, 40.0, 128.0, 48.0, 72.0, 8.0, 56...     True   40  \n",
       "25  [[0.0, 0.0, 0.0, 0.0, 0.0, 0.0, 0.0, 0.0, 0.0,...     True   40  \n",
       "26  [[0.0, 0.0, 0.0, 0.0, 0.0, 0.0, 0.0, 0.0, 0.0,...     True   40  "
      ]
     },
     "execution_count": 58,
     "metadata": {},
     "output_type": "execute_result"
    }
   ],
   "source": [
    "unit_statistics_df[:3]"
   ]
  },
  {
   "cell_type": "code",
   "execution_count": null,
   "id": "b1d65dd3",
   "metadata": {
    "ExecuteTime": {
     "end_time": "2021-11-20T20:57:52.668126Z",
     "start_time": "2021-11-20T19:49:36.039Z"
    }
   },
   "outputs": [],
   "source": [
    "len(unit_statistics_df)"
   ]
  },
  {
   "cell_type": "code",
   "execution_count": null,
   "id": "6922c2ed",
   "metadata": {
    "ExecuteTime": {
     "end_time": "2021-11-20T20:57:52.669190Z",
     "start_time": "2021-11-20T19:49:36.041Z"
    }
   },
   "outputs": [],
   "source": [
    "unit_statistics_df[:3]"
   ]
  },
  {
   "cell_type": "code",
   "execution_count": null,
   "id": "b8ae0680",
   "metadata": {
    "ExecuteTime": {
     "end_time": "2021-11-20T20:57:52.670243Z",
     "start_time": "2021-11-20T19:49:36.043Z"
    }
   },
   "outputs": [],
   "source": [
    "unit_series_save_loc"
   ]
  }
 ],
 "metadata": {
  "kernelspec": {
   "display_name": "cdcp_paper",
   "language": "python",
   "name": "cdcp_paper"
  },
  "language_info": {
   "codemirror_mode": {
    "name": "ipython",
    "version": 3
   },
   "file_extension": ".py",
   "mimetype": "text/x-python",
   "name": "python",
   "nbconvert_exporter": "python",
   "pygments_lexer": "ipython3",
   "version": "3.7.7"
  }
 },
 "nbformat": 4,
 "nbformat_minor": 5
}
