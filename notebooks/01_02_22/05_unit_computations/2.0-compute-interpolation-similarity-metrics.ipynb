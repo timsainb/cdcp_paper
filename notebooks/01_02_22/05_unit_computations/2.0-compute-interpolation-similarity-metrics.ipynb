{
 "cells": [
  {
   "cell_type": "code",
   "execution_count": 1,
   "metadata": {
    "ExecuteTime": {
     "end_time": "2022-01-23T20:34:47.604395Z",
     "start_time": "2022-01-23T20:34:47.587683Z"
    }
   },
   "outputs": [],
   "source": [
    "%load_ext autoreload\n",
    "%autoreload 2"
   ]
  },
  {
   "cell_type": "code",
   "execution_count": 2,
   "metadata": {
    "ExecuteTime": {
     "end_time": "2022-01-23T20:34:47.624926Z",
     "start_time": "2022-01-23T20:34:47.606826Z"
    }
   },
   "outputs": [
    {
     "data": {
      "text/plain": [
       "1"
      ]
     },
     "execution_count": 2,
     "metadata": {},
     "output_type": "execute_result"
    }
   ],
   "source": [
    "import os\n",
    "# set to be lower priority\n",
    "os.nice(1) "
   ]
  },
  {
   "cell_type": "code",
   "execution_count": 3,
   "metadata": {
    "ExecuteTime": {
     "end_time": "2022-01-23T20:34:48.386995Z",
     "start_time": "2022-01-23T20:34:47.626888Z"
    }
   },
   "outputs": [
    {
     "name": "stderr",
     "output_type": "stream",
     "text": [
      "/home/AD/tsainbur/anaconda3/envs/cdcp_paper/lib/python3.7/site-packages/ipykernel_launcher.py:7: TqdmExperimentalWarning: Using `tqdm.autonotebook.tqdm` in notebook mode. Use `tqdm.tqdm` instead to force console mode (e.g. in jupyter console)\n",
      "  import sys\n"
     ]
    }
   ],
   "source": [
    "import pandas  as pd\n",
    "from cdcp.paths import DATA_DIR, ensure_dir\n",
    "import numpy as np\n",
    "import matplotlib.pyplot as plt\n",
    "import datetime\n",
    "from pathlib2 import Path\n",
    "from tqdm.autonotebook import tqdm\n",
    "pd.set_option('display.max_columns', 500)\n",
    "from joblib import Parallel, delayed"
   ]
  },
  {
   "cell_type": "code",
   "execution_count": 4,
   "metadata": {
    "ExecuteTime": {
     "end_time": "2022-01-23T20:34:48.406227Z",
     "start_time": "2022-01-23T20:34:48.389013Z"
    }
   },
   "outputs": [],
   "source": [
    "from datetime import datetime"
   ]
  },
  {
   "cell_type": "code",
   "execution_count": 5,
   "metadata": {
    "ExecuteTime": {
     "end_time": "2022-01-23T20:35:02.558198Z",
     "start_time": "2022-01-23T20:34:48.408039Z"
    }
   },
   "outputs": [],
   "source": [
    "from cdcp.spiketrain_analysis.unit_statistics import get_unit_spike_trains"
   ]
  },
  {
   "cell_type": "code",
   "execution_count": 6,
   "metadata": {
    "ExecuteTime": {
     "end_time": "2022-01-23T20:35:02.587914Z",
     "start_time": "2022-01-23T20:35:02.560086Z"
    }
   },
   "outputs": [],
   "source": [
    "from cdcp.spiketrain_analysis.unit_stats.unit_interpolation_similarity_and_neurometric_multiple_metrics import (\n",
    "    compute_interpolation_sm_and_neurometric_multiple_metrics\n",
    ")"
   ]
  },
  {
   "cell_type": "code",
   "execution_count": 7,
   "metadata": {
    "ExecuteTime": {
     "end_time": "2022-01-23T20:35:02.616504Z",
     "start_time": "2022-01-23T20:35:02.591028Z"
    }
   },
   "outputs": [
    {
     "data": {
      "text/plain": [
       "'2021-10-23_23-02-31_846685'"
      ]
     },
     "execution_count": 7,
     "metadata": {},
     "output_type": "execute_result"
    }
   ],
   "source": [
    "# \"2021-10-07_16-05-58_796914\" '2021-10-06_13-30-08_899062' '2021-10-01_17-02-56_744915' \n",
    "statistics_timestamp = '2021-10-23_23-02-31_846685'# datetime.now().strftime(\"%Y-%m-%d_%H-%M-%S_%f\")#\n",
    "statistics_timestamp"
   ]
  },
  {
   "cell_type": "code",
   "execution_count": 8,
   "metadata": {
    "ExecuteTime": {
     "end_time": "2022-01-23T20:35:02.646682Z",
     "start_time": "2022-01-23T20:35:02.618721Z"
    }
   },
   "outputs": [],
   "source": [
    "birds = [\n",
    "    #('B1597', '2021-05-14_12-40-20_423998', 'kilosort2_5'),\n",
    "    #('B1188', '2021-05-31_18-52-29_558216', 'kilosort2_5'),\n",
    "    #('B1595', '2021-07-10_16-42-47_090257', 'kilosort2'),\n",
    "    #('B1276', '2021-07-14_11-14-02_257025', 'kilosort2'),\n",
    "    #('B1426', '2021-07-14_11-29-39_657273', 'kilosort2'),\n",
    "    #('B1432', '2021-06-01_15-14-38_561892', 'kilosort2_5'),\n",
    "    #('B1170', '2021-06-01_21-01-26_519005', 'kilosort2_5'),\n",
    "    #('B1244', '2021-07-14_12-57-45_546674', 'kilosort2'),\n",
    "    #('B1593', '2021-06-28_18-13-24_826008', 'kilosort2_5'),\n",
    "    #('B1248', '2021-07-03_18-08-01_063431', 'kilosort2_5'),\n",
    "    # acute\n",
    "    ('B1279', '2021-04-12_16-27-07_289527', 'kilosort2_5'),\n",
    "    ('B1500', '2021-08-27_09-24-48_680961', 'kilosort2_5'),\n",
    "    ('B1239', '2021-05-17_22-18-51_557635', 'kilosort2'),\n",
    "    ('B1459', '2021-08-26_21-21-12_755614', 'kilosort2_5'),\n",
    "]"
   ]
  },
  {
   "cell_type": "code",
   "execution_count": 9,
   "metadata": {
    "ExecuteTime": {
     "end_time": "2022-01-23T20:35:02.676687Z",
     "start_time": "2022-01-23T20:35:02.648516Z"
    }
   },
   "outputs": [],
   "source": [
    "min_playbacks = 1000"
   ]
  },
  {
   "cell_type": "markdown",
   "metadata": {},
   "source": [
    "### Compute spike vectors and statistics"
   ]
  },
  {
   "cell_type": "code",
   "execution_count": 10,
   "metadata": {
    "ExecuteTime": {
     "end_time": "2022-01-23T20:35:02.702894Z",
     "start_time": "2022-01-23T20:35:02.678316Z"
    }
   },
   "outputs": [],
   "source": [
    "identifier = \"nm_by_interpolation_16_25\""
   ]
  },
  {
   "cell_type": "code",
   "execution_count": 11,
   "metadata": {
    "ExecuteTime": {
     "end_time": "2022-01-23T20:35:02.737748Z",
     "start_time": "2022-01-23T20:35:02.704708Z"
    }
   },
   "outputs": [],
   "source": [
    "def get_unit_statistic(\n",
    "    unit_to_analyze,\n",
    "    spikesorting_folder,\n",
    "    statistics_timestamp,\n",
    "    identifier=identifier,\n",
    "    recompute=False,\n",
    "    parallel=True,\n",
    "    n_time_bins=100,\n",
    "    n_interp_point_bins=16,\n",
    "    similarity_metrics=[\"correlation\", \"cosine\", \"euclidean\", \"manhattan\"],\n",
    "    save=True,\n",
    "    plot=False,\n",
    "):\n",
    "    def run():\n",
    "\n",
    "        unit_series_save_loc = (\n",
    "            spikesorting_folder\n",
    "            / \"unit_statistics\"\n",
    "            / statistics_timestamp\n",
    "            / identifier\n",
    "            / \"{}.pickle\".format(unit_to_analyze.cluster_id)\n",
    "        )\n",
    "\n",
    "        # check if we need to run everything\n",
    "        if unit_series_save_loc.exists() and (recompute is False):\n",
    "            print(\"neurometric already exists\")\n",
    "            return\n",
    "\n",
    "        # make sure folder exists\n",
    "        ensure_dir(unit_series_save_loc)\n",
    "\n",
    "        unit_series_list = []\n",
    "        # load spike trains\n",
    "        trial_aligned_spikes = get_unit_spike_trains(\n",
    "            unit_to_analyze.sort_units, spikesorting_folder, sorter, unit_to_analyze\n",
    "        )\n",
    "        if trial_aligned_spikes is None:\n",
    "            #breakme\n",
    "            print(\"no trial_aligned_spikes\")\n",
    "            return\n",
    "\n",
    "        # load spike train vectors\n",
    "        spiketrain_vector_loc = (\n",
    "            spikesorting_folder\n",
    "            / \"unit_statistics\"\n",
    "            / statistics_timestamp\n",
    "            / \"response_vector_25ms_{}\".format(n_time_bins)\n",
    "            / \"{}.npy\".format(unit_to_analyze.cluster_id)\n",
    "        )\n",
    "        if spiketrain_vector_loc.exists() == False:\n",
    "            print(\"no spiketrains\")\n",
    "            return\n",
    "\n",
    "        trial_aligned_spikes[\"spike_trains\"] = list(np.load(spiketrain_vector_loc))\n",
    "        \n",
    "        # how self-similar the unit's activity remains over time\n",
    "        statistic_series = compute_interpolation_sm_and_neurometric_multiple_metrics(\n",
    "            trial_aligned_spikes,\n",
    "            n_interp_point_bins=n_interp_point_bins,\n",
    "            plot=plot,\n",
    "            similarity_metrics=similarity_metrics,\n",
    "        )\n",
    "        if statistic_series is not None:\n",
    "            unit_series_list.append(statistic_series)\n",
    "\n",
    "        # skip if no data is available\n",
    "        if len(unit_series_list) == 0:\n",
    "            return\n",
    "\n",
    "        # save final row\n",
    "        unit_series = pd.concat(unit_series_list)\n",
    "\n",
    "        if save:\n",
    "            unit_series.to_pickle(unit_series_save_loc)\n",
    "\n",
    "        return unit_series\n",
    "\n",
    "    if parallel == False:\n",
    "        run()\n",
    "    else:\n",
    "        try:\n",
    "            run()\n",
    "        except Exception as e:\n",
    "            with open(\"error_log.txt\", \"w\") as text_file:\n",
    "                text_file.write(str(e))\n",
    "            raise ValueError(unit_to_analyze.cluster_id)"
   ]
  },
  {
   "cell_type": "code",
   "execution_count": 15,
   "metadata": {
    "ExecuteTime": {
     "end_time": "2022-01-23T20:43:36.995228Z",
     "start_time": "2022-01-23T20:35:22.599493Z"
    },
    "scrolled": true
   },
   "outputs": [
    {
     "data": {
      "application/vnd.jupyter.widget-view+json": {
       "model_id": "4708eb7af3d44f80a6022e0d93799e3a",
       "version_major": 2,
       "version_minor": 0
      },
      "text/plain": [
       "  0%|          | 0/4 [00:00<?, ?it/s]"
      ]
     },
     "metadata": {},
     "output_type": "display_data"
    },
    {
     "data": {
      "image/png": "[encoded data removed]",
      "text/plain": [
       "<Figure size 1000x200 with 2 Axes>"
      ]
     },
     "metadata": {},
     "output_type": "display_data"
    },
    {
     "name": "stdout",
     "output_type": "stream",
     "text": [
      "B1279 total # merged units: 827\n"
     ]
    },
    {
     "data": {
      "application/vnd.jupyter.widget-view+json": {
       "model_id": "96dd24e2c81741afbd768f4051911c41",
       "version_major": 2,
       "version_minor": 0
      },
      "text/plain": [
       "unit:   0%|          | 0/827 [00:00<?, ?it/s]"
      ]
     },
     "metadata": {},
     "output_type": "display_data"
    },
    {
     "name": "stderr",
     "output_type": "stream",
     "text": [
      "[Parallel(n_jobs=42)]: Using backend LokyBackend with 42 concurrent workers.\n",
      "[Parallel(n_jobs=42)]: Done   1 tasks      | elapsed:   30.2s\n",
      "[Parallel(n_jobs=42)]: Done  14 tasks      | elapsed:   37.8s\n",
      "[Parallel(n_jobs=42)]: Done  29 tasks      | elapsed:   40.8s\n",
      "[Parallel(n_jobs=42)]: Done  44 tasks      | elapsed:   43.7s\n",
      "[Parallel(n_jobs=42)]: Done  61 tasks      | elapsed:   48.9s\n",
      "[Parallel(n_jobs=42)]: Done  78 tasks      | elapsed:   52.8s\n",
      "[Parallel(n_jobs=42)]: Done  97 tasks      | elapsed:   57.5s\n",
      "[Parallel(n_jobs=42)]: Done 116 tasks      | elapsed:  1.1min\n",
      "[Parallel(n_jobs=42)]: Done 137 tasks      | elapsed:  1.1min\n",
      "[Parallel(n_jobs=42)]: Done 158 tasks      | elapsed:  1.2min\n",
      "[Parallel(n_jobs=42)]: Done 181 tasks      | elapsed:  1.4min\n",
      "[Parallel(n_jobs=42)]: Done 204 tasks      | elapsed:  1.5min\n",
      "[Parallel(n_jobs=42)]: Done 229 tasks      | elapsed:  1.6min\n",
      "[Parallel(n_jobs=42)]: Done 254 tasks      | elapsed:  1.7min\n",
      "[Parallel(n_jobs=42)]: Done 281 tasks      | elapsed:  1.8min\n",
      "[Parallel(n_jobs=42)]: Done 308 tasks      | elapsed:  2.0min\n",
      "[Parallel(n_jobs=42)]: Done 337 tasks      | elapsed:  2.1min\n",
      "[Parallel(n_jobs=42)]: Done 366 tasks      | elapsed:  2.2min\n",
      "[Parallel(n_jobs=42)]: Done 397 tasks      | elapsed:  2.4min\n",
      "[Parallel(n_jobs=42)]: Done 428 tasks      | elapsed:  2.5min\n",
      "[Parallel(n_jobs=42)]: Done 461 tasks      | elapsed:  2.7min\n",
      "[Parallel(n_jobs=42)]: Done 494 tasks      | elapsed:  2.8min\n",
      "[Parallel(n_jobs=42)]: Done 529 tasks      | elapsed:  3.0min\n",
      "[Parallel(n_jobs=42)]: Done 564 tasks      | elapsed:  3.1min\n",
      "[Parallel(n_jobs=42)]: Done 601 tasks      | elapsed:  3.3min\n",
      "[Parallel(n_jobs=42)]: Done 638 tasks      | elapsed:  3.5min\n",
      "[Parallel(n_jobs=42)]: Done 677 tasks      | elapsed:  3.6min\n",
      "[Parallel(n_jobs=42)]: Done 716 tasks      | elapsed:  3.8min\n",
      "[Parallel(n_jobs=42)]: Done 827 out of 827 | elapsed:  4.4min remaining:    0.0s\n",
      "[Parallel(n_jobs=42)]: Done 827 out of 827 | elapsed:  4.4min finished\n"
     ]
    },
    {
     "data": {
      "image/png": "[encoded data removed]",
      "text/plain": [
       "<Figure size 1000x200 with 2 Axes>"
      ]
     },
     "metadata": {},
     "output_type": "display_data"
    },
    {
     "name": "stdout",
     "output_type": "stream",
     "text": [
      "B1500 total # merged units: 307\n"
     ]
    },
    {
     "data": {
      "application/vnd.jupyter.widget-view+json": {
       "model_id": "e95ed237d0f040febe93e33f4161fac2",
       "version_major": 2,
       "version_minor": 0
      },
      "text/plain": [
       "unit:   0%|          | 0/307 [00:00<?, ?it/s]"
      ]
     },
     "metadata": {},
     "output_type": "display_data"
    },
    {
     "name": "stderr",
     "output_type": "stream",
     "text": [
      "[Parallel(n_jobs=42)]: Using backend LokyBackend with 42 concurrent workers.\n",
      "[Parallel(n_jobs=42)]: Done   1 tasks      | elapsed:    0.6s\n",
      "[Parallel(n_jobs=42)]: Done  14 tasks      | elapsed:    4.8s\n",
      "[Parallel(n_jobs=42)]: Done  29 tasks      | elapsed:    6.0s\n",
      "[Parallel(n_jobs=42)]: Done  44 tasks      | elapsed:    7.3s\n",
      "[Parallel(n_jobs=42)]: Done  61 tasks      | elapsed:   10.3s\n",
      "[Parallel(n_jobs=42)]: Done  78 tasks      | elapsed:   11.6s\n",
      "[Parallel(n_jobs=42)]: Done  97 tasks      | elapsed:   14.7s\n",
      "[Parallel(n_jobs=42)]: Done 116 tasks      | elapsed:   17.1s\n",
      "[Parallel(n_jobs=42)]: Done 137 tasks      | elapsed:   20.2s\n",
      "[Parallel(n_jobs=42)]: Done 158 tasks      | elapsed:   23.4s\n",
      "[Parallel(n_jobs=42)]: Done 181 tasks      | elapsed:   26.6s\n",
      "[Parallel(n_jobs=42)]: Done 204 tasks      | elapsed:   29.4s\n",
      "[Parallel(n_jobs=42)]: Done 255 out of 307 | elapsed:   36.3s remaining:    7.4s\n",
      "[Parallel(n_jobs=42)]: Done 286 out of 307 | elapsed:   39.9s remaining:    2.9s\n",
      "[Parallel(n_jobs=42)]: Done 307 out of 307 | elapsed:   42.2s finished\n"
     ]
    },
    {
     "data": {
      "image/png": "[encoded data removed]",
      "text/plain": [
       "<Figure size 1000x200 with 2 Axes>"
      ]
     },
     "metadata": {},
     "output_type": "display_data"
    },
    {
     "name": "stdout",
     "output_type": "stream",
     "text": [
      "B1239 total # merged units: 206\n"
     ]
    },
    {
     "data": {
      "application/vnd.jupyter.widget-view+json": {
       "model_id": "e579015a462844e6a33591edf1da3990",
       "version_major": 2,
       "version_minor": 0
      },
      "text/plain": [
       "unit:   0%|          | 0/206 [00:00<?, ?it/s]"
      ]
     },
     "metadata": {},
     "output_type": "display_data"
    },
    {
     "name": "stderr",
     "output_type": "stream",
     "text": [
      "[Parallel(n_jobs=42)]: Using backend LokyBackend with 42 concurrent workers.\n",
      "[Parallel(n_jobs=42)]: Done   1 tasks      | elapsed:    2.9s\n",
      "[Parallel(n_jobs=42)]: Done  14 tasks      | elapsed:    5.0s\n",
      "[Parallel(n_jobs=42)]: Done  29 tasks      | elapsed:    5.8s\n",
      "[Parallel(n_jobs=42)]: Done  44 tasks      | elapsed:    7.1s\n",
      "[Parallel(n_jobs=42)]: Done  61 tasks      | elapsed:    9.2s\n",
      "[Parallel(n_jobs=42)]: Done  78 tasks      | elapsed:   10.2s\n",
      "[Parallel(n_jobs=42)]: Done  97 tasks      | elapsed:   12.8s\n",
      "[Parallel(n_jobs=42)]: Done 116 tasks      | elapsed:   14.9s\n",
      "[Parallel(n_jobs=42)]: Done 144 out of 206 | elapsed:   18.3s remaining:    7.9s\n",
      "[Parallel(n_jobs=42)]: Done 165 out of 206 | elapsed:   20.0s remaining:    5.0s\n",
      "[Parallel(n_jobs=42)]: Done 186 out of 206 | elapsed:   21.9s remaining:    2.4s\n",
      "[Parallel(n_jobs=42)]: Done 206 out of 206 | elapsed:   23.7s finished\n"
     ]
    },
    {
     "data": {
      "image/png": "[encoded data removed]",
      "text/plain": [
       "<Figure size 1000x200 with 2 Axes>"
      ]
     },
     "metadata": {},
     "output_type": "display_data"
    },
    {
     "name": "stdout",
     "output_type": "stream",
     "text": [
      "B1459 total # merged units: 447\n"
     ]
    },
    {
     "data": {
      "application/vnd.jupyter.widget-view+json": {
       "model_id": "0e8634dc352e43d1b5c725c7167004f7",
       "version_major": 2,
       "version_minor": 0
      },
      "text/plain": [
       "unit:   0%|          | 0/447 [00:00<?, ?it/s]"
      ]
     },
     "metadata": {},
     "output_type": "display_data"
    },
    {
     "name": "stderr",
     "output_type": "stream",
     "text": [
      "[Parallel(n_jobs=42)]: Using backend LokyBackend with 42 concurrent workers.\n",
      "[Parallel(n_jobs=42)]: Done   1 tasks      | elapsed:   10.6s\n",
      "[Parallel(n_jobs=42)]: Done  14 tasks      | elapsed:   19.3s\n",
      "[Parallel(n_jobs=42)]: Done  29 tasks      | elapsed:   22.7s\n",
      "[Parallel(n_jobs=42)]: Done  44 tasks      | elapsed:   26.7s\n",
      "[Parallel(n_jobs=42)]: Done  61 tasks      | elapsed:   38.8s\n",
      "[Parallel(n_jobs=42)]: Done  78 tasks      | elapsed:   45.6s\n",
      "[Parallel(n_jobs=42)]: Done  97 tasks      | elapsed:   55.0s\n",
      "[Parallel(n_jobs=42)]: Done 116 tasks      | elapsed:  1.1min\n",
      "[Parallel(n_jobs=42)]: Done 137 tasks      | elapsed:  1.2min\n",
      "[Parallel(n_jobs=42)]: Done 158 tasks      | elapsed:  1.4min\n",
      "[Parallel(n_jobs=42)]: Done 181 tasks      | elapsed:  1.5min\n",
      "[Parallel(n_jobs=42)]: Done 204 tasks      | elapsed:  1.6min\n",
      "[Parallel(n_jobs=42)]: Done 229 tasks      | elapsed:  1.8min\n",
      "[Parallel(n_jobs=42)]: Done 254 tasks      | elapsed:  1.9min\n",
      "[Parallel(n_jobs=42)]: Done 281 tasks      | elapsed:  2.0min\n",
      "[Parallel(n_jobs=42)]: Done 308 tasks      | elapsed:  2.1min\n",
      "[Parallel(n_jobs=42)]: Done 337 tasks      | elapsed:  2.3min\n",
      "[Parallel(n_jobs=42)]: Done 409 out of 447 | elapsed:  2.6min remaining:   14.6s\n",
      "[Parallel(n_jobs=42)]: Done 447 out of 447 | elapsed:  2.7min finished\n"
     ]
    }
   ],
   "source": [
    "for bird, timestamp, sorter in tqdm(birds):\n",
    "    spikesorting_folder = (DATA_DIR\n",
    "                / \"spikesorting\"\n",
    "                / bird\n",
    "                / timestamp)\n",
    "    recording_summary_df = pd.read_pickle(spikesorting_folder/ 'recording_df.pickle')\n",
    "\n",
    "    # get units that are to be merged\n",
    "    merged_units = pd.read_pickle(spikesorting_folder / 'unit_clusters2.pickle')\n",
    "    merged_units = merged_units.sort_values(by='n_playbacks', ascending=False)\n",
    "    merged_units = merged_units[merged_units.n_playbacks.astype('float')  > min_playbacks]\n",
    "    merged_units = merged_units[merged_units.n_spikes > 1000]\n",
    "    \n",
    "    plot = True\n",
    "    if plot:\n",
    "        fig, axs = plt.subplots(ncols=2, figsize=(10,2))\n",
    "        axs[0].hist(np.log10(merged_units.n_playbacks.values.astype('float')+1), bins = 100);\n",
    "        axs[0].set_title('log # playbacks')\n",
    "        axs[1].hist(np.log10(merged_units.n_spikes.values.astype('float')+1), bins = 100);\n",
    "        axs[1].set_title('log # spikes')\n",
    "        plt.show()\n",
    "        print('{} total # merged units: {}'.format(bird, len(merged_units)))\n",
    "\n",
    "    ensure_dir(spikesorting_folder / 'unit_statistics' / statistics_timestamp)\n",
    "    \n",
    "    Parallel(n_jobs = 42, verbose=10)(\n",
    "        delayed(get_unit_statistic)(\n",
    "            unit_to_analyze,\n",
    "            spikesorting_folder,\n",
    "            statistics_timestamp,\n",
    "            recompute=True,\n",
    "            parallel=True,\n",
    "            n_interp_point_bins=16,\n",
    "            similarity_metrics=[\"correlation\", \"cosine\", \"euclidean\", \"manhattan\"],\n",
    "            \n",
    "                    )\n",
    "        for uniti, unit_to_analyze in tqdm(\n",
    "            merged_units.iterrows(), desc=\"unit\", total=len(merged_units)\n",
    "        )\n",
    "    );"
   ]
  },
  {
   "cell_type": "markdown",
   "metadata": {},
   "source": [
    "### Debugging"
   ]
  },
  {
   "cell_type": "code",
   "execution_count": null,
   "metadata": {
    "ExecuteTime": {
     "end_time": "2022-01-23T20:35:03.113519Z",
     "start_time": "2022-01-23T20:34:47.334Z"
    }
   },
   "outputs": [],
   "source": [
    "breakme"
   ]
  },
  {
   "cell_type": "code",
   "execution_count": null,
   "metadata": {
    "ExecuteTime": {
     "end_time": "2022-01-23T20:35:03.114690Z",
     "start_time": "2022-01-23T20:34:47.336Z"
    }
   },
   "outputs": [],
   "source": [
    "np.where(merged_units.cluster_id == 3428)"
   ]
  },
  {
   "cell_type": "code",
   "execution_count": null,
   "metadata": {
    "ExecuteTime": {
     "end_time": "2022-01-23T20:35:03.115881Z",
     "start_time": "2022-01-23T20:34:47.343Z"
    },
    "scrolled": true
   },
   "outputs": [],
   "source": [
    "Parallel(n_jobs=1, verbose=10)(\n",
    "    delayed(get_unit_statistic)(\n",
    "        unit_to_analyze,\n",
    "        spikesorting_folder,\n",
    "        statistics_timestamp,\n",
    "        recompute=True,\n",
    "        parallel=False,\n",
    "        save=False,\n",
    "        plot=False,\n",
    "    )\n",
    "    for uniti, unit_to_analyze in tqdm(\n",
    "        merged_units[:]\n",
    "        .iterrows(), desc=\"unit\", total=len(merged_units)\n",
    "    )\n",
    ")"
   ]
  },
  {
   "cell_type": "code",
   "execution_count": null,
   "metadata": {
    "ExecuteTime": {
     "end_time": "2022-01-23T20:35:03.117129Z",
     "start_time": "2022-01-23T20:34:47.345Z"
    }
   },
   "outputs": [],
   "source": [
    "??compute_interpolation_sm_and_neurometric_multiple_metrics"
   ]
  },
  {
   "cell_type": "markdown",
   "metadata": {},
   "source": [
    "### make dataframe"
   ]
  },
  {
   "cell_type": "code",
   "execution_count": 16,
   "metadata": {
    "ExecuteTime": {
     "end_time": "2022-01-23T21:37:06.366747Z",
     "start_time": "2022-01-23T21:37:06.314493Z"
    }
   },
   "outputs": [],
   "source": [
    "ensure_dir(DATA_DIR / 'unit_statistics' / statistics_timestamp / identifier)"
   ]
  },
  {
   "cell_type": "code",
   "execution_count": 17,
   "metadata": {
    "ExecuteTime": {
     "end_time": "2022-01-23T21:37:06.597833Z",
     "start_time": "2022-01-23T21:37:06.567398Z"
    }
   },
   "outputs": [],
   "source": [
    "def read_and_unit(i):\n",
    "    try:\n",
    "        df = pd.read_pickle(i)\n",
    "        df['unit'] = i.stem\n",
    "        return df\n",
    "    except:\n",
    "        return"
   ]
  },
  {
   "cell_type": "code",
   "execution_count": 20,
   "metadata": {
    "ExecuteTime": {
     "end_time": "2022-01-23T21:37:30.786453Z",
     "start_time": "2022-01-23T21:37:20.626420Z"
    }
   },
   "outputs": [
    {
     "data": {
      "application/vnd.jupyter.widget-view+json": {
       "model_id": "9466183835c642d0869a61cdd5e11f8f",
       "version_major": 2,
       "version_minor": 0
      },
      "text/plain": [
       "  0%|          | 0/4 [00:00<?, ?it/s]"
      ]
     },
     "metadata": {},
     "output_type": "display_data"
    },
    {
     "name": "stdout",
     "output_type": "stream",
     "text": [
      "B1279\n"
     ]
    },
    {
     "data": {
      "application/vnd.jupyter.widget-view+json": {
       "model_id": "",
       "version_major": 2,
       "version_minor": 0
      },
      "text/plain": [
       "reading pickles:   0%|          | 0/827 [00:00<?, ?it/s]"
      ]
     },
     "metadata": {},
     "output_type": "display_data"
    },
    {
     "name": "stdout",
     "output_type": "stream",
     "text": [
      "B1500\n"
     ]
    },
    {
     "data": {
      "application/vnd.jupyter.widget-view+json": {
       "model_id": "",
       "version_major": 2,
       "version_minor": 0
      },
      "text/plain": [
       "reading pickles:   0%|          | 0/307 [00:00<?, ?it/s]"
      ]
     },
     "metadata": {},
     "output_type": "display_data"
    },
    {
     "name": "stdout",
     "output_type": "stream",
     "text": [
      "B1239\n"
     ]
    },
    {
     "data": {
      "application/vnd.jupyter.widget-view+json": {
       "model_id": "",
       "version_major": 2,
       "version_minor": 0
      },
      "text/plain": [
       "reading pickles:   0%|          | 0/206 [00:00<?, ?it/s]"
      ]
     },
     "metadata": {},
     "output_type": "display_data"
    },
    {
     "name": "stdout",
     "output_type": "stream",
     "text": [
      "B1459\n"
     ]
    },
    {
     "data": {
      "application/vnd.jupyter.widget-view+json": {
       "model_id": "",
       "version_major": 2,
       "version_minor": 0
      },
      "text/plain": [
       "reading pickles:   0%|          | 0/447 [00:00<?, ?it/s]"
      ]
     },
     "metadata": {},
     "output_type": "display_data"
    }
   ],
   "source": [
    "for bird, timestamp, sorter in tqdm(birds):\n",
    "    print(bird)\n",
    "    spikesorting_folder = DATA_DIR / \"spikesorting\" / bird / timestamp\n",
    "    recording_summary_df = pd.read_pickle(spikesorting_folder / \"recording_df.pickle\")\n",
    "\n",
    "    unit_series_save_loc = (\n",
    "        spikesorting_folder / \"unit_statistics\" / statistics_timestamp / identifier\n",
    "    )\n",
    "    unit_pickles = list(unit_series_save_loc.glob(\"*.pickle\"))\n",
    "    \n",
    "    unit_statistics_df = pd.concat(\n",
    "        #Parallel(n_jobs=1, prefer=\"threads\")(\n",
    "        Parallel(n_jobs = 10)(\n",
    "            delayed(read_and_unit)(i)\n",
    "            for i in tqdm(unit_pickles, leave=False, desc=\"reading pickles\")\n",
    "        ),\n",
    "        axis=1,\n",
    "    ).T\n",
    "\n",
    "    unit_statistics_df.to_pickle(\n",
    "        DATA_DIR\n",
    "        / \"unit_statistics\"\n",
    "        / statistics_timestamp\n",
    "        / identifier\n",
    "        / \"{}.pickle\".format(bird)\n",
    "    )"
   ]
  },
  {
   "cell_type": "code",
   "execution_count": null,
   "metadata": {
    "ExecuteTime": {
     "end_time": "2022-01-23T20:35:03.122837Z",
     "start_time": "2022-01-23T20:34:47.352Z"
    }
   },
   "outputs": [],
   "source": [
    "len(unit_pickles)"
   ]
  },
  {
   "cell_type": "code",
   "execution_count": null,
   "metadata": {
    "ExecuteTime": {
     "end_time": "2022-01-23T20:35:03.123920Z",
     "start_time": "2022-01-23T20:34:47.354Z"
    }
   },
   "outputs": [],
   "source": [
    "test = pd.read_pickle(unit_pickles[0])"
   ]
  },
  {
   "cell_type": "code",
   "execution_count": null,
   "metadata": {
    "ExecuteTime": {
     "end_time": "2022-01-23T20:35:03.125465Z",
     "start_time": "2022-01-23T20:34:47.355Z"
    }
   },
   "outputs": [],
   "source": [
    "pd.DataFrame([test])"
   ]
  },
  {
   "cell_type": "code",
   "execution_count": null,
   "metadata": {
    "ExecuteTime": {
     "end_time": "2022-01-23T20:35:03.126459Z",
     "start_time": "2022-01-23T20:34:47.357Z"
    }
   },
   "outputs": [],
   "source": [
    "test.rv_euclidean_CF.dtype"
   ]
  },
  {
   "cell_type": "code",
   "execution_count": null,
   "metadata": {
    "ExecuteTime": {
     "end_time": "2022-01-23T20:35:03.127457Z",
     "start_time": "2022-01-23T20:34:47.358Z"
    }
   },
   "outputs": [],
   "source": [
    "test.sm_euclidean_BE.dtype"
   ]
  },
  {
   "cell_type": "code",
   "execution_count": null,
   "metadata": {
    "ExecuteTime": {
     "end_time": "2022-01-23T20:35:03.128528Z",
     "start_time": "2022-01-23T20:34:47.359Z"
    }
   },
   "outputs": [],
   "source": [
    "unit_pickles"
   ]
  },
  {
   "cell_type": "code",
   "execution_count": null,
   "metadata": {
    "ExecuteTime": {
     "end_time": "2022-01-23T20:35:03.129598Z",
     "start_time": "2022-01-23T20:34:47.361Z"
    }
   },
   "outputs": [],
   "source": [
    "!ls -lht /mnt/cube/tsainbur/Projects/github_repos/cdcp_chronic/data/spikesorting/B1597/2021-05-14_12-40-20_423998/unit_statistics/2021-10-23_23-02-31_846685/nm_by_interpolation_128/"
   ]
  },
  {
   "cell_type": "code",
   "execution_count": null,
   "metadata": {},
   "outputs": [],
   "source": []
  }
 ],
 "metadata": {
  "kernelspec": {
   "display_name": "cdcp_paper",
   "language": "python",
   "name": "cdcp_paper"
  },
  "language_info": {
   "codemirror_mode": {
    "name": "ipython",
    "version": 3
   },
   "file_extension": ".py",
   "mimetype": "text/x-python",
   "name": "python",
   "nbconvert_exporter": "python",
   "pygments_lexer": "ipython3",
   "version": "3.7.7"
  }
 },
 "nbformat": 4,
 "nbformat_minor": 2
}
