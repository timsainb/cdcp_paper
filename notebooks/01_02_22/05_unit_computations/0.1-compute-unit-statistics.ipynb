{
 "cells": [
  {
   "cell_type": "code",
   "execution_count": 1,
   "id": "146defeb",
   "metadata": {
    "ExecuteTime": {
     "end_time": "2021-10-25T00:22:04.544574Z",
     "start_time": "2021-10-25T00:22:04.516896Z"
    }
   },
   "outputs": [],
   "source": [
    "%load_ext autoreload\n",
    "%autoreload 2"
   ]
  },
  {
   "cell_type": "code",
   "execution_count": 2,
   "id": "398a1799",
   "metadata": {
    "ExecuteTime": {
     "end_time": "2021-10-25T00:22:04.581851Z",
     "start_time": "2021-10-25T00:22:04.548285Z"
    }
   },
   "outputs": [
    {
     "data": {
      "text/plain": [
       "1"
      ]
     },
     "execution_count": 2,
     "metadata": {},
     "output_type": "execute_result"
    }
   ],
   "source": [
    "import os\n",
    "# set to be lower priority\n",
    "os.nice(1) "
   ]
  },
  {
   "cell_type": "code",
   "execution_count": 3,
   "id": "6a310cb9",
   "metadata": {
    "ExecuteTime": {
     "end_time": "2021-10-25T00:22:05.361886Z",
     "start_time": "2021-10-25T00:22:04.585307Z"
    }
   },
   "outputs": [
    {
     "name": "stderr",
     "output_type": "stream",
     "text": [
      "/home/AD/tsainbur/anaconda3/envs/cdcp_paper/lib/python3.7/site-packages/ipykernel_launcher.py:7: TqdmExperimentalWarning: Using `tqdm.autonotebook.tqdm` in notebook mode. Use `tqdm.tqdm` instead to force console mode (e.g. in jupyter console)\n",
      "  import sys\n"
     ]
    }
   ],
   "source": [
    "import pandas  as pd\n",
    "from cdcp.paths import DATA_DIR, ensure_dir\n",
    "import numpy as np\n",
    "import matplotlib.pyplot as plt\n",
    "import datetime\n",
    "from pathlib2 import Path\n",
    "from tqdm.autonotebook import tqdm\n",
    "pd.set_option('display.max_columns', 500)\n",
    "from joblib import Parallel, delayed"
   ]
  },
  {
   "cell_type": "code",
   "execution_count": 4,
   "id": "7ddf2bc9",
   "metadata": {
    "ExecuteTime": {
     "end_time": "2021-10-25T00:22:05.395374Z",
     "start_time": "2021-10-25T00:22:05.364455Z"
    }
   },
   "outputs": [],
   "source": [
    "from datetime import datetime"
   ]
  },
  {
   "cell_type": "code",
   "execution_count": 5,
   "id": "473e48c4",
   "metadata": {
    "ExecuteTime": {
     "end_time": "2021-10-25T00:22:34.502370Z",
     "start_time": "2021-10-25T00:22:05.398260Z"
    }
   },
   "outputs": [],
   "source": [
    "from cdcp.spiketrain_analysis.unit_statistics import get_unit_spike_trains"
   ]
  },
  {
   "cell_type": "code",
   "execution_count": 6,
   "id": "7538e748",
   "metadata": {
    "ExecuteTime": {
     "end_time": "2021-10-25T00:22:34.740835Z",
     "start_time": "2021-10-25T00:22:34.684010Z"
    }
   },
   "outputs": [
    {
     "data": {
      "text/plain": [
       "'2021-10-23_23-02-31_846685'"
      ]
     },
     "execution_count": 6,
     "metadata": {},
     "output_type": "execute_result"
    }
   ],
   "source": [
    "# \"2021-10-07_16-05-58_796914\" '2021-10-06_13-30-08_899062' '2021-10-01_17-02-56_744915' \n",
    "statistics_timestamp = '2021-10-23_23-02-31_846685'# datetime.now().strftime(\"%Y-%m-%d_%H-%M-%S_%f\")#\n",
    "statistics_timestamp"
   ]
  },
  {
   "cell_type": "code",
   "execution_count": 7,
   "id": "4ed86bfa",
   "metadata": {
    "ExecuteTime": {
     "end_time": "2021-10-25T00:22:34.804791Z",
     "start_time": "2021-10-25T00:22:34.746194Z"
    }
   },
   "outputs": [],
   "source": [
    "birds = [\n",
    "    ('B1597', '2021-05-14_12-40-20_423998', 'kilosort2_5'),\n",
    "    ('B1188', '2021-05-31_18-52-29_558216', 'kilosort2_5'),\n",
    "    ('B1595', '2021-07-10_16-42-47_090257', 'kilosort2'),\n",
    "    ('B1276', '2021-07-14_11-14-02_257025', 'kilosort2'),\n",
    "    ('B1426', '2021-07-14_11-29-39_657273', 'kilosort2'),\n",
    "    ('B1432', '2021-06-01_15-14-38_561892', 'kilosort2_5'),\n",
    "    ('B1170', '2021-06-01_21-01-26_519005', 'kilosort2_5'),\n",
    "    ('B1244', '2021-07-14_12-57-45_546674', 'kilosort2'),\n",
    "    ('B1593', '2021-06-28_18-13-24_826008', 'kilosort2_5'),\n",
    "    ('B1248', '2021-07-03_18-08-01_063431', 'kilosort2_5'),\n",
    "    # acute\n",
    "    ('B1279', '2021-04-12_16-27-07_289527', 'kilosort2_5'),\n",
    "    ('B1500', '2021-08-27_09-24-48_680961', 'kilosort2_5'),\n",
    "    ('B1239', '2021-05-17_22-18-51_557635', 'kilosort2'),\n",
    "    ('B1459', '2021-08-26_21-21-12_755614', 'kilosort2_5'),\n",
    "]"
   ]
  },
  {
   "cell_type": "code",
   "execution_count": 8,
   "id": "6dc8e113",
   "metadata": {
    "ExecuteTime": {
     "end_time": "2021-10-25T00:22:34.862257Z",
     "start_time": "2021-10-25T00:22:34.808413Z"
    }
   },
   "outputs": [],
   "source": [
    "min_playbacks = 1000"
   ]
  },
  {
   "cell_type": "markdown",
   "id": "1c7e91a1",
   "metadata": {},
   "source": [
    "### Compute spike vectors and statistics"
   ]
  },
  {
   "cell_type": "code",
   "execution_count": 9,
   "id": "05641c93",
   "metadata": {
    "ExecuteTime": {
     "end_time": "2021-10-25T00:22:34.922048Z",
     "start_time": "2021-10-25T00:22:34.865196Z"
    }
   },
   "outputs": [],
   "source": [
    "identifier = \"spike_count\""
   ]
  },
  {
   "cell_type": "code",
   "execution_count": 10,
   "id": "02288e11",
   "metadata": {
    "ExecuteTime": {
     "end_time": "2021-10-25T00:22:35.001378Z",
     "start_time": "2021-10-25T00:22:34.925147Z"
    }
   },
   "outputs": [],
   "source": [
    "def get_unit_statistic(\n",
    "    unit_to_analyze,\n",
    "    spikesorting_folder,\n",
    "    statistics_timestamp,\n",
    "    identifier=identifier,\n",
    "    recompute=False,\n",
    "    parallel=True,\n",
    "    n_interp_point_bins=16,\n",
    "    n_time_bins=25,\n",
    "    include_passive=True,\n",
    "    flip_bins=True,\n",
    "    save=True,\n",
    "    plot=False,\n",
    "):\n",
    "    def run():\n",
    "\n",
    "        unit_series_save_loc = (\n",
    "            spikesorting_folder\n",
    "            / \"unit_statistics\"\n",
    "            / statistics_timestamp\n",
    "            / identifier\n",
    "            / \"{}.pickle\".format(unit_to_analyze.cluster_id)\n",
    "        )\n",
    "\n",
    "        # check if we need to run everything\n",
    "        if unit_series_save_loc.exists() and (recompute is False):\n",
    "            print(\"neurometric already exists\")\n",
    "            return\n",
    "\n",
    "        # make sure folder exists\n",
    "        ensure_dir(unit_series_save_loc)\n",
    "\n",
    "        unit_series_list = []\n",
    "        # load spike trains\n",
    "        trial_aligned_spikes = get_unit_spike_trains(\n",
    "            unit_to_analyze.sort_units, spikesorting_folder, sorter, unit_to_analyze\n",
    "        )\n",
    "        if trial_aligned_spikes is None:\n",
    "            #breakme\n",
    "            # because there are not enough spikes for this unit to be worth it\n",
    "            print(\"no trial_aligned_spikes\") \n",
    "            return\n",
    "\n",
    "\n",
    "        # count statistics\n",
    "        statistic_series = pd.Series(\n",
    "            {\n",
    "                \"n_trials\": len(trial_aligned_spikes),\n",
    "                \"n_cued_trials\": np.sum(\n",
    "                    np.array(trial_aligned_spikes.response.isnull() == False)\n",
    "                    & (\n",
    "                        trial_aligned_spikes.cue.isin(\n",
    "                            [\"CR1\", \"CR0\", \"CN\", \"CL0\", \"CL1\"]\n",
    "                        ).values\n",
    "                    )\n",
    "                ),\n",
    "                \"n_incorrect_trials\": np.sum(trial_aligned_spikes[\"correct\"] == False),\n",
    "                \"n_correct_trials\": np.sum(trial_aligned_spikes[\"correct\"] == True),\n",
    "                \"n_reward_trials\": np.sum(trial_aligned_spikes[\"reward\"] == True),\n",
    "                \"n_passive_trials\": np.sum(trial_aligned_spikes[\"passive\"] == True),\n",
    "                \"n_active_trials\": np.sum(trial_aligned_spikes[\"passive\"] == False),\n",
    "                \"n_spikes\": np.sum([len(i) for i in trial_aligned_spikes.spike_times.values]),\n",
    "            }\n",
    "        )\n",
    "\n",
    "        if statistic_series is not None:\n",
    "            unit_series_list.append(statistic_series)\n",
    "\n",
    "        # skip if no data is available\n",
    "        if len(unit_series_list) == 0:\n",
    "            return\n",
    "\n",
    "        # save final row\n",
    "        unit_series = pd.concat(unit_series_list)\n",
    "\n",
    "        if save:\n",
    "            unit_series.to_pickle(unit_series_save_loc)\n",
    "        \n",
    "        return unit_series\n",
    "\n",
    "    if parallel == False:\n",
    "        run()\n",
    "    else:\n",
    "        try:\n",
    "            run()\n",
    "        except Exception as e:\n",
    "            with open(\"error_log.txt\", \"w\") as text_file:\n",
    "                text_file.write(str(e))\n",
    "            raise ValueError(unit_to_analyze.cluster_id)"
   ]
  },
  {
   "cell_type": "code",
   "execution_count": 11,
   "id": "49d21f0a",
   "metadata": {
    "ExecuteTime": {
     "end_time": "2021-10-25T00:29:21.741116Z",
     "start_time": "2021-10-25T00:22:35.004361Z"
    },
    "scrolled": true
   },
   "outputs": [
    {
     "data": {
      "application/vnd.jupyter.widget-view+json": {
       "model_id": "b617e14169fd4ea0b2e78512fc34d3ad",
       "version_major": 2,
       "version_minor": 0
      },
      "text/plain": [
       "  0%|          | 0/14 [00:00<?, ?it/s]"
      ]
     },
     "metadata": {},
     "output_type": "display_data"
    },
    {
     "data": {
      "image/png": "[encoded data removed]",
      "text/plain": [
       "<Figure size 1000x200 with 2 Axes>"
      ]
     },
     "metadata": {},
     "output_type": "display_data"
    },
    {
     "name": "stdout",
     "output_type": "stream",
     "text": [
      "B1597 total # merged units: 8711\n"
     ]
    },
    {
     "data": {
      "application/vnd.jupyter.widget-view+json": {
       "model_id": "28221ec00f6e4324b51cc7bc502675af",
       "version_major": 2,
       "version_minor": 0
      },
      "text/plain": [
       "unit:   0%|          | 0/8711 [00:00<?, ?it/s]"
      ]
     },
     "metadata": {},
     "output_type": "display_data"
    },
    {
     "name": "stderr",
     "output_type": "stream",
     "text": [
      "[Parallel(n_jobs=8)]: Using backend LokyBackend with 8 concurrent workers.\n",
      "[Parallel(n_jobs=8)]: Done   2 tasks      | elapsed:   25.6s\n",
      "[Parallel(n_jobs=8)]: Done   9 tasks      | elapsed:   28.8s\n",
      "[Parallel(n_jobs=8)]: Done  16 tasks      | elapsed:   30.2s\n",
      "[Parallel(n_jobs=8)]: Done  25 tasks      | elapsed:   31.1s\n",
      "[Parallel(n_jobs=8)]: Done  34 tasks      | elapsed:   31.7s\n",
      "[Parallel(n_jobs=8)]: Done  45 tasks      | elapsed:   32.5s\n",
      "[Parallel(n_jobs=8)]: Done  56 tasks      | elapsed:   33.1s\n",
      "[Parallel(n_jobs=8)]: Done  69 tasks      | elapsed:   33.6s\n",
      "[Parallel(n_jobs=8)]: Done  82 tasks      | elapsed:   34.2s\n",
      "[Parallel(n_jobs=8)]: Done  97 tasks      | elapsed:   34.8s\n",
      "[Parallel(n_jobs=8)]: Done 112 tasks      | elapsed:   35.3s\n",
      "[Parallel(n_jobs=8)]: Done 129 tasks      | elapsed:   35.9s\n",
      "[Parallel(n_jobs=8)]: Done 146 tasks      | elapsed:   36.4s\n",
      "[Parallel(n_jobs=8)]: Done 165 tasks      | elapsed:   36.9s\n",
      "[Parallel(n_jobs=8)]: Done 184 tasks      | elapsed:   37.4s\n",
      "[Parallel(n_jobs=8)]: Done 205 tasks      | elapsed:   38.0s\n",
      "[Parallel(n_jobs=8)]: Done 226 tasks      | elapsed:   38.5s\n",
      "[Parallel(n_jobs=8)]: Done 249 tasks      | elapsed:   39.1s\n",
      "[Parallel(n_jobs=8)]: Done 272 tasks      | elapsed:   39.6s\n",
      "[Parallel(n_jobs=8)]: Done 297 tasks      | elapsed:   40.2s\n",
      "[Parallel(n_jobs=8)]: Done 322 tasks      | elapsed:   40.7s\n",
      "[Parallel(n_jobs=8)]: Done 349 tasks      | elapsed:   41.0s\n",
      "[Parallel(n_jobs=8)]: Batch computation too fast (0.1951s.) Setting batch_size=2.\n",
      "[Parallel(n_jobs=8)]: Done 376 tasks      | elapsed:   41.4s\n",
      "[Parallel(n_jobs=8)]: Done 434 tasks      | elapsed:   42.4s\n",
      "[Parallel(n_jobs=8)]: Done 492 tasks      | elapsed:   43.3s\n",
      "[Parallel(n_jobs=8)]: Done 554 tasks      | elapsed:   44.1s\n",
      "[Parallel(n_jobs=8)]: Done 616 tasks      | elapsed:   44.8s\n",
      "[Parallel(n_jobs=8)]: Done 682 tasks      | elapsed:   45.5s\n",
      "[Parallel(n_jobs=8)]: Done 748 tasks      | elapsed:   46.5s\n",
      "[Parallel(n_jobs=8)]: Done 818 tasks      | elapsed:   47.2s\n",
      "[Parallel(n_jobs=8)]: Done 888 tasks      | elapsed:   47.9s\n",
      "[Parallel(n_jobs=8)]: Done 962 tasks      | elapsed:   48.4s\n",
      "[Parallel(n_jobs=8)]: Batch computation too fast (0.1898s.) Setting batch_size=4.\n",
      "[Parallel(n_jobs=8)]: Done 1056 tasks      | elapsed:   49.7s\n",
      "[Parallel(n_jobs=8)]: Done 1212 tasks      | elapsed:   51.3s\n",
      "[Parallel(n_jobs=8)]: Done 1368 tasks      | elapsed:   52.9s\n",
      "[Parallel(n_jobs=8)]: Done 1532 tasks      | elapsed:   54.7s\n",
      "[Parallel(n_jobs=8)]: Done 1696 tasks      | elapsed:   56.1s\n",
      "[Parallel(n_jobs=8)]: Done 1868 tasks      | elapsed:   57.6s\n",
      "[Parallel(n_jobs=8)]: Done 2040 tasks      | elapsed:   58.9s\n",
      "[Parallel(n_jobs=8)]: Done 2220 tasks      | elapsed:  1.0min\n",
      "[Parallel(n_jobs=8)]: Done 2400 tasks      | elapsed:  1.0min\n",
      "[Parallel(n_jobs=8)]: Done 2588 tasks      | elapsed:  1.1min\n",
      "[Parallel(n_jobs=8)]: Done 2776 tasks      | elapsed:  1.1min\n",
      "[Parallel(n_jobs=8)]: Done 2972 tasks      | elapsed:  1.1min\n",
      "[Parallel(n_jobs=8)]: Done 3168 tasks      | elapsed:  1.2min\n",
      "[Parallel(n_jobs=8)]: Done 3372 tasks      | elapsed:  1.2min\n",
      "[Parallel(n_jobs=8)]: Done 3576 tasks      | elapsed:  1.2min\n",
      "[Parallel(n_jobs=8)]: Done 3788 tasks      | elapsed:  1.3min\n",
      "[Parallel(n_jobs=8)]: Done 4000 tasks      | elapsed:  1.3min\n",
      "[Parallel(n_jobs=8)]: Done 4220 tasks      | elapsed:  1.3min\n",
      "[Parallel(n_jobs=8)]: Done 4440 tasks      | elapsed:  1.4min\n",
      "[Parallel(n_jobs=8)]: Done 4668 tasks      | elapsed:  1.4min\n",
      "[Parallel(n_jobs=8)]: Done 4896 tasks      | elapsed:  1.4min\n",
      "[Parallel(n_jobs=8)]: Done 5132 tasks      | elapsed:  1.5min\n",
      "[Parallel(n_jobs=8)]: Done 5368 tasks      | elapsed:  1.5min\n",
      "[Parallel(n_jobs=8)]: Done 5612 tasks      | elapsed:  1.5min\n",
      "[Parallel(n_jobs=8)]: Done 5856 tasks      | elapsed:  1.6min\n",
      "[Parallel(n_jobs=8)]: Done 6108 tasks      | elapsed:  1.6min\n",
      "[Parallel(n_jobs=8)]: Done 6360 tasks      | elapsed:  1.6min\n",
      "[Parallel(n_jobs=8)]: Done 6620 tasks      | elapsed:  1.7min\n",
      "[Parallel(n_jobs=8)]: Done 6880 tasks      | elapsed:  1.7min\n",
      "[Parallel(n_jobs=8)]: Done 7148 tasks      | elapsed:  1.7min\n",
      "[Parallel(n_jobs=8)]: Done 7416 tasks      | elapsed:  1.7min\n",
      "[Parallel(n_jobs=8)]: Batch computation too fast (0.1924s.) Setting batch_size=8.\n",
      "[Parallel(n_jobs=8)]: Batch computation too fast (0.1654s.) Setting batch_size=16.\n",
      "[Parallel(n_jobs=8)]: Done 8008 tasks      | elapsed:  1.8min\n",
      "[Parallel(n_jobs=8)]: Done 8711 out of 8711 | elapsed:  1.8min finished\n"
     ]
    },
    {
     "data": {
      "image/png": "[encoded data removed]",
      "text/plain": [
       "<Figure size 1000x200 with 2 Axes>"
      ]
     },
     "metadata": {},
     "output_type": "display_data"
    },
    {
     "name": "stdout",
     "output_type": "stream",
     "text": [
      "B1188 total # merged units: 821\n"
     ]
    },
    {
     "data": {
      "application/vnd.jupyter.widget-view+json": {
       "model_id": "4143a4cf42504e4ebf4bdc262f31419e",
       "version_major": 2,
       "version_minor": 0
      },
      "text/plain": [
       "unit:   0%|          | 0/821 [00:00<?, ?it/s]"
      ]
     },
     "metadata": {},
     "output_type": "display_data"
    },
    {
     "name": "stderr",
     "output_type": "stream",
     "text": [
      "[Parallel(n_jobs=8)]: Using backend LokyBackend with 8 concurrent workers.\n",
      "[Parallel(n_jobs=8)]: Batch computation too fast (0.1339s.) Setting batch_size=2.\n",
      "[Parallel(n_jobs=8)]: Done   2 tasks      | elapsed:    0.2s\n",
      "[Parallel(n_jobs=8)]: Done   9 tasks      | elapsed:    0.2s\n",
      "[Parallel(n_jobs=8)]: Batch computation too fast (0.1192s.) Setting batch_size=4.\n",
      "[Parallel(n_jobs=8)]: Done  19 tasks      | elapsed:    0.3s\n",
      "[Parallel(n_jobs=8)]: Done  34 tasks      | elapsed:    0.4s\n",
      "[Parallel(n_jobs=8)]: Done  56 tasks      | elapsed:    0.7s\n",
      "[Parallel(n_jobs=8)]: Done 100 tasks      | elapsed:    1.1s\n",
      "[Parallel(n_jobs=8)]: Done 144 tasks      | elapsed:    1.2s\n",
      "[Parallel(n_jobs=8)]: Done 196 tasks      | elapsed:    1.5s\n",
      "[Parallel(n_jobs=8)]: Done 248 tasks      | elapsed:    1.7s\n",
      "[Parallel(n_jobs=8)]: Done 308 tasks      | elapsed:    2.1s\n",
      "[Parallel(n_jobs=8)]: Done 368 tasks      | elapsed:    2.5s\n",
      "[Parallel(n_jobs=8)]: Done 436 tasks      | elapsed:    2.9s\n",
      "[Parallel(n_jobs=8)]: Done 504 tasks      | elapsed:    3.3s\n",
      "[Parallel(n_jobs=8)]: Done 580 tasks      | elapsed:    3.9s\n",
      "[Parallel(n_jobs=8)]: Done 656 tasks      | elapsed:    4.4s\n",
      "[Parallel(n_jobs=8)]: Batch computation too fast (0.1922s.) Setting batch_size=8.\n",
      "[Parallel(n_jobs=8)]: Done 740 tasks      | elapsed:    4.6s\n",
      "[Parallel(n_jobs=8)]: Done 794 tasks      | elapsed:    4.7s\n",
      "[Parallel(n_jobs=8)]: Done 821 out of 821 | elapsed:    4.9s finished\n"
     ]
    },
    {
     "data": {
      "image/png": "[encoded data removed]",
      "text/plain": [
       "<Figure size 1000x200 with 2 Axes>"
      ]
     },
     "metadata": {},
     "output_type": "display_data"
    },
    {
     "name": "stdout",
     "output_type": "stream",
     "text": [
      "B1595 total # merged units: 325\n"
     ]
    },
    {
     "data": {
      "application/vnd.jupyter.widget-view+json": {
       "model_id": "d6e83e30a4c34a7680ee162266c52f8b",
       "version_major": 2,
       "version_minor": 0
      },
      "text/plain": [
       "unit:   0%|          | 0/325 [00:00<?, ?it/s]"
      ]
     },
     "metadata": {},
     "output_type": "display_data"
    },
    {
     "name": "stderr",
     "output_type": "stream",
     "text": [
      "[Parallel(n_jobs=8)]: Using backend LokyBackend with 8 concurrent workers.\n",
      "[Parallel(n_jobs=8)]: Batch computation too fast (0.0309s.) Setting batch_size=2.\n",
      "[Parallel(n_jobs=8)]: Done   2 tasks      | elapsed:    0.0s\n",
      "[Parallel(n_jobs=8)]: Done   9 tasks      | elapsed:    0.2s\n",
      "[Parallel(n_jobs=8)]: Batch computation too fast (0.1952s.) Setting batch_size=4.\n",
      "[Parallel(n_jobs=8)]: Done  17 tasks      | elapsed:    0.3s\n",
      "[Parallel(n_jobs=8)]: Done  34 tasks      | elapsed:    0.6s\n",
      "[Parallel(n_jobs=8)]: Done  56 tasks      | elapsed:    0.9s\n",
      "[Parallel(n_jobs=8)]: Done 100 tasks      | elapsed:    1.3s\n",
      "[Parallel(n_jobs=8)]: Done 144 tasks      | elapsed:    1.6s\n",
      "[Parallel(n_jobs=8)]: Done 196 tasks      | elapsed:    1.9s\n",
      "[Parallel(n_jobs=8)]: Done 248 tasks      | elapsed:    2.2s\n",
      "[Parallel(n_jobs=8)]: Done 296 tasks      | elapsed:    2.6s\n",
      "[Parallel(n_jobs=8)]: Done 325 out of 325 | elapsed:    2.7s finished\n"
     ]
    },
    {
     "data": {
      "image/png": "[encoded data removed]",
      "text/plain": [
       "<Figure size 1000x200 with 2 Axes>"
      ]
     },
     "metadata": {},
     "output_type": "display_data"
    },
    {
     "name": "stdout",
     "output_type": "stream",
     "text": [
      "B1276 total # merged units: 57\n"
     ]
    },
    {
     "data": {
      "application/vnd.jupyter.widget-view+json": {
       "model_id": "1c04e0d62c294e44bb8052edd8bede69",
       "version_major": 2,
       "version_minor": 0
      },
      "text/plain": [
       "unit:   0%|          | 0/57 [00:00<?, ?it/s]"
      ]
     },
     "metadata": {},
     "output_type": "display_data"
    },
    {
     "name": "stderr",
     "output_type": "stream",
     "text": [
      "[Parallel(n_jobs=8)]: Using backend LokyBackend with 8 concurrent workers.\n",
      "[Parallel(n_jobs=8)]: Batch computation too fast (0.1529s.) Setting batch_size=2.\n",
      "[Parallel(n_jobs=8)]: Done   2 tasks      | elapsed:    0.2s\n",
      "[Parallel(n_jobs=8)]: Done   9 tasks      | elapsed:    0.3s\n",
      "[Parallel(n_jobs=8)]: Done  16 tasks      | elapsed:    0.4s\n",
      "[Parallel(n_jobs=8)]: Batch computation too fast (0.1659s.) Setting batch_size=4.\n",
      "[Parallel(n_jobs=8)]: Done  34 tasks      | elapsed:    0.5s\n",
      "[Parallel(n_jobs=8)]: Done  42 out of  57 | elapsed:    0.6s remaining:    0.2s\n",
      "[Parallel(n_jobs=8)]: Done  48 out of  57 | elapsed:    0.6s remaining:    0.1s\n",
      "[Parallel(n_jobs=8)]: Done  54 out of  57 | elapsed:    0.6s remaining:    0.0s\n",
      "[Parallel(n_jobs=8)]: Done  57 out of  57 | elapsed:    0.6s finished\n"
     ]
    },
    {
     "data": {
      "image/png": "[encoded data removed]",
      "text/plain": [
       "<Figure size 1000x200 with 2 Axes>"
      ]
     },
     "metadata": {},
     "output_type": "display_data"
    },
    {
     "name": "stdout",
     "output_type": "stream",
     "text": [
      "B1426 total # merged units: 180\n"
     ]
    },
    {
     "data": {
      "application/vnd.jupyter.widget-view+json": {
       "model_id": "26ac17e2742b44d6abaee023da9e32b7",
       "version_major": 2,
       "version_minor": 0
      },
      "text/plain": [
       "unit:   0%|          | 0/180 [00:00<?, ?it/s]"
      ]
     },
     "metadata": {},
     "output_type": "display_data"
    },
    {
     "name": "stderr",
     "output_type": "stream",
     "text": [
      "[Parallel(n_jobs=8)]: Using backend LokyBackend with 8 concurrent workers.\n",
      "[Parallel(n_jobs=8)]: Batch computation too fast (0.0676s.) Setting batch_size=2.\n",
      "[Parallel(n_jobs=8)]: Done   2 tasks      | elapsed:    0.1s\n",
      "[Parallel(n_jobs=8)]: Done   9 tasks      | elapsed:    0.2s\n",
      "[Parallel(n_jobs=8)]: Batch computation too fast (0.0771s.) Setting batch_size=4.\n",
      "[Parallel(n_jobs=8)]: Done  17 tasks      | elapsed:    0.3s\n",
      "[Parallel(n_jobs=8)]: Done  34 tasks      | elapsed:    0.4s\n",
      "[Parallel(n_jobs=8)]: Batch computation too fast (0.1018s.) Setting batch_size=8.\n",
      "[Parallel(n_jobs=8)]: Done  62 tasks      | elapsed:    0.5s\n",
      "[Parallel(n_jobs=8)]: Done 104 tasks      | elapsed:    0.6s\n",
      "[Parallel(n_jobs=8)]: Batch computation too fast (0.1550s.) Setting batch_size=16.\n",
      "[Parallel(n_jobs=8)]: Done 108 out of 180 | elapsed:    0.6s remaining:    0.4s\n",
      "[Parallel(n_jobs=8)]: Done 146 out of 180 | elapsed:    0.7s remaining:    0.2s\n",
      "[Parallel(n_jobs=8)]: Done 180 out of 180 | elapsed:    0.8s finished\n"
     ]
    },
    {
     "data": {
      "image/png": "[encoded data removed]",
      "text/plain": [
       "<Figure size 1000x200 with 2 Axes>"
      ]
     },
     "metadata": {},
     "output_type": "display_data"
    },
    {
     "name": "stdout",
     "output_type": "stream",
     "text": [
      "B1432 total # merged units: 2364\n"
     ]
    },
    {
     "data": {
      "application/vnd.jupyter.widget-view+json": {
       "model_id": "ebbce9b997484c499973fdccb5e38907",
       "version_major": 2,
       "version_minor": 0
      },
      "text/plain": [
       "unit:   0%|          | 0/2364 [00:00<?, ?it/s]"
      ]
     },
     "metadata": {},
     "output_type": "display_data"
    },
    {
     "name": "stderr",
     "output_type": "stream",
     "text": [
      "[Parallel(n_jobs=8)]: Using backend LokyBackend with 8 concurrent workers.\n",
      "[Parallel(n_jobs=8)]: Done   2 tasks      | elapsed:    0.6s\n",
      "[Parallel(n_jobs=8)]: Done   9 tasks      | elapsed:    0.9s\n",
      "[Parallel(n_jobs=8)]: Done  16 tasks      | elapsed:    1.2s\n",
      "[Parallel(n_jobs=8)]: Done  25 tasks      | elapsed:    1.6s\n",
      "[Parallel(n_jobs=8)]: Done  34 tasks      | elapsed:    1.8s\n",
      "[Parallel(n_jobs=8)]: Done  45 tasks      | elapsed:    2.1s\n",
      "[Parallel(n_jobs=8)]: Done  56 tasks      | elapsed:    2.4s\n",
      "[Parallel(n_jobs=8)]: Done  69 tasks      | elapsed:    2.6s\n",
      "[Parallel(n_jobs=8)]: Done  82 tasks      | elapsed:    2.9s\n",
      "[Parallel(n_jobs=8)]: Done  97 tasks      | elapsed:    3.1s\n",
      "[Parallel(n_jobs=8)]: Done 112 tasks      | elapsed:    3.4s\n",
      "[Parallel(n_jobs=8)]: Done 129 tasks      | elapsed:    3.7s\n",
      "[Parallel(n_jobs=8)]: Done 146 tasks      | elapsed:    4.0s\n",
      "[Parallel(n_jobs=8)]: Done 165 tasks      | elapsed:    4.3s\n",
      "[Parallel(n_jobs=8)]: Done 184 tasks      | elapsed:    4.6s\n",
      "[Parallel(n_jobs=8)]: Done 205 tasks      | elapsed:    5.0s\n",
      "[Parallel(n_jobs=8)]: Done 226 tasks      | elapsed:    5.4s\n",
      "[Parallel(n_jobs=8)]: Done 249 tasks      | elapsed:    5.7s\n",
      "[Parallel(n_jobs=8)]: Done 272 tasks      | elapsed:    6.1s\n",
      "[Parallel(n_jobs=8)]: Done 297 tasks      | elapsed:    6.5s\n",
      "[Parallel(n_jobs=8)]: Done 322 tasks      | elapsed:    7.0s\n",
      "[Parallel(n_jobs=8)]: Done 349 tasks      | elapsed:    7.4s\n",
      "[Parallel(n_jobs=8)]: Done 376 tasks      | elapsed:    7.8s\n",
      "[Parallel(n_jobs=8)]: Done 405 tasks      | elapsed:    8.3s\n",
      "[Parallel(n_jobs=8)]: Done 434 tasks      | elapsed:    8.8s\n",
      "[Parallel(n_jobs=8)]: Done 465 tasks      | elapsed:    9.3s\n",
      "[Parallel(n_jobs=8)]: Done 496 tasks      | elapsed:    9.7s\n",
      "[Parallel(n_jobs=8)]: Done 529 tasks      | elapsed:   10.2s\n",
      "[Parallel(n_jobs=8)]: Done 562 tasks      | elapsed:   10.8s\n",
      "[Parallel(n_jobs=8)]: Done 597 tasks      | elapsed:   11.4s\n",
      "[Parallel(n_jobs=8)]: Done 632 tasks      | elapsed:   11.9s\n",
      "[Parallel(n_jobs=8)]: Done 669 tasks      | elapsed:   12.4s\n",
      "[Parallel(n_jobs=8)]: Done 706 tasks      | elapsed:   13.0s\n",
      "[Parallel(n_jobs=8)]: Batch computation too fast (0.1956s.) Setting batch_size=2.\n",
      "[Parallel(n_jobs=8)]: Done 754 tasks      | elapsed:   13.7s\n",
      "[Parallel(n_jobs=8)]: Done 832 tasks      | elapsed:   14.8s\n",
      "[Parallel(n_jobs=8)]: Done 914 tasks      | elapsed:   15.8s\n",
      "[Parallel(n_jobs=8)]: Done 996 tasks      | elapsed:   17.0s\n",
      "[Parallel(n_jobs=8)]: Done 1082 tasks      | elapsed:   18.2s\n",
      "[Parallel(n_jobs=8)]: Done 1168 tasks      | elapsed:   19.3s\n",
      "[Parallel(n_jobs=8)]: Done 1258 tasks      | elapsed:   20.4s\n",
      "[Parallel(n_jobs=8)]: Done 1348 tasks      | elapsed:   21.3s\n",
      "[Parallel(n_jobs=8)]: Done 1442 tasks      | elapsed:   22.3s\n",
      "[Parallel(n_jobs=8)]: Done 1536 tasks      | elapsed:   23.2s\n",
      "[Parallel(n_jobs=8)]: Done 1634 tasks      | elapsed:   24.2s\n",
      "[Parallel(n_jobs=8)]: Done 1732 tasks      | elapsed:   24.9s\n",
      "[Parallel(n_jobs=8)]: Batch computation too fast (0.1999s.) Setting batch_size=4.\n",
      "[Parallel(n_jobs=8)]: Batch computation too fast (0.1379s.) Setting batch_size=8.\n",
      "[Parallel(n_jobs=8)]: Batch computation too fast (0.1961s.) Setting batch_size=16.\n",
      "[Parallel(n_jobs=8)]: Done 1896 tasks      | elapsed:   25.6s\n",
      "[Parallel(n_jobs=8)]: Batch computation too fast (0.1713s.) Setting batch_size=32.\n",
      "[Parallel(n_jobs=8)]: Done 2219 tasks      | elapsed:   26.6s\n",
      "[Parallel(n_jobs=8)]: Done 2317 tasks      | elapsed:   26.9s\n",
      "[Parallel(n_jobs=8)]: Done 2364 out of 2364 | elapsed:   27.3s finished\n"
     ]
    },
    {
     "data": {
      "image/png": "[encoded data removed]",
      "text/plain": [
       "<Figure size 1000x200 with 2 Axes>"
      ]
     },
     "metadata": {},
     "output_type": "display_data"
    },
    {
     "name": "stdout",
     "output_type": "stream",
     "text": [
      "B1170 total # merged units: 1693\n"
     ]
    },
    {
     "data": {
      "application/vnd.jupyter.widget-view+json": {
       "model_id": "9f9e6f0dbbed4f05a199dbe1ae5cff65",
       "version_major": 2,
       "version_minor": 0
      },
      "text/plain": [
       "unit:   0%|          | 0/1693 [00:00<?, ?it/s]"
      ]
     },
     "metadata": {},
     "output_type": "display_data"
    },
    {
     "name": "stderr",
     "output_type": "stream",
     "text": [
      "[Parallel(n_jobs=8)]: Using backend LokyBackend with 8 concurrent workers.\n",
      "[Parallel(n_jobs=8)]: Done   2 tasks      | elapsed:    0.4s\n",
      "[Parallel(n_jobs=8)]: Done   9 tasks      | elapsed:    0.8s\n",
      "[Parallel(n_jobs=8)]: Done  16 tasks      | elapsed:    1.0s\n",
      "[Parallel(n_jobs=8)]: Done  25 tasks      | elapsed:    1.3s\n",
      "[Parallel(n_jobs=8)]: Done  34 tasks      | elapsed:    1.5s\n",
      "[Parallel(n_jobs=8)]: Done  45 tasks      | elapsed:    1.8s\n",
      "[Parallel(n_jobs=8)]: Done  56 tasks      | elapsed:    1.9s\n",
      "[Parallel(n_jobs=8)]: Done  69 tasks      | elapsed:    2.1s\n",
      "[Parallel(n_jobs=8)]: Done  82 tasks      | elapsed:    2.4s\n",
      "[Parallel(n_jobs=8)]: Done  97 tasks      | elapsed:    2.6s\n",
      "[Parallel(n_jobs=8)]: Batch computation too fast (0.1944s.) Setting batch_size=2.\n",
      "[Parallel(n_jobs=8)]: Done 112 tasks      | elapsed:    2.8s\n",
      "[Parallel(n_jobs=8)]: Batch computation too fast (0.1087s.) Setting batch_size=4.\n",
      "[Parallel(n_jobs=8)]: Done 138 tasks      | elapsed:    3.1s\n",
      "[Parallel(n_jobs=8)]: Done 192 tasks      | elapsed:    3.8s\n",
      "[Parallel(n_jobs=8)]: Done 268 tasks      | elapsed:    4.7s\n",
      "[Parallel(n_jobs=8)]: Done 344 tasks      | elapsed:    5.5s\n",
      "[Parallel(n_jobs=8)]: Done 428 tasks      | elapsed:    6.4s\n",
      "[Parallel(n_jobs=8)]: Done 512 tasks      | elapsed:    7.3s\n",
      "[Parallel(n_jobs=8)]: Done 604 tasks      | elapsed:    8.2s\n",
      "[Parallel(n_jobs=8)]: Done 696 tasks      | elapsed:    9.0s\n",
      "[Parallel(n_jobs=8)]: Done 796 tasks      | elapsed:    9.8s\n",
      "[Parallel(n_jobs=8)]: Done 896 tasks      | elapsed:   10.4s\n",
      "[Parallel(n_jobs=8)]: Done 1004 tasks      | elapsed:   11.0s\n",
      "[Parallel(n_jobs=8)]: Done 1112 tasks      | elapsed:   11.6s\n",
      "[Parallel(n_jobs=8)]: Done 1228 tasks      | elapsed:   12.2s\n",
      "[Parallel(n_jobs=8)]: Batch computation too fast (0.1952s.) Setting batch_size=8.\n",
      "[Parallel(n_jobs=8)]: Batch computation too fast (0.1788s.) Setting batch_size=16.\n",
      "[Parallel(n_jobs=8)]: Done 1352 tasks      | elapsed:   12.6s\n",
      "[Parallel(n_jobs=8)]: Done 1571 tasks      | elapsed:   13.1s\n",
      "[Parallel(n_jobs=8)]: Done 1632 tasks      | elapsed:   13.3s\n",
      "[Parallel(n_jobs=8)]: Done 1665 tasks      | elapsed:   13.5s\n",
      "[Parallel(n_jobs=8)]: Done 1693 out of 1693 | elapsed:   13.7s finished\n"
     ]
    },
    {
     "data": {
      "image/png": "[encoded data removed]",
      "text/plain": [
       "<Figure size 1000x200 with 2 Axes>"
      ]
     },
     "metadata": {},
     "output_type": "display_data"
    },
    {
     "name": "stdout",
     "output_type": "stream",
     "text": [
      "B1244 total # merged units: 150\n"
     ]
    },
    {
     "data": {
      "application/vnd.jupyter.widget-view+json": {
       "model_id": "20b8d94b07954f14827b94c3b6e8f7de",
       "version_major": 2,
       "version_minor": 0
      },
      "text/plain": [
       "unit:   0%|          | 0/150 [00:00<?, ?it/s]"
      ]
     },
     "metadata": {},
     "output_type": "display_data"
    },
    {
     "name": "stderr",
     "output_type": "stream",
     "text": [
      "[Parallel(n_jobs=8)]: Using backend LokyBackend with 8 concurrent workers.\n",
      "[Parallel(n_jobs=8)]: Batch computation too fast (0.1236s.) Setting batch_size=2.\n",
      "[Parallel(n_jobs=8)]: Done   2 tasks      | elapsed:    0.2s\n",
      "[Parallel(n_jobs=8)]: Done   9 tasks      | elapsed:    0.2s\n",
      "[Parallel(n_jobs=8)]: Done  16 tasks      | elapsed:    0.4s\n",
      "[Parallel(n_jobs=8)]: Done  34 tasks      | elapsed:    0.8s\n",
      "[Parallel(n_jobs=8)]: Done  52 tasks      | elapsed:    1.0s\n",
      "[Parallel(n_jobs=8)]: Done  74 tasks      | elapsed:    1.4s\n",
      "[Parallel(n_jobs=8)]: Done  96 tasks      | elapsed:    1.6s\n",
      "[Parallel(n_jobs=8)]: Done 122 tasks      | elapsed:    1.8s\n",
      "[Parallel(n_jobs=8)]: Done 150 out of 150 | elapsed:    1.9s finished\n"
     ]
    },
    {
     "data": {
      "image/png": "[encoded data removed]",
      "text/plain": [
       "<Figure size 1000x200 with 2 Axes>"
      ]
     },
     "metadata": {},
     "output_type": "display_data"
    },
    {
     "name": "stdout",
     "output_type": "stream",
     "text": [
      "B1593 total # merged units: 13260\n"
     ]
    },
    {
     "data": {
      "application/vnd.jupyter.widget-view+json": {
       "model_id": "528c820b9ab245959b4d480a8805965e",
       "version_major": 2,
       "version_minor": 0
      },
      "text/plain": [
       "unit:   0%|          | 0/13260 [00:00<?, ?it/s]"
      ]
     },
     "metadata": {},
     "output_type": "display_data"
    },
    {
     "name": "stderr",
     "output_type": "stream",
     "text": [
      "[Parallel(n_jobs=8)]: Using backend LokyBackend with 8 concurrent workers.\n",
      "[Parallel(n_jobs=8)]: Done   2 tasks      | elapsed:    0.7s\n",
      "[Parallel(n_jobs=8)]: Done   9 tasks      | elapsed:    1.3s\n",
      "[Parallel(n_jobs=8)]: Done  16 tasks      | elapsed:    1.7s\n",
      "[Parallel(n_jobs=8)]: Done  25 tasks      | elapsed:    2.1s\n",
      "[Parallel(n_jobs=8)]: Done  34 tasks      | elapsed:    2.4s\n",
      "[Parallel(n_jobs=8)]: Done  45 tasks      | elapsed:    2.7s\n",
      "[Parallel(n_jobs=8)]: Done  56 tasks      | elapsed:    3.0s\n",
      "[Parallel(n_jobs=8)]: Done  69 tasks      | elapsed:    3.5s\n",
      "[Parallel(n_jobs=8)]: Done  82 tasks      | elapsed:    3.9s\n",
      "[Parallel(n_jobs=8)]: Done  97 tasks      | elapsed:    4.3s\n",
      "[Parallel(n_jobs=8)]: Done 112 tasks      | elapsed:    4.8s\n",
      "[Parallel(n_jobs=8)]: Done 129 tasks      | elapsed:    5.3s\n",
      "[Parallel(n_jobs=8)]: Done 146 tasks      | elapsed:    5.6s\n",
      "[Parallel(n_jobs=8)]: Done 165 tasks      | elapsed:    6.0s\n",
      "[Parallel(n_jobs=8)]: Done 184 tasks      | elapsed:    6.5s\n",
      "[Parallel(n_jobs=8)]: Done 205 tasks      | elapsed:    6.9s\n",
      "[Parallel(n_jobs=8)]: Done 226 tasks      | elapsed:    7.3s\n",
      "[Parallel(n_jobs=8)]: Done 249 tasks      | elapsed:    7.6s\n",
      "[Parallel(n_jobs=8)]: Batch computation too fast (0.1750s.) Setting batch_size=2.\n",
      "[Parallel(n_jobs=8)]: Batch computation too fast (0.0221s.) Setting batch_size=4.\n",
      "[Parallel(n_jobs=8)]: Done 274 tasks      | elapsed:    7.8s\n",
      "[Parallel(n_jobs=8)]: Batch computation too fast (0.0969s.) Setting batch_size=8.\n",
      "[Parallel(n_jobs=8)]: Done 340 tasks      | elapsed:    8.3s\n",
      "[Parallel(n_jobs=8)]: Done 512 tasks      | elapsed:    9.7s\n",
      "[Parallel(n_jobs=8)]: Done 728 tasks      | elapsed:   11.5s\n",
      "[Parallel(n_jobs=8)]: Done 944 tasks      | elapsed:   14.3s\n",
      "[Parallel(n_jobs=8)]: Done 1176 tasks      | elapsed:   16.5s\n",
      "[Parallel(n_jobs=8)]: Done 1408 tasks      | elapsed:   18.1s\n",
      "[Parallel(n_jobs=8)]: Done 1656 tasks      | elapsed:   20.0s\n",
      "[Parallel(n_jobs=8)]: Done 1904 tasks      | elapsed:   22.1s\n",
      "[Parallel(n_jobs=8)]: Done 2168 tasks      | elapsed:   24.2s\n",
      "[Parallel(n_jobs=8)]: Done 2432 tasks      | elapsed:   26.4s\n",
      "[Parallel(n_jobs=8)]: Done 2712 tasks      | elapsed:   27.5s\n",
      "[Parallel(n_jobs=8)]: Done 2992 tasks      | elapsed:   29.5s\n",
      "[Parallel(n_jobs=8)]: Done 3288 tasks      | elapsed:   31.8s\n",
      "[Parallel(n_jobs=8)]: Done 3584 tasks      | elapsed:   33.7s\n",
      "[Parallel(n_jobs=8)]: Done 3896 tasks      | elapsed:   36.5s\n",
      "[Parallel(n_jobs=8)]: Done 4208 tasks      | elapsed:   38.9s\n",
      "[Parallel(n_jobs=8)]: Done 4536 tasks      | elapsed:   41.1s\n",
      "[Parallel(n_jobs=8)]: Done 4864 tasks      | elapsed:   43.3s\n",
      "[Parallel(n_jobs=8)]: Done 5208 tasks      | elapsed:   46.6s\n",
      "[Parallel(n_jobs=8)]: Done 5552 tasks      | elapsed:   48.5s\n",
      "[Parallel(n_jobs=8)]: Done 5912 tasks      | elapsed:   51.4s\n",
      "[Parallel(n_jobs=8)]: Done 6272 tasks      | elapsed:   54.7s\n",
      "[Parallel(n_jobs=8)]: Done 6648 tasks      | elapsed:   56.9s\n",
      "[Parallel(n_jobs=8)]: Done 7024 tasks      | elapsed:   59.3s\n",
      "[Parallel(n_jobs=8)]: Done 7416 tasks      | elapsed:  1.0min\n",
      "[Parallel(n_jobs=8)]: Done 7808 tasks      | elapsed:  1.1min\n",
      "[Parallel(n_jobs=8)]: Done 8216 tasks      | elapsed:  1.1min\n",
      "[Parallel(n_jobs=8)]: Done 8624 tasks      | elapsed:  1.2min\n",
      "[Parallel(n_jobs=8)]: Done 9048 tasks      | elapsed:  1.2min\n",
      "[Parallel(n_jobs=8)]: Done 9472 tasks      | elapsed:  1.3min\n",
      "[Parallel(n_jobs=8)]: Done 9912 tasks      | elapsed:  1.3min\n",
      "[Parallel(n_jobs=8)]: Done 10352 tasks      | elapsed:  1.4min\n",
      "[Parallel(n_jobs=8)]: Done 10808 tasks      | elapsed:  1.4min\n",
      "[Parallel(n_jobs=8)]: Done 11264 tasks      | elapsed:  1.5min\n",
      "[Parallel(n_jobs=8)]: Done 11736 tasks      | elapsed:  1.5min\n",
      "[Parallel(n_jobs=8)]: Done 12208 tasks      | elapsed:  1.6min\n",
      "[Parallel(n_jobs=8)]: Done 12696 tasks      | elapsed:  1.6min\n",
      "[Parallel(n_jobs=8)]: Batch computation too fast (0.1966s.) Setting batch_size=16.\n",
      "[Parallel(n_jobs=8)]: Batch computation too fast (0.1978s.) Setting batch_size=32.\n",
      "[Parallel(n_jobs=8)]: Done 13178 tasks      | elapsed:  1.6min\n",
      "[Parallel(n_jobs=8)]: Done 13241 tasks      | elapsed:  1.6min\n",
      "[Parallel(n_jobs=8)]: Done 13260 out of 13260 | elapsed:  1.6min finished\n"
     ]
    },
    {
     "data": {
      "image/png": "[encoded data removed]",
      "text/plain": [
       "<Figure size 1000x200 with 2 Axes>"
      ]
     },
     "metadata": {},
     "output_type": "display_data"
    },
    {
     "name": "stdout",
     "output_type": "stream",
     "text": [
      "B1248 total # merged units: 13184\n"
     ]
    },
    {
     "data": {
      "application/vnd.jupyter.widget-view+json": {
       "model_id": "7d4a104d715843ebb1abc4117205004d",
       "version_major": 2,
       "version_minor": 0
      },
      "text/plain": [
       "unit:   0%|          | 0/13184 [00:00<?, ?it/s]"
      ]
     },
     "metadata": {},
     "output_type": "display_data"
    },
    {
     "name": "stderr",
     "output_type": "stream",
     "text": [
      "[Parallel(n_jobs=8)]: Using backend LokyBackend with 8 concurrent workers.\n",
      "[Parallel(n_jobs=8)]: Done   2 tasks      | elapsed:    0.7s\n",
      "[Parallel(n_jobs=8)]: Done   9 tasks      | elapsed:    1.1s\n",
      "[Parallel(n_jobs=8)]: Done  16 tasks      | elapsed:    1.5s\n",
      "[Parallel(n_jobs=8)]: Done  25 tasks      | elapsed:    2.0s\n",
      "[Parallel(n_jobs=8)]: Done  34 tasks      | elapsed:    2.3s\n",
      "[Parallel(n_jobs=8)]: Done  45 tasks      | elapsed:    2.7s\n",
      "[Parallel(n_jobs=8)]: Done  56 tasks      | elapsed:    3.0s\n",
      "[Parallel(n_jobs=8)]: Done  69 tasks      | elapsed:    3.6s\n",
      "[Parallel(n_jobs=8)]: Done  82 tasks      | elapsed:    3.9s\n",
      "[Parallel(n_jobs=8)]: Done  97 tasks      | elapsed:    4.3s\n",
      "[Parallel(n_jobs=8)]: Done 112 tasks      | elapsed:    4.6s\n",
      "[Parallel(n_jobs=8)]: Done 129 tasks      | elapsed:    4.8s\n",
      "[Parallel(n_jobs=8)]: Batch computation too fast (0.1930s.) Setting batch_size=2.\n",
      "[Parallel(n_jobs=8)]: Done 146 tasks      | elapsed:    5.0s\n",
      "[Parallel(n_jobs=8)]: Done 178 tasks      | elapsed:    5.4s\n",
      "[Parallel(n_jobs=8)]: Done 216 tasks      | elapsed:    5.9s\n",
      "[Parallel(n_jobs=8)]: Done 258 tasks      | elapsed:    6.5s\n",
      "[Parallel(n_jobs=8)]: Done 300 tasks      | elapsed:    7.0s\n",
      "[Parallel(n_jobs=8)]: Done 346 tasks      | elapsed:    7.8s\n",
      "[Parallel(n_jobs=8)]: Done 392 tasks      | elapsed:    8.4s\n",
      "[Parallel(n_jobs=8)]: Done 442 tasks      | elapsed:    8.9s\n",
      "[Parallel(n_jobs=8)]: Done 492 tasks      | elapsed:    9.4s\n",
      "[Parallel(n_jobs=8)]: Done 546 tasks      | elapsed:    9.9s\n",
      "[Parallel(n_jobs=8)]: Done 600 tasks      | elapsed:   10.5s\n",
      "[Parallel(n_jobs=8)]: Done 658 tasks      | elapsed:   11.1s\n",
      "[Parallel(n_jobs=8)]: Done 716 tasks      | elapsed:   13.4s\n",
      "[Parallel(n_jobs=8)]: Done 778 tasks      | elapsed:   14.8s\n",
      "[Parallel(n_jobs=8)]: Done 840 tasks      | elapsed:   16.1s\n",
      "[Parallel(n_jobs=8)]: Done 906 tasks      | elapsed:   17.1s\n",
      "[Parallel(n_jobs=8)]: Done 972 tasks      | elapsed:   17.8s\n",
      "[Parallel(n_jobs=8)]: Done 1042 tasks      | elapsed:   18.9s\n",
      "[Parallel(n_jobs=8)]: Done 1112 tasks      | elapsed:   19.8s\n",
      "[Parallel(n_jobs=8)]: Done 1186 tasks      | elapsed:   20.8s\n",
      "[Parallel(n_jobs=8)]: Done 1260 tasks      | elapsed:   21.4s\n",
      "[Parallel(n_jobs=8)]: Done 1338 tasks      | elapsed:   22.3s\n",
      "[Parallel(n_jobs=8)]: Done 1416 tasks      | elapsed:   22.9s\n",
      "[Parallel(n_jobs=8)]: Done 1498 tasks      | elapsed:   23.7s\n",
      "[Parallel(n_jobs=8)]: Batch computation too fast (0.1987s.) Setting batch_size=4.\n",
      "[Parallel(n_jobs=8)]: Batch computation too fast (0.1320s.) Setting batch_size=8.\n",
      "[Parallel(n_jobs=8)]: Done 1600 tasks      | elapsed:   24.5s\n",
      "[Parallel(n_jobs=8)]: Done 1920 tasks      | elapsed:   27.8s\n",
      "[Parallel(n_jobs=8)]: Done 2264 tasks      | elapsed:   31.6s\n",
      "[Parallel(n_jobs=8)]: Done 2624 tasks      | elapsed:   34.6s\n",
      "[Parallel(n_jobs=8)]: Done 2984 tasks      | elapsed:   36.8s\n",
      "[Parallel(n_jobs=8)]: Done 3360 tasks      | elapsed:   39.4s\n",
      "[Parallel(n_jobs=8)]: Done 3736 tasks      | elapsed:   42.7s\n",
      "[Parallel(n_jobs=8)]: Done 4128 tasks      | elapsed:   45.3s\n",
      "[Parallel(n_jobs=8)]: Done 4520 tasks      | elapsed:   48.7s\n",
      "[Parallel(n_jobs=8)]: Done 4928 tasks      | elapsed:   54.1s\n",
      "[Parallel(n_jobs=8)]: Done 5336 tasks      | elapsed:   58.6s\n",
      "[Parallel(n_jobs=8)]: Done 5760 tasks      | elapsed:  1.0min\n",
      "[Parallel(n_jobs=8)]: Done 6184 tasks      | elapsed:  1.1min\n",
      "[Parallel(n_jobs=8)]: Done 6624 tasks      | elapsed:  1.1min\n",
      "[Parallel(n_jobs=8)]: Done 7064 tasks      | elapsed:  1.2min\n",
      "[Parallel(n_jobs=8)]: Done 7520 tasks      | elapsed:  1.2min\n",
      "[Parallel(n_jobs=8)]: Done 7976 tasks      | elapsed:  1.3min\n",
      "[Parallel(n_jobs=8)]: Done 8448 tasks      | elapsed:  1.3min\n",
      "[Parallel(n_jobs=8)]: Done 8920 tasks      | elapsed:  1.4min\n",
      "[Parallel(n_jobs=8)]: Done 9408 tasks      | elapsed:  1.4min\n",
      "[Parallel(n_jobs=8)]: Done 9896 tasks      | elapsed:  1.5min\n",
      "[Parallel(n_jobs=8)]: Done 10400 tasks      | elapsed:  1.5min\n",
      "[Parallel(n_jobs=8)]: Done 10904 tasks      | elapsed:  1.6min\n",
      "[Parallel(n_jobs=8)]: Done 11424 tasks      | elapsed:  1.6min\n",
      "[Parallel(n_jobs=8)]: Done 11944 tasks      | elapsed:  1.7min\n",
      "[Parallel(n_jobs=8)]: Done 12480 tasks      | elapsed:  1.8min\n",
      "[Parallel(n_jobs=8)]: Done 13016 tasks      | elapsed:  1.8min\n",
      "[Parallel(n_jobs=8)]: Done 13184 out of 13184 | elapsed:  1.8min finished\n"
     ]
    },
    {
     "data": {
      "image/png": "[encoded data removed]",
      "text/plain": [
       "<Figure size 1000x200 with 2 Axes>"
      ]
     },
     "metadata": {},
     "output_type": "display_data"
    },
    {
     "name": "stdout",
     "output_type": "stream",
     "text": [
      "B1279 total # merged units: 1126\n"
     ]
    },
    {
     "data": {
      "application/vnd.jupyter.widget-view+json": {
       "model_id": "043a28fe450a43369cc7acbccaf84c37",
       "version_major": 2,
       "version_minor": 0
      },
      "text/plain": [
       "unit:   0%|          | 0/1126 [00:00<?, ?it/s]"
      ]
     },
     "metadata": {},
     "output_type": "display_data"
    },
    {
     "name": "stderr",
     "output_type": "stream",
     "text": [
      "[Parallel(n_jobs=8)]: Using backend LokyBackend with 8 concurrent workers.\n",
      "[Parallel(n_jobs=8)]: Batch computation too fast (0.0403s.) Setting batch_size=2.\n",
      "[Parallel(n_jobs=8)]: Done   2 tasks      | elapsed:    0.1s\n",
      "[Parallel(n_jobs=8)]: Done   9 tasks      | elapsed:    0.2s\n",
      "[Parallel(n_jobs=8)]: Done  17 tasks      | elapsed:    0.2s\n",
      "[Parallel(n_jobs=8)]: Batch computation too fast (0.1060s.) Setting batch_size=4.\n",
      "[Parallel(n_jobs=8)]: Done  34 tasks      | elapsed:    0.4s\n",
      "[Parallel(n_jobs=8)]: Done  56 tasks      | elapsed:    0.7s\n",
      "[Parallel(n_jobs=8)]: Done 100 tasks      | elapsed:    1.2s\n",
      "[Parallel(n_jobs=8)]: Done 144 tasks      | elapsed:    1.4s\n",
      "[Parallel(n_jobs=8)]: Done 196 tasks      | elapsed:    1.9s\n",
      "[Parallel(n_jobs=8)]: Done 248 tasks      | elapsed:    2.2s\n",
      "[Parallel(n_jobs=8)]: Done 308 tasks      | elapsed:    2.5s\n",
      "[Parallel(n_jobs=8)]: Done 368 tasks      | elapsed:    2.9s\n",
      "[Parallel(n_jobs=8)]: Done 436 tasks      | elapsed:    3.5s\n",
      "[Parallel(n_jobs=8)]: Done 504 tasks      | elapsed:    4.2s\n",
      "[Parallel(n_jobs=8)]: Done 580 tasks      | elapsed:    4.6s\n",
      "[Parallel(n_jobs=8)]: Done 656 tasks      | elapsed:    5.1s\n",
      "[Parallel(n_jobs=8)]: Done 740 tasks      | elapsed:    5.6s\n",
      "[Parallel(n_jobs=8)]: Done 824 tasks      | elapsed:    6.1s\n",
      "[Parallel(n_jobs=8)]: Done 916 tasks      | elapsed:    6.9s\n",
      "[Parallel(n_jobs=8)]: Done 1008 tasks      | elapsed:    7.4s\n",
      "[Parallel(n_jobs=8)]: Done 1093 tasks      | elapsed:    8.2s\n",
      "[Parallel(n_jobs=8)]: Done 1111 out of 1126 | elapsed:    8.3s remaining:    0.1s\n",
      "[Parallel(n_jobs=8)]: Done 1126 out of 1126 | elapsed:    8.3s finished\n"
     ]
    },
    {
     "data": {
      "image/png": "[encoded data removed]",
      "text/plain": [
       "<Figure size 1000x200 with 2 Axes>"
      ]
     },
     "metadata": {},
     "output_type": "display_data"
    },
    {
     "name": "stdout",
     "output_type": "stream",
     "text": [
      "B1500 total # merged units: 377\n"
     ]
    },
    {
     "data": {
      "application/vnd.jupyter.widget-view+json": {
       "model_id": "3a2a1a3f4c6343e48781ec47f300254c",
       "version_major": 2,
       "version_minor": 0
      },
      "text/plain": [
       "unit:   0%|          | 0/377 [00:00<?, ?it/s]"
      ]
     },
     "metadata": {},
     "output_type": "display_data"
    },
    {
     "name": "stderr",
     "output_type": "stream",
     "text": [
      "[Parallel(n_jobs=8)]: Using backend LokyBackend with 8 concurrent workers.\n",
      "[Parallel(n_jobs=8)]: Batch computation too fast (0.0375s.) Setting batch_size=2.\n",
      "[Parallel(n_jobs=8)]: Done   2 tasks      | elapsed:    0.0s\n",
      "[Parallel(n_jobs=8)]: Done   9 tasks      | elapsed:    0.1s\n",
      "[Parallel(n_jobs=8)]: Done  16 tasks      | elapsed:    0.2s\n",
      "[Parallel(n_jobs=8)]: Batch computation too fast (0.1507s.) Setting batch_size=4.\n",
      "[Parallel(n_jobs=8)]: Done  34 tasks      | elapsed:    0.3s\n",
      "[Parallel(n_jobs=8)]: Batch computation too fast (0.1504s.) Setting batch_size=8.\n",
      "[Parallel(n_jobs=8)]: Done  56 tasks      | elapsed:    0.5s\n",
      "[Parallel(n_jobs=8)]: Done 100 tasks      | elapsed:    0.7s\n",
      "[Parallel(n_jobs=8)]: Done 176 tasks      | elapsed:    1.0s\n",
      "[Parallel(n_jobs=8)]: Done 280 tasks      | elapsed:    1.4s\n",
      "[Parallel(n_jobs=8)]: Done 377 out of 377 | elapsed:    1.7s finished\n"
     ]
    },
    {
     "data": {
      "image/png": "[encoded data removed]",
      "text/plain": [
       "<Figure size 1000x200 with 2 Axes>"
      ]
     },
     "metadata": {},
     "output_type": "display_data"
    },
    {
     "name": "stdout",
     "output_type": "stream",
     "text": [
      "B1239 total # merged units: 212\n"
     ]
    },
    {
     "data": {
      "application/vnd.jupyter.widget-view+json": {
       "model_id": "bc03c7e8e3bc4f84b67389c626c5688b",
       "version_major": 2,
       "version_minor": 0
      },
      "text/plain": [
       "unit:   0%|          | 0/212 [00:00<?, ?it/s]"
      ]
     },
     "metadata": {},
     "output_type": "display_data"
    },
    {
     "name": "stderr",
     "output_type": "stream",
     "text": [
      "[Parallel(n_jobs=8)]: Using backend LokyBackend with 8 concurrent workers.\n",
      "[Parallel(n_jobs=8)]: Batch computation too fast (0.0696s.) Setting batch_size=2.\n",
      "[Parallel(n_jobs=8)]: Done   2 tasks      | elapsed:    0.1s\n",
      "[Parallel(n_jobs=8)]: Done   9 tasks      | elapsed:    0.1s\n",
      "[Parallel(n_jobs=8)]: Done  16 tasks      | elapsed:    0.2s\n",
      "[Parallel(n_jobs=8)]: Batch computation too fast (0.1775s.) Setting batch_size=4.\n",
      "[Parallel(n_jobs=8)]: Done  34 tasks      | elapsed:    0.3s\n",
      "[Parallel(n_jobs=8)]: Done  56 tasks      | elapsed:    0.5s\n",
      "[Parallel(n_jobs=8)]: Done 100 tasks      | elapsed:    0.8s\n",
      "[Parallel(n_jobs=8)]: Done 144 tasks      | elapsed:    1.1s\n",
      "[Parallel(n_jobs=8)]: Done 197 out of 212 | elapsed:    1.4s remaining:    0.1s\n",
      "[Parallel(n_jobs=8)]: Done 212 out of 212 | elapsed:    1.5s finished\n"
     ]
    },
    {
     "data": {
      "image/png": "[encoded data removed]",
      "text/plain": [
       "<Figure size 1000x200 with 2 Axes>"
      ]
     },
     "metadata": {},
     "output_type": "display_data"
    },
    {
     "name": "stdout",
     "output_type": "stream",
     "text": [
      "B1459 total # merged units: 460\n"
     ]
    },
    {
     "data": {
      "application/vnd.jupyter.widget-view+json": {
       "model_id": "453e55bf36874512b66c1b0ef1c9ea3b",
       "version_major": 2,
       "version_minor": 0
      },
      "text/plain": [
       "unit:   0%|          | 0/460 [00:00<?, ?it/s]"
      ]
     },
     "metadata": {},
     "output_type": "display_data"
    },
    {
     "name": "stderr",
     "output_type": "stream",
     "text": [
      "[Parallel(n_jobs=8)]: Using backend LokyBackend with 8 concurrent workers.\n",
      "[Parallel(n_jobs=8)]: Done   2 tasks      | elapsed:    0.4s\n",
      "[Parallel(n_jobs=8)]: Done   9 tasks      | elapsed:    0.5s\n",
      "[Parallel(n_jobs=8)]: Done  16 tasks      | elapsed:    0.6s\n",
      "[Parallel(n_jobs=8)]: Done  25 tasks      | elapsed:    0.7s\n",
      "[Parallel(n_jobs=8)]: Done  34 tasks      | elapsed:    0.9s\n",
      "[Parallel(n_jobs=8)]: Done  45 tasks      | elapsed:    1.0s\n",
      "[Parallel(n_jobs=8)]: Batch computation too fast (0.1972s.) Setting batch_size=2.\n",
      "[Parallel(n_jobs=8)]: Done  56 tasks      | elapsed:    1.1s\n",
      "[Parallel(n_jobs=8)]: Done  69 tasks      | elapsed:    1.3s\n",
      "[Parallel(n_jobs=8)]: Done  92 tasks      | elapsed:    1.7s\n",
      "[Parallel(n_jobs=8)]: Done 122 tasks      | elapsed:    2.1s\n",
      "[Parallel(n_jobs=8)]: Done 152 tasks      | elapsed:    2.4s\n",
      "[Parallel(n_jobs=8)]: Done 186 tasks      | elapsed:    2.9s\n",
      "[Parallel(n_jobs=8)]: Done 220 tasks      | elapsed:    3.4s\n",
      "[Parallel(n_jobs=8)]: Done 258 tasks      | elapsed:    3.9s\n",
      "[Parallel(n_jobs=8)]: Done 296 tasks      | elapsed:    4.3s\n",
      "[Parallel(n_jobs=8)]: Done 338 tasks      | elapsed:    4.7s\n",
      "[Parallel(n_jobs=8)]: Done 380 tasks      | elapsed:    5.0s\n",
      "[Parallel(n_jobs=8)]: Done 426 tasks      | elapsed:    5.4s\n",
      "[Parallel(n_jobs=8)]: Done 460 out of 460 | elapsed:    5.7s finished\n"
     ]
    }
   ],
   "source": [
    "for bird, timestamp, sorter in tqdm(birds):\n",
    "    spikesorting_folder = (DATA_DIR\n",
    "                / \"spikesorting\"\n",
    "                / bird\n",
    "                / timestamp)\n",
    "    recording_summary_df = pd.read_pickle(spikesorting_folder/ 'recording_df.pickle')\n",
    "\n",
    "    # get units that are to be merged\n",
    "    merged_units = pd.read_pickle(spikesorting_folder / 'unit_clusters2.pickle')\n",
    "    merged_units = merged_units.sort_values(by='n_playbacks', ascending=False)\n",
    "    merged_units = merged_units[merged_units.n_playbacks.astype('float')  > min_playbacks]\n",
    "    \n",
    "    plot = True\n",
    "    if plot:\n",
    "        fig, axs = plt.subplots(ncols=2, figsize=(10,2))\n",
    "        axs[0].hist(np.log10(merged_units.n_playbacks.values.astype('float')+1), bins = 100);\n",
    "        axs[0].set_title('log # playbacks')\n",
    "        axs[1].hist(np.log10(merged_units.n_spikes.values.astype('float')+1), bins = 100);\n",
    "        axs[1].set_title('log # spikes')\n",
    "        plt.show()\n",
    "        print('{} total # merged units: {}'.format(bird, len(merged_units)))\n",
    "\n",
    "    ensure_dir(spikesorting_folder / 'unit_statistics' / statistics_timestamp)\n",
    "\n",
    "    \n",
    "    Parallel(n_jobs = 8, verbose=10)(\n",
    "        delayed(get_unit_statistic)(\n",
    "            unit_to_analyze,\n",
    "            spikesorting_folder,\n",
    "            statistics_timestamp,\n",
    "            recompute=True,\n",
    "            parallel=True,\n",
    "            n_interp_point_bins=16,\n",
    "            \n",
    "                    )\n",
    "        for uniti, unit_to_analyze in tqdm(\n",
    "            merged_units.iterrows(), desc=\"unit\", total=len(merged_units)\n",
    "        )\n",
    "    );"
   ]
  },
  {
   "cell_type": "markdown",
   "id": "96da92d4",
   "metadata": {},
   "source": [
    "### Debugging"
   ]
  },
  {
   "cell_type": "code",
   "execution_count": 12,
   "id": "4378f566",
   "metadata": {
    "ExecuteTime": {
     "end_time": "2021-10-25T00:29:22.392116Z",
     "start_time": "2021-10-25T00:29:21.744493Z"
    }
   },
   "outputs": [
    {
     "ename": "NameError",
     "evalue": "name 'breakme' is not defined",
     "output_type": "error",
     "traceback": [
      "\u001b[0;31m---------------------------------------------------------------------------\u001b[0m",
      "\u001b[0;31mNameError\u001b[0m                                 Traceback (most recent call last)",
      "\u001b[0;32m<ipython-input-12-30cfd92a94be>\u001b[0m in \u001b[0;36m<module>\u001b[0;34m\u001b[0m\n\u001b[0;32m----> 1\u001b[0;31m \u001b[0mbreakme\u001b[0m\u001b[0;34m\u001b[0m\u001b[0;34m\u001b[0m\u001b[0m\n\u001b[0m",
      "\u001b[0;31mNameError\u001b[0m: name 'breakme' is not defined"
     ]
    }
   ],
   "source": [
    "breakme"
   ]
  },
  {
   "cell_type": "code",
   "execution_count": null,
   "id": "558d3bc2",
   "metadata": {
    "ExecuteTime": {
     "end_time": "2021-10-25T00:29:22.395381Z",
     "start_time": "2021-10-25T00:22:04.412Z"
    }
   },
   "outputs": [],
   "source": [
    "np.where(merged_units.cluster_id == 387)"
   ]
  },
  {
   "cell_type": "code",
   "execution_count": null,
   "id": "6376e084",
   "metadata": {
    "ExecuteTime": {
     "end_time": "2021-10-25T00:29:22.397628Z",
     "start_time": "2021-10-25T00:22:04.417Z"
    },
    "scrolled": true
   },
   "outputs": [],
   "source": [
    "Parallel(n_jobs=1, verbose=10)(\n",
    "    delayed(get_unit_statistic)(\n",
    "        unit_to_analyze,\n",
    "        spikesorting_folder,\n",
    "        statistics_timestamp,\n",
    "        recompute=True,\n",
    "        parallel=False,\n",
    "        save=False,\n",
    "        plot=False,\n",
    "    )\n",
    "    for uniti, unit_to_analyze in tqdm(\n",
    "        merged_units[:]\n",
    "        .iterrows(), desc=\"unit\", total=len(merged_units)\n",
    "    )\n",
    ")"
   ]
  },
  {
   "cell_type": "code",
   "execution_count": null,
   "id": "80acde30",
   "metadata": {
    "ExecuteTime": {
     "end_time": "2021-10-25T00:29:22.399682Z",
     "start_time": "2021-10-25T00:22:04.418Z"
    },
    "scrolled": true
   },
   "outputs": [],
   "source": [
    "%debug"
   ]
  },
  {
   "cell_type": "markdown",
   "id": "a18ab334",
   "metadata": {},
   "source": [
    "### make dataframe"
   ]
  },
  {
   "cell_type": "code",
   "execution_count": 13,
   "id": "bba0a52a",
   "metadata": {
    "ExecuteTime": {
     "end_time": "2021-10-25T00:31:51.094778Z",
     "start_time": "2021-10-25T00:31:50.941673Z"
    }
   },
   "outputs": [],
   "source": [
    "ensure_dir(DATA_DIR / 'unit_statistics' / statistics_timestamp / identifier)"
   ]
  },
  {
   "cell_type": "code",
   "execution_count": 14,
   "id": "d32cf92e",
   "metadata": {
    "ExecuteTime": {
     "end_time": "2021-10-25T00:31:51.195174Z",
     "start_time": "2021-10-25T00:31:51.137808Z"
    }
   },
   "outputs": [],
   "source": [
    "def read_and_unit(i):\n",
    "    try:\n",
    "        df = pd.read_pickle(i)\n",
    "        df['unit'] = i.stem\n",
    "        return df\n",
    "    except:\n",
    "        return"
   ]
  },
  {
   "cell_type": "code",
   "execution_count": 15,
   "id": "416ac9ea",
   "metadata": {
    "ExecuteTime": {
     "end_time": "2021-10-25T00:33:29.786993Z",
     "start_time": "2021-10-25T00:31:51.309058Z"
    },
    "scrolled": true
   },
   "outputs": [
    {
     "data": {
      "application/vnd.jupyter.widget-view+json": {
       "model_id": "8658678045344588b321fda87ce35c0a",
       "version_major": 2,
       "version_minor": 0
      },
      "text/plain": [
       "  0%|          | 0/14 [00:00<?, ?it/s]"
      ]
     },
     "metadata": {},
     "output_type": "display_data"
    },
    {
     "name": "stdout",
     "output_type": "stream",
     "text": [
      "B1597\n"
     ]
    },
    {
     "data": {
      "application/vnd.jupyter.widget-view+json": {
       "model_id": "",
       "version_major": 2,
       "version_minor": 0
      },
      "text/plain": [
       "reading pickles:   0%|          | 0/6750 [00:00<?, ?it/s]"
      ]
     },
     "metadata": {},
     "output_type": "display_data"
    },
    {
     "name": "stdout",
     "output_type": "stream",
     "text": [
      "B1188\n"
     ]
    },
    {
     "data": {
      "application/vnd.jupyter.widget-view+json": {
       "model_id": "",
       "version_major": 2,
       "version_minor": 0
      },
      "text/plain": [
       "reading pickles:   0%|          | 0/510 [00:00<?, ?it/s]"
      ]
     },
     "metadata": {},
     "output_type": "display_data"
    },
    {
     "name": "stdout",
     "output_type": "stream",
     "text": [
      "B1595\n"
     ]
    },
    {
     "data": {
      "application/vnd.jupyter.widget-view+json": {
       "model_id": "",
       "version_major": 2,
       "version_minor": 0
      },
      "text/plain": [
       "reading pickles:   0%|          | 0/242 [00:00<?, ?it/s]"
      ]
     },
     "metadata": {},
     "output_type": "display_data"
    },
    {
     "name": "stdout",
     "output_type": "stream",
     "text": [
      "B1276\n"
     ]
    },
    {
     "data": {
      "application/vnd.jupyter.widget-view+json": {
       "model_id": "",
       "version_major": 2,
       "version_minor": 0
      },
      "text/plain": [
       "reading pickles:   0%|          | 0/46 [00:00<?, ?it/s]"
      ]
     },
     "metadata": {},
     "output_type": "display_data"
    },
    {
     "name": "stdout",
     "output_type": "stream",
     "text": [
      "B1426\n"
     ]
    },
    {
     "data": {
      "application/vnd.jupyter.widget-view+json": {
       "model_id": "",
       "version_major": 2,
       "version_minor": 0
      },
      "text/plain": [
       "reading pickles:   0%|          | 0/93 [00:00<?, ?it/s]"
      ]
     },
     "metadata": {},
     "output_type": "display_data"
    },
    {
     "name": "stdout",
     "output_type": "stream",
     "text": [
      "B1432\n"
     ]
    },
    {
     "data": {
      "application/vnd.jupyter.widget-view+json": {
       "model_id": "",
       "version_major": 2,
       "version_minor": 0
      },
      "text/plain": [
       "reading pickles:   0%|          | 0/2157 [00:00<?, ?it/s]"
      ]
     },
     "metadata": {},
     "output_type": "display_data"
    },
    {
     "name": "stdout",
     "output_type": "stream",
     "text": [
      "B1170\n"
     ]
    },
    {
     "data": {
      "application/vnd.jupyter.widget-view+json": {
       "model_id": "",
       "version_major": 2,
       "version_minor": 0
      },
      "text/plain": [
       "reading pickles:   0%|          | 0/1281 [00:00<?, ?it/s]"
      ]
     },
     "metadata": {},
     "output_type": "display_data"
    },
    {
     "name": "stdout",
     "output_type": "stream",
     "text": [
      "B1244\n"
     ]
    },
    {
     "data": {
      "application/vnd.jupyter.widget-view+json": {
       "model_id": "",
       "version_major": 2,
       "version_minor": 0
      },
      "text/plain": [
       "reading pickles:   0%|          | 0/141 [00:00<?, ?it/s]"
      ]
     },
     "metadata": {},
     "output_type": "display_data"
    },
    {
     "name": "stdout",
     "output_type": "stream",
     "text": [
      "B1593\n"
     ]
    },
    {
     "data": {
      "application/vnd.jupyter.widget-view+json": {
       "model_id": "",
       "version_major": 2,
       "version_minor": 0
      },
      "text/plain": [
       "reading pickles:   0%|          | 0/7714 [00:00<?, ?it/s]"
      ]
     },
     "metadata": {},
     "output_type": "display_data"
    },
    {
     "name": "stdout",
     "output_type": "stream",
     "text": [
      "B1248\n"
     ]
    },
    {
     "data": {
      "application/vnd.jupyter.widget-view+json": {
       "model_id": "",
       "version_major": 2,
       "version_minor": 0
      },
      "text/plain": [
       "reading pickles:   0%|          | 0/8698 [00:00<?, ?it/s]"
      ]
     },
     "metadata": {},
     "output_type": "display_data"
    },
    {
     "name": "stdout",
     "output_type": "stream",
     "text": [
      "B1279\n"
     ]
    },
    {
     "data": {
      "application/vnd.jupyter.widget-view+json": {
       "model_id": "",
       "version_major": 2,
       "version_minor": 0
      },
      "text/plain": [
       "reading pickles:   0%|          | 0/827 [00:00<?, ?it/s]"
      ]
     },
     "metadata": {},
     "output_type": "display_data"
    },
    {
     "name": "stdout",
     "output_type": "stream",
     "text": [
      "B1500\n"
     ]
    },
    {
     "data": {
      "application/vnd.jupyter.widget-view+json": {
       "model_id": "",
       "version_major": 2,
       "version_minor": 0
      },
      "text/plain": [
       "reading pickles:   0%|          | 0/307 [00:00<?, ?it/s]"
      ]
     },
     "metadata": {},
     "output_type": "display_data"
    },
    {
     "name": "stdout",
     "output_type": "stream",
     "text": [
      "B1239\n"
     ]
    },
    {
     "data": {
      "application/vnd.jupyter.widget-view+json": {
       "model_id": "",
       "version_major": 2,
       "version_minor": 0
      },
      "text/plain": [
       "reading pickles:   0%|          | 0/206 [00:00<?, ?it/s]"
      ]
     },
     "metadata": {},
     "output_type": "display_data"
    },
    {
     "name": "stdout",
     "output_type": "stream",
     "text": [
      "B1459\n"
     ]
    },
    {
     "data": {
      "application/vnd.jupyter.widget-view+json": {
       "model_id": "",
       "version_major": 2,
       "version_minor": 0
      },
      "text/plain": [
       "reading pickles:   0%|          | 0/447 [00:00<?, ?it/s]"
      ]
     },
     "metadata": {},
     "output_type": "display_data"
    }
   ],
   "source": [
    "for bird, timestamp, sorter in tqdm(birds):\n",
    "    print(bird)\n",
    "    spikesorting_folder = DATA_DIR / \"spikesorting\" / bird / timestamp\n",
    "    recording_summary_df = pd.read_pickle(spikesorting_folder / \"recording_df.pickle\")\n",
    "\n",
    "    unit_series_save_loc = (\n",
    "        spikesorting_folder / \"unit_statistics\" / statistics_timestamp / identifier\n",
    "    )\n",
    "    unit_pickles = list(unit_series_save_loc.glob(\"*.pickle\"))\n",
    "    if len(unit_pickles) == 0:\n",
    "        print('\\t no units')\n",
    "        continue\n",
    "    unit_statistics_df = pd.concat(\n",
    "        Parallel(n_jobs=-1, prefer=\"threads\")(\n",
    "            delayed(read_and_unit)(i)\n",
    "            for i in tqdm(unit_pickles, leave=False, desc=\"reading pickles\")\n",
    "        ),\n",
    "        axis=1,\n",
    "    ).T\n",
    "\n",
    "    unit_statistics_df.to_pickle(\n",
    "        DATA_DIR\n",
    "        / \"unit_statistics\"\n",
    "        / statistics_timestamp\n",
    "        / identifier\n",
    "        / \"{}.pickle\".format(bird)\n",
    "    )"
   ]
  },
  {
   "cell_type": "code",
   "execution_count": null,
   "id": "717a97cc",
   "metadata": {
    "ExecuteTime": {
     "end_time": "2021-10-25T00:29:22.407928Z",
     "start_time": "2021-10-25T00:22:04.424Z"
    }
   },
   "outputs": [],
   "source": [
    "unit_series_save_loc"
   ]
  },
  {
   "cell_type": "code",
   "execution_count": null,
   "id": "0b802737",
   "metadata": {},
   "outputs": [],
   "source": []
  },
  {
   "cell_type": "code",
   "execution_count": null,
   "id": "f5be0888",
   "metadata": {},
   "outputs": [],
   "source": []
  }
 ],
 "metadata": {
  "kernelspec": {
   "display_name": "cdcp_paper",
   "language": "python",
   "name": "cdcp_paper"
  },
  "language_info": {
   "codemirror_mode": {
    "name": "ipython",
    "version": 3
   },
   "file_extension": ".py",
   "mimetype": "text/x-python",
   "name": "python",
   "nbconvert_exporter": "python",
   "pygments_lexer": "ipython3",
   "version": "3.9.16"
  }
 },
 "nbformat": 4,
 "nbformat_minor": 5
}
