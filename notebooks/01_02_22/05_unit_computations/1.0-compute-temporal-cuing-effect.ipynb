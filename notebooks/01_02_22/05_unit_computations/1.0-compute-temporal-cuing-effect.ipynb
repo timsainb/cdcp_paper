{
 "cells": [
  {
   "cell_type": "markdown",
   "metadata": {},
   "source": [
    "### contents\n",
    "- For passive trials, vs active trials\n",
    "- For each unit, for each stimuli, for each cue, for each timepoint\n",
    "   - compute the average difference in spikerate within cue, versus between cue"
   ]
  },
  {
   "cell_type": "code",
   "execution_count": 1,
   "metadata": {
    "ExecuteTime": {
     "end_time": "2021-11-10T19:17:02.370035Z",
     "start_time": "2021-11-10T19:17:02.354166Z"
    }
   },
   "outputs": [],
   "source": [
    "%load_ext autoreload\n",
    "%autoreload 2"
   ]
  },
  {
   "cell_type": "code",
   "execution_count": 2,
   "metadata": {
    "ExecuteTime": {
     "end_time": "2021-11-10T19:17:02.384523Z",
     "start_time": "2021-11-10T19:17:02.371837Z"
    }
   },
   "outputs": [
    {
     "data": {
      "text/plain": [
       "1"
      ]
     },
     "execution_count": 2,
     "metadata": {},
     "output_type": "execute_result"
    }
   ],
   "source": [
    "import os\n",
    "# set to be lower priority\n",
    "os.nice(1) "
   ]
  },
  {
   "cell_type": "code",
   "execution_count": 3,
   "metadata": {
    "ExecuteTime": {
     "end_time": "2021-11-10T19:17:03.205244Z",
     "start_time": "2021-11-10T19:17:02.386117Z"
    }
   },
   "outputs": [
    {
     "name": "stderr",
     "output_type": "stream",
     "text": [
      "/mnt/cube/tsainbur/conda_envs/cdcp_paper_cube/lib/python3.7/site-packages/ipykernel_launcher.py:7: TqdmExperimentalWarning: Using `tqdm.autonotebook.tqdm` in notebook mode. Use `tqdm.tqdm` instead to force console mode (e.g. in jupyter console)\n",
      "  import sys\n"
     ]
    }
   ],
   "source": [
    "import pandas  as pd\n",
    "from cdcp.paths import DATA_DIR, ensure_dir\n",
    "import numpy as np\n",
    "import matplotlib.pyplot as plt\n",
    "import datetime\n",
    "from pathlib2 import Path\n",
    "from tqdm.autonotebook import tqdm\n",
    "pd.set_option('display.max_columns', 500)\n",
    "from joblib import Parallel, delayed"
   ]
  },
  {
   "cell_type": "code",
   "execution_count": 4,
   "metadata": {
    "ExecuteTime": {
     "end_time": "2021-11-10T19:17:03.219009Z",
     "start_time": "2021-11-10T19:17:03.207062Z"
    }
   },
   "outputs": [],
   "source": [
    "from datetime import datetime"
   ]
  },
  {
   "cell_type": "code",
   "execution_count": 5,
   "metadata": {
    "ExecuteTime": {
     "end_time": "2021-11-10T19:17:05.125189Z",
     "start_time": "2021-11-10T19:17:03.220114Z"
    }
   },
   "outputs": [],
   "source": [
    "from cdcp.spiketrain_analysis.unit_statistics import get_unit_spike_trains"
   ]
  },
  {
   "cell_type": "code",
   "execution_count": 6,
   "metadata": {
    "ExecuteTime": {
     "end_time": "2021-11-10T19:17:05.151310Z",
     "start_time": "2021-11-10T19:17:05.126756Z"
    }
   },
   "outputs": [],
   "source": [
    "from cdcp.spiketrain_analysis.unit_stats.response_similarity_differences_rel_shuff import (\n",
    "    compute_cued_sm_differences\n",
    ")"
   ]
  },
  {
   "cell_type": "code",
   "execution_count": 7,
   "metadata": {
    "ExecuteTime": {
     "end_time": "2021-11-10T19:17:05.174980Z",
     "start_time": "2021-11-10T19:17:05.153410Z"
    }
   },
   "outputs": [
    {
     "data": {
      "text/plain": [
       "'2021-10-23_23-02-31_846685'"
      ]
     },
     "execution_count": 7,
     "metadata": {},
     "output_type": "execute_result"
    }
   ],
   "source": [
    "# \"2021-10-07_16-05-58_796914\" '2021-10-06_13-30-08_899062' '2021-10-01_17-02-56_744915' \n",
    "statistics_timestamp = '2021-10-23_23-02-31_846685'# datetime.now().strftime(\"%Y-%m-%d_%H-%M-%S_%f\")#\n",
    "statistics_timestamp"
   ]
  },
  {
   "cell_type": "code",
   "execution_count": 8,
   "metadata": {
    "ExecuteTime": {
     "end_time": "2021-11-10T19:17:05.193750Z",
     "start_time": "2021-11-10T19:17:05.176816Z"
    }
   },
   "outputs": [],
   "source": [
    "birds = [\n",
    "    ('B1597', '2021-05-14_12-40-20_423998', 'kilosort2_5'),\n",
    "    ('B1188', '2021-05-31_18-52-29_558216', 'kilosort2_5'),\n",
    "    ('B1595', '2021-07-10_16-42-47_090257', 'kilosort2'),\n",
    "    ('B1276', '2021-07-14_11-14-02_257025', 'kilosort2'),\n",
    "    ('B1426', '2021-07-14_11-29-39_657273', 'kilosort2'),\n",
    "    ('B1432', '2021-06-01_15-14-38_561892', 'kilosort2_5'),\n",
    "    ('B1170', '2021-06-01_21-01-26_519005', 'kilosort2_5'),\n",
    "    ('B1244', '2021-07-14_12-57-45_546674', 'kilosort2'),\n",
    "    ('B1593', '2021-06-28_18-13-24_826008', 'kilosort2_5'),\n",
    "    ('B1248', '2021-07-03_18-08-01_063431', 'kilosort2_5'),\n",
    "    # acute\n",
    "    #('B1279', '2021-04-12_16-27-07_289527', 'kilosort2_5'),\n",
    "    #('B1500', '2021-08-27_09-24-48_680961', 'kilosort2_5'),\n",
    "    #('B1239', '2021-05-17_22-18-51_557635', 'kilosort2'),\n",
    "    #('B1459', '2021-08-26_21-21-12_755614', 'kilosort2_5'),\n",
    "]"
   ]
  },
  {
   "cell_type": "code",
   "execution_count": 9,
   "metadata": {
    "ExecuteTime": {
     "end_time": "2021-11-10T19:17:05.211346Z",
     "start_time": "2021-11-10T19:17:05.195269Z"
    }
   },
   "outputs": [],
   "source": [
    "min_playbacks = 1000"
   ]
  },
  {
   "cell_type": "markdown",
   "metadata": {},
   "source": [
    "### Compute spike vectors and statistics"
   ]
  },
  {
   "cell_type": "code",
   "execution_count": 10,
   "metadata": {
    "ExecuteTime": {
     "end_time": "2021-11-10T19:17:05.230696Z",
     "start_time": "2021-11-10T19:17:05.212565Z"
    }
   },
   "outputs": [],
   "source": [
    "identifier = \"temporal_cuing_25ms\""
   ]
  },
  {
   "cell_type": "code",
   "execution_count": 11,
   "metadata": {
    "ExecuteTime": {
     "end_time": "2021-11-10T19:17:05.265416Z",
     "start_time": "2021-11-10T19:17:05.231894Z"
    }
   },
   "outputs": [],
   "source": [
    "from cdcp.spiketrain_analysis.spiketrain_utils import (\n",
    "    bin_interp_points,\n",
    ")\n",
    "\n",
    "\n",
    "def create_cue_count_df(trial_aligned_spikes, cues=[\"CL1\", \"CL0\", \"NC\", \"CR0\", \"CR1\"]):\n",
    "\n",
    "    cues = [i for i in trial_aligned_spikes.cue.unique() if i in cues]\n",
    "\n",
    "    stim_cue_count_df = trial_aligned_spikes[[\"cue\", \"interp\", \"interp_point_binned\"]]\n",
    "    stim_cue_count_df[\"stim\"] = [\n",
    "        i + \"_\" + str(j)\n",
    "        for i, j in zip(stim_cue_count_df.interp, stim_cue_count_df.interp_point_binned)\n",
    "    ]\n",
    "    stim_cue_count_df = stim_cue_count_df[[\"stim\", \"cue\"]]\n",
    "    cue_count_df = (\n",
    "        pd.DataFrame(stim_cue_count_df[[\"stim\", \"cue\"]].value_counts())\n",
    "        .reset_index()\n",
    "        .pivot(index=\"stim\", columns=[\"cue\"], values=[0])\n",
    "    )\n",
    "    cue_count_df = cue_count_df.droplevel(0, axis=1)\n",
    "    cue_count_df = cue_count_df[cues]\n",
    "    cue_count_df[\"min_val\"] = [\n",
    "        np.nanmin(row.values) for idx, row in cue_count_df.iterrows()\n",
    "    ]\n",
    "    cue_count_df[\"good_interps\"] = [\n",
    "        np.sum(np.isnan(row.values) == False) for idx, row in cue_count_df.iterrows()\n",
    "    ]\n",
    "    cue_count_df = cue_count_df.sort_values(\n",
    "        by=[\"good_interps\", \"min_val\"], ascending=False\n",
    "    )\n",
    "    return cue_count_df\n",
    "\n",
    "\n",
    "def compute_temporal_cuing(\n",
    "    trial_aligned_spikes,\n",
    "    flip_bins=True,\n",
    "    n_time_bins=100,\n",
    "    n_interp_point_bins=16,\n",
    "    nex=20,\n",
    "    mode=\"constant\",\n",
    "):\n",
    "    passive_active = [\"passive\", \"active\"]\n",
    "    if np.mean(trial_aligned_spikes.passive == False) == 1:\n",
    "        return pd.Series()\n",
    "\n",
    "    # ensure interp point is an integer\n",
    "    trial_aligned_spikes[\"interp_point_binned\"] = bin_interp_points(\n",
    "        trial_aligned_spikes[\"interp_point\"].values.astype(int),\n",
    "        n_interp_point_bins,\n",
    "        flip_bins=True,\n",
    "    )\n",
    "\n",
    "    # get passive and active seperately\n",
    "    passive_trial_aligned_spikes = trial_aligned_spikes[trial_aligned_spikes.passive]\n",
    "    active_trial_aligned_spikes = trial_aligned_spikes[\n",
    "        trial_aligned_spikes.passive == False\n",
    "    ]\n",
    "    # only get trials with a decision\n",
    "    active_trial_aligned_spikes = active_trial_aligned_spikes[\n",
    "        active_trial_aligned_spikes.response.isin([\"left\", \"right\"])\n",
    "    ]\n",
    "    # create a dataframe of counts for each stimuli & cue of how many occurances\n",
    "    passive_cue_count_df = create_cue_count_df(passive_trial_aligned_spikes)\n",
    "    active_cue_count_df = create_cue_count_df(active_trial_aligned_spikes)\n",
    "    cue_count_df = passive_cue_count_df.merge(\n",
    "        active_cue_count_df, on=\"stim\", suffixes=[\"_passive\", \"_active\"]\n",
    "    )\n",
    "\n",
    "    # sort by the minimum number of interpolation types for each cue, passive and active\n",
    "    cue_count_df[\"all_good_interps\"] = [\n",
    "        np.min([row.good_interps_passive, row.good_interps_active])\n",
    "        for idx, row in cue_count_df.iterrows()\n",
    "    ]\n",
    "    cue_count_df[\"min_count_all\"] = [\n",
    "        np.min([row.min_val_passive, row.min_val_active])\n",
    "        for idx, row in cue_count_df.iterrows()\n",
    "    ]\n",
    "    cue_count_df = cue_count_df.sort_values(\n",
    "        by=[\"all_good_interps\", \"min_count_all\"], ascending=False\n",
    "    )\n",
    "\n",
    "    # for each stimuli (sorted by data amount, up to nex samples for this unitt)\n",
    "    diff_all = []\n",
    "    if nex == -1:\n",
    "        nex = len(cue_count_df)\n",
    "    for axi, (idx, row) in enumerate(\n",
    "        tqdm(cue_count_df[:nex].iterrows(), total=nex, desc=\"stims\", leave=False)\n",
    "    ):\n",
    "        interp, ip = row.name.split(\"_\")\n",
    "        if row.all_good_interps < 2:\n",
    "            continue\n",
    "\n",
    "        # for both passive and active trials\n",
    "        for ti, trial_aligned_spikes in enumerate(\n",
    "            [passive_trial_aligned_spikes, active_trial_aligned_spikes]\n",
    "        ):\n",
    "            # grab the relevant data\n",
    "            trial_df = trial_aligned_spikes[\n",
    "                (trial_aligned_spikes.interp == interp)\n",
    "                & (trial_aligned_spikes.interp_point_binned == int(ip))\n",
    "            ]\n",
    "            trial_df = trial_df[trial_df.cue.isin([\"CL0\", \"CR0\", \"CL1\", \"CR1\"])]\n",
    "            if len(trial_df) == 0:\n",
    "                continue\n",
    "            trial_df[\"cue_randomized\"] = np.random.permutation(trial_df.cue.values)\n",
    "            sts = np.stack(trial_df.spike_vectors.values).astype(float)\n",
    "            # for each cue type\n",
    "            for cue in trial_df.cue.unique():\n",
    "                # create a vector of average differences within and between\n",
    "                within = np.zeros(sts.shape[1])\n",
    "                between = np.zeros(sts.shape[1])\n",
    "                within_permuted = np.zeros(sts.shape[1])\n",
    "                between_permuted = np.zeros(sts.shape[1])\n",
    "                # non-absolute differences\n",
    "                within_rel = np.zeros(sts.shape[1])\n",
    "                between_rel = np.zeros(sts.shape[1])\n",
    "                within_rel_permuted = np.zeros(sts.shape[1])\n",
    "                between_rel_permuted = np.zeros(sts.shape[1])\n",
    "                for timepoint in range(sts.shape[1]):\n",
    "                    sr_within_cue_timepoint = sts[trial_df.cue == cue, timepoint]\n",
    "                    sr_other_cue_timepoint = sts[trial_df.cue != cue, timepoint]\n",
    "\n",
    "                    sr_within_cue_timepoint_permuted = sts[\n",
    "                        trial_df.cue_randomized == cue, timepoint\n",
    "                    ]\n",
    "                    sr_other_cue_timepoint_permuted = sts[\n",
    "                        trial_df.cue_randomized != cue, timepoint\n",
    "                    ]\n",
    "\n",
    "                    # true differences\n",
    "                    b_diff = np.expand_dims(\n",
    "                        sr_within_cue_timepoint, 0\n",
    "                    ) - np.expand_dims(sr_other_cue_timepoint, 1)\n",
    "                    b = np.mean(np.abs(b_diff))\n",
    "                    b_nabs = np.mean(b_diff)\n",
    "\n",
    "                    w_diff = np.expand_dims(\n",
    "                        sr_within_cue_timepoint, 0\n",
    "                    ) - np.expand_dims(sr_within_cue_timepoint, 1)\n",
    "                    w = np.mean(np.abs(w_diff)[np.tril_indices(len(w_diff), k=-1)])\n",
    "                    w_nabs = np.mean(w_diff[np.tril_indices(len(w_diff), k=-1)])\n",
    "\n",
    "                    within[timepoint] = w\n",
    "                    between[timepoint] = b\n",
    "                    within_rel[timepoint] = w_nabs\n",
    "                    between_rel[timepoint] = b_nabs\n",
    "\n",
    "                    # randomized\n",
    "                    b_diff = np.expand_dims(\n",
    "                        sr_within_cue_timepoint_permuted, 0\n",
    "                    ) - np.expand_dims(sr_other_cue_timepoint_permuted, 1)\n",
    "                    b_permuted = np.mean(np.abs(b_diff))\n",
    "                    b_nabs_permuted = np.mean(b_diff)\n",
    "\n",
    "                    w_diff = np.expand_dims(\n",
    "                        sr_within_cue_timepoint_permuted, 0\n",
    "                    ) - np.expand_dims(sr_within_cue_timepoint_permuted, 1)\n",
    "                    w_permuted = np.mean(np.abs(w_diff)[np.tril_indices(len(w_diff), k=-1)])\n",
    "                    w_nabs_permuted = np.mean(w_diff[np.tril_indices(len(w_diff), k=-1)])\n",
    "\n",
    "                    within_permuted[timepoint] = w_permuted\n",
    "                    between_permuted[timepoint] = b_permuted\n",
    "                    within_rel_permuted[timepoint] = w_nabs_permuted\n",
    "                    between_rel_permuted[timepoint] = b_nabs_permuted\n",
    "\n",
    "                diff_all.append(\n",
    "                    [\n",
    "                        # unit,\n",
    "                        # bird,\n",
    "                        interp,\n",
    "                        ip,\n",
    "                        passive_active[ti],\n",
    "                        cue,\n",
    "                        within,\n",
    "                        between,\n",
    "                        within_permuted,\n",
    "                        between_permuted,\n",
    "                        within_rel,\n",
    "                        between_rel,\n",
    "                        within_rel_permuted,\n",
    "                        between_rel_permuted,\n",
    "                        np.sum(trial_df.cue == cue)\n",
    "                        \n",
    "                    ]\n",
    "                )\n",
    "    if len(diff_all) == 0:\n",
    "        return\n",
    "    diff_all_df = pd.DataFrame(diff_all)\n",
    "    diff_all_df.columns = [\n",
    "        # \"unit\",\n",
    "        # \"bird\",\n",
    "        \"interp\",\n",
    "        \"ip\",\n",
    "        \"passive\",\n",
    "        \"cue\",\n",
    "        \"within\",\n",
    "        \"between\",\n",
    "        \"within_permuted\",\n",
    "        \"between_permuted\",\n",
    "        \"within_rel\",\n",
    "        \"between_rel\",\n",
    "        \"within_rel_permuted\",\n",
    "        \"between_rel_permuted\",\n",
    "        nex,\n",
    "    ]\n",
    "    return diff_all_df"
   ]
  },
  {
   "cell_type": "code",
   "execution_count": 12,
   "metadata": {
    "ExecuteTime": {
     "end_time": "2021-11-10T19:17:05.287187Z",
     "start_time": "2021-11-10T19:17:05.266608Z"
    }
   },
   "outputs": [],
   "source": [
    "def get_unit_statistic(\n",
    "    unit_to_analyze,\n",
    "    spikesorting_folder,\n",
    "    statistics_timestamp,\n",
    "    identifier=identifier,\n",
    "    recompute=False,\n",
    "    parallel=True,\n",
    "    nex = -1,\n",
    "    n_interp_point_bins=16,\n",
    "    n_time_bins=100,\n",
    "    include_passive=True,\n",
    "    flip_bins=True,\n",
    "    save=True,\n",
    "    passive=False, \n",
    "    plot=False,\n",
    "    exclude_non_responses=True,\n",
    "    equal_sizes=False\n",
    "):\n",
    "    def run():\n",
    "\n",
    "        unit_series_save_loc = (\n",
    "            spikesorting_folder\n",
    "            / \"unit_statistics\"\n",
    "            / statistics_timestamp\n",
    "            / identifier\n",
    "            / \"{}.pickle\".format(unit_to_analyze.cluster_id)\n",
    "        )\n",
    "\n",
    "        # check if we need to run everything\n",
    "        if unit_series_save_loc.exists() and (recompute is False):\n",
    "            print(\"neurometric already exists\")\n",
    "            return\n",
    "\n",
    "        # make sure folder exists\n",
    "        ensure_dir(unit_series_save_loc)\n",
    "\n",
    "        unit_series_list = []\n",
    "        # load spike trains\n",
    "        trial_aligned_spikes = get_unit_spike_trains(\n",
    "            unit_to_analyze.sort_units, spikesorting_folder, sorter, unit_to_analyze\n",
    "        )\n",
    "        if trial_aligned_spikes is None:\n",
    "            #breakme\n",
    "            # because there are not enough spikes for this unit to be worth it\n",
    "            print(\"no trial_aligned_spikes\") \n",
    "            return\n",
    "\n",
    "        # load spike train vectors\n",
    "        spiketrain_vector_loc = (\n",
    "            spikesorting_folder\n",
    "            / \"unit_statistics\"\n",
    "            / statistics_timestamp\n",
    "            / \"response_vector_25ms_{}\".format(n_time_bins)\n",
    "            / \"{}.npy\".format(unit_to_analyze.cluster_id)\n",
    "        )\n",
    "        if spiketrain_vector_loc.exists() == False:\n",
    "            print(\"no spiketrains\")\n",
    "            return\n",
    "\n",
    "        trial_aligned_spikes[\"spike_vectors\"] = list(np.load(spiketrain_vector_loc))\n",
    "        \n",
    "        # how self-similar the unit's activity remains over time\n",
    "        statistic_series = compute_temporal_cuing(\n",
    "            trial_aligned_spikes,\n",
    "            flip_bins=flip_bins,\n",
    "            n_time_bins=n_time_bins,\n",
    "            n_interp_point_bins=n_interp_point_bins,\n",
    "            nex=nex,\n",
    "            mode=\"constant\",\n",
    "        )\n",
    "        if statistic_series is not None:\n",
    "            unit_series_list.append(statistic_series)\n",
    "\n",
    "        # skip if no data is available\n",
    "        if len(unit_series_list) == 0:\n",
    "            return\n",
    "\n",
    "        # save final row\n",
    "        unit_series = pd.concat(unit_series_list)\n",
    "\n",
    "        if save:\n",
    "            unit_series.to_pickle(unit_series_save_loc)\n",
    "        \n",
    "        return unit_series\n",
    "\n",
    "    if parallel == False:\n",
    "        run()\n",
    "    else:\n",
    "        try:\n",
    "            run()\n",
    "        except Exception as e:\n",
    "            with open(\"error_log.txt\", \"w\") as text_file:\n",
    "                text_file.write(str(e))\n",
    "            raise ValueError(unit_to_analyze.cluster_id)"
   ]
  },
  {
   "cell_type": "code",
   "execution_count": 13,
   "metadata": {
    "ExecuteTime": {
     "end_time": "2021-11-10T23:08:04.411005Z",
     "start_time": "2021-11-10T19:17:05.288295Z"
    },
    "scrolled": true
   },
   "outputs": [
    {
     "data": {
      "application/vnd.jupyter.widget-view+json": {
       "model_id": "1bab0a170c7440a8bffedd135ad70832",
       "version_major": 2,
       "version_minor": 0
      },
      "text/plain": [
       "  0%|          | 0/10 [00:00<?, ?it/s]"
      ]
     },
     "metadata": {},
     "output_type": "display_data"
    },
    {
     "data": {
      "image/png": "[encoded data removed]",
      "text/plain": [
       "<Figure size 720x144 with 2 Axes>"
      ]
     },
     "metadata": {
      "needs_background": "light"
     },
     "output_type": "display_data"
    },
    {
     "name": "stdout",
     "output_type": "stream",
     "text": [
      "B1597 total # merged units: 8711\n"
     ]
    },
    {
     "data": {
      "application/vnd.jupyter.widget-view+json": {
       "model_id": "649f5cdee30148f6a2372b2bd4e78b9a",
       "version_major": 2,
       "version_minor": 0
      },
      "text/plain": [
       "unit:   0%|          | 0/8711 [00:00<?, ?it/s]"
      ]
     },
     "metadata": {},
     "output_type": "display_data"
    },
    {
     "name": "stderr",
     "output_type": "stream",
     "text": [
      "[Parallel(n_jobs=28)]: Using backend LokyBackend with 28 concurrent workers.\n",
      "[Parallel(n_jobs=28)]: Done   5 tasks      | elapsed:   56.0s\n",
      "[Parallel(n_jobs=28)]: Done  16 tasks      | elapsed:  1.2min\n",
      "[Parallel(n_jobs=28)]: Done  29 tasks      | elapsed:  1.5min\n",
      "[Parallel(n_jobs=28)]: Done  42 tasks      | elapsed:  2.0min\n",
      "[Parallel(n_jobs=28)]: Done  57 tasks      | elapsed:  2.2min\n",
      "[Parallel(n_jobs=28)]: Done  72 tasks      | elapsed:  2.7min\n",
      "[Parallel(n_jobs=28)]: Done  89 tasks      | elapsed:  3.0min\n",
      "[Parallel(n_jobs=28)]: Done 106 tasks      | elapsed:  3.3min\n",
      "[Parallel(n_jobs=28)]: Done 125 tasks      | elapsed:  3.6min\n",
      "[Parallel(n_jobs=28)]: Done 144 tasks      | elapsed:  4.1min\n",
      "[Parallel(n_jobs=28)]: Done 165 tasks      | elapsed:  4.4min\n",
      "[Parallel(n_jobs=28)]: Done 186 tasks      | elapsed:  5.1min\n",
      "[Parallel(n_jobs=28)]: Done 209 tasks      | elapsed:  5.2min\n",
      "[Parallel(n_jobs=28)]: Done 232 tasks      | elapsed:  5.6min\n",
      "[Parallel(n_jobs=28)]: Done 257 tasks      | elapsed:  6.0min\n",
      "[Parallel(n_jobs=28)]: Done 282 tasks      | elapsed:  6.2min\n",
      "[Parallel(n_jobs=28)]: Done 309 tasks      | elapsed:  6.6min\n",
      "[Parallel(n_jobs=28)]: Done 336 tasks      | elapsed:  7.1min\n",
      "[Parallel(n_jobs=28)]: Done 365 tasks      | elapsed:  7.6min\n",
      "[Parallel(n_jobs=28)]: Done 394 tasks      | elapsed:  8.1min\n",
      "[Parallel(n_jobs=28)]: Done 425 tasks      | elapsed:  8.6min\n",
      "[Parallel(n_jobs=28)]: Done 456 tasks      | elapsed:  9.1min\n",
      "[Parallel(n_jobs=28)]: Done 489 tasks      | elapsed:  9.6min\n",
      "[Parallel(n_jobs=28)]: Done 522 tasks      | elapsed: 10.2min\n",
      "[Parallel(n_jobs=28)]: Done 557 tasks      | elapsed: 10.5min\n",
      "[Parallel(n_jobs=28)]: Done 592 tasks      | elapsed: 11.1min\n",
      "[Parallel(n_jobs=28)]: Done 629 tasks      | elapsed: 11.6min\n",
      "[Parallel(n_jobs=28)]: Done 666 tasks      | elapsed: 12.0min\n",
      "[Parallel(n_jobs=28)]: Done 705 tasks      | elapsed: 12.7min\n",
      "[Parallel(n_jobs=28)]: Done 744 tasks      | elapsed: 13.3min\n",
      "[Parallel(n_jobs=28)]: Done 785 tasks      | elapsed: 13.8min\n",
      "[Parallel(n_jobs=28)]: Done 826 tasks      | elapsed: 14.3min\n",
      "[Parallel(n_jobs=28)]: Done 869 tasks      | elapsed: 14.7min\n",
      "[Parallel(n_jobs=28)]: Done 912 tasks      | elapsed: 15.1min\n",
      "[Parallel(n_jobs=28)]: Done 957 tasks      | elapsed: 15.5min\n",
      "[Parallel(n_jobs=28)]: Done 1002 tasks      | elapsed: 16.2min\n",
      "[Parallel(n_jobs=28)]: Done 1049 tasks      | elapsed: 16.9min\n",
      "[Parallel(n_jobs=28)]: Done 1096 tasks      | elapsed: 17.4min\n",
      "[Parallel(n_jobs=28)]: Done 1145 tasks      | elapsed: 17.9min\n",
      "[Parallel(n_jobs=28)]: Done 1194 tasks      | elapsed: 18.5min\n",
      "[Parallel(n_jobs=28)]: Done 1245 tasks      | elapsed: 19.0min\n",
      "[Parallel(n_jobs=28)]: Done 1296 tasks      | elapsed: 19.7min\n",
      "[Parallel(n_jobs=28)]: Done 1349 tasks      | elapsed: 21.2min\n",
      "[Parallel(n_jobs=28)]: Done 1402 tasks      | elapsed: 22.6min\n",
      "[Parallel(n_jobs=28)]: Done 1457 tasks      | elapsed: 23.4min\n",
      "[Parallel(n_jobs=28)]: Done 1512 tasks      | elapsed: 24.0min\n",
      "[Parallel(n_jobs=28)]: Done 1569 tasks      | elapsed: 24.6min\n",
      "[Parallel(n_jobs=28)]: Done 1626 tasks      | elapsed: 25.2min\n",
      "[Parallel(n_jobs=28)]: Done 1685 tasks      | elapsed: 25.8min\n",
      "[Parallel(n_jobs=28)]: Done 1744 tasks      | elapsed: 26.3min\n",
      "[Parallel(n_jobs=28)]: Done 1805 tasks      | elapsed: 27.0min\n",
      "[Parallel(n_jobs=28)]: Done 1866 tasks      | elapsed: 27.7min\n",
      "[Parallel(n_jobs=28)]: Done 1929 tasks      | elapsed: 28.3min\n",
      "[Parallel(n_jobs=28)]: Done 1992 tasks      | elapsed: 28.9min\n",
      "[Parallel(n_jobs=28)]: Done 2057 tasks      | elapsed: 29.8min\n",
      "[Parallel(n_jobs=28)]: Done 2122 tasks      | elapsed: 30.6min\n",
      "[Parallel(n_jobs=28)]: Done 2189 tasks      | elapsed: 31.6min\n",
      "[Parallel(n_jobs=28)]: Done 2256 tasks      | elapsed: 32.4min\n",
      "[Parallel(n_jobs=28)]: Done 2325 tasks      | elapsed: 33.5min\n",
      "[Parallel(n_jobs=28)]: Done 2394 tasks      | elapsed: 34.5min\n",
      "[Parallel(n_jobs=28)]: Done 2465 tasks      | elapsed: 35.4min\n",
      "[Parallel(n_jobs=28)]: Done 2536 tasks      | elapsed: 36.5min\n",
      "[Parallel(n_jobs=28)]: Done 2609 tasks      | elapsed: 37.7min\n",
      "[Parallel(n_jobs=28)]: Done 2682 tasks      | elapsed: 38.7min\n",
      "[Parallel(n_jobs=28)]: Done 2757 tasks      | elapsed: 39.5min\n",
      "[Parallel(n_jobs=28)]: Done 2832 tasks      | elapsed: 40.3min\n",
      "[Parallel(n_jobs=28)]: Done 2909 tasks      | elapsed: 41.1min\n",
      "[Parallel(n_jobs=28)]: Done 2986 tasks      | elapsed: 42.0min\n",
      "[Parallel(n_jobs=28)]: Done 3065 tasks      | elapsed: 43.0min\n",
      "[Parallel(n_jobs=28)]: Done 3144 tasks      | elapsed: 43.9min\n",
      "[Parallel(n_jobs=28)]: Done 3225 tasks      | elapsed: 44.8min\n",
      "[Parallel(n_jobs=28)]: Done 3306 tasks      | elapsed: 45.5min\n",
      "[Parallel(n_jobs=28)]: Done 3389 tasks      | elapsed: 46.1min\n",
      "[Parallel(n_jobs=28)]: Done 3472 tasks      | elapsed: 47.0min\n",
      "[Parallel(n_jobs=28)]: Done 3557 tasks      | elapsed: 47.8min\n",
      "[Parallel(n_jobs=28)]: Done 3642 tasks      | elapsed: 48.6min\n",
      "[Parallel(n_jobs=28)]: Done 3729 tasks      | elapsed: 49.2min\n",
      "[Parallel(n_jobs=28)]: Done 3816 tasks      | elapsed: 50.3min\n",
      "[Parallel(n_jobs=28)]: Done 3905 tasks      | elapsed: 51.4min\n",
      "[Parallel(n_jobs=28)]: Done 3994 tasks      | elapsed: 52.5min\n",
      "[Parallel(n_jobs=28)]: Done 4085 tasks      | elapsed: 52.7min\n",
      "[Parallel(n_jobs=28)]: Done 4176 tasks      | elapsed: 52.8min\n",
      "[Parallel(n_jobs=28)]: Done 4269 tasks      | elapsed: 52.8min\n",
      "[Parallel(n_jobs=28)]: Done 4362 tasks      | elapsed: 52.9min\n",
      "[Parallel(n_jobs=28)]: Done 4457 tasks      | elapsed: 52.9min\n",
      "[Parallel(n_jobs=28)]: Done 4552 tasks      | elapsed: 53.3min\n",
      "[Parallel(n_jobs=28)]: Done 4649 tasks      | elapsed: 53.6min\n",
      "[Parallel(n_jobs=28)]: Done 4746 tasks      | elapsed: 54.1min\n",
      "[Parallel(n_jobs=28)]: Done 4845 tasks      | elapsed: 54.8min\n",
      "[Parallel(n_jobs=28)]: Done 4944 tasks      | elapsed: 55.4min\n",
      "[Parallel(n_jobs=28)]: Done 5045 tasks      | elapsed: 56.3min\n",
      "[Parallel(n_jobs=28)]: Done 5146 tasks      | elapsed: 57.2min\n",
      "[Parallel(n_jobs=28)]: Done 5249 tasks      | elapsed: 57.9min\n",
      "[Parallel(n_jobs=28)]: Done 5352 tasks      | elapsed: 58.6min\n",
      "[Parallel(n_jobs=28)]: Done 5457 tasks      | elapsed: 59.2min\n",
      "[Parallel(n_jobs=28)]: Done 5562 tasks      | elapsed: 59.4min\n",
      "[Parallel(n_jobs=28)]: Done 5669 tasks      | elapsed: 59.9min\n",
      "[Parallel(n_jobs=28)]: Done 5776 tasks      | elapsed: 60.4min\n",
      "[Parallel(n_jobs=28)]: Done 5885 tasks      | elapsed: 61.1min\n",
      "[Parallel(n_jobs=28)]: Done 5994 tasks      | elapsed: 61.5min\n",
      "[Parallel(n_jobs=28)]: Done 6105 tasks      | elapsed: 61.8min\n",
      "[Parallel(n_jobs=28)]: Done 6216 tasks      | elapsed: 62.4min\n",
      "[Parallel(n_jobs=28)]: Done 6329 tasks      | elapsed: 63.0min\n",
      "[Parallel(n_jobs=28)]: Done 6442 tasks      | elapsed: 63.1min\n",
      "[Parallel(n_jobs=28)]: Done 6557 tasks      | elapsed: 63.4min\n",
      "[Parallel(n_jobs=28)]: Done 6672 tasks      | elapsed: 64.6min\n",
      "[Parallel(n_jobs=28)]: Done 6789 tasks      | elapsed: 65.6min\n",
      "[Parallel(n_jobs=28)]: Done 6906 tasks      | elapsed: 66.1min\n",
      "[Parallel(n_jobs=28)]: Done 7025 tasks      | elapsed: 67.0min\n",
      "[Parallel(n_jobs=28)]: Done 7144 tasks      | elapsed: 68.2min\n",
      "[Parallel(n_jobs=28)]: Done 7265 tasks      | elapsed: 69.3min\n",
      "[Parallel(n_jobs=28)]: Done 7386 tasks      | elapsed: 70.4min\n",
      "[Parallel(n_jobs=28)]: Done 7509 tasks      | elapsed: 70.5min\n",
      "[Parallel(n_jobs=28)]: Done 7632 tasks      | elapsed: 70.5min\n",
      "[Parallel(n_jobs=28)]: Done 7757 tasks      | elapsed: 70.5min\n",
      "[Parallel(n_jobs=28)]: Done 7882 tasks      | elapsed: 70.5min\n",
      "[Parallel(n_jobs=28)]: Done 8009 tasks      | elapsed: 70.5min\n",
      "[Parallel(n_jobs=28)]: Done 8136 tasks      | elapsed: 70.6min\n",
      "[Parallel(n_jobs=28)]: Done 8265 tasks      | elapsed: 70.6min\n",
      "[Parallel(n_jobs=28)]: Done 8394 tasks      | elapsed: 70.6min\n",
      "[Parallel(n_jobs=28)]: Done 8525 tasks      | elapsed: 70.6min\n",
      "[Parallel(n_jobs=28)]: Done 8656 tasks      | elapsed: 70.6min\n",
      "[Parallel(n_jobs=28)]: Done 8711 out of 8711 | elapsed: 70.7min finished\n"
     ]
    },
    {
     "data": {
      "image/png": "[encoded data removed]",
      "text/plain": [
       "<Figure size 720x144 with 2 Axes>"
      ]
     },
     "metadata": {
      "needs_background": "light"
     },
     "output_type": "display_data"
    },
    {
     "name": "stdout",
     "output_type": "stream",
     "text": [
      "B1188 total # merged units: 821\n"
     ]
    },
    {
     "data": {
      "application/vnd.jupyter.widget-view+json": {
       "model_id": "ed787661e7f941f4be26515657211c0b",
       "version_major": 2,
       "version_minor": 0
      },
      "text/plain": [
       "unit:   0%|          | 0/821 [00:00<?, ?it/s]"
      ]
     },
     "metadata": {},
     "output_type": "display_data"
    },
    {
     "name": "stderr",
     "output_type": "stream",
     "text": [
      "[Parallel(n_jobs=28)]: Using backend LokyBackend with 28 concurrent workers.\n",
      "[Parallel(n_jobs=28)]: Done   5 tasks      | elapsed:    0.5s\n",
      "[Parallel(n_jobs=28)]: Done  16 tasks      | elapsed:    1.3s\n",
      "[Parallel(n_jobs=28)]: Done  29 tasks      | elapsed:   25.2s\n",
      "[Parallel(n_jobs=28)]: Done  42 tasks      | elapsed:   28.9s\n",
      "[Parallel(n_jobs=28)]: Done  57 tasks      | elapsed:   30.5s\n",
      "[Parallel(n_jobs=28)]: Done  72 tasks      | elapsed:   48.9s\n",
      "[Parallel(n_jobs=28)]: Done  89 tasks      | elapsed:   53.5s\n",
      "[Parallel(n_jobs=28)]: Done 106 tasks      | elapsed:   54.0s\n",
      "[Parallel(n_jobs=28)]: Done 125 tasks      | elapsed:   55.4s\n",
      "[Parallel(n_jobs=28)]: Done 144 tasks      | elapsed:   56.5s\n",
      "[Parallel(n_jobs=28)]: Done 165 tasks      | elapsed:  1.2min\n",
      "[Parallel(n_jobs=28)]: Done 186 tasks      | elapsed:  1.3min\n",
      "[Parallel(n_jobs=28)]: Done 209 tasks      | elapsed:  1.3min\n",
      "[Parallel(n_jobs=28)]: Done 232 tasks      | elapsed:  1.6min\n",
      "[Parallel(n_jobs=28)]: Done 257 tasks      | elapsed:  1.7min\n",
      "[Parallel(n_jobs=28)]: Done 282 tasks      | elapsed:  1.8min\n",
      "[Parallel(n_jobs=28)]: Done 309 tasks      | elapsed:  2.2min\n",
      "[Parallel(n_jobs=28)]: Done 336 tasks      | elapsed:  2.5min\n",
      "[Parallel(n_jobs=28)]: Done 365 tasks      | elapsed:  2.8min\n",
      "[Parallel(n_jobs=28)]: Done 394 tasks      | elapsed:  3.0min\n",
      "[Parallel(n_jobs=28)]: Done 425 tasks      | elapsed:  3.0min\n",
      "[Parallel(n_jobs=28)]: Done 456 tasks      | elapsed:  3.0min\n",
      "[Parallel(n_jobs=28)]: Done 489 tasks      | elapsed:  3.1min\n",
      "[Parallel(n_jobs=28)]: Done 522 tasks      | elapsed:  3.1min\n",
      "[Parallel(n_jobs=28)]: Done 557 tasks      | elapsed:  3.4min\n",
      "[Parallel(n_jobs=28)]: Done 592 tasks      | elapsed:  3.6min\n",
      "[Parallel(n_jobs=28)]: Done 629 tasks      | elapsed:  3.7min\n",
      "[Parallel(n_jobs=28)]: Done 666 tasks      | elapsed:  3.7min\n",
      "[Parallel(n_jobs=28)]: Done 705 tasks      | elapsed:  3.7min\n",
      "[Parallel(n_jobs=28)]: Done 744 tasks      | elapsed:  3.7min\n",
      "[Parallel(n_jobs=28)]: Done 821 out of 821 | elapsed:  3.8min finished\n"
     ]
    },
    {
     "data": {
      "image/png": "[encoded data removed]",
      "text/plain": [
       "<Figure size 720x144 with 2 Axes>"
      ]
     },
     "metadata": {
      "needs_background": "light"
     },
     "output_type": "display_data"
    },
    {
     "name": "stdout",
     "output_type": "stream",
     "text": [
      "B1595 total # merged units: 325\n"
     ]
    },
    {
     "data": {
      "application/vnd.jupyter.widget-view+json": {
       "model_id": "cac79e85dfcc4399baaad487233e8fb3",
       "version_major": 2,
       "version_minor": 0
      },
      "text/plain": [
       "unit:   0%|          | 0/325 [00:00<?, ?it/s]"
      ]
     },
     "metadata": {},
     "output_type": "display_data"
    },
    {
     "name": "stderr",
     "output_type": "stream",
     "text": [
      "[Parallel(n_jobs=28)]: Using backend LokyBackend with 28 concurrent workers.\n",
      "[Parallel(n_jobs=28)]: Batch computation too fast (0.0774s.) Setting batch_size=2.\n",
      "[Parallel(n_jobs=28)]: Done   5 tasks      | elapsed:    0.1s\n",
      "[Parallel(n_jobs=28)]: Done  16 tasks      | elapsed:    0.6s\n",
      "[Parallel(n_jobs=28)]: Done  29 tasks      | elapsed:    0.8s\n",
      "[Parallel(n_jobs=28)]: Done  42 tasks      | elapsed:    1.1s\n",
      "[Parallel(n_jobs=28)]: Done  59 tasks      | elapsed:    1.6s\n",
      "[Parallel(n_jobs=28)]: Done  88 tasks      | elapsed:    2.3s\n",
      "[Parallel(n_jobs=28)]: Done 122 tasks      | elapsed:    2.9s\n",
      "[Parallel(n_jobs=28)]: Done 156 tasks      | elapsed:    3.3s\n",
      "[Parallel(n_jobs=28)]: Batch computation too slow (3.4688s.) Setting batch_size=1.\n",
      "[Parallel(n_jobs=28)]: Done 194 tasks      | elapsed:   12.7s\n",
      "[Parallel(n_jobs=28)]: Done 232 tasks      | elapsed:   21.0s\n",
      "[Parallel(n_jobs=28)]: Done 270 out of 325 | elapsed:   29.0s remaining:    5.9s\n",
      "[Parallel(n_jobs=28)]: Done 303 out of 325 | elapsed:   30.2s remaining:    2.2s\n",
      "[Parallel(n_jobs=28)]: Done 325 out of 325 | elapsed:   34.7s finished\n"
     ]
    },
    {
     "data": {
      "image/png": "[encoded data removed]",
      "text/plain": [
       "<Figure size 720x144 with 2 Axes>"
      ]
     },
     "metadata": {
      "needs_background": "light"
     },
     "output_type": "display_data"
    },
    {
     "name": "stdout",
     "output_type": "stream",
     "text": [
      "B1276 total # merged units: 57\n"
     ]
    },
    {
     "data": {
      "application/vnd.jupyter.widget-view+json": {
       "model_id": "20e42bd584bc400192e1c01a97a9320b",
       "version_major": 2,
       "version_minor": 0
      },
      "text/plain": [
       "unit:   0%|          | 0/57 [00:00<?, ?it/s]"
      ]
     },
     "metadata": {},
     "output_type": "display_data"
    },
    {
     "name": "stderr",
     "output_type": "stream",
     "text": [
      "[Parallel(n_jobs=28)]: Using backend LokyBackend with 28 concurrent workers.\n",
      "[Parallel(n_jobs=28)]: Batch computation too fast (0.1812s.) Setting batch_size=2.\n",
      "[Parallel(n_jobs=28)]: Done   8 out of  57 | elapsed:    0.5s remaining:    3.3s\n",
      "[Parallel(n_jobs=28)]: Done  14 out of  57 | elapsed:    0.6s remaining:    1.9s\n",
      "[Parallel(n_jobs=28)]: Done  20 out of  57 | elapsed:    0.7s remaining:    1.2s\n",
      "[Parallel(n_jobs=28)]: Done  26 out of  57 | elapsed:    0.8s remaining:    0.9s\n",
      "[Parallel(n_jobs=28)]: Done  32 out of  57 | elapsed:    0.8s remaining:    0.6s\n",
      "[Parallel(n_jobs=28)]: Done  38 out of  57 | elapsed:    0.9s remaining:    0.4s\n",
      "[Parallel(n_jobs=28)]: Done  44 out of  57 | elapsed:    1.0s remaining:    0.3s\n",
      "[Parallel(n_jobs=28)]: Done  50 out of  57 | elapsed:    1.1s remaining:    0.2s\n",
      "[Parallel(n_jobs=28)]: Done  57 out of  57 | elapsed:    1.2s finished\n"
     ]
    },
    {
     "data": {
      "image/png": "[encoded data removed]",
      "text/plain": [
       "<Figure size 720x144 with 2 Axes>"
      ]
     },
     "metadata": {
      "needs_background": "light"
     },
     "output_type": "display_data"
    },
    {
     "name": "stdout",
     "output_type": "stream",
     "text": [
      "B1426 total # merged units: 180\n"
     ]
    },
    {
     "data": {
      "application/vnd.jupyter.widget-view+json": {
       "model_id": "3944fa72478b46449e398ea679afb04d",
       "version_major": 2,
       "version_minor": 0
      },
      "text/plain": [
       "unit:   0%|          | 0/180 [00:00<?, ?it/s]"
      ]
     },
     "metadata": {},
     "output_type": "display_data"
    },
    {
     "name": "stderr",
     "output_type": "stream",
     "text": [
      "[Parallel(n_jobs=28)]: Using backend LokyBackend with 28 concurrent workers.\n",
      "[Parallel(n_jobs=28)]: Batch computation too fast (0.0785s.) Setting batch_size=2.\n",
      "[Parallel(n_jobs=28)]: Done   5 tasks      | elapsed:    0.4s\n",
      "[Parallel(n_jobs=28)]: Done  16 tasks      | elapsed:    0.7s\n",
      "[Parallel(n_jobs=28)]: Done  29 tasks      | elapsed:    0.9s\n",
      "[Parallel(n_jobs=28)]: Done  43 tasks      | elapsed:    1.2s\n",
      "[Parallel(n_jobs=28)]: Done  64 tasks      | elapsed:    1.4s\n",
      "[Parallel(n_jobs=28)]: Done 106 out of 180 | elapsed:    2.6s remaining:    1.8s\n",
      "[Parallel(n_jobs=28)]: Done 125 out of 180 | elapsed:    2.8s remaining:    1.2s\n",
      "[Parallel(n_jobs=28)]: Done 144 out of 180 | elapsed:    2.9s remaining:    0.7s\n",
      "[Parallel(n_jobs=28)]: Done 163 out of 180 | elapsed:    3.0s remaining:    0.3s\n",
      "[Parallel(n_jobs=28)]: Done 180 out of 180 | elapsed:   14.8s finished\n"
     ]
    },
    {
     "data": {
      "image/png": "[encoded data removed]",
      "text/plain": [
       "<Figure size 720x144 with 2 Axes>"
      ]
     },
     "metadata": {
      "needs_background": "light"
     },
     "output_type": "display_data"
    },
    {
     "name": "stdout",
     "output_type": "stream",
     "text": [
      "B1432 total # merged units: 2364\n"
     ]
    },
    {
     "data": {
      "application/vnd.jupyter.widget-view+json": {
       "model_id": "97f956b29f1044428b7b7b55cc6bda91",
       "version_major": 2,
       "version_minor": 0
      },
      "text/plain": [
       "unit:   0%|          | 0/2364 [00:00<?, ?it/s]"
      ]
     },
     "metadata": {},
     "output_type": "display_data"
    },
    {
     "name": "stderr",
     "output_type": "stream",
     "text": [
      "[Parallel(n_jobs=28)]: Using backend LokyBackend with 28 concurrent workers.\n",
      "[Parallel(n_jobs=28)]: Done   5 tasks      | elapsed:   15.7s\n",
      "[Parallel(n_jobs=28)]: Done  16 tasks      | elapsed:   25.7s\n",
      "[Parallel(n_jobs=28)]: Done  29 tasks      | elapsed:   32.7s\n",
      "[Parallel(n_jobs=28)]: Done  42 tasks      | elapsed:   47.6s\n",
      "[Parallel(n_jobs=28)]: Done  57 tasks      | elapsed:   57.1s\n",
      "[Parallel(n_jobs=28)]: Done  72 tasks      | elapsed:  1.2min\n",
      "[Parallel(n_jobs=28)]: Done  89 tasks      | elapsed:  1.4min\n",
      "[Parallel(n_jobs=28)]: Done 106 tasks      | elapsed:  1.7min\n",
      "[Parallel(n_jobs=28)]: Done 125 tasks      | elapsed:  1.9min\n",
      "[Parallel(n_jobs=28)]: Done 144 tasks      | elapsed:  2.2min\n",
      "[Parallel(n_jobs=28)]: Done 165 tasks      | elapsed:  2.5min\n",
      "[Parallel(n_jobs=28)]: Done 186 tasks      | elapsed:  2.7min\n",
      "[Parallel(n_jobs=28)]: Done 209 tasks      | elapsed:  3.0min\n",
      "[Parallel(n_jobs=28)]: Done 232 tasks      | elapsed:  3.3min\n",
      "[Parallel(n_jobs=28)]: Done 257 tasks      | elapsed:  3.6min\n",
      "[Parallel(n_jobs=28)]: Done 282 tasks      | elapsed:  3.9min\n",
      "[Parallel(n_jobs=28)]: Done 309 tasks      | elapsed:  4.2min\n",
      "[Parallel(n_jobs=28)]: Done 336 tasks      | elapsed:  4.5min\n",
      "[Parallel(n_jobs=28)]: Done 365 tasks      | elapsed:  5.2min\n",
      "[Parallel(n_jobs=28)]: Done 394 tasks      | elapsed:  5.8min\n",
      "[Parallel(n_jobs=28)]: Done 425 tasks      | elapsed:  6.3min\n",
      "[Parallel(n_jobs=28)]: Done 456 tasks      | elapsed:  6.7min\n",
      "[Parallel(n_jobs=28)]: Done 489 tasks      | elapsed:  7.0min\n",
      "[Parallel(n_jobs=28)]: Done 522 tasks      | elapsed:  7.4min\n",
      "[Parallel(n_jobs=28)]: Done 557 tasks      | elapsed:  7.8min\n",
      "[Parallel(n_jobs=28)]: Done 592 tasks      | elapsed:  8.2min\n",
      "[Parallel(n_jobs=28)]: Done 629 tasks      | elapsed:  8.6min\n",
      "[Parallel(n_jobs=28)]: Done 666 tasks      | elapsed:  9.0min\n",
      "[Parallel(n_jobs=28)]: Done 705 tasks      | elapsed:  9.3min\n",
      "[Parallel(n_jobs=28)]: Done 744 tasks      | elapsed:  9.6min\n",
      "[Parallel(n_jobs=28)]: Done 785 tasks      | elapsed:  9.8min\n",
      "[Parallel(n_jobs=28)]: Done 826 tasks      | elapsed: 10.0min\n",
      "[Parallel(n_jobs=28)]: Done 869 tasks      | elapsed: 10.2min\n",
      "[Parallel(n_jobs=28)]: Done 912 tasks      | elapsed: 10.5min\n",
      "[Parallel(n_jobs=28)]: Done 957 tasks      | elapsed: 10.7min\n",
      "[Parallel(n_jobs=28)]: Done 1002 tasks      | elapsed: 11.1min\n",
      "[Parallel(n_jobs=28)]: Done 1049 tasks      | elapsed: 11.9min\n",
      "[Parallel(n_jobs=28)]: Done 1096 tasks      | elapsed: 12.4min\n",
      "[Parallel(n_jobs=28)]: Done 1145 tasks      | elapsed: 12.7min\n",
      "[Parallel(n_jobs=28)]: Done 1194 tasks      | elapsed: 13.3min\n",
      "[Parallel(n_jobs=28)]: Done 1245 tasks      | elapsed: 13.9min\n",
      "[Parallel(n_jobs=28)]: Done 1296 tasks      | elapsed: 14.3min\n",
      "[Parallel(n_jobs=28)]: Done 1349 tasks      | elapsed: 14.8min\n",
      "[Parallel(n_jobs=28)]: Done 1402 tasks      | elapsed: 15.0min\n",
      "[Parallel(n_jobs=28)]: Done 1457 tasks      | elapsed: 15.2min\n",
      "[Parallel(n_jobs=28)]: Done 1512 tasks      | elapsed: 15.3min\n",
      "[Parallel(n_jobs=28)]: Done 1569 tasks      | elapsed: 15.5min\n",
      "[Parallel(n_jobs=28)]: Done 1626 tasks      | elapsed: 15.9min\n",
      "[Parallel(n_jobs=28)]: Done 1685 tasks      | elapsed: 16.4min\n",
      "[Parallel(n_jobs=28)]: Done 1744 tasks      | elapsed: 16.6min\n",
      "[Parallel(n_jobs=28)]: Done 1805 tasks      | elapsed: 16.7min\n",
      "[Parallel(n_jobs=28)]: Done 1866 tasks      | elapsed: 16.7min\n",
      "[Parallel(n_jobs=28)]: Done 1929 tasks      | elapsed: 16.7min\n",
      "[Parallel(n_jobs=28)]: Done 1992 tasks      | elapsed: 16.7min\n",
      "[Parallel(n_jobs=28)]: Done 2057 tasks      | elapsed: 16.7min\n",
      "[Parallel(n_jobs=28)]: Done 2122 tasks      | elapsed: 16.7min\n",
      "[Parallel(n_jobs=28)]: Done 2189 tasks      | elapsed: 16.7min\n",
      "[Parallel(n_jobs=28)]: Done 2256 tasks      | elapsed: 16.7min\n",
      "[Parallel(n_jobs=28)]: Done 2364 out of 2364 | elapsed: 16.8min finished\n"
     ]
    },
    {
     "data": {
      "image/png": "[encoded data removed]",
      "text/plain": [
       "<Figure size 720x144 with 2 Axes>"
      ]
     },
     "metadata": {
      "needs_background": "light"
     },
     "output_type": "display_data"
    },
    {
     "name": "stdout",
     "output_type": "stream",
     "text": [
      "B1170 total # merged units: 1693\n"
     ]
    },
    {
     "data": {
      "application/vnd.jupyter.widget-view+json": {
       "model_id": "0e48f71384ce41bc83bdb448212087a3",
       "version_major": 2,
       "version_minor": 0
      },
      "text/plain": [
       "unit:   0%|          | 0/1693 [00:00<?, ?it/s]"
      ]
     },
     "metadata": {},
     "output_type": "display_data"
    },
    {
     "name": "stderr",
     "output_type": "stream",
     "text": [
      "[Parallel(n_jobs=28)]: Using backend LokyBackend with 28 concurrent workers.\n",
      "[Parallel(n_jobs=28)]: Done   5 tasks      | elapsed:   10.8s\n",
      "[Parallel(n_jobs=28)]: Done  16 tasks      | elapsed:   29.1s\n",
      "[Parallel(n_jobs=28)]: Done  29 tasks      | elapsed:   37.3s\n",
      "[Parallel(n_jobs=28)]: Done  42 tasks      | elapsed:   39.2s\n",
      "[Parallel(n_jobs=28)]: Done  57 tasks      | elapsed:   47.5s\n",
      "[Parallel(n_jobs=28)]: Done  72 tasks      | elapsed:   57.9s\n",
      "[Parallel(n_jobs=28)]: Done  89 tasks      | elapsed:  1.1min\n",
      "[Parallel(n_jobs=28)]: Done 106 tasks      | elapsed:  1.2min\n",
      "[Parallel(n_jobs=28)]: Done 125 tasks      | elapsed:  1.3min\n",
      "[Parallel(n_jobs=28)]: Done 144 tasks      | elapsed:  1.4min\n",
      "[Parallel(n_jobs=28)]: Done 165 tasks      | elapsed:  1.4min\n",
      "[Parallel(n_jobs=28)]: Done 186 tasks      | elapsed:  1.8min\n",
      "[Parallel(n_jobs=28)]: Done 209 tasks      | elapsed:  1.9min\n",
      "[Parallel(n_jobs=28)]: Done 232 tasks      | elapsed:  2.1min\n",
      "[Parallel(n_jobs=28)]: Done 257 tasks      | elapsed:  2.2min\n",
      "[Parallel(n_jobs=28)]: Done 282 tasks      | elapsed:  2.3min\n",
      "[Parallel(n_jobs=28)]: Done 309 tasks      | elapsed:  2.4min\n",
      "[Parallel(n_jobs=28)]: Done 336 tasks      | elapsed:  2.5min\n",
      "[Parallel(n_jobs=28)]: Done 365 tasks      | elapsed:  2.5min\n",
      "[Parallel(n_jobs=28)]: Done 394 tasks      | elapsed:  2.9min\n",
      "[Parallel(n_jobs=28)]: Done 425 tasks      | elapsed:  2.9min\n",
      "[Parallel(n_jobs=28)]: Done 456 tasks      | elapsed:  2.9min\n",
      "[Parallel(n_jobs=28)]: Done 489 tasks      | elapsed:  2.9min\n",
      "[Parallel(n_jobs=28)]: Done 522 tasks      | elapsed:  3.1min\n",
      "[Parallel(n_jobs=28)]: Done 557 tasks      | elapsed:  3.2min\n",
      "[Parallel(n_jobs=28)]: Done 592 tasks      | elapsed:  3.6min\n",
      "[Parallel(n_jobs=28)]: Done 629 tasks      | elapsed:  3.7min\n",
      "[Parallel(n_jobs=28)]: Done 666 tasks      | elapsed:  3.8min\n",
      "[Parallel(n_jobs=28)]: Done 705 tasks      | elapsed:  3.8min\n",
      "[Parallel(n_jobs=28)]: Done 744 tasks      | elapsed:  3.8min\n",
      "[Parallel(n_jobs=28)]: Done 785 tasks      | elapsed:  3.8min\n",
      "[Parallel(n_jobs=28)]: Done 826 tasks      | elapsed:  3.8min\n",
      "[Parallel(n_jobs=28)]: Done 869 tasks      | elapsed:  3.8min\n",
      "[Parallel(n_jobs=28)]: Done 912 tasks      | elapsed:  3.9min\n",
      "[Parallel(n_jobs=28)]: Done 957 tasks      | elapsed:  3.9min\n",
      "[Parallel(n_jobs=28)]: Done 1002 tasks      | elapsed:  3.9min\n",
      "[Parallel(n_jobs=28)]: Done 1049 tasks      | elapsed:  4.3min\n",
      "[Parallel(n_jobs=28)]: Done 1096 tasks      | elapsed:  4.3min\n",
      "[Parallel(n_jobs=28)]: Done 1145 tasks      | elapsed:  4.3min\n",
      "[Parallel(n_jobs=28)]: Done 1194 tasks      | elapsed:  4.7min\n",
      "[Parallel(n_jobs=28)]: Done 1245 tasks      | elapsed:  4.9min\n",
      "[Parallel(n_jobs=28)]: Done 1296 tasks      | elapsed:  4.9min\n",
      "[Parallel(n_jobs=28)]: Done 1349 tasks      | elapsed:  5.0min\n",
      "[Parallel(n_jobs=28)]: Done 1402 tasks      | elapsed:  5.0min\n",
      "[Parallel(n_jobs=28)]: Done 1457 tasks      | elapsed:  5.0min\n",
      "[Parallel(n_jobs=28)]: Done 1512 tasks      | elapsed:  5.0min\n",
      "[Parallel(n_jobs=28)]: Done 1569 tasks      | elapsed:  5.0min\n",
      "[Parallel(n_jobs=28)]: Done 1626 tasks      | elapsed:  5.0min\n",
      "[Parallel(n_jobs=28)]: Done 1693 out of 1693 | elapsed:  5.1min finished\n"
     ]
    },
    {
     "data": {
      "image/png": "[encoded data removed]",
      "text/plain": [
       "<Figure size 720x144 with 2 Axes>"
      ]
     },
     "metadata": {
      "needs_background": "light"
     },
     "output_type": "display_data"
    },
    {
     "name": "stdout",
     "output_type": "stream",
     "text": [
      "B1244 total # merged units: 150\n"
     ]
    },
    {
     "data": {
      "application/vnd.jupyter.widget-view+json": {
       "model_id": "b8886ef1c31744fa80b0ebd6d4a7d310",
       "version_major": 2,
       "version_minor": 0
      },
      "text/plain": [
       "unit:   0%|          | 0/150 [00:00<?, ?it/s]"
      ]
     },
     "metadata": {},
     "output_type": "display_data"
    },
    {
     "name": "stderr",
     "output_type": "stream",
     "text": [
      "[Parallel(n_jobs=28)]: Using backend LokyBackend with 28 concurrent workers.\n",
      "[Parallel(n_jobs=28)]: Done   5 tasks      | elapsed:   25.6s\n",
      "[Parallel(n_jobs=28)]: Done  16 tasks      | elapsed:   28.4s\n",
      "[Parallel(n_jobs=28)]: Done  29 tasks      | elapsed:   44.7s\n",
      "[Parallel(n_jobs=28)]: Done  42 tasks      | elapsed:   53.8s\n",
      "[Parallel(n_jobs=28)]: Done  57 tasks      | elapsed:   56.7s\n",
      "[Parallel(n_jobs=28)]: Done  72 tasks      | elapsed:  1.3min\n",
      "[Parallel(n_jobs=28)]: Done  89 tasks      | elapsed:  1.3min\n",
      "[Parallel(n_jobs=28)]: Done 111 out of 150 | elapsed:  1.4min remaining:   28.6s\n",
      "[Parallel(n_jobs=28)]: Done 127 out of 150 | elapsed:  1.6min remaining:   17.0s\n",
      "[Parallel(n_jobs=28)]: Done 143 out of 150 | elapsed:  1.6min remaining:    4.8s\n",
      "[Parallel(n_jobs=28)]: Done 150 out of 150 | elapsed:  1.7min finished\n"
     ]
    },
    {
     "data": {
      "image/png": "[encoded data removed]",
      "text/plain": [
       "<Figure size 720x144 with 2 Axes>"
      ]
     },
     "metadata": {
      "needs_background": "light"
     },
     "output_type": "display_data"
    },
    {
     "name": "stdout",
     "output_type": "stream",
     "text": [
      "B1593 total # merged units: 13260\n"
     ]
    },
    {
     "data": {
      "application/vnd.jupyter.widget-view+json": {
       "model_id": "787e5eaabe104d1abdb8563b81be987f",
       "version_major": 2,
       "version_minor": 0
      },
      "text/plain": [
       "unit:   0%|          | 0/13260 [00:00<?, ?it/s]"
      ]
     },
     "metadata": {},
     "output_type": "display_data"
    },
    {
     "name": "stderr",
     "output_type": "stream",
     "text": [
      "[Parallel(n_jobs=28)]: Using backend LokyBackend with 28 concurrent workers.\n",
      "[Parallel(n_jobs=28)]: Done   5 tasks      | elapsed:   25.1s\n",
      "[Parallel(n_jobs=28)]: Done  16 tasks      | elapsed:   34.5s\n",
      "[Parallel(n_jobs=28)]: Done  29 tasks      | elapsed:   39.2s\n",
      "[Parallel(n_jobs=28)]: Done  42 tasks      | elapsed:   58.6s\n",
      "[Parallel(n_jobs=28)]: Done  57 tasks      | elapsed:  1.1min\n",
      "[Parallel(n_jobs=28)]: Done  72 tasks      | elapsed:  1.3min\n",
      "[Parallel(n_jobs=28)]: Done  89 tasks      | elapsed:  1.4min\n",
      "[Parallel(n_jobs=28)]: Done 106 tasks      | elapsed:  1.5min\n",
      "[Parallel(n_jobs=28)]: Done 125 tasks      | elapsed:  1.9min\n",
      "[Parallel(n_jobs=28)]: Done 144 tasks      | elapsed:  2.2min\n",
      "[Parallel(n_jobs=28)]: Done 165 tasks      | elapsed:  2.4min\n",
      "[Parallel(n_jobs=28)]: Done 186 tasks      | elapsed:  2.7min\n",
      "[Parallel(n_jobs=28)]: Done 209 tasks      | elapsed:  3.0min\n",
      "[Parallel(n_jobs=28)]: Done 232 tasks      | elapsed:  3.1min\n",
      "[Parallel(n_jobs=28)]: Done 257 tasks      | elapsed:  3.2min\n",
      "[Parallel(n_jobs=28)]: Done 282 tasks      | elapsed:  3.2min\n",
      "[Parallel(n_jobs=28)]: Done 309 tasks      | elapsed:  3.2min\n",
      "[Parallel(n_jobs=28)]: Done 336 tasks      | elapsed:  3.3min\n",
      "[Parallel(n_jobs=28)]: Done 365 tasks      | elapsed:  3.3min\n",
      "[Parallel(n_jobs=28)]: Done 394 tasks      | elapsed:  3.4min\n",
      "[Parallel(n_jobs=28)]: Done 425 tasks      | elapsed:  3.4min\n",
      "[Parallel(n_jobs=28)]: Done 456 tasks      | elapsed:  3.5min\n",
      "[Parallel(n_jobs=28)]: Done 489 tasks      | elapsed:  3.6min\n",
      "[Parallel(n_jobs=28)]: Done 522 tasks      | elapsed:  3.7min\n",
      "[Parallel(n_jobs=28)]: Done 557 tasks      | elapsed:  3.8min\n",
      "[Parallel(n_jobs=28)]: Done 592 tasks      | elapsed:  4.0min\n",
      "[Parallel(n_jobs=28)]: Done 629 tasks      | elapsed:  4.2min\n",
      "[Parallel(n_jobs=28)]: Done 666 tasks      | elapsed:  4.5min\n",
      "[Parallel(n_jobs=28)]: Done 705 tasks      | elapsed:  4.7min\n",
      "[Parallel(n_jobs=28)]: Done 744 tasks      | elapsed:  4.8min\n",
      "[Parallel(n_jobs=28)]: Done 785 tasks      | elapsed:  5.2min\n",
      "[Parallel(n_jobs=28)]: Done 826 tasks      | elapsed:  5.5min\n",
      "[Parallel(n_jobs=28)]: Done 869 tasks      | elapsed:  5.8min\n",
      "[Parallel(n_jobs=28)]: Done 912 tasks      | elapsed:  6.2min\n",
      "[Parallel(n_jobs=28)]: Done 957 tasks      | elapsed:  6.2min\n",
      "[Parallel(n_jobs=28)]: Done 1002 tasks      | elapsed:  6.2min\n",
      "[Parallel(n_jobs=28)]: Done 1049 tasks      | elapsed:  6.3min\n",
      "[Parallel(n_jobs=28)]: Done 1096 tasks      | elapsed:  6.8min\n",
      "[Parallel(n_jobs=28)]: Done 1145 tasks      | elapsed:  7.4min\n",
      "[Parallel(n_jobs=28)]: Done 1194 tasks      | elapsed:  7.8min\n",
      "[Parallel(n_jobs=28)]: Done 1245 tasks      | elapsed:  8.2min\n",
      "[Parallel(n_jobs=28)]: Done 1296 tasks      | elapsed:  8.6min\n",
      "[Parallel(n_jobs=28)]: Done 1349 tasks      | elapsed:  9.0min\n",
      "[Parallel(n_jobs=28)]: Done 1402 tasks      | elapsed:  9.5min\n",
      "[Parallel(n_jobs=28)]: Done 1457 tasks      | elapsed: 10.0min\n",
      "[Parallel(n_jobs=28)]: Done 1512 tasks      | elapsed: 10.3min\n",
      "[Parallel(n_jobs=28)]: Done 1569 tasks      | elapsed: 10.4min\n",
      "[Parallel(n_jobs=28)]: Done 1626 tasks      | elapsed: 10.5min\n",
      "[Parallel(n_jobs=28)]: Done 1685 tasks      | elapsed: 10.6min\n",
      "[Parallel(n_jobs=28)]: Done 1744 tasks      | elapsed: 10.9min\n",
      "[Parallel(n_jobs=28)]: Done 1805 tasks      | elapsed: 11.6min\n",
      "[Parallel(n_jobs=28)]: Done 1866 tasks      | elapsed: 12.2min\n",
      "[Parallel(n_jobs=28)]: Done 1929 tasks      | elapsed: 12.7min\n",
      "[Parallel(n_jobs=28)]: Done 1992 tasks      | elapsed: 13.3min\n",
      "[Parallel(n_jobs=28)]: Done 2057 tasks      | elapsed: 13.8min\n",
      "[Parallel(n_jobs=28)]: Done 2122 tasks      | elapsed: 14.5min\n",
      "[Parallel(n_jobs=28)]: Done 2189 tasks      | elapsed: 15.2min\n",
      "[Parallel(n_jobs=28)]: Done 2256 tasks      | elapsed: 15.3min\n",
      "[Parallel(n_jobs=28)]: Done 2325 tasks      | elapsed: 16.1min\n",
      "[Parallel(n_jobs=28)]: Done 2394 tasks      | elapsed: 16.6min\n",
      "[Parallel(n_jobs=28)]: Done 2465 tasks      | elapsed: 17.3min\n",
      "[Parallel(n_jobs=28)]: Done 2536 tasks      | elapsed: 18.0min\n",
      "[Parallel(n_jobs=28)]: Batch computation too fast (0.1963s.) Setting batch_size=2.\n",
      "[Parallel(n_jobs=28)]: Done 2609 tasks      | elapsed: 18.1min\n",
      "[Parallel(n_jobs=28)]: Done 2702 tasks      | elapsed: 18.2min\n",
      "[Parallel(n_jobs=28)]: Batch computation too slow (2.3366s.) Setting batch_size=1.\n",
      "[Parallel(n_jobs=28)]: Done 2824 tasks      | elapsed: 19.3min\n",
      "[Parallel(n_jobs=28)]: Done 2916 tasks      | elapsed: 19.9min\n",
      "[Parallel(n_jobs=28)]: Done 2993 tasks      | elapsed: 20.0min\n",
      "[Parallel(n_jobs=28)]: Done 3070 tasks      | elapsed: 20.3min\n",
      "[Parallel(n_jobs=28)]: Done 3149 tasks      | elapsed: 20.9min\n",
      "[Parallel(n_jobs=28)]: Done 3228 tasks      | elapsed: 21.8min\n",
      "[Parallel(n_jobs=28)]: Done 3309 tasks      | elapsed: 22.5min\n",
      "[Parallel(n_jobs=28)]: Done 3390 tasks      | elapsed: 23.2min\n",
      "[Parallel(n_jobs=28)]: Done 3473 tasks      | elapsed: 23.8min\n",
      "[Parallel(n_jobs=28)]: Done 3556 tasks      | elapsed: 24.3min\n",
      "[Parallel(n_jobs=28)]: Done 3641 tasks      | elapsed: 24.9min\n",
      "[Parallel(n_jobs=28)]: Done 3726 tasks      | elapsed: 25.6min\n",
      "[Parallel(n_jobs=28)]: Done 3813 tasks      | elapsed: 26.3min\n",
      "[Parallel(n_jobs=28)]: Done 3900 tasks      | elapsed: 27.0min\n",
      "[Parallel(n_jobs=28)]: Done 3989 tasks      | elapsed: 27.7min\n",
      "[Parallel(n_jobs=28)]: Done 4078 tasks      | elapsed: 28.2min\n",
      "[Parallel(n_jobs=28)]: Done 4169 tasks      | elapsed: 28.6min\n",
      "[Parallel(n_jobs=28)]: Done 4260 tasks      | elapsed: 28.8min\n",
      "[Parallel(n_jobs=28)]: Done 4353 tasks      | elapsed: 29.2min\n",
      "[Parallel(n_jobs=28)]: Done 4446 tasks      | elapsed: 29.6min\n",
      "[Parallel(n_jobs=28)]: Done 4541 tasks      | elapsed: 30.1min\n",
      "[Parallel(n_jobs=28)]: Done 4636 tasks      | elapsed: 30.9min\n",
      "[Parallel(n_jobs=28)]: Done 4733 tasks      | elapsed: 31.4min\n",
      "[Parallel(n_jobs=28)]: Done 4830 tasks      | elapsed: 32.1min\n",
      "[Parallel(n_jobs=28)]: Done 4929 tasks      | elapsed: 32.5min\n",
      "[Parallel(n_jobs=28)]: Done 5028 tasks      | elapsed: 32.7min\n",
      "[Parallel(n_jobs=28)]: Done 5129 tasks      | elapsed: 33.7min\n",
      "[Parallel(n_jobs=28)]: Done 5230 tasks      | elapsed: 34.5min\n",
      "[Parallel(n_jobs=28)]: Done 5333 tasks      | elapsed: 35.2min\n",
      "[Parallel(n_jobs=28)]: Done 5436 tasks      | elapsed: 35.6min\n",
      "[Parallel(n_jobs=28)]: Done 5541 tasks      | elapsed: 36.1min\n",
      "[Parallel(n_jobs=28)]: Done 5646 tasks      | elapsed: 36.8min\n",
      "[Parallel(n_jobs=28)]: Done 5753 tasks      | elapsed: 37.4min\n",
      "[Parallel(n_jobs=28)]: Done 5860 tasks      | elapsed: 38.2min\n",
      "[Parallel(n_jobs=28)]: Done 5969 tasks      | elapsed: 39.2min\n",
      "[Parallel(n_jobs=28)]: Done 6078 tasks      | elapsed: 40.3min\n",
      "[Parallel(n_jobs=28)]: Done 6189 tasks      | elapsed: 41.2min\n",
      "[Parallel(n_jobs=28)]: Done 6300 tasks      | elapsed: 41.9min\n",
      "[Parallel(n_jobs=28)]: Done 6413 tasks      | elapsed: 42.6min\n",
      "[Parallel(n_jobs=28)]: Done 6526 tasks      | elapsed: 43.1min\n",
      "[Parallel(n_jobs=28)]: Done 6641 tasks      | elapsed: 43.7min\n",
      "[Parallel(n_jobs=28)]: Done 6756 tasks      | elapsed: 44.3min\n",
      "[Parallel(n_jobs=28)]: Done 6873 tasks      | elapsed: 45.1min\n",
      "[Parallel(n_jobs=28)]: Done 6990 tasks      | elapsed: 45.9min\n",
      "[Parallel(n_jobs=28)]: Done 7109 tasks      | elapsed: 46.7min\n",
      "[Parallel(n_jobs=28)]: Done 7228 tasks      | elapsed: 47.1min\n",
      "[Parallel(n_jobs=28)]: Done 7349 tasks      | elapsed: 48.1min\n",
      "[Parallel(n_jobs=28)]: Done 7470 tasks      | elapsed: 48.9min\n",
      "[Parallel(n_jobs=28)]: Done 7593 tasks      | elapsed: 49.7min\n",
      "[Parallel(n_jobs=28)]: Done 7716 tasks      | elapsed: 50.8min\n",
      "[Parallel(n_jobs=28)]: Done 7841 tasks      | elapsed: 51.9min\n",
      "[Parallel(n_jobs=28)]: Done 7966 tasks      | elapsed: 52.9min\n",
      "[Parallel(n_jobs=28)]: Done 8093 tasks      | elapsed: 53.5min\n",
      "[Parallel(n_jobs=28)]: Done 8220 tasks      | elapsed: 54.0min\n",
      "[Parallel(n_jobs=28)]: Done 8349 tasks      | elapsed: 54.8min\n",
      "[Parallel(n_jobs=28)]: Done 8478 tasks      | elapsed: 55.4min\n",
      "[Parallel(n_jobs=28)]: Done 8609 tasks      | elapsed: 56.0min\n",
      "[Parallel(n_jobs=28)]: Done 8740 tasks      | elapsed: 57.1min\n",
      "[Parallel(n_jobs=28)]: Done 8873 tasks      | elapsed: 58.2min\n",
      "[Parallel(n_jobs=28)]: Done 9006 tasks      | elapsed: 59.2min\n",
      "[Parallel(n_jobs=28)]: Done 9141 tasks      | elapsed: 60.1min\n",
      "[Parallel(n_jobs=28)]: Done 9276 tasks      | elapsed: 60.8min\n",
      "[Parallel(n_jobs=28)]: Done 9413 tasks      | elapsed: 61.3min\n"
     ]
    },
    {
     "name": "stderr",
     "output_type": "stream",
     "text": [
      "[Parallel(n_jobs=28)]: Done 9550 tasks      | elapsed: 62.2min\n",
      "[Parallel(n_jobs=28)]: Done 9689 tasks      | elapsed: 62.9min\n",
      "[Parallel(n_jobs=28)]: Done 9828 tasks      | elapsed: 63.3min\n",
      "[Parallel(n_jobs=28)]: Done 9969 tasks      | elapsed: 64.1min\n",
      "[Parallel(n_jobs=28)]: Done 10110 tasks      | elapsed: 64.8min\n",
      "[Parallel(n_jobs=28)]: Done 10253 tasks      | elapsed: 65.4min\n",
      "[Parallel(n_jobs=28)]: Done 10396 tasks      | elapsed: 66.2min\n",
      "[Parallel(n_jobs=28)]: Done 10541 tasks      | elapsed: 66.7min\n",
      "[Parallel(n_jobs=28)]: Done 10686 tasks      | elapsed: 67.3min\n",
      "[Parallel(n_jobs=28)]: Done 10833 tasks      | elapsed: 68.0min\n",
      "[Parallel(n_jobs=28)]: Done 10980 tasks      | elapsed: 69.0min\n",
      "[Parallel(n_jobs=28)]: Done 11129 tasks      | elapsed: 69.4min\n",
      "[Parallel(n_jobs=28)]: Done 11278 tasks      | elapsed: 69.9min\n",
      "[Parallel(n_jobs=28)]: Done 11429 tasks      | elapsed: 70.4min\n",
      "[Parallel(n_jobs=28)]: Done 11580 tasks      | elapsed: 70.5min\n",
      "[Parallel(n_jobs=28)]: Done 11733 tasks      | elapsed: 71.1min\n",
      "[Parallel(n_jobs=28)]: Done 11886 tasks      | elapsed: 71.2min\n",
      "[Parallel(n_jobs=28)]: Done 12041 tasks      | elapsed: 71.5min\n",
      "[Parallel(n_jobs=28)]: Done 12196 tasks      | elapsed: 71.5min\n",
      "[Parallel(n_jobs=28)]: Done 12353 tasks      | elapsed: 71.5min\n",
      "[Parallel(n_jobs=28)]: Done 12510 tasks      | elapsed: 72.1min\n",
      "[Parallel(n_jobs=28)]: Done 12669 tasks      | elapsed: 72.7min\n",
      "[Parallel(n_jobs=28)]: Done 12828 tasks      | elapsed: 73.4min\n",
      "[Parallel(n_jobs=28)]: Done 12989 tasks      | elapsed: 73.5min\n",
      "[Parallel(n_jobs=28)]: Done 13150 tasks      | elapsed: 73.5min\n",
      "[Parallel(n_jobs=28)]: Done 13260 out of 13260 | elapsed: 73.7min finished\n"
     ]
    },
    {
     "data": {
      "image/png": "[encoded data removed]",
      "text/plain": [
       "<Figure size 720x144 with 2 Axes>"
      ]
     },
     "metadata": {
      "needs_background": "light"
     },
     "output_type": "display_data"
    },
    {
     "name": "stdout",
     "output_type": "stream",
     "text": [
      "B1248 total # merged units: 13184\n"
     ]
    },
    {
     "data": {
      "application/vnd.jupyter.widget-view+json": {
       "model_id": "060bf11b256f4fc9aca9f551abc10eb1",
       "version_major": 2,
       "version_minor": 0
      },
      "text/plain": [
       "unit:   0%|          | 0/13184 [00:00<?, ?it/s]"
      ]
     },
     "metadata": {},
     "output_type": "display_data"
    },
    {
     "name": "stderr",
     "output_type": "stream",
     "text": [
      "[Parallel(n_jobs=28)]: Using backend LokyBackend with 28 concurrent workers.\n",
      "[Parallel(n_jobs=28)]: Done   5 tasks      | elapsed:   11.7s\n",
      "[Parallel(n_jobs=28)]: Done  16 tasks      | elapsed:   29.0s\n",
      "[Parallel(n_jobs=28)]: Done  29 tasks      | elapsed:   32.6s\n",
      "[Parallel(n_jobs=28)]: Done  42 tasks      | elapsed:   41.0s\n",
      "[Parallel(n_jobs=28)]: Done  57 tasks      | elapsed:   57.1s\n",
      "[Parallel(n_jobs=28)]: Done  72 tasks      | elapsed:  1.1min\n",
      "[Parallel(n_jobs=28)]: Done  89 tasks      | elapsed:  1.3min\n",
      "[Parallel(n_jobs=28)]: Done 106 tasks      | elapsed:  1.4min\n",
      "[Parallel(n_jobs=28)]: Done 125 tasks      | elapsed:  1.7min\n",
      "[Parallel(n_jobs=28)]: Done 144 tasks      | elapsed:  1.9min\n",
      "[Parallel(n_jobs=28)]: Done 165 tasks      | elapsed:  2.2min\n",
      "[Parallel(n_jobs=28)]: Done 186 tasks      | elapsed:  2.4min\n",
      "[Parallel(n_jobs=28)]: Done 209 tasks      | elapsed:  2.6min\n",
      "[Parallel(n_jobs=28)]: Done 232 tasks      | elapsed:  3.0min\n",
      "[Parallel(n_jobs=28)]: Done 257 tasks      | elapsed:  3.4min\n",
      "[Parallel(n_jobs=28)]: Done 282 tasks      | elapsed:  3.6min\n",
      "[Parallel(n_jobs=28)]: Done 309 tasks      | elapsed:  4.0min\n",
      "[Parallel(n_jobs=28)]: Done 336 tasks      | elapsed:  4.3min\n",
      "[Parallel(n_jobs=28)]: Done 365 tasks      | elapsed:  4.8min\n",
      "[Parallel(n_jobs=28)]: Done 394 tasks      | elapsed:  5.2min\n",
      "[Parallel(n_jobs=28)]: Done 425 tasks      | elapsed:  5.3min\n",
      "[Parallel(n_jobs=28)]: Done 456 tasks      | elapsed:  5.4min\n",
      "[Parallel(n_jobs=28)]: Done 489 tasks      | elapsed:  5.5min\n",
      "[Parallel(n_jobs=28)]: Done 522 tasks      | elapsed:  5.5min\n",
      "[Parallel(n_jobs=28)]: Done 557 tasks      | elapsed:  5.6min\n",
      "[Parallel(n_jobs=28)]: Done 592 tasks      | elapsed:  5.7min\n",
      "[Parallel(n_jobs=28)]: Done 629 tasks      | elapsed:  5.8min\n",
      "[Parallel(n_jobs=28)]: Done 666 tasks      | elapsed:  5.9min\n",
      "[Parallel(n_jobs=28)]: Done 705 tasks      | elapsed:  6.3min\n",
      "[Parallel(n_jobs=28)]: Done 744 tasks      | elapsed:  6.5min\n",
      "[Parallel(n_jobs=28)]: Done 785 tasks      | elapsed:  7.0min\n",
      "[Parallel(n_jobs=28)]: Done 826 tasks      | elapsed:  7.4min\n",
      "[Parallel(n_jobs=28)]: Done 869 tasks      | elapsed:  7.8min\n",
      "[Parallel(n_jobs=28)]: Done 912 tasks      | elapsed:  8.3min\n",
      "[Parallel(n_jobs=28)]: Done 957 tasks      | elapsed:  8.7min\n",
      "[Parallel(n_jobs=28)]: Done 1002 tasks      | elapsed:  9.4min\n",
      "[Parallel(n_jobs=28)]: Done 1049 tasks      | elapsed:  9.9min\n",
      "[Parallel(n_jobs=28)]: Done 1096 tasks      | elapsed: 10.6min\n",
      "[Parallel(n_jobs=28)]: Done 1145 tasks      | elapsed: 10.8min\n",
      "[Parallel(n_jobs=28)]: Done 1194 tasks      | elapsed: 11.0min\n",
      "[Parallel(n_jobs=28)]: Done 1245 tasks      | elapsed: 11.1min\n",
      "[Parallel(n_jobs=28)]: Done 1296 tasks      | elapsed: 11.3min\n",
      "[Parallel(n_jobs=28)]: Done 1349 tasks      | elapsed: 11.4min\n",
      "[Parallel(n_jobs=28)]: Done 1402 tasks      | elapsed: 11.5min\n",
      "[Parallel(n_jobs=28)]: Done 1457 tasks      | elapsed: 11.6min\n",
      "[Parallel(n_jobs=28)]: Done 1512 tasks      | elapsed: 12.2min\n",
      "[Parallel(n_jobs=28)]: Done 1569 tasks      | elapsed: 12.5min\n",
      "[Parallel(n_jobs=28)]: Done 1626 tasks      | elapsed: 12.8min\n",
      "[Parallel(n_jobs=28)]: Done 1685 tasks      | elapsed: 13.2min\n",
      "[Parallel(n_jobs=28)]: Done 1744 tasks      | elapsed: 13.5min\n",
      "[Parallel(n_jobs=28)]: Done 1805 tasks      | elapsed: 13.7min\n",
      "[Parallel(n_jobs=28)]: Done 1866 tasks      | elapsed: 13.8min\n",
      "[Parallel(n_jobs=28)]: Done 1929 tasks      | elapsed: 14.1min\n",
      "[Parallel(n_jobs=28)]: Done 1992 tasks      | elapsed: 14.8min\n",
      "[Parallel(n_jobs=28)]: Done 2057 tasks      | elapsed: 15.3min\n",
      "[Parallel(n_jobs=28)]: Done 2122 tasks      | elapsed: 15.9min\n",
      "[Parallel(n_jobs=28)]: Done 2189 tasks      | elapsed: 16.4min\n",
      "[Parallel(n_jobs=28)]: Done 2256 tasks      | elapsed: 17.1min\n",
      "[Parallel(n_jobs=28)]: Done 2325 tasks      | elapsed: 17.4min\n",
      "[Parallel(n_jobs=28)]: Done 2394 tasks      | elapsed: 17.6min\n",
      "[Parallel(n_jobs=28)]: Done 2465 tasks      | elapsed: 17.8min\n",
      "[Parallel(n_jobs=28)]: Done 2536 tasks      | elapsed: 18.0min\n",
      "[Parallel(n_jobs=28)]: Done 2609 tasks      | elapsed: 18.5min\n",
      "[Parallel(n_jobs=28)]: Done 2682 tasks      | elapsed: 18.7min\n",
      "[Parallel(n_jobs=28)]: Done 2757 tasks      | elapsed: 18.9min\n",
      "[Parallel(n_jobs=28)]: Done 2832 tasks      | elapsed: 19.1min\n",
      "[Parallel(n_jobs=28)]: Done 2909 tasks      | elapsed: 19.3min\n",
      "[Parallel(n_jobs=28)]: Done 2986 tasks      | elapsed: 19.5min\n",
      "[Parallel(n_jobs=28)]: Done 3065 tasks      | elapsed: 19.9min\n",
      "[Parallel(n_jobs=28)]: Done 3144 tasks      | elapsed: 20.4min\n",
      "[Parallel(n_jobs=28)]: Done 3225 tasks      | elapsed: 20.6min\n",
      "[Parallel(n_jobs=28)]: Done 3306 tasks      | elapsed: 20.7min\n",
      "[Parallel(n_jobs=28)]: Done 3389 tasks      | elapsed: 20.8min\n",
      "[Parallel(n_jobs=28)]: Done 3472 tasks      | elapsed: 20.9min\n",
      "[Parallel(n_jobs=28)]: Done 3557 tasks      | elapsed: 21.4min\n",
      "[Parallel(n_jobs=28)]: Done 3642 tasks      | elapsed: 22.0min\n",
      "[Parallel(n_jobs=28)]: Done 3729 tasks      | elapsed: 22.7min\n",
      "[Parallel(n_jobs=28)]: Done 3816 tasks      | elapsed: 23.0min\n",
      "[Parallel(n_jobs=28)]: Done 3905 tasks      | elapsed: 23.3min\n",
      "[Parallel(n_jobs=28)]: Done 3994 tasks      | elapsed: 23.5min\n",
      "[Parallel(n_jobs=28)]: Done 4085 tasks      | elapsed: 23.7min\n",
      "[Parallel(n_jobs=28)]: Done 4176 tasks      | elapsed: 23.9min\n",
      "[Parallel(n_jobs=28)]: Done 4269 tasks      | elapsed: 24.2min\n",
      "[Parallel(n_jobs=28)]: Done 4362 tasks      | elapsed: 24.5min\n",
      "[Parallel(n_jobs=28)]: Done 4457 tasks      | elapsed: 25.6min\n",
      "[Parallel(n_jobs=28)]: Done 4552 tasks      | elapsed: 26.5min\n",
      "[Parallel(n_jobs=28)]: Done 4649 tasks      | elapsed: 26.8min\n",
      "[Parallel(n_jobs=28)]: Done 4746 tasks      | elapsed: 27.1min\n",
      "[Parallel(n_jobs=28)]: Done 4845 tasks      | elapsed: 27.6min\n",
      "[Parallel(n_jobs=28)]: Done 4944 tasks      | elapsed: 27.8min\n",
      "[Parallel(n_jobs=28)]: Done 5045 tasks      | elapsed: 28.6min\n",
      "[Parallel(n_jobs=28)]: Done 5146 tasks      | elapsed: 29.3min\n",
      "[Parallel(n_jobs=28)]: Done 5249 tasks      | elapsed: 30.2min\n",
      "[Parallel(n_jobs=28)]: Done 5352 tasks      | elapsed: 30.6min\n",
      "[Parallel(n_jobs=28)]: Done 5457 tasks      | elapsed: 30.9min\n",
      "[Parallel(n_jobs=28)]: Done 5562 tasks      | elapsed: 31.1min\n",
      "[Parallel(n_jobs=28)]: Done 5669 tasks      | elapsed: 31.3min\n",
      "[Parallel(n_jobs=28)]: Done 5776 tasks      | elapsed: 31.7min\n",
      "[Parallel(n_jobs=28)]: Done 5885 tasks      | elapsed: 31.9min\n",
      "[Parallel(n_jobs=28)]: Done 5994 tasks      | elapsed: 32.6min\n",
      "[Parallel(n_jobs=28)]: Done 6105 tasks      | elapsed: 33.3min\n",
      "[Parallel(n_jobs=28)]: Done 6216 tasks      | elapsed: 33.6min\n",
      "[Parallel(n_jobs=28)]: Done 6329 tasks      | elapsed: 33.9min\n",
      "[Parallel(n_jobs=28)]: Done 6442 tasks      | elapsed: 34.2min\n",
      "[Parallel(n_jobs=28)]: Done 6557 tasks      | elapsed: 34.4min\n",
      "[Parallel(n_jobs=28)]: Done 6672 tasks      | elapsed: 34.7min\n",
      "[Parallel(n_jobs=28)]: Done 6789 tasks      | elapsed: 35.0min\n",
      "[Parallel(n_jobs=28)]: Done 6906 tasks      | elapsed: 35.4min\n",
      "[Parallel(n_jobs=28)]: Done 7025 tasks      | elapsed: 35.6min\n",
      "[Parallel(n_jobs=28)]: Done 7144 tasks      | elapsed: 35.9min\n",
      "[Parallel(n_jobs=28)]: Done 7265 tasks      | elapsed: 36.3min\n",
      "[Parallel(n_jobs=28)]: Done 7386 tasks      | elapsed: 36.7min\n",
      "[Parallel(n_jobs=28)]: Done 7509 tasks      | elapsed: 37.0min\n",
      "[Parallel(n_jobs=28)]: Done 7632 tasks      | elapsed: 37.3min\n",
      "[Parallel(n_jobs=28)]: Done 7757 tasks      | elapsed: 37.7min\n",
      "[Parallel(n_jobs=28)]: Done 7882 tasks      | elapsed: 38.0min\n",
      "[Parallel(n_jobs=28)]: Done 8009 tasks      | elapsed: 38.5min\n",
      "[Parallel(n_jobs=28)]: Done 8136 tasks      | elapsed: 39.6min\n",
      "[Parallel(n_jobs=28)]: Done 8265 tasks      | elapsed: 40.5min\n",
      "[Parallel(n_jobs=28)]: Done 8394 tasks      | elapsed: 41.6min\n",
      "[Parallel(n_jobs=28)]: Done 8525 tasks      | elapsed: 42.6min\n",
      "[Parallel(n_jobs=28)]: Done 8656 tasks      | elapsed: 43.8min\n",
      "[Parallel(n_jobs=28)]: Done 8789 tasks      | elapsed: 44.1min\n",
      "[Parallel(n_jobs=28)]: Done 8922 tasks      | elapsed: 44.5min\n",
      "[Parallel(n_jobs=28)]: Done 9057 tasks      | elapsed: 44.8min\n",
      "[Parallel(n_jobs=28)]: Done 9192 tasks      | elapsed: 45.1min\n",
      "[Parallel(n_jobs=28)]: Done 9329 tasks      | elapsed: 45.4min\n",
      "[Parallel(n_jobs=28)]: Done 9466 tasks      | elapsed: 45.7min\n",
      "[Parallel(n_jobs=28)]: Done 9605 tasks      | elapsed: 46.0min\n",
      "[Parallel(n_jobs=28)]: Done 9744 tasks      | elapsed: 46.3min\n"
     ]
    },
    {
     "name": "stderr",
     "output_type": "stream",
     "text": [
      "[Parallel(n_jobs=28)]: Done 9885 tasks      | elapsed: 46.7min\n",
      "[Parallel(n_jobs=28)]: Done 10026 tasks      | elapsed: 47.6min\n",
      "[Parallel(n_jobs=28)]: Done 10169 tasks      | elapsed: 48.7min\n",
      "[Parallel(n_jobs=28)]: Done 10312 tasks      | elapsed: 49.2min\n",
      "[Parallel(n_jobs=28)]: Done 10457 tasks      | elapsed: 49.4min\n",
      "[Parallel(n_jobs=28)]: Done 10602 tasks      | elapsed: 49.7min\n",
      "[Parallel(n_jobs=28)]: Done 10749 tasks      | elapsed: 50.2min\n",
      "[Parallel(n_jobs=28)]: Done 10896 tasks      | elapsed: 51.7min\n",
      "[Parallel(n_jobs=28)]: Done 11045 tasks      | elapsed: 52.7min\n",
      "[Parallel(n_jobs=28)]: Done 11194 tasks      | elapsed: 54.0min\n",
      "[Parallel(n_jobs=28)]: Done 11345 tasks      | elapsed: 54.2min\n",
      "[Parallel(n_jobs=28)]: Done 11496 tasks      | elapsed: 54.5min\n",
      "[Parallel(n_jobs=28)]: Done 11649 tasks      | elapsed: 55.7min\n",
      "[Parallel(n_jobs=28)]: Done 11802 tasks      | elapsed: 57.1min\n",
      "[Parallel(n_jobs=28)]: Done 11957 tasks      | elapsed: 57.3min\n",
      "[Parallel(n_jobs=28)]: Done 12112 tasks      | elapsed: 57.4min\n",
      "[Parallel(n_jobs=28)]: Done 12269 tasks      | elapsed: 57.6min\n",
      "[Parallel(n_jobs=28)]: Done 12426 tasks      | elapsed: 57.6min\n",
      "[Parallel(n_jobs=28)]: Done 12585 tasks      | elapsed: 57.7min\n",
      "[Parallel(n_jobs=28)]: Done 12744 tasks      | elapsed: 57.8min\n",
      "[Parallel(n_jobs=28)]: Done 12905 tasks      | elapsed: 58.1min\n",
      "[Parallel(n_jobs=28)]: Done 13066 tasks      | elapsed: 58.3min\n",
      "[Parallel(n_jobs=28)]: Done 13184 out of 13184 | elapsed: 58.4min finished\n"
     ]
    }
   ],
   "source": [
    "for bird, timestamp, sorter in tqdm(birds):\n",
    "    spikesorting_folder = (DATA_DIR\n",
    "                / \"spikesorting\"\n",
    "                / bird\n",
    "                / timestamp)\n",
    "    recording_summary_df = pd.read_pickle(spikesorting_folder/ 'recording_df.pickle')\n",
    "\n",
    "    # get units that are to be merged\n",
    "    merged_units = pd.read_pickle(spikesorting_folder / 'unit_clusters2.pickle')\n",
    "    merged_units = merged_units.sort_values(by='n_playbacks', ascending=False)\n",
    "    merged_units = merged_units[merged_units.n_playbacks.astype('float')  > min_playbacks]\n",
    "    \n",
    "    plot = True\n",
    "    if plot:\n",
    "        fig, axs = plt.subplots(ncols=2, figsize=(10,2))\n",
    "        axs[0].hist(np.log10(merged_units.n_playbacks.values.astype('float')+1), bins = 100);\n",
    "        axs[0].set_title('log # playbacks')\n",
    "        axs[1].hist(np.log10(merged_units.n_spikes.values.astype('float')+1), bins = 100);\n",
    "        axs[1].set_title('log # spikes')\n",
    "        plt.show()\n",
    "        print('{} total # merged units: {}'.format(bird, len(merged_units)))\n",
    "\n",
    "    ensure_dir(spikesorting_folder / 'unit_statistics' / statistics_timestamp)\n",
    "    \n",
    "    #if bird == 'B1593':\n",
    "    #    break\n",
    "    #else:\n",
    "    #    continue\n",
    "    #breakme\n",
    "    Parallel(n_jobs = 28, verbose=10)(\n",
    "        delayed(get_unit_statistic)(\n",
    "            unit_to_analyze,\n",
    "            spikesorting_folder,\n",
    "            statistics_timestamp,\n",
    "            recompute=True,\n",
    "            parallel=True,\n",
    "            n_interp_point_bins=16,\n",
    "            exclude_non_responses=True,\n",
    "            passive=False\n",
    "                    )\n",
    "        for uniti, unit_to_analyze in tqdm(\n",
    "            merged_units.iterrows(), desc=\"unit\", total=len(merged_units)\n",
    "        )\n",
    "    );"
   ]
  },
  {
   "cell_type": "code",
   "execution_count": 14,
   "metadata": {
    "ExecuteTime": {
     "end_time": "2021-11-10T23:08:05.189658Z",
     "start_time": "2021-11-10T23:08:04.413295Z"
    }
   },
   "outputs": [
    {
     "data": {
      "text/plain": [
       "'B1248'"
      ]
     },
     "execution_count": 14,
     "metadata": {},
     "output_type": "execute_result"
    }
   ],
   "source": [
    "bird"
   ]
  },
  {
   "cell_type": "markdown",
   "metadata": {},
   "source": [
    "### Debugging"
   ]
  },
  {
   "cell_type": "code",
   "execution_count": 15,
   "metadata": {
    "ExecuteTime": {
     "end_time": "2021-11-10T23:08:05.482349Z",
     "start_time": "2021-11-10T23:08:05.191455Z"
    }
   },
   "outputs": [
    {
     "ename": "NameError",
     "evalue": "name 'breakme' is not defined",
     "output_type": "error",
     "traceback": [
      "\u001b[0;31m---------------------------------------------------------------------------\u001b[0m",
      "\u001b[0;31mNameError\u001b[0m                                 Traceback (most recent call last)",
      "\u001b[0;32m<ipython-input-15-30cfd92a94be>\u001b[0m in \u001b[0;36m<module>\u001b[0;34m\u001b[0m\n\u001b[0;32m----> 1\u001b[0;31m \u001b[0mbreakme\u001b[0m\u001b[0;34m\u001b[0m\u001b[0;34m\u001b[0m\u001b[0m\n\u001b[0m",
      "\u001b[0;31mNameError\u001b[0m: name 'breakme' is not defined"
     ]
    }
   ],
   "source": [
    "breakme"
   ]
  },
  {
   "cell_type": "code",
   "execution_count": null,
   "metadata": {
    "ExecuteTime": {
     "end_time": "2021-11-10T23:08:05.483714Z",
     "start_time": "2021-11-10T19:17:02.291Z"
    }
   },
   "outputs": [],
   "source": [
    "np.where(merged_units.cluster_id == 100)"
   ]
  },
  {
   "cell_type": "code",
   "execution_count": null,
   "metadata": {
    "ExecuteTime": {
     "end_time": "2021-11-10T23:08:05.484447Z",
     "start_time": "2021-11-10T19:17:02.292Z"
    },
    "scrolled": false
   },
   "outputs": [],
   "source": [
    "Parallel(n_jobs=1, verbose=10)(\n",
    "    delayed(get_unit_statistic)(\n",
    "        unit_to_analyze,\n",
    "        spikesorting_folder,\n",
    "        statistics_timestamp,\n",
    "        recompute=True,\n",
    "        parallel=False,\n",
    "        save=False,\n",
    "        plot=False,\n",
    "    )\n",
    "    for uniti, unit_to_analyze in tqdm(\n",
    "        merged_units[56:]\n",
    "        .iterrows(), desc=\"unit\", total=len(merged_units)\n",
    "    )\n",
    ")"
   ]
  },
  {
   "cell_type": "code",
   "execution_count": null,
   "metadata": {
    "ExecuteTime": {
     "end_time": "2021-11-10T23:08:05.485100Z",
     "start_time": "2021-11-10T19:17:02.293Z"
    }
   },
   "outputs": [],
   "source": [
    "%debug"
   ]
  },
  {
   "cell_type": "code",
   "execution_count": null,
   "metadata": {
    "ExecuteTime": {
     "end_time": "2021-11-10T23:08:05.485827Z",
     "start_time": "2021-11-10T19:17:02.294Z"
    },
    "scrolled": true
   },
   "outputs": [],
   "source": [
    "%debug"
   ]
  },
  {
   "cell_type": "markdown",
   "metadata": {},
   "source": [
    "### make dataframe"
   ]
  },
  {
   "cell_type": "code",
   "execution_count": null,
   "metadata": {
    "ExecuteTime": {
     "end_time": "2021-11-10T23:08:05.486474Z",
     "start_time": "2021-11-10T19:17:02.295Z"
    }
   },
   "outputs": [],
   "source": [
    "ensure_dir(DATA_DIR / 'unit_statistics' / statistics_timestamp / identifier)"
   ]
  },
  {
   "cell_type": "code",
   "execution_count": null,
   "metadata": {
    "ExecuteTime": {
     "end_time": "2021-11-10T23:08:05.487126Z",
     "start_time": "2021-11-10T19:17:02.297Z"
    }
   },
   "outputs": [],
   "source": [
    "def read_and_unit(i):\n",
    "    try:\n",
    "        df = pd.read_pickle(i)\n",
    "        df['unit'] = i.stem\n",
    "        return df\n",
    "    except:\n",
    "        return"
   ]
  },
  {
   "cell_type": "code",
   "execution_count": null,
   "metadata": {
    "ExecuteTime": {
     "end_time": "2021-11-10T23:08:05.487905Z",
     "start_time": "2021-11-10T19:17:02.298Z"
    },
    "scrolled": false
   },
   "outputs": [],
   "source": [
    "for bird, timestamp, sorter in tqdm(birds):\n",
    "    print(bird)\n",
    "    spikesorting_folder = DATA_DIR / \"spikesorting\" / bird / timestamp\n",
    "    recording_summary_df = pd.read_pickle(spikesorting_folder / \"recording_df.pickle\")\n",
    "\n",
    "    unit_series_save_loc = (\n",
    "        spikesorting_folder / \"unit_statistics\" / statistics_timestamp / identifier\n",
    "    )\n",
    "    unit_pickles = list(unit_series_save_loc.glob(\"*.pickle\"))\n",
    "    if len(unit_pickles) == 0:\n",
    "        print('\\t no units')\n",
    "        continue\n",
    "    unit_statistics_df = pd.concat(Parallel(n_jobs=-1, prefer=\"threads\")(\n",
    "            delayed(read_and_unit)(i)\n",
    "            for i in tqdm(unit_pickles, leave=False, desc=\"reading pickles\")\n",
    "        ))\n",
    "    #break\n",
    "    print(bird, len(unit_statistics_df.unit.unique()))\n",
    "    unit_statistics_df.to_pickle(\n",
    "        DATA_DIR\n",
    "        / \"unit_statistics\"\n",
    "        / statistics_timestamp\n",
    "        / identifier\n",
    "        / \"{}.pickle\".format(bird)\n",
    "    )"
   ]
  },
  {
   "cell_type": "code",
   "execution_count": null,
   "metadata": {
    "ExecuteTime": {
     "end_time": "2021-11-10T23:08:05.488602Z",
     "start_time": "2021-11-10T19:17:02.299Z"
    }
   },
   "outputs": [],
   "source": [
    "len(unit_statistics_df.unit.unique())"
   ]
  },
  {
   "cell_type": "code",
   "execution_count": null,
   "metadata": {
    "ExecuteTime": {
     "end_time": "2021-11-10T23:08:05.489285Z",
     "start_time": "2021-11-10T19:17:02.300Z"
    }
   },
   "outputs": [],
   "source": [
    "test = Parallel(n_jobs=-1, prefer=\"threads\")(\n",
    "            delayed(read_and_unit)(i)\n",
    "            for i in tqdm(unit_pickles, leave=False, desc=\"reading pickles\")\n",
    "        )"
   ]
  },
  {
   "cell_type": "code",
   "execution_count": null,
   "metadata": {
    "ExecuteTime": {
     "end_time": "2021-11-10T23:08:05.489904Z",
     "start_time": "2021-11-10T19:17:02.302Z"
    }
   },
   "outputs": [],
   "source": [
    "[len(i) for i in test]"
   ]
  },
  {
   "cell_type": "code",
   "execution_count": null,
   "metadata": {
    "ExecuteTime": {
     "end_time": "2021-11-10T23:08:05.490599Z",
     "start_time": "2021-11-10T19:17:02.303Z"
    }
   },
   "outputs": [],
   "source": [
    "len(unit_statistics_df)"
   ]
  },
  {
   "cell_type": "code",
   "execution_count": null,
   "metadata": {
    "ExecuteTime": {
     "end_time": "2021-11-10T23:08:05.491258Z",
     "start_time": "2021-11-10T19:17:02.304Z"
    }
   },
   "outputs": [],
   "source": [
    "unit_statistics_df[:3]"
   ]
  },
  {
   "cell_type": "code",
   "execution_count": null,
   "metadata": {},
   "outputs": [],
   "source": []
  },
  {
   "cell_type": "code",
   "execution_count": null,
   "metadata": {},
   "outputs": [],
   "source": []
  }
 ],
 "metadata": {
  "kernelspec": {
   "display_name": "cdcp_paper_cube",
   "language": "python",
   "name": "cdcp_paper_cube"
  },
  "language_info": {
   "codemirror_mode": {
    "name": "ipython",
    "version": 3
   },
   "file_extension": ".py",
   "mimetype": "text/x-python",
   "name": "python",
   "nbconvert_exporter": "python",
   "pygments_lexer": "ipython3",
   "version": "3.7.11"
  }
 },
 "nbformat": 4,
 "nbformat_minor": 5
}
