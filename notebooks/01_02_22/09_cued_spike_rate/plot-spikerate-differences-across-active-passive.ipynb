{
 "cells": [
  {
   "cell_type": "markdown",
   "id": "10946e8d",
   "metadata": {},
   "source": [
    "### Spikerate by cue\n",
    "- computation: http://localhost:8186/notebooks/tsainbur/Projects/github_repos/cdcp_chronic/notebooks/neural-analysis/spiketrain_analyses/computations/3-compute-cued-spikerate-with-shuff.ipynb\n",
    "- based on: http://localhost:8187/notebooks/tsainbur/Projects/github_repos/cdcp_chronic/notebooks/neural-analysis/spiketrain_analyses/tests/analyze-spikerate-differences-by-cue-with-shuffled-control.ipynb"
   ]
  },
  {
   "cell_type": "code",
   "execution_count": 1,
   "id": "986b316d",
   "metadata": {
    "ExecuteTime": {
     "end_time": "2021-11-17T17:55:48.786316Z",
     "start_time": "2021-11-17T17:55:48.770571Z"
    }
   },
   "outputs": [],
   "source": [
    "%load_ext autoreload\n",
    "%autoreload 2"
   ]
  },
  {
   "cell_type": "code",
   "execution_count": 2,
   "id": "015d0f84",
   "metadata": {
    "ExecuteTime": {
     "end_time": "2021-11-17T17:55:48.797916Z",
     "start_time": "2021-11-17T17:55:48.788854Z"
    }
   },
   "outputs": [],
   "source": [
    "import os\n",
    "# set to be lower priority\n",
    "#os.nice(1)"
   ]
  },
  {
   "cell_type": "code",
   "execution_count": 3,
   "id": "00afd940",
   "metadata": {
    "ExecuteTime": {
     "end_time": "2021-11-17T17:55:48.813741Z",
     "start_time": "2021-11-17T17:55:48.799965Z"
    }
   },
   "outputs": [],
   "source": [
    "interpolations = [\n",
    "        \"AE\",\n",
    "        \"AF\",\n",
    "        \"AG\",\n",
    "        \"AH\",\n",
    "        \"BE\",\n",
    "        \"BF\",\n",
    "        \"BG\",\n",
    "        \"BH\",\n",
    "        \"CE\",\n",
    "        \"CF\",\n",
    "        \"CG\",\n",
    "        \"CH\",\n",
    "        \"DE\",\n",
    "        \"DF\",\n",
    "        \"DG\",\n",
    "        \"DH\",\n",
    "    ]"
   ]
  },
  {
   "cell_type": "code",
   "execution_count": 4,
   "id": "956b4a37",
   "metadata": {
    "ExecuteTime": {
     "end_time": "2021-11-17T17:55:48.825564Z",
     "start_time": "2021-11-17T17:55:48.815546Z"
    }
   },
   "outputs": [],
   "source": [
    "import warnings\n",
    "warnings.filterwarnings('ignore')"
   ]
  },
  {
   "cell_type": "code",
   "execution_count": 5,
   "id": "32fd6b78",
   "metadata": {
    "ExecuteTime": {
     "end_time": "2021-11-17T17:55:50.396614Z",
     "start_time": "2021-11-17T17:55:48.827461Z"
    }
   },
   "outputs": [],
   "source": [
    "import pandas  as pd\n",
    "from cdcp.paths import DATA_DIR, ensure_dir\n",
    "import numpy as np\n",
    "import matplotlib.pyplot as plt\n",
    "import datetime\n",
    "from pathlib2 import Path\n",
    "from tqdm.autonotebook import tqdm\n",
    "pd.set_option('display.max_columns', 500)\n",
    "from joblib import Parallel, delayed\n",
    "from datetime import datetime\n",
    "from joblib import Parallel, delayed\n",
    "from functools import reduce\n",
    "from sklearn.decomposition import PCA\n",
    "from functools import reduce\n"
   ]
  },
  {
   "cell_type": "code",
   "execution_count": 6,
   "id": "8a3b6fda",
   "metadata": {
    "ExecuteTime": {
     "end_time": "2021-11-17T17:55:50.465218Z",
     "start_time": "2021-11-17T17:55:50.398338Z"
    }
   },
   "outputs": [],
   "source": [
    "from cdcp.visualization.colors import colors as cdcp_colors\n"
   ]
  },
  {
   "cell_type": "code",
   "execution_count": 7,
   "id": "42b1c471",
   "metadata": {
    "ExecuteTime": {
     "end_time": "2021-11-17T17:55:50.625031Z",
     "start_time": "2021-11-17T17:55:50.466792Z"
    }
   },
   "outputs": [],
   "source": [
    "import seaborn as sns\n",
    "from cdcp.behavior.psychometric import FourParameterLogistic, fit_FourParameterLogistic\n",
    "import scipy.stats\n",
    "from cdcp.spiketrain_analysis.neurometric import (\n",
    "    get_interp_points_dists_from_similarity_matrix,\n",
    ")"
   ]
  },
  {
   "cell_type": "code",
   "execution_count": 8,
   "id": "e4da51fa",
   "metadata": {
    "ExecuteTime": {
     "end_time": "2021-11-17T17:55:50.666252Z",
     "start_time": "2021-11-17T17:55:50.631369Z"
    }
   },
   "outputs": [],
   "source": [
    "from cdcp.paths import DATA_PATH_MAGPI, FIGURE_DIR, ensure_dir\n",
    "from cdcp.general import save_fig"
   ]
  },
  {
   "cell_type": "code",
   "execution_count": 9,
   "id": "68126332",
   "metadata": {
    "ExecuteTime": {
     "end_time": "2021-11-17T17:55:50.692159Z",
     "start_time": "2021-11-17T17:55:50.669066Z"
    }
   },
   "outputs": [],
   "source": [
    "%matplotlib inline"
   ]
  },
  {
   "cell_type": "code",
   "execution_count": 10,
   "id": "e4c06193",
   "metadata": {
    "ExecuteTime": {
     "end_time": "2021-11-17T17:55:50.713696Z",
     "start_time": "2021-11-17T17:55:50.693742Z"
    }
   },
   "outputs": [
    {
     "data": {
      "text/plain": [
       "'2021-10-23_23-02-31_846685'"
      ]
     },
     "execution_count": 10,
     "metadata": {},
     "output_type": "execute_result"
    }
   ],
   "source": [
    "# \"2021-10-07_16-05-58_796914\" '2021-10-06_13-30-08_899062' '2021-10-01_17-02-56_744915' \n",
    "statistics_timestamp = '2021-10-23_23-02-31_846685'# datetime.now().strftime(\"%Y-%m-%d_%H-%M-%S_%f\")#\n",
    "statistics_timestamp"
   ]
  },
  {
   "cell_type": "code",
   "execution_count": 11,
   "id": "105c67ef",
   "metadata": {
    "ExecuteTime": {
     "end_time": "2021-11-17T17:55:50.789865Z",
     "start_time": "2021-11-17T17:55:50.715213Z"
    }
   },
   "outputs": [],
   "source": [
    "birds = [\n",
    "    ('B1597', '2021-05-14_12-40-20_423998', 'kilosort2_5'),\n",
    "    ('B1188', '2021-05-31_18-52-29_558216', 'kilosort2_5'),\n",
    "    ('B1595', '2021-07-10_16-42-47_090257', 'kilosort2'),\n",
    "    #('B1276', '2021-07-14_11-14-02_257025', 'kilosort2'),\n",
    "    ('B1426', '2021-07-14_11-29-39_657273', 'kilosort2'),\n",
    "    ('B1432', '2021-06-01_15-14-38_561892', 'kilosort2_5'),\n",
    "    ('B1170', '2021-06-01_21-01-26_519005', 'kilosort2_5'),\n",
    "    ('B1244', '2021-07-14_12-57-45_546674', 'kilosort2'),\n",
    "    ('B1593', '2021-06-28_18-13-24_826008', 'kilosort2_5'),\n",
    "    ('B1248', '2021-07-03_18-08-01_063431', 'kilosort2_5'),\n",
    "    # acute\n",
    "    #('B1279', '2021-04-12_16-27-07_289527', 'kilosort2_5'),\n",
    "    #('B1500', '2021-08-27_09-24-48_680961', 'kilosort2_5'),\n",
    "    #('B1239', '2021-05-17_22-18-51_557635', 'kilosort2'),\n",
    "    #('B1459', '2021-08-26_21-21-12_755614', 'kilosort2_5'),\n",
    "]\n",
    "birds_df = pd.DataFrame(birds, columns = ['bird', 'timestamp', 'sorter']).set_index('bird')"
   ]
  },
  {
   "cell_type": "code",
   "execution_count": 12,
   "id": "bcdb7d53",
   "metadata": {
    "ExecuteTime": {
     "end_time": "2021-11-17T17:55:50.811279Z",
     "start_time": "2021-11-17T17:55:50.791715Z"
    }
   },
   "outputs": [],
   "source": [
    "identifiers = ['spike_count',  'unit_location']# , "
   ]
  },
  {
   "cell_type": "code",
   "execution_count": 13,
   "id": "ffedce39",
   "metadata": {
    "ExecuteTime": {
     "end_time": "2021-11-17T17:55:50.829821Z",
     "start_time": "2021-11-17T17:55:50.812856Z"
    }
   },
   "outputs": [],
   "source": [
    "n_interp_bins = 16"
   ]
  },
  {
   "cell_type": "code",
   "execution_count": 14,
   "id": "f9250ebc",
   "metadata": {
    "ExecuteTime": {
     "end_time": "2021-11-17T17:55:51.351696Z",
     "start_time": "2021-11-17T17:55:50.831493Z"
    },
    "scrolled": false
   },
   "outputs": [
    {
     "data": {
      "application/vnd.jupyter.widget-view+json": {
       "model_id": "f289d6fc8a044b6f930ebef577767285",
       "version_major": 2,
       "version_minor": 0
      },
      "text/plain": [
       "birds:   0%|          | 0/9 [00:00<?, ?it/s]"
      ]
     },
     "metadata": {},
     "output_type": "display_data"
    },
    {
     "name": "stdout",
     "output_type": "stream",
     "text": [
      "B1597 nrows per [6750, 8711]\n",
      "B1188 nrows per [510, 821]\n",
      "B1595 nrows per [242, 325]\n",
      "B1426 nrows per [93, 180]\n",
      "B1432 nrows per [2157, 2364]\n",
      "B1170 nrows per [1281, 1693]\n",
      "B1244 nrows per [141, 150]\n",
      "B1593 nrows per [7714, 13260]\n",
      "B1248 nrows per [8698, 13184]\n"
     ]
    }
   ],
   "source": [
    "all_unit_statistics_df = []\n",
    "for bird, timestamp, sorter in tqdm(birds, desc=\"birds\"):\n",
    "\n",
    "    unit_statistics_df_list = []\n",
    "    for identifier in identifiers:\n",
    "        unit_statistics_df = pd.read_pickle(\n",
    "            DATA_DIR\n",
    "            / \"unit_statistics\"\n",
    "            / statistics_timestamp\n",
    "            / identifier\n",
    "            / \"{}.pickle\".format(bird)\n",
    "        )\n",
    "        unit_statistics_df_list.append(unit_statistics_df)\n",
    "    print(bird, \"nrows per\", [len(i) for i in unit_statistics_df_list])\n",
    "\n",
    "    # combine dfs\n",
    "    unit_statistics_df = reduce(\n",
    "        lambda x, y: pd.merge(x, y, on=\"unit\", how=\"outer\"), unit_statistics_df_list\n",
    "    )\n",
    "    unit_statistics_df[\"bird\"] = bird\n",
    "\n",
    "    all_unit_statistics_df.append(unit_statistics_df)\n",
    "unit_statistics_df = pd.concat(all_unit_statistics_df)"
   ]
  },
  {
   "cell_type": "code",
   "execution_count": 15,
   "id": "d5c8307c",
   "metadata": {
    "ExecuteTime": {
     "end_time": "2021-11-17T17:55:51.387920Z",
     "start_time": "2021-11-17T17:55:51.353452Z"
    }
   },
   "outputs": [
    {
     "data": {
      "text/html": [
       "<div>\n",
       "<style scoped>\n",
       "    .dataframe tbody tr th:only-of-type {\n",
       "        vertical-align: middle;\n",
       "    }\n",
       "\n",
       "    .dataframe tbody tr th {\n",
       "        vertical-align: top;\n",
       "    }\n",
       "\n",
       "    .dataframe thead th {\n",
       "        text-align: right;\n",
       "    }\n",
       "</style>\n",
       "<table border=\"1\" class=\"dataframe\">\n",
       "  <thead>\n",
       "    <tr style=\"text-align: right;\">\n",
       "      <th></th>\n",
       "      <th>n_trials</th>\n",
       "      <th>n_cued_trials</th>\n",
       "      <th>n_incorrect_trials</th>\n",
       "      <th>n_correct_trials</th>\n",
       "      <th>n_reward_trials</th>\n",
       "      <th>n_passive_trials</th>\n",
       "      <th>n_active_trials</th>\n",
       "      <th>n_spikes</th>\n",
       "      <th>unit</th>\n",
       "      <th>hemisphere</th>\n",
       "      <th>labeled_region</th>\n",
       "      <th>estimated_nuclei</th>\n",
       "      <th>distance_to_estimated_nuclei</th>\n",
       "      <th>ML</th>\n",
       "      <th>AP</th>\n",
       "      <th>DV</th>\n",
       "      <th>bird</th>\n",
       "    </tr>\n",
       "  </thead>\n",
       "  <tbody>\n",
       "    <tr>\n",
       "      <th>0</th>\n",
       "      <td>1390</td>\n",
       "      <td>1143</td>\n",
       "      <td>151</td>\n",
       "      <td>975</td>\n",
       "      <td>387</td>\n",
       "      <td>0</td>\n",
       "      <td>1390</td>\n",
       "      <td>24748</td>\n",
       "      <td>7569</td>\n",
       "      <td>NaN</td>\n",
       "      <td>NaN</td>\n",
       "      <td>Field_L</td>\n",
       "      <td>437.772</td>\n",
       "      <td>2144.25</td>\n",
       "      <td>2420.0</td>\n",
       "      <td>-822.499502</td>\n",
       "      <td>B1597</td>\n",
       "    </tr>\n",
       "    <tr>\n",
       "      <th>1</th>\n",
       "      <td>1273</td>\n",
       "      <td>1043</td>\n",
       "      <td>150</td>\n",
       "      <td>975</td>\n",
       "      <td>387</td>\n",
       "      <td>0</td>\n",
       "      <td>1273</td>\n",
       "      <td>350</td>\n",
       "      <td>7927</td>\n",
       "      <td>NaN</td>\n",
       "      <td>NaN</td>\n",
       "      <td>NCL</td>\n",
       "      <td>479.334</td>\n",
       "      <td>2757.25</td>\n",
       "      <td>2420.0</td>\n",
       "      <td>-782.499502</td>\n",
       "      <td>B1597</td>\n",
       "    </tr>\n",
       "    <tr>\n",
       "      <th>2</th>\n",
       "      <td>6279</td>\n",
       "      <td>540</td>\n",
       "      <td>106</td>\n",
       "      <td>559</td>\n",
       "      <td>226</td>\n",
       "      <td>5603</td>\n",
       "      <td>676</td>\n",
       "      <td>2445</td>\n",
       "      <td>5875</td>\n",
       "      <td>NaN</td>\n",
       "      <td>NaN</td>\n",
       "      <td>CMM</td>\n",
       "      <td>379.286</td>\n",
       "      <td>1931.25</td>\n",
       "      <td>2420.0</td>\n",
       "      <td>-802.499502</td>\n",
       "      <td>B1597</td>\n",
       "    </tr>\n",
       "  </tbody>\n",
       "</table>\n",
       "</div>"
      ],
      "text/plain": [
       "  n_trials n_cued_trials n_incorrect_trials n_correct_trials n_reward_trials  \\\n",
       "0     1390          1143                151              975             387   \n",
       "1     1273          1043                150              975             387   \n",
       "2     6279           540                106              559             226   \n",
       "\n",
       "  n_passive_trials n_active_trials n_spikes  unit hemisphere labeled_region  \\\n",
       "0                0            1390    24748  7569        NaN            NaN   \n",
       "1                0            1273      350  7927        NaN            NaN   \n",
       "2             5603             676     2445  5875        NaN            NaN   \n",
       "\n",
       "  estimated_nuclei distance_to_estimated_nuclei       ML      AP          DV  \\\n",
       "0          Field_L                      437.772  2144.25  2420.0 -822.499502   \n",
       "1              NCL                      479.334  2757.25  2420.0 -782.499502   \n",
       "2              CMM                      379.286  1931.25  2420.0 -802.499502   \n",
       "\n",
       "    bird  \n",
       "0  B1597  \n",
       "1  B1597  \n",
       "2  B1597  "
      ]
     },
     "execution_count": 15,
     "metadata": {},
     "output_type": "execute_result"
    }
   ],
   "source": [
    "unit_statistics_df[:3]"
   ]
  },
  {
   "cell_type": "code",
   "execution_count": 16,
   "id": "bc3e29ff",
   "metadata": {
    "ExecuteTime": {
     "end_time": "2021-11-17T17:55:51.407495Z",
     "start_time": "2021-11-17T17:55:51.389406Z"
    }
   },
   "outputs": [
    {
     "data": {
      "text/plain": [
       "40688"
      ]
     },
     "execution_count": 16,
     "metadata": {},
     "output_type": "execute_result"
    }
   ],
   "source": [
    "len(unit_statistics_df)"
   ]
  },
  {
   "cell_type": "code",
   "execution_count": 17,
   "id": "ce494c3e",
   "metadata": {
    "ExecuteTime": {
     "end_time": "2021-11-17T17:55:51.615080Z",
     "start_time": "2021-11-17T17:55:51.408982Z"
    }
   },
   "outputs": [
    {
     "name": "stdout",
     "output_type": "stream",
     "text": [
      "6671\n",
      "6671\n"
     ]
    }
   ],
   "source": [
    "# merge with categorical units\n",
    "categorical_units_df = pd.read_pickle(DATA_DIR / 'categorical_unit_01_23_22.pickle')\n",
    "categorical_units_df= categorical_units_df[categorical_units_df.categorical_unit == True]\n",
    "unit_statistics_df_cat = pd.merge(unit_statistics_df, categorical_units_df, on = ['bird', 'unit'])\n",
    "# subset categorical units\n",
    "#unit_statistics_df_cat = unit_statistics_df_cat[unit_statistics_df_cat.categorical_unit == True]\n",
    "unit_statistics_df = unit_statistics_df_cat\n",
    "print(len(unit_statistics_df))\n",
    "\n",
    "### merge with unit types\n",
    "unit_type_df = pd.read_pickle(DATA_DIR / \"unit_classes_01_23_22.pickle\")\n",
    "#unit_type_df = unit_type_df[[\"nuclei\",\"AP\",\"ML\",\"DV\",\"amplitude\",\"template_amplitude\",\"sr\",\"fw\",\"hw\",\"bird\",\"unit\"]]\n",
    "unit_statistics_df_ut = pd.merge(unit_statistics_df, unit_type_df, on = ['bird', 'unit'])\n",
    "unit_statistics_df = unit_statistics_df_ut\n",
    "print(len(unit_statistics_df))"
   ]
  },
  {
   "cell_type": "code",
   "execution_count": 18,
   "id": "ee2d822c",
   "metadata": {
    "ExecuteTime": {
     "end_time": "2021-11-17T17:55:51.652913Z",
     "start_time": "2021-11-17T17:55:51.616817Z"
    }
   },
   "outputs": [
    {
     "data": {
      "text/html": [
       "<div>\n",
       "<style scoped>\n",
       "    .dataframe tbody tr th:only-of-type {\n",
       "        vertical-align: middle;\n",
       "    }\n",
       "\n",
       "    .dataframe tbody tr th {\n",
       "        vertical-align: top;\n",
       "    }\n",
       "\n",
       "    .dataframe thead th {\n",
       "        text-align: right;\n",
       "    }\n",
       "</style>\n",
       "<table border=\"1\" class=\"dataframe\">\n",
       "  <thead>\n",
       "    <tr style=\"text-align: right;\">\n",
       "      <th></th>\n",
       "      <th>fw</th>\n",
       "      <th>sr</th>\n",
       "      <th>unit_type</th>\n",
       "      <th>unit</th>\n",
       "      <th>bird</th>\n",
       "      <th>best_chan_templates</th>\n",
       "      <th>best_chan_templates_norm</th>\n",
       "      <th>amplitude</th>\n",
       "    </tr>\n",
       "  </thead>\n",
       "  <tbody>\n",
       "    <tr>\n",
       "      <th>0</th>\n",
       "      <td>70.0</td>\n",
       "      <td>19.505140</td>\n",
       "      <td>2</td>\n",
       "      <td>6270</td>\n",
       "      <td>B1597</td>\n",
       "      <td>[29.0, 28.94094094094094, 28.88188188188188, 2...</td>\n",
       "      <td>[0.04162189031853942, 0.04153712653652313, 0.0...</td>\n",
       "      <td>-515.25</td>\n",
       "    </tr>\n",
       "    <tr>\n",
       "      <th>1</th>\n",
       "      <td>86.0</td>\n",
       "      <td>7.202434</td>\n",
       "      <td>2</td>\n",
       "      <td>935</td>\n",
       "      <td>B1597</td>\n",
       "      <td>[29.5, 29.47047047047047, 29.44094094094094, 2...</td>\n",
       "      <td>[0.07603293844777533, 0.07595682940028006, 0.0...</td>\n",
       "      <td>-294.00</td>\n",
       "    </tr>\n",
       "    <tr>\n",
       "      <th>2</th>\n",
       "      <td>120.0</td>\n",
       "      <td>13.687375</td>\n",
       "      <td>0</td>\n",
       "      <td>10839</td>\n",
       "      <td>B1597</td>\n",
       "      <td>[42.75, 42.779529529529526, 42.80905905905906,...</td>\n",
       "      <td>[0.1011863087601332, 0.10125620312487042, 0.10...</td>\n",
       "      <td>-314.00</td>\n",
       "    </tr>\n",
       "  </tbody>\n",
       "</table>\n",
       "</div>"
      ],
      "text/plain": [
       "      fw         sr  unit_type   unit   bird  \\\n",
       "0   70.0  19.505140          2   6270  B1597   \n",
       "1   86.0   7.202434          2    935  B1597   \n",
       "2  120.0  13.687375          0  10839  B1597   \n",
       "\n",
       "                                 best_chan_templates  \\\n",
       "0  [29.0, 28.94094094094094, 28.88188188188188, 2...   \n",
       "1  [29.5, 29.47047047047047, 29.44094094094094, 2...   \n",
       "2  [42.75, 42.779529529529526, 42.80905905905906,...   \n",
       "\n",
       "                            best_chan_templates_norm  amplitude  \n",
       "0  [0.04162189031853942, 0.04153712653652313, 0.0...    -515.25  \n",
       "1  [0.07603293844777533, 0.07595682940028006, 0.0...    -294.00  \n",
       "2  [0.1011863087601332, 0.10125620312487042, 0.10...    -314.00  "
      ]
     },
     "execution_count": 18,
     "metadata": {},
     "output_type": "execute_result"
    }
   ],
   "source": [
    "unit_type_df[:3]"
   ]
  },
  {
   "cell_type": "code",
   "execution_count": 19,
   "id": "46cb8e56",
   "metadata": {
    "ExecuteTime": {
     "end_time": "2021-11-17T17:55:51.672407Z",
     "start_time": "2021-11-17T17:55:51.654447Z"
    }
   },
   "outputs": [
    {
     "data": {
      "text/plain": [
       "6671"
      ]
     },
     "execution_count": 19,
     "metadata": {},
     "output_type": "execute_result"
    }
   ],
   "source": [
    "len(unit_statistics_df)"
   ]
  },
  {
   "cell_type": "code",
   "execution_count": 20,
   "id": "a7f6301a",
   "metadata": {
    "ExecuteTime": {
     "end_time": "2021-11-17T17:55:51.691860Z",
     "start_time": "2021-11-17T17:55:51.673897Z"
    }
   },
   "outputs": [
    {
     "data": {
      "text/plain": [
       "6671"
      ]
     },
     "execution_count": 20,
     "metadata": {},
     "output_type": "execute_result"
    }
   ],
   "source": [
    "len(unit_statistics_df_cat)"
   ]
  },
  {
   "cell_type": "code",
   "execution_count": 21,
   "id": "a8e7c42c",
   "metadata": {
    "ExecuteTime": {
     "end_time": "2021-11-17T17:55:51.717090Z",
     "start_time": "2021-11-17T17:55:51.693350Z"
    }
   },
   "outputs": [
    {
     "data": {
      "text/plain": [
       "7923"
      ]
     },
     "execution_count": 21,
     "metadata": {},
     "output_type": "execute_result"
    }
   ],
   "source": [
    "len(categorical_units_df)"
   ]
  },
  {
   "cell_type": "code",
   "execution_count": 22,
   "id": "c0a659cd",
   "metadata": {
    "ExecuteTime": {
     "end_time": "2021-11-17T17:55:51.754339Z",
     "start_time": "2021-11-17T17:55:51.719084Z"
    }
   },
   "outputs": [
    {
     "data": {
      "text/html": [
       "<div>\n",
       "<style scoped>\n",
       "    .dataframe tbody tr th:only-of-type {\n",
       "        vertical-align: middle;\n",
       "    }\n",
       "\n",
       "    .dataframe tbody tr th {\n",
       "        vertical-align: top;\n",
       "    }\n",
       "\n",
       "    .dataframe thead th {\n",
       "        text-align: right;\n",
       "    }\n",
       "</style>\n",
       "<table border=\"1\" class=\"dataframe\">\n",
       "  <thead>\n",
       "    <tr style=\"text-align: right;\">\n",
       "      <th></th>\n",
       "      <th>n_cued_trials</th>\n",
       "      <th>unit</th>\n",
       "      <th>estimated_nuclei</th>\n",
       "      <th>ML</th>\n",
       "      <th>AP</th>\n",
       "      <th>DV</th>\n",
       "      <th>bird</th>\n",
       "      <th>categorical_unit</th>\n",
       "      <th>categoricality</th>\n",
       "      <th>sr</th>\n",
       "      <th>unit_type</th>\n",
       "    </tr>\n",
       "  </thead>\n",
       "  <tbody>\n",
       "    <tr>\n",
       "      <th>0</th>\n",
       "      <td>1178</td>\n",
       "      <td>6270</td>\n",
       "      <td>NCL</td>\n",
       "      <td>2917.25</td>\n",
       "      <td>2420.0</td>\n",
       "      <td>-722.499502</td>\n",
       "      <td>B1597</td>\n",
       "      <td>True</td>\n",
       "      <td>0.425070</td>\n",
       "      <td>19.505140</td>\n",
       "      <td>2</td>\n",
       "    </tr>\n",
       "    <tr>\n",
       "      <th>1</th>\n",
       "      <td>1</td>\n",
       "      <td>935</td>\n",
       "      <td>Field_L</td>\n",
       "      <td>2344.25</td>\n",
       "      <td>2420.0</td>\n",
       "      <td>-822.499502</td>\n",
       "      <td>B1597</td>\n",
       "      <td>True</td>\n",
       "      <td>0.270426</td>\n",
       "      <td>7.202434</td>\n",
       "      <td>2</td>\n",
       "    </tr>\n",
       "    <tr>\n",
       "      <th>2</th>\n",
       "      <td>1967</td>\n",
       "      <td>10839</td>\n",
       "      <td>CMM</td>\n",
       "      <td>1764.25</td>\n",
       "      <td>2420.0</td>\n",
       "      <td>-742.499502</td>\n",
       "      <td>B1597</td>\n",
       "      <td>True</td>\n",
       "      <td>0.298817</td>\n",
       "      <td>13.687375</td>\n",
       "      <td>0</td>\n",
       "    </tr>\n",
       "  </tbody>\n",
       "</table>\n",
       "</div>"
      ],
      "text/plain": [
       "  n_cued_trials   unit estimated_nuclei       ML      AP          DV   bird  \\\n",
       "0          1178   6270              NCL  2917.25  2420.0 -722.499502  B1597   \n",
       "1             1    935          Field_L  2344.25  2420.0 -822.499502  B1597   \n",
       "2          1967  10839              CMM  1764.25  2420.0 -742.499502  B1597   \n",
       "\n",
       "   categorical_unit  categoricality         sr  unit_type  \n",
       "0              True        0.425070  19.505140          2  \n",
       "1              True        0.270426   7.202434          2  \n",
       "2              True        0.298817  13.687375          0  "
      ]
     },
     "execution_count": 22,
     "metadata": {},
     "output_type": "execute_result"
    }
   ],
   "source": [
    "unit_statistics_df = unit_statistics_df.drop(\n",
    "    columns=[\n",
    "        \"best_chan_templates\",\n",
    "        \"best_chan_templates_norm\",\n",
    "        \"distance_to_estimated_nuclei\",\n",
    "        #\"ML\",\n",
    "        #\"AP\",\n",
    "        #\"DV\",\n",
    "        \"amplitude\",\n",
    "        \"n_trials\",\n",
    "        #\"n_cued_trials\",\n",
    "        \"n_incorrect_trials\",\n",
    "        \"n_correct_trials\",\n",
    "        \"n_reward_trials\",\n",
    "        \"n_passive_trials\",\n",
    "        \"n_active_trials\",\n",
    "        \"n_spikes\",\n",
    "        \"hemisphere\",\n",
    "        \"labeled_region\",\n",
    "        \"fw\",\n",
    "    ]\n",
    ")\n",
    "unit_statistics_df[:3]"
   ]
  },
  {
   "cell_type": "markdown",
   "id": "5f9fd69a",
   "metadata": {},
   "source": [
    "### Get cuing info"
   ]
  },
  {
   "cell_type": "code",
   "execution_count": 23,
   "id": "60ecdab0",
   "metadata": {
    "ExecuteTime": {
     "end_time": "2021-11-17T17:56:19.702822Z",
     "start_time": "2021-11-17T17:55:51.755988Z"
    }
   },
   "outputs": [
    {
     "data": {
      "application/vnd.jupyter.widget-view+json": {
       "model_id": "fc003e80ef7d45299ac2feeb221bb172",
       "version_major": 2,
       "version_minor": 0
      },
      "text/plain": [
       "birds:   0%|          | 0/9 [00:00<?, ?it/s]"
      ]
     },
     "metadata": {},
     "output_type": "display_data"
    },
    {
     "name": "stdout",
     "output_type": "stream",
     "text": [
      "B1597 1518130\n",
      "B1188 92203\n",
      "B1595 14440\n",
      "B1426 625\n",
      "B1432 446528\n",
      "B1170 121189\n",
      "B1244 42173\n",
      "B1593 1714936\n",
      "B1248 1461812\n"
     ]
    }
   ],
   "source": [
    "all_cuing_df = []\n",
    "for bird, timestamp, sorter in tqdm(birds, desc=\"birds\"):\n",
    "\n",
    "    cuing_df = pd.read_pickle(\n",
    "        DATA_DIR\n",
    "        / \"unit_statistics\"\n",
    "        / statistics_timestamp\n",
    "        / \"cued_trial_spikerate_z_scored_by_unit_shuffle\"\n",
    "        / \"{}.pickle\".format(bird)\n",
    "    )\n",
    "    print(bird, len(cuing_df))\n",
    "    cuing_df[\"bird\"] = bird\n",
    "\n",
    "    all_cuing_df.append(cuing_df)\n",
    "    \n",
    "z_score_df  = pd.concat(all_cuing_df)"
   ]
  },
  {
   "cell_type": "code",
   "execution_count": 24,
   "id": "236a4bad",
   "metadata": {
    "ExecuteTime": {
     "end_time": "2021-11-17T17:56:19.748525Z",
     "start_time": "2021-11-17T17:56:19.704815Z"
    }
   },
   "outputs": [
    {
     "data": {
      "text/html": [
       "<div>\n",
       "<style scoped>\n",
       "    .dataframe tbody tr th:only-of-type {\n",
       "        vertical-align: middle;\n",
       "    }\n",
       "\n",
       "    .dataframe tbody tr th {\n",
       "        vertical-align: top;\n",
       "    }\n",
       "\n",
       "    .dataframe thead th {\n",
       "        text-align: right;\n",
       "    }\n",
       "</style>\n",
       "<table border=\"1\" class=\"dataframe\">\n",
       "  <thead>\n",
       "    <tr style=\"text-align: right;\">\n",
       "      <th></th>\n",
       "      <th>0</th>\n",
       "      <th>all_z_score_cue</th>\n",
       "      <th>all_z_score_cue_shuff</th>\n",
       "      <th>cue</th>\n",
       "      <th>interp</th>\n",
       "      <th>interp_point</th>\n",
       "      <th>n_spikerate_samples</th>\n",
       "      <th>n_zscore_samples</th>\n",
       "      <th>passive_active</th>\n",
       "      <th>sr</th>\n",
       "      <th>sr_shuffled</th>\n",
       "      <th>sr_z</th>\n",
       "      <th>sr_z_diff_between</th>\n",
       "      <th>sr_z_diff_within</th>\n",
       "      <th>sr_z_shuffled</th>\n",
       "      <th>unit</th>\n",
       "      <th>bird</th>\n",
       "    </tr>\n",
       "  </thead>\n",
       "  <tbody>\n",
       "    <tr>\n",
       "      <th>0</th>\n",
       "      <td>NaN</td>\n",
       "      <td>[-0.26925225332783936, -0.26925225332783936, -...</td>\n",
       "      <td>[-0.26925225332783936, -0.26925225332783936, -...</td>\n",
       "      <td>CR1</td>\n",
       "      <td>BF</td>\n",
       "      <td>9</td>\n",
       "      <td>5</td>\n",
       "      <td>12</td>\n",
       "      <td>passive</td>\n",
       "      <td>0.2</td>\n",
       "      <td>0.2</td>\n",
       "      <td>-0.217835</td>\n",
       "      <td>0.000000</td>\n",
       "      <td>0.082267</td>\n",
       "      <td>-0.217835</td>\n",
       "      <td>15067</td>\n",
       "      <td>B1597</td>\n",
       "    </tr>\n",
       "    <tr>\n",
       "      <th>1</th>\n",
       "      <td>NaN</td>\n",
       "      <td>[-0.26925225332783936, -0.26925225332783936, -...</td>\n",
       "      <td>[-0.26925225332783936, -0.26925225332783936, -...</td>\n",
       "      <td>NC</td>\n",
       "      <td>BF</td>\n",
       "      <td>9</td>\n",
       "      <td>4</td>\n",
       "      <td>12</td>\n",
       "      <td>passive</td>\n",
       "      <td>0.0</td>\n",
       "      <td>0.0</td>\n",
       "      <td>-0.269252</td>\n",
       "      <td>0.056238</td>\n",
       "      <td>0.000000</td>\n",
       "      <td>-0.269252</td>\n",
       "      <td>15067</td>\n",
       "      <td>B1597</td>\n",
       "    </tr>\n",
       "    <tr>\n",
       "      <th>2</th>\n",
       "      <td>NaN</td>\n",
       "      <td>[-0.26925225332783936, -0.26925225332783936, -...</td>\n",
       "      <td>[-0.26925225332783936, -0.26925225332783936, -...</td>\n",
       "      <td>CL1</td>\n",
       "      <td>BF</td>\n",
       "      <td>9</td>\n",
       "      <td>3</td>\n",
       "      <td>12</td>\n",
       "      <td>passive</td>\n",
       "      <td>0.0</td>\n",
       "      <td>0.0</td>\n",
       "      <td>-0.269252</td>\n",
       "      <td>0.082267</td>\n",
       "      <td>0.000000</td>\n",
       "      <td>-0.269252</td>\n",
       "      <td>15067</td>\n",
       "      <td>B1597</td>\n",
       "    </tr>\n",
       "  </tbody>\n",
       "</table>\n",
       "</div>"
      ],
      "text/plain": [
       "     0                                    all_z_score_cue  \\\n",
       "0  NaN  [-0.26925225332783936, -0.26925225332783936, -...   \n",
       "1  NaN  [-0.26925225332783936, -0.26925225332783936, -...   \n",
       "2  NaN  [-0.26925225332783936, -0.26925225332783936, -...   \n",
       "\n",
       "                               all_z_score_cue_shuff  cue interp interp_point  \\\n",
       "0  [-0.26925225332783936, -0.26925225332783936, -...  CR1     BF            9   \n",
       "1  [-0.26925225332783936, -0.26925225332783936, -...   NC     BF            9   \n",
       "2  [-0.26925225332783936, -0.26925225332783936, -...  CL1     BF            9   \n",
       "\n",
       "  n_spikerate_samples n_zscore_samples passive_active   sr  sr_shuffled  \\\n",
       "0                   5               12        passive  0.2          0.2   \n",
       "1                   4               12        passive  0.0          0.0   \n",
       "2                   3               12        passive  0.0          0.0   \n",
       "\n",
       "       sr_z  sr_z_diff_between  sr_z_diff_within  sr_z_shuffled   unit   bird  \n",
       "0 -0.217835           0.000000          0.082267      -0.217835  15067  B1597  \n",
       "1 -0.269252           0.056238          0.000000      -0.269252  15067  B1597  \n",
       "2 -0.269252           0.082267          0.000000      -0.269252  15067  B1597  "
      ]
     },
     "execution_count": 24,
     "metadata": {},
     "output_type": "execute_result"
    }
   ],
   "source": [
    "z_score_df[:3]"
   ]
  },
  {
   "cell_type": "code",
   "execution_count": 25,
   "id": "7feb72e0",
   "metadata": {
    "ExecuteTime": {
     "end_time": "2021-11-17T17:56:21.586080Z",
     "start_time": "2021-11-17T17:56:19.750075Z"
    }
   },
   "outputs": [
    {
     "name": "stdout",
     "output_type": "stream",
     "text": [
      "5412036\n",
      "1386186\n"
     ]
    }
   ],
   "source": [
    "z_score_df.interp_point.values.astype(float)\n",
    "# get side\n",
    "z_score_df['side'] = 'L'\n",
    "z_score_df.loc[z_score_df.interp_point.values.astype(float) > 7, 'side'] = 'R'\n",
    "\n",
    "# remove non-categorical units\n",
    "print(len(z_score_df))\n",
    "z_score_df = z_score_df.merge(unit_statistics_df, on = ['bird', 'unit'])\n",
    "print(len(z_score_df))"
   ]
  },
  {
   "cell_type": "code",
   "execution_count": 26,
   "id": "87d7d114",
   "metadata": {
    "ExecuteTime": {
     "end_time": "2021-11-17T17:56:21.634634Z",
     "start_time": "2021-11-17T17:56:21.590923Z"
    }
   },
   "outputs": [
    {
     "data": {
      "text/html": [
       "<div>\n",
       "<style scoped>\n",
       "    .dataframe tbody tr th:only-of-type {\n",
       "        vertical-align: middle;\n",
       "    }\n",
       "\n",
       "    .dataframe tbody tr th {\n",
       "        vertical-align: top;\n",
       "    }\n",
       "\n",
       "    .dataframe thead th {\n",
       "        text-align: right;\n",
       "    }\n",
       "</style>\n",
       "<table border=\"1\" class=\"dataframe\">\n",
       "  <thead>\n",
       "    <tr style=\"text-align: right;\">\n",
       "      <th></th>\n",
       "      <th>0</th>\n",
       "      <th>all_z_score_cue</th>\n",
       "      <th>all_z_score_cue_shuff</th>\n",
       "      <th>cue</th>\n",
       "      <th>interp</th>\n",
       "      <th>interp_point</th>\n",
       "      <th>n_spikerate_samples</th>\n",
       "      <th>n_zscore_samples</th>\n",
       "      <th>passive_active</th>\n",
       "      <th>sr_x</th>\n",
       "      <th>sr_shuffled</th>\n",
       "      <th>sr_z</th>\n",
       "      <th>sr_z_diff_between</th>\n",
       "      <th>sr_z_diff_within</th>\n",
       "      <th>sr_z_shuffled</th>\n",
       "      <th>unit</th>\n",
       "      <th>bird</th>\n",
       "      <th>side</th>\n",
       "      <th>n_cued_trials</th>\n",
       "      <th>estimated_nuclei</th>\n",
       "      <th>ML</th>\n",
       "      <th>AP</th>\n",
       "      <th>DV</th>\n",
       "      <th>categorical_unit</th>\n",
       "      <th>categoricality</th>\n",
       "      <th>sr_y</th>\n",
       "      <th>unit_type</th>\n",
       "    </tr>\n",
       "  </thead>\n",
       "  <tbody>\n",
       "    <tr>\n",
       "      <th>0</th>\n",
       "      <td>NaN</td>\n",
       "      <td>[1.0192866744183064, 1.3258006353487133, 1.325...</td>\n",
       "      <td>[2.245342518139934, 0.09974479162708595, 1.938...</td>\n",
       "      <td>NC</td>\n",
       "      <td>AE</td>\n",
       "      <td>1</td>\n",
       "      <td>26</td>\n",
       "      <td>81</td>\n",
       "      <td>passive</td>\n",
       "      <td>6.384615</td>\n",
       "      <td>6.076923</td>\n",
       "      <td>0.524149</td>\n",
       "      <td>1.089467</td>\n",
       "      <td>1.019295</td>\n",
       "      <td>0.429837</td>\n",
       "      <td>6499</td>\n",
       "      <td>B1597</td>\n",
       "      <td>L</td>\n",
       "      <td>597</td>\n",
       "      <td>Field_L</td>\n",
       "      <td>2510.25</td>\n",
       "      <td>2420.0</td>\n",
       "      <td>-682.499502</td>\n",
       "      <td>True</td>\n",
       "      <td>0.378167</td>\n",
       "      <td>5.80392</td>\n",
       "      <td>1</td>\n",
       "    </tr>\n",
       "    <tr>\n",
       "      <th>1</th>\n",
       "      <td>NaN</td>\n",
       "      <td>[1.938828557209527, -0.8197970911641346, -1.43...</td>\n",
       "      <td>[1.3258006353487133, 1.3258006353487133, -0.51...</td>\n",
       "      <td>CR1</td>\n",
       "      <td>AE</td>\n",
       "      <td>1</td>\n",
       "      <td>29</td>\n",
       "      <td>81</td>\n",
       "      <td>passive</td>\n",
       "      <td>5.206897</td>\n",
       "      <td>5.379310</td>\n",
       "      <td>0.163161</td>\n",
       "      <td>1.146253</td>\n",
       "      <td>1.020498</td>\n",
       "      <td>0.216009</td>\n",
       "      <td>6499</td>\n",
       "      <td>B1597</td>\n",
       "      <td>L</td>\n",
       "      <td>597</td>\n",
       "      <td>Field_L</td>\n",
       "      <td>2510.25</td>\n",
       "      <td>2420.0</td>\n",
       "      <td>-682.499502</td>\n",
       "      <td>True</td>\n",
       "      <td>0.378167</td>\n",
       "      <td>5.80392</td>\n",
       "      <td>1</td>\n",
       "    </tr>\n",
       "    <tr>\n",
       "      <th>2</th>\n",
       "      <td>NaN</td>\n",
       "      <td>[-0.8197970911641346, -0.8197970911641346, 0.0...</td>\n",
       "      <td>[1.0192866744183064, 1.0192866744183064, -1.43...</td>\n",
       "      <td>CL1</td>\n",
       "      <td>AE</td>\n",
       "      <td>1</td>\n",
       "      <td>26</td>\n",
       "      <td>81</td>\n",
       "      <td>passive</td>\n",
       "      <td>5.846154</td>\n",
       "      <td>5.961538</td>\n",
       "      <td>0.359103</td>\n",
       "      <td>1.020498</td>\n",
       "      <td>1.146253</td>\n",
       "      <td>0.394470</td>\n",
       "      <td>6499</td>\n",
       "      <td>B1597</td>\n",
       "      <td>L</td>\n",
       "      <td>597</td>\n",
       "      <td>Field_L</td>\n",
       "      <td>2510.25</td>\n",
       "      <td>2420.0</td>\n",
       "      <td>-682.499502</td>\n",
       "      <td>True</td>\n",
       "      <td>0.378167</td>\n",
       "      <td>5.80392</td>\n",
       "      <td>1</td>\n",
       "    </tr>\n",
       "  </tbody>\n",
       "</table>\n",
       "</div>"
      ],
      "text/plain": [
       "     0                                    all_z_score_cue  \\\n",
       "0  NaN  [1.0192866744183064, 1.3258006353487133, 1.325...   \n",
       "1  NaN  [1.938828557209527, -0.8197970911641346, -1.43...   \n",
       "2  NaN  [-0.8197970911641346, -0.8197970911641346, 0.0...   \n",
       "\n",
       "                               all_z_score_cue_shuff  cue interp interp_point  \\\n",
       "0  [2.245342518139934, 0.09974479162708595, 1.938...   NC     AE            1   \n",
       "1  [1.3258006353487133, 1.3258006353487133, -0.51...  CR1     AE            1   \n",
       "2  [1.0192866744183064, 1.0192866744183064, -1.43...  CL1     AE            1   \n",
       "\n",
       "  n_spikerate_samples n_zscore_samples passive_active      sr_x  sr_shuffled  \\\n",
       "0                  26               81        passive  6.384615     6.076923   \n",
       "1                  29               81        passive  5.206897     5.379310   \n",
       "2                  26               81        passive  5.846154     5.961538   \n",
       "\n",
       "       sr_z  sr_z_diff_between  sr_z_diff_within  sr_z_shuffled  unit   bird  \\\n",
       "0  0.524149           1.089467          1.019295       0.429837  6499  B1597   \n",
       "1  0.163161           1.146253          1.020498       0.216009  6499  B1597   \n",
       "2  0.359103           1.020498          1.146253       0.394470  6499  B1597   \n",
       "\n",
       "  side n_cued_trials estimated_nuclei       ML      AP          DV  \\\n",
       "0    L           597          Field_L  2510.25  2420.0 -682.499502   \n",
       "1    L           597          Field_L  2510.25  2420.0 -682.499502   \n",
       "2    L           597          Field_L  2510.25  2420.0 -682.499502   \n",
       "\n",
       "   categorical_unit  categoricality     sr_y  unit_type  \n",
       "0              True        0.378167  5.80392          1  \n",
       "1              True        0.378167  5.80392          1  \n",
       "2              True        0.378167  5.80392          1  "
      ]
     },
     "execution_count": 26,
     "metadata": {},
     "output_type": "execute_result"
    }
   ],
   "source": [
    "z_score_df[:3]"
   ]
  },
  {
   "cell_type": "markdown",
   "id": "4388e3e6",
   "metadata": {},
   "source": [
    "### Load interpolation dataframe"
   ]
  },
  {
   "cell_type": "code",
   "execution_count": 27,
   "id": "3bc3c76c",
   "metadata": {
    "ExecuteTime": {
     "end_time": "2021-11-17T17:56:25.255882Z",
     "start_time": "2021-11-17T17:56:21.636725Z"
    }
   },
   "outputs": [],
   "source": [
    "# pickled dataframes\n",
    "interp_df = pd.read_pickle(DATA_DIR / 'interp_df_melspec.pickle')"
   ]
  },
  {
   "cell_type": "code",
   "execution_count": 28,
   "id": "ee7694ee",
   "metadata": {
    "ExecuteTime": {
     "end_time": "2021-11-17T17:56:25.293933Z",
     "start_time": "2021-11-17T17:56:25.257728Z"
    }
   },
   "outputs": [],
   "source": [
    "# pickled dataframes\n",
    "stim_df = pd.read_pickle(DATA_DIR / 'stim_df_melspec.pickle')"
   ]
  },
  {
   "cell_type": "code",
   "execution_count": 29,
   "id": "cd010448",
   "metadata": {
    "ExecuteTime": {
     "end_time": "2021-11-17T17:56:25.488118Z",
     "start_time": "2021-11-17T17:56:25.295850Z"
    }
   },
   "outputs": [
    {
     "data": {
      "text/html": [
       "<div>\n",
       "<style scoped>\n",
       "    .dataframe tbody tr th:only-of-type {\n",
       "        vertical-align: middle;\n",
       "    }\n",
       "\n",
       "    .dataframe tbody tr th {\n",
       "        vertical-align: top;\n",
       "    }\n",
       "\n",
       "    .dataframe thead th {\n",
       "        text-align: right;\n",
       "    }\n",
       "</style>\n",
       "<table border=\"1\" class=\"dataframe\">\n",
       "  <thead>\n",
       "    <tr style=\"text-align: right;\">\n",
       "      <th></th>\n",
       "      <th>L</th>\n",
       "      <th>R</th>\n",
       "      <th>prop</th>\n",
       "      <th>pt</th>\n",
       "      <th>z</th>\n",
       "      <th>x_x_interp</th>\n",
       "      <th>x_z_interp</th>\n",
       "      <th>audio</th>\n",
       "      <th>mel_spec</th>\n",
       "    </tr>\n",
       "  </thead>\n",
       "  <tbody>\n",
       "    <tr>\n",
       "      <th>0</th>\n",
       "      <td>A</td>\n",
       "      <td>B</td>\n",
       "      <td>0.000000</td>\n",
       "      <td>0</td>\n",
       "      <td>[1.0914186239242554, -0.4693475067615509, -1.8...</td>\n",
       "      <td>[0.0, 0.0, 0.0, 0.0, 0.0, 0.0, 0.0, 0.0, 0.0, ...</td>\n",
       "      <td>[3.042301386813051e-06, 7.268283184203028e-07,...</td>\n",
       "      <td>[-12, -8, -44, -42, -54, -38, -39, -33, -48, -...</td>\n",
       "      <td>[[-39.531136, -39.316376, -38.798462, -38.2338...</td>\n",
       "    </tr>\n",
       "    <tr>\n",
       "      <th>1</th>\n",
       "      <td>A</td>\n",
       "      <td>B</td>\n",
       "      <td>0.007874</td>\n",
       "      <td>1</td>\n",
       "      <td>[1.070769041541993, -0.4643999143378941, -1.84...</td>\n",
       "      <td>[0.0, 0.0, 0.0, 0.0, 0.0, 0.0, 0.0, 0.0, 0.0, ...</td>\n",
       "      <td>[3.4460663300706074e-06, 8.483789883939608e-07...</td>\n",
       "      <td>[25, 31, 22, 15, -27, -39, -39, -52, -27, -27,...</td>\n",
       "      <td>[[-38.683086, -38.733887, -38.87696, -39.08884...</td>\n",
       "    </tr>\n",
       "  </tbody>\n",
       "</table>\n",
       "</div>"
      ],
      "text/plain": [
       "   L  R      prop pt                                                  z  \\\n",
       "0  A  B  0.000000  0  [1.0914186239242554, -0.4693475067615509, -1.8...   \n",
       "1  A  B  0.007874  1  [1.070769041541993, -0.4643999143378941, -1.84...   \n",
       "\n",
       "                                          x_x_interp  \\\n",
       "0  [0.0, 0.0, 0.0, 0.0, 0.0, 0.0, 0.0, 0.0, 0.0, ...   \n",
       "1  [0.0, 0.0, 0.0, 0.0, 0.0, 0.0, 0.0, 0.0, 0.0, ...   \n",
       "\n",
       "                                          x_z_interp  \\\n",
       "0  [3.042301386813051e-06, 7.268283184203028e-07,...   \n",
       "1  [3.4460663300706074e-06, 8.483789883939608e-07...   \n",
       "\n",
       "                                               audio  \\\n",
       "0  [-12, -8, -44, -42, -54, -38, -39, -33, -48, -...   \n",
       "1  [25, 31, 22, 15, -27, -39, -39, -52, -27, -27,...   \n",
       "\n",
       "                                            mel_spec  \n",
       "0  [[-39.531136, -39.316376, -38.798462, -38.2338...  \n",
       "1  [[-38.683086, -38.733887, -38.87696, -39.08884...  "
      ]
     },
     "execution_count": 29,
     "metadata": {},
     "output_type": "execute_result"
    }
   ],
   "source": [
    "interp_df[:2]"
   ]
  },
  {
   "cell_type": "code",
   "execution_count": null,
   "id": "3ebb2546",
   "metadata": {},
   "outputs": [],
   "source": []
  },
  {
   "cell_type": "code",
   "execution_count": 152,
   "id": "dbb0047b",
   "metadata": {
    "ExecuteTime": {
     "end_time": "2021-11-17T18:29:35.304092Z",
     "start_time": "2021-11-17T18:29:34.980489Z"
    }
   },
   "outputs": [
    {
     "data": {
      "text/plain": [
       "<matplotlib.image.AxesImage at 0x7fab1d3122d0>"
      ]
     },
     "execution_count": 152,
     "metadata": {},
     "output_type": "execute_result"
    },
    {
     "data": {
      "image/png": "[encoded data removed]",
      "text/plain": [
       "<Figure size 288x288 with 1 Axes>"
      ]
     },
     "metadata": {
      "needs_background": "light"
     },
     "output_type": "display_data"
    }
   ],
   "source": [
    "plt.matshow(interp_df.x_x_interp.values[0].reshape((128,128)))"
   ]
  },
  {
   "cell_type": "code",
   "execution_count": 30,
   "id": "113d8a42",
   "metadata": {
    "ExecuteTime": {
     "end_time": "2021-11-17T17:56:25.509203Z",
     "start_time": "2021-11-17T17:56:25.489622Z"
    }
   },
   "outputs": [],
   "source": [
    "audio = interp_df[(interp_df.L =='B') & (interp_df.R == 'F') & (interp_df.pt==127)].audio.values[0]"
   ]
  },
  {
   "cell_type": "code",
   "execution_count": 31,
   "id": "587c03f4",
   "metadata": {
    "ExecuteTime": {
     "end_time": "2021-11-17T17:56:25.612212Z",
     "start_time": "2021-11-17T17:56:25.510803Z"
    }
   },
   "outputs": [
    {
     "data": {
      "text/plain": [
       "(0.0, 43912.0, -36024.65, 35797.65)"
      ]
     },
     "execution_count": 31,
     "metadata": {},
     "output_type": "execute_result"
    },
    {
     "data": {
      "image/png": "[encoded data removed]",
      "text/plain": [
       "<Figure size 720x72 with 1 Axes>"
      ]
     },
     "metadata": {
      "needs_background": "light"
     },
     "output_type": "display_data"
    }
   ],
   "source": [
    "fig, ax = plt.subplots(figsize=(10,1))\n",
    "plt.plot(audio, lw=4, color = 'k')\n",
    "ax.set_xlim([0, len(audio)])\n",
    "ax.axis('off')"
   ]
  },
  {
   "cell_type": "markdown",
   "id": "1e48fcd3",
   "metadata": {},
   "source": [
    "### Create dataframe of samples per stimuli per unit"
   ]
  },
  {
   "cell_type": "code",
   "execution_count": 32,
   "id": "0d49c1f8",
   "metadata": {
    "ExecuteTime": {
     "end_time": "2021-11-17T17:56:25.637055Z",
     "start_time": "2021-11-17T17:56:25.614018Z"
    }
   },
   "outputs": [],
   "source": [
    "cues_to_plot = cues_this_unit = [\"CL1\", 'NC', 'CR1']"
   ]
  },
  {
   "cell_type": "code",
   "execution_count": 33,
   "id": "f9ff5e15",
   "metadata": {
    "ExecuteTime": {
     "end_time": "2021-11-17T18:04:03.570682Z",
     "start_time": "2021-11-17T17:56:25.638628Z"
    }
   },
   "outputs": [
    {
     "data": {
      "application/vnd.jupyter.widget-view+json": {
       "model_id": "283dcd8bb4dc409687d116c42d2357aa",
       "version_major": 2,
       "version_minor": 0
      },
      "text/plain": [
       "  0%|          | 0/9 [00:00<?, ?it/s]"
      ]
     },
     "metadata": {},
     "output_type": "display_data"
    },
    {
     "data": {
      "application/vnd.jupyter.widget-view+json": {
       "model_id": "",
       "version_major": 2,
       "version_minor": 0
      },
      "text/plain": [
       "  0%|          | 0/36 [00:00<?, ?it/s]"
      ]
     },
     "metadata": {},
     "output_type": "display_data"
    },
    {
     "data": {
      "application/vnd.jupyter.widget-view+json": {
       "model_id": "",
       "version_major": 2,
       "version_minor": 0
      },
      "text/plain": [
       "  0%|          | 0/49 [00:00<?, ?it/s]"
      ]
     },
     "metadata": {},
     "output_type": "display_data"
    },
    {
     "data": {
      "application/vnd.jupyter.widget-view+json": {
       "model_id": "",
       "version_major": 2,
       "version_minor": 0
      },
      "text/plain": [
       "0it [00:00, ?it/s]"
      ]
     },
     "metadata": {},
     "output_type": "display_data"
    },
    {
     "data": {
      "application/vnd.jupyter.widget-view+json": {
       "model_id": "",
       "version_major": 2,
       "version_minor": 0
      },
      "text/plain": [
       "  0%|          | 0/51 [00:00<?, ?it/s]"
      ]
     },
     "metadata": {},
     "output_type": "display_data"
    },
    {
     "data": {
      "application/vnd.jupyter.widget-view+json": {
       "model_id": "",
       "version_major": 2,
       "version_minor": 0
      },
      "text/plain": [
       "0it [00:00, ?it/s]"
      ]
     },
     "metadata": {},
     "output_type": "display_data"
    },
    {
     "data": {
      "application/vnd.jupyter.widget-view+json": {
       "model_id": "",
       "version_major": 2,
       "version_minor": 0
      },
      "text/plain": [
       "  0%|          | 0/137 [00:00<?, ?it/s]"
      ]
     },
     "metadata": {},
     "output_type": "display_data"
    },
    {
     "data": {
      "application/vnd.jupyter.widget-view+json": {
       "model_id": "",
       "version_major": 2,
       "version_minor": 0
      },
      "text/plain": [
       "  0%|          | 0/55 [00:00<?, ?it/s]"
      ]
     },
     "metadata": {},
     "output_type": "display_data"
    },
    {
     "data": {
      "application/vnd.jupyter.widget-view+json": {
       "model_id": "",
       "version_major": 2,
       "version_minor": 0
      },
      "text/plain": [
       "0it [00:00, ?it/s]"
      ]
     },
     "metadata": {},
     "output_type": "display_data"
    },
    {
     "data": {
      "application/vnd.jupyter.widget-view+json": {
       "model_id": "",
       "version_major": 2,
       "version_minor": 0
      },
      "text/plain": [
       "  0%|          | 0/166 [00:00<?, ?it/s]"
      ]
     },
     "metadata": {},
     "output_type": "display_data"
    }
   ],
   "source": [
    "sample_df = pd.DataFrame(\n",
    "    columns=[\n",
    "        \"bird\",\n",
    "        \"unit\",\n",
    "        \"interp_point\",\n",
    "        \"interp\",\n",
    "        \"n_samples\",\n",
    "        \"srz_diff\",\n",
    "        \"categoricality\",\n",
    "        \"estimated_nuclei\",\n",
    "    ]\n",
    ")\n",
    "for bird in tqdm(np.unique(z_score_df.bird.values)):\n",
    "    bird_df = z_score_df[z_score_df.cue.isin(cues_to_plot)]\n",
    "    bird_df = bird_df[bird_df.n_cued_trials > 2500]\n",
    "    bird_df = bird_df[bird_df.passive_active == \"active\"]\n",
    "    bird_df = bird_df[\n",
    "        [\n",
    "            \"cue\",\n",
    "            \"bird\",\n",
    "            \"unit\",\n",
    "            \"interp_point\",\n",
    "            \"n_spikerate_samples\",\n",
    "            \"interp\",\n",
    "            \"sr_z\",\n",
    "            \"categoricality\",\n",
    "            \"estimated_nuclei\",\n",
    "        ]\n",
    "    ][bird_df.bird == bird]\n",
    "    for unit in tqdm(np.unique(bird_df.unit.values), leave=False):\n",
    "        for interp in bird_df[bird_df.unit == unit].interp.unique():\n",
    "            for interp_point in bird_df[\n",
    "                (bird_df.unit == unit) & (bird_df.interp == interp)\n",
    "            ].interp_point.unique():\n",
    "                #try:\n",
    "                stim_df = bird_df[\n",
    "                    (bird_df.interp == interp)\n",
    "                    & (bird_df.unit == unit)\n",
    "                    & (bird_df.interp_point == interp_point)\n",
    "                ]\n",
    "                if len(stim_df) < 3:\n",
    "                    continue\n",
    "                n_samples = np.min(stim_df.n_spikerate_samples)\n",
    "                diff = (\n",
    "                    stim_df[stim_df.cue == cues_to_plot[0]].sr_z.values[0]\n",
    "                    - stim_df[stim_df.cue == cues_to_plot[-1]].sr_z.values[0]\n",
    "                )\n",
    "                sample_df.loc[len(sample_df)] = [\n",
    "                    bird,\n",
    "                    unit,\n",
    "                    interp_point,\n",
    "                    interp,\n",
    "                    n_samples,\n",
    "                    diff,\n",
    "                    bird_df[bird_df.unit == unit].categoricality.values[0],\n",
    "                    bird_df[bird_df.unit == unit].estimated_nuclei.values[0],\n",
    "                ]\n",
    "                #except:\n",
    "                #    print(bird, unit, interp_point)\n",
    "\n",
    "sample_df[\"side\"] = 'L'\n",
    "sample_df.loc[sample_df.interp_point > 7, 'side'] = 'R'\n",
    "sample_df = sample_df[np.isnan(sample_df.srz_diff) == False]"
   ]
  },
  {
   "cell_type": "code",
   "execution_count": 34,
   "id": "c80ae594",
   "metadata": {
    "ExecuteTime": {
     "end_time": "2021-11-17T18:04:03.610027Z",
     "start_time": "2021-11-17T18:04:03.572703Z"
    }
   },
   "outputs": [
    {
     "data": {
      "text/html": [
       "<div>\n",
       "<style scoped>\n",
       "    .dataframe tbody tr th:only-of-type {\n",
       "        vertical-align: middle;\n",
       "    }\n",
       "\n",
       "    .dataframe tbody tr th {\n",
       "        vertical-align: top;\n",
       "    }\n",
       "\n",
       "    .dataframe thead th {\n",
       "        text-align: right;\n",
       "    }\n",
       "</style>\n",
       "<table border=\"1\" class=\"dataframe\">\n",
       "  <thead>\n",
       "    <tr style=\"text-align: right;\">\n",
       "      <th></th>\n",
       "      <th>cue</th>\n",
       "      <th>bird</th>\n",
       "      <th>unit</th>\n",
       "      <th>interp_point</th>\n",
       "      <th>n_spikerate_samples</th>\n",
       "      <th>interp</th>\n",
       "      <th>sr_z</th>\n",
       "      <th>categoricality</th>\n",
       "      <th>estimated_nuclei</th>\n",
       "    </tr>\n",
       "  </thead>\n",
       "  <tbody>\n",
       "    <tr>\n",
       "      <th>414</th>\n",
       "      <td>CR1</td>\n",
       "      <td>B1597</td>\n",
       "      <td>14159</td>\n",
       "      <td>8</td>\n",
       "      <td>17</td>\n",
       "      <td>AE</td>\n",
       "      <td>0.331052</td>\n",
       "      <td>0.304897</td>\n",
       "      <td>Field_L</td>\n",
       "    </tr>\n",
       "    <tr>\n",
       "      <th>416</th>\n",
       "      <td>NC</td>\n",
       "      <td>B1597</td>\n",
       "      <td>14159</td>\n",
       "      <td>8</td>\n",
       "      <td>11</td>\n",
       "      <td>AE</td>\n",
       "      <td>0.608065</td>\n",
       "      <td>0.304897</td>\n",
       "      <td>Field_L</td>\n",
       "    </tr>\n",
       "    <tr>\n",
       "      <th>418</th>\n",
       "      <td>CL1</td>\n",
       "      <td>B1597</td>\n",
       "      <td>14159</td>\n",
       "      <td>8</td>\n",
       "      <td>10</td>\n",
       "      <td>AE</td>\n",
       "      <td>-0.345263</td>\n",
       "      <td>0.304897</td>\n",
       "      <td>Field_L</td>\n",
       "    </tr>\n",
       "  </tbody>\n",
       "</table>\n",
       "</div>"
      ],
      "text/plain": [
       "     cue   bird   unit interp_point n_spikerate_samples interp      sr_z  \\\n",
       "414  CR1  B1597  14159            8                  17     AE  0.331052   \n",
       "416   NC  B1597  14159            8                  11     AE  0.608065   \n",
       "418  CL1  B1597  14159            8                  10     AE -0.345263   \n",
       "\n",
       "     categoricality estimated_nuclei  \n",
       "414        0.304897          Field_L  \n",
       "416        0.304897          Field_L  \n",
       "418        0.304897          Field_L  "
      ]
     },
     "execution_count": 34,
     "metadata": {},
     "output_type": "execute_result"
    }
   ],
   "source": [
    "bird_df[:3]"
   ]
  },
  {
   "cell_type": "code",
   "execution_count": 35,
   "id": "a5369297",
   "metadata": {
    "ExecuteTime": {
     "end_time": "2021-11-17T18:04:03.645280Z",
     "start_time": "2021-11-17T18:04:03.611597Z"
    }
   },
   "outputs": [
    {
     "data": {
      "text/html": [
       "<div>\n",
       "<style scoped>\n",
       "    .dataframe tbody tr th:only-of-type {\n",
       "        vertical-align: middle;\n",
       "    }\n",
       "\n",
       "    .dataframe tbody tr th {\n",
       "        vertical-align: top;\n",
       "    }\n",
       "\n",
       "    .dataframe thead th {\n",
       "        text-align: right;\n",
       "    }\n",
       "</style>\n",
       "<table border=\"1\" class=\"dataframe\">\n",
       "  <thead>\n",
       "    <tr style=\"text-align: right;\">\n",
       "      <th></th>\n",
       "      <th>bird</th>\n",
       "      <th>unit</th>\n",
       "      <th>interp_point</th>\n",
       "      <th>interp</th>\n",
       "      <th>n_samples</th>\n",
       "      <th>srz_diff</th>\n",
       "      <th>categoricality</th>\n",
       "      <th>estimated_nuclei</th>\n",
       "      <th>side</th>\n",
       "    </tr>\n",
       "  </thead>\n",
       "  <tbody>\n",
       "    <tr>\n",
       "      <th>0</th>\n",
       "      <td>B1170</td>\n",
       "      <td>1027</td>\n",
       "      <td>9</td>\n",
       "      <td>AE</td>\n",
       "      <td>38</td>\n",
       "      <td>-0.206776</td>\n",
       "      <td>0.237348</td>\n",
       "      <td>CMM</td>\n",
       "      <td>R</td>\n",
       "    </tr>\n",
       "    <tr>\n",
       "      <th>1</th>\n",
       "      <td>B1170</td>\n",
       "      <td>1027</td>\n",
       "      <td>8</td>\n",
       "      <td>AE</td>\n",
       "      <td>39</td>\n",
       "      <td>0.019480</td>\n",
       "      <td>0.237348</td>\n",
       "      <td>CMM</td>\n",
       "      <td>R</td>\n",
       "    </tr>\n",
       "    <tr>\n",
       "      <th>2</th>\n",
       "      <td>B1170</td>\n",
       "      <td>1027</td>\n",
       "      <td>12</td>\n",
       "      <td>AE</td>\n",
       "      <td>28</td>\n",
       "      <td>0.137459</td>\n",
       "      <td>0.237348</td>\n",
       "      <td>CMM</td>\n",
       "      <td>R</td>\n",
       "    </tr>\n",
       "  </tbody>\n",
       "</table>\n",
       "</div>"
      ],
      "text/plain": [
       "    bird  unit interp_point interp n_samples  srz_diff  categoricality  \\\n",
       "0  B1170  1027            9     AE        38 -0.206776        0.237348   \n",
       "1  B1170  1027            8     AE        39  0.019480        0.237348   \n",
       "2  B1170  1027           12     AE        28  0.137459        0.237348   \n",
       "\n",
       "  estimated_nuclei side  \n",
       "0              CMM    R  \n",
       "1              CMM    R  \n",
       "2              CMM    R  "
      ]
     },
     "execution_count": 35,
     "metadata": {},
     "output_type": "execute_result"
    }
   ],
   "source": [
    "sample_df[:3]"
   ]
  },
  {
   "cell_type": "code",
   "execution_count": 36,
   "id": "9e4f89e9",
   "metadata": {
    "ExecuteTime": {
     "end_time": "2021-11-17T18:04:03.927868Z",
     "start_time": "2021-11-17T18:04:03.647084Z"
    }
   },
   "outputs": [
    {
     "data": {
      "text/plain": [
       "<matplotlib.collections.PathCollection at 0x7fab28d00dd0>"
      ]
     },
     "execution_count": 36,
     "metadata": {},
     "output_type": "execute_result"
    },
    {
     "data": {
      "image/png": "[encoded data removed]",
      "text/plain": [
       "<Figure size 432x288 with 1 Axes>"
      ]
     },
     "metadata": {
      "needs_background": "light"
     },
     "output_type": "display_data"
    }
   ],
   "source": [
    "plt.scatter(sample_df.n_samples.values, sample_df.srz_diff.values)"
   ]
  },
  {
   "cell_type": "markdown",
   "id": "f933e4f2",
   "metadata": {},
   "source": [
    "#### passive"
   ]
  },
  {
   "cell_type": "code",
   "execution_count": 37,
   "id": "c7983fb9",
   "metadata": {
    "ExecuteTime": {
     "end_time": "2021-11-17T18:05:39.600260Z",
     "start_time": "2021-11-17T18:04:03.929557Z"
    }
   },
   "outputs": [
    {
     "data": {
      "application/vnd.jupyter.widget-view+json": {
       "model_id": "7bf343d1d81843b88e7586ee3552f312",
       "version_major": 2,
       "version_minor": 0
      },
      "text/plain": [
       "  0%|          | 0/9 [00:00<?, ?it/s]"
      ]
     },
     "metadata": {},
     "output_type": "display_data"
    },
    {
     "data": {
      "application/vnd.jupyter.widget-view+json": {
       "model_id": "",
       "version_major": 2,
       "version_minor": 0
      },
      "text/plain": [
       "  0%|          | 0/36 [00:00<?, ?it/s]"
      ]
     },
     "metadata": {},
     "output_type": "display_data"
    },
    {
     "data": {
      "application/vnd.jupyter.widget-view+json": {
       "model_id": "",
       "version_major": 2,
       "version_minor": 0
      },
      "text/plain": [
       "  0%|          | 0/49 [00:00<?, ?it/s]"
      ]
     },
     "metadata": {},
     "output_type": "display_data"
    },
    {
     "data": {
      "application/vnd.jupyter.widget-view+json": {
       "model_id": "",
       "version_major": 2,
       "version_minor": 0
      },
      "text/plain": [
       "0it [00:00, ?it/s]"
      ]
     },
     "metadata": {},
     "output_type": "display_data"
    },
    {
     "data": {
      "application/vnd.jupyter.widget-view+json": {
       "model_id": "",
       "version_major": 2,
       "version_minor": 0
      },
      "text/plain": [
       "  0%|          | 0/51 [00:00<?, ?it/s]"
      ]
     },
     "metadata": {},
     "output_type": "display_data"
    },
    {
     "data": {
      "application/vnd.jupyter.widget-view+json": {
       "model_id": "",
       "version_major": 2,
       "version_minor": 0
      },
      "text/plain": [
       "0it [00:00, ?it/s]"
      ]
     },
     "metadata": {},
     "output_type": "display_data"
    },
    {
     "data": {
      "application/vnd.jupyter.widget-view+json": {
       "model_id": "",
       "version_major": 2,
       "version_minor": 0
      },
      "text/plain": [
       "  0%|          | 0/137 [00:00<?, ?it/s]"
      ]
     },
     "metadata": {},
     "output_type": "display_data"
    },
    {
     "data": {
      "application/vnd.jupyter.widget-view+json": {
       "model_id": "",
       "version_major": 2,
       "version_minor": 0
      },
      "text/plain": [
       "  0%|          | 0/55 [00:00<?, ?it/s]"
      ]
     },
     "metadata": {},
     "output_type": "display_data"
    },
    {
     "data": {
      "application/vnd.jupyter.widget-view+json": {
       "model_id": "",
       "version_major": 2,
       "version_minor": 0
      },
      "text/plain": [
       "0it [00:00, ?it/s]"
      ]
     },
     "metadata": {},
     "output_type": "display_data"
    },
    {
     "data": {
      "application/vnd.jupyter.widget-view+json": {
       "model_id": "",
       "version_major": 2,
       "version_minor": 0
      },
      "text/plain": [
       "  0%|          | 0/166 [00:00<?, ?it/s]"
      ]
     },
     "metadata": {},
     "output_type": "display_data"
    }
   ],
   "source": [
    "sample_df_passive = pd.DataFrame(\n",
    "    columns=[\n",
    "        \"bird\",\n",
    "        \"unit\",\n",
    "        \"interp_point\",\n",
    "        \"interp\",\n",
    "        \"n_samples\",\n",
    "        \"srz_diff\",\n",
    "        \"categoricality\",\n",
    "    ]\n",
    ")\n",
    "for bird in tqdm(np.unique(z_score_df.bird.values)):\n",
    "    #if bird != 'B1170':\n",
    "    #    continue\n",
    "    bird_df = z_score_df[z_score_df.cue.isin(cues_to_plot)]\n",
    "    bird_df = bird_df[bird_df.n_cued_trials > 2500]\n",
    "    bird_df = bird_df[bird_df.passive_active == \"passive\"]\n",
    "    bird_df = bird_df[\n",
    "        [\n",
    "            \"cue\",\n",
    "            \"bird\",\n",
    "            \"unit\",\n",
    "            \"interp_point\",\n",
    "            \"n_spikerate_samples\",\n",
    "            \"interp\",\n",
    "            \"sr_z\",\n",
    "            \"categoricality\",\n",
    "        ]\n",
    "    ][bird_df.bird == bird]\n",
    "    for unit in tqdm(np.unique(bird_df.unit.values), leave=False):\n",
    "        unit_df = bird_df[\n",
    "                    (bird_df.unit == unit)\n",
    "                ]\n",
    "        for interp in unit_df.interp.unique():\n",
    "            for interp_point in unit_df[(unit_df.interp == interp)\n",
    "            ].interp_point.unique():\n",
    "                #try:\n",
    "                stim_df = unit_df[\n",
    "                    (unit_df.interp == interp)\n",
    "                    & (unit_df.unit == unit)\n",
    "                    & (unit_df.interp_point == interp_point)\n",
    "                ]\n",
    "                \n",
    "                if len(stim_df) < 3:\n",
    "                    continue\n",
    "                n_samples = np.min(stim_df.n_spikerate_samples)\n",
    "                diff = (\n",
    "                    stim_df[stim_df.cue == cues_to_plot[0]].sr_z.values[0]\n",
    "                    - stim_df[stim_df.cue == cues_to_plot[-1]].sr_z.values[0]\n",
    "                )\n",
    "                sample_df_passive.loc[len(sample_df_passive)] = [\n",
    "                    bird,\n",
    "                    unit,\n",
    "                    interp_point,\n",
    "                    interp,\n",
    "                    n_samples,\n",
    "                    diff,\n",
    "                    bird_df[bird_df.unit == unit].categoricality.values[0],\n",
    "                ]\n",
    "                \n",
    "\n",
    "sample_df_passive[\"side\"] = 'L'\n",
    "sample_df_passive.loc[sample_df_passive.interp_point > 7, 'side'] = 'R'\n",
    "sample_df_passive = sample_df_passive[np.isnan(sample_df_passive.srz_diff) == False]"
   ]
  },
  {
   "cell_type": "code",
   "execution_count": 38,
   "id": "89487be2",
   "metadata": {
    "ExecuteTime": {
     "end_time": "2021-11-17T18:05:39.660629Z",
     "start_time": "2021-11-17T18:05:39.602023Z"
    }
   },
   "outputs": [
    {
     "data": {
      "text/html": [
       "<div>\n",
       "<style scoped>\n",
       "    .dataframe tbody tr th:only-of-type {\n",
       "        vertical-align: middle;\n",
       "    }\n",
       "\n",
       "    .dataframe tbody tr th {\n",
       "        vertical-align: top;\n",
       "    }\n",
       "\n",
       "    .dataframe thead th {\n",
       "        text-align: right;\n",
       "    }\n",
       "</style>\n",
       "<table border=\"1\" class=\"dataframe\">\n",
       "  <thead>\n",
       "    <tr style=\"text-align: right;\">\n",
       "      <th></th>\n",
       "      <th>bird</th>\n",
       "      <th>unit</th>\n",
       "      <th>interp_point</th>\n",
       "      <th>interp</th>\n",
       "      <th>n_samples_active</th>\n",
       "      <th>srz_diff_active</th>\n",
       "      <th>categoricality_active</th>\n",
       "      <th>estimated_nuclei</th>\n",
       "      <th>side_active</th>\n",
       "      <th>n_samples_passive</th>\n",
       "      <th>srz_diff_passive</th>\n",
       "      <th>categoricality_passive</th>\n",
       "      <th>side_passive</th>\n",
       "      <th>min_passive_active_samples</th>\n",
       "    </tr>\n",
       "  </thead>\n",
       "  <tbody>\n",
       "    <tr>\n",
       "      <th>0</th>\n",
       "      <td>B1170</td>\n",
       "      <td>1027</td>\n",
       "      <td>9</td>\n",
       "      <td>AE</td>\n",
       "      <td>38</td>\n",
       "      <td>-0.206776</td>\n",
       "      <td>0.237348</td>\n",
       "      <td>CMM</td>\n",
       "      <td>R</td>\n",
       "      <td>86</td>\n",
       "      <td>-0.095965</td>\n",
       "      <td>0.237348</td>\n",
       "      <td>R</td>\n",
       "      <td>38</td>\n",
       "    </tr>\n",
       "    <tr>\n",
       "      <th>1</th>\n",
       "      <td>B1170</td>\n",
       "      <td>1027</td>\n",
       "      <td>8</td>\n",
       "      <td>AE</td>\n",
       "      <td>39</td>\n",
       "      <td>0.019480</td>\n",
       "      <td>0.237348</td>\n",
       "      <td>CMM</td>\n",
       "      <td>R</td>\n",
       "      <td>79</td>\n",
       "      <td>0.226800</td>\n",
       "      <td>0.237348</td>\n",
       "      <td>R</td>\n",
       "      <td>39</td>\n",
       "    </tr>\n",
       "    <tr>\n",
       "      <th>2</th>\n",
       "      <td>B1170</td>\n",
       "      <td>1027</td>\n",
       "      <td>12</td>\n",
       "      <td>AE</td>\n",
       "      <td>28</td>\n",
       "      <td>0.137459</td>\n",
       "      <td>0.237348</td>\n",
       "      <td>CMM</td>\n",
       "      <td>R</td>\n",
       "      <td>80</td>\n",
       "      <td>-0.435841</td>\n",
       "      <td>0.237348</td>\n",
       "      <td>R</td>\n",
       "      <td>28</td>\n",
       "    </tr>\n",
       "  </tbody>\n",
       "</table>\n",
       "</div>"
      ],
      "text/plain": [
       "    bird  unit interp_point interp n_samples_active  srz_diff_active  \\\n",
       "0  B1170  1027            9     AE               38        -0.206776   \n",
       "1  B1170  1027            8     AE               39         0.019480   \n",
       "2  B1170  1027           12     AE               28         0.137459   \n",
       "\n",
       "   categoricality_active estimated_nuclei side_active n_samples_passive  \\\n",
       "0               0.237348              CMM           R                86   \n",
       "1               0.237348              CMM           R                79   \n",
       "2               0.237348              CMM           R                80   \n",
       "\n",
       "   srz_diff_passive  categoricality_passive side_passive  \\\n",
       "0         -0.095965                0.237348            R   \n",
       "1          0.226800                0.237348            R   \n",
       "2         -0.435841                0.237348            R   \n",
       "\n",
       "  min_passive_active_samples  \n",
       "0                         38  \n",
       "1                         39  \n",
       "2                         28  "
      ]
     },
     "execution_count": 38,
     "metadata": {},
     "output_type": "execute_result"
    }
   ],
   "source": [
    "sample_df = sample_df.merge(sample_df_passive, on = [\"bird\", \"unit\", \"interp_point\", \"interp\"], suffixes=('_active', '_passive'))\n",
    "sample_df[\"min_passive_active_samples\"] = np.min(\n",
    "    pd.concat([sample_df.n_samples_active, sample_df.n_samples_passive], axis=1).values,\n",
    "    axis=1,\n",
    ")\n",
    "sample_df[:3]"
   ]
  },
  {
   "cell_type": "markdown",
   "id": "8a3ae9d7",
   "metadata": {},
   "source": [
    "### Create a dataframe of unit info per bird"
   ]
  },
  {
   "cell_type": "code",
   "execution_count": 40,
   "id": "5eb437c5",
   "metadata": {
    "ExecuteTime": {
     "end_time": "2021-11-17T18:05:39.823784Z",
     "start_time": "2021-11-17T18:05:39.692587Z"
    }
   },
   "outputs": [
    {
     "data": {
      "image/png": "[encoded data removed]",
      "text/plain": [
       "<Figure size 1152x72 with 1 Axes>"
      ]
     },
     "metadata": {
      "needs_background": "light"
     },
     "output_type": "display_data"
    }
   ],
   "source": [
    "from matplotlib import gridspec\n",
    "\n",
    "import seaborn as sns\n",
    "import matplotlib\n",
    "from cdcp.visualization.colors import colors as cdcp_colors\n",
    "\n",
    "cmap = matplotlib.colors.LinearSegmentedColormap.from_list(\n",
    "    \"\", [cdcp_colors[\"reinforce\"][\"L\"][\"dark\"], cdcp_colors[\"reinforce\"][\"R\"][\"dark\"]]\n",
    ")\n",
    "pal = [cmap(i) for i in np.linspace(0, 1, n_interp_bins)]\n",
    "sns.palplot(pal)"
   ]
  },
  {
   "cell_type": "code",
   "execution_count": 41,
   "id": "781c4507",
   "metadata": {
    "ExecuteTime": {
     "end_time": "2021-11-17T18:05:40.320605Z",
     "start_time": "2021-11-17T18:05:39.825278Z"
    }
   },
   "outputs": [
    {
     "data": {
      "application/vnd.jupyter.widget-view+json": {
       "model_id": "aac65f6f87f846a3b64fae45c04b571b",
       "version_major": 2,
       "version_minor": 0
      },
      "text/plain": [
       "birds:   0%|          | 0/9 [00:00<?, ?it/s]"
      ]
     },
     "metadata": {},
     "output_type": "display_data"
    }
   ],
   "source": [
    "min_playbacks = 1000\n",
    "bird_stats = {}\n",
    "for bird, timestamp, sorter in tqdm(birds, desc='birds'):\n",
    "    spikesorting_folder = (\n",
    "        DATA_DIR / \"spikesorting\" / bird / birds_df.loc[bird].timestamp\n",
    "    )\n",
    "    recording_summary_df = pd.read_pickle(spikesorting_folder / \"recording_df.pickle\")\n",
    "\n",
    "    # get units that are to be merged\n",
    "    merged_units = pd.read_pickle(spikesorting_folder / \"unit_clusters2.pickle\")\n",
    "    merged_units = merged_units.sort_values(by=\"n_playbacks\", ascending=False)\n",
    "    merged_units = merged_units[\n",
    "        merged_units.n_playbacks.astype(\"float\") > min_playbacks\n",
    "    ]\n",
    "    merged_units = merged_units.set_index(\"cluster_id\")\n",
    "\n",
    "    bird_stats[bird] = {\n",
    "        'merged_units': merged_units,\n",
    "        'spikesorting_folder': spikesorting_folder,\n",
    "    }"
   ]
  },
  {
   "cell_type": "code",
   "execution_count": 100,
   "id": "bfcaa027",
   "metadata": {
    "ExecuteTime": {
     "end_time": "2021-11-17T18:20:10.616531Z",
     "start_time": "2021-11-17T18:20:10.586689Z"
    }
   },
   "outputs": [],
   "source": [
    "def zero_one_norm(x):\n",
    "    x = np.array(x).astype('float32')\n",
    "    return (x - np.min(x)) / (np.max(x) - np.min(x))"
   ]
  },
  {
   "cell_type": "code",
   "execution_count": 235,
   "id": "ff04a8b9",
   "metadata": {
    "ExecuteTime": {
     "end_time": "2021-11-17T20:09:21.673772Z",
     "start_time": "2021-11-17T20:09:21.615261Z"
    }
   },
   "outputs": [],
   "source": [
    "def plot_cued_spikevector(trial_aligned_spikes_active, trial_aligned_spikes_passive, interp, ip, n_samples, axi=0, nex=1):\n",
    "    fig = plt.figure(figsize=(3, 4))\n",
    "    gs = gridspec.GridSpec(5, nex, height_ratios=[1.5, 1,3, 1, 3], hspace=0)\n",
    "    # fig, axs = plt.subplots(ncols=nex, nrows=2, figsize=(20, 5))\n",
    "    # ax = axs[0, axi]\n",
    "    n_spikes_per_bin = int(n_samples)\n",
    "\n",
    "    # plot trial\n",
    "    \n",
    "    interp_df_row = interp_df[\n",
    "        (interp_df.L ==  interp[0])\n",
    "        & (interp_df.R == row.interp[1])\n",
    "        & ((interp_df.pt == trial_aligned_spikes_active.interp_point.values[0]))\n",
    "    ]\n",
    "    \n",
    "    audio = interp_df_row.audio.values[0]\n",
    "    \n",
    "    spec = interp_df_row.x_x_interp.values[0].reshape((128,128))\n",
    "    \n",
    "    ax0 = plt.subplot(gs[0,0])\n",
    "    ax0.set_xlim([0,2])\n",
    "    ax0.set_ylim([0,1])\n",
    "    \n",
    "    ax0.spines['left'].set_linewidth(5) \n",
    "    ax0.spines['right'].set_linewidth(5) \n",
    "    ax0.spines['bottom'].set_linewidth(0) \n",
    "    ax0.spines['top'].set_linewidth(5) \n",
    "    ax0.set_facecolor(\"k\")\n",
    "    #ax0.plot(np.linspace(1,2, len(audio)), zero_one_norm(audio), color = 'k')\n",
    "    ax0.matshow(spec, aspect='auto', extent = [1,2,0,1], cmap = \"afmhot\", origin='lower')\n",
    "    ax0.set_xticks([])\n",
    "    ax0.set_yticks([])\n",
    "    \n",
    "    for tdfi, trial_df in enumerate([trial_aligned_spikes_active, trial_aligned_spikes_passive]):\n",
    "        line = 0\n",
    "        ax = plt.subplot(gs[tdfi*2+2, axi])\n",
    "        ax2 = plt.subplot(gs[tdfi*2+1, axi])\n",
    "        ax2.set_xticks([])\n",
    "        #ax2.set_title([interp, ip])\n",
    "        for cue in cues_this_unit:\n",
    "            cue_df = trial_df[trial_df.cue == cue]\n",
    "            spike_times = cue_df.spike_times.values\n",
    "            if len(spike_times) == 0:\n",
    "                continue\n",
    "            samps = np.random.choice(len(spike_times), n_spikes_per_bin, replace=False)\n",
    "            for i, samp in enumerate(samps):\n",
    "                color = cdcp_colors[\"cue\"][cue[1]][\"dark\"]\n",
    "                ax.vlines(\n",
    "                    spike_times[samp][(spike_times[samp] > 1) & (spike_times[samp] <2)],\n",
    "                    ymin=(line),\n",
    "                    ymax=(line + 1),\n",
    "                    color=pal[int(ip)],\n",
    "                )\n",
    "                if cue == \"NC\":\n",
    "                    ax.vlines(\n",
    "                        1 + spike_times[samp][(spike_times[samp] < 1) & (spike_times[samp] > 0)],\n",
    "                        lw=1,\n",
    "                        ymin=(line),\n",
    "                        ymax=(line + 1),\n",
    "                        color=pal[int(ip)],\n",
    "                    )\n",
    "                else:\n",
    "                    color = cdcp_colors[\"cue\"][cue[1]][\"dark\"]\n",
    "                    ax.vlines(\n",
    "                        spike_times[samp][(spike_times[samp] < 1) & (spike_times[samp] > 0)],\n",
    "                        lw=1,\n",
    "                        ymin=(line),\n",
    "                        ymax=(line + 1),\n",
    "                        color=color,\n",
    "                    )\n",
    "                line += 1\n",
    "\n",
    "            # plot average\n",
    "            sts = [\n",
    "                get_spike_train_vector(\n",
    "                    row,\n",
    "                    nbins=100,\n",
    "                    gaussian_sigma_ms=25,\n",
    "                    return_gauss=True,\n",
    "                    no_cue=False,\n",
    "                    padding_s = 0.1\n",
    "                )\n",
    "                for idx, row in cue_df.iterrows()\n",
    "            ]\n",
    "            #breakme\n",
    "            spiketrain_avg = np.nanmean(sts, axis=0)\n",
    "            spiketrain_std = np.nanmean(sts, axis=0)\n",
    "            spiketrain_sem = spiketrain_std / np.sqrt(len(spiketrain_std))\n",
    "\n",
    "            ax2.plot(np.linspace(0,2, len(spiketrain_avg)), spiketrain_avg, color=cdcp_colors[\"cue_pal\"][cue], lw=1)\n",
    "            ax2.fill_between(\n",
    "                np.linspace(0,2, len(spiketrain_avg)),\n",
    "                spiketrain_avg - spiketrain_sem*3,\n",
    "                spiketrain_avg + spiketrain_sem*3,\n",
    "                color=cdcp_colors[\"cue_pal\"][cue],\n",
    "                alpha=0.25,\n",
    "            )\n",
    "            #breakme\n",
    "            ax2.set_xlim([0, 2])\n",
    "            ax.set_xlim([0, 2])\n",
    "            ax.set_ylim([0, n_spikes_per_bin * len(cues_this_unit)])\n",
    "            ax.set_yticks([])\n",
    "            ax2.set_yticks([])\n",
    "            ax.set_xticks([])\n",
    "            ax.set_yticks([])\n",
    "            ax.spines['left'].set_linewidth(5) \n",
    "            ax.spines['right'].set_linewidth(5) \n",
    "            ax.spines['bottom'].set_linewidth(5) \n",
    "            ax.spines['top'].set_linewidth(0) \n",
    "            ax2.spines['left'].set_linewidth(5) \n",
    "            ax2.spines['right'].set_linewidth(5) \n",
    "            ax2.spines['bottom'].set_linewidth(0) \n",
    "            ax2.spines['top'].set_linewidth(0) \n",
    "\n",
    "    return fig"
   ]
  },
  {
   "cell_type": "code",
   "execution_count": 228,
   "id": "bcad5eb7",
   "metadata": {
    "ExecuteTime": {
     "end_time": "2021-11-17T20:02:49.671374Z",
     "start_time": "2021-11-17T20:02:49.640779Z"
    }
   },
   "outputs": [],
   "source": [
    "from cdcp.spiketrain_analysis.spiketrain_utils import get_unit_spike_trains, bin_interp_points, get_spike_train_vector"
   ]
  },
  {
   "cell_type": "code",
   "execution_count": 229,
   "id": "ffdf6034",
   "metadata": {
    "ExecuteTime": {
     "end_time": "2021-11-17T20:02:49.697902Z",
     "start_time": "2021-11-17T20:02:49.673529Z"
    }
   },
   "outputs": [],
   "source": [
    "n_interp_point_bins = 16\n",
    "nex=100\n",
    "axi = 0"
   ]
  },
  {
   "cell_type": "code",
   "execution_count": 230,
   "id": "2702a21a",
   "metadata": {
    "ExecuteTime": {
     "end_time": "2021-11-17T20:02:49.899510Z",
     "start_time": "2021-11-17T20:02:49.853845Z"
    }
   },
   "outputs": [
    {
     "data": {
      "text/html": [
       "<div>\n",
       "<style scoped>\n",
       "    .dataframe tbody tr th:only-of-type {\n",
       "        vertical-align: middle;\n",
       "    }\n",
       "\n",
       "    .dataframe tbody tr th {\n",
       "        vertical-align: top;\n",
       "    }\n",
       "\n",
       "    .dataframe thead th {\n",
       "        text-align: right;\n",
       "    }\n",
       "</style>\n",
       "<table border=\"1\" class=\"dataframe\">\n",
       "  <thead>\n",
       "    <tr style=\"text-align: right;\">\n",
       "      <th></th>\n",
       "      <th>bird</th>\n",
       "      <th>unit</th>\n",
       "      <th>interp_point</th>\n",
       "      <th>interp</th>\n",
       "      <th>n_samples_active</th>\n",
       "      <th>srz_diff_active</th>\n",
       "      <th>categoricality_active</th>\n",
       "      <th>estimated_nuclei</th>\n",
       "      <th>side_active</th>\n",
       "      <th>n_samples_passive</th>\n",
       "      <th>srz_diff_passive</th>\n",
       "      <th>categoricality_passive</th>\n",
       "      <th>side_passive</th>\n",
       "      <th>min_passive_active_samples</th>\n",
       "    </tr>\n",
       "  </thead>\n",
       "  <tbody>\n",
       "    <tr>\n",
       "      <th>0</th>\n",
       "      <td>B1170</td>\n",
       "      <td>1027</td>\n",
       "      <td>9</td>\n",
       "      <td>AE</td>\n",
       "      <td>38</td>\n",
       "      <td>-0.206776</td>\n",
       "      <td>0.237348</td>\n",
       "      <td>CMM</td>\n",
       "      <td>R</td>\n",
       "      <td>86</td>\n",
       "      <td>-0.095965</td>\n",
       "      <td>0.237348</td>\n",
       "      <td>R</td>\n",
       "      <td>38</td>\n",
       "    </tr>\n",
       "    <tr>\n",
       "      <th>1</th>\n",
       "      <td>B1170</td>\n",
       "      <td>1027</td>\n",
       "      <td>8</td>\n",
       "      <td>AE</td>\n",
       "      <td>39</td>\n",
       "      <td>0.019480</td>\n",
       "      <td>0.237348</td>\n",
       "      <td>CMM</td>\n",
       "      <td>R</td>\n",
       "      <td>79</td>\n",
       "      <td>0.226800</td>\n",
       "      <td>0.237348</td>\n",
       "      <td>R</td>\n",
       "      <td>39</td>\n",
       "    </tr>\n",
       "    <tr>\n",
       "      <th>2</th>\n",
       "      <td>B1170</td>\n",
       "      <td>1027</td>\n",
       "      <td>12</td>\n",
       "      <td>AE</td>\n",
       "      <td>28</td>\n",
       "      <td>0.137459</td>\n",
       "      <td>0.237348</td>\n",
       "      <td>CMM</td>\n",
       "      <td>R</td>\n",
       "      <td>80</td>\n",
       "      <td>-0.435841</td>\n",
       "      <td>0.237348</td>\n",
       "      <td>R</td>\n",
       "      <td>28</td>\n",
       "    </tr>\n",
       "  </tbody>\n",
       "</table>\n",
       "</div>"
      ],
      "text/plain": [
       "    bird  unit interp_point interp n_samples_active  srz_diff_active  \\\n",
       "0  B1170  1027            9     AE               38        -0.206776   \n",
       "1  B1170  1027            8     AE               39         0.019480   \n",
       "2  B1170  1027           12     AE               28         0.137459   \n",
       "\n",
       "   categoricality_active estimated_nuclei side_active n_samples_passive  \\\n",
       "0               0.237348              CMM           R                86   \n",
       "1               0.237348              CMM           R                79   \n",
       "2               0.237348              CMM           R                80   \n",
       "\n",
       "   srz_diff_passive  categoricality_passive side_passive  \\\n",
       "0         -0.095965                0.237348            R   \n",
       "1          0.226800                0.237348            R   \n",
       "2         -0.435841                0.237348            R   \n",
       "\n",
       "  min_passive_active_samples  \n",
       "0                         38  \n",
       "1                         39  \n",
       "2                         28  "
      ]
     },
     "execution_count": 230,
     "metadata": {},
     "output_type": "execute_result"
    }
   ],
   "source": [
    "sample_df[:3]"
   ]
  },
  {
   "cell_type": "code",
   "execution_count": 231,
   "id": "362bbf80",
   "metadata": {
    "ExecuteTime": {
     "end_time": "2021-11-17T20:02:50.219251Z",
     "start_time": "2021-11-17T20:02:50.187623Z"
    }
   },
   "outputs": [],
   "source": [
    "units_to_sample = (\n",
    "    [\"B1170\", 1301, \"AE\", 7, \"CMM\"],\n",
    "    [\"B1597\", 4957, \"AE\", 14, \"Field_L\"],\n",
    "    [\"B1248\", 3228, \"BF\", 1, \"NCM\"],\n",
    "    [\"B1593\", 15834, \"AE\", 8, \"NCL\"],\n",
    ")"
   ]
  },
  {
   "cell_type": "code",
   "execution_count": 237,
   "id": "8f797f96",
   "metadata": {
    "ExecuteTime": {
     "end_time": "2021-11-17T20:10:08.810122Z",
     "start_time": "2021-11-17T20:10:08.778830Z"
    }
   },
   "outputs": [],
   "source": [
    "save_figs = True"
   ]
  },
  {
   "cell_type": "code",
   "execution_count": 238,
   "id": "43c043fd",
   "metadata": {
    "ExecuteTime": {
     "end_time": "2021-11-17T20:10:19.626850Z",
     "start_time": "2021-11-17T20:10:08.936667Z"
    }
   },
   "outputs": [
    {
     "name": "stdout",
     "output_type": "stream",
     "text": [
      "B1170 1301 AE 7 CMM\n"
     ]
    },
    {
     "data": {
      "application/vnd.jupyter.widget-view+json": {
       "model_id": "",
       "version_major": 2,
       "version_minor": 0
      },
      "text/plain": [
       "unit spike trains:   0%|          | 0/5 [00:00<?, ?it/s]"
      ]
     },
     "metadata": {},
     "output_type": "display_data"
    },
    {
     "data": {
      "image/png": "[encoded data removed]",
      "text/plain": [
       "<Figure size 216x288 with 5 Axes>"
      ]
     },
     "metadata": {},
     "output_type": "display_data"
    },
    {
     "name": "stdout",
     "output_type": "stream",
     "text": [
      "B1597 4957 AE 14 Field_L\n"
     ]
    },
    {
     "data": {
      "application/vnd.jupyter.widget-view+json": {
       "model_id": "",
       "version_major": 2,
       "version_minor": 0
      },
      "text/plain": [
       "unit spike trains:   0%|          | 0/33 [00:00<?, ?it/s]"
      ]
     },
     "metadata": {},
     "output_type": "display_data"
    },
    {
     "data": {
      "image/png": "[encoded data removed]",
      "text/plain": [
       "<Figure size 216x288 with 5 Axes>"
      ]
     },
     "metadata": {},
     "output_type": "display_data"
    },
    {
     "name": "stdout",
     "output_type": "stream",
     "text": [
      "B1248 3228 BF 1 NCM\n"
     ]
    },
    {
     "data": {
      "application/vnd.jupyter.widget-view+json": {
       "model_id": "",
       "version_major": 2,
       "version_minor": 0
      },
      "text/plain": [
       "unit spike trains:   0%|          | 0/3 [00:00<?, ?it/s]"
      ]
     },
     "metadata": {},
     "output_type": "display_data"
    },
    {
     "data": {
      "image/png": "[encoded data removed]",
      "text/plain": [
       "<Figure size 216x288 with 5 Axes>"
      ]
     },
     "metadata": {},
     "output_type": "display_data"
    },
    {
     "name": "stdout",
     "output_type": "stream",
     "text": [
      "B1593 15834 AE 8 NCL\n"
     ]
    },
    {
     "data": {
      "application/vnd.jupyter.widget-view+json": {
       "model_id": "",
       "version_major": 2,
       "version_minor": 0
      },
      "text/plain": [
       "unit spike trains:   0%|          | 0/8 [00:00<?, ?it/s]"
      ]
     },
     "metadata": {},
     "output_type": "display_data"
    },
    {
     "data": {
      "image/png": "[encoded data removed]",
      "text/plain": [
       "<Figure size 216x288 with 5 Axes>"
      ]
     },
     "metadata": {},
     "output_type": "display_data"
    }
   ],
   "source": [
    "for bird, unit, interpolation, interpolation_point, region in units_to_sample:\n",
    "    # unit info\n",
    "    unit_to_plot = unit \n",
    "    bird = bird\n",
    "    sorter = birds_df.loc[bird].sorter\n",
    "    sort_units = bird_stats[bird][\"merged_units\"].loc[int(unit_to_plot)].sort_units\n",
    "    spikesorting_folder = bird_stats[bird][\"spikesorting_folder\"]\n",
    "    \n",
    "    row = sample_df[(\n",
    "        (sample_df.bird == bird) & \n",
    "        (sample_df.unit == str(unit)) & \n",
    "        (sample_df.interp == interpolation) & \n",
    "        (sample_df.interp_point == interpolation_point) \n",
    "    )\n",
    "    ].iloc[0]\n",
    "    print(bird, unit, row.interp, row.interp_point, row.estimated_nuclei)\n",
    "\n",
    "    \n",
    "    # get trials\n",
    "    trial_aligned_spikes = get_unit_spike_trains(\n",
    "        sort_units,\n",
    "        spikesorting_folder,\n",
    "        sorter,\n",
    "        unit,\n",
    "        trial_aligned_spikes_folder=\"trial_aligned_spikes_padding_100ms\",\n",
    "    )\n",
    "    \n",
    "    # ensure interp point is an integer\n",
    "    trial_aligned_spikes[\"interp_point_binned\"] = bin_interp_points(\n",
    "        trial_aligned_spikes[\"interp_point\"].astype(int),\n",
    "        n_interp_point_bins,\n",
    "        flip_bins=True,\n",
    "    )\n",
    "    \n",
    "    # get individual trial dataframe\n",
    "    trial_aligned_spikes = trial_aligned_spikes[\n",
    "        (trial_aligned_spikes.interp_point_binned == row.interp_point)\n",
    "        & (trial_aligned_spikes.interp == row.interp)\n",
    "    ]\n",
    "    trial_aligned_spikes = trial_aligned_spikes[trial_aligned_spikes.cue.isin(cues_this_unit)]\n",
    "\n",
    "    \n",
    "    # remove passive\n",
    "    trial_aligned_spikes_active = trial_aligned_spikes[trial_aligned_spikes.passive == False]\n",
    "    trial_aligned_spikes_passive = trial_aligned_spikes[trial_aligned_spikes.passive]\n",
    "   \n",
    "    # plot\n",
    "    plot_cued_spikevector(\n",
    "        trial_aligned_spikes_active,\n",
    "        trial_aligned_spikes_passive,\n",
    "        interp=row.interp,\n",
    "        ip=row.interp_point,\n",
    "        n_samples=row.min_passive_active_samples,\n",
    "        axi=0,\n",
    "        nex=1,\n",
    "    )\n",
    "    \n",
    "    if save_figs:\n",
    "        ensure_dir((\n",
    "            FIGURE_DIR\n",
    "            / \"neural_results\"\n",
    "            / \"stimulus_spikerate\"\n",
    "        ))\n",
    "        save_fig(\n",
    "            FIGURE_DIR\n",
    "            / \"neural_results\"\n",
    "            / \"cue_spikerate\"\n",
    "            / \"sample-passive_active_{}_{}_{}_{}_{}\".format(bird, unit, interpolation, interpolation_point, region),\n",
    "            save_pdf=True,\n",
    "            save_png=True,\n",
    "        )  \n",
    "    \n",
    "    \n",
    "    plt.show()\n",
    "    # break"
   ]
  },
  {
   "cell_type": "code",
   "execution_count": 205,
   "id": "88e70c46",
   "metadata": {
    "ExecuteTime": {
     "end_time": "2021-11-17T19:56:41.354364Z",
     "start_time": "2021-11-17T19:56:41.323390Z"
    }
   },
   "outputs": [
    {
     "name": "stdout",
     "output_type": "stream",
     "text": [
      "B1170 1301 AE 9 Field_L\n"
     ]
    }
   ],
   "source": []
  },
  {
   "cell_type": "code",
   "execution_count": 223,
   "id": "6661952c",
   "metadata": {
    "ExecuteTime": {
     "end_time": "2021-11-17T20:01:07.044535Z",
     "start_time": "2021-11-17T20:00:54.137170Z"
    },
    "scrolled": true
   },
   "outputs": [
    {
     "name": "stdout",
     "output_type": "stream",
     "text": [
      "B1248 3676 AE 12 NCM\n"
     ]
    },
    {
     "data": {
      "application/vnd.jupyter.widget-view+json": {
       "model_id": "",
       "version_major": 2,
       "version_minor": 0
      },
      "text/plain": [
       "unit spike trains:   0%|          | 0/8 [00:00<?, ?it/s]"
      ]
     },
     "metadata": {},
     "output_type": "display_data"
    },
    {
     "data": {
      "image/png": "[encoded data removed]",
      "text/plain": [
       "<Figure size 216x288 with 5 Axes>"
      ]
     },
     "metadata": {},
     "output_type": "display_data"
    },
    {
     "name": "stdout",
     "output_type": "stream",
     "text": [
      "B1248 4112 BF 8 NCM\n"
     ]
    },
    {
     "data": {
      "application/vnd.jupyter.widget-view+json": {
       "model_id": "",
       "version_major": 2,
       "version_minor": 0
      },
      "text/plain": [
       "unit spike trains:   0%|          | 0/14 [00:00<?, ?it/s]"
      ]
     },
     "metadata": {},
     "output_type": "display_data"
    },
    {
     "data": {
      "image/png": "[encoded data removed]",
      "text/plain": [
       "<Figure size 216x288 with 5 Axes>"
      ]
     },
     "metadata": {},
     "output_type": "display_data"
    },
    {
     "name": "stdout",
     "output_type": "stream",
     "text": [
      "B1248 3676 AE 4 NCM\n"
     ]
    },
    {
     "data": {
      "application/vnd.jupyter.widget-view+json": {
       "model_id": "",
       "version_major": 2,
       "version_minor": 0
      },
      "text/plain": [
       "unit spike trains:   0%|          | 0/8 [00:00<?, ?it/s]"
      ]
     },
     "metadata": {},
     "output_type": "display_data"
    },
    {
     "data": {
      "image/png": "[encoded data removed]",
      "text/plain": [
       "<Figure size 216x288 with 5 Axes>"
      ]
     },
     "metadata": {},
     "output_type": "display_data"
    },
    {
     "name": "stdout",
     "output_type": "stream",
     "text": [
      "B1248 2503 BF 1 NCM\n"
     ]
    },
    {
     "data": {
      "application/vnd.jupyter.widget-view+json": {
       "model_id": "",
       "version_major": 2,
       "version_minor": 0
      },
      "text/plain": [
       "unit spike trains:   0%|          | 0/6 [00:00<?, ?it/s]"
      ]
     },
     "metadata": {},
     "output_type": "display_data"
    },
    {
     "data": {
      "image/png": "[encoded data removed]",
      "text/plain": [
       "<Figure size 216x288 with 5 Axes>"
      ]
     },
     "metadata": {},
     "output_type": "display_data"
    },
    {
     "name": "stdout",
     "output_type": "stream",
     "text": [
      "B1248 4112 AE 9 NCM\n"
     ]
    },
    {
     "data": {
      "application/vnd.jupyter.widget-view+json": {
       "model_id": "",
       "version_major": 2,
       "version_minor": 0
      },
      "text/plain": [
       "unit spike trains:   0%|          | 0/14 [00:00<?, ?it/s]"
      ]
     },
     "metadata": {},
     "output_type": "display_data"
    },
    {
     "data": {
      "image/png": "[encoded data removed]",
      "text/plain": [
       "<Figure size 216x288 with 5 Axes>"
      ]
     },
     "metadata": {},
     "output_type": "display_data"
    },
    {
     "name": "stdout",
     "output_type": "stream",
     "text": [
      "B1593 13962 BF 6 NCM\n"
     ]
    },
    {
     "data": {
      "application/vnd.jupyter.widget-view+json": {
       "model_id": "",
       "version_major": 2,
       "version_minor": 0
      },
      "text/plain": [
       "unit spike trains:   0%|          | 0/12 [00:00<?, ?it/s]"
      ]
     },
     "metadata": {},
     "output_type": "display_data"
    },
    {
     "data": {
      "image/png": "[encoded data removed]",
      "text/plain": [
       "<Figure size 216x288 with 5 Axes>"
      ]
     },
     "metadata": {},
     "output_type": "display_data"
    },
    {
     "name": "stdout",
     "output_type": "stream",
     "text": [
      "B1248 2503 AE 13 NCM\n"
     ]
    },
    {
     "data": {
      "application/vnd.jupyter.widget-view+json": {
       "model_id": "",
       "version_major": 2,
       "version_minor": 0
      },
      "text/plain": [
       "unit spike trains:   0%|          | 0/6 [00:00<?, ?it/s]"
      ]
     },
     "metadata": {},
     "output_type": "display_data"
    },
    {
     "data": {
      "image/png": "[encoded data removed]",
      "text/plain": [
       "<Figure size 216x288 with 5 Axes>"
      ]
     },
     "metadata": {},
     "output_type": "display_data"
    },
    {
     "name": "stdout",
     "output_type": "stream",
     "text": [
      "B1248 3676 BF 1 NCM\n"
     ]
    },
    {
     "data": {
      "application/vnd.jupyter.widget-view+json": {
       "model_id": "",
       "version_major": 2,
       "version_minor": 0
      },
      "text/plain": [
       "unit spike trains:   0%|          | 0/8 [00:00<?, ?it/s]"
      ]
     },
     "metadata": {},
     "output_type": "display_data"
    },
    {
     "data": {
      "image/png": "[encoded data removed]",
      "text/plain": [
       "<Figure size 216x288 with 5 Axes>"
      ]
     },
     "metadata": {},
     "output_type": "display_data"
    }
   ],
   "source": [
    "for idx, row in (\n",
    "    sample_df[(sample_df.min_passive_active_samples > 15) & ((sample_df.estimated_nuclei == \"NCM\"))]\n",
    "    .sort_values(by=\"min_passive_active_samples\", ascending=False)[:nex]\n",
    "    .iterrows()\n",
    "):\n",
    "    \n",
    "    # unit info\n",
    "    unit_to_plot = unit = row.unit\n",
    "    bird = row.bird\n",
    "    sorter = birds_df.loc[bird].sorter\n",
    "    sort_units = bird_stats[bird][\"merged_units\"].loc[int(unit_to_plot)].sort_units\n",
    "    spikesorting_folder = bird_stats[bird][\"spikesorting_folder\"]\n",
    "    print(bird, unit, row.interp, row.interp_point, row.estimated_nuclei)\n",
    "    # get trials\n",
    "    trial_aligned_spikes = get_unit_spike_trains(\n",
    "        sort_units,\n",
    "        spikesorting_folder,\n",
    "        sorter,\n",
    "        unit,\n",
    "        trial_aligned_spikes_folder=\"trial_aligned_spikes_padding_100ms\",\n",
    "    )\n",
    "    \n",
    "    # ensure interp point is an integer\n",
    "    trial_aligned_spikes[\"interp_point_binned\"] = bin_interp_points(\n",
    "        trial_aligned_spikes[\"interp_point\"].astype(int),\n",
    "        n_interp_point_bins,\n",
    "        flip_bins=True,\n",
    "    )\n",
    "    \n",
    "    # get individual trial dataframe\n",
    "    trial_aligned_spikes = trial_aligned_spikes[\n",
    "        (trial_aligned_spikes.interp_point_binned == row.interp_point)\n",
    "        & (trial_aligned_spikes.interp == row.interp)\n",
    "    ]\n",
    "    trial_aligned_spikes = trial_aligned_spikes[trial_aligned_spikes.cue.isin(cues_this_unit)]\n",
    "\n",
    "    \n",
    "    # remove passive\n",
    "    trial_aligned_spikes_active = trial_aligned_spikes[trial_aligned_spikes.passive == False]\n",
    "    trial_aligned_spikes_passive = trial_aligned_spikes[trial_aligned_spikes.passive]\n",
    "   \n",
    "    # plot\n",
    "    plot_cued_spikevector(\n",
    "        trial_aligned_spikes_active,\n",
    "        trial_aligned_spikes_passive,\n",
    "        interp=row.interp,\n",
    "        ip=row.interp_point,\n",
    "        n_samples=row.min_passive_active_samples,\n",
    "        axi=0,\n",
    "        nex=1,\n",
    "    )\n",
    "    plt.show()\n",
    "    # break"
   ]
  },
  {
   "cell_type": "code",
   "execution_count": null,
   "id": "493167b8",
   "metadata": {},
   "outputs": [],
   "source": []
  }
 ],
 "metadata": {
  "kernelspec": {
   "display_name": "cdcp_paper",
   "language": "python",
   "name": "cdcp_paper"
  },
  "language_info": {
   "codemirror_mode": {
    "name": "ipython",
    "version": 3
   },
   "file_extension": ".py",
   "mimetype": "text/x-python",
   "name": "python",
   "nbconvert_exporter": "python",
   "pygments_lexer": "ipython3",
   "version": "3.7.7"
  }
 },
 "nbformat": 4,
 "nbformat_minor": 5
}
