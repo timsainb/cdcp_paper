{
 "cells": [
  {
   "cell_type": "markdown",
   "id": "8aabb814",
   "metadata": {},
   "source": [
    "### Spikerate over time\n",
    "- computation: http://localhost:8187/notebooks/tsainbur/Projects/github_repos/cdcp_chronic/notebooks/neural-analysis/spiketrain_analyses/computations/3-compute-temporal-cuing-effect.ipynb\n",
    "- based on: http://localhost:8187/notebooks/tsainbur/Projects/github_repos/cdcp_chronic/notebooks/neural-analysis/spiketrain_analyses/analyses/analyze-temporal-cuing-effect.ipynb"
   ]
  },
  {
   "cell_type": "code",
   "execution_count": 1,
   "id": "75181005",
   "metadata": {
    "ExecuteTime": {
     "end_time": "2022-01-24T17:44:28.414151Z",
     "start_time": "2022-01-24T17:44:28.398349Z"
    }
   },
   "outputs": [],
   "source": [
    "%load_ext autoreload\n",
    "%autoreload 2"
   ]
  },
  {
   "cell_type": "code",
   "execution_count": 2,
   "id": "6b92b24f",
   "metadata": {
    "ExecuteTime": {
     "end_time": "2022-01-24T17:44:28.425305Z",
     "start_time": "2022-01-24T17:44:28.416391Z"
    }
   },
   "outputs": [],
   "source": [
    "import os\n",
    "# set to be lower priority\n",
    "#os.nice(1)"
   ]
  },
  {
   "cell_type": "code",
   "execution_count": 3,
   "id": "1e15a98e",
   "metadata": {
    "ExecuteTime": {
     "end_time": "2022-01-24T17:44:28.437369Z",
     "start_time": "2022-01-24T17:44:28.427365Z"
    }
   },
   "outputs": [],
   "source": [
    "interpolations = [\n",
    "        \"AE\",\n",
    "        \"AF\",\n",
    "        \"AG\",\n",
    "        \"AH\",\n",
    "        \"BE\",\n",
    "        \"BF\",\n",
    "        \"BG\",\n",
    "        \"BH\",\n",
    "        \"CE\",\n",
    "        \"CF\",\n",
    "        \"CG\",\n",
    "        \"CH\",\n",
    "        \"DE\",\n",
    "        \"DF\",\n",
    "        \"DG\",\n",
    "        \"DH\",\n",
    "    ]"
   ]
  },
  {
   "cell_type": "code",
   "execution_count": 4,
   "id": "077ede8c",
   "metadata": {
    "ExecuteTime": {
     "end_time": "2022-01-24T17:44:29.881685Z",
     "start_time": "2022-01-24T17:44:28.439122Z"
    }
   },
   "outputs": [
    {
     "name": "stderr",
     "output_type": "stream",
     "text": [
      "/home/AD/tsainbur/anaconda3/envs/cdcp_paper/lib/python3.7/site-packages/ipykernel_launcher.py:7: TqdmExperimentalWarning: Using `tqdm.autonotebook.tqdm` in notebook mode. Use `tqdm.tqdm` instead to force console mode (e.g. in jupyter console)\n",
      "  import sys\n"
     ]
    }
   ],
   "source": [
    "import pandas  as pd\n",
    "from cdcp.paths import DATA_DIR, ensure_dir\n",
    "import numpy as np\n",
    "import matplotlib.pyplot as plt\n",
    "import datetime\n",
    "from pathlib2 import Path\n",
    "from tqdm.autonotebook import tqdm\n",
    "pd.set_option('display.max_columns', 500)\n",
    "from joblib import Parallel, delayed\n",
    "from datetime import datetime\n",
    "from joblib import Parallel, delayed\n",
    "from functools import reduce\n",
    "from sklearn.decomposition import PCA\n",
    "from functools import reduce\n"
   ]
  },
  {
   "cell_type": "code",
   "execution_count": 5,
   "id": "2d8499da",
   "metadata": {
    "ExecuteTime": {
     "end_time": "2022-01-24T17:44:30.003053Z",
     "start_time": "2022-01-24T17:44:29.883684Z"
    }
   },
   "outputs": [],
   "source": [
    "from cdcp.visualization.colors import colors as cdcp_colors\n"
   ]
  },
  {
   "cell_type": "code",
   "execution_count": 6,
   "id": "58fa261b",
   "metadata": {
    "ExecuteTime": {
     "end_time": "2022-01-24T17:44:30.369513Z",
     "start_time": "2022-01-24T17:44:30.005923Z"
    }
   },
   "outputs": [],
   "source": [
    "import seaborn as sns\n",
    "from cdcp.behavior.psychometric import FourParameterLogistic, fit_FourParameterLogistic\n",
    "import scipy.stats\n",
    "from cdcp.spiketrain_analysis.neurometric import (\n",
    "    get_interp_points_dists_from_similarity_matrix,\n",
    ")"
   ]
  },
  {
   "cell_type": "code",
   "execution_count": 7,
   "id": "797a83ea",
   "metadata": {
    "ExecuteTime": {
     "end_time": "2022-01-24T17:44:30.400897Z",
     "start_time": "2022-01-24T17:44:30.374776Z"
    }
   },
   "outputs": [],
   "source": [
    "%matplotlib inline"
   ]
  },
  {
   "cell_type": "code",
   "execution_count": 8,
   "id": "e8b13287",
   "metadata": {
    "ExecuteTime": {
     "end_time": "2022-01-24T17:44:30.429132Z",
     "start_time": "2022-01-24T17:44:30.403603Z"
    }
   },
   "outputs": [
    {
     "data": {
      "text/plain": [
       "'2021-10-23_23-02-31_846685'"
      ]
     },
     "execution_count": 8,
     "metadata": {},
     "output_type": "execute_result"
    }
   ],
   "source": [
    "# \"2021-10-07_16-05-58_796914\" '2021-10-06_13-30-08_899062' '2021-10-01_17-02-56_744915' \n",
    "statistics_timestamp = '2021-10-23_23-02-31_846685'# datetime.now().strftime(\"%Y-%m-%d_%H-%M-%S_%f\")#\n",
    "statistics_timestamp"
   ]
  },
  {
   "cell_type": "code",
   "execution_count": 9,
   "id": "872e4598",
   "metadata": {
    "ExecuteTime": {
     "end_time": "2022-01-24T17:44:30.457423Z",
     "start_time": "2022-01-24T17:44:30.431464Z"
    }
   },
   "outputs": [],
   "source": [
    "birds = [\n",
    "    ('B1597', '2021-05-14_12-40-20_423998', 'kilosort2_5'),\n",
    "    ('B1188', '2021-05-31_18-52-29_558216', 'kilosort2_5'),\n",
    "    ('B1595', '2021-07-10_16-42-47_090257', 'kilosort2'),\n",
    "    #('B1276', '2021-07-14_11-14-02_257025', 'kilosort2'),\n",
    "    ('B1426', '2021-07-14_11-29-39_657273', 'kilosort2'),\n",
    "    ('B1432', '2021-06-01_15-14-38_561892', 'kilosort2_5'),\n",
    "    ('B1170', '2021-06-01_21-01-26_519005', 'kilosort2_5'),\n",
    "    ('B1244', '2021-07-14_12-57-45_546674', 'kilosort2'),\n",
    "    ('B1593', '2021-06-28_18-13-24_826008', 'kilosort2_5'),\n",
    "    ('B1248', '2021-07-03_18-08-01_063431', 'kilosort2_5'),\n",
    "    # acute\n",
    "    #('B1279', '2021-04-12_16-27-07_289527', 'kilosort2_5'),\n",
    "    #('B1500', '2021-08-27_09-24-48_680961', 'kilosort2_5'),\n",
    "    #('B1239', '2021-05-17_22-18-51_557635', 'kilosort2'),\n",
    "    #('B1459', '2021-08-26_21-21-12_755614', 'kilosort2_5'),\n",
    "]\n",
    "birds_df = pd.DataFrame(birds, columns = ['bird', 'timestamp', 'sorter']).set_index('bird')"
   ]
  },
  {
   "cell_type": "code",
   "execution_count": 10,
   "id": "081e151a",
   "metadata": {
    "ExecuteTime": {
     "end_time": "2022-01-24T17:44:30.480155Z",
     "start_time": "2022-01-24T17:44:30.459779Z"
    }
   },
   "outputs": [],
   "source": [
    "identifiers = ['spike_count',  'unit_location']# , "
   ]
  },
  {
   "cell_type": "code",
   "execution_count": 11,
   "id": "4e72d110",
   "metadata": {
    "ExecuteTime": {
     "end_time": "2022-01-24T17:44:30.502812Z",
     "start_time": "2022-01-24T17:44:30.482446Z"
    }
   },
   "outputs": [],
   "source": [
    "n_interp_bins = 16"
   ]
  },
  {
   "cell_type": "code",
   "execution_count": 12,
   "id": "425996e6",
   "metadata": {
    "ExecuteTime": {
     "end_time": "2022-01-24T17:44:31.089281Z",
     "start_time": "2022-01-24T17:44:30.505215Z"
    },
    "scrolled": false
   },
   "outputs": [
    {
     "data": {
      "application/vnd.jupyter.widget-view+json": {
       "model_id": "6a3b131ff4ca4ba392b0b3a78429c4b8",
       "version_major": 2,
       "version_minor": 0
      },
      "text/plain": [
       "birds:   0%|          | 0/9 [00:00<?, ?it/s]"
      ]
     },
     "metadata": {},
     "output_type": "display_data"
    },
    {
     "name": "stdout",
     "output_type": "stream",
     "text": [
      "B1597 nrows per [6750, 8711]\n",
      "B1188 nrows per [510, 821]\n",
      "B1595 nrows per [242, 325]\n",
      "B1426 nrows per [93, 180]\n",
      "B1432 nrows per [2157, 2364]\n",
      "B1170 nrows per [1281, 1693]\n",
      "B1244 nrows per [141, 150]\n",
      "B1593 nrows per [7714, 13260]\n",
      "B1248 nrows per [8698, 13184]\n"
     ]
    }
   ],
   "source": [
    "all_unit_statistics_df = []\n",
    "for bird, timestamp, sorter in tqdm(birds, desc=\"birds\"):\n",
    "\n",
    "    unit_statistics_df_list = []\n",
    "    for identifier in identifiers:\n",
    "        unit_statistics_df = pd.read_pickle(\n",
    "            DATA_DIR\n",
    "            / \"unit_statistics\"\n",
    "            / statistics_timestamp\n",
    "            / identifier\n",
    "            / \"{}.pickle\".format(bird)\n",
    "        )\n",
    "        unit_statistics_df_list.append(unit_statistics_df)\n",
    "    print(bird, \"nrows per\", [len(i) for i in unit_statistics_df_list])\n",
    "\n",
    "    # combine dfs\n",
    "    unit_statistics_df = reduce(\n",
    "        lambda x, y: pd.merge(x, y, on=\"unit\", how=\"outer\"), unit_statistics_df_list\n",
    "    )\n",
    "    unit_statistics_df[\"bird\"] = bird\n",
    "\n",
    "    all_unit_statistics_df.append(unit_statistics_df)\n",
    "unit_statistics_df = pd.concat(all_unit_statistics_df)"
   ]
  },
  {
   "cell_type": "code",
   "execution_count": 13,
   "id": "616a3abf",
   "metadata": {
    "ExecuteTime": {
     "end_time": "2022-01-24T17:44:31.118178Z",
     "start_time": "2022-01-24T17:44:31.091812Z"
    }
   },
   "outputs": [
    {
     "data": {
      "text/plain": [
       "40688"
      ]
     },
     "execution_count": 13,
     "metadata": {},
     "output_type": "execute_result"
    }
   ],
   "source": [
    "len(unit_statistics_df)"
   ]
  },
  {
   "cell_type": "code",
   "execution_count": 14,
   "id": "a38b3f07",
   "metadata": {
    "ExecuteTime": {
     "end_time": "2022-01-24T17:44:31.344539Z",
     "start_time": "2022-01-24T17:44:31.120397Z"
    }
   },
   "outputs": [
    {
     "name": "stdout",
     "output_type": "stream",
     "text": [
      "6720\n",
      "6720\n"
     ]
    }
   ],
   "source": [
    "# merge with categorical units\n",
    "categorical_units_df = pd.read_pickle(DATA_DIR / 'categorical_unit_01_23_22.pickle')\n",
    "categorical_units_df= categorical_units_df[categorical_units_df.categorical_unit == True]\n",
    "unit_statistics_df_cat = pd.merge(unit_statistics_df, categorical_units_df, on = ['bird', 'unit'])\n",
    "# subset categorical units\n",
    "#unit_statistics_df_cat = unit_statistics_df_cat[unit_statistics_df_cat.categorical_unit == True]\n",
    "unit_statistics_df = unit_statistics_df_cat\n",
    "print(len(unit_statistics_df))\n",
    "\n",
    "### merge with unit types\n",
    "unit_type_df = pd.read_pickle(DATA_DIR / \"unit_classes_01_23_22.pickle\")\n",
    "#unit_type_df = unit_type_df[[\"nuclei\",\"AP\",\"ML\",\"DV\",\"amplitude\",\"template_amplitude\",\"sr\",\"fw\",\"hw\",\"bird\",\"unit\"]]\n",
    "unit_statistics_df_ut = pd.merge(unit_statistics_df, unit_type_df, on = ['bird', 'unit'])\n",
    "unit_statistics_df = unit_statistics_df_ut\n",
    "print(len(unit_statistics_df))"
   ]
  },
  {
   "cell_type": "code",
   "execution_count": 15,
   "id": "92903942",
   "metadata": {
    "ExecuteTime": {
     "end_time": "2022-01-24T17:44:31.375092Z",
     "start_time": "2022-01-24T17:44:31.347305Z"
    }
   },
   "outputs": [
    {
     "data": {
      "text/plain": [
       "array(['n_trials', 'n_cued_trials', 'n_incorrect_trials',\n",
       "       'n_correct_trials', 'n_reward_trials', 'n_passive_trials',\n",
       "       'n_active_trials', 'n_spikes', 'unit', 'hemisphere',\n",
       "       'labeled_region', 'estimated_nuclei',\n",
       "       'distance_to_estimated_nuclei', 'ML', 'AP', 'DV', 'bird',\n",
       "       'categorical_unit', 'categoricality', 'fw', 'sr', 'unit_type',\n",
       "       'best_chan_templates', 'best_chan_templates_norm', 'amplitude'],\n",
       "      dtype=object)"
      ]
     },
     "execution_count": 15,
     "metadata": {},
     "output_type": "execute_result"
    }
   ],
   "source": [
    "unit_statistics_df.columns.values"
   ]
  },
  {
   "cell_type": "code",
   "execution_count": 16,
   "id": "22a74d63",
   "metadata": {
    "ExecuteTime": {
     "end_time": "2022-01-24T17:44:31.434624Z",
     "start_time": "2022-01-24T17:44:31.377236Z"
    }
   },
   "outputs": [
    {
     "data": {
      "text/html": [
       "<div>\n",
       "<style scoped>\n",
       "    .dataframe tbody tr th:only-of-type {\n",
       "        vertical-align: middle;\n",
       "    }\n",
       "\n",
       "    .dataframe tbody tr th {\n",
       "        vertical-align: top;\n",
       "    }\n",
       "\n",
       "    .dataframe thead th {\n",
       "        text-align: right;\n",
       "    }\n",
       "</style>\n",
       "<table border=\"1\" class=\"dataframe\">\n",
       "  <thead>\n",
       "    <tr style=\"text-align: right;\">\n",
       "      <th></th>\n",
       "      <th>n_trials</th>\n",
       "      <th>n_cued_trials</th>\n",
       "      <th>n_incorrect_trials</th>\n",
       "      <th>n_correct_trials</th>\n",
       "      <th>n_reward_trials</th>\n",
       "      <th>n_passive_trials</th>\n",
       "      <th>n_active_trials</th>\n",
       "      <th>n_spikes</th>\n",
       "      <th>unit</th>\n",
       "      <th>hemisphere</th>\n",
       "      <th>labeled_region</th>\n",
       "      <th>estimated_nuclei</th>\n",
       "      <th>distance_to_estimated_nuclei</th>\n",
       "      <th>ML</th>\n",
       "      <th>AP</th>\n",
       "      <th>DV</th>\n",
       "      <th>bird</th>\n",
       "      <th>categorical_unit</th>\n",
       "      <th>categoricality</th>\n",
       "      <th>fw</th>\n",
       "      <th>sr</th>\n",
       "      <th>unit_type</th>\n",
       "      <th>best_chan_templates</th>\n",
       "      <th>best_chan_templates_norm</th>\n",
       "      <th>amplitude</th>\n",
       "    </tr>\n",
       "  </thead>\n",
       "  <tbody>\n",
       "    <tr>\n",
       "      <th>0</th>\n",
       "      <td>7040</td>\n",
       "      <td>1178</td>\n",
       "      <td>258</td>\n",
       "      <td>1090</td>\n",
       "      <td>403</td>\n",
       "      <td>5597</td>\n",
       "      <td>1443</td>\n",
       "      <td>211131</td>\n",
       "      <td>6270</td>\n",
       "      <td>NaN</td>\n",
       "      <td>NaN</td>\n",
       "      <td>NCL</td>\n",
       "      <td>415.88</td>\n",
       "      <td>2917.25</td>\n",
       "      <td>2420.0</td>\n",
       "      <td>-722.499502</td>\n",
       "      <td>B1597</td>\n",
       "      <td>True</td>\n",
       "      <td>0.420068</td>\n",
       "      <td>70.0</td>\n",
       "      <td>19.505140</td>\n",
       "      <td>1</td>\n",
       "      <td>[29.0, 28.94094094094094, 28.88188188188188, 2...</td>\n",
       "      <td>[0.04162189031853942, 0.04153712653652313, 0.0...</td>\n",
       "      <td>-515.25</td>\n",
       "    </tr>\n",
       "    <tr>\n",
       "      <th>1</th>\n",
       "      <td>6206</td>\n",
       "      <td>1</td>\n",
       "      <td>0</td>\n",
       "      <td>0</td>\n",
       "      <td>0</td>\n",
       "      <td>6205</td>\n",
       "      <td>1</td>\n",
       "      <td>44958</td>\n",
       "      <td>935</td>\n",
       "      <td>NaN</td>\n",
       "      <td>NaN</td>\n",
       "      <td>Field_L</td>\n",
       "      <td>503.611</td>\n",
       "      <td>2344.25</td>\n",
       "      <td>2420.0</td>\n",
       "      <td>-822.499502</td>\n",
       "      <td>B1597</td>\n",
       "      <td>True</td>\n",
       "      <td>0.265302</td>\n",
       "      <td>86.0</td>\n",
       "      <td>7.202434</td>\n",
       "      <td>0</td>\n",
       "      <td>[29.5, 29.47047047047047, 29.44094094094094, 2...</td>\n",
       "      <td>[0.07603293844777533, 0.07595682940028006, 0.0...</td>\n",
       "      <td>-294.00</td>\n",
       "    </tr>\n",
       "    <tr>\n",
       "      <th>2</th>\n",
       "      <td>12810</td>\n",
       "      <td>1967</td>\n",
       "      <td>232</td>\n",
       "      <td>1925</td>\n",
       "      <td>521</td>\n",
       "      <td>10367</td>\n",
       "      <td>2443</td>\n",
       "      <td>218822</td>\n",
       "      <td>10839</td>\n",
       "      <td>NaN</td>\n",
       "      <td>NaN</td>\n",
       "      <td>CMM</td>\n",
       "      <td>250.448</td>\n",
       "      <td>1764.25</td>\n",
       "      <td>2420.0</td>\n",
       "      <td>-742.499502</td>\n",
       "      <td>B1597</td>\n",
       "      <td>True</td>\n",
       "      <td>0.296694</td>\n",
       "      <td>120.0</td>\n",
       "      <td>13.687375</td>\n",
       "      <td>0</td>\n",
       "      <td>[42.75, 42.779529529529526, 42.80905905905906,...</td>\n",
       "      <td>[0.1011863087601332, 0.10125620312487042, 0.10...</td>\n",
       "      <td>-314.00</td>\n",
       "    </tr>\n",
       "  </tbody>\n",
       "</table>\n",
       "</div>"
      ],
      "text/plain": [
       "  n_trials n_cued_trials n_incorrect_trials n_correct_trials n_reward_trials  \\\n",
       "0     7040          1178                258             1090             403   \n",
       "1     6206             1                  0                0               0   \n",
       "2    12810          1967                232             1925             521   \n",
       "\n",
       "  n_passive_trials n_active_trials n_spikes   unit hemisphere labeled_region  \\\n",
       "0             5597            1443   211131   6270        NaN            NaN   \n",
       "1             6205               1    44958    935        NaN            NaN   \n",
       "2            10367            2443   218822  10839        NaN            NaN   \n",
       "\n",
       "  estimated_nuclei distance_to_estimated_nuclei       ML      AP          DV  \\\n",
       "0              NCL                       415.88  2917.25  2420.0 -722.499502   \n",
       "1          Field_L                      503.611  2344.25  2420.0 -822.499502   \n",
       "2              CMM                      250.448  1764.25  2420.0 -742.499502   \n",
       "\n",
       "    bird  categorical_unit  categoricality     fw         sr  unit_type  \\\n",
       "0  B1597              True        0.420068   70.0  19.505140          1   \n",
       "1  B1597              True        0.265302   86.0   7.202434          0   \n",
       "2  B1597              True        0.296694  120.0  13.687375          0   \n",
       "\n",
       "                                 best_chan_templates  \\\n",
       "0  [29.0, 28.94094094094094, 28.88188188188188, 2...   \n",
       "1  [29.5, 29.47047047047047, 29.44094094094094, 2...   \n",
       "2  [42.75, 42.779529529529526, 42.80905905905906,...   \n",
       "\n",
       "                            best_chan_templates_norm  amplitude  \n",
       "0  [0.04162189031853942, 0.04153712653652313, 0.0...    -515.25  \n",
       "1  [0.07603293844777533, 0.07595682940028006, 0.0...    -294.00  \n",
       "2  [0.1011863087601332, 0.10125620312487042, 0.10...    -314.00  "
      ]
     },
     "execution_count": 16,
     "metadata": {},
     "output_type": "execute_result"
    }
   ],
   "source": [
    "unit_statistics_df[:3]"
   ]
  },
  {
   "cell_type": "markdown",
   "id": "8acdc348",
   "metadata": {},
   "source": [
    "### Get cuing info"
   ]
  },
  {
   "cell_type": "code",
   "execution_count": 17,
   "id": "793f1ba3",
   "metadata": {
    "ExecuteTime": {
     "end_time": "2022-01-24T17:47:49.883206Z",
     "start_time": "2022-01-24T17:44:31.436746Z"
    }
   },
   "outputs": [
    {
     "data": {
      "application/vnd.jupyter.widget-view+json": {
       "model_id": "22507bec81e54e2da241fbd0be1998fe",
       "version_major": 2,
       "version_minor": 0
      },
      "text/plain": [
       "birds:   0%|          | 0/9 [00:00<?, ?it/s]"
      ]
     },
     "metadata": {},
     "output_type": "display_data"
    },
    {
     "name": "stdout",
     "output_type": "stream",
     "text": [
      "B1597 475840\n",
      "B1188 27900\n",
      "B1595 5130\n",
      "B1426 329\n",
      "B1432 93385\n",
      "B1170 52278\n",
      "B1244 11274\n",
      "B1593 598682\n",
      "B1248 533216\n"
     ]
    }
   ],
   "source": [
    "all_cuing_df = []\n",
    "for bird, timestamp, sorter in tqdm(birds, desc=\"birds\"):\n",
    "\n",
    "    cuing_df = pd.read_pickle(\n",
    "        DATA_DIR\n",
    "        / \"unit_statistics\"\n",
    "        / statistics_timestamp\n",
    "        / \"temporal_cuing_25ms\"\n",
    "        / \"{}.pickle\".format(bird)\n",
    "    )\n",
    "    print(bird, len(cuing_df))\n",
    "    cuing_df[\"bird\"] = bird\n",
    "\n",
    "    all_cuing_df.append(cuing_df)\n",
    "diff_all  = pd.concat(all_cuing_df)"
   ]
  },
  {
   "cell_type": "code",
   "execution_count": 18,
   "id": "56dead1d",
   "metadata": {
    "ExecuteTime": {
     "end_time": "2022-01-24T17:47:51.261086Z",
     "start_time": "2022-01-24T17:47:49.902400Z"
    }
   },
   "outputs": [],
   "source": [
    "diff_all = diff_all.merge(unit_statistics_df, on = ['bird', 'unit'])"
   ]
  },
  {
   "cell_type": "code",
   "execution_count": 19,
   "id": "b261f375",
   "metadata": {
    "ExecuteTime": {
     "end_time": "2022-01-24T17:49:15.567751Z",
     "start_time": "2022-01-24T17:47:51.282652Z"
    }
   },
   "outputs": [
    {
     "data": {
      "application/vnd.jupyter.widget-view+json": {
       "model_id": "267866e9c0d84a548ad79d116488fe11",
       "version_major": 2,
       "version_minor": 0
      },
      "text/plain": [
       "  0%|          | 0/426089 [00:00<?, ?it/s]"
      ]
     },
     "metadata": {},
     "output_type": "display_data"
    },
    {
     "data": {
      "application/vnd.jupyter.widget-view+json": {
       "model_id": "18b062f3086e43b7a5bf0c6015996168",
       "version_major": 2,
       "version_minor": 0
      },
      "text/plain": [
       "  0%|          | 0/426089 [00:00<?, ?it/s]"
      ]
     },
     "metadata": {},
     "output_type": "display_data"
    },
    {
     "name": "stderr",
     "output_type": "stream",
     "text": [
      "/home/AD/tsainbur/anaconda3/envs/cdcp_paper/lib/python3.7/site-packages/ipykernel_launcher.py:7: RuntimeWarning: invalid value encountered in true_divide\n",
      "  import sys\n"
     ]
    }
   ],
   "source": [
    "diff_all[\"response_diff\"] = [\n",
    "    row[\"between\"] - row[\"within\"]\n",
    "    for idx, row in tqdm(diff_all.iterrows(), total=len(diff_all))\n",
    "]\n",
    "diff_all[\"response_ratio\"] = [\n",
    "    row[\"between\"] / (row[\"between\"] + row[\"within\"])\n",
    "    for idx, row in tqdm(diff_all.iterrows(), total=len(diff_all))\n",
    "]"
   ]
  },
  {
   "cell_type": "code",
   "execution_count": 20,
   "id": "af148115",
   "metadata": {
    "ExecuteTime": {
     "end_time": "2022-01-24T17:50:36.608917Z",
     "start_time": "2022-01-24T17:49:15.570408Z"
    }
   },
   "outputs": [
    {
     "data": {
      "application/vnd.jupyter.widget-view+json": {
       "model_id": "4b806544fcc549c18657f181efcf4997",
       "version_major": 2,
       "version_minor": 0
      },
      "text/plain": [
       "  0%|          | 0/426089 [00:00<?, ?it/s]"
      ]
     },
     "metadata": {},
     "output_type": "display_data"
    },
    {
     "data": {
      "application/vnd.jupyter.widget-view+json": {
       "model_id": "a41d7d0b44b445d888978d565ec45853",
       "version_major": 2,
       "version_minor": 0
      },
      "text/plain": [
       "  0%|          | 0/426089 [00:00<?, ?it/s]"
      ]
     },
     "metadata": {},
     "output_type": "display_data"
    },
    {
     "name": "stderr",
     "output_type": "stream",
     "text": [
      "/home/AD/tsainbur/anaconda3/envs/cdcp_paper/lib/python3.7/site-packages/ipykernel_launcher.py:7: RuntimeWarning: invalid value encountered in true_divide\n",
      "  import sys\n"
     ]
    }
   ],
   "source": [
    "diff_all[\"response_diff_permuted\"] = [\n",
    "    row[\"between_permuted\"] - row[\"within_permuted\"]\n",
    "    for idx, row in tqdm(diff_all.iterrows(), total=len(diff_all))\n",
    "]\n",
    "diff_all[\"response_ratio_permuted\"] = [\n",
    "    row[\"between_permuted\"] / (row[\"between_permuted\"] + row[\"within_permuted\"])\n",
    "    for idx, row in tqdm(diff_all.iterrows(), total=len(diff_all))\n",
    "]"
   ]
  },
  {
   "cell_type": "markdown",
   "id": "3c963036",
   "metadata": {},
   "source": [
    "### response difference"
   ]
  },
  {
   "cell_type": "code",
   "execution_count": 21,
   "id": "a870a3d4",
   "metadata": {
    "ExecuteTime": {
     "end_time": "2022-01-24T17:50:37.575521Z",
     "start_time": "2022-01-24T17:50:36.610981Z"
    }
   },
   "outputs": [],
   "source": [
    "diff_all = diff_all[diff_all.passive.isnull() == False]"
   ]
  },
  {
   "cell_type": "code",
   "execution_count": 22,
   "id": "f5860b1c",
   "metadata": {
    "ExecuteTime": {
     "end_time": "2022-01-24T17:50:37.622617Z",
     "start_time": "2022-01-24T17:50:37.577242Z"
    }
   },
   "outputs": [
    {
     "data": {
      "text/plain": [
       "array(['passive', 'active'], dtype=object)"
      ]
     },
     "execution_count": 22,
     "metadata": {},
     "output_type": "execute_result"
    }
   ],
   "source": [
    "diff_all.passive.unique()"
   ]
  },
  {
   "cell_type": "code",
   "execution_count": 29,
   "id": "1b6afe7e",
   "metadata": {
    "ExecuteTime": {
     "end_time": "2022-01-25T15:49:39.790035Z",
     "start_time": "2022-01-25T15:49:39.734072Z"
    }
   },
   "outputs": [
    {
     "data": {
      "text/plain": [
       "4722"
      ]
     },
     "execution_count": 29,
     "metadata": {},
     "output_type": "execute_result"
    }
   ],
   "source": [
    "len(diff_all.unit.unique())"
   ]
  },
  {
   "cell_type": "code",
   "execution_count": 28,
   "id": "3e2a2c06",
   "metadata": {
    "ExecuteTime": {
     "end_time": "2022-01-25T15:49:03.610105Z",
     "start_time": "2022-01-25T15:49:03.474641Z"
    }
   },
   "outputs": [
    {
     "data": {
      "text/html": [
       "<div>\n",
       "<style scoped>\n",
       "    .dataframe tbody tr th:only-of-type {\n",
       "        vertical-align: middle;\n",
       "    }\n",
       "\n",
       "    .dataframe tbody tr th {\n",
       "        vertical-align: top;\n",
       "    }\n",
       "\n",
       "    .dataframe thead th {\n",
       "        text-align: right;\n",
       "    }\n",
       "</style>\n",
       "<table border=\"1\" class=\"dataframe\">\n",
       "  <thead>\n",
       "    <tr style=\"text-align: right;\">\n",
       "      <th></th>\n",
       "      <th>0</th>\n",
       "      <th>between</th>\n",
       "      <th>between_permuted</th>\n",
       "      <th>between_rel</th>\n",
       "      <th>between_rel_permuted</th>\n",
       "      <th>cue</th>\n",
       "      <th>interp</th>\n",
       "      <th>ip</th>\n",
       "      <th>passive</th>\n",
       "      <th>unit</th>\n",
       "      <th>within</th>\n",
       "      <th>within_permuted</th>\n",
       "      <th>within_rel</th>\n",
       "      <th>within_rel_permuted</th>\n",
       "      <th>bird</th>\n",
       "      <th>n_trials</th>\n",
       "      <th>n_cued_trials</th>\n",
       "      <th>n_incorrect_trials</th>\n",
       "      <th>n_correct_trials</th>\n",
       "      <th>n_reward_trials</th>\n",
       "      <th>n_passive_trials</th>\n",
       "      <th>n_active_trials</th>\n",
       "      <th>n_spikes</th>\n",
       "      <th>hemisphere</th>\n",
       "      <th>labeled_region</th>\n",
       "      <th>estimated_nuclei</th>\n",
       "      <th>distance_to_estimated_nuclei</th>\n",
       "      <th>ML</th>\n",
       "      <th>AP</th>\n",
       "      <th>DV</th>\n",
       "      <th>categorical_unit</th>\n",
       "      <th>categoricality</th>\n",
       "      <th>fw</th>\n",
       "      <th>sr</th>\n",
       "      <th>unit_type</th>\n",
       "      <th>best_chan_templates</th>\n",
       "      <th>best_chan_templates_norm</th>\n",
       "      <th>amplitude</th>\n",
       "      <th>response_diff</th>\n",
       "      <th>response_ratio</th>\n",
       "      <th>response_diff_permuted</th>\n",
       "      <th>response_ratio_permuted</th>\n",
       "    </tr>\n",
       "  </thead>\n",
       "  <tbody>\n",
       "    <tr>\n",
       "      <th>0</th>\n",
       "      <td>NaN</td>\n",
       "      <td>[0.1553706720778889, 0.18304855632220546, 0.19...</td>\n",
       "      <td>[0.1585664788111069, 0.18485551726234484, 0.19...</td>\n",
       "      <td>[0.093623207149874, 0.10851887531945728, 0.114...</td>\n",
       "      <td>[-0.008604341472420382, -0.012558291962793098,...</td>\n",
       "      <td>CL1</td>\n",
       "      <td>BF</td>\n",
       "      <td>15</td>\n",
       "      <td>passive</td>\n",
       "      <td>13124</td>\n",
       "      <td>[0.20583397636996809, 0.23716243137310264, 0.2...</td>\n",
       "      <td>[0.14658860582563826, 0.1727260732411447, 0.18...</td>\n",
       "      <td>[-0.003956064931032236, -0.004910068850481238,...</td>\n",
       "      <td>[-0.03949044990920036, -0.0410372651036135, -0...</td>\n",
       "      <td>B1597</td>\n",
       "      <td>8246</td>\n",
       "      <td>2557</td>\n",
       "      <td>207</td>\n",
       "      <td>2804</td>\n",
       "      <td>799</td>\n",
       "      <td>5177</td>\n",
       "      <td>3069</td>\n",
       "      <td>123826</td>\n",
       "      <td>NaN</td>\n",
       "      <td>NaN</td>\n",
       "      <td>Field_L</td>\n",
       "      <td>590.197</td>\n",
       "      <td>2371.25</td>\n",
       "      <td>2420.0</td>\n",
       "      <td>-702.499502</td>\n",
       "      <td>True</td>\n",
       "      <td>0.348923</td>\n",
       "      <td>92.0</td>\n",
       "      <td>9.976387</td>\n",
       "      <td>0</td>\n",
       "      <td>[49.0, 49.0, 49.0, 49.0, 49.0, 49.0, 49.0, 49....</td>\n",
       "      <td>[0.11062260383792707, 0.11062260383792707, 0.1...</td>\n",
       "      <td>-359.0</td>\n",
       "      <td>[-0.05046330429207918, -0.05411387505089718, -...</td>\n",
       "      <td>[0.43014582659867956, 0.43561106606506117, 0.4...</td>\n",
       "      <td>[0.011977872985468624, 0.012129444021200142, 0...</td>\n",
       "      <td>[0.5196258781001913, 0.5169603865849489, 0.513...</td>\n",
       "    </tr>\n",
       "    <tr>\n",
       "      <th>1</th>\n",
       "      <td>NaN</td>\n",
       "      <td>[0.15537067207788893, 0.18304855632220546, 0.1...</td>\n",
       "      <td>[0.1585664788111069, 0.1848555172623448, 0.194...</td>\n",
       "      <td>[-0.09362320714987399, -0.10851887531945728, -...</td>\n",
       "      <td>[0.008604341472420382, 0.012558291962793103, 0...</td>\n",
       "      <td>CR1</td>\n",
       "      <td>BF</td>\n",
       "      <td>15</td>\n",
       "      <td>passive</td>\n",
       "      <td>13124</td>\n",
       "      <td>[0.08580318920728135, 0.10408694070621793, 0.1...</td>\n",
       "      <td>[0.1805343288068483, 0.2117910768047541, 0.223...</td>\n",
       "      <td>[0.011443192569440423, 0.016838484841175196, 0...</td>\n",
       "      <td>[0.007994053258890375, 0.003795664535058216, -...</td>\n",
       "      <td>B1597</td>\n",
       "      <td>8246</td>\n",
       "      <td>2557</td>\n",
       "      <td>207</td>\n",
       "      <td>2804</td>\n",
       "      <td>799</td>\n",
       "      <td>5177</td>\n",
       "      <td>3069</td>\n",
       "      <td>123826</td>\n",
       "      <td>NaN</td>\n",
       "      <td>NaN</td>\n",
       "      <td>Field_L</td>\n",
       "      <td>590.197</td>\n",
       "      <td>2371.25</td>\n",
       "      <td>2420.0</td>\n",
       "      <td>-702.499502</td>\n",
       "      <td>True</td>\n",
       "      <td>0.348923</td>\n",
       "      <td>92.0</td>\n",
       "      <td>9.976387</td>\n",
       "      <td>0</td>\n",
       "      <td>[49.0, 49.0, 49.0, 49.0, 49.0, 49.0, 49.0, 49....</td>\n",
       "      <td>[0.11062260383792707, 0.11062260383792707, 0.1...</td>\n",
       "      <td>-359.0</td>\n",
       "      <td>[0.06956748287060759, 0.07896161561598752, 0.0...</td>\n",
       "      <td>[0.6442268297648334, 0.6374988749791726, 0.626...</td>\n",
       "      <td>[-0.021967849995741418, -0.026935559542409282,...</td>\n",
       "      <td>[0.46760867343540613, 0.4660458958361146, 0.46...</td>\n",
       "    </tr>\n",
       "    <tr>\n",
       "      <th>2</th>\n",
       "      <td>NaN</td>\n",
       "      <td>[0.10202940941697669, 0.12026362449218611, 0.1...</td>\n",
       "      <td>[0.10505527007985, 0.13325837432970386, 0.1614...</td>\n",
       "      <td>[-0.036443470269473074, -0.042868586875414665,...</td>\n",
       "      <td>[-0.04316114966008151, -0.03788772884097362, -...</td>\n",
       "      <td>CL1</td>\n",
       "      <td>BF</td>\n",
       "      <td>15</td>\n",
       "      <td>active</td>\n",
       "      <td>13124</td>\n",
       "      <td>[0.08832679238480773, 0.10275424487090401, 0.1...</td>\n",
       "      <td>[0.09143924485261994, 0.1338180837092723, 0.18...</td>\n",
       "      <td>[0.0403359933808234, 0.05130299214070155, 0.05...</td>\n",
       "      <td>[0.042130400103534214, 0.03335903246618667, 0....</td>\n",
       "      <td>B1597</td>\n",
       "      <td>8246</td>\n",
       "      <td>2557</td>\n",
       "      <td>207</td>\n",
       "      <td>2804</td>\n",
       "      <td>799</td>\n",
       "      <td>5177</td>\n",
       "      <td>3069</td>\n",
       "      <td>123826</td>\n",
       "      <td>NaN</td>\n",
       "      <td>NaN</td>\n",
       "      <td>Field_L</td>\n",
       "      <td>590.197</td>\n",
       "      <td>2371.25</td>\n",
       "      <td>2420.0</td>\n",
       "      <td>-702.499502</td>\n",
       "      <td>True</td>\n",
       "      <td>0.348923</td>\n",
       "      <td>92.0</td>\n",
       "      <td>9.976387</td>\n",
       "      <td>0</td>\n",
       "      <td>[49.0, 49.0, 49.0, 49.0, 49.0, 49.0, 49.0, 49....</td>\n",
       "      <td>[0.11062260383792707, 0.11062260383792707, 0.1...</td>\n",
       "      <td>-359.0</td>\n",
       "      <td>[0.013702617032168962, 0.0175093796212821, 0.0...</td>\n",
       "      <td>[0.5359920425561898, 0.5392555530892807, 0.538...</td>\n",
       "      <td>[0.013616025227230058, -0.0005597093795684516,...</td>\n",
       "      <td>[0.5346473417639915, 0.49895215515497293, 0.47...</td>\n",
       "    </tr>\n",
       "  </tbody>\n",
       "</table>\n",
       "</div>"
      ],
      "text/plain": [
       "     0                                            between  \\\n",
       "0  NaN  [0.1553706720778889, 0.18304855632220546, 0.19...   \n",
       "1  NaN  [0.15537067207788893, 0.18304855632220546, 0.1...   \n",
       "2  NaN  [0.10202940941697669, 0.12026362449218611, 0.1...   \n",
       "\n",
       "                                    between_permuted  \\\n",
       "0  [0.1585664788111069, 0.18485551726234484, 0.19...   \n",
       "1  [0.1585664788111069, 0.1848555172623448, 0.194...   \n",
       "2  [0.10505527007985, 0.13325837432970386, 0.1614...   \n",
       "\n",
       "                                         between_rel  \\\n",
       "0  [0.093623207149874, 0.10851887531945728, 0.114...   \n",
       "1  [-0.09362320714987399, -0.10851887531945728, -...   \n",
       "2  [-0.036443470269473074, -0.042868586875414665,...   \n",
       "\n",
       "                                between_rel_permuted  cue interp  ip  passive  \\\n",
       "0  [-0.008604341472420382, -0.012558291962793098,...  CL1     BF  15  passive   \n",
       "1  [0.008604341472420382, 0.012558291962793103, 0...  CR1     BF  15  passive   \n",
       "2  [-0.04316114966008151, -0.03788772884097362, -...  CL1     BF  15   active   \n",
       "\n",
       "    unit                                             within  \\\n",
       "0  13124  [0.20583397636996809, 0.23716243137310264, 0.2...   \n",
       "1  13124  [0.08580318920728135, 0.10408694070621793, 0.1...   \n",
       "2  13124  [0.08832679238480773, 0.10275424487090401, 0.1...   \n",
       "\n",
       "                                     within_permuted  \\\n",
       "0  [0.14658860582563826, 0.1727260732411447, 0.18...   \n",
       "1  [0.1805343288068483, 0.2117910768047541, 0.223...   \n",
       "2  [0.09143924485261994, 0.1338180837092723, 0.18...   \n",
       "\n",
       "                                          within_rel  \\\n",
       "0  [-0.003956064931032236, -0.004910068850481238,...   \n",
       "1  [0.011443192569440423, 0.016838484841175196, 0...   \n",
       "2  [0.0403359933808234, 0.05130299214070155, 0.05...   \n",
       "\n",
       "                                 within_rel_permuted   bird n_trials  \\\n",
       "0  [-0.03949044990920036, -0.0410372651036135, -0...  B1597     8246   \n",
       "1  [0.007994053258890375, 0.003795664535058216, -...  B1597     8246   \n",
       "2  [0.042130400103534214, 0.03335903246618667, 0....  B1597     8246   \n",
       "\n",
       "  n_cued_trials n_incorrect_trials n_correct_trials n_reward_trials  \\\n",
       "0          2557                207             2804             799   \n",
       "1          2557                207             2804             799   \n",
       "2          2557                207             2804             799   \n",
       "\n",
       "  n_passive_trials n_active_trials n_spikes hemisphere labeled_region  \\\n",
       "0             5177            3069   123826        NaN            NaN   \n",
       "1             5177            3069   123826        NaN            NaN   \n",
       "2             5177            3069   123826        NaN            NaN   \n",
       "\n",
       "  estimated_nuclei distance_to_estimated_nuclei       ML      AP          DV  \\\n",
       "0          Field_L                      590.197  2371.25  2420.0 -702.499502   \n",
       "1          Field_L                      590.197  2371.25  2420.0 -702.499502   \n",
       "2          Field_L                      590.197  2371.25  2420.0 -702.499502   \n",
       "\n",
       "   categorical_unit  categoricality    fw        sr  unit_type  \\\n",
       "0              True        0.348923  92.0  9.976387          0   \n",
       "1              True        0.348923  92.0  9.976387          0   \n",
       "2              True        0.348923  92.0  9.976387          0   \n",
       "\n",
       "                                 best_chan_templates  \\\n",
       "0  [49.0, 49.0, 49.0, 49.0, 49.0, 49.0, 49.0, 49....   \n",
       "1  [49.0, 49.0, 49.0, 49.0, 49.0, 49.0, 49.0, 49....   \n",
       "2  [49.0, 49.0, 49.0, 49.0, 49.0, 49.0, 49.0, 49....   \n",
       "\n",
       "                            best_chan_templates_norm  amplitude  \\\n",
       "0  [0.11062260383792707, 0.11062260383792707, 0.1...     -359.0   \n",
       "1  [0.11062260383792707, 0.11062260383792707, 0.1...     -359.0   \n",
       "2  [0.11062260383792707, 0.11062260383792707, 0.1...     -359.0   \n",
       "\n",
       "                                       response_diff  \\\n",
       "0  [-0.05046330429207918, -0.05411387505089718, -...   \n",
       "1  [0.06956748287060759, 0.07896161561598752, 0.0...   \n",
       "2  [0.013702617032168962, 0.0175093796212821, 0.0...   \n",
       "\n",
       "                                      response_ratio  \\\n",
       "0  [0.43014582659867956, 0.43561106606506117, 0.4...   \n",
       "1  [0.6442268297648334, 0.6374988749791726, 0.626...   \n",
       "2  [0.5359920425561898, 0.5392555530892807, 0.538...   \n",
       "\n",
       "                              response_diff_permuted  \\\n",
       "0  [0.011977872985468624, 0.012129444021200142, 0...   \n",
       "1  [-0.021967849995741418, -0.026935559542409282,...   \n",
       "2  [0.013616025227230058, -0.0005597093795684516,...   \n",
       "\n",
       "                             response_ratio_permuted  \n",
       "0  [0.5196258781001913, 0.5169603865849489, 0.513...  \n",
       "1  [0.46760867343540613, 0.4660458958361146, 0.46...  \n",
       "2  [0.5346473417639915, 0.49895215515497293, 0.47...  "
      ]
     },
     "execution_count": 28,
     "metadata": {},
     "output_type": "execute_result"
    }
   ],
   "source": [
    "diff_all[:3]"
   ]
  },
  {
   "cell_type": "code",
   "execution_count": 27,
   "id": "636111c1",
   "metadata": {
    "ExecuteTime": {
     "end_time": "2022-01-25T15:48:58.486736Z",
     "start_time": "2022-01-25T15:48:58.457771Z"
    }
   },
   "outputs": [
    {
     "data": {
      "text/plain": [
       "426089"
      ]
     },
     "execution_count": 27,
     "metadata": {},
     "output_type": "execute_result"
    }
   ],
   "source": [
    "len(diff_all)"
   ]
  },
  {
   "cell_type": "code",
   "execution_count": 23,
   "id": "a939dbf3",
   "metadata": {
    "ExecuteTime": {
     "end_time": "2022-01-24T17:50:37.642223Z",
     "start_time": "2022-01-24T17:50:37.624192Z"
    }
   },
   "outputs": [],
   "source": [
    "from cdcp.paths import DATA_PATH_MAGPI, FIGURE_DIR, ensure_dir\n",
    "from cdcp.general import save_fig"
   ]
  },
  {
   "cell_type": "code",
   "execution_count": 24,
   "id": "08cb94ad",
   "metadata": {
    "ExecuteTime": {
     "end_time": "2022-01-24T17:50:37.660144Z",
     "start_time": "2022-01-24T17:50:37.643748Z"
    }
   },
   "outputs": [],
   "source": [
    "save_figs= True"
   ]
  },
  {
   "cell_type": "code",
   "execution_count": 25,
   "id": "f62af06b",
   "metadata": {
    "ExecuteTime": {
     "end_time": "2022-01-24T17:50:40.551543Z",
     "start_time": "2022-01-24T17:50:37.661605Z"
    }
   },
   "outputs": [
    {
     "data": {
      "image/png": "[encoded data removed]",
      "text/plain": [
       "<Figure size 360x360 with 1 Axes>"
      ]
     },
     "metadata": {
      "needs_background": "light"
     },
     "output_type": "display_data"
    }
   ],
   "source": [
    "fig, ax = plt.subplots(figsize=(5, 5))\n",
    "for p in diff_all.passive.unique():\n",
    "    r = np.stack(\n",
    "        diff_all[\n",
    "            (diff_all.passive == p)\n",
    "            & ((diff_all.cue.isin([\"CR1\", \"CL0\", \"CL1\", \"CR0\"])))\n",
    "        ].response_diff.values\n",
    "    )\n",
    "    if len(r) > 0:\n",
    "        mean = np.nanmean(r, axis=0) * 100 # scaled to Hz for 100 samples/second\n",
    "        std = np.nanstd(r, axis=0) * 100\n",
    "        count = np.sum(np.isnan(r) == False, axis=0) \n",
    "        sem = std / np.sqrt(count) \n",
    "        ls = \"dashed\" if p == \"passive\" else \"solid\"\n",
    "        ax.plot(np.linspace(0, 1, len(mean)), mean, ls=ls, label=p, lw=4, color=\"k\")\n",
    "        if True:\n",
    "            ax.fill_between(\n",
    "                np.linspace(0, 1, len(mean)),\n",
    "                mean - sem * 3,\n",
    "                mean + sem * 3,\n",
    "                ls=ls,\n",
    "                color=\"k\",\n",
    "                alpha=0.15,\n",
    "                lw=2,\n",
    "            )\n",
    "# ax.set_ylim([1e-3, 1e-1])\n",
    "ax.set_xlim([0, 1])\n",
    "ax.set_yticks([0, 0.8])\n",
    "ax.legend(frameon=False, fontsize=14)\n",
    "ax.axhline(0, ls=\"dotted\", color=\"k\", lw=3)\n",
    "# ax.set_yscale('log')\n",
    "[i.set_linewidth(6) for i in ax.spines.values()]\n",
    "ax.set_xlabel(\"Time (s)\", fontsize=14)\n",
    "ax.set_ylabel(\"Mean spike rate diff. \\n (Hz; between - within cues)\", fontsize=14)\n",
    "\n",
    "\n",
    "ensure_dir(FIGURE_DIR / 'neural-results' / 'spikerate')\n",
    "if save_figs:\n",
    "    save_fig(FIGURE_DIR / 'neural-results' / 'spikerate' / 'spikerate-temporal', save_pdf=True)\n",
    "plt.show()\n"
   ]
  },
  {
   "cell_type": "code",
   "execution_count": 26,
   "id": "e1d4b44e",
   "metadata": {
    "ExecuteTime": {
     "end_time": "2022-01-24T17:59:51.992308Z",
     "start_time": "2022-01-24T17:59:48.875641Z"
    }
   },
   "outputs": [
    {
     "data": {
      "image/png": "[encoded data removed]",
      "text/plain": [
       "<Figure size 360x360 with 1 Axes>"
      ]
     },
     "metadata": {
      "needs_background": "light"
     },
     "output_type": "display_data"
    }
   ],
   "source": [
    "fig, ax = plt.subplots(figsize=(5, 5))\n",
    "for p in diff_all.passive.unique():\n",
    "    r = np.stack(\n",
    "        diff_all[\n",
    "            (diff_all.passive == p)\n",
    "            & ((diff_all.cue.isin([\"CR1\", \"CL0\", \"CL1\", \"CR0\"])))\n",
    "        ].response_diff_permuted.values\n",
    "    )\n",
    "    if len(r) > 0:\n",
    "        mean = np.nanmean(r, axis=0) * 100 # scaled to Hz for 100 samples/second\n",
    "        std = np.nanstd(r, axis=0) * 100\n",
    "        count = np.sum(np.isnan(r) == False, axis=0) \n",
    "        sem = std / np.sqrt(count) \n",
    "        ls = \"dashed\" if p == \"passive\" else \"solid\"\n",
    "        ax.plot(np.linspace(0, 1, len(mean)), mean, ls=ls, label=p, lw=4, color=\"k\")\n",
    "        if True:\n",
    "            ax.fill_between(\n",
    "                np.linspace(0, 1, len(mean)),\n",
    "                mean - sem * 3,\n",
    "                mean + sem * 3,\n",
    "                ls=ls,\n",
    "                color=\"k\",\n",
    "                alpha=0.15,\n",
    "                lw=2,\n",
    "            )\n",
    "# ax.set_ylim([1e-3, 1e-1])\n",
    "ax.set_xlim([0, 1])\n",
    "ax.set_yticks([0, 0.8])\n",
    "ax.legend(frameon=False, fontsize=14)\n",
    "ax.axhline(0, ls=\"dotted\", color=\"k\", lw=3)\n",
    "# ax.set_yscale('log')\n",
    "[i.set_linewidth(6) for i in ax.spines.values()]\n",
    "ax.set_xlabel(\"Time (s)\", fontsize=14)\n",
    "ax.set_ylabel(\"Mean spike rate diff. \\n (Hz; between - within cues)\", fontsize=14)\n",
    "\n",
    "\n",
    "ensure_dir(FIGURE_DIR / 'neural-results' / 'spikerate')\n",
    "if save_figs:\n",
    "    save_fig(FIGURE_DIR / 'neural-results' / 'spikerate' / 'spikerate-temporal-permuted', save_pdf=True)\n",
    "plt.show()\n"
   ]
  },
  {
   "cell_type": "code",
   "execution_count": null,
   "id": "ec530d9c",
   "metadata": {},
   "outputs": [],
   "source": []
  }
 ],
 "metadata": {
  "kernelspec": {
   "display_name": "cdcp_paper",
   "language": "python",
   "name": "cdcp_paper"
  },
  "language_info": {
   "codemirror_mode": {
    "name": "ipython",
    "version": 3
   },
   "file_extension": ".py",
   "mimetype": "text/x-python",
   "name": "python",
   "nbconvert_exporter": "python",
   "pygments_lexer": "ipython3",
   "version": "3.10.15"
  }
 },
 "nbformat": 4,
 "nbformat_minor": 5
}
