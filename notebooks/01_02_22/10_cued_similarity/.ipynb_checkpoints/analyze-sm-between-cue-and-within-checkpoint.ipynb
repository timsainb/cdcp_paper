{
 "cells": [
  {
   "cell_type": "code",
   "execution_count": 1,
   "metadata": {
    "ExecuteTime": {
     "end_time": "2022-01-24T17:47:20.910367Z",
     "start_time": "2022-01-24T17:47:20.894460Z"
    }
   },
   "outputs": [],
   "source": [
    "%load_ext autoreload\n",
    "%autoreload 2"
   ]
  },
  {
   "cell_type": "code",
   "execution_count": 2,
   "metadata": {
    "ExecuteTime": {
     "end_time": "2022-01-24T17:47:20.921600Z",
     "start_time": "2022-01-24T17:47:20.912579Z"
    }
   },
   "outputs": [],
   "source": [
    "import os\n",
    "# set to be lower priority\n",
    "#os.nice(1)"
   ]
  },
  {
   "cell_type": "code",
   "execution_count": 3,
   "metadata": {
    "ExecuteTime": {
     "end_time": "2022-01-24T17:47:20.934611Z",
     "start_time": "2022-01-24T17:47:20.923683Z"
    }
   },
   "outputs": [],
   "source": [
    "interpolations = [\n",
    "        \"AE\",\n",
    "        \"AF\",\n",
    "        \"AG\",\n",
    "        \"AH\",\n",
    "        \"BE\",\n",
    "        \"BF\",\n",
    "        \"BG\",\n",
    "        \"BH\",\n",
    "        \"CE\",\n",
    "        \"CF\",\n",
    "        \"CG\",\n",
    "        \"CH\",\n",
    "        \"DE\",\n",
    "        \"DF\",\n",
    "        \"DG\",\n",
    "        \"DH\",\n",
    "    ]"
   ]
  },
  {
   "cell_type": "code",
   "execution_count": 4,
   "metadata": {
    "ExecuteTime": {
     "end_time": "2022-01-24T17:47:21.451644Z",
     "start_time": "2022-01-24T17:47:20.936428Z"
    }
   },
   "outputs": [
    {
     "name": "stderr",
     "output_type": "stream",
     "text": [
      "/mnt/cube/tsainbur/Projects/github_repos/cdcp_chronic/cdcp/general.py:6: TqdmExperimentalWarning: Using `tqdm.autonotebook.tqdm` in notebook mode. Use `tqdm.tqdm` instead to force console mode (e.g. in jupyter console)\n",
      "  from tqdm.autonotebook import tqdm\n"
     ]
    }
   ],
   "source": [
    "from cdcp.paths import DATA_PATH_MAGPI, FIGURE_DIR, ensure_dir\n",
    "from cdcp.general import save_fig"
   ]
  },
  {
   "cell_type": "code",
   "execution_count": 5,
   "metadata": {
    "ExecuteTime": {
     "end_time": "2022-01-24T17:47:22.429381Z",
     "start_time": "2022-01-24T17:47:21.453447Z"
    }
   },
   "outputs": [],
   "source": [
    "import pandas  as pd\n",
    "from cdcp.paths import DATA_DIR, ensure_dir\n",
    "import numpy as np\n",
    "import matplotlib.pyplot as plt\n",
    "import datetime\n",
    "from pathlib2 import Path\n",
    "from tqdm.autonotebook import tqdm\n",
    "pd.set_option('display.max_columns', 500)\n",
    "from joblib import Parallel, delayed\n",
    "from datetime import datetime\n",
    "from joblib import Parallel, delayed\n",
    "from functools import reduce\n",
    "from sklearn.decomposition import PCA\n",
    "from functools import reduce\n"
   ]
  },
  {
   "cell_type": "code",
   "execution_count": 6,
   "metadata": {
    "ExecuteTime": {
     "end_time": "2022-01-24T17:47:22.615518Z",
     "start_time": "2022-01-24T17:47:22.432590Z"
    }
   },
   "outputs": [],
   "source": [
    "import seaborn as sns\n",
    "from cdcp.behavior.psychometric import FourParameterLogistic, fit_FourParameterLogistic\n",
    "import scipy.stats\n",
    "from cdcp.spiketrain_analysis.neurometric import (\n",
    "    get_interp_points_dists_from_similarity_matrix,\n",
    ")"
   ]
  },
  {
   "cell_type": "code",
   "execution_count": 7,
   "metadata": {
    "ExecuteTime": {
     "end_time": "2022-01-24T17:47:22.643772Z",
     "start_time": "2022-01-24T17:47:22.618956Z"
    }
   },
   "outputs": [],
   "source": [
    "%matplotlib inline"
   ]
  },
  {
   "cell_type": "code",
   "execution_count": 8,
   "metadata": {
    "ExecuteTime": {
     "end_time": "2022-01-24T17:47:22.669238Z",
     "start_time": "2022-01-24T17:47:22.645544Z"
    }
   },
   "outputs": [
    {
     "data": {
      "text/plain": [
       "'2021-10-23_23-02-31_846685'"
      ]
     },
     "execution_count": 8,
     "metadata": {},
     "output_type": "execute_result"
    }
   ],
   "source": [
    "# \"2021-10-07_16-05-58_796914\" '2021-10-06_13-30-08_899062' '2021-10-01_17-02-56_744915' \n",
    "statistics_timestamp = '2021-10-23_23-02-31_846685'# datetime.now().strftime(\"%Y-%m-%d_%H-%M-%S_%f\")#\n",
    "statistics_timestamp"
   ]
  },
  {
   "cell_type": "code",
   "execution_count": 9,
   "metadata": {
    "ExecuteTime": {
     "end_time": "2022-01-24T17:47:22.695062Z",
     "start_time": "2022-01-24T17:47:22.670957Z"
    }
   },
   "outputs": [],
   "source": [
    "birds = [\n",
    "    ('B1597', '2021-05-14_12-40-20_423998', 'kilosort2_5'),\n",
    "    ('B1188', '2021-05-31_18-52-29_558216', 'kilosort2_5'),\n",
    "    ('B1595', '2021-07-10_16-42-47_090257', 'kilosort2'),\n",
    "    ('B1276', '2021-07-14_11-14-02_257025', 'kilosort2'),\n",
    "    ('B1426', '2021-07-14_11-29-39_657273', 'kilosort2'),\n",
    "    ('B1432', '2021-06-01_15-14-38_561892', 'kilosort2_5'),\n",
    "    ('B1170', '2021-06-01_21-01-26_519005', 'kilosort2_5'),\n",
    "    ('B1244', '2021-07-14_12-57-45_546674', 'kilosort2'),\n",
    "    ('B1593', '2021-06-28_18-13-24_826008', 'kilosort2_5'),\n",
    "    ('B1248', '2021-07-03_18-08-01_063431', 'kilosort2_5'),\n",
    "    # acute\n",
    "    #('B1279', '2021-04-12_16-27-07_289527', 'kilosort2_5'),\n",
    "    #('B1500', '2021-08-27_09-24-48_680961', 'kilosort2_5'),\n",
    "    #('B1239', '2021-05-17_22-18-51_557635', 'kilosort2'),\n",
    "    #('B1459', '2021-08-26_21-21-12_755614', 'kilosort2_5'),\n",
    "]\n",
    "birds_df = pd.DataFrame(birds, columns = ['bird', 'timestamp', 'sorter']).set_index('bird')"
   ]
  },
  {
   "cell_type": "code",
   "execution_count": 10,
   "metadata": {
    "ExecuteTime": {
     "end_time": "2022-01-24T17:47:22.716245Z",
     "start_time": "2022-01-24T17:47:22.696777Z"
    }
   },
   "outputs": [],
   "source": [
    "identifiers = ['spike_count', 'unit_location']# , "
   ]
  },
  {
   "cell_type": "code",
   "execution_count": 11,
   "metadata": {
    "ExecuteTime": {
     "end_time": "2022-01-24T17:47:22.740840Z",
     "start_time": "2022-01-24T17:47:22.717959Z"
    }
   },
   "outputs": [],
   "source": [
    "n_interp_bins = 16"
   ]
  },
  {
   "cell_type": "code",
   "execution_count": 12,
   "metadata": {
    "ExecuteTime": {
     "end_time": "2022-01-24T17:47:23.231154Z",
     "start_time": "2022-01-24T17:47:22.742628Z"
    },
    "scrolled": false
   },
   "outputs": [
    {
     "data": {
      "application/vnd.jupyter.widget-view+json": {
       "model_id": "74708487b5204ed7a86accadbb44a229",
       "version_major": 2,
       "version_minor": 0
      },
      "text/plain": [
       "birds:   0%|          | 0/10 [00:00<?, ?it/s]"
      ]
     },
     "metadata": {},
     "output_type": "display_data"
    },
    {
     "name": "stdout",
     "output_type": "stream",
     "text": [
      "B1597 nrows per [6750, 8711]\n",
      "B1188 nrows per [510, 821]\n",
      "B1595 nrows per [242, 325]\n",
      "B1276 nrows per [46, 57]\n",
      "B1426 nrows per [93, 180]\n",
      "B1432 nrows per [2157, 2364]\n",
      "B1170 nrows per [1281, 1693]\n",
      "B1244 nrows per [141, 150]\n",
      "B1593 nrows per [7714, 13260]\n",
      "B1248 nrows per [8698, 13184]\n"
     ]
    }
   ],
   "source": [
    "all_unit_statistics_df= []\n",
    "for bird, timestamp, sorter in tqdm(birds, desc='birds'):\n",
    "    \n",
    "    unit_statistics_df_list = []\n",
    "    for identifier in identifiers:\n",
    "\n",
    "        unit_statistics_df = pd.read_pickle(\n",
    "            DATA_DIR\n",
    "            / \"unit_statistics\"\n",
    "            / statistics_timestamp\n",
    "            / identifier\n",
    "            / \"{}.pickle\".format(bird)\n",
    "        )\n",
    "        unit_statistics_df_list.append(unit_statistics_df)\n",
    "        \n",
    "    print(bird, 'nrows per', [len(i) for i in unit_statistics_df_list])\n",
    "    \n",
    "    # combine dfs\n",
    "    unit_statistics_df = reduce(lambda x, y: pd.merge(x, y, on = 'unit', how='outer'), unit_statistics_df_list)\n",
    "    unit_statistics_df['bird'] = bird\n",
    "    \n",
    "    all_unit_statistics_df.append(unit_statistics_df)\n",
    "    \n",
    "unit_statistics_df = pd.concat(all_unit_statistics_df)"
   ]
  },
  {
   "cell_type": "code",
   "execution_count": 13,
   "metadata": {
    "ExecuteTime": {
     "end_time": "2022-01-24T17:47:23.449809Z",
     "start_time": "2022-01-24T17:47:23.233140Z"
    }
   },
   "outputs": [
    {
     "name": "stdout",
     "output_type": "stream",
     "text": [
      "6754\n",
      "6754\n"
     ]
    }
   ],
   "source": [
    "# merge with categorical units\n",
    "categorical_units_df = pd.read_pickle(DATA_DIR / 'categorical_unit_01_23_22.pickle')\n",
    "categorical_units_df= categorical_units_df[categorical_units_df.categorical_unit == True]\n",
    "unit_statistics_df_cat = pd.merge(unit_statistics_df, categorical_units_df, on = ['bird', 'unit'])\n",
    "# subset categorical units\n",
    "#unit_statistics_df_cat = unit_statistics_df_cat[unit_statistics_df_cat.categorical_unit == True]\n",
    "unit_statistics_df = unit_statistics_df_cat\n",
    "print(len(unit_statistics_df))\n",
    "\n",
    "### merge with unit types\n",
    "unit_type_df = pd.read_pickle(DATA_DIR / \"unit_classes_01_23_22.pickle\")\n",
    "#unit_type_df = unit_type_df[[\"nuclei\",\"AP\",\"ML\",\"DV\",\"amplitude\",\"template_amplitude\",\"sr\",\"fw\",\"hw\",\"bird\",\"unit\"]]\n",
    "unit_statistics_df_ut = pd.merge(unit_statistics_df, unit_type_df, on = ['bird', 'unit'])\n",
    "unit_statistics_df = unit_statistics_df_ut\n",
    "print(len(unit_statistics_df))"
   ]
  },
  {
   "cell_type": "code",
   "execution_count": 14,
   "metadata": {
    "ExecuteTime": {
     "end_time": "2022-01-24T17:47:23.510362Z",
     "start_time": "2022-01-24T17:47:23.451756Z"
    }
   },
   "outputs": [
    {
     "data": {
      "text/html": [
       "<div>\n",
       "<style scoped>\n",
       "    .dataframe tbody tr th:only-of-type {\n",
       "        vertical-align: middle;\n",
       "    }\n",
       "\n",
       "    .dataframe tbody tr th {\n",
       "        vertical-align: top;\n",
       "    }\n",
       "\n",
       "    .dataframe thead th {\n",
       "        text-align: right;\n",
       "    }\n",
       "</style>\n",
       "<table border=\"1\" class=\"dataframe\">\n",
       "  <thead>\n",
       "    <tr style=\"text-align: right;\">\n",
       "      <th></th>\n",
       "      <th>n_trials</th>\n",
       "      <th>n_cued_trials</th>\n",
       "      <th>n_incorrect_trials</th>\n",
       "      <th>n_correct_trials</th>\n",
       "      <th>n_reward_trials</th>\n",
       "      <th>n_passive_trials</th>\n",
       "      <th>n_active_trials</th>\n",
       "      <th>n_spikes</th>\n",
       "      <th>unit</th>\n",
       "      <th>hemisphere</th>\n",
       "      <th>labeled_region</th>\n",
       "      <th>estimated_nuclei</th>\n",
       "      <th>distance_to_estimated_nuclei</th>\n",
       "      <th>ML</th>\n",
       "      <th>AP</th>\n",
       "      <th>DV</th>\n",
       "      <th>bird</th>\n",
       "      <th>categorical_unit</th>\n",
       "      <th>categoricality</th>\n",
       "      <th>fw</th>\n",
       "      <th>sr</th>\n",
       "      <th>unit_type</th>\n",
       "      <th>best_chan_templates</th>\n",
       "      <th>best_chan_templates_norm</th>\n",
       "      <th>amplitude</th>\n",
       "    </tr>\n",
       "  </thead>\n",
       "  <tbody>\n",
       "    <tr>\n",
       "      <th>0</th>\n",
       "      <td>7040</td>\n",
       "      <td>1178</td>\n",
       "      <td>258</td>\n",
       "      <td>1090</td>\n",
       "      <td>403</td>\n",
       "      <td>5597</td>\n",
       "      <td>1443</td>\n",
       "      <td>211131</td>\n",
       "      <td>6270</td>\n",
       "      <td>NaN</td>\n",
       "      <td>NaN</td>\n",
       "      <td>NCL</td>\n",
       "      <td>415.88</td>\n",
       "      <td>2917.25</td>\n",
       "      <td>2420.0</td>\n",
       "      <td>-722.499502</td>\n",
       "      <td>B1597</td>\n",
       "      <td>True</td>\n",
       "      <td>0.420068</td>\n",
       "      <td>70.0</td>\n",
       "      <td>19.505140</td>\n",
       "      <td>1</td>\n",
       "      <td>[29.0, 28.94094094094094, 28.88188188188188, 2...</td>\n",
       "      <td>[0.04162189031853942, 0.04153712653652313, 0.0...</td>\n",
       "      <td>-515.25</td>\n",
       "    </tr>\n",
       "    <tr>\n",
       "      <th>1</th>\n",
       "      <td>6206</td>\n",
       "      <td>1</td>\n",
       "      <td>0</td>\n",
       "      <td>0</td>\n",
       "      <td>0</td>\n",
       "      <td>6205</td>\n",
       "      <td>1</td>\n",
       "      <td>44958</td>\n",
       "      <td>935</td>\n",
       "      <td>NaN</td>\n",
       "      <td>NaN</td>\n",
       "      <td>Field_L</td>\n",
       "      <td>503.611</td>\n",
       "      <td>2344.25</td>\n",
       "      <td>2420.0</td>\n",
       "      <td>-822.499502</td>\n",
       "      <td>B1597</td>\n",
       "      <td>True</td>\n",
       "      <td>0.265302</td>\n",
       "      <td>86.0</td>\n",
       "      <td>7.202434</td>\n",
       "      <td>0</td>\n",
       "      <td>[29.5, 29.47047047047047, 29.44094094094094, 2...</td>\n",
       "      <td>[0.07603293844777533, 0.07595682940028006, 0.0...</td>\n",
       "      <td>-294.00</td>\n",
       "    </tr>\n",
       "    <tr>\n",
       "      <th>2</th>\n",
       "      <td>12810</td>\n",
       "      <td>1967</td>\n",
       "      <td>232</td>\n",
       "      <td>1925</td>\n",
       "      <td>521</td>\n",
       "      <td>10367</td>\n",
       "      <td>2443</td>\n",
       "      <td>218822</td>\n",
       "      <td>10839</td>\n",
       "      <td>NaN</td>\n",
       "      <td>NaN</td>\n",
       "      <td>CMM</td>\n",
       "      <td>250.448</td>\n",
       "      <td>1764.25</td>\n",
       "      <td>2420.0</td>\n",
       "      <td>-742.499502</td>\n",
       "      <td>B1597</td>\n",
       "      <td>True</td>\n",
       "      <td>0.296694</td>\n",
       "      <td>120.0</td>\n",
       "      <td>13.687375</td>\n",
       "      <td>0</td>\n",
       "      <td>[42.75, 42.779529529529526, 42.80905905905906,...</td>\n",
       "      <td>[0.1011863087601332, 0.10125620312487042, 0.10...</td>\n",
       "      <td>-314.00</td>\n",
       "    </tr>\n",
       "  </tbody>\n",
       "</table>\n",
       "</div>"
      ],
      "text/plain": [
       "  n_trials n_cued_trials n_incorrect_trials n_correct_trials n_reward_trials  \\\n",
       "0     7040          1178                258             1090             403   \n",
       "1     6206             1                  0                0               0   \n",
       "2    12810          1967                232             1925             521   \n",
       "\n",
       "  n_passive_trials n_active_trials n_spikes   unit hemisphere labeled_region  \\\n",
       "0             5597            1443   211131   6270        NaN            NaN   \n",
       "1             6205               1    44958    935        NaN            NaN   \n",
       "2            10367            2443   218822  10839        NaN            NaN   \n",
       "\n",
       "  estimated_nuclei distance_to_estimated_nuclei       ML      AP          DV  \\\n",
       "0              NCL                       415.88  2917.25  2420.0 -722.499502   \n",
       "1          Field_L                      503.611  2344.25  2420.0 -822.499502   \n",
       "2              CMM                      250.448  1764.25  2420.0 -742.499502   \n",
       "\n",
       "    bird  categorical_unit  categoricality     fw         sr  unit_type  \\\n",
       "0  B1597              True        0.420068   70.0  19.505140          1   \n",
       "1  B1597              True        0.265302   86.0   7.202434          0   \n",
       "2  B1597              True        0.296694  120.0  13.687375          0   \n",
       "\n",
       "                                 best_chan_templates  \\\n",
       "0  [29.0, 28.94094094094094, 28.88188188188188, 2...   \n",
       "1  [29.5, 29.47047047047047, 29.44094094094094, 2...   \n",
       "2  [42.75, 42.779529529529526, 42.80905905905906,...   \n",
       "\n",
       "                            best_chan_templates_norm  amplitude  \n",
       "0  [0.04162189031853942, 0.04153712653652313, 0.0...    -515.25  \n",
       "1  [0.07603293844777533, 0.07595682940028006, 0.0...    -294.00  \n",
       "2  [0.1011863087601332, 0.10125620312487042, 0.10...    -314.00  "
      ]
     },
     "execution_count": 14,
     "metadata": {},
     "output_type": "execute_result"
    }
   ],
   "source": [
    "unit_statistics_df[:3]"
   ]
  },
  {
   "cell_type": "markdown",
   "metadata": {},
   "source": [
    "### get sm_differences"
   ]
  },
  {
   "cell_type": "code",
   "execution_count": 15,
   "metadata": {
    "ExecuteTime": {
     "end_time": "2022-01-24T17:48:19.363415Z",
     "start_time": "2022-01-24T17:47:23.512110Z"
    }
   },
   "outputs": [
    {
     "data": {
      "application/vnd.jupyter.widget-view+json": {
       "model_id": "a7b8913ebb8c4e5abf4209790eb0517a",
       "version_major": 2,
       "version_minor": 0
      },
      "text/plain": [
       "birds:   0%|          | 0/10 [00:00<?, ?it/s]"
      ]
     },
     "metadata": {},
     "output_type": "display_data"
    }
   ],
   "source": [
    "metric = \"cosine\"\n",
    "shuffled=False\n",
    "identifier = 'sm_each_cue'\n",
    "stat_dfs = []\n",
    "for bird, timestamp, sorter in tqdm(birds, desc='birds'):\n",
    "    stat_df = pd.read_pickle(\n",
    "        DATA_DIR\n",
    "        / \"unit_statistics\"\n",
    "        / statistics_timestamp\n",
    "        / (identifier + \"_{}_{}\".format(metric, shuffled))\n",
    "        / \"{}.pickle\".format(bird, metric, shuffled)\n",
    "    )\n",
    "    stat_df['bird'] = bird\n",
    "    stat_dfs.append(stat_df)\n",
    "    \n",
    "stat_df = pd.concat(stat_dfs)"
   ]
  },
  {
   "cell_type": "code",
   "execution_count": 16,
   "metadata": {
    "ExecuteTime": {
     "end_time": "2022-01-24T17:48:19.614313Z",
     "start_time": "2022-01-24T17:48:19.365771Z"
    }
   },
   "outputs": [],
   "source": [
    "# only include categorical units\n",
    "stat_df = stat_df.merge(\n",
    "    unit_statistics_df[[\"bird\", \"unit\", \"unit_type\", \"estimated_nuclei\"]],\n",
    "    on=[\"bird\", \"unit\"],\n",
    ")"
   ]
  },
  {
   "cell_type": "code",
   "execution_count": 17,
   "metadata": {
    "ExecuteTime": {
     "end_time": "2022-01-24T17:48:22.435152Z",
     "start_time": "2022-01-24T17:48:19.616309Z"
    }
   },
   "outputs": [
    {
     "name": "stderr",
     "output_type": "stream",
     "text": [
      "/home/AD/tsainbur/anaconda3/envs/cdcp_paper/lib/python3.7/site-packages/ipykernel_launcher.py:9: DeprecationWarning: elementwise comparison failed; this will raise an error in the future.\n",
      "  if __name__ == '__main__':\n"
     ]
    },
    {
     "data": {
      "image/png": "[encoded data removed]",
      "text/plain": [
       "<Figure size 1080x360 with 3 Axes>"
      ]
     },
     "metadata": {
      "needs_background": "light"
     },
     "output_type": "display_data"
    }
   ],
   "source": [
    "fig, axs = plt.subplots(ncols=3, figsize=(15,5))\n",
    "mean_response = {}\n",
    "for ci, cue in enumerate(['NC', 'CL', 'CR']):\n",
    "    m = (stat_df.cue == cue)\n",
    "    sms = np.stack(\n",
    "        [\n",
    "            i\n",
    "            for i in stat_df[m].sm.values\n",
    "            if type(i == np.ndarray)\n",
    "        ]\n",
    "    )\n",
    "    \n",
    "    mean_sm = np.nanmean(sms, axis=0)\n",
    "    mean_response[cue] = mean_sm\n",
    "    ax = axs[ci]\n",
    "    ax.set_title(cue)\n",
    "    ax.matshow(mean_sm, cmap = 'turbo')\n",
    "plt.show()\n",
    "    #break"
   ]
  },
  {
   "cell_type": "code",
   "execution_count": 18,
   "metadata": {
    "ExecuteTime": {
     "end_time": "2022-01-24T17:48:22.710957Z",
     "start_time": "2022-01-24T17:48:22.440356Z"
    }
   },
   "outputs": [
    {
     "data": {
      "text/plain": [
       "<matplotlib.image.AxesImage at 0x7f32dd37d490>"
      ]
     },
     "execution_count": 18,
     "metadata": {},
     "output_type": "execute_result"
    },
    {
     "data": {
      "image/png": "[encoded data removed]",
      "text/plain": [
       "<Figure size 288x288 with 1 Axes>"
      ]
     },
     "metadata": {
      "needs_background": "light"
     },
     "output_type": "display_data"
    }
   ],
   "source": [
    "mean_diff = mean_response['CL'] - mean_response['CR']\n",
    "plt.matshow(mean_diff, cmap = 'coolwarm', vmin = -np.nanmax(mean_diff), vmax = np.nanmax(mean_diff))"
   ]
  },
  {
   "cell_type": "code",
   "execution_count": 19,
   "metadata": {
    "ExecuteTime": {
     "end_time": "2022-01-24T17:48:22.783923Z",
     "start_time": "2022-01-24T17:48:22.713542Z"
    }
   },
   "outputs": [
    {
     "data": {
      "text/html": [
       "<div>\n",
       "<style scoped>\n",
       "    .dataframe tbody tr th:only-of-type {\n",
       "        vertical-align: middle;\n",
       "    }\n",
       "\n",
       "    .dataframe tbody tr th {\n",
       "        vertical-align: top;\n",
       "    }\n",
       "\n",
       "    .dataframe thead th {\n",
       "        text-align: right;\n",
       "    }\n",
       "</style>\n",
       "<table border=\"1\" class=\"dataframe\">\n",
       "  <thead>\n",
       "    <tr style=\"text-align: right;\">\n",
       "      <th></th>\n",
       "      <th>interp</th>\n",
       "      <th>cue</th>\n",
       "      <th>metric</th>\n",
       "      <th>sm</th>\n",
       "      <th>sm_n</th>\n",
       "      <th>shuffled</th>\n",
       "      <th>unit</th>\n",
       "      <th>bird</th>\n",
       "      <th>unit_type</th>\n",
       "      <th>estimated_nuclei</th>\n",
       "    </tr>\n",
       "  </thead>\n",
       "  <tbody>\n",
       "    <tr>\n",
       "      <th>0</th>\n",
       "      <td>BF</td>\n",
       "      <td>CL</td>\n",
       "      <td>cosine</td>\n",
       "      <td>[[0.0, 0.040445842060636124, 0.120043715935517...</td>\n",
       "      <td>[[1.0, 16.0, 14.0, 20.0, 8.0, 22.0, 16.0, 36.0...</td>\n",
       "      <td>False</td>\n",
       "      <td>3735</td>\n",
       "      <td>B1597</td>\n",
       "      <td>0</td>\n",
       "      <td>CMM</td>\n",
       "    </tr>\n",
       "    <tr>\n",
       "      <th>1</th>\n",
       "      <td>BF</td>\n",
       "      <td>CR</td>\n",
       "      <td>cosine</td>\n",
       "      <td>[[0.0, 0.0, 0.5000000000000001, nan, nan, 0.0,...</td>\n",
       "      <td>[[1.0, 10.0, 2.0, 0.0, 0.0, 4.0, 6.0, 4.0, 26....</td>\n",
       "      <td>False</td>\n",
       "      <td>3735</td>\n",
       "      <td>B1597</td>\n",
       "      <td>0</td>\n",
       "      <td>CMM</td>\n",
       "    </tr>\n",
       "    <tr>\n",
       "      <th>2</th>\n",
       "      <td>BF</td>\n",
       "      <td>CR1</td>\n",
       "      <td>cosine</td>\n",
       "      <td>[[nan, 0.0, nan, nan, nan, nan, nan, nan, 0.0,...</td>\n",
       "      <td>[[0.0, 1.0, 0.0, 0.0, 0.0, 0.0, 0.0, 0.0, 11.0...</td>\n",
       "      <td>False</td>\n",
       "      <td>3735</td>\n",
       "      <td>B1597</td>\n",
       "      <td>0</td>\n",
       "      <td>CMM</td>\n",
       "    </tr>\n",
       "  </tbody>\n",
       "</table>\n",
       "</div>"
      ],
      "text/plain": [
       "  interp  cue  metric                                                 sm  \\\n",
       "0     BF   CL  cosine  [[0.0, 0.040445842060636124, 0.120043715935517...   \n",
       "1     BF   CR  cosine  [[0.0, 0.0, 0.5000000000000001, nan, nan, 0.0,...   \n",
       "2     BF  CR1  cosine  [[nan, 0.0, nan, nan, nan, nan, nan, nan, 0.0,...   \n",
       "\n",
       "                                                sm_n shuffled  unit   bird  \\\n",
       "0  [[1.0, 16.0, 14.0, 20.0, 8.0, 22.0, 16.0, 36.0...    False  3735  B1597   \n",
       "1  [[1.0, 10.0, 2.0, 0.0, 0.0, 4.0, 6.0, 4.0, 26....    False  3735  B1597   \n",
       "2  [[0.0, 1.0, 0.0, 0.0, 0.0, 0.0, 0.0, 0.0, 11.0...    False  3735  B1597   \n",
       "\n",
       "   unit_type estimated_nuclei  \n",
       "0          0              CMM  \n",
       "1          0              CMM  \n",
       "2          0              CMM  "
      ]
     },
     "execution_count": 19,
     "metadata": {},
     "output_type": "execute_result"
    }
   ],
   "source": [
    "stat_df[:3]"
   ]
  },
  {
   "cell_type": "markdown",
   "metadata": {},
   "source": [
    "#### for each bird, unit, interp, cue, get difference in similarity matrix between CL and CR"
   ]
  },
  {
   "cell_type": "code",
   "execution_count": 20,
   "metadata": {
    "ExecuteTime": {
     "end_time": "2022-01-24T17:48:22.946050Z",
     "start_time": "2022-01-24T17:48:22.785281Z"
    }
   },
   "outputs": [],
   "source": [
    "stat_df_by_cue = stat_df[['bird','unit', 'cue', 'sm', 'interp']].set_index(['bird','unit', 'interp', \"cue\"])['sm'].unstack()"
   ]
  },
  {
   "cell_type": "code",
   "execution_count": 21,
   "metadata": {
    "ExecuteTime": {
     "end_time": "2022-01-24T17:48:23.139859Z",
     "start_time": "2022-01-24T17:48:22.947690Z"
    }
   },
   "outputs": [
    {
     "data": {
      "text/html": [
       "<div>\n",
       "<style scoped>\n",
       "    .dataframe tbody tr th:only-of-type {\n",
       "        vertical-align: middle;\n",
       "    }\n",
       "\n",
       "    .dataframe tbody tr th {\n",
       "        vertical-align: top;\n",
       "    }\n",
       "\n",
       "    .dataframe thead th {\n",
       "        text-align: right;\n",
       "    }\n",
       "</style>\n",
       "<table border=\"1\" class=\"dataframe\">\n",
       "  <thead>\n",
       "    <tr style=\"text-align: right;\">\n",
       "      <th></th>\n",
       "      <th></th>\n",
       "      <th>cue</th>\n",
       "      <th>CL</th>\n",
       "      <th>CL0</th>\n",
       "      <th>CL1</th>\n",
       "      <th>CN</th>\n",
       "      <th>CR</th>\n",
       "      <th>CR0</th>\n",
       "      <th>CR1</th>\n",
       "      <th>NC</th>\n",
       "    </tr>\n",
       "    <tr>\n",
       "      <th>bird</th>\n",
       "      <th>unit</th>\n",
       "      <th>interp</th>\n",
       "      <th></th>\n",
       "      <th></th>\n",
       "      <th></th>\n",
       "      <th></th>\n",
       "      <th></th>\n",
       "      <th></th>\n",
       "      <th></th>\n",
       "      <th></th>\n",
       "    </tr>\n",
       "  </thead>\n",
       "  <tbody>\n",
       "    <tr>\n",
       "      <th rowspan=\"3\" valign=\"top\">B1170</th>\n",
       "      <th>1002</th>\n",
       "      <th>AE</th>\n",
       "      <td>[[0.11488749307561258, 0.1251434973360783, 0.1...</td>\n",
       "      <td>[[0.11442067689587776, 0.13318712459387483, 0....</td>\n",
       "      <td>[[0.11895915406125047, 0.1164679208363863, 0.1...</td>\n",
       "      <td>[[0.07779934365718641, 0.1201674569469407, nan...</td>\n",
       "      <td>[[0.14728160810515842, 0.13291420077129618, 0....</td>\n",
       "      <td>[[0.16048979233778662, 0.16775167211948955, 0....</td>\n",
       "      <td>[[0.12675061355872022, 0.0398126685292455, 2.8...</td>\n",
       "      <td>[[0.0858863968276733, 0.08629990792105367, 0.0...</td>\n",
       "    </tr>\n",
       "    <tr>\n",
       "      <th>1027</th>\n",
       "      <th>AE</th>\n",
       "      <td>[[0.04746452663947074, 0.03745566365871532, 0....</td>\n",
       "      <td>[[0.03692981581595229, 0.03862733140388749, 0....</td>\n",
       "      <td>[[0.05676230116152044, 0.03657217434942476, 0....</td>\n",
       "      <td>[[0.04392579036840735, 0.024709889037166713, 0...</td>\n",
       "      <td>[[0.06205046227039378, 0.05381502848110543, 0....</td>\n",
       "      <td>[[0.06113532208260515, 0.04815370705543371, 0....</td>\n",
       "      <td>[[0.06126981138742152, 0.0610956787301662, 0.0...</td>\n",
       "      <td>[[0.06828327441774482, 0.05797462639410615, 0....</td>\n",
       "    </tr>\n",
       "    <tr>\n",
       "      <th>1037</th>\n",
       "      <th>AE</th>\n",
       "      <td>[[0.36525143940673077, 0.38990481152974005, 0....</td>\n",
       "      <td>[[0.3579198841935357, 0.3881325281463855, 0.38...</td>\n",
       "      <td>[[0.3613829896059862, 0.3837935767646858, 0.36...</td>\n",
       "      <td>[[0.4521886636309882, 0.28098742995398573, nan...</td>\n",
       "      <td>[[0.4411148455248399, 0.3993544407439167, 0.38...</td>\n",
       "      <td>[[0.4200897744510022, 0.41192072306986105, 0.3...</td>\n",
       "      <td>[[0.5084697453610892, 0.43824717846495537, 0.3...</td>\n",
       "      <td>[[0.4455007301654843, 0.39522492316429386, 0.4...</td>\n",
       "    </tr>\n",
       "  </tbody>\n",
       "</table>\n",
       "</div>"
      ],
      "text/plain": [
       "cue                                                               CL  \\\n",
       "bird  unit interp                                                      \n",
       "B1170 1002 AE      [[0.11488749307561258, 0.1251434973360783, 0.1...   \n",
       "      1027 AE      [[0.04746452663947074, 0.03745566365871532, 0....   \n",
       "      1037 AE      [[0.36525143940673077, 0.38990481152974005, 0....   \n",
       "\n",
       "cue                                                              CL0  \\\n",
       "bird  unit interp                                                      \n",
       "B1170 1002 AE      [[0.11442067689587776, 0.13318712459387483, 0....   \n",
       "      1027 AE      [[0.03692981581595229, 0.03862733140388749, 0....   \n",
       "      1037 AE      [[0.3579198841935357, 0.3881325281463855, 0.38...   \n",
       "\n",
       "cue                                                              CL1  \\\n",
       "bird  unit interp                                                      \n",
       "B1170 1002 AE      [[0.11895915406125047, 0.1164679208363863, 0.1...   \n",
       "      1027 AE      [[0.05676230116152044, 0.03657217434942476, 0....   \n",
       "      1037 AE      [[0.3613829896059862, 0.3837935767646858, 0.36...   \n",
       "\n",
       "cue                                                               CN  \\\n",
       "bird  unit interp                                                      \n",
       "B1170 1002 AE      [[0.07779934365718641, 0.1201674569469407, nan...   \n",
       "      1027 AE      [[0.04392579036840735, 0.024709889037166713, 0...   \n",
       "      1037 AE      [[0.4521886636309882, 0.28098742995398573, nan...   \n",
       "\n",
       "cue                                                               CR  \\\n",
       "bird  unit interp                                                      \n",
       "B1170 1002 AE      [[0.14728160810515842, 0.13291420077129618, 0....   \n",
       "      1027 AE      [[0.06205046227039378, 0.05381502848110543, 0....   \n",
       "      1037 AE      [[0.4411148455248399, 0.3993544407439167, 0.38...   \n",
       "\n",
       "cue                                                              CR0  \\\n",
       "bird  unit interp                                                      \n",
       "B1170 1002 AE      [[0.16048979233778662, 0.16775167211948955, 0....   \n",
       "      1027 AE      [[0.06113532208260515, 0.04815370705543371, 0....   \n",
       "      1037 AE      [[0.4200897744510022, 0.41192072306986105, 0.3...   \n",
       "\n",
       "cue                                                              CR1  \\\n",
       "bird  unit interp                                                      \n",
       "B1170 1002 AE      [[0.12675061355872022, 0.0398126685292455, 2.8...   \n",
       "      1027 AE      [[0.06126981138742152, 0.0610956787301662, 0.0...   \n",
       "      1037 AE      [[0.5084697453610892, 0.43824717846495537, 0.3...   \n",
       "\n",
       "cue                                                               NC  \n",
       "bird  unit interp                                                     \n",
       "B1170 1002 AE      [[0.0858863968276733, 0.08629990792105367, 0.0...  \n",
       "      1027 AE      [[0.06828327441774482, 0.05797462639410615, 0....  \n",
       "      1037 AE      [[0.4455007301654843, 0.39522492316429386, 0.4...  "
      ]
     },
     "execution_count": 21,
     "metadata": {},
     "output_type": "execute_result"
    }
   ],
   "source": [
    "stat_df_by_cue[:3]"
   ]
  },
  {
   "cell_type": "code",
   "execution_count": 22,
   "metadata": {
    "ExecuteTime": {
     "end_time": "2022-01-24T17:48:23.376538Z",
     "start_time": "2022-01-24T17:48:23.141245Z"
    }
   },
   "outputs": [],
   "source": [
    "CL_sm = np.stack([i for i in stat_df_by_cue.CL.values if type(i) == np.ndarray])\n",
    "CR_sm = np.stack([i for i in stat_df_by_cue.CR.values if type(i) == np.ndarray])\n",
    "diff = np.nanmean(CL_sm - CR_sm, axis=0)"
   ]
  },
  {
   "cell_type": "code",
   "execution_count": 23,
   "metadata": {
    "ExecuteTime": {
     "end_time": "2022-01-24T17:48:23.396250Z",
     "start_time": "2022-01-24T17:48:23.378162Z"
    }
   },
   "outputs": [],
   "source": [
    "import matplotlib.patches as patches"
   ]
  },
  {
   "cell_type": "code",
   "execution_count": 24,
   "metadata": {
    "ExecuteTime": {
     "end_time": "2022-01-24T17:48:23.419719Z",
     "start_time": "2022-01-24T17:48:23.397637Z"
    }
   },
   "outputs": [],
   "source": [
    "from cdcp.visualization.colors import colors as cdcp_colors"
   ]
  },
  {
   "cell_type": "code",
   "execution_count": 25,
   "metadata": {
    "ExecuteTime": {
     "end_time": "2022-01-24T17:48:23.440466Z",
     "start_time": "2022-01-24T17:48:23.421286Z"
    }
   },
   "outputs": [],
   "source": [
    "save_figs = True"
   ]
  },
  {
   "cell_type": "code",
   "execution_count": 26,
   "metadata": {
    "ExecuteTime": {
     "end_time": "2022-01-24T17:48:24.122559Z",
     "start_time": "2022-01-24T17:48:23.441934Z"
    }
   },
   "outputs": [
    {
     "data": {
      "image/png": "[encoded data removed]",
      "text/plain": [
       "<Figure size 360x288 with 2 Axes>"
      ]
     },
     "metadata": {
      "needs_background": "light"
     },
     "output_type": "display_data"
    }
   ],
   "source": [
    "fig, ax = plt.subplots(figsize=(5,4))\n",
    "vmin = -0.015\n",
    "vmax = 0.015\n",
    "im = ax.matshow(diff, vmin = vmin, vmax = vmax, cmap = 'coolwarm', extent=[0,1,0,1])\n",
    "# Create a Rectangle patch\n",
    "rect = patches.Rectangle((0, 0.5), 0.5, 0.5, linewidth=5, edgecolor='orange', facecolor='none')\n",
    "rect2 = patches.Rectangle((0.5,0), 0.5, 0.5, linewidth=5, edgecolor=cdcp_colors['reinforce']['R']['dark'], facecolor='none')\n",
    "\n",
    "# Add the patch to the Axes\n",
    "ax.add_patch(rect)\n",
    "ax.add_patch(rect2)\n",
    "ax.axis('off')\n",
    "ax.set_xlim([-0.01,1.01])\n",
    "ax.set_ylim([-0.01,1.01])\n",
    "cbar = plt.colorbar(im)#, orientation='horizontal')\n",
    "cbar.ax.tick_params(labelsize=12)\n",
    "\n",
    "\n",
    "ensure_dir(FIGURE_DIR / 'cue_similarity')\n",
    "if save_figs:\n",
    "    save_fig(FIGURE_DIR / 'cue_similarity'/ 'cue_similarity_left_minus_right', save_pdf=True)\n",
    "plt.show()"
   ]
  },
  {
   "cell_type": "code",
   "execution_count": 27,
   "metadata": {
    "ExecuteTime": {
     "end_time": "2022-01-24T17:48:24.148302Z",
     "start_time": "2022-01-24T17:48:24.124105Z"
    }
   },
   "outputs": [],
   "source": [
    "from scipy.stats import ttest_ind\n",
    "from scipy.stats import t\n",
    "\n",
    "def welch_ttest(x1, x2):\n",
    "    \n",
    "    n1 = x1.size\n",
    "    n2 = x2.size\n",
    "    m1 = np.mean(x1)\n",
    "    m2 = np.mean(x2)\n",
    "    \n",
    "    v1 = np.var(x1, ddof=1)\n",
    "    v2 = np.var(x2, ddof=1)\n",
    "    \n",
    "    pooled_se = np.sqrt(v1 / n1 + v2 / n2)\n",
    "    delta = m1-m2\n",
    "    \n",
    "    tstat = delta /  pooled_se\n",
    "    df = (v1 / n1 + v2 / n2)**2 / (v1**2 / (n1**2 * (n1 - 1)) + v2**2 / (n2**2 * (n2 - 1)))\n",
    "    \n",
    "    # two side t-test\n",
    "    p = 2 * t.cdf(-abs(tstat), df)\n",
    "    \n",
    "    # upper and lower bounds\n",
    "    lb = delta - t.ppf(0.975,df)*pooled_se \n",
    "    ub = delta + t.ppf(0.975,df)*pooled_se\n",
    "  \n",
    "    return pd.DataFrame(np.array([tstat,df,p,delta,lb,ub, x1, x2]).reshape(1,-1),\n",
    "                         columns=['T statistic','df','pvalue','diff','lb','ub', 'L', 'R'])"
   ]
  },
  {
   "cell_type": "code",
   "execution_count": 28,
   "metadata": {
    "ExecuteTime": {
     "end_time": "2022-01-24T17:48:24.166810Z",
     "start_time": "2022-01-24T17:48:24.149833Z"
    }
   },
   "outputs": [],
   "source": [
    "p_left = {\n",
    "    \"CL1\": 0.875,\n",
    "    'CL0': 0.75,\n",
    "    'CN': 0.5,\n",
    "    'CR0': 0.25,\n",
    "    'CR1': 0.125,\n",
    "}"
   ]
  },
  {
   "cell_type": "code",
   "execution_count": 29,
   "metadata": {
    "ExecuteTime": {
     "end_time": "2022-01-24T17:48:24.779454Z",
     "start_time": "2022-01-24T17:48:24.168259Z"
    }
   },
   "outputs": [
    {
     "name": "stderr",
     "output_type": "stream",
     "text": [
      "/home/AD/tsainbur/anaconda3/envs/cdcp_paper/lib/python3.7/site-packages/ipykernel_launcher.py:27: VisibleDeprecationWarning: Creating an ndarray from ragged nested sequences (which is a list-or-tuple of lists-or-tuples-or ndarrays with different lengths or shapes) is deprecated. If you meant to do this, you must specify 'dtype=object' when creating the ndarray.\n"
     ]
    }
   ],
   "source": [
    "NC_sm = np.stack([i for i in stat_df_by_cue.NC.values if type(i) == np.ndarray])\n",
    "L_R_diffs = []\n",
    "for cue in ['CL1', 'CL0', 'CR0', 'CR1']:\n",
    "    C_sm = np.stack([i for i in stat_df_by_cue[cue].values if type(i) == np.ndarray])\n",
    "    diff = C_sm - NC_sm\n",
    "    L = diff[:,:8,:8].flatten()\n",
    "    R = diff[:,8:,8:].flatten()\n",
    "    L = L[np.isnan(L) == False]\n",
    "    R = R[np.isnan(R) == False]\n",
    "    t_test = welch_ttest(L, R)\n",
    "    t_test['cue'] = cue\n",
    "    #L_R_diff = np.nanmean(L) - np.nanmean(R)\n",
    "    L_R_diffs.append(t_test)\n",
    "L_R_diffs = pd.concat(L_R_diffs)\n",
    "L_R_diffs['p_left'] = [p_left[i] for i in L_R_diffs.cue.values]"
   ]
  },
  {
   "cell_type": "code",
   "execution_count": 30,
   "metadata": {
    "ExecuteTime": {
     "end_time": "2022-01-24T17:48:24.819390Z",
     "start_time": "2022-01-24T17:48:24.781074Z"
    }
   },
   "outputs": [
    {
     "data": {
      "text/html": [
       "<div>\n",
       "<style scoped>\n",
       "    .dataframe tbody tr th:only-of-type {\n",
       "        vertical-align: middle;\n",
       "    }\n",
       "\n",
       "    .dataframe tbody tr th {\n",
       "        vertical-align: top;\n",
       "    }\n",
       "\n",
       "    .dataframe thead th {\n",
       "        text-align: right;\n",
       "    }\n",
       "</style>\n",
       "<table border=\"1\" class=\"dataframe\">\n",
       "  <thead>\n",
       "    <tr style=\"text-align: right;\">\n",
       "      <th></th>\n",
       "      <th>T statistic</th>\n",
       "      <th>df</th>\n",
       "      <th>pvalue</th>\n",
       "      <th>diff</th>\n",
       "      <th>lb</th>\n",
       "      <th>ub</th>\n",
       "      <th>L</th>\n",
       "      <th>R</th>\n",
       "      <th>cue</th>\n",
       "      <th>p_left</th>\n",
       "    </tr>\n",
       "  </thead>\n",
       "  <tbody>\n",
       "    <tr>\n",
       "      <th>0</th>\n",
       "      <td>-16.234024</td>\n",
       "      <td>359261.712174</td>\n",
       "      <td>0.0</td>\n",
       "      <td>-0.005935</td>\n",
       "      <td>-0.006651</td>\n",
       "      <td>-0.005218</td>\n",
       "      <td>[0.03307275723357718, 0.030168012915332623, 0....</td>\n",
       "      <td>[-0.16584025565437507, 0.036651198563016574, -...</td>\n",
       "      <td>CL1</td>\n",
       "      <td>0.875</td>\n",
       "    </tr>\n",
       "    <tr>\n",
       "      <th>0</th>\n",
       "      <td>-13.470392</td>\n",
       "      <td>861134.462628</td>\n",
       "      <td>0.0</td>\n",
       "      <td>-0.003691</td>\n",
       "      <td>-0.004228</td>\n",
       "      <td>-0.003154</td>\n",
       "      <td>[0.028534280068204465, 0.046887216672821155, 0...</td>\n",
       "      <td>[-0.18112336718517436, -0.18774583260363809, -...</td>\n",
       "      <td>CL0</td>\n",
       "      <td>0.750</td>\n",
       "    </tr>\n",
       "    <tr>\n",
       "      <th>0</th>\n",
       "      <td>12.687308</td>\n",
       "      <td>809273.933676</td>\n",
       "      <td>0.0</td>\n",
       "      <td>0.003551</td>\n",
       "      <td>0.003002</td>\n",
       "      <td>0.004099</td>\n",
       "      <td>[0.07460339551011333, 0.08145176419843587, 0.0...</td>\n",
       "      <td>[-0.054425121758769346, -0.10477181783987181, ...</td>\n",
       "      <td>CR0</td>\n",
       "      <td>0.250</td>\n",
       "    </tr>\n",
       "    <tr>\n",
       "      <th>0</th>\n",
       "      <td>22.773577</td>\n",
       "      <td>337578.969094</td>\n",
       "      <td>0.0</td>\n",
       "      <td>0.008372</td>\n",
       "      <td>0.007651</td>\n",
       "      <td>0.009093</td>\n",
       "      <td>[0.040864216731046926, -0.046487239391808176, ...</td>\n",
       "      <td>[-0.0014968686362870076, -0.05312573833887149,...</td>\n",
       "      <td>CR1</td>\n",
       "      <td>0.125</td>\n",
       "    </tr>\n",
       "  </tbody>\n",
       "</table>\n",
       "</div>"
      ],
      "text/plain": [
       "  T statistic             df pvalue      diff        lb        ub  \\\n",
       "0  -16.234024  359261.712174    0.0 -0.005935 -0.006651 -0.005218   \n",
       "0  -13.470392  861134.462628    0.0 -0.003691 -0.004228 -0.003154   \n",
       "0   12.687308  809273.933676    0.0  0.003551  0.003002  0.004099   \n",
       "0   22.773577  337578.969094    0.0  0.008372  0.007651  0.009093   \n",
       "\n",
       "                                                   L  \\\n",
       "0  [0.03307275723357718, 0.030168012915332623, 0....   \n",
       "0  [0.028534280068204465, 0.046887216672821155, 0...   \n",
       "0  [0.07460339551011333, 0.08145176419843587, 0.0...   \n",
       "0  [0.040864216731046926, -0.046487239391808176, ...   \n",
       "\n",
       "                                                   R  cue  p_left  \n",
       "0  [-0.16584025565437507, 0.036651198563016574, -...  CL1   0.875  \n",
       "0  [-0.18112336718517436, -0.18774583260363809, -...  CL0   0.750  \n",
       "0  [-0.054425121758769346, -0.10477181783987181, ...  CR0   0.250  \n",
       "0  [-0.0014968686362870076, -0.05312573833887149,...  CR1   0.125  "
      ]
     },
     "execution_count": 30,
     "metadata": {},
     "output_type": "execute_result"
    }
   ],
   "source": [
    "L_R_diffs"
   ]
  },
  {
   "cell_type": "code",
   "execution_count": 31,
   "metadata": {
    "ExecuteTime": {
     "end_time": "2022-01-24T17:48:24.837408Z",
     "start_time": "2022-01-24T17:48:24.820913Z"
    }
   },
   "outputs": [],
   "source": [
    "import copy"
   ]
  },
  {
   "cell_type": "code",
   "execution_count": 32,
   "metadata": {
    "ExecuteTime": {
     "end_time": "2022-01-24T17:48:25.158867Z",
     "start_time": "2022-01-24T17:48:24.838935Z"
    }
   },
   "outputs": [],
   "source": [
    "stat_df_by_cue_rel_CN = copy.deepcopy(stat_df_by_cue)\n",
    "for cue in ['CL1', 'CL0', 'CR0', 'CR1']:\n",
    "    stat_df_by_cue_rel_CN[cue] = stat_df_by_cue[cue].values - stat_df_by_cue['CN'].values\n",
    "    stat_df_by_cue_rel_CN = stat_df_by_cue_rel_CN[['CL1', 'CL0', 'CR0', 'CR1']]"
   ]
  },
  {
   "cell_type": "code",
   "execution_count": 33,
   "metadata": {
    "ExecuteTime": {
     "end_time": "2022-01-24T17:48:25.267688Z",
     "start_time": "2022-01-24T17:48:25.160516Z"
    }
   },
   "outputs": [
    {
     "data": {
      "text/html": [
       "<div>\n",
       "<style scoped>\n",
       "    .dataframe tbody tr th:only-of-type {\n",
       "        vertical-align: middle;\n",
       "    }\n",
       "\n",
       "    .dataframe tbody tr th {\n",
       "        vertical-align: top;\n",
       "    }\n",
       "\n",
       "    .dataframe thead th {\n",
       "        text-align: right;\n",
       "    }\n",
       "</style>\n",
       "<table border=\"1\" class=\"dataframe\">\n",
       "  <thead>\n",
       "    <tr style=\"text-align: right;\">\n",
       "      <th></th>\n",
       "      <th></th>\n",
       "      <th>cue</th>\n",
       "      <th>CL1</th>\n",
       "      <th>CL0</th>\n",
       "      <th>CR0</th>\n",
       "      <th>CR1</th>\n",
       "    </tr>\n",
       "    <tr>\n",
       "      <th>bird</th>\n",
       "      <th>unit</th>\n",
       "      <th>interp</th>\n",
       "      <th></th>\n",
       "      <th></th>\n",
       "      <th></th>\n",
       "      <th></th>\n",
       "    </tr>\n",
       "  </thead>\n",
       "  <tbody>\n",
       "    <tr>\n",
       "      <th rowspan=\"3\" valign=\"top\">B1170</th>\n",
       "      <th>1002</th>\n",
       "      <th>AE</th>\n",
       "      <td>[[0.041159810404064065, -0.0036995361105544022...</td>\n",
       "      <td>[[0.03662133323869135, 0.01301966764693413, na...</td>\n",
       "      <td>[[0.08269044868060021, 0.04758421517254885, na...</td>\n",
       "      <td>[[0.04895126990153381, -0.0803547884176952, na...</td>\n",
       "    </tr>\n",
       "    <tr>\n",
       "      <th>1027</th>\n",
       "      <th>AE</th>\n",
       "      <td>[[0.012836510793113085, 0.011862285312258046, ...</td>\n",
       "      <td>[[-0.006995974552455063, 0.013917442366720774,...</td>\n",
       "      <td>[[0.017209531714197798, 0.023443818018266997, ...</td>\n",
       "      <td>[[0.017344021019014166, 0.036385789692999486, ...</td>\n",
       "    </tr>\n",
       "    <tr>\n",
       "      <th>1037</th>\n",
       "      <th>AE</th>\n",
       "      <td>[[-0.090805674025002, 0.10280614681070005, nan...</td>\n",
       "      <td>[[-0.09426877943745249, 0.10714509819239976, n...</td>\n",
       "      <td>[[-0.03209888917998599, 0.13093329311587532, n...</td>\n",
       "      <td>[[0.056281081730101046, 0.15725974851096963, n...</td>\n",
       "    </tr>\n",
       "  </tbody>\n",
       "</table>\n",
       "</div>"
      ],
      "text/plain": [
       "cue                                                              CL1  \\\n",
       "bird  unit interp                                                      \n",
       "B1170 1002 AE      [[0.041159810404064065, -0.0036995361105544022...   \n",
       "      1027 AE      [[0.012836510793113085, 0.011862285312258046, ...   \n",
       "      1037 AE      [[-0.090805674025002, 0.10280614681070005, nan...   \n",
       "\n",
       "cue                                                              CL0  \\\n",
       "bird  unit interp                                                      \n",
       "B1170 1002 AE      [[0.03662133323869135, 0.01301966764693413, na...   \n",
       "      1027 AE      [[-0.006995974552455063, 0.013917442366720774,...   \n",
       "      1037 AE      [[-0.09426877943745249, 0.10714509819239976, n...   \n",
       "\n",
       "cue                                                              CR0  \\\n",
       "bird  unit interp                                                      \n",
       "B1170 1002 AE      [[0.08269044868060021, 0.04758421517254885, na...   \n",
       "      1027 AE      [[0.017209531714197798, 0.023443818018266997, ...   \n",
       "      1037 AE      [[-0.03209888917998599, 0.13093329311587532, n...   \n",
       "\n",
       "cue                                                              CR1  \n",
       "bird  unit interp                                                     \n",
       "B1170 1002 AE      [[0.04895126990153381, -0.0803547884176952, na...  \n",
       "      1027 AE      [[0.017344021019014166, 0.036385789692999486, ...  \n",
       "      1037 AE      [[0.056281081730101046, 0.15725974851096963, n...  "
      ]
     },
     "execution_count": 33,
     "metadata": {},
     "output_type": "execute_result"
    }
   ],
   "source": [
    "stat_df_by_cue_rel_CN[:3]"
   ]
  },
  {
   "cell_type": "code",
   "execution_count": 34,
   "metadata": {
    "ExecuteTime": {
     "end_time": "2022-01-24T17:48:25.840589Z",
     "start_time": "2022-01-24T17:48:25.269105Z"
    }
   },
   "outputs": [
    {
     "name": "stderr",
     "output_type": "stream",
     "text": [
      "/home/AD/tsainbur/anaconda3/envs/cdcp_paper/lib/python3.7/site-packages/ipykernel_launcher.py:4: RuntimeWarning: Mean of empty slice\n",
      "  after removing the cwd from sys.path.\n",
      "/home/AD/tsainbur/anaconda3/envs/cdcp_paper/lib/python3.7/site-packages/ipykernel_launcher.py:5: RuntimeWarning: Mean of empty slice\n",
      "  \"\"\"\n"
     ]
    }
   ],
   "source": [
    "all_shifts = []\n",
    "all_probs = []\n",
    "for cue in ['CL1', 'CL0', 'CR0', 'CR1']:\n",
    "    L = np.nanmean(np.stack(stat_df_by_cue_rel_CN[cue])[:, :8, :8], axis=(1,2)).flatten()\n",
    "    R = np.nanmean(np.stack(stat_df_by_cue_rel_CN[cue])[:, 8:, 8:], axis=(1,2)).flatten()\n",
    "    L =  L[np.isnan(L) == False] \n",
    "    R =  R[np.isnan(R) == False] \n",
    "    shift = np.concatenate([L, R])\n",
    "    probs = np.concatenate([np.ones(len(L)) * p_left[cue], np.ones(len(R)) * (1 - p_left[cue])])\n",
    "    all_shifts.append(shift)\n",
    "    all_probs.append(probs)\n",
    "    #break\n",
    "all_shifts = np.concatenate(all_shifts)\n",
    "all_probs = np.concatenate(all_probs)"
   ]
  },
  {
   "cell_type": "code",
   "execution_count": 35,
   "metadata": {
    "ExecuteTime": {
     "end_time": "2022-01-24T17:48:25.936503Z",
     "start_time": "2022-01-24T17:48:25.842208Z"
    }
   },
   "outputs": [
    {
     "data": {
      "text/plain": [
       "((-0.019633373716352143, 1.0658649071263936e-10), 108153)"
      ]
     },
     "execution_count": 35,
     "metadata": {},
     "output_type": "execute_result"
    }
   ],
   "source": [
    "scipy.stats.pearsonr(all_probs, all_shifts), len(all_probs)"
   ]
  },
  {
   "cell_type": "code",
   "execution_count": 36,
   "metadata": {
    "ExecuteTime": {
     "end_time": "2022-01-24T17:48:26.026030Z",
     "start_time": "2022-01-24T17:48:25.941600Z"
    }
   },
   "outputs": [
    {
     "data": {
      "text/plain": [
       "array([0.125, 0.25 , 0.75 , 0.875])"
      ]
     },
     "execution_count": 36,
     "metadata": {},
     "output_type": "execute_result"
    }
   ],
   "source": [
    "np.unique(all_probs)"
   ]
  },
  {
   "cell_type": "code",
   "execution_count": 37,
   "metadata": {
    "ExecuteTime": {
     "end_time": "2022-01-24T17:48:26.056241Z",
     "start_time": "2022-01-24T17:48:26.028231Z"
    }
   },
   "outputs": [],
   "source": [
    "probs = np.unique(all_probs)\n",
    "mean_shift = np.array([np.mean(all_shifts[all_probs == i]) for i in probs])\n",
    "std_shift = np.array([np.std(all_shifts[all_probs == i]) for i in probs])\n",
    "n_shift = np.array([len(all_shifts[all_probs == i]) for i in probs])\n",
    "sem_shift = std_shift / np.sqrt(n_shift)"
   ]
  },
  {
   "cell_type": "code",
   "execution_count": 38,
   "metadata": {
    "ExecuteTime": {
     "end_time": "2022-01-24T17:48:26.082317Z",
     "start_time": "2022-01-24T17:48:26.058162Z"
    }
   },
   "outputs": [],
   "source": [
    "def get_95_ci(x, y, n_resamples = 500, n_x_samples = 100, bounds = 95, x_range = None):\n",
    "    if x_range is None:\n",
    "        xmin = np.min(x)\n",
    "        xmax = np.max(x)\n",
    "    model_x = np.linspace(xmin, xmax, n_x_samples)\n",
    "    sample_matrix = np.zeros((n_resamples, n_x_samples))\n",
    "    for i in tqdm(range(n_resamples), leave=False):\n",
    "        sample_index = np.random.choice(range(0, len(y)), len(y))\n",
    "        X_samples = x[sample_index]\n",
    "        y_samples = y[sample_index] \n",
    "        m, b = np.polyfit(X_samples, y_samples, 1)\n",
    "        sample_matrix[i] = m * model_x + b\n",
    "    lower_, upper_ = np.percentile(sample_matrix, ((100-bounds)/2, (100-((100-bounds)/2))), axis=0)\n",
    "    return (lower_, upper_), model_x"
   ]
  },
  {
   "cell_type": "code",
   "execution_count": 39,
   "metadata": {
    "ExecuteTime": {
     "end_time": "2022-01-24T17:48:34.628209Z",
     "start_time": "2022-01-24T17:48:26.084102Z"
    }
   },
   "outputs": [
    {
     "data": {
      "application/vnd.jupyter.widget-view+json": {
       "model_id": "",
       "version_major": 2,
       "version_minor": 0
      },
      "text/plain": [
       "  0%|          | 0/500 [00:00<?, ?it/s]"
      ]
     },
     "metadata": {},
     "output_type": "display_data"
    }
   ],
   "source": [
    "(lower_, upper_), model_x = get_95_ci(all_probs, all_shifts)"
   ]
  },
  {
   "cell_type": "code",
   "execution_count": 40,
   "metadata": {
    "ExecuteTime": {
     "end_time": "2022-01-24T17:48:34.661427Z",
     "start_time": "2022-01-24T17:48:34.630059Z"
    }
   },
   "outputs": [],
   "source": [
    "x = all_probs\n",
    "y = all_shifts\n",
    "m, b = np.polyfit(x, y, 1)\n",
    "model_y =  m * model_x + b"
   ]
  },
  {
   "cell_type": "code",
   "execution_count": 41,
   "metadata": {
    "ExecuteTime": {
     "end_time": "2022-01-24T17:48:35.472841Z",
     "start_time": "2022-01-24T17:48:34.663054Z"
    }
   },
   "outputs": [
    {
     "data": {
      "image/png": "[encoded data removed]",
      "text/plain": [
       "<Figure size 360x288 with 1 Axes>"
      ]
     },
     "metadata": {
      "needs_background": "light"
     },
     "output_type": "display_data"
    }
   ],
   "source": [
    "color = 'k'\n",
    "fig, ax = plt.subplots(figsize=(5, 4))\n",
    "ax.scatter(probs, mean_shift, color=color, s=150, alpha=0.5)\n",
    "ax.errorbar(\n",
    "    probs,\n",
    "    mean_shift,\n",
    "    sem_shift*3,\n",
    "    fmt=\"none\",\n",
    "    lw=5,\n",
    "    color=color,\n",
    ")\n",
    "[i.set_linewidth(5) for i in ax.spines.values()]\n",
    "\n",
    "ax.fill_between(\n",
    "    model_x,\n",
    "    lower_,\n",
    "    upper_,\n",
    "    color=\"k\",\n",
    "    alpha=0.1,\n",
    ")\n",
    "ax.plot(model_x, model_y, lw=3, color = 'k', ls = 'dashed')\n",
    "ax.set_xlabel('P(class|cue)', fontsize=14)\n",
    "ax.set_ylabel('$\\Delta$ Cosine similarity (cue - no cue)', fontsize=14)\n",
    "#ax.set_ylim([-0.014, -0.001])\n",
    "\n",
    "ensure_dir(FIGURE_DIR / 'cue_similarity')\n",
    "if save_figs:\n",
    "    save_fig(FIGURE_DIR / 'cue_similarity'/ 'cue_similarity_relative_uncued', save_pdf=True)\n",
    "plt.show()"
   ]
  },
  {
   "cell_type": "markdown",
   "metadata": {},
   "source": [
    "# Repeat analysis on shuffled data"
   ]
  },
  {
   "cell_type": "code",
   "execution_count": 42,
   "metadata": {
    "ExecuteTime": {
     "end_time": "2022-01-24T17:49:23.653945Z",
     "start_time": "2022-01-24T17:48:35.474522Z"
    }
   },
   "outputs": [
    {
     "data": {
      "application/vnd.jupyter.widget-view+json": {
       "model_id": "0017350a0fad44ef8def50aa1c817cfa",
       "version_major": 2,
       "version_minor": 0
      },
      "text/plain": [
       "birds:   0%|          | 0/10 [00:00<?, ?it/s]"
      ]
     },
     "metadata": {},
     "output_type": "display_data"
    }
   ],
   "source": [
    "metric = \"cosine\"\n",
    "shuffled=True\n",
    "identifier = 'sm_each_cue'\n",
    "stat_dfs = []\n",
    "for bird, timestamp, sorter in tqdm(birds, desc='birds'):\n",
    "    stat_df_shuff = pd.read_pickle(\n",
    "        DATA_DIR\n",
    "        / \"unit_statistics\"\n",
    "        / statistics_timestamp\n",
    "        / (identifier + \"_{}_{}\".format(metric, shuffled))\n",
    "        / \"{}.pickle\".format(bird, metric, shuffled)\n",
    "    )\n",
    "    stat_df_shuff['bird'] = bird\n",
    "    stat_dfs.append(stat_df_shuff)\n",
    "    \n",
    "stat_df_shuff = pd.concat(stat_dfs)"
   ]
  },
  {
   "cell_type": "code",
   "execution_count": 43,
   "metadata": {
    "ExecuteTime": {
     "end_time": "2022-01-24T17:49:23.908990Z",
     "start_time": "2022-01-24T17:49:23.656453Z"
    }
   },
   "outputs": [],
   "source": [
    "# only include categorical units\n",
    "stat_df_shuff = stat_df_shuff.merge(\n",
    "    unit_statistics_df[[\"bird\", \"unit\", \"unit_type\", \"estimated_nuclei\"]],\n",
    "    on=[\"bird\", \"unit\"],\n",
    ")"
   ]
  },
  {
   "cell_type": "code",
   "execution_count": 44,
   "metadata": {
    "ExecuteTime": {
     "end_time": "2022-01-24T17:49:26.501220Z",
     "start_time": "2022-01-24T17:49:23.911245Z"
    }
   },
   "outputs": [
    {
     "name": "stderr",
     "output_type": "stream",
     "text": [
      "/home/AD/tsainbur/anaconda3/envs/cdcp_paper/lib/python3.7/site-packages/ipykernel_launcher.py:9: DeprecationWarning: elementwise comparison failed; this will raise an error in the future.\n",
      "  if __name__ == '__main__':\n"
     ]
    },
    {
     "data": {
      "image/png": "[encoded data removed]",
      "text/plain": [
       "<Figure size 1080x360 with 3 Axes>"
      ]
     },
     "metadata": {
      "needs_background": "light"
     },
     "output_type": "display_data"
    }
   ],
   "source": [
    "fig, axs = plt.subplots(ncols=3, figsize=(15,5))\n",
    "mean_response = {}\n",
    "for ci, cue in enumerate(['NC', 'CL', 'CR']):\n",
    "    m = (stat_df_shuff.cue == cue)\n",
    "    sms = np.stack(\n",
    "        [\n",
    "            i\n",
    "            for i in stat_df[m].sm.values\n",
    "            if type(i == np.ndarray)\n",
    "        ]\n",
    "    )\n",
    "    \n",
    "    mean_sm = np.nanmean(sms, axis=0)\n",
    "    mean_response[cue] = mean_sm\n",
    "    ax = axs[ci]\n",
    "    ax.set_title(cue)\n",
    "    ax.matshow(mean_sm, cmap = 'turbo')\n",
    "plt.show()\n",
    "    #break"
   ]
  },
  {
   "cell_type": "code",
   "execution_count": 45,
   "metadata": {
    "ExecuteTime": {
     "end_time": "2022-01-24T17:49:26.572596Z",
     "start_time": "2022-01-24T17:49:26.502991Z"
    }
   },
   "outputs": [
    {
     "data": {
      "text/html": [
       "<div>\n",
       "<style scoped>\n",
       "    .dataframe tbody tr th:only-of-type {\n",
       "        vertical-align: middle;\n",
       "    }\n",
       "\n",
       "    .dataframe tbody tr th {\n",
       "        vertical-align: top;\n",
       "    }\n",
       "\n",
       "    .dataframe thead th {\n",
       "        text-align: right;\n",
       "    }\n",
       "</style>\n",
       "<table border=\"1\" class=\"dataframe\">\n",
       "  <thead>\n",
       "    <tr style=\"text-align: right;\">\n",
       "      <th></th>\n",
       "      <th>interp</th>\n",
       "      <th>cue</th>\n",
       "      <th>metric</th>\n",
       "      <th>sm</th>\n",
       "      <th>sm_n</th>\n",
       "      <th>shuffled</th>\n",
       "      <th>unit</th>\n",
       "      <th>bird</th>\n",
       "      <th>unit_type</th>\n",
       "      <th>estimated_nuclei</th>\n",
       "    </tr>\n",
       "  </thead>\n",
       "  <tbody>\n",
       "    <tr>\n",
       "      <th>0</th>\n",
       "      <td>BF</td>\n",
       "      <td>CL</td>\n",
       "      <td>cosine</td>\n",
       "      <td>[[0.0, 0.040445842060636124, 0.120043715935517...</td>\n",
       "      <td>[[1.0, 16.0, 14.0, 20.0, 8.0, 22.0, 16.0, 36.0...</td>\n",
       "      <td>False</td>\n",
       "      <td>3735</td>\n",
       "      <td>B1597</td>\n",
       "      <td>0</td>\n",
       "      <td>CMM</td>\n",
       "    </tr>\n",
       "    <tr>\n",
       "      <th>1</th>\n",
       "      <td>BF</td>\n",
       "      <td>CR</td>\n",
       "      <td>cosine</td>\n",
       "      <td>[[0.0, 0.0, 0.5000000000000001, nan, nan, 0.0,...</td>\n",
       "      <td>[[1.0, 10.0, 2.0, 0.0, 0.0, 4.0, 6.0, 4.0, 26....</td>\n",
       "      <td>False</td>\n",
       "      <td>3735</td>\n",
       "      <td>B1597</td>\n",
       "      <td>0</td>\n",
       "      <td>CMM</td>\n",
       "    </tr>\n",
       "    <tr>\n",
       "      <th>2</th>\n",
       "      <td>BF</td>\n",
       "      <td>CR1</td>\n",
       "      <td>cosine</td>\n",
       "      <td>[[nan, 0.0, nan, nan, nan, nan, nan, nan, 0.0,...</td>\n",
       "      <td>[[0.0, 1.0, 0.0, 0.0, 0.0, 0.0, 0.0, 0.0, 11.0...</td>\n",
       "      <td>False</td>\n",
       "      <td>3735</td>\n",
       "      <td>B1597</td>\n",
       "      <td>0</td>\n",
       "      <td>CMM</td>\n",
       "    </tr>\n",
       "  </tbody>\n",
       "</table>\n",
       "</div>"
      ],
      "text/plain": [
       "  interp  cue  metric                                                 sm  \\\n",
       "0     BF   CL  cosine  [[0.0, 0.040445842060636124, 0.120043715935517...   \n",
       "1     BF   CR  cosine  [[0.0, 0.0, 0.5000000000000001, nan, nan, 0.0,...   \n",
       "2     BF  CR1  cosine  [[nan, 0.0, nan, nan, nan, nan, nan, nan, 0.0,...   \n",
       "\n",
       "                                                sm_n shuffled  unit   bird  \\\n",
       "0  [[1.0, 16.0, 14.0, 20.0, 8.0, 22.0, 16.0, 36.0...    False  3735  B1597   \n",
       "1  [[1.0, 10.0, 2.0, 0.0, 0.0, 4.0, 6.0, 4.0, 26....    False  3735  B1597   \n",
       "2  [[0.0, 1.0, 0.0, 0.0, 0.0, 0.0, 0.0, 0.0, 11.0...    False  3735  B1597   \n",
       "\n",
       "   unit_type estimated_nuclei  \n",
       "0          0              CMM  \n",
       "1          0              CMM  \n",
       "2          0              CMM  "
      ]
     },
     "execution_count": 45,
     "metadata": {},
     "output_type": "execute_result"
    }
   ],
   "source": [
    "stat_df[:3]"
   ]
  },
  {
   "cell_type": "markdown",
   "metadata": {},
   "source": [
    "#### for each bird, unit, interp, cue, get difference in similarity matrix between CL and CR"
   ]
  },
  {
   "cell_type": "code",
   "execution_count": 46,
   "metadata": {
    "ExecuteTime": {
     "end_time": "2022-01-24T17:49:26.811667Z",
     "start_time": "2022-01-24T17:49:26.574085Z"
    }
   },
   "outputs": [],
   "source": [
    "stat_df_by_cue_shuff = stat_df_shuff[['bird','unit', 'cue', 'sm', 'interp']].set_index(['bird','unit', 'interp', \"cue\"])['sm'].unstack()"
   ]
  },
  {
   "cell_type": "code",
   "execution_count": 47,
   "metadata": {
    "ExecuteTime": {
     "end_time": "2022-01-24T17:49:27.004263Z",
     "start_time": "2022-01-24T17:49:26.813406Z"
    }
   },
   "outputs": [
    {
     "data": {
      "text/html": [
       "<div>\n",
       "<style scoped>\n",
       "    .dataframe tbody tr th:only-of-type {\n",
       "        vertical-align: middle;\n",
       "    }\n",
       "\n",
       "    .dataframe tbody tr th {\n",
       "        vertical-align: top;\n",
       "    }\n",
       "\n",
       "    .dataframe thead th {\n",
       "        text-align: right;\n",
       "    }\n",
       "</style>\n",
       "<table border=\"1\" class=\"dataframe\">\n",
       "  <thead>\n",
       "    <tr style=\"text-align: right;\">\n",
       "      <th></th>\n",
       "      <th></th>\n",
       "      <th>cue</th>\n",
       "      <th>CL</th>\n",
       "      <th>CL0</th>\n",
       "      <th>CL1</th>\n",
       "      <th>CN</th>\n",
       "      <th>CR</th>\n",
       "      <th>CR0</th>\n",
       "      <th>CR1</th>\n",
       "      <th>NC</th>\n",
       "    </tr>\n",
       "    <tr>\n",
       "      <th>bird</th>\n",
       "      <th>unit</th>\n",
       "      <th>interp</th>\n",
       "      <th></th>\n",
       "      <th></th>\n",
       "      <th></th>\n",
       "      <th></th>\n",
       "      <th></th>\n",
       "      <th></th>\n",
       "      <th></th>\n",
       "      <th></th>\n",
       "    </tr>\n",
       "  </thead>\n",
       "  <tbody>\n",
       "    <tr>\n",
       "      <th rowspan=\"3\" valign=\"top\">B1170</th>\n",
       "      <th>1002</th>\n",
       "      <th>AE</th>\n",
       "      <td>[[0.10766610927036685, 0.10666010511876226, 0....</td>\n",
       "      <td>[[0.10917881800580818, 0.10850286260469139, 0....</td>\n",
       "      <td>[[0.09943699309039213, 0.11054275042842014, 0....</td>\n",
       "      <td>[[0.07779934365718641, 0.1201674569469407, nan...</td>\n",
       "      <td>[[0.19250736107632066, 0.1786686367478479, 0.1...</td>\n",
       "      <td>[[0.2034077948896784, 0.17673245906555812, 0.1...</td>\n",
       "      <td>[[0.09678490891823682, 0.1821221585213839, 0.2...</td>\n",
       "      <td>[[0.0858863968276733, 0.08629990792105367, 0.0...</td>\n",
       "    </tr>\n",
       "    <tr>\n",
       "      <th>1027</th>\n",
       "      <th>AE</th>\n",
       "      <td>[[0.04650963026019349, 0.03781894415132195, 0....</td>\n",
       "      <td>[[0.050539634431840536, 0.04062408355524255, 0...</td>\n",
       "      <td>[[0.04417994279574464, 0.03621112213924366, 0....</td>\n",
       "      <td>[[0.04392579036840735, 0.024709889037166713, 0...</td>\n",
       "      <td>[[0.06309034263749515, 0.054790556082061175, 0...</td>\n",
       "      <td>[[0.07389751542380195, 0.049132063044765785, 0...</td>\n",
       "      <td>[[0.04115793010628172, 0.05686215556524733, 0....</td>\n",
       "      <td>[[0.06828327441774482, 0.05797462639410615, 0....</td>\n",
       "    </tr>\n",
       "    <tr>\n",
       "      <th>1037</th>\n",
       "      <th>AE</th>\n",
       "      <td>[[0.39350941750266555, 0.41061584905906623, 0....</td>\n",
       "      <td>[[0.4279130047689805, 0.43460431618204814, 0.3...</td>\n",
       "      <td>[[0.37178247157646416, 0.3985541185862895, 0.4...</td>\n",
       "      <td>[[0.4521886636309882, 0.28098742995398573, nan...</td>\n",
       "      <td>[[0.29298176191967346, 0.33671534709552153, 0....</td>\n",
       "      <td>[[0.3352176707118242, 0.3339864600753635, 0.30...</td>\n",
       "      <td>[[0.15154515462897208, 0.23940034826619716, 0....</td>\n",
       "      <td>[[0.4455007301654843, 0.39522492316429386, 0.4...</td>\n",
       "    </tr>\n",
       "  </tbody>\n",
       "</table>\n",
       "</div>"
      ],
      "text/plain": [
       "cue                                                               CL  \\\n",
       "bird  unit interp                                                      \n",
       "B1170 1002 AE      [[0.10766610927036685, 0.10666010511876226, 0....   \n",
       "      1027 AE      [[0.04650963026019349, 0.03781894415132195, 0....   \n",
       "      1037 AE      [[0.39350941750266555, 0.41061584905906623, 0....   \n",
       "\n",
       "cue                                                              CL0  \\\n",
       "bird  unit interp                                                      \n",
       "B1170 1002 AE      [[0.10917881800580818, 0.10850286260469139, 0....   \n",
       "      1027 AE      [[0.050539634431840536, 0.04062408355524255, 0...   \n",
       "      1037 AE      [[0.4279130047689805, 0.43460431618204814, 0.3...   \n",
       "\n",
       "cue                                                              CL1  \\\n",
       "bird  unit interp                                                      \n",
       "B1170 1002 AE      [[0.09943699309039213, 0.11054275042842014, 0....   \n",
       "      1027 AE      [[0.04417994279574464, 0.03621112213924366, 0....   \n",
       "      1037 AE      [[0.37178247157646416, 0.3985541185862895, 0.4...   \n",
       "\n",
       "cue                                                               CN  \\\n",
       "bird  unit interp                                                      \n",
       "B1170 1002 AE      [[0.07779934365718641, 0.1201674569469407, nan...   \n",
       "      1027 AE      [[0.04392579036840735, 0.024709889037166713, 0...   \n",
       "      1037 AE      [[0.4521886636309882, 0.28098742995398573, nan...   \n",
       "\n",
       "cue                                                               CR  \\\n",
       "bird  unit interp                                                      \n",
       "B1170 1002 AE      [[0.19250736107632066, 0.1786686367478479, 0.1...   \n",
       "      1027 AE      [[0.06309034263749515, 0.054790556082061175, 0...   \n",
       "      1037 AE      [[0.29298176191967346, 0.33671534709552153, 0....   \n",
       "\n",
       "cue                                                              CR0  \\\n",
       "bird  unit interp                                                      \n",
       "B1170 1002 AE      [[0.2034077948896784, 0.17673245906555812, 0.1...   \n",
       "      1027 AE      [[0.07389751542380195, 0.049132063044765785, 0...   \n",
       "      1037 AE      [[0.3352176707118242, 0.3339864600753635, 0.30...   \n",
       "\n",
       "cue                                                              CR1  \\\n",
       "bird  unit interp                                                      \n",
       "B1170 1002 AE      [[0.09678490891823682, 0.1821221585213839, 0.2...   \n",
       "      1027 AE      [[0.04115793010628172, 0.05686215556524733, 0....   \n",
       "      1037 AE      [[0.15154515462897208, 0.23940034826619716, 0....   \n",
       "\n",
       "cue                                                               NC  \n",
       "bird  unit interp                                                     \n",
       "B1170 1002 AE      [[0.0858863968276733, 0.08629990792105367, 0.0...  \n",
       "      1027 AE      [[0.06828327441774482, 0.05797462639410615, 0....  \n",
       "      1037 AE      [[0.4455007301654843, 0.39522492316429386, 0.4...  "
      ]
     },
     "execution_count": 47,
     "metadata": {},
     "output_type": "execute_result"
    }
   ],
   "source": [
    "stat_df_by_cue_shuff[:3]"
   ]
  },
  {
   "cell_type": "code",
   "execution_count": 48,
   "metadata": {
    "ExecuteTime": {
     "end_time": "2022-01-24T17:49:27.280434Z",
     "start_time": "2022-01-24T17:49:27.005814Z"
    }
   },
   "outputs": [],
   "source": [
    "CL_sm_shuff = np.stack([i for i in stat_df_by_cue_shuff.CL.values if type(i) == np.ndarray])\n",
    "CR_sm_shuff = np.stack([i for i in stat_df_by_cue_shuff.CR.values if type(i) == np.ndarray])\n",
    "diff_shuff = np.nanmean(CL_sm_shuff - CR_sm_shuff, axis=0)"
   ]
  },
  {
   "cell_type": "code",
   "execution_count": 49,
   "metadata": {
    "ExecuteTime": {
     "end_time": "2022-01-24T17:49:27.301205Z",
     "start_time": "2022-01-24T17:49:27.282170Z"
    }
   },
   "outputs": [],
   "source": [
    "import matplotlib.patches as patches"
   ]
  },
  {
   "cell_type": "code",
   "execution_count": 50,
   "metadata": {
    "ExecuteTime": {
     "end_time": "2022-01-24T17:49:27.319944Z",
     "start_time": "2022-01-24T17:49:27.302913Z"
    }
   },
   "outputs": [],
   "source": [
    "from cdcp.visualization.colors import colors as cdcp_colors"
   ]
  },
  {
   "cell_type": "code",
   "execution_count": 51,
   "metadata": {
    "ExecuteTime": {
     "end_time": "2022-01-24T17:49:28.026066Z",
     "start_time": "2022-01-24T17:49:27.321608Z"
    }
   },
   "outputs": [
    {
     "data": {
      "image/png": "[encoded data removed]",
      "text/plain": [
       "<Figure size 360x288 with 2 Axes>"
      ]
     },
     "metadata": {
      "needs_background": "light"
     },
     "output_type": "display_data"
    }
   ],
   "source": [
    "fig, ax = plt.subplots(figsize=(5,4))\n",
    "vmin = -0.015\n",
    "vmax = 0.015\n",
    "im = ax.matshow(diff_shuff, vmin = vmin, vmax = vmax, cmap = 'coolwarm', extent=[0,1,0,1])\n",
    "# Create a Rectangle patch\n",
    "rect = patches.Rectangle((0, 0.5), 0.5, 0.5, linewidth=5, edgecolor='orange', facecolor='none')\n",
    "rect2 = patches.Rectangle((0.5,0), 0.5, 0.5, linewidth=5, edgecolor=cdcp_colors['reinforce']['R']['dark'], facecolor='none')\n",
    "\n",
    "# Add the patch to the Axes\n",
    "ax.add_patch(rect)\n",
    "ax.add_patch(rect2)\n",
    "ax.axis('off')\n",
    "ax.set_xlim([-0.01,1.01])\n",
    "ax.set_ylim([-0.01,1.01])\n",
    "plt.colorbar(im)#, orientation='horizontal')\n",
    "\n",
    "ensure_dir(FIGURE_DIR / 'cue_similarity')\n",
    "if save_figs:\n",
    "    save_fig(FIGURE_DIR / 'cue_similarity'/ 'cue_similarity_left_minus_right_shuffled', save_pdf=True)\n",
    "plt.show()"
   ]
  },
  {
   "cell_type": "code",
   "execution_count": 52,
   "metadata": {
    "ExecuteTime": {
     "end_time": "2022-01-24T17:49:28.048828Z",
     "start_time": "2022-01-24T17:49:28.027932Z"
    }
   },
   "outputs": [],
   "source": [
    "p_left = {\n",
    "    \"CL1\": 0.875,\n",
    "    'CL0': 0.75,\n",
    "    'CN': 0.5,\n",
    "    'CR0': 0.25,\n",
    "    'CR1': 0.125,\n",
    "}"
   ]
  },
  {
   "cell_type": "code",
   "execution_count": 53,
   "metadata": {
    "ExecuteTime": {
     "end_time": "2022-01-24T17:49:28.876611Z",
     "start_time": "2022-01-24T17:49:28.050628Z"
    }
   },
   "outputs": [
    {
     "name": "stderr",
     "output_type": "stream",
     "text": [
      "/home/AD/tsainbur/anaconda3/envs/cdcp_paper/lib/python3.7/site-packages/ipykernel_launcher.py:27: VisibleDeprecationWarning: Creating an ndarray from ragged nested sequences (which is a list-or-tuple of lists-or-tuples-or ndarrays with different lengths or shapes) is deprecated. If you meant to do this, you must specify 'dtype=object' when creating the ndarray.\n"
     ]
    }
   ],
   "source": [
    "NC_sm = np.stack([i for i in stat_df_by_cue_shuff.NC.values if type(i) == np.ndarray])\n",
    "L_R_diffs_shuff = []\n",
    "for cue in ['CL1', 'CL0', 'CR0', 'CR1']:\n",
    "    C_sm = np.stack([i for i in stat_df_by_cue_shuff[cue].values if type(i) == np.ndarray])\n",
    "    diff = C_sm - NC_sm\n",
    "    L = diff[:,:8,:8].flatten()\n",
    "    R = diff[:,8:,8:].flatten()\n",
    "    L = L[np.isnan(L) == False]\n",
    "    R = R[np.isnan(R) == False]\n",
    "    t_test = welch_ttest(L, R)\n",
    "    t_test['cue'] = cue\n",
    "    #L_R_diff = np.nanmean(L) - np.nanmean(R)\n",
    "    L_R_diffs_shuff.append(t_test)\n",
    "L_R_diffs_shuff = pd.concat(L_R_diffs_shuff)\n",
    "L_R_diffs_shuff['p_left'] = [p_left[i] for i in L_R_diffs_shuff.cue.values]"
   ]
  },
  {
   "cell_type": "code",
   "execution_count": 54,
   "metadata": {
    "ExecuteTime": {
     "end_time": "2022-01-24T17:49:28.963860Z",
     "start_time": "2022-01-24T17:49:28.883640Z"
    }
   },
   "outputs": [
    {
     "data": {
      "text/html": [
       "<div>\n",
       "<style scoped>\n",
       "    .dataframe tbody tr th:only-of-type {\n",
       "        vertical-align: middle;\n",
       "    }\n",
       "\n",
       "    .dataframe tbody tr th {\n",
       "        vertical-align: top;\n",
       "    }\n",
       "\n",
       "    .dataframe thead th {\n",
       "        text-align: right;\n",
       "    }\n",
       "</style>\n",
       "<table border=\"1\" class=\"dataframe\">\n",
       "  <thead>\n",
       "    <tr style=\"text-align: right;\">\n",
       "      <th></th>\n",
       "      <th>T statistic</th>\n",
       "      <th>df</th>\n",
       "      <th>pvalue</th>\n",
       "      <th>diff</th>\n",
       "      <th>lb</th>\n",
       "      <th>ub</th>\n",
       "      <th>L</th>\n",
       "      <th>R</th>\n",
       "      <th>cue</th>\n",
       "      <th>p_left</th>\n",
       "    </tr>\n",
       "  </thead>\n",
       "  <tbody>\n",
       "    <tr>\n",
       "      <th>0</th>\n",
       "      <td>-6.947414</td>\n",
       "      <td>361686.265981</td>\n",
       "      <td>0.0</td>\n",
       "      <td>-0.002442</td>\n",
       "      <td>-0.00313</td>\n",
       "      <td>-0.001753</td>\n",
       "      <td>[0.013550596262718831, 0.02424284250736647, 0....</td>\n",
       "      <td>[0.003316649050589121, 0.20336386594600808, 0....</td>\n",
       "      <td>CL1</td>\n",
       "      <td>0.875</td>\n",
       "    </tr>\n",
       "    <tr>\n",
       "      <th>0</th>\n",
       "      <td>-1.934111</td>\n",
       "      <td>858658.404358</td>\n",
       "      <td>0.0531</td>\n",
       "      <td>-0.000525</td>\n",
       "      <td>-0.001057</td>\n",
       "      <td>0.000007</td>\n",
       "      <td>[0.02329242117813489, 0.022202954683637713, 0....</td>\n",
       "      <td>[-0.18112336718517436, -0.07177801640461196, -...</td>\n",
       "      <td>CL0</td>\n",
       "      <td>0.750</td>\n",
       "    </tr>\n",
       "    <tr>\n",
       "      <th>0</th>\n",
       "      <td>-4.715149</td>\n",
       "      <td>821174.315321</td>\n",
       "      <td>0.000002</td>\n",
       "      <td>-0.001283</td>\n",
       "      <td>-0.001816</td>\n",
       "      <td>-0.00075</td>\n",
       "      <td>[0.1175213980620051, 0.09043255114450445, 0.04...</td>\n",
       "      <td>[-0.04029716303187833, -0.11202371265599387, -...</td>\n",
       "      <td>CR0</td>\n",
       "      <td>0.250</td>\n",
       "    </tr>\n",
       "    <tr>\n",
       "      <th>0</th>\n",
       "      <td>0.690956</td>\n",
       "      <td>341875.762513</td>\n",
       "      <td>0.489594</td>\n",
       "      <td>0.000246</td>\n",
       "      <td>-0.000451</td>\n",
       "      <td>0.000943</td>\n",
       "      <td>[0.010898512090563528, 0.09582225060033021, 0....</td>\n",
       "      <td>[-0.030784803121193416, -0.07217779902564342, ...</td>\n",
       "      <td>CR1</td>\n",
       "      <td>0.125</td>\n",
       "    </tr>\n",
       "  </tbody>\n",
       "</table>\n",
       "</div>"
      ],
      "text/plain": [
       "  T statistic             df    pvalue      diff        lb        ub  \\\n",
       "0   -6.947414  361686.265981       0.0 -0.002442  -0.00313 -0.001753   \n",
       "0   -1.934111  858658.404358    0.0531 -0.000525 -0.001057  0.000007   \n",
       "0   -4.715149  821174.315321  0.000002 -0.001283 -0.001816  -0.00075   \n",
       "0    0.690956  341875.762513  0.489594  0.000246 -0.000451  0.000943   \n",
       "\n",
       "                                                   L  \\\n",
       "0  [0.013550596262718831, 0.02424284250736647, 0....   \n",
       "0  [0.02329242117813489, 0.022202954683637713, 0....   \n",
       "0  [0.1175213980620051, 0.09043255114450445, 0.04...   \n",
       "0  [0.010898512090563528, 0.09582225060033021, 0....   \n",
       "\n",
       "                                                   R  cue  p_left  \n",
       "0  [0.003316649050589121, 0.20336386594600808, 0....  CL1   0.875  \n",
       "0  [-0.18112336718517436, -0.07177801640461196, -...  CL0   0.750  \n",
       "0  [-0.04029716303187833, -0.11202371265599387, -...  CR0   0.250  \n",
       "0  [-0.030784803121193416, -0.07217779902564342, ...  CR1   0.125  "
      ]
     },
     "execution_count": 54,
     "metadata": {},
     "output_type": "execute_result"
    }
   ],
   "source": [
    "L_R_diffs_shuff"
   ]
  },
  {
   "cell_type": "code",
   "execution_count": 55,
   "metadata": {
    "ExecuteTime": {
     "end_time": "2022-01-24T17:49:28.995671Z",
     "start_time": "2022-01-24T17:49:28.965935Z"
    }
   },
   "outputs": [],
   "source": [
    "import copy"
   ]
  },
  {
   "cell_type": "code",
   "execution_count": 56,
   "metadata": {
    "ExecuteTime": {
     "end_time": "2022-01-24T17:49:29.378382Z",
     "start_time": "2022-01-24T17:49:28.997127Z"
    }
   },
   "outputs": [],
   "source": [
    "stat_df_by_cue_rel_CN_shuff = copy.deepcopy(stat_df_by_cue_shuff)\n",
    "for cue in ['CL1', 'CL0', 'CR0', 'CR1']:\n",
    "    stat_df_by_cue_rel_CN_shuff[cue] = stat_df_by_cue_shuff[cue].values - stat_df_by_cue['CN'].values\n",
    "    stat_df_by_cue_rel_CN_shuff = stat_df_by_cue_rel_CN_shuff[['CL1', 'CL0', 'CR0', 'CR1']]"
   ]
  },
  {
   "cell_type": "code",
   "execution_count": 57,
   "metadata": {
    "ExecuteTime": {
     "end_time": "2022-01-24T17:49:29.490176Z",
     "start_time": "2022-01-24T17:49:29.380026Z"
    }
   },
   "outputs": [
    {
     "data": {
      "text/html": [
       "<div>\n",
       "<style scoped>\n",
       "    .dataframe tbody tr th:only-of-type {\n",
       "        vertical-align: middle;\n",
       "    }\n",
       "\n",
       "    .dataframe tbody tr th {\n",
       "        vertical-align: top;\n",
       "    }\n",
       "\n",
       "    .dataframe thead th {\n",
       "        text-align: right;\n",
       "    }\n",
       "</style>\n",
       "<table border=\"1\" class=\"dataframe\">\n",
       "  <thead>\n",
       "    <tr style=\"text-align: right;\">\n",
       "      <th></th>\n",
       "      <th></th>\n",
       "      <th>cue</th>\n",
       "      <th>CL1</th>\n",
       "      <th>CL0</th>\n",
       "      <th>CR0</th>\n",
       "      <th>CR1</th>\n",
       "    </tr>\n",
       "    <tr>\n",
       "      <th>bird</th>\n",
       "      <th>unit</th>\n",
       "      <th>interp</th>\n",
       "      <th></th>\n",
       "      <th></th>\n",
       "      <th></th>\n",
       "      <th></th>\n",
       "    </tr>\n",
       "  </thead>\n",
       "  <tbody>\n",
       "    <tr>\n",
       "      <th rowspan=\"3\" valign=\"top\">B1170</th>\n",
       "      <th>1002</th>\n",
       "      <th>AE</th>\n",
       "      <td>[[0.021637649433205716, -0.009624706518520557,...</td>\n",
       "      <td>[[0.031379474348621775, -0.011664594342249313,...</td>\n",
       "      <td>[[0.12560845123249198, 0.056565002118617425, n...</td>\n",
       "      <td>[[0.018985565261050413, 0.06195470157444319, n...</td>\n",
       "    </tr>\n",
       "    <tr>\n",
       "      <th>1027</th>\n",
       "      <th>AE</th>\n",
       "      <td>[[0.00025415242733728416, 0.011501233102076944...</td>\n",
       "      <td>[[0.006613844063433183, 0.01591419451807584, 0...</td>\n",
       "      <td>[[0.029971725055394596, 0.024422174007599072, ...</td>\n",
       "      <td>[[-0.0027678602621256307, 0.03215226652808062,...</td>\n",
       "    </tr>\n",
       "    <tr>\n",
       "      <th>1037</th>\n",
       "      <th>AE</th>\n",
       "      <td>[[-0.08040619205452404, 0.11756668863230374, n...</td>\n",
       "      <td>[[-0.02427565886200772, 0.1536168862280624, na...</td>\n",
       "      <td>[[-0.11697099291916402, 0.052999030121377744, ...</td>\n",
       "      <td>[[-0.3006435090020161, -0.041587081687788574, ...</td>\n",
       "    </tr>\n",
       "  </tbody>\n",
       "</table>\n",
       "</div>"
      ],
      "text/plain": [
       "cue                                                              CL1  \\\n",
       "bird  unit interp                                                      \n",
       "B1170 1002 AE      [[0.021637649433205716, -0.009624706518520557,...   \n",
       "      1027 AE      [[0.00025415242733728416, 0.011501233102076944...   \n",
       "      1037 AE      [[-0.08040619205452404, 0.11756668863230374, n...   \n",
       "\n",
       "cue                                                              CL0  \\\n",
       "bird  unit interp                                                      \n",
       "B1170 1002 AE      [[0.031379474348621775, -0.011664594342249313,...   \n",
       "      1027 AE      [[0.006613844063433183, 0.01591419451807584, 0...   \n",
       "      1037 AE      [[-0.02427565886200772, 0.1536168862280624, na...   \n",
       "\n",
       "cue                                                              CR0  \\\n",
       "bird  unit interp                                                      \n",
       "B1170 1002 AE      [[0.12560845123249198, 0.056565002118617425, n...   \n",
       "      1027 AE      [[0.029971725055394596, 0.024422174007599072, ...   \n",
       "      1037 AE      [[-0.11697099291916402, 0.052999030121377744, ...   \n",
       "\n",
       "cue                                                              CR1  \n",
       "bird  unit interp                                                     \n",
       "B1170 1002 AE      [[0.018985565261050413, 0.06195470157444319, n...  \n",
       "      1027 AE      [[-0.0027678602621256307, 0.03215226652808062,...  \n",
       "      1037 AE      [[-0.3006435090020161, -0.041587081687788574, ...  "
      ]
     },
     "execution_count": 57,
     "metadata": {},
     "output_type": "execute_result"
    }
   ],
   "source": [
    "stat_df_by_cue_rel_CN_shuff[:3]"
   ]
  },
  {
   "cell_type": "code",
   "execution_count": 58,
   "metadata": {
    "ExecuteTime": {
     "end_time": "2022-01-24T17:49:30.095998Z",
     "start_time": "2022-01-24T17:49:29.491669Z"
    }
   },
   "outputs": [
    {
     "name": "stderr",
     "output_type": "stream",
     "text": [
      "/home/AD/tsainbur/anaconda3/envs/cdcp_paper/lib/python3.7/site-packages/ipykernel_launcher.py:4: RuntimeWarning: Mean of empty slice\n",
      "  after removing the cwd from sys.path.\n",
      "/home/AD/tsainbur/anaconda3/envs/cdcp_paper/lib/python3.7/site-packages/ipykernel_launcher.py:5: RuntimeWarning: Mean of empty slice\n",
      "  \"\"\"\n"
     ]
    }
   ],
   "source": [
    "all_shifts_shuff = []\n",
    "all_probs_shuff = []\n",
    "for cue in ['CL1', 'CL0', 'CR0', 'CR1']:\n",
    "    L = np.nanmean(np.stack(stat_df_by_cue_rel_CN_shuff[cue])[:, :8, :8], axis=(1,2)).flatten()\n",
    "    R = np.nanmean(np.stack(stat_df_by_cue_rel_CN_shuff[cue])[:, 8:, 8:], axis=(1,2)).flatten()\n",
    "    L =  L[np.isnan(L) == False] \n",
    "    R =  R[np.isnan(R) == False] \n",
    "    shift = np.concatenate([L, R])\n",
    "    probs = np.concatenate([np.ones(len(L)) * p_left[cue], np.ones(len(R)) * (1 - p_left[cue])])\n",
    "    all_shifts_shuff.append(shift)\n",
    "    all_probs_shuff.append(probs)\n",
    "    #break\n",
    "all_shifts_shuff = np.concatenate(all_shifts_shuff)\n",
    "all_probs_shuff = np.concatenate(all_probs_shuff)"
   ]
  },
  {
   "cell_type": "code",
   "execution_count": 59,
   "metadata": {
    "ExecuteTime": {
     "end_time": "2022-01-24T17:49:30.155661Z",
     "start_time": "2022-01-24T17:49:30.097692Z"
    }
   },
   "outputs": [
    {
     "data": {
      "text/plain": [
       "((0.0020401831648138593, 0.502258563287763), 108153)"
      ]
     },
     "execution_count": 59,
     "metadata": {},
     "output_type": "execute_result"
    }
   ],
   "source": [
    "scipy.stats.pearsonr(all_probs_shuff, all_shifts_shuff), len(all_probs)"
   ]
  },
  {
   "cell_type": "code",
   "execution_count": 60,
   "metadata": {
    "ExecuteTime": {
     "end_time": "2022-01-24T17:49:30.212962Z",
     "start_time": "2022-01-24T17:49:30.158683Z"
    }
   },
   "outputs": [],
   "source": [
    "probs = np.unique(all_probs_shuff)\n",
    "mean_shift = np.array([np.mean(all_shifts_shuff[all_probs_shuff == i]) for i in probs])\n",
    "std_shift = np.array([np.std(all_shifts_shuff[all_probs_shuff == i]) for i in probs])\n",
    "n_shift = np.array([len(all_shifts_shuff[all_probs_shuff == i]) for i in probs])\n",
    "sem_shift = std_shift / np.sqrt(n_shift)"
   ]
  },
  {
   "cell_type": "code",
   "execution_count": 61,
   "metadata": {
    "ExecuteTime": {
     "end_time": "2022-01-24T17:49:38.593512Z",
     "start_time": "2022-01-24T17:49:30.215855Z"
    }
   },
   "outputs": [
    {
     "data": {
      "application/vnd.jupyter.widget-view+json": {
       "model_id": "",
       "version_major": 2,
       "version_minor": 0
      },
      "text/plain": [
       "  0%|          | 0/500 [00:00<?, ?it/s]"
      ]
     },
     "metadata": {},
     "output_type": "display_data"
    }
   ],
   "source": [
    "(lower_shuff, upper_shuff), model_x = get_95_ci(all_probs_shuff, all_shifts_shuff)"
   ]
  },
  {
   "cell_type": "code",
   "execution_count": 62,
   "metadata": {
    "ExecuteTime": {
     "end_time": "2022-01-24T17:49:38.627781Z",
     "start_time": "2022-01-24T17:49:38.595409Z"
    }
   },
   "outputs": [],
   "source": [
    "x = all_probs_shuff\n",
    "y = all_shifts_shuff\n",
    "m, b = np.polyfit(x, y, 1)\n",
    "model_y =  m * model_x + b"
   ]
  },
  {
   "cell_type": "code",
   "execution_count": 63,
   "metadata": {
    "ExecuteTime": {
     "end_time": "2022-01-24T17:49:39.314258Z",
     "start_time": "2022-01-24T17:49:38.629484Z"
    }
   },
   "outputs": [
    {
     "data": {
      "image/png": "[encoded data removed]",
      "text/plain": [
       "<Figure size 360x288 with 1 Axes>"
      ]
     },
     "metadata": {
      "needs_background": "light"
     },
     "output_type": "display_data"
    }
   ],
   "source": [
    "color = 'k'\n",
    "fig, ax = plt.subplots(figsize=(5, 4))\n",
    "ax.scatter(probs, mean_shift, color=color, s=150, alpha=0.5)\n",
    "ax.errorbar(\n",
    "    probs,\n",
    "    mean_shift,\n",
    "    sem_shift*3,\n",
    "    fmt=\"none\",\n",
    "    lw=5,\n",
    "    color=color,\n",
    ")\n",
    "[i.set_linewidth(5) for i in ax.spines.values()]\n",
    "\n",
    "ax.fill_between(\n",
    "    model_x,\n",
    "    lower_shuff,\n",
    "    upper_shuff,\n",
    "    color=\"k\",\n",
    "    alpha=0.1,\n",
    ")\n",
    "ax.plot(model_x, model_y, lw=3, color = 'k', ls = 'dashed')\n",
    "ax.set_xlabel('P(class|cue)', fontsize=14)\n",
    "ax.set_ylabel('$\\Delta$ Cosine similarity (cue - no cue)', fontsize=14)\n",
    "ax.set_ylim([-0.0175, -0.001])\n",
    "\n",
    "ensure_dir(FIGURE_DIR / 'cue_similarity')\n",
    "if save_figs:\n",
    "    save_fig(FIGURE_DIR / 'cue_similarity'/ 'cue_similarity_relative_uncued_shuffled', save_pdf=True)\n",
    "plt.show()"
   ]
  },
  {
   "cell_type": "code",
   "execution_count": null,
   "metadata": {},
   "outputs": [],
   "source": []
  },
  {
   "cell_type": "markdown",
   "metadata": {},
   "source": [
    "### look across regions, unit types, subjects"
   ]
  },
  {
   "cell_type": "code",
   "execution_count": 64,
   "metadata": {
    "ExecuteTime": {
     "end_time": "2022-01-24T17:49:39.384473Z",
     "start_time": "2022-01-24T17:49:39.315959Z"
    }
   },
   "outputs": [
    {
     "data": {
      "text/html": [
       "<div>\n",
       "<style scoped>\n",
       "    .dataframe tbody tr th:only-of-type {\n",
       "        vertical-align: middle;\n",
       "    }\n",
       "\n",
       "    .dataframe tbody tr th {\n",
       "        vertical-align: top;\n",
       "    }\n",
       "\n",
       "    .dataframe thead th {\n",
       "        text-align: right;\n",
       "    }\n",
       "</style>\n",
       "<table border=\"1\" class=\"dataframe\">\n",
       "  <thead>\n",
       "    <tr style=\"text-align: right;\">\n",
       "      <th></th>\n",
       "      <th>interp</th>\n",
       "      <th>cue</th>\n",
       "      <th>metric</th>\n",
       "      <th>sm</th>\n",
       "      <th>sm_n</th>\n",
       "      <th>shuffled</th>\n",
       "      <th>unit</th>\n",
       "      <th>bird</th>\n",
       "      <th>unit_type</th>\n",
       "      <th>estimated_nuclei</th>\n",
       "    </tr>\n",
       "  </thead>\n",
       "  <tbody>\n",
       "    <tr>\n",
       "      <th>0</th>\n",
       "      <td>BF</td>\n",
       "      <td>CL</td>\n",
       "      <td>cosine</td>\n",
       "      <td>[[0.0, 0.040445842060636124, 0.120043715935517...</td>\n",
       "      <td>[[1.0, 16.0, 14.0, 20.0, 8.0, 22.0, 16.0, 36.0...</td>\n",
       "      <td>False</td>\n",
       "      <td>3735</td>\n",
       "      <td>B1597</td>\n",
       "      <td>0</td>\n",
       "      <td>CMM</td>\n",
       "    </tr>\n",
       "    <tr>\n",
       "      <th>1</th>\n",
       "      <td>BF</td>\n",
       "      <td>CR</td>\n",
       "      <td>cosine</td>\n",
       "      <td>[[0.0, 0.0, 0.5000000000000001, nan, nan, 0.0,...</td>\n",
       "      <td>[[1.0, 10.0, 2.0, 0.0, 0.0, 4.0, 6.0, 4.0, 26....</td>\n",
       "      <td>False</td>\n",
       "      <td>3735</td>\n",
       "      <td>B1597</td>\n",
       "      <td>0</td>\n",
       "      <td>CMM</td>\n",
       "    </tr>\n",
       "    <tr>\n",
       "      <th>2</th>\n",
       "      <td>BF</td>\n",
       "      <td>CR1</td>\n",
       "      <td>cosine</td>\n",
       "      <td>[[nan, 0.0, nan, nan, nan, nan, nan, nan, 0.0,...</td>\n",
       "      <td>[[0.0, 1.0, 0.0, 0.0, 0.0, 0.0, 0.0, 0.0, 11.0...</td>\n",
       "      <td>False</td>\n",
       "      <td>3735</td>\n",
       "      <td>B1597</td>\n",
       "      <td>0</td>\n",
       "      <td>CMM</td>\n",
       "    </tr>\n",
       "  </tbody>\n",
       "</table>\n",
       "</div>"
      ],
      "text/plain": [
       "  interp  cue  metric                                                 sm  \\\n",
       "0     BF   CL  cosine  [[0.0, 0.040445842060636124, 0.120043715935517...   \n",
       "1     BF   CR  cosine  [[0.0, 0.0, 0.5000000000000001, nan, nan, 0.0,...   \n",
       "2     BF  CR1  cosine  [[nan, 0.0, nan, nan, nan, nan, nan, nan, 0.0,...   \n",
       "\n",
       "                                                sm_n shuffled  unit   bird  \\\n",
       "0  [[1.0, 16.0, 14.0, 20.0, 8.0, 22.0, 16.0, 36.0...    False  3735  B1597   \n",
       "1  [[1.0, 10.0, 2.0, 0.0, 0.0, 4.0, 6.0, 4.0, 26....    False  3735  B1597   \n",
       "2  [[0.0, 1.0, 0.0, 0.0, 0.0, 0.0, 0.0, 0.0, 11.0...    False  3735  B1597   \n",
       "\n",
       "   unit_type estimated_nuclei  \n",
       "0          0              CMM  \n",
       "1          0              CMM  \n",
       "2          0              CMM  "
      ]
     },
     "execution_count": 64,
     "metadata": {},
     "output_type": "execute_result"
    }
   ],
   "source": [
    "stat_df[:3]"
   ]
  },
  {
   "cell_type": "code",
   "execution_count": 65,
   "metadata": {
    "ExecuteTime": {
     "end_time": "2022-01-24T17:49:39.408029Z",
     "start_time": "2022-01-24T17:49:39.385904Z"
    }
   },
   "outputs": [],
   "source": [
    "features = [\"estimated_nuclei\", \"bird\", \"unit_type\", \"interp\"]"
   ]
  },
  {
   "cell_type": "code",
   "execution_count": 66,
   "metadata": {
    "ExecuteTime": {
     "end_time": "2022-01-24T17:49:39.427402Z",
     "start_time": "2022-01-24T17:49:39.409712Z"
    }
   },
   "outputs": [],
   "source": [
    "cue_list = [[\"CL0\"], [\"CL1\"], [\"CR0\"], [\"CR1\"]]"
   ]
  },
  {
   "cell_type": "code",
   "execution_count": 67,
   "metadata": {
    "ExecuteTime": {
     "end_time": "2022-01-24T17:49:44.405560Z",
     "start_time": "2022-01-24T17:49:39.428974Z"
    },
    "scrolled": false
   },
   "outputs": [
    {
     "name": "stdout",
     "output_type": "stream",
     "text": [
      "estimated_nuclei 4\n",
      "estimated_nuclei\n",
      "estimated_nuclei CMM\n",
      "estimated_nuclei NCL\n",
      "estimated_nuclei Field_L\n",
      "estimated_nuclei NCM\n"
     ]
    },
    {
     "data": {
      "image/png": "[encoded data removed]",
      "text/plain": [
       "<Figure size 288x288 with 4 Axes>"
      ]
     },
     "metadata": {
      "needs_background": "light"
     },
     "output_type": "display_data"
    },
    {
     "name": "stdout",
     "output_type": "stream",
     "text": [
      "bird 9\n",
      "bird\n",
      "bird B1597\n",
      "bird B1188\n",
      "bird B1595\n",
      "bird B1426\n",
      "bird B1432\n",
      "bird B1170\n"
     ]
    },
    {
     "name": "stderr",
     "output_type": "stream",
     "text": [
      "/home/AD/tsainbur/anaconda3/envs/cdcp_paper/lib/python3.7/site-packages/ipykernel_launcher.py:27: RuntimeWarning: Mean of empty slice\n"
     ]
    },
    {
     "name": "stdout",
     "output_type": "stream",
     "text": [
      "bird B1244\n",
      "bird B1593\n",
      "bird B1248\n"
     ]
    },
    {
     "data": {
      "image/png": "[encoded data removed]",
      "text/plain": [
       "<Figure size 432x432 with 9 Axes>"
      ]
     },
     "metadata": {
      "needs_background": "light"
     },
     "output_type": "display_data"
    },
    {
     "name": "stdout",
     "output_type": "stream",
     "text": [
      "unit_type 3\n",
      "unit_type\n",
      "unit_type 0\n",
      "unit_type 1\n",
      "unit_type 2\n"
     ]
    },
    {
     "data": {
      "image/png": "[encoded data removed]",
      "text/plain": [
       "<Figure size 288x288 with 4 Axes>"
      ]
     },
     "metadata": {
      "needs_background": "light"
     },
     "output_type": "display_data"
    },
    {
     "name": "stdout",
     "output_type": "stream",
     "text": [
      "interp 9\n",
      "interp\n",
      "interp BF\n",
      "interp AF\n",
      "interp BE\n",
      "interp AE\n",
      "interp AG\n",
      "interp CG\n",
      "interp CF\n",
      "interp BG\n",
      "interp CE\n"
     ]
    },
    {
     "data": {
      "image/png": "[encoded data removed]",
      "text/plain": [
       "<Figure size 432x432 with 9 Axes>"
      ]
     },
     "metadata": {
      "needs_background": "light"
     },
     "output_type": "display_data"
    }
   ],
   "source": [
    "for feature in features:\n",
    "    nex = len(stat_df[feature].unique())\n",
    "    print(feature, nex)\n",
    "    ncols = int(np.ceil(np.sqrt(nex)))\n",
    "    nrows = int(np.ceil(nex / ncols))\n",
    "    fig, axs = plt.subplots(\n",
    "        ncols=ncols,\n",
    "        nrows=nrows,  # gridspec_kw={\"wspace\": 0.25, \"hspace\": 0.25},\n",
    "        figsize=(ncols * 2, nrows * 2),\n",
    "    )\n",
    "    print(feature)\n",
    "    for axi, feat in enumerate(stat_df[feature].unique()):\n",
    "        print(feature, feat)\n",
    "        ax = axs.flatten()[axi]\n",
    "        ax.set_title(feat, fontsize=14, y=0., pad=0)\n",
    "\n",
    "        feat_df = stat_df[stat_df[feature] == feat]\n",
    "        feat_df_by_cue = (\n",
    "            feat_df[[\"bird\", \"unit\", \"cue\", \"sm\", \"interp\"]]\n",
    "            .set_index([\"bird\", \"unit\", \"interp\", \"cue\"])[\"sm\"]\n",
    "            .unstack()\n",
    "        )\n",
    "\n",
    "        # get CL vs CR sm\n",
    "        CL_sm = np.stack([i for i in feat_df_by_cue.CL.values if type(i) == np.ndarray])\n",
    "        CR_sm = np.stack([i for i in feat_df_by_cue.CR.values if type(i) == np.ndarray])\n",
    "        diff = np.nanmean(CL_sm - CR_sm, axis=0)\n",
    "\n",
    "        im = ax.matshow(\n",
    "            diff, vmin=-np.nanmax(np.abs(diff)), vmax=np.nanmax(np.abs(diff)), cmap=\"coolwarm\", extent=[0, 1, 0, 1]\n",
    "        )\n",
    "        # Create a Rectangle patch\n",
    "        rect = patches.Rectangle(\n",
    "            (0, 0.5), 0.5, 0.5, linewidth=5, edgecolor=\"orange\", facecolor=\"none\"\n",
    "        )\n",
    "        rect2 = patches.Rectangle(\n",
    "            (0.5, 0),\n",
    "            0.5,\n",
    "            0.5,\n",
    "            linewidth=5,\n",
    "            edgecolor=cdcp_colors[\"reinforce\"][\"R\"][\"dark\"],\n",
    "            facecolor=\"none\",\n",
    "        )\n",
    "\n",
    "        # Add the patch to the Axes\n",
    "        ax.add_patch(rect)\n",
    "        ax.add_patch(rect2)\n",
    "        ax.axis(\"off\")\n",
    "        ax.set_xlim([-0.01, 1.01])\n",
    "        ax.set_ylim([-0.01, 1.01])\n",
    "        \n",
    "    ensure_dir(FIGURE_DIR / 'cue_similarity')\n",
    "    if save_figs:\n",
    "        save_fig(FIGURE_DIR / 'cue_similarity'/ 'cue_similarity_left_minus_right_{}'.format(feature), save_pdf=True)\n",
    "    plt.show()"
   ]
  },
  {
   "cell_type": "code",
   "execution_count": 68,
   "metadata": {
    "ExecuteTime": {
     "end_time": "2022-01-24T17:49:44.425998Z",
     "start_time": "2022-01-24T17:49:44.407142Z"
    }
   },
   "outputs": [],
   "source": [
    "features = [\"unit_type\",\"estimated_nuclei\", \"bird\",  \"interp\"]"
   ]
  },
  {
   "cell_type": "code",
   "execution_count": 69,
   "metadata": {
    "ExecuteTime": {
     "end_time": "2022-01-24T17:50:36.542538Z",
     "start_time": "2022-01-24T17:49:44.427562Z"
    },
    "scrolled": false
   },
   "outputs": [
    {
     "name": "stdout",
     "output_type": "stream",
     "text": [
      "unit_type 3\n",
      "unit_type\n",
      "unit_type 0\n"
     ]
    },
    {
     "name": "stderr",
     "output_type": "stream",
     "text": [
      "/home/AD/tsainbur/anaconda3/envs/cdcp_paper/lib/python3.7/site-packages/ipykernel_launcher.py:27: VisibleDeprecationWarning: Creating an ndarray from ragged nested sequences (which is a list-or-tuple of lists-or-tuples-or ndarrays with different lengths or shapes) is deprecated. If you meant to do this, you must specify 'dtype=object' when creating the ndarray.\n",
      "/home/AD/tsainbur/anaconda3/envs/cdcp_paper/lib/python3.7/site-packages/ipykernel_launcher.py:53: RuntimeWarning: Mean of empty slice\n",
      "/home/AD/tsainbur/anaconda3/envs/cdcp_paper/lib/python3.7/site-packages/ipykernel_launcher.py:56: RuntimeWarning: Mean of empty slice\n"
     ]
    },
    {
     "name": "stdout",
     "output_type": "stream",
     "text": [
      "\t (-0.021818442760645443, 4.956445087660656e-06) 43799\n"
     ]
    },
    {
     "data": {
      "application/vnd.jupyter.widget-view+json": {
       "model_id": "",
       "version_major": 2,
       "version_minor": 0
      },
      "text/plain": [
       "  0%|          | 0/500 [00:00<?, ?it/s]"
      ]
     },
     "metadata": {},
     "output_type": "display_data"
    },
    {
     "name": "stdout",
     "output_type": "stream",
     "text": [
      "unit_type 1\n"
     ]
    },
    {
     "name": "stderr",
     "output_type": "stream",
     "text": [
      "/home/AD/tsainbur/anaconda3/envs/cdcp_paper/lib/python3.7/site-packages/ipykernel_launcher.py:27: VisibleDeprecationWarning: Creating an ndarray from ragged nested sequences (which is a list-or-tuple of lists-or-tuples-or ndarrays with different lengths or shapes) is deprecated. If you meant to do this, you must specify 'dtype=object' when creating the ndarray.\n"
     ]
    },
    {
     "name": "stdout",
     "output_type": "stream",
     "text": [
      "\t (-0.016623103063761798, 0.0012094960829708674) 37908\n"
     ]
    },
    {
     "name": "stderr",
     "output_type": "stream",
     "text": [
      "/home/AD/tsainbur/anaconda3/envs/cdcp_paper/lib/python3.7/site-packages/ipykernel_launcher.py:53: RuntimeWarning: Mean of empty slice\n",
      "/home/AD/tsainbur/anaconda3/envs/cdcp_paper/lib/python3.7/site-packages/ipykernel_launcher.py:56: RuntimeWarning: Mean of empty slice\n"
     ]
    },
    {
     "data": {
      "application/vnd.jupyter.widget-view+json": {
       "model_id": "",
       "version_major": 2,
       "version_minor": 0
      },
      "text/plain": [
       "  0%|          | 0/500 [00:00<?, ?it/s]"
      ]
     },
     "metadata": {},
     "output_type": "display_data"
    },
    {
     "name": "stdout",
     "output_type": "stream",
     "text": [
      "unit_type 2\n"
     ]
    },
    {
     "name": "stderr",
     "output_type": "stream",
     "text": [
      "/home/AD/tsainbur/anaconda3/envs/cdcp_paper/lib/python3.7/site-packages/ipykernel_launcher.py:27: VisibleDeprecationWarning: Creating an ndarray from ragged nested sequences (which is a list-or-tuple of lists-or-tuples-or ndarrays with different lengths or shapes) is deprecated. If you meant to do this, you must specify 'dtype=object' when creating the ndarray.\n",
      "/home/AD/tsainbur/anaconda3/envs/cdcp_paper/lib/python3.7/site-packages/ipykernel_launcher.py:53: RuntimeWarning: Mean of empty slice\n",
      "/home/AD/tsainbur/anaconda3/envs/cdcp_paper/lib/python3.7/site-packages/ipykernel_launcher.py:56: RuntimeWarning: Mean of empty slice\n"
     ]
    },
    {
     "name": "stdout",
     "output_type": "stream",
     "text": [
      "\t (-0.021661534379951622, 0.00042686120873130156) 26446\n"
     ]
    },
    {
     "data": {
      "application/vnd.jupyter.widget-view+json": {
       "model_id": "",
       "version_major": 2,
       "version_minor": 0
      },
      "text/plain": [
       "  0%|          | 0/500 [00:00<?, ?it/s]"
      ]
     },
     "metadata": {},
     "output_type": "display_data"
    },
    {
     "data": {
      "image/png": "[encoded data removed]",
      "text/plain": [
       "<Figure size 432x288 with 4 Axes>"
      ]
     },
     "metadata": {
      "needs_background": "light"
     },
     "output_type": "display_data"
    },
    {
     "name": "stdout",
     "output_type": "stream",
     "text": [
      "estimated_nuclei 4\n",
      "estimated_nuclei\n",
      "estimated_nuclei CMM\n"
     ]
    },
    {
     "name": "stderr",
     "output_type": "stream",
     "text": [
      "/home/AD/tsainbur/anaconda3/envs/cdcp_paper/lib/python3.7/site-packages/ipykernel_launcher.py:27: VisibleDeprecationWarning: Creating an ndarray from ragged nested sequences (which is a list-or-tuple of lists-or-tuples-or ndarrays with different lengths or shapes) is deprecated. If you meant to do this, you must specify 'dtype=object' when creating the ndarray.\n",
      "/home/AD/tsainbur/anaconda3/envs/cdcp_paper/lib/python3.7/site-packages/ipykernel_launcher.py:53: RuntimeWarning: Mean of empty slice\n",
      "/home/AD/tsainbur/anaconda3/envs/cdcp_paper/lib/python3.7/site-packages/ipykernel_launcher.py:56: RuntimeWarning: Mean of empty slice\n"
     ]
    },
    {
     "name": "stdout",
     "output_type": "stream",
     "text": [
      "\t (-0.02665461142276923, 5.745844547274288e-07) 35172\n"
     ]
    },
    {
     "data": {
      "application/vnd.jupyter.widget-view+json": {
       "model_id": "",
       "version_major": 2,
       "version_minor": 0
      },
      "text/plain": [
       "  0%|          | 0/500 [00:00<?, ?it/s]"
      ]
     },
     "metadata": {},
     "output_type": "display_data"
    },
    {
     "name": "stdout",
     "output_type": "stream",
     "text": [
      "estimated_nuclei NCL\n"
     ]
    },
    {
     "name": "stderr",
     "output_type": "stream",
     "text": [
      "/home/AD/tsainbur/anaconda3/envs/cdcp_paper/lib/python3.7/site-packages/ipykernel_launcher.py:27: VisibleDeprecationWarning: Creating an ndarray from ragged nested sequences (which is a list-or-tuple of lists-or-tuples-or ndarrays with different lengths or shapes) is deprecated. If you meant to do this, you must specify 'dtype=object' when creating the ndarray.\n",
      "/home/AD/tsainbur/anaconda3/envs/cdcp_paper/lib/python3.7/site-packages/ipykernel_launcher.py:53: RuntimeWarning: Mean of empty slice\n",
      "/home/AD/tsainbur/anaconda3/envs/cdcp_paper/lib/python3.7/site-packages/ipykernel_launcher.py:56: RuntimeWarning: Mean of empty slice\n"
     ]
    },
    {
     "name": "stdout",
     "output_type": "stream",
     "text": [
      "\t (-0.02920341082481032, 2.0561824046291773e-07) 31624\n"
     ]
    },
    {
     "data": {
      "application/vnd.jupyter.widget-view+json": {
       "model_id": "",
       "version_major": 2,
       "version_minor": 0
      },
      "text/plain": [
       "  0%|          | 0/500 [00:00<?, ?it/s]"
      ]
     },
     "metadata": {},
     "output_type": "display_data"
    },
    {
     "name": "stdout",
     "output_type": "stream",
     "text": [
      "estimated_nuclei Field_L\n"
     ]
    },
    {
     "name": "stderr",
     "output_type": "stream",
     "text": [
      "/home/AD/tsainbur/anaconda3/envs/cdcp_paper/lib/python3.7/site-packages/ipykernel_launcher.py:27: VisibleDeprecationWarning: Creating an ndarray from ragged nested sequences (which is a list-or-tuple of lists-or-tuples-or ndarrays with different lengths or shapes) is deprecated. If you meant to do this, you must specify 'dtype=object' when creating the ndarray.\n",
      "/home/AD/tsainbur/anaconda3/envs/cdcp_paper/lib/python3.7/site-packages/ipykernel_launcher.py:53: RuntimeWarning: Mean of empty slice\n"
     ]
    },
    {
     "name": "stdout",
     "output_type": "stream",
     "text": [
      "\t (-0.020668448498287157, 0.00036238475382762114) 29765\n"
     ]
    },
    {
     "name": "stderr",
     "output_type": "stream",
     "text": [
      "/home/AD/tsainbur/anaconda3/envs/cdcp_paper/lib/python3.7/site-packages/ipykernel_launcher.py:56: RuntimeWarning: Mean of empty slice\n"
     ]
    },
    {
     "data": {
      "application/vnd.jupyter.widget-view+json": {
       "model_id": "",
       "version_major": 2,
       "version_minor": 0
      },
      "text/plain": [
       "  0%|          | 0/500 [00:00<?, ?it/s]"
      ]
     },
     "metadata": {},
     "output_type": "display_data"
    },
    {
     "name": "stdout",
     "output_type": "stream",
     "text": [
      "estimated_nuclei NCM\n",
      "\t (0.020924103626307335, 0.024270414315351953) 11592\n"
     ]
    },
    {
     "name": "stderr",
     "output_type": "stream",
     "text": [
      "/home/AD/tsainbur/anaconda3/envs/cdcp_paper/lib/python3.7/site-packages/ipykernel_launcher.py:27: VisibleDeprecationWarning: Creating an ndarray from ragged nested sequences (which is a list-or-tuple of lists-or-tuples-or ndarrays with different lengths or shapes) is deprecated. If you meant to do this, you must specify 'dtype=object' when creating the ndarray.\n",
      "/home/AD/tsainbur/anaconda3/envs/cdcp_paper/lib/python3.7/site-packages/ipykernel_launcher.py:53: RuntimeWarning: Mean of empty slice\n",
      "/home/AD/tsainbur/anaconda3/envs/cdcp_paper/lib/python3.7/site-packages/ipykernel_launcher.py:56: RuntimeWarning: Mean of empty slice\n"
     ]
    },
    {
     "data": {
      "application/vnd.jupyter.widget-view+json": {
       "model_id": "",
       "version_major": 2,
       "version_minor": 0
      },
      "text/plain": [
       "  0%|          | 0/500 [00:00<?, ?it/s]"
      ]
     },
     "metadata": {},
     "output_type": "display_data"
    },
    {
     "data": {
      "image/png": "[encoded data removed]",
      "text/plain": [
       "<Figure size 432x288 with 4 Axes>"
      ]
     },
     "metadata": {
      "needs_background": "light"
     },
     "output_type": "display_data"
    },
    {
     "name": "stdout",
     "output_type": "stream",
     "text": [
      "bird 9\n",
      "bird\n",
      "bird B1597\n"
     ]
    },
    {
     "name": "stderr",
     "output_type": "stream",
     "text": [
      "/home/AD/tsainbur/anaconda3/envs/cdcp_paper/lib/python3.7/site-packages/ipykernel_launcher.py:27: VisibleDeprecationWarning: Creating an ndarray from ragged nested sequences (which is a list-or-tuple of lists-or-tuples-or ndarrays with different lengths or shapes) is deprecated. If you meant to do this, you must specify 'dtype=object' when creating the ndarray.\n",
      "/home/AD/tsainbur/anaconda3/envs/cdcp_paper/lib/python3.7/site-packages/ipykernel_launcher.py:53: RuntimeWarning: Mean of empty slice\n",
      "/home/AD/tsainbur/anaconda3/envs/cdcp_paper/lib/python3.7/site-packages/ipykernel_launcher.py:56: RuntimeWarning: Mean of empty slice\n"
     ]
    },
    {
     "name": "stdout",
     "output_type": "stream",
     "text": [
      "\t (-0.01899268444375408, 0.002188140435719028) 26014\n"
     ]
    },
    {
     "data": {
      "application/vnd.jupyter.widget-view+json": {
       "model_id": "",
       "version_major": 2,
       "version_minor": 0
      },
      "text/plain": [
       "  0%|          | 0/500 [00:00<?, ?it/s]"
      ]
     },
     "metadata": {},
     "output_type": "display_data"
    },
    {
     "name": "stdout",
     "output_type": "stream",
     "text": [
      "bird B1188\n",
      "\t (-0.0379667128358907, 0.014481413494079077) 4147\n"
     ]
    },
    {
     "name": "stderr",
     "output_type": "stream",
     "text": [
      "/home/AD/tsainbur/anaconda3/envs/cdcp_paper/lib/python3.7/site-packages/ipykernel_launcher.py:27: VisibleDeprecationWarning: Creating an ndarray from ragged nested sequences (which is a list-or-tuple of lists-or-tuples-or ndarrays with different lengths or shapes) is deprecated. If you meant to do this, you must specify 'dtype=object' when creating the ndarray.\n",
      "/home/AD/tsainbur/anaconda3/envs/cdcp_paper/lib/python3.7/site-packages/ipykernel_launcher.py:53: RuntimeWarning: Mean of empty slice\n",
      "/home/AD/tsainbur/anaconda3/envs/cdcp_paper/lib/python3.7/site-packages/ipykernel_launcher.py:56: RuntimeWarning: Mean of empty slice\n"
     ]
    },
    {
     "data": {
      "application/vnd.jupyter.widget-view+json": {
       "model_id": "",
       "version_major": 2,
       "version_minor": 0
      },
      "text/plain": [
       "  0%|          | 0/500 [00:00<?, ?it/s]"
      ]
     },
     "metadata": {},
     "output_type": "display_data"
    },
    {
     "name": "stdout",
     "output_type": "stream",
     "text": [
      "bird B1595\n",
      "\t (-0.040313203695304584, 0.5787754733557515) 192\n"
     ]
    },
    {
     "name": "stderr",
     "output_type": "stream",
     "text": [
      "/home/AD/tsainbur/anaconda3/envs/cdcp_paper/lib/python3.7/site-packages/ipykernel_launcher.py:27: VisibleDeprecationWarning: Creating an ndarray from ragged nested sequences (which is a list-or-tuple of lists-or-tuples-or ndarrays with different lengths or shapes) is deprecated. If you meant to do this, you must specify 'dtype=object' when creating the ndarray.\n",
      "/home/AD/tsainbur/anaconda3/envs/cdcp_paper/lib/python3.7/site-packages/ipykernel_launcher.py:53: RuntimeWarning: Mean of empty slice\n",
      "/home/AD/tsainbur/anaconda3/envs/cdcp_paper/lib/python3.7/site-packages/ipykernel_launcher.py:56: RuntimeWarning: Mean of empty slice\n"
     ]
    },
    {
     "data": {
      "application/vnd.jupyter.widget-view+json": {
       "model_id": "",
       "version_major": 2,
       "version_minor": 0
      },
      "text/plain": [
       "  0%|          | 0/500 [00:00<?, ?it/s]"
      ]
     },
     "metadata": {},
     "output_type": "display_data"
    },
    {
     "name": "stdout",
     "output_type": "stream",
     "text": [
      "bird B1426\n",
      "\t (0.06607139967049415, 0.3715605621622654) 185\n"
     ]
    },
    {
     "name": "stderr",
     "output_type": "stream",
     "text": [
      "/home/AD/tsainbur/anaconda3/envs/cdcp_paper/lib/python3.7/site-packages/ipykernel_launcher.py:27: VisibleDeprecationWarning: Creating an ndarray from ragged nested sequences (which is a list-or-tuple of lists-or-tuples-or ndarrays with different lengths or shapes) is deprecated. If you meant to do this, you must specify 'dtype=object' when creating the ndarray.\n",
      "/home/AD/tsainbur/anaconda3/envs/cdcp_paper/lib/python3.7/site-packages/ipykernel_launcher.py:53: RuntimeWarning: Mean of empty slice\n",
      "/home/AD/tsainbur/anaconda3/envs/cdcp_paper/lib/python3.7/site-packages/ipykernel_launcher.py:56: RuntimeWarning: Mean of empty slice\n"
     ]
    },
    {
     "data": {
      "application/vnd.jupyter.widget-view+json": {
       "model_id": "",
       "version_major": 2,
       "version_minor": 0
      },
      "text/plain": [
       "  0%|          | 0/500 [00:00<?, ?it/s]"
      ]
     },
     "metadata": {},
     "output_type": "display_data"
    },
    {
     "name": "stdout",
     "output_type": "stream",
     "text": [
      "bird B1432\n"
     ]
    },
    {
     "name": "stderr",
     "output_type": "stream",
     "text": [
      "/home/AD/tsainbur/anaconda3/envs/cdcp_paper/lib/python3.7/site-packages/ipykernel_launcher.py:27: VisibleDeprecationWarning: Creating an ndarray from ragged nested sequences (which is a list-or-tuple of lists-or-tuples-or ndarrays with different lengths or shapes) is deprecated. If you meant to do this, you must specify 'dtype=object' when creating the ndarray.\n",
      "/home/AD/tsainbur/anaconda3/envs/cdcp_paper/lib/python3.7/site-packages/ipykernel_launcher.py:53: RuntimeWarning: Mean of empty slice\n",
      "/home/AD/tsainbur/anaconda3/envs/cdcp_paper/lib/python3.7/site-packages/ipykernel_launcher.py:56: RuntimeWarning: Mean of empty slice\n"
     ]
    },
    {
     "name": "stdout",
     "output_type": "stream",
     "text": [
      "\t (-0.039014607876512404, 3.987268239197806e-10) 25683\n"
     ]
    },
    {
     "data": {
      "application/vnd.jupyter.widget-view+json": {
       "model_id": "",
       "version_major": 2,
       "version_minor": 0
      },
      "text/plain": [
       "  0%|          | 0/500 [00:00<?, ?it/s]"
      ]
     },
     "metadata": {},
     "output_type": "display_data"
    },
    {
     "name": "stdout",
     "output_type": "stream",
     "text": [
      "bird B1170\n",
      "\t (-0.02185431784155086, 0.09132701794702669) 5970\n"
     ]
    },
    {
     "name": "stderr",
     "output_type": "stream",
     "text": [
      "/home/AD/tsainbur/anaconda3/envs/cdcp_paper/lib/python3.7/site-packages/ipykernel_launcher.py:27: VisibleDeprecationWarning: Creating an ndarray from ragged nested sequences (which is a list-or-tuple of lists-or-tuples-or ndarrays with different lengths or shapes) is deprecated. If you meant to do this, you must specify 'dtype=object' when creating the ndarray.\n",
      "/home/AD/tsainbur/anaconda3/envs/cdcp_paper/lib/python3.7/site-packages/ipykernel_launcher.py:53: RuntimeWarning: Mean of empty slice\n",
      "/home/AD/tsainbur/anaconda3/envs/cdcp_paper/lib/python3.7/site-packages/ipykernel_launcher.py:56: RuntimeWarning: Mean of empty slice\n"
     ]
    },
    {
     "data": {
      "application/vnd.jupyter.widget-view+json": {
       "model_id": "",
       "version_major": 2,
       "version_minor": 0
      },
      "text/plain": [
       "  0%|          | 0/500 [00:00<?, ?it/s]"
      ]
     },
     "metadata": {},
     "output_type": "display_data"
    },
    {
     "name": "stdout",
     "output_type": "stream",
     "text": [
      "bird B1244\n",
      "\t (0.04950770377571069, 0.00483541946127762) 3238\n"
     ]
    },
    {
     "name": "stderr",
     "output_type": "stream",
     "text": [
      "/home/AD/tsainbur/anaconda3/envs/cdcp_paper/lib/python3.7/site-packages/ipykernel_launcher.py:27: VisibleDeprecationWarning: Creating an ndarray from ragged nested sequences (which is a list-or-tuple of lists-or-tuples-or ndarrays with different lengths or shapes) is deprecated. If you meant to do this, you must specify 'dtype=object' when creating the ndarray.\n",
      "/home/AD/tsainbur/anaconda3/envs/cdcp_paper/lib/python3.7/site-packages/ipykernel_launcher.py:56: RuntimeWarning: Mean of empty slice\n",
      "/home/AD/tsainbur/anaconda3/envs/cdcp_paper/lib/python3.7/site-packages/ipykernel_launcher.py:53: RuntimeWarning: Mean of empty slice\n"
     ]
    },
    {
     "data": {
      "application/vnd.jupyter.widget-view+json": {
       "model_id": "",
       "version_major": 2,
       "version_minor": 0
      },
      "text/plain": [
       "  0%|          | 0/500 [00:00<?, ?it/s]"
      ]
     },
     "metadata": {},
     "output_type": "display_data"
    },
    {
     "name": "stdout",
     "output_type": "stream",
     "text": [
      "bird B1593\n"
     ]
    },
    {
     "name": "stderr",
     "output_type": "stream",
     "text": [
      "/home/AD/tsainbur/anaconda3/envs/cdcp_paper/lib/python3.7/site-packages/ipykernel_launcher.py:27: VisibleDeprecationWarning: Creating an ndarray from ragged nested sequences (which is a list-or-tuple of lists-or-tuples-or ndarrays with different lengths or shapes) is deprecated. If you meant to do this, you must specify 'dtype=object' when creating the ndarray.\n",
      "/home/AD/tsainbur/anaconda3/envs/cdcp_paper/lib/python3.7/site-packages/ipykernel_launcher.py:53: RuntimeWarning: Mean of empty slice\n",
      "/home/AD/tsainbur/anaconda3/envs/cdcp_paper/lib/python3.7/site-packages/ipykernel_launcher.py:56: RuntimeWarning: Mean of empty slice\n"
     ]
    },
    {
     "name": "stdout",
     "output_type": "stream",
     "text": [
      "\t (-0.026066039193659053, 4.5010052616346275e-05) 24496\n"
     ]
    },
    {
     "data": {
      "application/vnd.jupyter.widget-view+json": {
       "model_id": "",
       "version_major": 2,
       "version_minor": 0
      },
      "text/plain": [
       "  0%|          | 0/500 [00:00<?, ?it/s]"
      ]
     },
     "metadata": {},
     "output_type": "display_data"
    },
    {
     "name": "stdout",
     "output_type": "stream",
     "text": [
      "bird B1248\n",
      "\t (0.004161924700622124, 0.574204611818938) 18228\n"
     ]
    },
    {
     "name": "stderr",
     "output_type": "stream",
     "text": [
      "/home/AD/tsainbur/anaconda3/envs/cdcp_paper/lib/python3.7/site-packages/ipykernel_launcher.py:27: VisibleDeprecationWarning: Creating an ndarray from ragged nested sequences (which is a list-or-tuple of lists-or-tuples-or ndarrays with different lengths or shapes) is deprecated. If you meant to do this, you must specify 'dtype=object' when creating the ndarray.\n",
      "/home/AD/tsainbur/anaconda3/envs/cdcp_paper/lib/python3.7/site-packages/ipykernel_launcher.py:53: RuntimeWarning: Mean of empty slice\n",
      "/home/AD/tsainbur/anaconda3/envs/cdcp_paper/lib/python3.7/site-packages/ipykernel_launcher.py:56: RuntimeWarning: Mean of empty slice\n"
     ]
    },
    {
     "data": {
      "application/vnd.jupyter.widget-view+json": {
       "model_id": "",
       "version_major": 2,
       "version_minor": 0
      },
      "text/plain": [
       "  0%|          | 0/500 [00:00<?, ?it/s]"
      ]
     },
     "metadata": {},
     "output_type": "display_data"
    },
    {
     "data": {
      "image/png": "[encoded data removed]",
      "text/plain": [
       "<Figure size 648x432 with 9 Axes>"
      ]
     },
     "metadata": {
      "needs_background": "light"
     },
     "output_type": "display_data"
    },
    {
     "name": "stdout",
     "output_type": "stream",
     "text": [
      "interp 9\n",
      "interp\n",
      "interp BF\n"
     ]
    },
    {
     "name": "stderr",
     "output_type": "stream",
     "text": [
      "/home/AD/tsainbur/anaconda3/envs/cdcp_paper/lib/python3.7/site-packages/ipykernel_launcher.py:27: VisibleDeprecationWarning: Creating an ndarray from ragged nested sequences (which is a list-or-tuple of lists-or-tuples-or ndarrays with different lengths or shapes) is deprecated. If you meant to do this, you must specify 'dtype=object' when creating the ndarray.\n",
      "/home/AD/tsainbur/anaconda3/envs/cdcp_paper/lib/python3.7/site-packages/ipykernel_launcher.py:53: RuntimeWarning: Mean of empty slice\n",
      "/home/AD/tsainbur/anaconda3/envs/cdcp_paper/lib/python3.7/site-packages/ipykernel_launcher.py:56: RuntimeWarning: Mean of empty slice\n"
     ]
    },
    {
     "name": "stdout",
     "output_type": "stream",
     "text": [
      "\t (-0.013932145435651576, 0.028090354841717683) 24845\n"
     ]
    },
    {
     "data": {
      "application/vnd.jupyter.widget-view+json": {
       "model_id": "",
       "version_major": 2,
       "version_minor": 0
      },
      "text/plain": [
       "  0%|          | 0/500 [00:00<?, ?it/s]"
      ]
     },
     "metadata": {},
     "output_type": "display_data"
    },
    {
     "name": "stdout",
     "output_type": "stream",
     "text": [
      "interp AF\n"
     ]
    },
    {
     "name": "stderr",
     "output_type": "stream",
     "text": [
      "/home/AD/tsainbur/anaconda3/envs/cdcp_paper/lib/python3.7/site-packages/ipykernel_launcher.py:27: VisibleDeprecationWarning: Creating an ndarray from ragged nested sequences (which is a list-or-tuple of lists-or-tuples-or ndarrays with different lengths or shapes) is deprecated. If you meant to do this, you must specify 'dtype=object' when creating the ndarray.\n",
      "/home/AD/tsainbur/anaconda3/envs/cdcp_paper/lib/python3.7/site-packages/ipykernel_launcher.py:53: RuntimeWarning: Mean of empty slice\n",
      "/home/AD/tsainbur/anaconda3/envs/cdcp_paper/lib/python3.7/site-packages/ipykernel_launcher.py:56: RuntimeWarning: Mean of empty slice\n"
     ]
    },
    {
     "name": "stdout",
     "output_type": "stream",
     "text": [
      "\t (-0.004789184424925911, 0.45167204423499796) 24699\n"
     ]
    },
    {
     "data": {
      "application/vnd.jupyter.widget-view+json": {
       "model_id": "",
       "version_major": 2,
       "version_minor": 0
      },
      "text/plain": [
       "  0%|          | 0/500 [00:00<?, ?it/s]"
      ]
     },
     "metadata": {},
     "output_type": "display_data"
    },
    {
     "name": "stdout",
     "output_type": "stream",
     "text": [
      "interp BE\n"
     ]
    },
    {
     "name": "stderr",
     "output_type": "stream",
     "text": [
      "/home/AD/tsainbur/anaconda3/envs/cdcp_paper/lib/python3.7/site-packages/ipykernel_launcher.py:27: VisibleDeprecationWarning: Creating an ndarray from ragged nested sequences (which is a list-or-tuple of lists-or-tuples-or ndarrays with different lengths or shapes) is deprecated. If you meant to do this, you must specify 'dtype=object' when creating the ndarray.\n",
      "/home/AD/tsainbur/anaconda3/envs/cdcp_paper/lib/python3.7/site-packages/ipykernel_launcher.py:53: RuntimeWarning: Mean of empty slice\n",
      "/home/AD/tsainbur/anaconda3/envs/cdcp_paper/lib/python3.7/site-packages/ipykernel_launcher.py:56: RuntimeWarning: Mean of empty slice\n"
     ]
    },
    {
     "name": "stdout",
     "output_type": "stream",
     "text": [
      "\t (-0.02383520511030899, 0.00018713283627556479) 24561\n"
     ]
    },
    {
     "data": {
      "application/vnd.jupyter.widget-view+json": {
       "model_id": "",
       "version_major": 2,
       "version_minor": 0
      },
      "text/plain": [
       "  0%|          | 0/500 [00:00<?, ?it/s]"
      ]
     },
     "metadata": {},
     "output_type": "display_data"
    },
    {
     "name": "stdout",
     "output_type": "stream",
     "text": [
      "interp AE\n"
     ]
    },
    {
     "name": "stderr",
     "output_type": "stream",
     "text": [
      "/home/AD/tsainbur/anaconda3/envs/cdcp_paper/lib/python3.7/site-packages/ipykernel_launcher.py:27: VisibleDeprecationWarning: Creating an ndarray from ragged nested sequences (which is a list-or-tuple of lists-or-tuples-or ndarrays with different lengths or shapes) is deprecated. If you meant to do this, you must specify 'dtype=object' when creating the ndarray.\n",
      "/home/AD/tsainbur/anaconda3/envs/cdcp_paper/lib/python3.7/site-packages/ipykernel_launcher.py:53: RuntimeWarning: Mean of empty slice\n",
      "/home/AD/tsainbur/anaconda3/envs/cdcp_paper/lib/python3.7/site-packages/ipykernel_launcher.py:56: RuntimeWarning: Mean of empty slice\n"
     ]
    },
    {
     "name": "stdout",
     "output_type": "stream",
     "text": [
      "\t (-0.0280131107872554, 5.967376906930875e-06) 26114\n"
     ]
    },
    {
     "data": {
      "application/vnd.jupyter.widget-view+json": {
       "model_id": "",
       "version_major": 2,
       "version_minor": 0
      },
      "text/plain": [
       "  0%|          | 0/500 [00:00<?, ?it/s]"
      ]
     },
     "metadata": {},
     "output_type": "display_data"
    },
    {
     "name": "stdout",
     "output_type": "stream",
     "text": [
      "interp AG\n",
      "\t (-0.010903246380542454, 0.6491888540646595) 1743\n"
     ]
    },
    {
     "name": "stderr",
     "output_type": "stream",
     "text": [
      "/home/AD/tsainbur/anaconda3/envs/cdcp_paper/lib/python3.7/site-packages/ipykernel_launcher.py:27: VisibleDeprecationWarning: Creating an ndarray from ragged nested sequences (which is a list-or-tuple of lists-or-tuples-or ndarrays with different lengths or shapes) is deprecated. If you meant to do this, you must specify 'dtype=object' when creating the ndarray.\n",
      "/home/AD/tsainbur/anaconda3/envs/cdcp_paper/lib/python3.7/site-packages/ipykernel_launcher.py:53: RuntimeWarning: Mean of empty slice\n",
      "/home/AD/tsainbur/anaconda3/envs/cdcp_paper/lib/python3.7/site-packages/ipykernel_launcher.py:56: RuntimeWarning: Mean of empty slice\n"
     ]
    },
    {
     "data": {
      "application/vnd.jupyter.widget-view+json": {
       "model_id": "",
       "version_major": 2,
       "version_minor": 0
      },
      "text/plain": [
       "  0%|          | 0/500 [00:00<?, ?it/s]"
      ]
     },
     "metadata": {},
     "output_type": "display_data"
    },
    {
     "name": "stdout",
     "output_type": "stream",
     "text": [
      "interp CG\n",
      "\t (-0.07457752876806469, 0.003900107915381062) 1496\n"
     ]
    },
    {
     "name": "stderr",
     "output_type": "stream",
     "text": [
      "/home/AD/tsainbur/anaconda3/envs/cdcp_paper/lib/python3.7/site-packages/ipykernel_launcher.py:27: VisibleDeprecationWarning: Creating an ndarray from ragged nested sequences (which is a list-or-tuple of lists-or-tuples-or ndarrays with different lengths or shapes) is deprecated. If you meant to do this, you must specify 'dtype=object' when creating the ndarray.\n",
      "/home/AD/tsainbur/anaconda3/envs/cdcp_paper/lib/python3.7/site-packages/ipykernel_launcher.py:53: RuntimeWarning: Mean of empty slice\n",
      "/home/AD/tsainbur/anaconda3/envs/cdcp_paper/lib/python3.7/site-packages/ipykernel_launcher.py:56: RuntimeWarning: Mean of empty slice\n"
     ]
    },
    {
     "data": {
      "application/vnd.jupyter.widget-view+json": {
       "model_id": "",
       "version_major": 2,
       "version_minor": 0
      },
      "text/plain": [
       "  0%|          | 0/500 [00:00<?, ?it/s]"
      ]
     },
     "metadata": {},
     "output_type": "display_data"
    },
    {
     "name": "stdout",
     "output_type": "stream",
     "text": [
      "interp CF\n",
      "\t (0.05583848681608216, 0.03295010388531011) 1459\n"
     ]
    },
    {
     "name": "stderr",
     "output_type": "stream",
     "text": [
      "/home/AD/tsainbur/anaconda3/envs/cdcp_paper/lib/python3.7/site-packages/ipykernel_launcher.py:27: VisibleDeprecationWarning: Creating an ndarray from ragged nested sequences (which is a list-or-tuple of lists-or-tuples-or ndarrays with different lengths or shapes) is deprecated. If you meant to do this, you must specify 'dtype=object' when creating the ndarray.\n",
      "/home/AD/tsainbur/anaconda3/envs/cdcp_paper/lib/python3.7/site-packages/ipykernel_launcher.py:53: RuntimeWarning: Mean of empty slice\n",
      "/home/AD/tsainbur/anaconda3/envs/cdcp_paper/lib/python3.7/site-packages/ipykernel_launcher.py:56: RuntimeWarning: Mean of empty slice\n"
     ]
    },
    {
     "data": {
      "application/vnd.jupyter.widget-view+json": {
       "model_id": "",
       "version_major": 2,
       "version_minor": 0
      },
      "text/plain": [
       "  0%|          | 0/500 [00:00<?, ?it/s]"
      ]
     },
     "metadata": {},
     "output_type": "display_data"
    },
    {
     "name": "stdout",
     "output_type": "stream",
     "text": [
      "interp BG\n",
      "\t (-0.10917618836730959, 4.9433584118330716e-05) 1376\n"
     ]
    },
    {
     "name": "stderr",
     "output_type": "stream",
     "text": [
      "/home/AD/tsainbur/anaconda3/envs/cdcp_paper/lib/python3.7/site-packages/ipykernel_launcher.py:27: VisibleDeprecationWarning: Creating an ndarray from ragged nested sequences (which is a list-or-tuple of lists-or-tuples-or ndarrays with different lengths or shapes) is deprecated. If you meant to do this, you must specify 'dtype=object' when creating the ndarray.\n",
      "/home/AD/tsainbur/anaconda3/envs/cdcp_paper/lib/python3.7/site-packages/ipykernel_launcher.py:53: RuntimeWarning: Mean of empty slice\n",
      "/home/AD/tsainbur/anaconda3/envs/cdcp_paper/lib/python3.7/site-packages/ipykernel_launcher.py:56: RuntimeWarning: Mean of empty slice\n"
     ]
    },
    {
     "data": {
      "application/vnd.jupyter.widget-view+json": {
       "model_id": "",
       "version_major": 2,
       "version_minor": 0
      },
      "text/plain": [
       "  0%|          | 0/500 [00:00<?, ?it/s]"
      ]
     },
     "metadata": {},
     "output_type": "display_data"
    },
    {
     "name": "stdout",
     "output_type": "stream",
     "text": [
      "interp CE\n",
      "\t (-0.06054679718588076, 0.009004423456491576) 1860\n"
     ]
    },
    {
     "name": "stderr",
     "output_type": "stream",
     "text": [
      "/home/AD/tsainbur/anaconda3/envs/cdcp_paper/lib/python3.7/site-packages/ipykernel_launcher.py:27: VisibleDeprecationWarning: Creating an ndarray from ragged nested sequences (which is a list-or-tuple of lists-or-tuples-or ndarrays with different lengths or shapes) is deprecated. If you meant to do this, you must specify 'dtype=object' when creating the ndarray.\n",
      "/home/AD/tsainbur/anaconda3/envs/cdcp_paper/lib/python3.7/site-packages/ipykernel_launcher.py:53: RuntimeWarning: Mean of empty slice\n",
      "/home/AD/tsainbur/anaconda3/envs/cdcp_paper/lib/python3.7/site-packages/ipykernel_launcher.py:56: RuntimeWarning: Mean of empty slice\n"
     ]
    },
    {
     "data": {
      "application/vnd.jupyter.widget-view+json": {
       "model_id": "",
       "version_major": 2,
       "version_minor": 0
      },
      "text/plain": [
       "  0%|          | 0/500 [00:00<?, ?it/s]"
      ]
     },
     "metadata": {},
     "output_type": "display_data"
    },
    {
     "data": {
      "image/png": "[encoded data removed]",
      "text/plain": [
       "<Figure size 648x432 with 9 Axes>"
      ]
     },
     "metadata": {
      "needs_background": "light"
     },
     "output_type": "display_data"
    }
   ],
   "source": [
    "for feature in features:\n",
    "    nex = len(stat_df[feature].unique())\n",
    "    print(feature, nex)\n",
    "    ncols = int(np.ceil(np.sqrt(nex)))\n",
    "    nrows = int(np.ceil(nex / ncols))\n",
    "    fig, axs = plt.subplots(\n",
    "        ncols=ncols,\n",
    "        nrows=nrows,  # gridspec_kw={\"wspace\": 0.25, \"hspace\": 0.25},\n",
    "        figsize=(ncols * 3, nrows * 2),\n",
    "    )\n",
    "    print(feature)\n",
    "    for axi, feat in enumerate(stat_df[feature].unique()):\n",
    "        print(feature, feat)\n",
    "        ax = axs.flatten()[axi]\n",
    "        ax.set_title(feat, fontsize=14)\n",
    "\n",
    "        feat_df = stat_df[stat_df[feature] == feat]\n",
    "        feat_df_by_cue = (\n",
    "            feat_df[[\"bird\", \"unit\", \"cue\", \"sm\", \"interp\"]]\n",
    "            .set_index([\"bird\", \"unit\", \"interp\", \"cue\"])[\"sm\"]\n",
    "            .unstack()\n",
    "        )\n",
    "\n",
    "        NC_sm = np.stack([i for i in feat_df_by_cue.NC.values if type(i) == np.ndarray])\n",
    "        L_R_diffs = []\n",
    "        for cue in [\"CL1\", \"CL0\", \"CR0\", \"CR1\"]:\n",
    "            C_sm = np.stack(\n",
    "                [i for i in feat_df_by_cue[cue].values if type(i) == np.ndarray]\n",
    "            )\n",
    "            diff = C_sm - NC_sm\n",
    "            L = diff[:, :8, :8].flatten()\n",
    "            R = diff[:, 8:, 8:].flatten()\n",
    "            L = L[np.isnan(L) == False]\n",
    "            R = R[np.isnan(R) == False]\n",
    "            t_test = welch_ttest(L, R)\n",
    "            t_test[\"cue\"] = cue\n",
    "            # L_R_diff = np.nanmean(L) - np.nanmean(R)\n",
    "            L_R_diffs.append(t_test)\n",
    "        L_R_diffs = pd.concat(L_R_diffs)\n",
    "        L_R_diffs[\"p_left\"] = [p_left[i] for i in L_R_diffs.cue.values]\n",
    "\n",
    "        feat_df_by_cue_rel_CN = copy.deepcopy(feat_df_by_cue)\n",
    "        for cue in [\"CL1\", \"CL0\", \"CR0\", \"CR1\"]:\n",
    "            feat_df_by_cue_rel_CN[cue] = (\n",
    "                feat_df_by_cue[cue].values - feat_df_by_cue[\"CN\"].values\n",
    "            )\n",
    "            feat_df_by_cue_rel_CN = feat_df_by_cue_rel_CN[[\"CL1\", \"CL0\", \"CR0\", \"CR1\"]]\n",
    "\n",
    "        all_shifts = []\n",
    "        all_probs = []\n",
    "        for cue in [\"CL1\", \"CL0\", \"CR0\", \"CR1\"]:\n",
    "            L = np.nanmean(\n",
    "                np.stack(feat_df_by_cue_rel_CN[cue])[:, :8, :8], axis=(1, 2)\n",
    "            ).flatten()\n",
    "            R = np.nanmean(\n",
    "                np.stack(feat_df_by_cue_rel_CN[cue])[:, 8:, 8:], axis=(1, 2)\n",
    "            ).flatten()\n",
    "            L = L[np.isnan(L) == False]\n",
    "            R = R[np.isnan(R) == False]\n",
    "            shift = np.concatenate([L, R])\n",
    "            probs = np.concatenate(\n",
    "                [np.ones(len(L)) * p_left[cue], np.ones(len(R)) * (1 - p_left[cue])]\n",
    "            )\n",
    "            all_shifts.append(shift)\n",
    "            all_probs.append(probs)\n",
    "            # break\n",
    "        all_shifts = np.concatenate(all_shifts)\n",
    "        all_probs = np.concatenate(all_probs)\n",
    "        print(\"\\t\", scipy.stats.pearsonr(all_probs, all_shifts), len(all_probs))\n",
    "\n",
    "        probs = np.unique(all_probs)\n",
    "        mean_shift = np.array([np.mean(all_shifts[all_probs == i]) for i in probs])\n",
    "        std_shift = np.array([np.std(all_shifts[all_probs == i]) for i in probs])\n",
    "        n_shift = np.array([len(all_shifts[all_probs == i]) for i in probs])\n",
    "        sem_shift = std_shift / np.sqrt(n_shift)\n",
    "\n",
    "        (lower_, upper_), model_x = get_95_ci(all_probs, all_shifts)\n",
    "\n",
    "        x = all_probs\n",
    "        y = all_shifts\n",
    "        m, b = np.polyfit(x, y, 1)\n",
    "        model_y = m * model_x + b\n",
    "\n",
    "        color = \"k\"\n",
    "        ax.scatter(probs, mean_shift, color=color, s=150, alpha=0.5)\n",
    "        ax.errorbar(\n",
    "            probs,\n",
    "            mean_shift,\n",
    "            sem_shift * 3,\n",
    "            fmt=\"none\",\n",
    "            lw=5,\n",
    "            color=color,\n",
    "        )\n",
    "        [i.set_linewidth(5) for i in ax.spines.values()]\n",
    "\n",
    "        ax.fill_between(\n",
    "            model_x,\n",
    "            lower_,\n",
    "            upper_,\n",
    "            color=\"k\",\n",
    "            alpha=0.1,\n",
    "        )\n",
    "        ax.plot(model_x, model_y, lw=3, color=\"k\", ls=\"dashed\")\n",
    "        # ax.set_xlabel('P(class|cue)', fontsize=14)\n",
    "        # ax.set_ylabel('$\\Delta$ Cosine similarity (cue - no cue)', fontsize=14)\n",
    "        # ax.set_ylim([-0.014, -0.001])\n",
    "        ax.set_xlim([0, 1])\n",
    "        if axi >= (nrows*ncols -ncols):\n",
    "            ax.set_xlabel(\"P(class|cue)\", fontsize=14)\n",
    "        else:\n",
    "            ax.set_xticks([])\n",
    "    plt.tight_layout()\n",
    "\n",
    "    ensure_dir(FIGURE_DIR / \"cue_similarity\")\n",
    "    if save_figs:\n",
    "        save_fig(\n",
    "            FIGURE_DIR\n",
    "            / \"cue_similarity\"\n",
    "            / \"cue_similarity_relative_uncued_{}\".format(feature),\n",
    "            save_pdf=True,\n",
    "        )\n",
    "    plt.show()"
   ]
  },
  {
   "cell_type": "code",
   "execution_count": null,
   "metadata": {},
   "outputs": [],
   "source": []
  }
 ],
 "metadata": {
  "kernelspec": {
   "display_name": "cdcp_paper",
   "language": "python",
   "name": "cdcp_paper"
  },
  "language_info": {
   "codemirror_mode": {
    "name": "ipython",
    "version": 3
   },
   "file_extension": ".py",
   "mimetype": "text/x-python",
   "name": "python",
   "nbconvert_exporter": "python",
   "pygments_lexer": "ipython3",
   "version": "3.7.7"
  }
 },
 "nbformat": 4,
 "nbformat_minor": 2
}
