{
 "cells": [
  {
   "cell_type": "code",
   "execution_count": 1,
   "id": "9804930f",
   "metadata": {
    "ExecuteTime": {
     "end_time": "2022-02-20T23:41:36.918635Z",
     "start_time": "2022-02-20T23:41:36.902969Z"
    }
   },
   "outputs": [],
   "source": [
    "%load_ext autoreload\n",
    "%autoreload 2"
   ]
  },
  {
   "cell_type": "code",
   "execution_count": 2,
   "id": "1bb36e55",
   "metadata": {
    "ExecuteTime": {
     "end_time": "2022-02-20T23:41:37.944770Z",
     "start_time": "2022-02-20T23:41:36.920850Z"
    }
   },
   "outputs": [
    {
     "name": "stderr",
     "output_type": "stream",
     "text": [
      "/home/AD/tsainbur/anaconda3/envs/cdcp_paper/lib/python3.7/site-packages/ipykernel_launcher.py:5: TqdmExperimentalWarning: Using `tqdm.autonotebook.tqdm` in notebook mode. Use `tqdm.tqdm` instead to force console mode (e.g. in jupyter console)\n",
      "  \"\"\"\n"
     ]
    }
   ],
   "source": [
    "from behav import plotting, utils, loading\n",
    "import numpy as np\n",
    "import pandas as pd\n",
    "import matplotlib.pyplot as plt\n",
    "from tqdm.autonotebook import tqdm\n",
    "pd.set_option('display.max_columns', 500)\n",
    "import seaborn as sns"
   ]
  },
  {
   "cell_type": "code",
   "execution_count": 3,
   "id": "17bf2a4b",
   "metadata": {
    "ExecuteTime": {
     "end_time": "2022-02-20T23:41:37.968375Z",
     "start_time": "2022-02-20T23:41:37.947028Z"
    }
   },
   "outputs": [],
   "source": [
    "from matplotlib import rcParams\n",
    "rcParams['font.family'] = 'Arial'\n",
    "%matplotlib inline"
   ]
  },
  {
   "cell_type": "code",
   "execution_count": 4,
   "id": "7fd286e3",
   "metadata": {
    "ExecuteTime": {
     "end_time": "2022-02-20T23:41:37.998293Z",
     "start_time": "2022-02-20T23:41:37.970211Z"
    }
   },
   "outputs": [],
   "source": [
    "from cdcp.experiment_info import subjects\n",
    "from cdcp.paths import DATA_PATH_MAGPI\n",
    "from cdcp.behavior.data import prepare_behavior_data\n",
    "from cdcp.visualization.colors import colors\n",
    "subjects, DATA_PATH_MAGPI\n",
    "from cdcp.paths import DATA_PATH_MAGPI, FIGURE_DIR, ensure_dir\n",
    "from cdcp.general import save_fig"
   ]
  },
  {
   "cell_type": "code",
   "execution_count": 5,
   "id": "08a40a40",
   "metadata": {
    "ExecuteTime": {
     "end_time": "2022-02-20T23:41:38.018227Z",
     "start_time": "2022-02-20T23:41:38.000128Z"
    }
   },
   "outputs": [],
   "source": [
    "import scipy.stats"
   ]
  },
  {
   "cell_type": "code",
   "execution_count": 6,
   "id": "935f6349",
   "metadata": {
    "ExecuteTime": {
     "end_time": "2022-02-20T23:41:38.039101Z",
     "start_time": "2022-02-20T23:41:38.021190Z"
    }
   },
   "outputs": [],
   "source": [
    "from cdcp.visualization.colors import colors as cdcp_colors"
   ]
  },
  {
   "cell_type": "code",
   "execution_count": 7,
   "id": "e55c2677",
   "metadata": {
    "ExecuteTime": {
     "end_time": "2022-02-20T23:41:38.059317Z",
     "start_time": "2022-02-20T23:41:38.041416Z"
    }
   },
   "outputs": [],
   "source": [
    "from cdcp.behavior.data import bin_data, cue_direction"
   ]
  },
  {
   "cell_type": "markdown",
   "id": "d3abb3e9",
   "metadata": {
    "ExecuteTime": {
     "end_time": "2021-10-28T17:49:31.805427Z",
     "start_time": "2021-10-28T17:49:31.773357Z"
    }
   },
   "source": [
    "## Plot relationship between reaction time and stimulus"
   ]
  },
  {
   "cell_type": "code",
   "execution_count": 8,
   "id": "73cd3028",
   "metadata": {
    "ExecuteTime": {
     "end_time": "2022-02-20T23:41:38.192317Z",
     "start_time": "2022-02-20T23:41:38.061124Z"
    }
   },
   "outputs": [
    {
     "data": {
      "image/png": "[encoded data removed]",
      "text/plain": [
       "<Figure size 720x72 with 1 Axes>"
      ]
     },
     "metadata": {
      "needs_background": "light"
     },
     "output_type": "display_data"
    }
   ],
   "source": [
    "pal = sns.color_palette('tab10', 10)\n",
    "sns.palplot(pal)"
   ]
  },
  {
   "cell_type": "code",
   "execution_count": 9,
   "id": "3c39912c",
   "metadata": {
    "ExecuteTime": {
     "end_time": "2022-02-20T23:41:38.212176Z",
     "start_time": "2022-02-20T23:41:38.194058Z"
    }
   },
   "outputs": [],
   "source": [
    "## Runs the plotting code on my data\n",
    "#behav_data = loading.load_data_pandas(subjects,DATA_PATH_MAGPI)\n",
    "#for key, value in tqdm(behav_data.items(), total = len(behav_data)):\n",
    "#    behav_data[key], bins = prepare_behavior_data(value, num_bins=25)"
   ]
  },
  {
   "cell_type": "markdown",
   "id": "688aef4e",
   "metadata": {},
   "source": [
    "### load data"
   ]
  },
  {
   "cell_type": "code",
   "execution_count": 10,
   "id": "d0fc1b14",
   "metadata": {
    "ExecuteTime": {
     "end_time": "2022-02-20T23:41:38.236491Z",
     "start_time": "2022-02-20T23:41:38.213966Z"
    }
   },
   "outputs": [],
   "source": [
    "def prepare_behavior_data(data, num_bins=16, num_prev=np.inf):\n",
    "    \"\"\" parses information from raw bahav_data dataframes\n",
    "    \"\"\"\n",
    "    # subset normal trials\n",
    "    data = data[data[\"response\"] != \"none\"]\n",
    "    \n",
    "    # Subset part of the dataset\n",
    "    if num_prev != np.inf:\n",
    "        data = data[-num_prev:]\n",
    "\n",
    "    # Extract the response as a boolean\n",
    "    data[\"response_bool\"] = 0\n",
    "    data.loc[data[\"response\"] == \"L\", \"response_bool\"] = 1\n",
    "    \n",
    "    # flip interpolation 0-127 so 0 corresponds to left, and 127 corresponds to right (to make it easier to read)\n",
    "    data['interpolation_point'] = 127 - data['interpolation_point']\n",
    "    data['response_bool'] = 1 - data['response_bool'] \n",
    "\n",
    "    # specify interpolation info\n",
    "    data[\"interpolation\"] = [\n",
    "        ls + rs for ls, rs in zip(data.left_stim.values, data.right_stim.values)\n",
    "    ]\n",
    "\n",
    "    # bin data into 32 equally sized bins\n",
    "    data[\"pos_bin\"], bins = bin_data(\n",
    "        data[\"interpolation_point\"].values.astype(\"float32\"), num_bins\n",
    "    )\n",
    "    data[\"cue_direction\"] = data.cue_id.apply(cue_direction)\n",
    "    return data, bins"
   ]
  },
  {
   "cell_type": "code",
   "execution_count": 11,
   "id": "9ccdf1ec",
   "metadata": {
    "ExecuteTime": {
     "end_time": "2022-02-20T23:42:36.246337Z",
     "start_time": "2022-02-20T23:41:38.238225Z"
    },
    "scrolled": true
   },
   "outputs": [
    {
     "data": {
      "application/vnd.jupyter.widget-view+json": {
       "model_id": "53904ae7bd7c42ea8207ec86480932d2",
       "version_major": 2,
       "version_minor": 0
      },
      "text/plain": [
       "  0%|          | 0/20 [00:00<?, ?it/s]"
      ]
     },
     "metadata": {},
     "output_type": "display_data"
    },
    {
     "name": "stderr",
     "output_type": "stream",
     "text": [
      "/home/AD/tsainbur/anaconda3/envs/cdcp_paper/lib/python3.7/site-packages/ipykernel_launcher.py:7: DtypeWarning: Columns (8) have mixed types.Specify dtype option on import or set low_memory=False.\n",
      "  import sys\n",
      "/home/AD/tsainbur/anaconda3/envs/cdcp_paper/lib/python3.7/site-packages/ipykernel_launcher.py:12: SettingWithCopyWarning: \n",
      "A value is trying to be set on a copy of a slice from a DataFrame.\n",
      "Try using .loc[row_indexer,col_indexer] = value instead\n",
      "\n",
      "See the caveats in the documentation: https://pandas.pydata.org/pandas-docs/stable/user_guide/indexing.html#returning-a-view-versus-a-copy\n",
      "  if sys.path[0] == '':\n",
      "/home/AD/tsainbur/anaconda3/envs/cdcp_paper/lib/python3.7/site-packages/pandas/core/indexing.py:1817: SettingWithCopyWarning: \n",
      "A value is trying to be set on a copy of a slice from a DataFrame.\n",
      "Try using .loc[row_indexer,col_indexer] = value instead\n",
      "\n",
      "See the caveats in the documentation: https://pandas.pydata.org/pandas-docs/stable/user_guide/indexing.html#returning-a-view-versus-a-copy\n",
      "  self._setitem_single_column(loc, value, pi)\n",
      "/home/AD/tsainbur/anaconda3/envs/cdcp_paper/lib/python3.7/site-packages/ipykernel_launcher.py:16: SettingWithCopyWarning: \n",
      "A value is trying to be set on a copy of a slice from a DataFrame.\n",
      "Try using .loc[row_indexer,col_indexer] = value instead\n",
      "\n",
      "See the caveats in the documentation: https://pandas.pydata.org/pandas-docs/stable/user_guide/indexing.html#returning-a-view-versus-a-copy\n",
      "  app.launch_new_instance()\n",
      "/home/AD/tsainbur/anaconda3/envs/cdcp_paper/lib/python3.7/site-packages/ipykernel_launcher.py:17: SettingWithCopyWarning: \n",
      "A value is trying to be set on a copy of a slice from a DataFrame.\n",
      "Try using .loc[row_indexer,col_indexer] = value instead\n",
      "\n",
      "See the caveats in the documentation: https://pandas.pydata.org/pandas-docs/stable/user_guide/indexing.html#returning-a-view-versus-a-copy\n",
      "/home/AD/tsainbur/anaconda3/envs/cdcp_paper/lib/python3.7/site-packages/ipykernel_launcher.py:21: SettingWithCopyWarning: \n",
      "A value is trying to be set on a copy of a slice from a DataFrame.\n",
      "Try using .loc[row_indexer,col_indexer] = value instead\n",
      "\n",
      "See the caveats in the documentation: https://pandas.pydata.org/pandas-docs/stable/user_guide/indexing.html#returning-a-view-versus-a-copy\n",
      "/home/AD/tsainbur/anaconda3/envs/cdcp_paper/lib/python3.7/site-packages/ipykernel_launcher.py:26: SettingWithCopyWarning: \n",
      "A value is trying to be set on a copy of a slice from a DataFrame.\n",
      "Try using .loc[row_indexer,col_indexer] = value instead\n",
      "\n",
      "See the caveats in the documentation: https://pandas.pydata.org/pandas-docs/stable/user_guide/indexing.html#returning-a-view-versus-a-copy\n",
      "/home/AD/tsainbur/anaconda3/envs/cdcp_paper/lib/python3.7/site-packages/ipykernel_launcher.py:28: SettingWithCopyWarning: \n",
      "A value is trying to be set on a copy of a slice from a DataFrame.\n",
      "Try using .loc[row_indexer,col_indexer] = value instead\n",
      "\n",
      "See the caveats in the documentation: https://pandas.pydata.org/pandas-docs/stable/user_guide/indexing.html#returning-a-view-versus-a-copy\n"
     ]
    },
    {
     "name": "stdout",
     "output_type": "stream",
     "text": [
      "B1174 444899\n",
      "B1426 424782\n"
     ]
    },
    {
     "name": "stderr",
     "output_type": "stream",
     "text": [
      "/home/AD/tsainbur/anaconda3/envs/cdcp_paper/lib/python3.7/site-packages/ipykernel_launcher.py:7: DtypeWarning: Columns (8,9,15,16,17) have mixed types.Specify dtype option on import or set low_memory=False.\n",
      "  import sys\n"
     ]
    },
    {
     "name": "stdout",
     "output_type": "stream",
     "text": [
      "B1170 586050\n",
      "B1432 822151\n",
      "B1437 108765\n",
      "B1433 227809\n",
      "B1597 271881\n",
      "B1427 457989\n",
      "B1188 99807\n",
      "B1244 301779\n",
      "B1590 215348\n",
      "B1399 147911\n",
      "B1591 189463\n",
      "B1252 231626\n",
      "B1110 163466\n",
      "B1390 156954\n",
      "B1248 224734\n",
      "B1593 394567\n",
      "B1595 120982\n",
      "B1276 203416\n"
     ]
    }
   ],
   "source": [
    "# grab the final nex trials for each subject\n",
    "total_trials = 0\n",
    "nex = 100000\n",
    "behav_data_all = []\n",
    "for subject in tqdm(subjects):\n",
    "    # load data\n",
    "    behav_data_subject = loading.load_data_pandas([subject],DATA_PATH_MAGPI)[subject]\n",
    "    # prep dataset\n",
    "    behav_data_subject, bins = prepare_behavior_data(behav_data_subject, num_bins=32)\n",
    "    \n",
    "    # get trial count\n",
    "    print(subject, len(behav_data_subject))\n",
    "    total_trials += len(behav_data_subject)\n",
    "    \n",
    "    behav_data_subject = behav_data_subject[behav_data_subject.rt.isnull()==False]\n",
    "    \n",
    "    # skip first 20k traials where bird is still learning task\n",
    "    if len(behav_data_subject) < nex:\n",
    "        behav_data_subject = behav_data_subject[20000:]\n",
    "        \n",
    "    # get the most recent NEX trials\n",
    "    behav_data_subject = behav_data_subject[-nex:]\n",
    "    behav_data_subject['subject'] = subject\n",
    "    behav_data_all.append(behav_data_subject)\n",
    "behav_data_all = pd.concat(behav_data_all)\n",
    "behav_data_all = behav_data_all[behav_data_all.rt >= 0]"
   ]
  },
  {
   "cell_type": "markdown",
   "id": "9c7ec58c",
   "metadata": {},
   "source": [
    "### norm mean from reaction time to account for side bias"
   ]
  },
  {
   "cell_type": "code",
   "execution_count": 12,
   "id": "51ca4edf",
   "metadata": {
    "ExecuteTime": {
     "end_time": "2022-02-20T23:42:36.269785Z",
     "start_time": "2022-02-20T23:42:36.248241Z"
    }
   },
   "outputs": [],
   "source": [
    "def z_score(x):\n",
    "    return (x - np.nanmean(x)) / np.nanstd(x)"
   ]
  },
  {
   "cell_type": "code",
   "execution_count": 13,
   "id": "164ac37a",
   "metadata": {
    "ExecuteTime": {
     "end_time": "2022-02-20T23:42:47.653887Z",
     "start_time": "2022-02-20T23:42:36.271345Z"
    }
   },
   "outputs": [
    {
     "data": {
      "application/vnd.jupyter.widget-view+json": {
       "model_id": "084a54bb3b834482b52b411375d3b2c5",
       "version_major": 2,
       "version_minor": 0
      },
      "text/plain": [
       "  0%|          | 0/20 [00:00<?, ?it/s]"
      ]
     },
     "metadata": {},
     "output_type": "display_data"
    }
   ],
   "source": [
    "behav_data_all[\"normed_rt\"] = np.nan\n",
    "for subject in tqdm(behav_data_all.subject.unique()):\n",
    "    # based on animal dectsion\n",
    "    behav_data_all.loc[\n",
    "        (behav_data_all.subject.values == subject) & (behav_data_all.response.values == \"L\"),\n",
    "        \"normed_rt_decision\",\n",
    "    ] = z_score(\n",
    "        behav_data_all.loc[\n",
    "            (behav_data_all.subject.values == subject) & (behav_data_all.response.values == \"L\"),\n",
    "            \"rt\",\n",
    "        ]\n",
    "    )\n",
    "    \n",
    "    behav_data_all.loc[\n",
    "        (behav_data_all.subject.values == subject) & (behav_data_all.response.values == \"R\"),\n",
    "        \"normed_rt_decision\",\n",
    "    ] = z_score(\n",
    "        behav_data_all.loc[\n",
    "            (behav_data_all.subject.values == subject) & (behav_data_all.response.values == \"R\"),\n",
    "            \"rt\",\n",
    "        ]\n",
    "    )\n",
    "    \n",
    "    # based on actual side\n",
    "    behav_data_all.loc[\n",
    "        (behav_data_all.subject.values == subject) & (behav_data_all.class_.values == \"L\"),\n",
    "        \"normed_rt_class\",\n",
    "    ] = z_score(\n",
    "        behav_data_all.loc[\n",
    "            (behav_data_all.subject.values == subject) & (behav_data_all.class_.values == \"L\"),\n",
    "            \"rt\",\n",
    "        ]\n",
    "    )\n",
    "    \n",
    "    behav_data_all.loc[\n",
    "        (behav_data_all.subject.values == subject) & (behav_data_all.class_.values == \"R\"),\n",
    "        \"normed_rt_class\",\n",
    "    ] = z_score(\n",
    "        behav_data_all.loc[\n",
    "            (behav_data_all.subject.values == subject) & (behav_data_all.class_.values == \"R\"),\n",
    "            \"rt\",\n",
    "        ]\n",
    "    )"
   ]
  },
  {
   "cell_type": "code",
   "execution_count": 14,
   "id": "f783a881",
   "metadata": {
    "ExecuteTime": {
     "end_time": "2022-02-20T23:42:47.703509Z",
     "start_time": "2022-02-20T23:42:47.655687Z"
    }
   },
   "outputs": [
    {
     "data": {
      "text/html": [
       "<div>\n",
       "<style scoped>\n",
       "    .dataframe tbody tr th:only-of-type {\n",
       "        vertical-align: middle;\n",
       "    }\n",
       "\n",
       "    .dataframe tbody tr th {\n",
       "        vertical-align: top;\n",
       "    }\n",
       "\n",
       "    .dataframe thead th {\n",
       "        text-align: right;\n",
       "    }\n",
       "</style>\n",
       "<table border=\"1\" class=\"dataframe\">\n",
       "  <thead>\n",
       "    <tr style=\"text-align: right;\">\n",
       "      <th></th>\n",
       "      <th>session</th>\n",
       "      <th>index</th>\n",
       "      <th>type_</th>\n",
       "      <th>stimulus</th>\n",
       "      <th>class_</th>\n",
       "      <th>response</th>\n",
       "      <th>correct</th>\n",
       "      <th>rt</th>\n",
       "      <th>reward</th>\n",
       "      <th>punish</th>\n",
       "      <th>cue_class</th>\n",
       "      <th>cue_id</th>\n",
       "      <th>cue_prob</th>\n",
       "      <th>num_stims</th>\n",
       "      <th>flip_cues</th>\n",
       "      <th>binary_choice</th>\n",
       "      <th>cueing</th>\n",
       "      <th>left_stim</th>\n",
       "      <th>right_stim</th>\n",
       "      <th>interpolation_point</th>\n",
       "      <th>prob_cue</th>\n",
       "      <th>prob_cued_no_cue</th>\n",
       "      <th>data_file</th>\n",
       "      <th>response_bool</th>\n",
       "      <th>interpolation</th>\n",
       "      <th>pos_bin</th>\n",
       "      <th>cue_direction</th>\n",
       "      <th>subject</th>\n",
       "      <th>self_initiated</th>\n",
       "      <th>normed_rt</th>\n",
       "      <th>normed_rt_decision</th>\n",
       "      <th>normed_rt_class</th>\n",
       "    </tr>\n",
       "    <tr>\n",
       "      <th>time</th>\n",
       "      <th></th>\n",
       "      <th></th>\n",
       "      <th></th>\n",
       "      <th></th>\n",
       "      <th></th>\n",
       "      <th></th>\n",
       "      <th></th>\n",
       "      <th></th>\n",
       "      <th></th>\n",
       "      <th></th>\n",
       "      <th></th>\n",
       "      <th></th>\n",
       "      <th></th>\n",
       "      <th></th>\n",
       "      <th></th>\n",
       "      <th></th>\n",
       "      <th></th>\n",
       "      <th></th>\n",
       "      <th></th>\n",
       "      <th></th>\n",
       "      <th></th>\n",
       "      <th></th>\n",
       "      <th></th>\n",
       "      <th></th>\n",
       "      <th></th>\n",
       "      <th></th>\n",
       "      <th></th>\n",
       "      <th></th>\n",
       "      <th></th>\n",
       "      <th></th>\n",
       "      <th></th>\n",
       "      <th></th>\n",
       "    </tr>\n",
       "  </thead>\n",
       "  <tbody>\n",
       "    <tr>\n",
       "      <th>2019-12-24 14:44:30.569983</th>\n",
       "      <td>709</td>\n",
       "      <td>52</td>\n",
       "      <td>normal</td>\n",
       "      <td>/home/bird/opdat/B1174/stimuli/AE/CL1/CL1_AE_1...</td>\n",
       "      <td>L</td>\n",
       "      <td>L</td>\n",
       "      <td>True</td>\n",
       "      <td>0.078940</td>\n",
       "      <td>False</td>\n",
       "      <td>False</td>\n",
       "      <td>CL</td>\n",
       "      <td>CL1</td>\n",
       "      <td>0.875</td>\n",
       "      <td>3</td>\n",
       "      <td>False</td>\n",
       "      <td>False</td>\n",
       "      <td>True</td>\n",
       "      <td>A</td>\n",
       "      <td>E</td>\n",
       "      <td>20</td>\n",
       "      <td>0.8</td>\n",
       "      <td>0.2</td>\n",
       "      <td>/mnt/cube/RawData/Magpi/B1174/B1174_trialdata_...</td>\n",
       "      <td>0</td>\n",
       "      <td>AE</td>\n",
       "      <td>5</td>\n",
       "      <td>L</td>\n",
       "      <td>B1174</td>\n",
       "      <td>NaN</td>\n",
       "      <td>NaN</td>\n",
       "      <td>-0.547038</td>\n",
       "      <td>-0.548247</td>\n",
       "    </tr>\n",
       "    <tr>\n",
       "      <th>2019-12-24 14:44:35.027883</th>\n",
       "      <td>709</td>\n",
       "      <td>53</td>\n",
       "      <td>normal</td>\n",
       "      <td>/home/bird/opdat/B1174/stimuli/BF/NC/NC_BF_110...</td>\n",
       "      <td>L</td>\n",
       "      <td>L</td>\n",
       "      <td>True</td>\n",
       "      <td>0.391212</td>\n",
       "      <td>False</td>\n",
       "      <td>False</td>\n",
       "      <td>NC</td>\n",
       "      <td>NC</td>\n",
       "      <td>0.500</td>\n",
       "      <td>3</td>\n",
       "      <td>False</td>\n",
       "      <td>False</td>\n",
       "      <td>True</td>\n",
       "      <td>B</td>\n",
       "      <td>F</td>\n",
       "      <td>17</td>\n",
       "      <td>0.8</td>\n",
       "      <td>0.2</td>\n",
       "      <td>/mnt/cube/RawData/Magpi/B1174/B1174_trialdata_...</td>\n",
       "      <td>0</td>\n",
       "      <td>BF</td>\n",
       "      <td>5</td>\n",
       "      <td>N</td>\n",
       "      <td>B1174</td>\n",
       "      <td>NaN</td>\n",
       "      <td>NaN</td>\n",
       "      <td>-0.024007</td>\n",
       "      <td>-0.017190</td>\n",
       "    </tr>\n",
       "    <tr>\n",
       "      <th>2019-12-24 14:44:38.697615</th>\n",
       "      <td>709</td>\n",
       "      <td>54</td>\n",
       "      <td>normal</td>\n",
       "      <td>/home/bird/opdat/B1174/stimuli/BE/CL1/CL1_BE_0...</td>\n",
       "      <td>L</td>\n",
       "      <td>L</td>\n",
       "      <td>True</td>\n",
       "      <td>0.000671</td>\n",
       "      <td>True</td>\n",
       "      <td>False</td>\n",
       "      <td>CL</td>\n",
       "      <td>CL1</td>\n",
       "      <td>0.875</td>\n",
       "      <td>3</td>\n",
       "      <td>False</td>\n",
       "      <td>False</td>\n",
       "      <td>True</td>\n",
       "      <td>B</td>\n",
       "      <td>E</td>\n",
       "      <td>40</td>\n",
       "      <td>0.8</td>\n",
       "      <td>0.2</td>\n",
       "      <td>/mnt/cube/RawData/Magpi/B1174/B1174_trialdata_...</td>\n",
       "      <td>0</td>\n",
       "      <td>BE</td>\n",
       "      <td>10</td>\n",
       "      <td>L</td>\n",
       "      <td>B1174</td>\n",
       "      <td>NaN</td>\n",
       "      <td>NaN</td>\n",
       "      <td>-0.678132</td>\n",
       "      <td>-0.681353</td>\n",
       "    </tr>\n",
       "  </tbody>\n",
       "</table>\n",
       "</div>"
      ],
      "text/plain": [
       "                           session index   type_  \\\n",
       "time                                               \n",
       "2019-12-24 14:44:30.569983     709    52  normal   \n",
       "2019-12-24 14:44:35.027883     709    53  normal   \n",
       "2019-12-24 14:44:38.697615     709    54  normal   \n",
       "\n",
       "                                                                     stimulus  \\\n",
       "time                                                                            \n",
       "2019-12-24 14:44:30.569983  /home/bird/opdat/B1174/stimuli/AE/CL1/CL1_AE_1...   \n",
       "2019-12-24 14:44:35.027883  /home/bird/opdat/B1174/stimuli/BF/NC/NC_BF_110...   \n",
       "2019-12-24 14:44:38.697615  /home/bird/opdat/B1174/stimuli/BE/CL1/CL1_BE_0...   \n",
       "\n",
       "                           class_ response correct        rt  reward punish  \\\n",
       "time                                                                          \n",
       "2019-12-24 14:44:30.569983      L        L    True  0.078940   False  False   \n",
       "2019-12-24 14:44:35.027883      L        L    True  0.391212   False  False   \n",
       "2019-12-24 14:44:38.697615      L        L    True  0.000671    True  False   \n",
       "\n",
       "                           cue_class cue_id  cue_prob num_stims flip_cues  \\\n",
       "time                                                                        \n",
       "2019-12-24 14:44:30.569983        CL    CL1     0.875         3     False   \n",
       "2019-12-24 14:44:35.027883        NC     NC     0.500         3     False   \n",
       "2019-12-24 14:44:38.697615        CL    CL1     0.875         3     False   \n",
       "\n",
       "                           binary_choice cueing left_stim right_stim  \\\n",
       "time                                                                   \n",
       "2019-12-24 14:44:30.569983         False   True         A          E   \n",
       "2019-12-24 14:44:35.027883         False   True         B          F   \n",
       "2019-12-24 14:44:38.697615         False   True         B          E   \n",
       "\n",
       "                           interpolation_point  prob_cue  prob_cued_no_cue  \\\n",
       "time                                                                         \n",
       "2019-12-24 14:44:30.569983                  20       0.8               0.2   \n",
       "2019-12-24 14:44:35.027883                  17       0.8               0.2   \n",
       "2019-12-24 14:44:38.697615                  40       0.8               0.2   \n",
       "\n",
       "                                                                    data_file  \\\n",
       "time                                                                            \n",
       "2019-12-24 14:44:30.569983  /mnt/cube/RawData/Magpi/B1174/B1174_trialdata_...   \n",
       "2019-12-24 14:44:35.027883  /mnt/cube/RawData/Magpi/B1174/B1174_trialdata_...   \n",
       "2019-12-24 14:44:38.697615  /mnt/cube/RawData/Magpi/B1174/B1174_trialdata_...   \n",
       "\n",
       "                            response_bool interpolation  pos_bin  \\\n",
       "time                                                               \n",
       "2019-12-24 14:44:30.569983              0            AE        5   \n",
       "2019-12-24 14:44:35.027883              0            BF        5   \n",
       "2019-12-24 14:44:38.697615              0            BE       10   \n",
       "\n",
       "                           cue_direction subject self_initiated  normed_rt  \\\n",
       "time                                                                         \n",
       "2019-12-24 14:44:30.569983             L   B1174            NaN        NaN   \n",
       "2019-12-24 14:44:35.027883             N   B1174            NaN        NaN   \n",
       "2019-12-24 14:44:38.697615             L   B1174            NaN        NaN   \n",
       "\n",
       "                            normed_rt_decision  normed_rt_class  \n",
       "time                                                             \n",
       "2019-12-24 14:44:30.569983           -0.547038        -0.548247  \n",
       "2019-12-24 14:44:35.027883           -0.024007        -0.017190  \n",
       "2019-12-24 14:44:38.697615           -0.678132        -0.681353  "
      ]
     },
     "execution_count": 14,
     "metadata": {},
     "output_type": "execute_result"
    }
   ],
   "source": [
    "behav_data_all[:3]"
   ]
  },
  {
   "cell_type": "code",
   "execution_count": 15,
   "id": "dd9d888c",
   "metadata": {
    "ExecuteTime": {
     "end_time": "2022-02-20T23:42:48.704235Z",
     "start_time": "2022-02-20T23:42:47.705079Z"
    }
   },
   "outputs": [],
   "source": [
    "rt_correct = behav_data_all[behav_data_all.correct == True].rt.values\n",
    "rt_incorrect = behav_data_all[behav_data_all.correct == False].rt.values"
   ]
  },
  {
   "cell_type": "code",
   "execution_count": 73,
   "id": "df9aae97",
   "metadata": {
    "ExecuteTime": {
     "end_time": "2022-02-21T00:00:28.497409Z",
     "start_time": "2022-02-21T00:00:28.463147Z"
    }
   },
   "outputs": [
    {
     "data": {
      "text/plain": [
       "1979805"
      ]
     },
     "execution_count": 73,
     "metadata": {},
     "output_type": "execute_result"
    }
   ],
   "source": [
    "len(rt_correct) + len(rt_incorrect)"
   ]
  },
  {
   "cell_type": "code",
   "execution_count": 16,
   "id": "0aa19a56",
   "metadata": {
    "ExecuteTime": {
     "end_time": "2022-02-20T23:42:48.726351Z",
     "start_time": "2022-02-20T23:42:48.706024Z"
    }
   },
   "outputs": [
    {
     "data": {
      "text/plain": [
       "0.625421024251124"
      ]
     },
     "execution_count": 16,
     "metadata": {},
     "output_type": "execute_result"
    }
   ],
   "source": [
    "np.mean(rt_correct)"
   ]
  },
  {
   "cell_type": "code",
   "execution_count": 17,
   "id": "3bf3489a",
   "metadata": {
    "ExecuteTime": {
     "end_time": "2022-02-20T23:42:48.744611Z",
     "start_time": "2022-02-20T23:42:48.727982Z"
    }
   },
   "outputs": [
    {
     "data": {
      "text/plain": [
       "0.9818303423072469"
      ]
     },
     "execution_count": 17,
     "metadata": {},
     "output_type": "execute_result"
    }
   ],
   "source": [
    "np.mean(rt_incorrect)"
   ]
  },
  {
   "cell_type": "code",
   "execution_count": 18,
   "id": "cac586d2",
   "metadata": {
    "ExecuteTime": {
     "end_time": "2022-02-20T23:42:48.774610Z",
     "start_time": "2022-02-20T23:42:48.749546Z"
    }
   },
   "outputs": [
    {
     "data": {
      "text/plain": [
       "Ttest_indResult(statistic=-224.40226078473435, pvalue=0.0)"
      ]
     },
     "execution_count": 18,
     "metadata": {},
     "output_type": "execute_result"
    }
   ],
   "source": [
    "scipy.stats.ttest_ind(rt_correct, rt_incorrect)"
   ]
  },
  {
   "cell_type": "code",
   "execution_count": 19,
   "id": "44c7a849",
   "metadata": {
    "ExecuteTime": {
     "end_time": "2022-02-20T23:42:49.184042Z",
     "start_time": "2022-02-20T23:42:48.777523Z"
    }
   },
   "outputs": [
    {
     "name": "stderr",
     "output_type": "stream",
     "text": [
      "findfont: Font family ['Arial'] not found. Falling back to DejaVu Sans.\n"
     ]
    },
    {
     "data": {
      "image/png": "[encoded data removed]",
      "text/plain": [
       "<Figure size 432x288 with 1 Axes>"
      ]
     },
     "metadata": {
      "needs_background": "light"
     },
     "output_type": "display_data"
    }
   ],
   "source": [
    "plt.hist(rt_correct, density=True, bins=50)\n",
    "plt.hist(rt_incorrect, density=True, bins=50);"
   ]
  },
  {
   "cell_type": "code",
   "execution_count": 20,
   "id": "3457d598",
   "metadata": {
    "ExecuteTime": {
     "end_time": "2022-02-20T23:42:49.203165Z",
     "start_time": "2022-02-20T23:42:49.185756Z"
    }
   },
   "outputs": [],
   "source": [
    "from scipy.ndimage import gaussian_filter1d"
   ]
  },
  {
   "cell_type": "code",
   "execution_count": 21,
   "id": "54a80fd7",
   "metadata": {
    "ExecuteTime": {
     "end_time": "2022-02-20T23:42:49.222558Z",
     "start_time": "2022-02-20T23:42:49.204688Z"
    }
   },
   "outputs": [
    {
     "data": {
      "text/plain": [
       "array([0., 5.])"
      ]
     },
     "execution_count": 21,
     "metadata": {},
     "output_type": "execute_result"
    }
   ],
   "source": [
    "bins = np.linspace(0,5, 500)\n",
    "#bins = np.logspace(-1,0.6989700043360189, 500, base=10)\n",
    "bins[[0, -1]]"
   ]
  },
  {
   "cell_type": "code",
   "execution_count": 22,
   "id": "cecc591e",
   "metadata": {
    "ExecuteTime": {
     "end_time": "2022-02-20T23:42:49.361945Z",
     "start_time": "2022-02-20T23:42:49.224065Z"
    }
   },
   "outputs": [],
   "source": [
    "correct_density, correct_bin = np.histogram(rt_correct, bins=bins, density=True)\n",
    "incorrect_density, incorrect_bin = np.histogram(rt_incorrect, bins=bins, density=True)\n",
    "correct_density = correct_density / np.sum(correct_density)\n",
    "incorrect_density = incorrect_density / np.sum(incorrect_density)"
   ]
  },
  {
   "cell_type": "code",
   "execution_count": 23,
   "id": "e7e46f89",
   "metadata": {
    "ExecuteTime": {
     "end_time": "2022-02-20T23:42:49.380637Z",
     "start_time": "2022-02-20T23:42:49.363542Z"
    }
   },
   "outputs": [
    {
     "data": {
      "text/plain": [
       "0.04858252541185873"
      ]
     },
     "execution_count": 23,
     "metadata": {},
     "output_type": "execute_result"
    }
   ],
   "source": [
    "np.max(correct_density)"
   ]
  },
  {
   "cell_type": "code",
   "execution_count": 24,
   "id": "7524f03e",
   "metadata": {
    "ExecuteTime": {
     "end_time": "2022-02-20T23:42:49.397497Z",
     "start_time": "2022-02-20T23:42:49.382134Z"
    }
   },
   "outputs": [],
   "source": [
    "correct_gauss_100 = gaussian_filter1d(correct_density, sigma = 5)\n",
    "incorrect_gauss_100 = gaussian_filter1d(incorrect_density, sigma = 5)"
   ]
  },
  {
   "cell_type": "code",
   "execution_count": 25,
   "id": "52cfbf50",
   "metadata": {
    "ExecuteTime": {
     "end_time": "2022-02-20T23:42:49.496864Z",
     "start_time": "2022-02-20T23:42:49.399052Z"
    }
   },
   "outputs": [
    {
     "data": {
      "image/png": "[encoded data removed]",
      "text/plain": [
       "<Figure size 720x72 with 1 Axes>"
      ]
     },
     "metadata": {
      "needs_background": "light"
     },
     "output_type": "display_data"
    }
   ],
   "source": [
    "pal = sns.color_palette('tab10', 10)\n",
    "sns.palplot(pal)"
   ]
  },
  {
   "cell_type": "code",
   "execution_count": 26,
   "id": "f73e21f0",
   "metadata": {
    "ExecuteTime": {
     "end_time": "2022-02-20T23:42:49.964986Z",
     "start_time": "2022-02-20T23:42:49.498421Z"
    }
   },
   "outputs": [
    {
     "name": "stderr",
     "output_type": "stream",
     "text": [
      "findfont: Font family ['Arial'] not found. Falling back to DejaVu Sans.\n"
     ]
    },
    {
     "data": {
      "image/png": "[encoded data removed]",
      "text/plain": [
       "<Figure size 288x360 with 1 Axes>"
      ]
     },
     "metadata": {
      "needs_background": "light"
     },
     "output_type": "display_data"
    }
   ],
   "source": [
    "fig, ax = plt.subplots(figsize=(4,5))\n",
    "x = bins[:-1]\n",
    "floor = np.zeros(len(correct_gauss_100))\n",
    "ax.fill_between(x, floor, correct_gauss_100, color=pal[2], alpha = 0.5, zorder=1)\n",
    "ax.plot(x, correct_gauss_100, color = pal[2], lw=5, alpha = 0.75, label='correct', zorder=1)\n",
    "\n",
    "ax.fill_between(x, floor, incorrect_gauss_100, color=pal[3], alpha = 0.5, zorder=2)\n",
    "ax.plot(x, incorrect_gauss_100, color = pal[3], lw=5, alpha = 0.75, label='incorrect', zorder=2)\n",
    "#ax.set_xscale('log')\n",
    "#ax.set_yscale('log')\n",
    "#ax.set_ylim([1e-2,2])\n",
    "ax.legend(fontsize=14)\n",
    "ax.set_xlim([0,3])\n",
    "ax.set_ylim([0, 0.0175])\n",
    "ax.set_yticks([0, 0.01, 0.02])\n",
    "ax.yaxis.labelpad = 4\n",
    "for axis in [\"top\", \"bottom\", \"left\", \"right\"]:\n",
    "    ax.spines[axis].set_linewidth(4)\n",
    "    ax.spines[axis].set_color(\"k\")\n",
    "ax.tick_params(axis=\"both\", labelsize=14, pad=15)\n",
    "ax.set_ylabel(\"Probability\", fontsize=14)\n",
    "ax.set_xlabel(\"Response time (s)\", fontsize=14)\n",
    "\n",
    "\n",
    "for tick in ax.get_yaxis().get_major_ticks():\n",
    "    tick.set_pad(2.)\n",
    "    \n",
    "ax.axvline(np.mean(rt_correct), color = pal[2], lw=2, ls='dashed')\n",
    "ax.axvline(np.mean(rt_incorrect), color = pal[3], lw=2, ls='dashed')\n",
    "    \n",
    "ensure_dir(FIGURE_DIR / 'behavioral_results')\n",
    "save_fig(FIGURE_DIR / 'behavioral_results' / 'response-time-correct', save_pdf=True)\n",
    "plt.show()"
   ]
  },
  {
   "cell_type": "code",
   "execution_count": 27,
   "id": "4794c917",
   "metadata": {
    "ExecuteTime": {
     "end_time": "2022-02-20T23:42:57.106544Z",
     "start_time": "2022-02-20T23:42:49.966640Z"
    }
   },
   "outputs": [
    {
     "data": {
      "image/png": "[encoded data removed]",
      "text/plain": [
       "<Figure size 432x288 with 1 Axes>"
      ]
     },
     "metadata": {
      "needs_background": "light"
     },
     "output_type": "display_data"
    }
   ],
   "source": [
    "# plot difference between norming by class vs decision\n",
    "fig, ax = plt.subplots()\n",
    "sns.lineplot(x='interpolation_point', y='normed_rt_decision', data = behav_data_all, ci = None, ax = ax)\n",
    "sns.lineplot(x='interpolation_point', y='normed_rt_class', data = behav_data_all, ax = ax, ci = None)\n",
    "plt.show()\n"
   ]
  },
  {
   "cell_type": "code",
   "execution_count": 28,
   "id": "1c603259",
   "metadata": {
    "ExecuteTime": {
     "end_time": "2022-02-20T23:42:57.131074Z",
     "start_time": "2022-02-20T23:42:57.108370Z"
    }
   },
   "outputs": [],
   "source": [
    "#bins = np.linspace(0,127, 32)\n",
    "#behav_data_all['interpolation_bin'] = np.digitize(behav_data_all.interpolation_point, bins)\n",
    "behav_data_all['interpolation_bin'] = behav_data_all['pos_bin']"
   ]
  },
  {
   "cell_type": "code",
   "execution_count": 29,
   "id": "c13784c4",
   "metadata": {
    "ExecuteTime": {
     "end_time": "2022-02-20T23:42:57.150054Z",
     "start_time": "2022-02-20T23:42:57.132773Z"
    }
   },
   "outputs": [],
   "source": [
    "rt_column = \"normed_rt_class\"\n",
    "#rt_col = \"rt\""
   ]
  },
  {
   "cell_type": "code",
   "execution_count": 30,
   "id": "cee66b11",
   "metadata": {
    "ExecuteTime": {
     "end_time": "2022-02-20T23:43:02.657248Z",
     "start_time": "2022-02-20T23:42:57.151630Z"
    }
   },
   "outputs": [
    {
     "data": {
      "application/vnd.jupyter.widget-view+json": {
       "model_id": "0e37fb9145f5440c983c088f951b71d3",
       "version_major": 2,
       "version_minor": 0
      },
      "text/plain": [
       "  0%|          | 0/20 [00:00<?, ?it/s]"
      ]
     },
     "metadata": {},
     "output_type": "display_data"
    },
    {
     "name": "stdout",
     "output_type": "stream",
     "text": [
      "B1174 -0.057361940660209304 1.1903586855657591e-73\n",
      "B1426 0.037970645190239787 3.092099511806758e-33\n",
      "B1170 -0.03146619603899932 2.4512452395750483e-23\n",
      "B1432 -0.040003696371323325 1.0472619976503517e-36\n",
      "B1437 -0.04642928321886835 7.475054405596019e-49\n",
      "B1433 -0.014972599199545222 2.1910068406640684e-06\n",
      "B1597 -0.09093573268954501 1.3671304239183502e-182\n",
      "B1427 -0.001485366923918921 0.6385631856962132\n",
      "B1188 -0.0038184536302612255 0.28071914209425236\n",
      "B1244 -0.10809266989172839 1.457616409704257e-257\n",
      "B1590 -0.057087144793632624 5.793110924321388e-73\n",
      "B1399 -0.04362736844330276 2.4587770429674736e-43\n",
      "B1591 -0.07783907532166384 3.504828174697287e-134\n",
      "B1252 -0.033863451582338285 8.989175370043294e-27\n",
      "B1110 -0.062191587361308996 2.86991784612282e-86\n",
      "B1390 -0.02657535943337239 4.269662060355888e-17\n",
      "B1248 -0.052612321190464134 3.087342186730347e-62\n",
      "B1593 -0.008415658013053003 0.0077844519516424935\n",
      "B1595 -0.04345760784415212 5.176307343264737e-43\n",
      "B1276 -0.0716204070163961 7.522200757970947e-114\n"
     ]
    }
   ],
   "source": [
    "# sort birds by rt differences\n",
    "rt_by_interp_list = []\n",
    "for axi, subject in enumerate(tqdm(behav_data_all.subject.unique())):\n",
    "    behav_data_bird = behav_data_all[behav_data_all.subject == subject]\n",
    "    x = np.abs(behav_data_bird.interpolation_bin.values - 16)\n",
    "    y = behav_data_bird.normed_rt_class.values\n",
    "    r2, p = scipy.stats.pearsonr(x,y)\n",
    "    print(subject, r2, p)\n",
    "    rt_by_interp_list.append([subject, r2, p])\n",
    "rt_by_interp_df = pd.DataFrame(rt_by_interp_list, columns = ['subject','r2', 'p'])"
   ]
  },
  {
   "cell_type": "code",
   "execution_count": 31,
   "id": "68f2db19",
   "metadata": {
    "ExecuteTime": {
     "end_time": "2022-02-20T23:43:11.251109Z",
     "start_time": "2022-02-20T23:43:02.660074Z"
    }
   },
   "outputs": [
    {
     "data": {
      "application/vnd.jupyter.widget-view+json": {
       "model_id": "5c67e34f3dbb46ce920cff27276c4321",
       "version_major": 2,
       "version_minor": 0
      },
      "text/plain": [
       "  0%|          | 0/20 [00:00<?, ?it/s]"
      ]
     },
     "metadata": {},
     "output_type": "display_data"
    },
    {
     "name": "stderr",
     "output_type": "stream",
     "text": [
      "findfont: Font family ['Arial'] not found. Falling back to DejaVu Sans.\n"
     ]
    },
    {
     "data": {
      "image/png": "[encoded data removed]",
      "text/plain": [
       "<Figure size 576x576 with 20 Axes>"
      ]
     },
     "metadata": {
      "needs_background": "light"
     },
     "output_type": "display_data"
    }
   ],
   "source": [
    "ncols = 4\n",
    "nrows = 5\n",
    "fig, axs = plt.subplots(ncols=ncols, nrows=nrows, figsize=(8, 8), gridspec_kw = {'wspace':0.05, 'hspace':0.05})\n",
    "for axi, subject in enumerate(tqdm(behav_data_all.subject.unique())):\n",
    "    ax = axs.flatten()[axi]\n",
    "    behav_data_bird = behav_data_all[behav_data_all.subject == subject]\n",
    "    sns.lineplot(\n",
    "        x=\"interpolation_bin\",\n",
    "        y=rt_column,\n",
    "        data=behav_data_bird,\n",
    "        ax=ax,\n",
    "        ci=None,\n",
    "        color=\"k\",\n",
    "        lw=3,\n",
    "    )\n",
    "    # ci=None,\n",
    "    ax.set_ylim([-0.2, 0.45])\n",
    "    ax.set_xticklabels([])\n",
    "    #if axi % ncols != 0:\n",
    "    ax.set_yticklabels([])\n",
    "    ax.set_ylabel(\"\")\n",
    "    # if axi < ncols*(nrows-1):\n",
    "    ax.set_xlabel(\"\")\n",
    "    ax.text(\n",
    "        0.5,\n",
    "        0.8,\n",
    "        subject,\n",
    "        horizontalalignment=\"center\",\n",
    "        fontweight=\"bold\",\n",
    "        fontsize=20,\n",
    "        transform=ax.transAxes,\n",
    "    )\n",
    "\n",
    "    for axis in [\"top\", \"bottom\", \"left\", \"right\"]:\n",
    "        ax.spines[axis].set_linewidth(3)\n",
    "        ax.spines[axis].set_color(\"k\")\n",
    "\n",
    "ensure_dir(FIGURE_DIR / 'behavioral_results')\n",
    "save_fig(FIGURE_DIR / 'behavioral_results' / 'response-time-by-bird', save_pdf=True)\n",
    "plt.show()"
   ]
  },
  {
   "cell_type": "code",
   "execution_count": 32,
   "id": "a09d9b9d",
   "metadata": {
    "ExecuteTime": {
     "end_time": "2022-02-20T23:43:11.273741Z",
     "start_time": "2022-02-20T23:43:11.253032Z"
    }
   },
   "outputs": [],
   "source": [
    "# birds_without_rts = ['B1426', 'B1433', 'B1427'] # 1170"
   ]
  },
  {
   "cell_type": "markdown",
   "id": "e0ddaa47",
   "metadata": {},
   "source": [
    "#### Response time vs uncertainty"
   ]
  },
  {
   "cell_type": "code",
   "execution_count": 33,
   "id": "e6ef8b45",
   "metadata": {
    "ExecuteTime": {
     "end_time": "2022-02-20T23:43:11.318557Z",
     "start_time": "2022-02-20T23:43:11.275308Z"
    }
   },
   "outputs": [],
   "source": [
    "import lmfit"
   ]
  },
  {
   "cell_type": "code",
   "execution_count": 34,
   "id": "aec8f24e",
   "metadata": {
    "ExecuteTime": {
     "end_time": "2022-02-20T23:43:11.342465Z",
     "start_time": "2022-02-20T23:43:11.320219Z"
    }
   },
   "outputs": [],
   "source": [
    "def residuals(y_true, y_model, x, logscaled=False):\n",
    "    if logscaled:\n",
    "        return np.abs(np.log(y_true) - np.log(y_model)) * (1 / (np.log(1 + x)))\n",
    "    else:\n",
    "        return np.abs(y_true - y_model)"
   ]
  },
  {
   "cell_type": "code",
   "execution_count": 35,
   "id": "d6576478",
   "metadata": {
    "ExecuteTime": {
     "end_time": "2022-02-20T23:43:11.359857Z",
     "start_time": "2022-02-20T23:43:11.344069Z"
    }
   },
   "outputs": [],
   "source": [
    "def model_res(p, x, y, fit, model):\n",
    "    if fit == \"lin\":\n",
    "        return residuals(y, model(p, x), x)\n",
    "    else:\n",
    "        return residuals(y, model(p, x), x, logscaled=True)"
   ]
  },
  {
   "cell_type": "code",
   "execution_count": 36,
   "id": "9a15905e",
   "metadata": {
    "ExecuteTime": {
     "end_time": "2022-02-20T23:43:11.376885Z",
     "start_time": "2022-02-20T23:43:11.361449Z"
    }
   },
   "outputs": [],
   "source": [
    "def exp_decay(p, x):\n",
    "    return p[\"e_init\"] * np.exp(-x * p[\"e_decay_const\"]) + p[\"intercept\"]"
   ]
  },
  {
   "cell_type": "code",
   "execution_count": 37,
   "id": "de7a919f",
   "metadata": {
    "ExecuteTime": {
     "end_time": "2022-02-20T23:43:11.395843Z",
     "start_time": "2022-02-20T23:43:11.378474Z"
    }
   },
   "outputs": [],
   "source": [
    "def fit_decay(x, y):\n",
    "    p_exp = lmfit.Parameters()\n",
    "    p_exp.add_many(\n",
    "        (\"e_init\", 0.05, True, 1e-4, 1),\n",
    "        (\"e_decay_const\", 0.1, True, 1e-4, 0.5),\n",
    "        (\"intercept\", 0.25, True, -0.5, 2),\n",
    "    )\n",
    "    results_exp_min = lmfit.Minimizer(\n",
    "        model_res, p_exp, fcn_args=(x, y, \"lin\", exp_decay), nan_policy=\"omit\"\n",
    "    ).minimize(method=\"nelder\")\n",
    "    e_init = results_exp_min.params['e_init'].value\n",
    "    e_decay_const = results_exp_min.params['e_decay_const'].value\n",
    "    intercept = results_exp_min.params['intercept'].value\n",
    "    return results_exp_min, e_init, e_decay_const, intercept"
   ]
  },
  {
   "cell_type": "code",
   "execution_count": 39,
   "id": "bd9c3380",
   "metadata": {
    "ExecuteTime": {
     "end_time": "2022-02-20T23:54:34.121782Z",
     "start_time": "2022-02-20T23:54:33.223664Z"
    }
   },
   "outputs": [],
   "source": [
    "behav_data_all['interpolation'] = [i+j for i,j in zip(behav_data_all.left_stim, behav_data_all.right_stim)]"
   ]
  },
  {
   "cell_type": "code",
   "execution_count": 40,
   "id": "6bc7264c",
   "metadata": {
    "ExecuteTime": {
     "end_time": "2022-02-20T23:54:34.146340Z",
     "start_time": "2022-02-20T23:54:34.124053Z"
    }
   },
   "outputs": [],
   "source": [
    "from cdcp.paths import DATA_DIR, ensure_dir"
   ]
  },
  {
   "cell_type": "code",
   "execution_count": 41,
   "id": "c6dfc65c",
   "metadata": {
    "ExecuteTime": {
     "end_time": "2022-02-20T23:54:35.593804Z",
     "start_time": "2022-02-20T23:54:34.148438Z"
    }
   },
   "outputs": [],
   "source": [
    "fit_df_interp = pd.read_pickle(DATA_DIR/'behavior'/'fit_df_interp.pickle')"
   ]
  },
  {
   "cell_type": "code",
   "execution_count": 42,
   "id": "1a8d2884",
   "metadata": {
    "ExecuteTime": {
     "end_time": "2022-02-20T23:54:58.759529Z",
     "start_time": "2022-02-20T23:54:35.596177Z"
    }
   },
   "outputs": [
    {
     "data": {
      "application/vnd.jupyter.widget-view+json": {
       "model_id": "7cf6724f0b4a434ba22cf80c15c07089",
       "version_major": 2,
       "version_minor": 0
      },
      "text/plain": [
       "  0%|          | 0/20 [00:00<?, ?it/s]"
      ]
     },
     "metadata": {},
     "output_type": "display_data"
    },
    {
     "name": "stderr",
     "output_type": "stream",
     "text": [
      "/home/AD/tsainbur/anaconda3/envs/cdcp_paper/lib/python3.7/site-packages/ipykernel_launcher.py:6: SettingWithCopyWarning: \n",
      "A value is trying to be set on a copy of a slice from a DataFrame.\n",
      "Try using .loc[row_indexer,col_indexer] = value instead\n",
      "\n",
      "See the caveats in the documentation: https://pandas.pydata.org/pandas-docs/stable/user_guide/indexing.html#returning-a-view-versus-a-copy\n",
      "  \n"
     ]
    },
    {
     "data": {
      "text/html": [
       "<div>\n",
       "<style scoped>\n",
       "    .dataframe tbody tr th:only-of-type {\n",
       "        vertical-align: middle;\n",
       "    }\n",
       "\n",
       "    .dataframe tbody tr th {\n",
       "        vertical-align: top;\n",
       "    }\n",
       "\n",
       "    .dataframe thead th {\n",
       "        text-align: right;\n",
       "    }\n",
       "</style>\n",
       "<table border=\"1\" class=\"dataframe\">\n",
       "  <thead>\n",
       "    <tr style=\"text-align: right;\">\n",
       "      <th></th>\n",
       "      <th>bird</th>\n",
       "      <th>interpolation</th>\n",
       "      <th>e_init</th>\n",
       "      <th>e_decay_const</th>\n",
       "      <th>intercept</th>\n",
       "      <th>fit_slope</th>\n",
       "      <th>fit_range</th>\n",
       "      <th>r2</th>\n",
       "    </tr>\n",
       "  </thead>\n",
       "  <tbody>\n",
       "    <tr>\n",
       "      <th>0</th>\n",
       "      <td>B1174</td>\n",
       "      <td>AE</td>\n",
       "      <td>0.181325</td>\n",
       "      <td>0.050766</td>\n",
       "      <td>-0.082308</td>\n",
       "      <td>14.918588</td>\n",
       "      <td>0.181325</td>\n",
       "      <td>0.00243</td>\n",
       "    </tr>\n",
       "    <tr>\n",
       "      <th>1</th>\n",
       "      <td>B1174</td>\n",
       "      <td>BF</td>\n",
       "      <td>0.258579</td>\n",
       "      <td>0.15797</td>\n",
       "      <td>-0.039195</td>\n",
       "      <td>18.84814</td>\n",
       "      <td>0.258579</td>\n",
       "      <td>0.00334</td>\n",
       "    </tr>\n",
       "    <tr>\n",
       "      <th>2</th>\n",
       "      <td>B1174</td>\n",
       "      <td>BE</td>\n",
       "      <td>0.269816</td>\n",
       "      <td>0.126826</td>\n",
       "      <td>0.008941</td>\n",
       "      <td>2.702706</td>\n",
       "      <td>0.269816</td>\n",
       "      <td>0.003778</td>\n",
       "    </tr>\n",
       "  </tbody>\n",
       "</table>\n",
       "</div>"
      ],
      "text/plain": [
       "    bird interpolation    e_init e_decay_const intercept  fit_slope fit_range  \\\n",
       "0  B1174            AE  0.181325      0.050766 -0.082308  14.918588  0.181325   \n",
       "1  B1174            BF  0.258579       0.15797 -0.039195   18.84814  0.258579   \n",
       "2  B1174            BE  0.269816      0.126826  0.008941   2.702706  0.269816   \n",
       "\n",
       "         r2  \n",
       "0   0.00243  \n",
       "1   0.00334  \n",
       "2  0.003778  "
      ]
     },
     "execution_count": 42,
     "metadata": {},
     "output_type": "execute_result"
    }
   ],
   "source": [
    "fit_dfs = []\n",
    "for subject in tqdm(behav_data_all.subject.unique()):\n",
    "    subject_data = behav_data_all[(behav_data_all.subject == subject)]\n",
    "    for interpolation in subject_data.interpolation.unique():\n",
    "        interpolation_data = subject_data[(subject_data.interpolation == interpolation)]\n",
    "        interpolation_data['distance_from_boundary'] = np.abs(interpolation_data.interpolation_point.values - 63.5)\n",
    "        \n",
    "        x = interpolation_data.distance_from_boundary.values.astype(float)\n",
    "        y = interpolation_data[rt_column].values.astype(float)\n",
    "        \n",
    "        # fit model\n",
    "        results_exp_min, e_init, e_decay_const, intercept = fit_decay(x, y)\n",
    "        r2 = 1 - np.sum((results_exp_min.residual)**2) / np.sum((y - np.mean(y))**2)\n",
    "        \n",
    "        # get model values for x\n",
    "        x_model = np.linspace(0,63, 1000)\n",
    "        fit_y = exp_decay(x=x_model, p=results_exp_min.params)\n",
    "        fit_range = fit_y[0] - intercept\n",
    "        \n",
    "        # plot\n",
    "        if False:\n",
    "            x_model = np.linspace(1,63, 500)\n",
    "            \n",
    "            fit_y = exp_decay(x=x_model, p=results_exp_min.params)\n",
    "            fig, ax = plt.subplots()\n",
    "            binned_rt = (\n",
    "                interpolation_data[[\"distance_from_boundary\", rt_column]]\n",
    "                .groupby(\"distance_from_boundary\")\n",
    "                .describe()[rt_column][[\"mean\", \"count\", \"std\"]]\n",
    "                .reset_index()\n",
    "            )\n",
    "            ax.scatter(binned_rt.distance_from_boundary.values, binned_rt[\"mean\"].values)\n",
    "            ax.set_title([subject, interpolation, e_init, e_decay_const, intercept])\n",
    "            ax.plot(x_model, fit_y, color='k', lw=3)\n",
    "            #ax.set_ylim([0,2])\n",
    "            plt.show()\n",
    "        \n",
    "        fit_slope = fit_df_interp[(fit_df_interp.cue == 'NC') & (fit_df_interp.bird == subject) & (fit_df_interp.interp == interpolation)]._slope.values[0]\n",
    "        fit_df = pd.Series(\n",
    "            {\n",
    "                'bird': subject,\n",
    "                'interpolation': interpolation,\n",
    "                'e_init': e_init,\n",
    "                'e_decay_const': e_decay_const,\n",
    "                'intercept': intercept,\n",
    "                'fit_slope': fit_slope,\n",
    "                'fit_range': fit_range,\n",
    "                \"r2\": r2\n",
    "            }\n",
    "        )\n",
    "        fit_dfs.append(fit_df)\n",
    "fit_df = pd.concat(fit_dfs, axis=1).T\n",
    "fit_df[:3]"
   ]
  },
  {
   "cell_type": "code",
   "execution_count": 43,
   "id": "f71f6f0f",
   "metadata": {
    "ExecuteTime": {
     "end_time": "2022-02-20T23:54:58.790968Z",
     "start_time": "2022-02-20T23:54:58.761903Z"
    }
   },
   "outputs": [
    {
     "data": {
      "text/html": [
       "<div>\n",
       "<style scoped>\n",
       "    .dataframe tbody tr th:only-of-type {\n",
       "        vertical-align: middle;\n",
       "    }\n",
       "\n",
       "    .dataframe tbody tr th {\n",
       "        vertical-align: top;\n",
       "    }\n",
       "\n",
       "    .dataframe thead th {\n",
       "        text-align: right;\n",
       "    }\n",
       "</style>\n",
       "<table border=\"1\" class=\"dataframe\">\n",
       "  <thead>\n",
       "    <tr style=\"text-align: right;\">\n",
       "      <th></th>\n",
       "      <th>bird</th>\n",
       "      <th>interpolation</th>\n",
       "      <th>e_init</th>\n",
       "      <th>e_decay_const</th>\n",
       "      <th>intercept</th>\n",
       "      <th>fit_slope</th>\n",
       "      <th>fit_range</th>\n",
       "      <th>r2</th>\n",
       "    </tr>\n",
       "  </thead>\n",
       "  <tbody>\n",
       "    <tr>\n",
       "      <th>0</th>\n",
       "      <td>B1174</td>\n",
       "      <td>AE</td>\n",
       "      <td>0.181325</td>\n",
       "      <td>0.050766</td>\n",
       "      <td>-0.082308</td>\n",
       "      <td>14.918588</td>\n",
       "      <td>0.181325</td>\n",
       "      <td>0.00243</td>\n",
       "    </tr>\n",
       "    <tr>\n",
       "      <th>1</th>\n",
       "      <td>B1174</td>\n",
       "      <td>BF</td>\n",
       "      <td>0.258579</td>\n",
       "      <td>0.15797</td>\n",
       "      <td>-0.039195</td>\n",
       "      <td>18.84814</td>\n",
       "      <td>0.258579</td>\n",
       "      <td>0.00334</td>\n",
       "    </tr>\n",
       "    <tr>\n",
       "      <th>2</th>\n",
       "      <td>B1174</td>\n",
       "      <td>BE</td>\n",
       "      <td>0.269816</td>\n",
       "      <td>0.126826</td>\n",
       "      <td>0.008941</td>\n",
       "      <td>2.702706</td>\n",
       "      <td>0.269816</td>\n",
       "      <td>0.003778</td>\n",
       "    </tr>\n",
       "  </tbody>\n",
       "</table>\n",
       "</div>"
      ],
      "text/plain": [
       "    bird interpolation    e_init e_decay_const intercept  fit_slope fit_range  \\\n",
       "0  B1174            AE  0.181325      0.050766 -0.082308  14.918588  0.181325   \n",
       "1  B1174            BF  0.258579       0.15797 -0.039195   18.84814  0.258579   \n",
       "2  B1174            BE  0.269816      0.126826  0.008941   2.702706  0.269816   \n",
       "\n",
       "         r2  \n",
       "0   0.00243  \n",
       "1   0.00334  \n",
       "2  0.003778  "
      ]
     },
     "execution_count": 43,
     "metadata": {},
     "output_type": "execute_result"
    }
   ],
   "source": [
    "fit_df[:3]"
   ]
  },
  {
   "cell_type": "code",
   "execution_count": 44,
   "id": "1bd818c8",
   "metadata": {
    "ExecuteTime": {
     "end_time": "2022-02-20T23:55:00.414991Z",
     "start_time": "2022-02-20T23:54:58.792732Z"
    }
   },
   "outputs": [
    {
     "name": "stderr",
     "output_type": "stream",
     "text": [
      "findfont: Font family ['Arial'] not found. Falling back to DejaVu Sans.\n"
     ]
    },
    {
     "data": {
      "image/png": "[encoded data removed]",
      "text/plain": [
       "<Figure size 1440x288 with 5 Axes>"
      ]
     },
     "metadata": {
      "needs_background": "light"
     },
     "output_type": "display_data"
    }
   ],
   "source": [
    "fig, axs = plt.subplots(ncols=5, figsize=(20,4))\n",
    "\n",
    "for axi, param in enumerate(['e_init', 'e_decay_const', 'intercept', 'fit_range', 'r2']):\n",
    "    ax = axs[axi]\n",
    "    ax.set_title(param)\n",
    "    x = fit_df.fit_slope.values\n",
    "    y = fit_df[param].values\n",
    "    ax.hist(y, bins=100)"
   ]
  },
  {
   "cell_type": "code",
   "execution_count": 45,
   "id": "183387b4",
   "metadata": {
    "ExecuteTime": {
     "end_time": "2022-02-20T23:55:00.434462Z",
     "start_time": "2022-02-20T23:55:00.416659Z"
    }
   },
   "outputs": [],
   "source": [
    "birds_without_rts = ['B1426', 'B1433', 'B1427']"
   ]
  },
  {
   "cell_type": "code",
   "execution_count": 46,
   "id": "e49099a3",
   "metadata": {
    "ExecuteTime": {
     "end_time": "2022-02-20T23:55:00.492675Z",
     "start_time": "2022-02-20T23:55:00.435985Z"
    }
   },
   "outputs": [],
   "source": [
    "# normalize log slope by bird, and decay constant by bird\n",
    "for bird in fit_df.bird.unique():\n",
    "    m = fit_df.bird == bird\n",
    "    fit_df.loc[m, 'fit_slope_z'] = z_score(np.log(fit_df[m].fit_slope.values.astype(float)))\n",
    "    fit_df.loc[m, 'e_decay_const_z'] = z_score(fit_df[m].e_decay_const.values.astype(float))"
   ]
  },
  {
   "cell_type": "code",
   "execution_count": 47,
   "id": "a86c7875",
   "metadata": {
    "ExecuteTime": {
     "end_time": "2022-02-20T23:55:00.510673Z",
     "start_time": "2022-02-20T23:55:00.494247Z"
    }
   },
   "outputs": [],
   "source": [
    "from cdcp.visualization.utils import get_cat_colors"
   ]
  },
  {
   "cell_type": "code",
   "execution_count": 48,
   "id": "4f99608c",
   "metadata": {
    "ExecuteTime": {
     "end_time": "2022-02-20T23:55:00.531084Z",
     "start_time": "2022-02-20T23:55:00.513804Z"
    }
   },
   "outputs": [],
   "source": [
    "# remove interpolations without good decay, and birds with no difference in RT\n",
    "m = (fit_df.fit_range > 0.1) & (fit_df.bird.isin(birds_without_rts) == False) & (fit_df.r2 > 0.001)\n",
    "fit_df_masked = fit_df[m]"
   ]
  },
  {
   "cell_type": "code",
   "execution_count": 49,
   "id": "61907426",
   "metadata": {
    "ExecuteTime": {
     "end_time": "2022-02-20T23:55:00.678212Z",
     "start_time": "2022-02-20T23:55:00.533200Z"
    }
   },
   "outputs": [
    {
     "data": {
      "text/plain": [
       "(165, 121, 0.7333333333333333)"
      ]
     },
     "execution_count": 49,
     "metadata": {},
     "output_type": "execute_result"
    }
   ],
   "source": [
    "# this percent of interpolations were discluded because we failed to fit a decay\n",
    "len(fit_df), np.sum(m), np.sum(m)/ len(fit_df)"
   ]
  },
  {
   "cell_type": "code",
   "execution_count": 79,
   "id": "a4fd951d",
   "metadata": {
    "ExecuteTime": {
     "end_time": "2022-02-21T00:24:59.381210Z",
     "start_time": "2022-02-21T00:24:59.348276Z"
    }
   },
   "outputs": [
    {
     "data": {
      "text/plain": [
       "array(['AE', 'BF', 'BE', 'AG', 'CF', 'AF', 'CG', 'BG', 'CE', 'AF', 'BG',\n",
       "       'BE', 'CF', 'AE', 'BF', 'BE', 'CF', 'CG', 'BG', 'AF', 'AG', 'AE',\n",
       "       'CE', 'BF', 'AF', 'AE', 'BE', 'CE', 'CF', 'AG', 'CG', 'BG', 'BG',\n",
       "       'AE', 'BE', 'CG', 'CF', 'CE', 'AF', 'AG', 'BF', 'AF', 'BF', 'BG',\n",
       "       'AF', 'CF', 'CE', 'BE', 'CG', 'AE', 'BF', 'AG', 'CG', 'BG', 'AE',\n",
       "       'CF', 'AF', 'BF', 'CE', 'AG', 'BE', 'AE', 'BF', 'AF', 'BE', 'BG',\n",
       "       'AG', 'CF', 'CG', 'AE', 'CF', 'BG', 'BE', 'AF', 'AG', 'CE', 'BF',\n",
       "       'AF', 'AE', 'CE', 'CF', 'BG', 'AG', 'BE', 'BF', 'CG', 'CE', 'AE',\n",
       "       'BG', 'BF', 'AF', 'CG', 'AG', 'CF', 'BF', 'BG', 'AF', 'CE', 'BE',\n",
       "       'CG', 'BF', 'BE', 'AF', 'AE', 'AF', 'CE', 'AG', 'BG', 'BE', 'BF',\n",
       "       'CF', 'CG', 'AE', 'AG', 'AF', 'BE', 'BF', 'CE', 'CF', 'BG', 'CG'],\n",
       "      dtype=object)"
      ]
     },
     "execution_count": 79,
     "metadata": {},
     "output_type": "execute_result"
    }
   ],
   "source": [
    "fit_df_masked.interpolation.values"
   ]
  },
  {
   "cell_type": "code",
   "execution_count": 50,
   "id": "8ee8e9de",
   "metadata": {
    "ExecuteTime": {
     "end_time": "2022-02-20T23:55:00.699215Z",
     "start_time": "2022-02-20T23:55:00.679971Z"
    }
   },
   "outputs": [],
   "source": [
    "colors, pal, pal_dict = get_cat_colors(fit_df_masked.interpolation.values)"
   ]
  },
  {
   "cell_type": "code",
   "execution_count": 83,
   "id": "8fac0137",
   "metadata": {
    "ExecuteTime": {
     "end_time": "2022-02-21T00:26:37.265516Z",
     "start_time": "2022-02-21T00:26:37.235619Z"
    }
   },
   "outputs": [],
   "source": [
    "pal_dict = {'AE': np.array([0.12156863, 0.46666667, 0.70588235]),\n",
    " 'AF': np.array([0.58039216, 0.40392157, 0.74117647]),\n",
    " 'AG': np.array([0.83921569, 0.15294118, 0.15686275]),\n",
    " 'BE': np.array([0.7372549 , 0.74117647, 0.13333333]),\n",
    " 'BF': np.array([0.49803922, 0.49803922, 0.49803922]),\n",
    " 'BG': np.array([0.54901961, 0.3372549 , 0.29411765]),\n",
    " 'CE': np.array([0.89019608, 0.46666667, 0.76078431]),\n",
    " 'CF': np.array([0.17254902, 0.62745098, 0.17254902]),\n",
    " 'CG': np.array([1.        , 0.49803922, 0.05490196])}"
   ]
  },
  {
   "cell_type": "code",
   "execution_count": 88,
   "id": "77076624",
   "metadata": {
    "ExecuteTime": {
     "end_time": "2022-02-21T00:27:09.388409Z",
     "start_time": "2022-02-21T00:27:09.359835Z"
    }
   },
   "outputs": [],
   "source": [
    "colors = [pal_dict[i] for i in fit_df_masked.interpolation.values]"
   ]
  },
  {
   "cell_type": "code",
   "execution_count": 89,
   "id": "6bc43e82",
   "metadata": {
    "ExecuteTime": {
     "end_time": "2022-02-21T00:27:09.519603Z",
     "start_time": "2022-02-21T00:27:09.495852Z"
    }
   },
   "outputs": [],
   "source": [
    "x = fit_df_masked[\"fit_slope_z\"].values.astype(float)\n",
    "y = fit_df_masked[\"e_decay_const_z\"].values.astype(float)"
   ]
  },
  {
   "cell_type": "code",
   "execution_count": 90,
   "id": "7a2d60bf",
   "metadata": {
    "ExecuteTime": {
     "end_time": "2022-02-21T00:27:09.675395Z",
     "start_time": "2022-02-21T00:27:09.647943Z"
    }
   },
   "outputs": [
    {
     "data": {
      "text/plain": [
       "121"
      ]
     },
     "execution_count": 90,
     "metadata": {},
     "output_type": "execute_result"
    }
   ],
   "source": [
    "len(x)"
   ]
  },
  {
   "cell_type": "code",
   "execution_count": 92,
   "id": "31fcc3f7",
   "metadata": {
    "ExecuteTime": {
     "end_time": "2022-02-21T00:27:20.654322Z",
     "start_time": "2022-02-21T00:27:20.041271Z"
    }
   },
   "outputs": [
    {
     "name": "stderr",
     "output_type": "stream",
     "text": [
      "findfont: Font family ['Arial'] not found. Falling back to DejaVu Sans.\n"
     ]
    },
    {
     "data": {
      "image/png": "[encoded data removed]",
      "text/plain": [
       "<Figure size 324x360 with 1 Axes>"
      ]
     },
     "metadata": {
      "needs_background": "light"
     },
     "output_type": "display_data"
    }
   ],
   "source": [
    "fig, ax = plt.subplots(figsize=(4.5,5))\n",
    "ax.scatter(x, y, c = colors)\n",
    "ax.set_xlabel('Psychometric Slope \\n (z-scored by subject)', fontsize=14)\n",
    "ax.set_ylabel('Response time decay constant \\n (z-scored by subject)', fontsize=14)\n",
    "for axis in [\"top\", \"bottom\", \"left\", \"right\"]:\n",
    "    ax.spines[axis].set_linewidth(3)\n",
    "    ax.spines[axis].set_color(\"k\")\n",
    "ax.tick_params(axis=\"both\", labelsize=14, pad=15)\n",
    "\n",
    "m, b = np.polyfit(x, y, 1)\n",
    "\n",
    "x_line = np.linspace(np.min(x), np.max(x), 100)\n",
    "plt.plot(x_line, m*x_line + b, color ='k', ls='dashed', lw=3)\n",
    "\n",
    "correlation_sigma, p_value_sigma = scipy.stats.pearsonr(x,y)\n",
    "\n",
    "ax.text(\n",
    "    0.95,\n",
    "    0.15,\n",
    "    \"r$^2$={}\\np={:g}\".format(round(correlation_sigma, 3), float('{:.1g}'.format(p_value_sigma))),\n",
    "    horizontalalignment=\"right\",\n",
    "    verticalalignment=\"top\",\n",
    "    fontsize=14,\n",
    "    color='k',\n",
    "    #fontweight='bold',\n",
    "    style='italic',\n",
    "    transform=ax.transAxes\n",
    ");\n",
    "ax.set_yticks([-1, 0, 1, 2])\n",
    "ax.yaxis.labelpad = 4\n",
    "for tick in ax.get_yaxis().get_major_ticks():\n",
    "    tick.set_pad(2.)\n",
    "ax.xaxis.labelpad = 4\n",
    "for tick in ax.get_xaxis().get_major_ticks():\n",
    "    tick.set_pad(2.)\n",
    "\n",
    "    \n",
    "ensure_dir(FIGURE_DIR / 'behavioral_results')\n",
    "save_fig(FIGURE_DIR / 'behavioral_results' / 'response-time-vs-psychometric', save_pdf=True)\n",
    "plt.show()"
   ]
  },
  {
   "cell_type": "markdown",
   "id": "ba50721e",
   "metadata": {},
   "source": [
    "### Response time by cue class"
   ]
  },
  {
   "cell_type": "code",
   "execution_count": 55,
   "id": "ebbdd482",
   "metadata": {
    "ExecuteTime": {
     "end_time": "2022-02-20T23:55:01.398219Z",
     "start_time": "2022-02-20T23:55:01.354998Z"
    }
   },
   "outputs": [
    {
     "data": {
      "text/html": [
       "<div>\n",
       "<style scoped>\n",
       "    .dataframe tbody tr th:only-of-type {\n",
       "        vertical-align: middle;\n",
       "    }\n",
       "\n",
       "    .dataframe tbody tr th {\n",
       "        vertical-align: top;\n",
       "    }\n",
       "\n",
       "    .dataframe thead th {\n",
       "        text-align: right;\n",
       "    }\n",
       "</style>\n",
       "<table border=\"1\" class=\"dataframe\">\n",
       "  <thead>\n",
       "    <tr style=\"text-align: right;\">\n",
       "      <th></th>\n",
       "      <th>session</th>\n",
       "      <th>index</th>\n",
       "      <th>type_</th>\n",
       "      <th>stimulus</th>\n",
       "      <th>class_</th>\n",
       "      <th>response</th>\n",
       "      <th>correct</th>\n",
       "      <th>rt</th>\n",
       "      <th>reward</th>\n",
       "      <th>punish</th>\n",
       "      <th>cue_class</th>\n",
       "      <th>cue_id</th>\n",
       "      <th>cue_prob</th>\n",
       "      <th>num_stims</th>\n",
       "      <th>flip_cues</th>\n",
       "      <th>binary_choice</th>\n",
       "      <th>cueing</th>\n",
       "      <th>left_stim</th>\n",
       "      <th>right_stim</th>\n",
       "      <th>interpolation_point</th>\n",
       "      <th>prob_cue</th>\n",
       "      <th>prob_cued_no_cue</th>\n",
       "      <th>data_file</th>\n",
       "      <th>response_bool</th>\n",
       "      <th>interpolation</th>\n",
       "      <th>pos_bin</th>\n",
       "      <th>cue_direction</th>\n",
       "      <th>subject</th>\n",
       "      <th>self_initiated</th>\n",
       "      <th>normed_rt</th>\n",
       "      <th>normed_rt_decision</th>\n",
       "      <th>normed_rt_class</th>\n",
       "      <th>interpolation_bin</th>\n",
       "    </tr>\n",
       "    <tr>\n",
       "      <th>time</th>\n",
       "      <th></th>\n",
       "      <th></th>\n",
       "      <th></th>\n",
       "      <th></th>\n",
       "      <th></th>\n",
       "      <th></th>\n",
       "      <th></th>\n",
       "      <th></th>\n",
       "      <th></th>\n",
       "      <th></th>\n",
       "      <th></th>\n",
       "      <th></th>\n",
       "      <th></th>\n",
       "      <th></th>\n",
       "      <th></th>\n",
       "      <th></th>\n",
       "      <th></th>\n",
       "      <th></th>\n",
       "      <th></th>\n",
       "      <th></th>\n",
       "      <th></th>\n",
       "      <th></th>\n",
       "      <th></th>\n",
       "      <th></th>\n",
       "      <th></th>\n",
       "      <th></th>\n",
       "      <th></th>\n",
       "      <th></th>\n",
       "      <th></th>\n",
       "      <th></th>\n",
       "      <th></th>\n",
       "      <th></th>\n",
       "      <th></th>\n",
       "    </tr>\n",
       "  </thead>\n",
       "  <tbody>\n",
       "    <tr>\n",
       "      <th>2019-12-24 14:44:30.569983</th>\n",
       "      <td>709</td>\n",
       "      <td>52</td>\n",
       "      <td>normal</td>\n",
       "      <td>/home/bird/opdat/B1174/stimuli/AE/CL1/CL1_AE_1...</td>\n",
       "      <td>L</td>\n",
       "      <td>L</td>\n",
       "      <td>True</td>\n",
       "      <td>0.078940</td>\n",
       "      <td>False</td>\n",
       "      <td>False</td>\n",
       "      <td>CL</td>\n",
       "      <td>CL1</td>\n",
       "      <td>0.875</td>\n",
       "      <td>3</td>\n",
       "      <td>False</td>\n",
       "      <td>False</td>\n",
       "      <td>True</td>\n",
       "      <td>A</td>\n",
       "      <td>E</td>\n",
       "      <td>20</td>\n",
       "      <td>0.8</td>\n",
       "      <td>0.2</td>\n",
       "      <td>/mnt/cube/RawData/Magpi/B1174/B1174_trialdata_...</td>\n",
       "      <td>0</td>\n",
       "      <td>AE</td>\n",
       "      <td>5</td>\n",
       "      <td>L</td>\n",
       "      <td>B1174</td>\n",
       "      <td>NaN</td>\n",
       "      <td>NaN</td>\n",
       "      <td>-0.547038</td>\n",
       "      <td>-0.548247</td>\n",
       "      <td>5</td>\n",
       "    </tr>\n",
       "    <tr>\n",
       "      <th>2019-12-24 14:44:35.027883</th>\n",
       "      <td>709</td>\n",
       "      <td>53</td>\n",
       "      <td>normal</td>\n",
       "      <td>/home/bird/opdat/B1174/stimuli/BF/NC/NC_BF_110...</td>\n",
       "      <td>L</td>\n",
       "      <td>L</td>\n",
       "      <td>True</td>\n",
       "      <td>0.391212</td>\n",
       "      <td>False</td>\n",
       "      <td>False</td>\n",
       "      <td>NC</td>\n",
       "      <td>NC</td>\n",
       "      <td>0.500</td>\n",
       "      <td>3</td>\n",
       "      <td>False</td>\n",
       "      <td>False</td>\n",
       "      <td>True</td>\n",
       "      <td>B</td>\n",
       "      <td>F</td>\n",
       "      <td>17</td>\n",
       "      <td>0.8</td>\n",
       "      <td>0.2</td>\n",
       "      <td>/mnt/cube/RawData/Magpi/B1174/B1174_trialdata_...</td>\n",
       "      <td>0</td>\n",
       "      <td>BF</td>\n",
       "      <td>5</td>\n",
       "      <td>N</td>\n",
       "      <td>B1174</td>\n",
       "      <td>NaN</td>\n",
       "      <td>NaN</td>\n",
       "      <td>-0.024007</td>\n",
       "      <td>-0.017190</td>\n",
       "      <td>5</td>\n",
       "    </tr>\n",
       "    <tr>\n",
       "      <th>2019-12-24 14:44:38.697615</th>\n",
       "      <td>709</td>\n",
       "      <td>54</td>\n",
       "      <td>normal</td>\n",
       "      <td>/home/bird/opdat/B1174/stimuli/BE/CL1/CL1_BE_0...</td>\n",
       "      <td>L</td>\n",
       "      <td>L</td>\n",
       "      <td>True</td>\n",
       "      <td>0.000671</td>\n",
       "      <td>True</td>\n",
       "      <td>False</td>\n",
       "      <td>CL</td>\n",
       "      <td>CL1</td>\n",
       "      <td>0.875</td>\n",
       "      <td>3</td>\n",
       "      <td>False</td>\n",
       "      <td>False</td>\n",
       "      <td>True</td>\n",
       "      <td>B</td>\n",
       "      <td>E</td>\n",
       "      <td>40</td>\n",
       "      <td>0.8</td>\n",
       "      <td>0.2</td>\n",
       "      <td>/mnt/cube/RawData/Magpi/B1174/B1174_trialdata_...</td>\n",
       "      <td>0</td>\n",
       "      <td>BE</td>\n",
       "      <td>10</td>\n",
       "      <td>L</td>\n",
       "      <td>B1174</td>\n",
       "      <td>NaN</td>\n",
       "      <td>NaN</td>\n",
       "      <td>-0.678132</td>\n",
       "      <td>-0.681353</td>\n",
       "      <td>10</td>\n",
       "    </tr>\n",
       "  </tbody>\n",
       "</table>\n",
       "</div>"
      ],
      "text/plain": [
       "                           session index   type_  \\\n",
       "time                                               \n",
       "2019-12-24 14:44:30.569983     709    52  normal   \n",
       "2019-12-24 14:44:35.027883     709    53  normal   \n",
       "2019-12-24 14:44:38.697615     709    54  normal   \n",
       "\n",
       "                                                                     stimulus  \\\n",
       "time                                                                            \n",
       "2019-12-24 14:44:30.569983  /home/bird/opdat/B1174/stimuli/AE/CL1/CL1_AE_1...   \n",
       "2019-12-24 14:44:35.027883  /home/bird/opdat/B1174/stimuli/BF/NC/NC_BF_110...   \n",
       "2019-12-24 14:44:38.697615  /home/bird/opdat/B1174/stimuli/BE/CL1/CL1_BE_0...   \n",
       "\n",
       "                           class_ response correct        rt  reward punish  \\\n",
       "time                                                                          \n",
       "2019-12-24 14:44:30.569983      L        L    True  0.078940   False  False   \n",
       "2019-12-24 14:44:35.027883      L        L    True  0.391212   False  False   \n",
       "2019-12-24 14:44:38.697615      L        L    True  0.000671    True  False   \n",
       "\n",
       "                           cue_class cue_id  cue_prob num_stims flip_cues  \\\n",
       "time                                                                        \n",
       "2019-12-24 14:44:30.569983        CL    CL1     0.875         3     False   \n",
       "2019-12-24 14:44:35.027883        NC     NC     0.500         3     False   \n",
       "2019-12-24 14:44:38.697615        CL    CL1     0.875         3     False   \n",
       "\n",
       "                           binary_choice cueing left_stim right_stim  \\\n",
       "time                                                                   \n",
       "2019-12-24 14:44:30.569983         False   True         A          E   \n",
       "2019-12-24 14:44:35.027883         False   True         B          F   \n",
       "2019-12-24 14:44:38.697615         False   True         B          E   \n",
       "\n",
       "                           interpolation_point  prob_cue  prob_cued_no_cue  \\\n",
       "time                                                                         \n",
       "2019-12-24 14:44:30.569983                  20       0.8               0.2   \n",
       "2019-12-24 14:44:35.027883                  17       0.8               0.2   \n",
       "2019-12-24 14:44:38.697615                  40       0.8               0.2   \n",
       "\n",
       "                                                                    data_file  \\\n",
       "time                                                                            \n",
       "2019-12-24 14:44:30.569983  /mnt/cube/RawData/Magpi/B1174/B1174_trialdata_...   \n",
       "2019-12-24 14:44:35.027883  /mnt/cube/RawData/Magpi/B1174/B1174_trialdata_...   \n",
       "2019-12-24 14:44:38.697615  /mnt/cube/RawData/Magpi/B1174/B1174_trialdata_...   \n",
       "\n",
       "                            response_bool interpolation  pos_bin  \\\n",
       "time                                                               \n",
       "2019-12-24 14:44:30.569983              0            AE        5   \n",
       "2019-12-24 14:44:35.027883              0            BF        5   \n",
       "2019-12-24 14:44:38.697615              0            BE       10   \n",
       "\n",
       "                           cue_direction subject self_initiated  normed_rt  \\\n",
       "time                                                                         \n",
       "2019-12-24 14:44:30.569983             L   B1174            NaN        NaN   \n",
       "2019-12-24 14:44:35.027883             N   B1174            NaN        NaN   \n",
       "2019-12-24 14:44:38.697615             L   B1174            NaN        NaN   \n",
       "\n",
       "                            normed_rt_decision  normed_rt_class  \\\n",
       "time                                                              \n",
       "2019-12-24 14:44:30.569983           -0.547038        -0.548247   \n",
       "2019-12-24 14:44:35.027883           -0.024007        -0.017190   \n",
       "2019-12-24 14:44:38.697615           -0.678132        -0.681353   \n",
       "\n",
       "                            interpolation_bin  \n",
       "time                                           \n",
       "2019-12-24 14:44:30.569983                  5  \n",
       "2019-12-24 14:44:35.027883                  5  \n",
       "2019-12-24 14:44:38.697615                 10  "
      ]
     },
     "execution_count": 55,
     "metadata": {},
     "output_type": "execute_result"
    }
   ],
   "source": [
    "behav_data_all[:3]"
   ]
  },
  {
   "cell_type": "code",
   "execution_count": 74,
   "id": "d9382fa2",
   "metadata": {
    "ExecuteTime": {
     "end_time": "2022-02-21T00:20:35.025640Z",
     "start_time": "2022-02-21T00:20:12.440415Z"
    }
   },
   "outputs": [
    {
     "data": {
      "image/png": "[encoded data removed]",
      "text/plain": [
       "<Figure size 324x144 with 1 Axes>"
      ]
     },
     "metadata": {
      "needs_background": "light"
     },
     "output_type": "display_data"
    }
   ],
   "source": [
    "fig, ax = plt.subplots(figsize=(4.5,2))\n",
    "sns.lineplot(\n",
    "    x=\"interpolation_bin\",\n",
    "    y=\"normed_rt_class\",\n",
    "    hue=\"cue_id\",\n",
    "    data=behav_data_all[behav_data_all.cue_class.isin([\"CL\", \"CR\"])],\n",
    "    #order = ['CL1', 'CL0', 'CR1', 'CR0'],\n",
    "    palette = cdcp_colors[\"cue_pal\"],\n",
    "    #ci=None,\n",
    "    legend=False,\n",
    "    ax = ax,\n",
    "    lw=3\n",
    ")\n",
    "\n",
    "for axis in [\"top\", \"bottom\", \"left\", \"right\"]:\n",
    "    ax.spines[axis].set_linewidth(3)\n",
    "    ax.spines[axis].set_color(\"k\")\n",
    "ax.tick_params(axis=\"both\", labelsize=12, pad=15)\n",
    "\n",
    "ax.set_xticks([1, 31])\n",
    "ax.set_xticklabels([1, 128])\n",
    "ax.set_xlabel('Interpolation Point', fontsize=12)\n",
    "ax.set_ylabel('Reaction Time \\n (rel. to resp. avg.)', fontsize=12)\n",
    "ax.yaxis.labelpad = 4\n",
    "for tick in ax.get_yaxis().get_major_ticks():\n",
    "    tick.set_pad(2.)\n",
    "ax.xaxis.labelpad = 4\n",
    "for tick in ax.get_xaxis().get_major_ticks():\n",
    "    tick.set_pad(2.)\n",
    "\n",
    "    \n",
    "ax.set_xlim([1,31])\n",
    "ax.set_ylim([-0.2, 0.3])\n",
    "ensure_dir(FIGURE_DIR / 'behavioral_results')\n",
    "save_fig(FIGURE_DIR / 'behavioral_results' / 'response-time-vs-cue-prob-short', save_pdf=True)\n",
    "plt.show()"
   ]
  },
  {
   "cell_type": "markdown",
   "id": "aff71765",
   "metadata": {},
   "source": [
    "### Contrast with prior probability"
   ]
  },
  {
   "cell_type": "code",
   "execution_count": 57,
   "id": "418483b0",
   "metadata": {
    "ExecuteTime": {
     "end_time": "2022-02-20T23:55:23.983014Z",
     "start_time": "2022-02-20T23:55:23.923882Z"
    }
   },
   "outputs": [],
   "source": [
    "from joblib import Parallel, delayed\n",
    "from cdcp.behavior.bayesian import fit_bayesian_model, bayesian_model"
   ]
  },
  {
   "cell_type": "code",
   "execution_count": 58,
   "id": "d86eb8f8",
   "metadata": {
    "ExecuteTime": {
     "end_time": "2022-02-20T23:55:24.000518Z",
     "start_time": "2022-02-20T23:55:23.984569Z"
    }
   },
   "outputs": [],
   "source": [
    "params = {\n",
    "    'sigma_likelihood':10, # std of gaussian for likelihood\n",
    "    'beta_categorical_attention': 0, # pct of time ignoring the categorical stimulus # if set at 0 all guesses are based upon the cue, \n",
    "    'delta_cue_attention':.1, # pct of time ignoring the cue\n",
    "    'alpha_overall_attention':.2, # pct of time ingoring both the cue, and categorical stimulis, independant of the product of beta and delta \n",
    "    'gamma_side_bias': .5 # the direction of the random guess (side bias)\n",
    "}"
   ]
  },
  {
   "cell_type": "code",
   "execution_count": 59,
   "id": "20fbb155",
   "metadata": {
    "ExecuteTime": {
     "end_time": "2022-02-20T23:55:24.018262Z",
     "start_time": "2022-02-20T23:55:24.002057Z"
    }
   },
   "outputs": [],
   "source": [
    "x_true = np.arange(128)\n",
    "decision_boundary = np.zeros(len(x_true))\n",
    "decision_boundary[x_true > 63] = 1"
   ]
  },
  {
   "cell_type": "code",
   "execution_count": 60,
   "id": "0ab356cb",
   "metadata": {
    "ExecuteTime": {
     "end_time": "2022-02-20T23:55:24.036828Z",
     "start_time": "2022-02-20T23:55:24.019857Z"
    }
   },
   "outputs": [],
   "source": [
    "condition_types = [0.125, 0.25, 0.5, 0.75, 0.875]\n",
    "midpoint = 63\n",
    "prior_probability = {ct: np.zeros(len(x_true))+ct for ct in condition_types}\n",
    "for ct in condition_types: prior_probability[ct][x_true > midpoint]  = 1-ct "
   ]
  },
  {
   "cell_type": "code",
   "execution_count": 61,
   "id": "2a92bfbd",
   "metadata": {
    "ExecuteTime": {
     "end_time": "2022-02-20T23:55:24.273770Z",
     "start_time": "2022-02-20T23:55:24.038449Z"
    }
   },
   "outputs": [
    {
     "name": "stderr",
     "output_type": "stream",
     "text": [
      "/home/AD/tsainbur/anaconda3/envs/cdcp_paper/lib/python3.7/site-packages/ipykernel_launcher.py:11: MatplotlibDeprecationWarning: Passing the minor parameter of set_ticks() positionally is deprecated since Matplotlib 3.2; the parameter will become keyword-only two minor releases later.\n",
      "  # This is added back by InteractiveShellApp.init_path()\n",
      "findfont: Font family ['Arial'] not found. Falling back to DejaVu Sans.\n"
     ]
    },
    {
     "data": {
      "image/png": "[encoded data removed]",
      "text/plain": [
       "<Figure size 324x144 with 1 Axes>"
      ]
     },
     "metadata": {
      "needs_background": "light"
     },
     "output_type": "display_data"
    }
   ],
   "source": [
    "fig, ax = plt.subplots(figsize=(4.5,2))\n",
    "\n",
    "cue_plots = []\n",
    "\n",
    "# plot\n",
    "for ct in [0.125, 0.25, 0.75, 0.875]:\n",
    "    decision, posterior_probability, likelihood = bayesian_model(params, x_true, prior_probability[ct], decision_boundary)\n",
    "    ax.plot(x_true[::4],prior_probability[ct][::4], color = cdcp_colors['cue']['L'][ct], label = ct, lw = 5, alpha = 0.75)\n",
    "\n",
    "#ax.set_xlabel('Interpolation point ($x_{true}$)')\n",
    "ax.set_xticks([], [])\n",
    "ax.set_yticks([0,1])\n",
    "\n",
    "ax.set_ylabel('Prior probability', fontsize=12)\n",
    "[i.set_linewidth(4) for i in ax.spines.values()]\n",
    "plt.tick_params(axis='both', which='major', labelsize=18)\n",
    "\n",
    "ax.set_xlim([0,126])   \n",
    "ax.set_ylim([0,1])\n",
    "# legends\n",
    "#ax.legend()\n",
    "ensure_dir(FIGURE_DIR / 'behavioral_results')\n",
    "save_fig(FIGURE_DIR / 'behavioral_results' / 'prior_short', save_pdf=True)\n",
    "plt.show()\n"
   ]
  },
  {
   "cell_type": "markdown",
   "id": "7e49fda8",
   "metadata": {},
   "source": [
    "### Correlation between reaction time and prior probability for each interpolation point"
   ]
  },
  {
   "cell_type": "code",
   "execution_count": 62,
   "id": "fefc2a54",
   "metadata": {
    "ExecuteTime": {
     "end_time": "2022-02-20T23:55:24.317093Z",
     "start_time": "2022-02-20T23:55:24.275329Z"
    }
   },
   "outputs": [
    {
     "data": {
      "text/html": [
       "<div>\n",
       "<style scoped>\n",
       "    .dataframe tbody tr th:only-of-type {\n",
       "        vertical-align: middle;\n",
       "    }\n",
       "\n",
       "    .dataframe tbody tr th {\n",
       "        vertical-align: top;\n",
       "    }\n",
       "\n",
       "    .dataframe thead th {\n",
       "        text-align: right;\n",
       "    }\n",
       "</style>\n",
       "<table border=\"1\" class=\"dataframe\">\n",
       "  <thead>\n",
       "    <tr style=\"text-align: right;\">\n",
       "      <th></th>\n",
       "      <th>session</th>\n",
       "      <th>index</th>\n",
       "      <th>type_</th>\n",
       "      <th>stimulus</th>\n",
       "      <th>class_</th>\n",
       "      <th>response</th>\n",
       "      <th>correct</th>\n",
       "      <th>rt</th>\n",
       "      <th>reward</th>\n",
       "      <th>punish</th>\n",
       "      <th>cue_class</th>\n",
       "      <th>cue_id</th>\n",
       "      <th>cue_prob</th>\n",
       "      <th>num_stims</th>\n",
       "      <th>flip_cues</th>\n",
       "      <th>binary_choice</th>\n",
       "      <th>cueing</th>\n",
       "      <th>left_stim</th>\n",
       "      <th>right_stim</th>\n",
       "      <th>interpolation_point</th>\n",
       "      <th>prob_cue</th>\n",
       "      <th>prob_cued_no_cue</th>\n",
       "      <th>data_file</th>\n",
       "      <th>response_bool</th>\n",
       "      <th>interpolation</th>\n",
       "      <th>pos_bin</th>\n",
       "      <th>cue_direction</th>\n",
       "      <th>subject</th>\n",
       "      <th>self_initiated</th>\n",
       "      <th>normed_rt</th>\n",
       "      <th>normed_rt_decision</th>\n",
       "      <th>normed_rt_class</th>\n",
       "      <th>interpolation_bin</th>\n",
       "    </tr>\n",
       "    <tr>\n",
       "      <th>time</th>\n",
       "      <th></th>\n",
       "      <th></th>\n",
       "      <th></th>\n",
       "      <th></th>\n",
       "      <th></th>\n",
       "      <th></th>\n",
       "      <th></th>\n",
       "      <th></th>\n",
       "      <th></th>\n",
       "      <th></th>\n",
       "      <th></th>\n",
       "      <th></th>\n",
       "      <th></th>\n",
       "      <th></th>\n",
       "      <th></th>\n",
       "      <th></th>\n",
       "      <th></th>\n",
       "      <th></th>\n",
       "      <th></th>\n",
       "      <th></th>\n",
       "      <th></th>\n",
       "      <th></th>\n",
       "      <th></th>\n",
       "      <th></th>\n",
       "      <th></th>\n",
       "      <th></th>\n",
       "      <th></th>\n",
       "      <th></th>\n",
       "      <th></th>\n",
       "      <th></th>\n",
       "      <th></th>\n",
       "      <th></th>\n",
       "      <th></th>\n",
       "    </tr>\n",
       "  </thead>\n",
       "  <tbody>\n",
       "    <tr>\n",
       "      <th>2019-12-24 14:44:30.569983</th>\n",
       "      <td>709</td>\n",
       "      <td>52</td>\n",
       "      <td>normal</td>\n",
       "      <td>/home/bird/opdat/B1174/stimuli/AE/CL1/CL1_AE_1...</td>\n",
       "      <td>L</td>\n",
       "      <td>L</td>\n",
       "      <td>True</td>\n",
       "      <td>0.078940</td>\n",
       "      <td>False</td>\n",
       "      <td>False</td>\n",
       "      <td>CL</td>\n",
       "      <td>CL1</td>\n",
       "      <td>0.875</td>\n",
       "      <td>3</td>\n",
       "      <td>False</td>\n",
       "      <td>False</td>\n",
       "      <td>True</td>\n",
       "      <td>A</td>\n",
       "      <td>E</td>\n",
       "      <td>20</td>\n",
       "      <td>0.8</td>\n",
       "      <td>0.2</td>\n",
       "      <td>/mnt/cube/RawData/Magpi/B1174/B1174_trialdata_...</td>\n",
       "      <td>0</td>\n",
       "      <td>AE</td>\n",
       "      <td>5</td>\n",
       "      <td>L</td>\n",
       "      <td>B1174</td>\n",
       "      <td>NaN</td>\n",
       "      <td>NaN</td>\n",
       "      <td>-0.547038</td>\n",
       "      <td>-0.548247</td>\n",
       "      <td>5</td>\n",
       "    </tr>\n",
       "    <tr>\n",
       "      <th>2019-12-24 14:44:35.027883</th>\n",
       "      <td>709</td>\n",
       "      <td>53</td>\n",
       "      <td>normal</td>\n",
       "      <td>/home/bird/opdat/B1174/stimuli/BF/NC/NC_BF_110...</td>\n",
       "      <td>L</td>\n",
       "      <td>L</td>\n",
       "      <td>True</td>\n",
       "      <td>0.391212</td>\n",
       "      <td>False</td>\n",
       "      <td>False</td>\n",
       "      <td>NC</td>\n",
       "      <td>NC</td>\n",
       "      <td>0.500</td>\n",
       "      <td>3</td>\n",
       "      <td>False</td>\n",
       "      <td>False</td>\n",
       "      <td>True</td>\n",
       "      <td>B</td>\n",
       "      <td>F</td>\n",
       "      <td>17</td>\n",
       "      <td>0.8</td>\n",
       "      <td>0.2</td>\n",
       "      <td>/mnt/cube/RawData/Magpi/B1174/B1174_trialdata_...</td>\n",
       "      <td>0</td>\n",
       "      <td>BF</td>\n",
       "      <td>5</td>\n",
       "      <td>N</td>\n",
       "      <td>B1174</td>\n",
       "      <td>NaN</td>\n",
       "      <td>NaN</td>\n",
       "      <td>-0.024007</td>\n",
       "      <td>-0.017190</td>\n",
       "      <td>5</td>\n",
       "    </tr>\n",
       "    <tr>\n",
       "      <th>2019-12-24 14:44:38.697615</th>\n",
       "      <td>709</td>\n",
       "      <td>54</td>\n",
       "      <td>normal</td>\n",
       "      <td>/home/bird/opdat/B1174/stimuli/BE/CL1/CL1_BE_0...</td>\n",
       "      <td>L</td>\n",
       "      <td>L</td>\n",
       "      <td>True</td>\n",
       "      <td>0.000671</td>\n",
       "      <td>True</td>\n",
       "      <td>False</td>\n",
       "      <td>CL</td>\n",
       "      <td>CL1</td>\n",
       "      <td>0.875</td>\n",
       "      <td>3</td>\n",
       "      <td>False</td>\n",
       "      <td>False</td>\n",
       "      <td>True</td>\n",
       "      <td>B</td>\n",
       "      <td>E</td>\n",
       "      <td>40</td>\n",
       "      <td>0.8</td>\n",
       "      <td>0.2</td>\n",
       "      <td>/mnt/cube/RawData/Magpi/B1174/B1174_trialdata_...</td>\n",
       "      <td>0</td>\n",
       "      <td>BE</td>\n",
       "      <td>10</td>\n",
       "      <td>L</td>\n",
       "      <td>B1174</td>\n",
       "      <td>NaN</td>\n",
       "      <td>NaN</td>\n",
       "      <td>-0.678132</td>\n",
       "      <td>-0.681353</td>\n",
       "      <td>10</td>\n",
       "    </tr>\n",
       "  </tbody>\n",
       "</table>\n",
       "</div>"
      ],
      "text/plain": [
       "                           session index   type_  \\\n",
       "time                                               \n",
       "2019-12-24 14:44:30.569983     709    52  normal   \n",
       "2019-12-24 14:44:35.027883     709    53  normal   \n",
       "2019-12-24 14:44:38.697615     709    54  normal   \n",
       "\n",
       "                                                                     stimulus  \\\n",
       "time                                                                            \n",
       "2019-12-24 14:44:30.569983  /home/bird/opdat/B1174/stimuli/AE/CL1/CL1_AE_1...   \n",
       "2019-12-24 14:44:35.027883  /home/bird/opdat/B1174/stimuli/BF/NC/NC_BF_110...   \n",
       "2019-12-24 14:44:38.697615  /home/bird/opdat/B1174/stimuli/BE/CL1/CL1_BE_0...   \n",
       "\n",
       "                           class_ response correct        rt  reward punish  \\\n",
       "time                                                                          \n",
       "2019-12-24 14:44:30.569983      L        L    True  0.078940   False  False   \n",
       "2019-12-24 14:44:35.027883      L        L    True  0.391212   False  False   \n",
       "2019-12-24 14:44:38.697615      L        L    True  0.000671    True  False   \n",
       "\n",
       "                           cue_class cue_id  cue_prob num_stims flip_cues  \\\n",
       "time                                                                        \n",
       "2019-12-24 14:44:30.569983        CL    CL1     0.875         3     False   \n",
       "2019-12-24 14:44:35.027883        NC     NC     0.500         3     False   \n",
       "2019-12-24 14:44:38.697615        CL    CL1     0.875         3     False   \n",
       "\n",
       "                           binary_choice cueing left_stim right_stim  \\\n",
       "time                                                                   \n",
       "2019-12-24 14:44:30.569983         False   True         A          E   \n",
       "2019-12-24 14:44:35.027883         False   True         B          F   \n",
       "2019-12-24 14:44:38.697615         False   True         B          E   \n",
       "\n",
       "                           interpolation_point  prob_cue  prob_cued_no_cue  \\\n",
       "time                                                                         \n",
       "2019-12-24 14:44:30.569983                  20       0.8               0.2   \n",
       "2019-12-24 14:44:35.027883                  17       0.8               0.2   \n",
       "2019-12-24 14:44:38.697615                  40       0.8               0.2   \n",
       "\n",
       "                                                                    data_file  \\\n",
       "time                                                                            \n",
       "2019-12-24 14:44:30.569983  /mnt/cube/RawData/Magpi/B1174/B1174_trialdata_...   \n",
       "2019-12-24 14:44:35.027883  /mnt/cube/RawData/Magpi/B1174/B1174_trialdata_...   \n",
       "2019-12-24 14:44:38.697615  /mnt/cube/RawData/Magpi/B1174/B1174_trialdata_...   \n",
       "\n",
       "                            response_bool interpolation  pos_bin  \\\n",
       "time                                                               \n",
       "2019-12-24 14:44:30.569983              0            AE        5   \n",
       "2019-12-24 14:44:35.027883              0            BF        5   \n",
       "2019-12-24 14:44:38.697615              0            BE       10   \n",
       "\n",
       "                           cue_direction subject self_initiated  normed_rt  \\\n",
       "time                                                                         \n",
       "2019-12-24 14:44:30.569983             L   B1174            NaN        NaN   \n",
       "2019-12-24 14:44:35.027883             N   B1174            NaN        NaN   \n",
       "2019-12-24 14:44:38.697615             L   B1174            NaN        NaN   \n",
       "\n",
       "                            normed_rt_decision  normed_rt_class  \\\n",
       "time                                                              \n",
       "2019-12-24 14:44:30.569983           -0.547038        -0.548247   \n",
       "2019-12-24 14:44:35.027883           -0.024007        -0.017190   \n",
       "2019-12-24 14:44:38.697615           -0.678132        -0.681353   \n",
       "\n",
       "                            interpolation_bin  \n",
       "time                                           \n",
       "2019-12-24 14:44:30.569983                  5  \n",
       "2019-12-24 14:44:35.027883                  5  \n",
       "2019-12-24 14:44:38.697615                 10  "
      ]
     },
     "execution_count": 62,
     "metadata": {},
     "output_type": "execute_result"
    }
   ],
   "source": [
    "behav_data_all[:3]"
   ]
  },
  {
   "cell_type": "code",
   "execution_count": 63,
   "id": "da00a990",
   "metadata": {
    "ExecuteTime": {
     "end_time": "2022-02-20T23:55:24.337376Z",
     "start_time": "2022-02-20T23:55:24.320990Z"
    }
   },
   "outputs": [],
   "source": [
    "p_dict = {\n",
    "    'L': {\n",
    "        'CL1':0.875, 'NC':0.5, 'CL0':0.75, 'CR1':0.125, 'CR0':0.25, 'CN':0.5\n",
    "    },\n",
    "    'R': {\n",
    "        'CL1':0.125, 'NC':0.5, 'CL0':0.25, 'CR1':0.875, 'CR0':0.75, 'CN':0.5\n",
    "    }\n",
    "}"
   ]
  },
  {
   "cell_type": "code",
   "execution_count": 64,
   "id": "f393f3e3",
   "metadata": {
    "ExecuteTime": {
     "end_time": "2022-02-20T23:55:24.465228Z",
     "start_time": "2022-02-20T23:55:24.339155Z"
    }
   },
   "outputs": [
    {
     "data": {
      "text/plain": [
       "array(['CL1', 'NC', 'CL0', 'CR1', 'CR0', 'CN'], dtype=object)"
      ]
     },
     "execution_count": 64,
     "metadata": {},
     "output_type": "execute_result"
    }
   ],
   "source": [
    "behav_data_all.cue_id.unique()"
   ]
  },
  {
   "cell_type": "code",
   "execution_count": 65,
   "id": "1a32845e",
   "metadata": {
    "ExecuteTime": {
     "end_time": "2022-02-20T23:55:24.486323Z",
     "start_time": "2022-02-20T23:55:24.466842Z"
    }
   },
   "outputs": [
    {
     "data": {
      "text/plain": [
       "1979805"
      ]
     },
     "execution_count": 65,
     "metadata": {},
     "output_type": "execute_result"
    }
   ],
   "source": [
    "len(behav_data_all)"
   ]
  },
  {
   "cell_type": "code",
   "execution_count": 66,
   "id": "5c5e4a63",
   "metadata": {
    "ExecuteTime": {
     "end_time": "2022-02-20T23:56:08.389491Z",
     "start_time": "2022-02-20T23:55:24.487937Z"
    },
    "scrolled": true
   },
   "outputs": [],
   "source": [
    "def get_dict(class_, id_):\n",
    "    return p_dict[class_][id_]\n",
    "cued_class_prob = behav_data_all.apply(lambda row: get_dict(row['class_'], row['cue_id']), axis=1).values"
   ]
  },
  {
   "cell_type": "code",
   "execution_count": 67,
   "id": "c9af6ac7",
   "metadata": {
    "ExecuteTime": {
     "end_time": "2022-02-20T23:56:08.490587Z",
     "start_time": "2022-02-20T23:56:08.391358Z"
    }
   },
   "outputs": [
    {
     "data": {
      "text/plain": [
       "(array([0.125, 0.25 , 0.5  , 0.75 , 0.875]),\n",
       " array([112319, 207768, 474169, 551684, 633865]))"
      ]
     },
     "execution_count": 67,
     "metadata": {},
     "output_type": "execute_result"
    }
   ],
   "source": [
    "np.unique(cued_class_prob, return_counts=True)"
   ]
  },
  {
   "cell_type": "code",
   "execution_count": 68,
   "id": "326e5d36",
   "metadata": {
    "ExecuteTime": {
     "end_time": "2022-02-20T23:56:08.625025Z",
     "start_time": "2022-02-20T23:56:08.492455Z"
    }
   },
   "outputs": [
    {
     "data": {
      "text/plain": [
       "{0.125: 0.1207183550434856,\n",
       " 0.25: 0.053523914075653496,\n",
       " 0.5: 0.12119352624560954,\n",
       " 0.75: -0.0660620482313852,\n",
       " 0.875: -0.07209793825131623}"
      ]
     },
     "execution_count": 68,
     "metadata": {},
     "output_type": "execute_result"
    }
   ],
   "source": [
    "{i:np.mean(behav_data_all.normed_rt_class.values[cued_class_prob == i]) for i in np.unique(cued_class_prob)}"
   ]
  },
  {
   "cell_type": "code",
   "execution_count": 69,
   "id": "05fd1892",
   "metadata": {
    "ExecuteTime": {
     "end_time": "2022-02-20T23:56:08.644803Z",
     "start_time": "2022-02-20T23:56:08.626681Z"
    }
   },
   "outputs": [],
   "source": [
    "x = cued_class_prob"
   ]
  },
  {
   "cell_type": "code",
   "execution_count": 70,
   "id": "8a99492a",
   "metadata": {
    "ExecuteTime": {
     "end_time": "2022-02-20T23:56:08.662096Z",
     "start_time": "2022-02-20T23:56:08.646371Z"
    }
   },
   "outputs": [],
   "source": [
    "y = behav_data_all.normed_rt_class.values"
   ]
  },
  {
   "cell_type": "code",
   "execution_count": 71,
   "id": "65bc8e20",
   "metadata": {
    "ExecuteTime": {
     "end_time": "2022-02-20T23:56:08.680408Z",
     "start_time": "2022-02-20T23:56:08.663658Z"
    }
   },
   "outputs": [
    {
     "data": {
      "text/plain": [
       "1979805"
      ]
     },
     "execution_count": 71,
     "metadata": {},
     "output_type": "execute_result"
    }
   ],
   "source": [
    "len(x)"
   ]
  },
  {
   "cell_type": "code",
   "execution_count": 72,
   "id": "ea625362",
   "metadata": {
    "ExecuteTime": {
     "end_time": "2022-02-20T23:56:08.741200Z",
     "start_time": "2022-02-20T23:56:08.681859Z"
    }
   },
   "outputs": [
    {
     "data": {
      "text/plain": [
       "(-0.07233026890913757, 0.0)"
      ]
     },
     "execution_count": 72,
     "metadata": {},
     "output_type": "execute_result"
    }
   ],
   "source": [
    "scipy.stats.pearsonr(x,y)"
   ]
  },
  {
   "cell_type": "code",
   "execution_count": null,
   "id": "dff20872",
   "metadata": {},
   "outputs": [],
   "source": []
  }
 ],
 "metadata": {
  "kernelspec": {
   "display_name": "cdcp_paper",
   "language": "python",
   "name": "cdcp_paper"
  },
  "language_info": {
   "codemirror_mode": {
    "name": "ipython",
    "version": 3
   },
   "file_extension": ".py",
   "mimetype": "text/x-python",
   "name": "python",
   "nbconvert_exporter": "python",
   "pygments_lexer": "ipython3",
   "version": "3.10.15"
  }
 },
 "nbformat": 4,
 "nbformat_minor": 5
}
