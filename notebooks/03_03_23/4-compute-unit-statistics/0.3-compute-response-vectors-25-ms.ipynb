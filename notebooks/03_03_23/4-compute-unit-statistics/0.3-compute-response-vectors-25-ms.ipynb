{
 "cells": [
  {
   "cell_type": "markdown",
   "id": "5b4b6cf3",
   "metadata": {},
   "source": [
    "### Recomputing these response vectors from the .pickle\n",
    "- the code is just modified from the original notebook to reflect loading unit spiketrains from the .pickle.zip file"
   ]
  },
  {
   "cell_type": "code",
   "execution_count": 1,
   "id": "cef6c39c",
   "metadata": {
    "ExecuteTime": {
     "end_time": "2022-01-23T20:31:09.094117Z",
     "start_time": "2022-01-23T20:31:09.078531Z"
    }
   },
   "outputs": [],
   "source": [
    "%load_ext autoreload\n",
    "%autoreload 2"
   ]
  },
  {
   "cell_type": "code",
   "execution_count": 2,
   "id": "e8fd39fe",
   "metadata": {
    "ExecuteTime": {
     "end_time": "2022-01-23T20:31:09.114221Z",
     "start_time": "2022-01-23T20:31:09.096368Z"
    }
   },
   "outputs": [
    {
     "data": {
      "text/plain": [
       "1"
      ]
     },
     "execution_count": 2,
     "metadata": {},
     "output_type": "execute_result"
    }
   ],
   "source": [
    "import os\n",
    "# set to be lower priority\n",
    "os.nice(1) "
   ]
  },
  {
   "cell_type": "code",
   "execution_count": 3,
   "id": "29edc857",
   "metadata": {
    "ExecuteTime": {
     "end_time": "2022-01-23T20:31:09.888832Z",
     "start_time": "2022-01-23T20:31:09.116242Z"
    }
   },
   "outputs": [
    {
     "name": "stderr",
     "output_type": "stream",
     "text": [
      "/tmp/ipykernel_86931/2156191148.py:7: TqdmExperimentalWarning: Using `tqdm.autonotebook.tqdm` in notebook mode. Use `tqdm.tqdm` instead to force console mode (e.g. in jupyter console)\n",
      "  from tqdm.autonotebook import tqdm\n"
     ]
    }
   ],
   "source": [
    "import pandas  as pd\n",
    "from cdcp.paths import DATA_DIR, ensure_dir\n",
    "import numpy as np\n",
    "import matplotlib.pyplot as plt\n",
    "import datetime\n",
    "from pathlib2 import Path\n",
    "from tqdm.autonotebook import tqdm\n",
    "pd.set_option('display.max_columns', 500)\n",
    "from joblib import Parallel, delayed"
   ]
  },
  {
   "cell_type": "code",
   "execution_count": 4,
   "id": "2f08f4df",
   "metadata": {
    "ExecuteTime": {
     "end_time": "2022-01-23T20:31:09.913834Z",
     "start_time": "2022-01-23T20:31:09.891750Z"
    }
   },
   "outputs": [],
   "source": [
    "from datetime import datetime"
   ]
  },
  {
   "cell_type": "code",
   "execution_count": 5,
   "id": "ef8c2b51",
   "metadata": {
    "ExecuteTime": {
     "end_time": "2022-01-23T20:31:24.777304Z",
     "start_time": "2022-01-23T20:31:24.748880Z"
    }
   },
   "outputs": [],
   "source": [
    "from cdcp.spiketrain_analysis.spiketrain_utils import (\n",
    "    get_spike_train_vector\n",
    ")"
   ]
  },
  {
   "cell_type": "code",
   "execution_count": 6,
   "id": "2736fd2c",
   "metadata": {
    "ExecuteTime": {
     "end_time": "2022-01-23T20:31:24.836501Z",
     "start_time": "2022-01-23T20:31:24.781929Z"
    }
   },
   "outputs": [],
   "source": [
    "from cdcp.spiketrain_analysis.unit_stats.cued_similarity_and_spikevector_differences import (\n",
    "    compute_cued_average_sm_rv_differences\n",
    ")"
   ]
  },
  {
   "cell_type": "code",
   "execution_count": 7,
   "id": "f9e5e533",
   "metadata": {
    "ExecuteTime": {
     "end_time": "2022-01-23T20:31:24.868501Z",
     "start_time": "2022-01-23T20:31:24.841323Z"
    }
   },
   "outputs": [
    {
     "data": {
      "text/plain": [
       "'2021-10-23_23-02-31_846685'"
      ]
     },
     "execution_count": 7,
     "metadata": {},
     "output_type": "execute_result"
    }
   ],
   "source": [
    "# \"2021-10-07_16-05-58_796914\" '2021-10-06_13-30-08_899062' '2021-10-01_17-02-56_744915' \n",
    "statistics_timestamp = '2021-10-23_23-02-31_846685'# datetime.now().strftime(\"%Y-%m-%d_%H-%M-%S_%f\")#\n",
    "statistics_timestamp"
   ]
  },
  {
   "cell_type": "code",
   "execution_count": 8,
   "id": "8c22c611",
   "metadata": {
    "ExecuteTime": {
     "end_time": "2022-01-23T20:31:24.896122Z",
     "start_time": "2022-01-23T20:31:24.870955Z"
    }
   },
   "outputs": [],
   "source": [
    "birds = [\n",
    "    ('B1597', '2021-05-14_12-40-20_423998', 'kilosort2_5'),\n",
    "    ('B1188', '2021-05-31_18-52-29_558216', 'kilosort2_5'),\n",
    "    ('B1595', '2021-07-10_16-42-47_090257', 'kilosort2'),\n",
    "    ('B1276', '2021-07-14_11-14-02_257025', 'kilosort2'),\n",
    "    ('B1426', '2021-07-14_11-29-39_657273', 'kilosort2'),\n",
    "    ('B1432', '2021-06-01_15-14-38_561892', 'kilosort2_5'),\n",
    "    ('B1170', '2021-06-01_21-01-26_519005', 'kilosort2_5'),\n",
    "    ('B1244', '2021-07-14_12-57-45_546674', 'kilosort2'),\n",
    "    ('B1593', '2021-06-28_18-13-24_826008', 'kilosort2_5'),\n",
    "    ('B1248', '2021-07-03_18-08-01_063431', 'kilosort2_5'),\n",
    "    # acute\n",
    "    ('B1279', '2021-04-12_16-27-07_289527', 'kilosort2_5'),\n",
    "    ('B1500', '2021-08-27_09-24-48_680961', 'kilosort2_5'),\n",
    "    ('B1239', '2021-05-17_22-18-51_557635', 'kilosort2'),\n",
    "    ('B1459', '2021-08-26_21-21-12_755614', 'kilosort2_5'),\n",
    "]"
   ]
  },
  {
   "cell_type": "code",
   "execution_count": 9,
   "id": "fee8b65f",
   "metadata": {
    "ExecuteTime": {
     "end_time": "2022-01-23T20:31:24.918123Z",
     "start_time": "2022-01-23T20:31:24.897999Z"
    }
   },
   "outputs": [],
   "source": [
    "min_playbacks = 1000"
   ]
  },
  {
   "cell_type": "code",
   "execution_count": 10,
   "id": "0e1495e6",
   "metadata": {
    "ExecuteTime": {
     "end_time": "2022-01-23T20:31:24.941123Z",
     "start_time": "2022-01-23T20:31:24.919834Z"
    }
   },
   "outputs": [],
   "source": [
    "import pandas as pd\n",
    "from cdcp.paths import DATA_DIR, ensure_dir\n",
    "import numpy as np\n",
    "import matplotlib.pyplot as plt\n",
    "import datetime\n",
    "from pathlib2 import Path\n",
    "from tqdm.autonotebook import tqdm\n",
    "from scipy.ndimage import gaussian_filter1d\n",
    "\n",
    "from sklearn.metrics.pairwise import (\n",
    "    cosine_similarity,\n",
    "    euclidean_distances,\n",
    "    manhattan_distances,\n",
    ")"
   ]
  },
  {
   "cell_type": "code",
   "execution_count": 23,
   "id": "09c903ff",
   "metadata": {
    "ExecuteTime": {
     "end_time": "2022-01-23T20:31:24.969988Z",
     "start_time": "2022-01-23T20:31:24.942757Z"
    }
   },
   "outputs": [],
   "source": [
    "def get_spike_train_vector(\n",
    "    row,\n",
    "    nbins=100,\n",
    "    gaussian_sigma_ms=5,\n",
    "    return_gauss=False,\n",
    "    no_cue=True,\n",
    "    padding_s = 0.1,\n",
    "    mode=\"constant\",\n",
    "):\n",
    "    \"\"\"\n",
    "    From a list of rows, create a gaussian smoothed spike impulse vector\n",
    "\n",
    "    Parameters\n",
    "    ----------\n",
    "    row : [type]\n",
    "        [description]\n",
    "    gaussian_sigma : int, optional\n",
    "        [description], by default 5\n",
    "    nbins : int, optional\n",
    "        [description], by default 100\n",
    "    gaussian_sigma_ms : int, optional\n",
    "        [description], by default 5\n",
    "    return_gauss : bool, optional\n",
    "        [description], by default False\n",
    "\n",
    "    Returns\n",
    "    -------\n",
    "    [type]\n",
    "        [description]\n",
    "    \"\"\"\n",
    "    \n",
    "    if len(row.spike_times) == 0:\n",
    "        return np.zeros(nbins)\n",
    "    \n",
    "    bin_ms = 1000 / nbins\n",
    "    gaussian_sigma = gaussian_sigma_ms / bin_ms\n",
    "    padding_bins = int(padding_s*nbins)\n",
    "    if padding_bins - padding_s*nbins != 0:\n",
    "        raise ValueError('nbins incompatible with padding')    \n",
    "    if no_cue:\n",
    "        if row.cue in [\"CL1\", \"CL0\", \"CN\", \"CR0\", \"CR1\"]:\n",
    "            bins = np.linspace(1-padding_s, 2+padding_s, nbins + 1 + padding_bins*2)\n",
    "        else:\n",
    "            bins = np.linspace(0-padding_s, 1+padding_s, nbins + 1+ padding_bins*2)\n",
    "    else:\n",
    "        if row.cue in [\"CL1\", \"CL0\", \"CN\", \"CR0\", \"CR1\"]:\n",
    "            bins = np.linspace(0-padding_s, 2-padding_s, nbins * 2 + 1+ padding_bins*2)\n",
    "        else:\n",
    "            bins = np.linspace(-1-padding_s, 1-padding_s, nbins * 2 + 1+ padding_bins*2)\n",
    "\n",
    "    hist = np.histogram(row.spike_times, bins, density=False)[0]\n",
    "    if padding_bins>0:\n",
    "        hist = hist[padding_bins:-padding_bins]\n",
    "\n",
    "    if return_gauss:\n",
    "        gauss_convolved_psth = gaussian_filter1d(\n",
    "            hist.astype(\"float\"), gaussian_sigma, mode=mode\n",
    "        )\n",
    "        return gauss_convolved_psth\n",
    "    else:\n",
    "        return hist"
   ]
  },
  {
   "cell_type": "code",
   "execution_count": 24,
   "id": "ace9a7ff",
   "metadata": {},
   "outputs": [],
   "source": [
    "def get_unit_spike_trains(\n",
    "    unit_recording_ids,\n",
    "    spikesorting_folder,\n",
    "    sorter,\n",
    "    unit,\n",
    "    bird,\n",
    "    save_folder=\"trial_aligned_spikes\",\n",
    "):\n",
    "    trial_aligned_spikes_list = []\n",
    "    for unit, recording_id in tqdm(\n",
    "        unit_recording_ids, desc=\"unit spike trains\", leave=False\n",
    "    ):\n",
    "        trial_aligned_spikes_loc = (\n",
    "            DATA_DIR\n",
    "            / \"spikesorting\"\n",
    "            / save_folder\n",
    "            / bird\n",
    "            / recording_id\n",
    "            / \"{}.pickle.zip\".format(unit)\n",
    "        )\n",
    "        if trial_aligned_spikes_loc.exists():\n",
    "            trial_aligned_spikes = pd.read_pickle(trial_aligned_spikes_loc)\n",
    "            trial_aligned_spikes[\"recording_id\"] = recording_id\n",
    "\n",
    "            trial_aligned_spikes[\"stim\"] = [\n",
    "                i[:-4] if i[-4:].lower() == \".wav\" else i\n",
    "                for i in trial_aligned_spikes.stim.values\n",
    "            ]\n",
    "\n",
    "            mask = [\n",
    "                (i.split(\"_\")[-1].isnumeric() and len(i.split(\"_\")[-1]) == 3)\n",
    "                for i in trial_aligned_spikes.stim.values\n",
    "            ]\n",
    "\n",
    "            # get cue info\n",
    "            trial_aligned_spikes[\"cue\"] = [\n",
    "                i.split(\"_\")[0] if mask else np.nan\n",
    "                for i, m in zip(trial_aligned_spikes.stim.values, mask)\n",
    "            ]\n",
    "            trial_aligned_spikes[\"interp\"] = [\n",
    "                i.split(\"_\")[1] if mask else np.nan\n",
    "                for i, m in zip(trial_aligned_spikes.stim.values, mask)\n",
    "            ]\n",
    "\n",
    "            # for i, m in zip(trial_aligned_spikes.stim.values, mask):\n",
    "            #    if m:\n",
    "            #        int(i.split(\"_\")[2])\n",
    "            trial_aligned_spikes[\"interp_point\"] = [\n",
    "                np.nan if m == False else int(i.split(\"_\")[2])\n",
    "                for i, m in zip(trial_aligned_spikes.stim.values, mask)\n",
    "            ]\n",
    "            trial_aligned_spikes_list.append(trial_aligned_spikes)\n",
    "        else:\n",
    "            0\n",
    "            # print(\"{} does not have trial aligned spikes yet\".format(recording_id))\n",
    "            # print(\"\\t\", trial_aligned_spikes_loc)\n",
    "    if len(trial_aligned_spikes_list) < 1:\n",
    "        #breakme\n",
    "        return None\n",
    "    else:\n",
    "        return pd.concat(trial_aligned_spikes_list)"
   ]
  },
  {
   "cell_type": "markdown",
   "id": "a250b608",
   "metadata": {},
   "source": [
    "### Compute spike vectors and statistics"
   ]
  },
  {
   "cell_type": "code",
   "execution_count": 25,
   "id": "7578f873",
   "metadata": {
    "ExecuteTime": {
     "end_time": "2022-01-23T20:31:24.992083Z",
     "start_time": "2022-01-23T20:31:24.971564Z"
    }
   },
   "outputs": [],
   "source": [
    "n_time_bins = 100\n",
    "identifier = \"response_vector_25ms_{}\".format(n_time_bins)"
   ]
  },
  {
   "cell_type": "code",
   "execution_count": 26,
   "id": "2d2b732a",
   "metadata": {
    "ExecuteTime": {
     "end_time": "2022-01-23T20:31:25.019325Z",
     "start_time": "2022-01-23T20:31:24.993702Z"
    }
   },
   "outputs": [],
   "source": [
    "def get_unit_statistic(\n",
    "    unit_to_analyze,\n",
    "    spikesorting_folder,\n",
    "    statistics_timestamp,\n",
    "    bird,\n",
    "    identifier=identifier,\n",
    "    recompute=False,\n",
    "    parallel=True,\n",
    "    n_time_bins=100,\n",
    "    gaussian_sigma_ms=25,\n",
    "    save=True,\n",
    "    plot=False,\n",
    "):\n",
    "    def run():\n",
    "\n",
    "        unit_series_save_loc = (\n",
    "            spikesorting_folder\n",
    "            / \"unit_statistics\"\n",
    "            / statistics_timestamp\n",
    "            / identifier\n",
    "            / \"{}.npy\".format(unit_to_analyze.cluster_id)\n",
    "        )\n",
    "\n",
    "        # check if we need to run everything\n",
    "        if unit_series_save_loc.exists() and (recompute is False):\n",
    "            print(\"stat already exists\")\n",
    "            return\n",
    "\n",
    "        # make sure folder exists\n",
    "        ensure_dir(unit_series_save_loc)\n",
    "\n",
    "        unit_series_list = []\n",
    "        # load spike trains\n",
    "        trial_aligned_spikes = get_unit_spike_trains(\n",
    "            unit_to_analyze.sort_units,\n",
    "            spikesorting_folder,\n",
    "            sorter,\n",
    "            unit_to_analyze,\n",
    "            bird=bird,\n",
    "            save_folder=\"trial_aligned_spikes_padding_100ms\",\n",
    "        )\n",
    "        if trial_aligned_spikes is None:\n",
    "            # breakme\n",
    "            # because there are not enough spikes for this unit to be worth it\n",
    "            print(\"no trial_aligned_spikes\")\n",
    "            return\n",
    "\n",
    "        # get vectors\n",
    "        spike_vectors = [\n",
    "            get_spike_train_vector(\n",
    "                row,\n",
    "                nbins=n_time_bins,\n",
    "                return_gauss=True,\n",
    "                gaussian_sigma_ms=gaussian_sigma_ms,\n",
    "            )\n",
    "            for idx, row in tqdm(\n",
    "                trial_aligned_spikes.iterrows(),\n",
    "                total=len(trial_aligned_spikes),\n",
    "                desc=\"spike vectors\",\n",
    "                leave=False,\n",
    "            )\n",
    "        ]\n",
    "        if save:\n",
    "            np.save(unit_series_save_loc, np.array(spike_vectors))\n",
    "\n",
    "        return\n",
    "\n",
    "    if parallel == False:\n",
    "        run()\n",
    "    else:\n",
    "        try:\n",
    "            run()\n",
    "        except Exception as e:\n",
    "            with open(\"error_log.txt\", \"w\") as text_file:\n",
    "                text_file.write(str(e))\n",
    "            raise ValueError(unit_to_analyze.cluster_id)"
   ]
  },
  {
   "cell_type": "code",
   "execution_count": 34,
   "id": "b191d7df",
   "metadata": {
    "ExecuteTime": {
     "end_time": "2022-01-23T20:34:22.123898Z",
     "start_time": "2022-01-23T20:32:29.601411Z"
    },
    "scrolled": true
   },
   "outputs": [
    {
     "data": {
      "application/vnd.jupyter.widget-view+json": {
       "model_id": "4c245dac3c4741a783ec387087dc4774",
       "version_major": 2,
       "version_minor": 0
      },
      "text/plain": [
       "  0%|          | 0/14 [00:00<?, ?it/s]"
      ]
     },
     "metadata": {},
     "output_type": "display_data"
    },
    {
     "data": {
      "image/png": "[encoded data removed]",
      "text/plain": [
       "<Figure size 1000x200 with 2 Axes>"
      ]
     },
     "metadata": {},
     "output_type": "display_data"
    },
    {
     "name": "stdout",
     "output_type": "stream",
     "text": [
      "B1597 total # merged units: 8711\n"
     ]
    }
   ],
   "source": [
    "for bird, timestamp, sorter in tqdm(birds):\n",
    "    spikesorting_folder = (DATA_DIR\n",
    "                / \"spikesorting\"\n",
    "                / bird\n",
    "                / timestamp)\n",
    "    # get the summary of recordings for the bird\n",
    "    recording_summary_df = pd.read_pickle(\n",
    "        DATA_DIR / \"spikesorting\" / \"recording_df\" / f\"{bird}.pickle.zip\"\n",
    "    )\n",
    "\n",
    "    # get units that are to be merged\n",
    "    merged_units = pd.read_pickle(\n",
    "            DATA_DIR / \"spikesorting\" / \"unit_clusters\" / f\"{bird}.pickle.zip\"\n",
    "        )\n",
    "    merged_units = merged_units.sort_values(by='n_playbacks', ascending=False)\n",
    "    merged_units = merged_units[merged_units.n_playbacks.astype('float')  > min_playbacks]\n",
    "    \n",
    "    plot = True\n",
    "    if plot:\n",
    "        fig, axs = plt.subplots(ncols=2, figsize=(10,2))\n",
    "        axs[0].hist(np.log10(merged_units.n_playbacks.values.astype('float')+1), bins = 100);\n",
    "        axs[0].set_title('log # playbacks')\n",
    "        axs[1].hist(np.log10(merged_units.n_spikes.values.astype('float')+1), bins = 100);\n",
    "        axs[1].set_title('log # spikes')\n",
    "        plt.show()\n",
    "        print('{} total # merged units: {}'.format(bird, len(merged_units)))\n",
    "    break\n",
    "    ensure_dir(spikesorting_folder / 'unit_statistics' / statistics_timestamp)\n",
    "    Parallel(n_jobs = -1, verbose=10)(\n",
    "        delayed(get_unit_statistic)(\n",
    "            unit_to_analyze,\n",
    "            spikesorting_folder,\n",
    "            statistics_timestamp,\n",
    "            bird = bird,\n",
    "            recompute=True,\n",
    "            parallel=True,\n",
    "            n_time_bins = n_time_bins\n",
    "            \n",
    "                    )\n",
    "        for uniti, unit_to_analyze in tqdm(\n",
    "            merged_units.iterrows(), desc=\"unit\", total=len(merged_units)\n",
    "        )\n",
    "    );"
   ]
  },
  {
   "cell_type": "markdown",
   "id": "26ea7689",
   "metadata": {},
   "source": [
    "### Debugging"
   ]
  },
  {
   "cell_type": "code",
   "execution_count": 18,
   "id": "4d672323",
   "metadata": {
    "ExecuteTime": {
     "end_time": "2022-01-23T20:32:19.264548Z",
     "start_time": "2022-01-23T20:32:19.229533Z"
    }
   },
   "outputs": [
    {
     "ename": "NameError",
     "evalue": "name 'breakme' is not defined",
     "output_type": "error",
     "traceback": [
      "\u001b[0;31m---------------------------------------------------------------------------\u001b[0m",
      "\u001b[0;31mNameError\u001b[0m                                 Traceback (most recent call last)",
      "\u001b[0;32m<ipython-input-18-30cfd92a94be>\u001b[0m in \u001b[0;36m<module>\u001b[0;34m\u001b[0m\n\u001b[0;32m----> 1\u001b[0;31m \u001b[0mbreakme\u001b[0m\u001b[0;34m\u001b[0m\u001b[0;34m\u001b[0m\u001b[0m\n\u001b[0m",
      "\u001b[0;31mNameError\u001b[0m: name 'breakme' is not defined"
     ]
    }
   ],
   "source": [
    "breakme"
   ]
  },
  {
   "cell_type": "code",
   "execution_count": 38,
   "id": "74b6ad56",
   "metadata": {},
   "outputs": [
    {
     "data": {
      "application/vnd.jupyter.widget-view+json": {
       "model_id": "48ebb503b46b43e8a9fa067aea872595",
       "version_major": 2,
       "version_minor": 0
      },
      "text/plain": [
       "unit:   0%|          | 0/8711 [00:00<?, ?it/s]"
      ]
     },
     "metadata": {},
     "output_type": "display_data"
    },
    {
     "data": {
      "application/vnd.jupyter.widget-view+json": {
       "model_id": "bc38b41f2be94976b0f97ff117a00b04",
       "version_major": 2,
       "version_minor": 0
      },
      "text/plain": [
       "unit spike trains:   0%|          | 0/33 [00:00<?, ?it/s]"
      ]
     },
     "metadata": {},
     "output_type": "display_data"
    },
    {
     "data": {
      "application/vnd.jupyter.widget-view+json": {
       "model_id": "736d81c24e4944a790cd067169997b67",
       "version_major": 2,
       "version_minor": 0
      },
      "text/plain": [
       "spike vectors:   0%|          | 0/93739 [00:00<?, ?it/s]"
      ]
     },
     "metadata": {},
     "output_type": "display_data"
    }
   ],
   "source": [
    "for uniti, unit_to_analyze in tqdm(\n",
    "        merged_units[:]\n",
    "        .iterrows(), desc=\"unit\", total=len(merged_units)\n",
    "    ):\n",
    "    get_unit_statistic(\n",
    "        unit_to_analyze,\n",
    "        spikesorting_folder,\n",
    "        statistics_timestamp,\n",
    "        bird=bird,\n",
    "        recompute=True,\n",
    "        parallel=False,\n",
    "        save=True,\n",
    "        plot=False,\n",
    "    )\n",
    "    break"
   ]
  },
  {
   "cell_type": "code",
   "execution_count": 39,
   "id": "83925a8b",
   "metadata": {},
   "outputs": [],
   "source": [
    "unit_series_save_loc = (\n",
    "            spikesorting_folder\n",
    "            / \"unit_statistics\"\n",
    "            / statistics_timestamp\n",
    "            / identifier\n",
    "            / \"{}.npy\".format(unit_to_analyze.cluster_id)\n",
    "        )"
   ]
  },
  {
   "cell_type": "code",
   "execution_count": null,
   "id": "14e9cb75",
   "metadata": {
    "ExecuteTime": {
     "end_time": "2022-01-23T20:31:26.014494Z",
     "start_time": "2022-01-23T20:31:08.857Z"
    },
    "scrolled": true
   },
   "outputs": [],
   "source": [
    "%debug"
   ]
  },
  {
   "cell_type": "code",
   "execution_count": null,
   "id": "2f405e1c",
   "metadata": {
    "ExecuteTime": {
     "end_time": "2022-01-23T20:31:26.015506Z",
     "start_time": "2022-01-23T20:31:08.858Z"
    }
   },
   "outputs": [],
   "source": [
    "??get_unit_spike_trains"
   ]
  },
  {
   "cell_type": "code",
   "execution_count": null,
   "id": "a2e72329",
   "metadata": {
    "ExecuteTime": {
     "end_time": "2022-01-23T20:31:26.016561Z",
     "start_time": "2022-01-23T20:31:08.860Z"
    }
   },
   "outputs": [],
   "source": [
    "merged_units[:3]"
   ]
  },
  {
   "cell_type": "code",
   "execution_count": null,
   "id": "3e314f01",
   "metadata": {
    "ExecuteTime": {
     "end_time": "2022-01-23T20:31:26.017544Z",
     "start_time": "2022-01-23T20:31:08.862Z"
    }
   },
   "outputs": [],
   "source": [
    "recording_id = "
   ]
  },
  {
   "cell_type": "code",
   "execution_count": null,
   "id": "ed92991b",
   "metadata": {
    "ExecuteTime": {
     "end_time": "2022-01-23T20:31:26.018567Z",
     "start_time": "2022-01-23T20:31:08.863Z"
    }
   },
   "outputs": [],
   "source": [
    "(spikesorting_folder\n",
    "            / \"trial_aligned_spikes_padding_100ms\"\n",
    "            / sorter\n",
    "            / \"exp1_rec1_dat2021-07-20_23-18-06\")"
   ]
  },
  {
   "cell_type": "code",
   "execution_count": null,
   "id": "117891f5",
   "metadata": {
    "ExecuteTime": {
     "end_time": "2022-01-23T20:31:26.019515Z",
     "start_time": "2022-01-23T20:31:08.865Z"
    }
   },
   "outputs": [],
   "source": [
    "!ls /mnt/cube/tsainbur/Projects/github_repos/cdcp_chronic/data/spikesorting/B1459/2021-08-26_21-21-12_755614/trial_aligned_spikes_padding_100ms/kilosort2_5/exp1_rec1_dat2021-07-20_17-15-11"
   ]
  },
  {
   "cell_type": "code",
   "execution_count": null,
   "id": "80cc72df",
   "metadata": {},
   "outputs": [],
   "source": []
  }
 ],
 "metadata": {
  "kernelspec": {
   "display_name": "cdcp_paper",
   "language": "python",
   "name": "cdcp_paper"
  },
  "language_info": {
   "codemirror_mode": {
    "name": "ipython",
    "version": 3
   },
   "file_extension": ".py",
   "mimetype": "text/x-python",
   "name": "python",
   "nbconvert_exporter": "python",
   "pygments_lexer": "ipython3",
   "version": "3.9.16"
  }
 },
 "nbformat": 4,
 "nbformat_minor": 5
}
