{
 "cells": [
  {
   "cell_type": "code",
   "execution_count": 1,
   "id": "cef6c39c",
   "metadata": {
    "ExecuteTime": {
     "end_time": "2022-01-23T20:31:09.094117Z",
     "start_time": "2022-01-23T20:31:09.078531Z"
    }
   },
   "outputs": [],
   "source": [
    "%load_ext autoreload\n",
    "%autoreload 2"
   ]
  },
  {
   "cell_type": "code",
   "execution_count": 2,
   "id": "e8fd39fe",
   "metadata": {
    "ExecuteTime": {
     "end_time": "2022-01-23T20:31:09.114221Z",
     "start_time": "2022-01-23T20:31:09.096368Z"
    }
   },
   "outputs": [
    {
     "data": {
      "text/plain": [
       "1"
      ]
     },
     "execution_count": 2,
     "metadata": {},
     "output_type": "execute_result"
    }
   ],
   "source": [
    "import os\n",
    "# set to be lower priority\n",
    "os.nice(1) "
   ]
  },
  {
   "cell_type": "code",
   "execution_count": 3,
   "id": "f7441a86",
   "metadata": {},
   "outputs": [],
   "source": [
    "import warnings\n",
    "warnings.filterwarnings('ignore')"
   ]
  },
  {
   "cell_type": "code",
   "execution_count": 4,
   "id": "29edc857",
   "metadata": {
    "ExecuteTime": {
     "end_time": "2022-01-23T20:31:09.888832Z",
     "start_time": "2022-01-23T20:31:09.116242Z"
    }
   },
   "outputs": [],
   "source": [
    "import pandas  as pd\n",
    "from cdcp.paths import DATA_DIR, ensure_dir\n",
    "import numpy as np\n",
    "import matplotlib.pyplot as plt\n",
    "import datetime\n",
    "from pathlib2 import Path\n",
    "from tqdm.autonotebook import tqdm\n",
    "pd.set_option('display.max_columns', 500)\n",
    "from joblib import Parallel, delayed"
   ]
  },
  {
   "cell_type": "code",
   "execution_count": 5,
   "id": "d4c6795b",
   "metadata": {},
   "outputs": [],
   "source": [
    "from cdcp.spiketrain_analysis.spiketrain_utils import (\n",
    "    bin_interp_points,\n",
    ")"
   ]
  },
  {
   "cell_type": "code",
   "execution_count": 6,
   "id": "2f08f4df",
   "metadata": {
    "ExecuteTime": {
     "end_time": "2022-01-23T20:31:09.913834Z",
     "start_time": "2022-01-23T20:31:09.891750Z"
    }
   },
   "outputs": [],
   "source": [
    "from datetime import datetime"
   ]
  },
  {
   "cell_type": "code",
   "execution_count": 7,
   "id": "ef8c2b51",
   "metadata": {
    "ExecuteTime": {
     "end_time": "2022-01-23T20:31:24.777304Z",
     "start_time": "2022-01-23T20:31:24.748880Z"
    }
   },
   "outputs": [],
   "source": [
    "from cdcp.spiketrain_analysis.spiketrain_utils import (\n",
    "    get_spike_train_vector\n",
    ")"
   ]
  },
  {
   "cell_type": "code",
   "execution_count": 8,
   "id": "2736fd2c",
   "metadata": {
    "ExecuteTime": {
     "end_time": "2022-01-23T20:31:24.836501Z",
     "start_time": "2022-01-23T20:31:24.781929Z"
    }
   },
   "outputs": [],
   "source": [
    "from cdcp.spiketrain_analysis.unit_stats.cued_similarity_and_spikevector_differences import (\n",
    "    compute_cued_average_sm_rv_differences\n",
    ")"
   ]
  },
  {
   "cell_type": "code",
   "execution_count": 9,
   "id": "f9e5e533",
   "metadata": {
    "ExecuteTime": {
     "end_time": "2022-01-23T20:31:24.868501Z",
     "start_time": "2022-01-23T20:31:24.841323Z"
    }
   },
   "outputs": [
    {
     "data": {
      "text/plain": [
       "'2021-10-23_23-02-31_846685'"
      ]
     },
     "execution_count": 9,
     "metadata": {},
     "output_type": "execute_result"
    }
   ],
   "source": [
    "# \"2021-10-07_16-05-58_796914\" '2021-10-06_13-30-08_899062' '2021-10-01_17-02-56_744915' \n",
    "statistics_timestamp = '2021-10-23_23-02-31_846685'# datetime.now().strftime(\"%Y-%m-%d_%H-%M-%S_%f\")#\n",
    "statistics_timestamp"
   ]
  },
  {
   "cell_type": "code",
   "execution_count": 10,
   "id": "8c22c611",
   "metadata": {
    "ExecuteTime": {
     "end_time": "2022-01-23T20:31:24.896122Z",
     "start_time": "2022-01-23T20:31:24.870955Z"
    }
   },
   "outputs": [],
   "source": [
    "birds = [\n",
    "    ('B1597', '2021-05-14_12-40-20_423998', 'kilosort2_5'),\n",
    "    ('B1188', '2021-05-31_18-52-29_558216', 'kilosort2_5'),\n",
    "    ('B1595', '2021-07-10_16-42-47_090257', 'kilosort2'),\n",
    "    ('B1276', '2021-07-14_11-14-02_257025', 'kilosort2'),\n",
    "    ('B1426', '2021-07-14_11-29-39_657273', 'kilosort2'),\n",
    "    ('B1432', '2021-06-01_15-14-38_561892', 'kilosort2_5'),\n",
    "    ('B1170', '2021-06-01_21-01-26_519005', 'kilosort2_5'),\n",
    "    ('B1244', '2021-07-14_12-57-45_546674', 'kilosort2'),\n",
    "    ('B1593', '2021-06-28_18-13-24_826008', 'kilosort2_5'),\n",
    "    ('B1248', '2021-07-03_18-08-01_063431', 'kilosort2_5'),\n",
    "    # acute\n",
    "    #('B1279', '2021-04-12_16-27-07_289527', 'kilosort2_5'),\n",
    "    #('B1500', '2021-08-27_09-24-48_680961', 'kilosort2_5'),\n",
    "    #('B1239', '2021-05-17_22-18-51_557635', 'kilosort2'),\n",
    "    #('B1459', '2021-08-26_21-21-12_755614', 'kilosort2_5'),\n",
    "]"
   ]
  },
  {
   "cell_type": "code",
   "execution_count": 11,
   "id": "fee8b65f",
   "metadata": {
    "ExecuteTime": {
     "end_time": "2022-01-23T20:31:24.918123Z",
     "start_time": "2022-01-23T20:31:24.897999Z"
    }
   },
   "outputs": [],
   "source": [
    "min_playbacks = 1000"
   ]
  },
  {
   "cell_type": "code",
   "execution_count": 12,
   "id": "0e1495e6",
   "metadata": {
    "ExecuteTime": {
     "end_time": "2022-01-23T20:31:24.941123Z",
     "start_time": "2022-01-23T20:31:24.919834Z"
    }
   },
   "outputs": [],
   "source": [
    "import pandas as pd\n",
    "from cdcp.paths import DATA_DIR, ensure_dir\n",
    "import numpy as np\n",
    "import matplotlib.pyplot as plt\n",
    "import datetime\n",
    "from pathlib2 import Path\n",
    "from tqdm.autonotebook import tqdm\n",
    "from scipy.ndimage import gaussian_filter1d\n",
    "\n",
    "from sklearn.metrics.pairwise import (\n",
    "    cosine_similarity,\n",
    "    euclidean_distances,\n",
    "    manhattan_distances,\n",
    ")"
   ]
  },
  {
   "cell_type": "code",
   "execution_count": 188,
   "id": "e77fbf76",
   "metadata": {},
   "outputs": [],
   "source": [
    "def get_unit_spike_trains(\n",
    "    unit_recording_ids,\n",
    "    spikesorting_folder,\n",
    "    sorter,\n",
    "    unit,\n",
    "    bird,\n",
    "    save_folder=\"trial_aligned_spikes\",\n",
    "):\n",
    "    trial_aligned_spikes_list = []\n",
    "    for unit, recording_id in tqdm(\n",
    "        unit_recording_ids, desc=\"unit spike trains\", leave=False, disable=True\n",
    "    ):\n",
    "        trial_aligned_spikes_loc = (\n",
    "            DATA_DIR\n",
    "            / \"spikesorting\"\n",
    "            / save_folder\n",
    "            / bird\n",
    "            / recording_id\n",
    "            / \"{}.pickle.zip\".format(unit)\n",
    "        )\n",
    "        if trial_aligned_spikes_loc.exists():\n",
    "            trial_aligned_spikes = pd.read_pickle(trial_aligned_spikes_loc)\n",
    "            trial_aligned_spikes[\"recording_id\"] = recording_id\n",
    "\n",
    "            trial_aligned_spikes[\"stim\"] = [\n",
    "                i[:-4] if i[-4:].lower() == \".wav\" else i\n",
    "                for i in trial_aligned_spikes.stim.values\n",
    "            ]\n",
    "\n",
    "            mask = [\n",
    "                (i.split(\"_\")[-1].isnumeric() and len(i.split(\"_\")[-1]) == 3)\n",
    "                for i in trial_aligned_spikes.stim.values\n",
    "            ]\n",
    "\n",
    "            # get cue info\n",
    "            trial_aligned_spikes[\"cue\"] = [\n",
    "                i.split(\"_\")[0] if mask else np.nan\n",
    "                for i, m in zip(trial_aligned_spikes.stim.values, mask)\n",
    "            ]\n",
    "            trial_aligned_spikes[\"interp\"] = [\n",
    "                i.split(\"_\")[1] if mask else np.nan\n",
    "                for i, m in zip(trial_aligned_spikes.stim.values, mask)\n",
    "            ]\n",
    "\n",
    "            # for i, m in zip(trial_aligned_spikes.stim.values, mask):\n",
    "            #    if m:\n",
    "            #        int(i.split(\"_\")[2])\n",
    "            trial_aligned_spikes[\"interp_point\"] = [\n",
    "                np.nan if m == False else int(i.split(\"_\")[2])\n",
    "                for i, m in zip(trial_aligned_spikes.stim.values, mask)\n",
    "            ]\n",
    "            trial_aligned_spikes_list.append(trial_aligned_spikes)\n",
    "        else:\n",
    "            0\n",
    "            # print(\"{} does not have trial aligned spikes yet\".format(recording_id))\n",
    "            # print(\"\\t\", trial_aligned_spikes_loc)\n",
    "    if len(trial_aligned_spikes_list) < 1:\n",
    "        #breakme\n",
    "        return None\n",
    "    else:\n",
    "        return pd.concat(trial_aligned_spikes_list)"
   ]
  },
  {
   "cell_type": "code",
   "execution_count": 201,
   "id": "b9089cd0",
   "metadata": {},
   "outputs": [],
   "source": [
    "from sklearn import linear_model\n",
    "import scipy.stats\n",
    "from sklearn.metrics import confusion_matrix\n",
    "\n",
    "from cdcp.spiketrain_analysis.spiketrain_utils import (\n",
    "    bin_interp_points,\n",
    "    get_average_response_vector,\n",
    "    create_dense_similarity_matrix,\n",
    "    get_similarity_matrix,\n",
    ")\n",
    "\n",
    "from cdcp.behavior.psychometric import FourParameterLogistic, fit_FourParameterLogistic\n",
    "\n",
    "\n",
    "def compute_single_unit_decoder(\n",
    "    trial_aligned_spikes,\n",
    "    flip_bins=True,\n",
    "    n_time_bins=100,\n",
    "    n_interp_point_bins=16,\n",
    "    mode=\"constant\",\n",
    "):\n",
    "    os.environ[\"PYTHONWARNINGS\"] = \"ignore::FutureWarning\"\n",
    "    sm_dict = {}\n",
    "\n",
    "    # ensure interp point is an integer\n",
    "    trial_aligned_spikes[\"interp_point_binned\"] = bin_interp_points(\n",
    "        trial_aligned_spikes[\"interp_point\"].values.astype(int),\n",
    "        n_interp_point_bins,\n",
    "        flip_bins=flip_bins,\n",
    "    )\n",
    "\n",
    "    # compute for each different interpolation\n",
    "    for interp in trial_aligned_spikes.interp.unique():\n",
    "        # get the spike vectors for the current interpolation\n",
    "        spike_vector_trials_interp = trial_aligned_spikes[\n",
    "            [\n",
    "                \"interp\",\n",
    "                \"spike_vectors\",\n",
    "                \"interp_point_binned\",\n",
    "                \"correct\",\n",
    "                \"cue\",\n",
    "                \"passive\",\n",
    "            ]\n",
    "        ][trial_aligned_spikes.interp == interp]\n",
    "        spike_vector_trials_interp = spike_vector_trials_interp.sort_values(\n",
    "            by=\"interp_point_binned\"\n",
    "        )\n",
    "\n",
    "        if len(spike_vector_trials_interp) == 0:\n",
    "            continue\n",
    "        \n",
    "        ###############\n",
    "        # equalize number of samples per cue\n",
    "        for ip_bin in spike_vector_trials_interp.interp_point_binned.unique():\n",
    "            m = (\n",
    "                (spike_vector_trials_interp.interp_point_binned == ip_bin)\n",
    "                & (spike_vector_trials_interp.passive == False)\n",
    "                & (spike_vector_trials_interp.cue.isin([\"CL0\", \"CL1\", \"CR0\", \"CR1\"]))\n",
    "            ).values\n",
    "            where_idx = np.where(m)[0]\n",
    "            left_mask = spike_vector_trials_interp[m].cue.isin([\"CL0\", \"CL1\"]).values\n",
    "            right_mask = spike_vector_trials_interp[m].cue.isin([\"CR0\", \"CR1\"]).values\n",
    "            n_left_cues = np.sum(left_mask)\n",
    "            n_right_cues = np.sum(right_mask)\n",
    "\n",
    "            if n_left_cues > n_right_cues:\n",
    "                # sample the cues to keep\n",
    "                mask_left_cues = np.random.permutation(np.arange(n_left_cues))[\n",
    "                    : (n_left_cues - n_right_cues)\n",
    "                ]\n",
    "                left_mask[np.where(left_mask)[0][mask_left_cues]] = 0\n",
    "\n",
    "\n",
    "            elif n_right_cues > n_left_cues:\n",
    "                mask_right_cues = np.random.permutation(np.arange(n_right_cues))[\n",
    "                    : (n_right_cues - n_left_cues)\n",
    "                ]\n",
    "\n",
    "                right_mask[np.where(right_mask)[0][mask_right_cues]] = 0\n",
    "\n",
    "            m[where_idx[left_mask]] = 0\n",
    "            m[where_idx[right_mask]] = 0\n",
    "\n",
    "            spike_vector_trials_interp = spike_vector_trials_interp[m == False]\n",
    "\n",
    "        ###############\n",
    "        \n",
    "        if interp == 'AG':\n",
    "            breakme\n",
    "\n",
    "        # mask noncued data for training\n",
    "        training_mask = np.zeros(len(spike_vector_trials_interp))\n",
    "        training_mask[spike_vector_trials_interp.passive == True] = 1\n",
    "        training_mask[spike_vector_trials_interp.cue.isin([\"NC\", \"CN\"])] = 1\n",
    "        training_mask = training_mask.astype(bool)\n",
    "\n",
    "        if np.sum(training_mask) <= 1:\n",
    "            continue\n",
    "        if np.sum(training_mask == False) <= 1:\n",
    "            continue\n",
    "\n",
    "        # subset training and testing data\n",
    "        X_train = np.vstack(\n",
    "            spike_vector_trials_interp[training_mask].spike_vectors.values\n",
    "        )\n",
    "        X_test = np.vstack(\n",
    "            spike_vector_trials_interp[training_mask == False].spike_vectors.values\n",
    "        )\n",
    "        y_train = spike_vector_trials_interp[training_mask].interp_point_binned.values\n",
    "        y_test = spike_vector_trials_interp[\n",
    "            training_mask == False\n",
    "        ].interp_point_binned.values\n",
    "\n",
    "        n_train = len(y_train)\n",
    "        n_test = len(y_test)\n",
    "\n",
    "        # skip if there arent sufficient samples\n",
    "        if len(np.unique(y_train)) < n_interp_point_bins:\n",
    "            continue\n",
    "        if len(np.unique(y_test)) < n_interp_point_bins:\n",
    "            continue\n",
    "\n",
    "        # train the model\n",
    "        reg = linear_model.LogisticRegression(penalty=\"l2\")\n",
    "        reg.fit(X_train, y_train)\n",
    "\n",
    "        # get predictions\n",
    "        train_predictions = reg.predict(X_train)\n",
    "        test_predictions = reg.predict(X_test)\n",
    "\n",
    "        # determine correctness\n",
    "        test_correct = test_predictions == y_test\n",
    "        train_correct = train_predictions == y_train\n",
    "\n",
    "        train_r2, train_p = scipy.stats.pearsonr(y_test, test_predictions)\n",
    "        test_r2, test_p = scipy.stats.pearsonr(y_test, test_predictions)\n",
    "\n",
    "        sm_dict[f\"{interp}_n_train\"] = n_train\n",
    "        sm_dict[f\"{interp}_n_test\"] = n_test\n",
    "\n",
    "        sm_dict[f\"{interp}_train_acc\"] = np.nanmean(train_correct)\n",
    "        sm_dict[f\"{interp}_test_acc\"] = np.nanmean(test_correct)\n",
    "\n",
    "        sm_dict[f\"{interp}_train_r2\"] = train_r2\n",
    "        sm_dict[f\"{interp}_test_r2\"] = test_r2\n",
    "        sm_dict[f\"{interp}_train_p\"] = train_p\n",
    "        sm_dict[f\"{interp}_test_p\"] = test_p\n",
    "\n",
    "        sm_dict[f\"{interp}_train_confusion_matrix\"] = confusion_matrix(\n",
    "            y_train, train_predictions\n",
    "        )\n",
    "        sm_dict[f\"{interp}_test_confusion_matrix\"] = confusion_matrix(\n",
    "            y_test, test_predictions\n",
    "        )\n",
    "\n",
    "        # get info for cues\n",
    "        test_cues_vals = spike_vector_trials_interp[training_mask == False].cue.values\n",
    "        test_correct_vals = spike_vector_trials_interp[\n",
    "            training_mask == False\n",
    "        ].correct.values.astype(bool)\n",
    "        test_interp_point_binned_vals = spike_vector_trials_interp[\n",
    "            training_mask == False\n",
    "        ].interp_point_binned.values\n",
    "\n",
    "        sm_dict[f\"{interp}_acc_correct\"] = np.nanmean(test_correct[(test_correct_vals)])\n",
    "        sm_dict[f\"{interp}_acc_incorrect\"] = np.nanmean(\n",
    "            test_correct[(test_correct_vals == False)]\n",
    "        )\n",
    "\n",
    "        left_mask = test_interp_point_binned_vals < n_interp_point_bins / 2\n",
    "        right_mask = test_interp_point_binned_vals >= n_interp_point_bins / 2\n",
    "\n",
    "        # get accuracy for each cue\n",
    "        cue_side = [[\"CL\", (\"CL0\", \"CL1\")], [\"CR\", (\"CR0\", \"CR1\")]]\n",
    "\n",
    "        cue_left_mask = np.isin(test_cues_vals, (\"CL0\", \"CL1\"))\n",
    "        cue_right_mask = np.isin(test_cues_vals, (\"CR0\", \"CR1\"))\n",
    "\n",
    "        # accuracy on cue left trials\n",
    "        sm_dict[f\"{interp}_CL_acc\"] = np.nanmean(test_correct[cue_left_mask])\n",
    "        # accuracy on cue right trials\n",
    "        sm_dict[f\"{interp}_CR_acc\"] = np.nanmean(test_correct[cue_right_mask])\n",
    "        # accuracy on CL, RL\n",
    "        sm_dict[f\"{interp}_CL_acc_left\"] = np.nanmean(\n",
    "            test_correct[cue_left_mask & left_mask]\n",
    "        )\n",
    "        # accuracy on CL, RR\n",
    "        sm_dict[f\"{interp}_CL_acc_right\"] = np.nanmean(\n",
    "            test_correct[cue_left_mask & right_mask]\n",
    "        )\n",
    "        # accuracy on CR, RL\n",
    "        sm_dict[f\"{interp}_CR_acc_left\"] = np.nanmean(\n",
    "            test_correct[cue_right_mask & left_mask]\n",
    "        )\n",
    "        # accuracy on CR, RR\n",
    "        sm_dict[f\"{interp}_CR_acc_right\"] = np.nanmean(\n",
    "            test_correct[cue_right_mask & right_mask]\n",
    "        )\n",
    "        # cue left trials confusion matrix\n",
    "        sm_dict[f\"{interp}_CL_confusion_matrix\"] = confusion_matrix(\n",
    "            y_test[cue_left_mask],\n",
    "            test_predictions[cue_left_mask],\n",
    "        )\n",
    "        # cue right trials confusion matrix\n",
    "        sm_dict[f\"{interp}_CR_confusion_matrix\"] = confusion_matrix(\n",
    "            y_test[cue_right_mask],\n",
    "            test_predictions[cue_right_mask],\n",
    "        )\n",
    "\n",
    "        # get the correlation between accuracy and validity\n",
    "        trial_acc_df = spike_vector_trials_interp[training_mask == False][\n",
    "            [\"cue\", \"interp_point_binned\"]\n",
    "        ]\n",
    "        trial_acc_df[\"acc\"] = test_correct.astype(\"float\")\n",
    "        trial_acc_df[\"reinforce_left\"] = trial_acc_df.interp_point_binned < 8\n",
    "        trial_acc_df[\"cue_left\"] = trial_acc_df.cue.isin([\"CL0\", \"CL1\"])\n",
    "        trial_acc_df = trial_acc_df[[\"cue_left\", \"reinforce_left\", \"acc\"]]\n",
    "        trial_acc_df[\"cue_valid\"] = 0.0\n",
    "        trial_acc_df.loc[\n",
    "            (trial_acc_df.cue_left == True) & (trial_acc_df.reinforce_left == True),\n",
    "            \"cue_valid\",\n",
    "        ] = 1\n",
    "        trial_acc_df.loc[\n",
    "            (trial_acc_df.cue_left == False) & (trial_acc_df.reinforce_left == False),\n",
    "            \"cue_valid\",\n",
    "        ] = 1\n",
    "        r2_valid_acc, p_valid_acc = scipy.stats.pearsonr(\n",
    "            trial_acc_df.acc.values, trial_acc_df.cue_valid.values\n",
    "        )\n",
    "        sm_dict[f\"{interp}_r2_valid_acc\"] = r2_valid_acc\n",
    "        sm_dict[f\"{interp}_p_valid_acc\"] = p_valid_acc\n",
    "\n",
    "    return pd.Series(sm_dict)"
   ]
  },
  {
   "cell_type": "markdown",
   "id": "a250b608",
   "metadata": {},
   "source": [
    "### Compute spike vectors and statistics"
   ]
  },
  {
   "cell_type": "code",
   "execution_count": 190,
   "id": "7578f873",
   "metadata": {
    "ExecuteTime": {
     "end_time": "2022-01-23T20:31:24.992083Z",
     "start_time": "2022-01-23T20:31:24.971564Z"
    }
   },
   "outputs": [],
   "source": [
    "n_time_bins = 100\n",
    "identifier = \"single_unit_decoder_cue_analysis_equal_cues\""
   ]
  },
  {
   "cell_type": "code",
   "execution_count": 191,
   "id": "2d2b732a",
   "metadata": {
    "ExecuteTime": {
     "end_time": "2022-01-23T20:31:25.019325Z",
     "start_time": "2022-01-23T20:31:24.993702Z"
    }
   },
   "outputs": [],
   "source": [
    "def get_unit_statistic(\n",
    "    unit_to_analyze,\n",
    "    spikesorting_folder,\n",
    "    statistics_timestamp,\n",
    "    bird,\n",
    "    identifier=identifier,\n",
    "    recompute=False,\n",
    "    parallel=True,\n",
    "    flip_bins=True,\n",
    "    n_time_bins=100,\n",
    "    gaussian_sigma_ms=25,\n",
    "    save=True,\n",
    "    plot=False,\n",
    "):\n",
    "    def run():\n",
    "        \n",
    "        unit_series_save_loc = (\n",
    "            spikesorting_folder\n",
    "            / \"unit_statistics\"\n",
    "            / statistics_timestamp\n",
    "            / identifier\n",
    "            / \"{}.pickle\".format(unit_to_analyze.cluster_id)\n",
    "        )\n",
    "\n",
    "        # check if we need to run everything\n",
    "        if unit_series_save_loc.exists() and (recompute is False):\n",
    "            print(\"stat already exists\")\n",
    "            return\n",
    "\n",
    "        # make sure folder exists\n",
    "        ensure_dir(unit_series_save_loc)\n",
    "\n",
    "        unit_series_list = []\n",
    "        # load spike trains\n",
    "        trial_aligned_spikes = get_unit_spike_trains(\n",
    "            unit_to_analyze.sort_units,\n",
    "            spikesorting_folder,\n",
    "            sorter,\n",
    "            unit_to_analyze,\n",
    "            bird=bird,\n",
    "            save_folder=\"trial_aligned_spikes_padding_100ms\",\n",
    "        )\n",
    "        if trial_aligned_spikes is None:\n",
    "            # because there are not enough spikes for this unit to be worth it\n",
    "            print(\"no trial_aligned_spikes\")\n",
    "            return\n",
    "\n",
    "        # load spike train vectors\n",
    "        spiketrain_vector_loc = (\n",
    "            spikesorting_folder\n",
    "            / \"unit_statistics\"\n",
    "            / statistics_timestamp\n",
    "            / \"response_vector_25ms_{}\".format(n_time_bins)\n",
    "            / \"{}.npy\".format(unit_to_analyze.cluster_id)\n",
    "        )\n",
    "\n",
    "        if spiketrain_vector_loc.exists() == False:\n",
    "            print(\"no spiketrains\")\n",
    "            return\n",
    "\n",
    "        trial_aligned_spikes[\"spike_vectors\"] = list(\n",
    "            np.load(spiketrain_vector_loc, allow_pickle=True)\n",
    "        )\n",
    "        with warnings.catch_warnings():\n",
    "            warnings.filterwarnings(\"ignore\", category=Warning)\n",
    "            statistic_series = compute_single_unit_decoder(\n",
    "                trial_aligned_spikes,\n",
    "                flip_bins=flip_bins,\n",
    "                n_time_bins=n_time_bins,\n",
    "                # n_interp_point_bins=n_interp_point_bins,\n",
    "                mode=\"constant\",\n",
    "            )\n",
    "        if statistic_series is not None:\n",
    "            unit_series_list.append(statistic_series)\n",
    "\n",
    "        # skip if no data is available\n",
    "        if len(unit_series_list) == 0:\n",
    "            return\n",
    "\n",
    "        # save final row\n",
    "        unit_series = pd.concat(unit_series_list)\n",
    "\n",
    "        if save:\n",
    "            unit_series.to_pickle(unit_series_save_loc)\n",
    "\n",
    "        return unit_series\n",
    "\n",
    "    if parallel == False:\n",
    "        run()\n",
    "    else:\n",
    "        try:\n",
    "            run()\n",
    "        except Exception as e:\n",
    "            with open(\"error_log.txt\", \"w\") as text_file:\n",
    "                text_file.write(str(e))\n",
    "            raise ValueError(unit_to_analyze.cluster_id)"
   ]
  },
  {
   "cell_type": "code",
   "execution_count": 192,
   "id": "b191d7df",
   "metadata": {
    "ExecuteTime": {
     "end_time": "2022-01-23T20:34:22.123898Z",
     "start_time": "2022-01-23T20:32:29.601411Z"
    },
    "scrolled": true
   },
   "outputs": [
    {
     "data": {
      "application/vnd.jupyter.widget-view+json": {
       "model_id": "757d9cd078a74379a38901691cc4ebf5",
       "version_major": 2,
       "version_minor": 0
      },
      "text/plain": [
       "  0%|          | 0/10 [00:00<?, ?it/s]"
      ]
     },
     "metadata": {},
     "output_type": "display_data"
    },
    {
     "data": {
      "image/png": "[encoded data removed]",
      "text/plain": [
       "<Figure size 1000x200 with 2 Axes>"
      ]
     },
     "metadata": {},
     "output_type": "display_data"
    },
    {
     "name": "stdout",
     "output_type": "stream",
     "text": [
      "B1597 total # merged units: 8711\n"
     ]
    }
   ],
   "source": [
    "for bird, timestamp, sorter in tqdm(birds):\n",
    "    spikesorting_folder = (DATA_DIR\n",
    "                / \"spikesorting\"\n",
    "                / bird\n",
    "                / timestamp)\n",
    "    # get the summary of recordings for the bird\n",
    "    recording_summary_df = pd.read_pickle(\n",
    "        DATA_DIR / \"spikesorting\" / \"recording_df\" / f\"{bird}.pickle.zip\"\n",
    "    )\n",
    "\n",
    "    # get units that are to be merged\n",
    "    merged_units = pd.read_pickle(\n",
    "            DATA_DIR / \"spikesorting\" / \"unit_clusters\" / f\"{bird}.pickle.zip\"\n",
    "        )\n",
    "    merged_units = merged_units.sort_values(by='n_playbacks', ascending=False)\n",
    "    merged_units = merged_units[merged_units.n_playbacks.astype('float')  > min_playbacks]\n",
    "    \n",
    "    plot = True\n",
    "    if plot:\n",
    "        fig, axs = plt.subplots(ncols=2, figsize=(10,2))\n",
    "        axs[0].hist(np.log10(merged_units.n_playbacks.values.astype('float')+1), bins = 100);\n",
    "        axs[0].set_title('log # playbacks')\n",
    "        axs[1].hist(np.log10(merged_units.n_spikes.values.astype('float')+1), bins = 100);\n",
    "        axs[1].set_title('log # spikes')\n",
    "        plt.show()\n",
    "        print('{} total # merged units: {}'.format(bird, len(merged_units)))\n",
    "    break\n",
    "    ensure_dir(spikesorting_folder / 'unit_statistics' / statistics_timestamp)\n",
    "    with warnings.catch_warnings():\n",
    "        warnings.filterwarnings(\"ignore\", category=Warning)\n",
    "        Parallel(n_jobs = -1, verbose=10)(\n",
    "            delayed(get_unit_statistic)(\n",
    "                unit_to_analyze,\n",
    "                spikesorting_folder,\n",
    "                statistics_timestamp,\n",
    "                bird = bird,\n",
    "                recompute=True,\n",
    "                parallel=True,\n",
    "                n_time_bins = n_time_bins\n",
    "\n",
    "                        )\n",
    "            for uniti, unit_to_analyze in tqdm(\n",
    "                merged_units.iterrows(), desc=\"unit\", total=len(merged_units)\n",
    "            )\n",
    "        );"
   ]
  },
  {
   "cell_type": "markdown",
   "id": "26ea7689",
   "metadata": {},
   "source": [
    "### Debugging"
   ]
  },
  {
   "cell_type": "code",
   "execution_count": 193,
   "id": "4d672323",
   "metadata": {
    "ExecuteTime": {
     "end_time": "2022-01-23T20:32:19.264548Z",
     "start_time": "2022-01-23T20:32:19.229533Z"
    }
   },
   "outputs": [
    {
     "ename": "NameError",
     "evalue": "name 'breakme' is not defined",
     "output_type": "error",
     "traceback": [
      "\u001b[0;31m---------------------------------------------------------------------------\u001b[0m",
      "\u001b[0;31mNameError\u001b[0m                                 Traceback (most recent call last)",
      "Cell \u001b[0;32mIn[193], line 1\u001b[0m\n\u001b[0;32m----> 1\u001b[0m \u001b[43mbreakme\u001b[49m\n",
      "\u001b[0;31mNameError\u001b[0m: name 'breakme' is not defined"
     ]
    }
   ],
   "source": [
    "breakme"
   ]
  },
  {
   "cell_type": "code",
   "execution_count": 194,
   "id": "dc90651d",
   "metadata": {},
   "outputs": [
    {
     "data": {
      "application/vnd.jupyter.widget-view+json": {
       "model_id": "a71e092c840147468e4e36f1fd58ee5d",
       "version_major": 2,
       "version_minor": 0
      },
      "text/plain": [
       "unit:   0%|          | 0/8711 [00:00<?, ?it/s]"
      ]
     },
     "metadata": {},
     "output_type": "display_data"
    }
   ],
   "source": [
    "for uniti, unit_to_analyze in tqdm(\n",
    "        merged_units[:]\n",
    "        .iterrows(), desc=\"unit\", total=len(merged_units)\n",
    "    ):\n",
    "    if unit_to_analyze.cluster_id != 8542:\n",
    "        continue\n",
    "    break"
   ]
  },
  {
   "cell_type": "code",
   "execution_count": 195,
   "id": "381cdb5d",
   "metadata": {},
   "outputs": [
    {
     "data": {
      "text/plain": [
       "cluster_id                                                  8542\n",
       "n_spikes                                                 5758671\n",
       "n_trials                                                 18521.0\n",
       "n_playbacks                                              77227.0\n",
       "sort_units     [(18, exp1_rec1_dat2021-05-28_22-06-52_1150), ...\n",
       "Name: 7237, dtype: object"
      ]
     },
     "execution_count": 195,
     "metadata": {},
     "output_type": "execute_result"
    }
   ],
   "source": [
    "unit_to_analyze"
   ]
  },
  {
   "cell_type": "code",
   "execution_count": 202,
   "id": "fba58cc1",
   "metadata": {
    "scrolled": false
   },
   "outputs": [
    {
     "name": "stdout",
     "output_type": "stream",
     "text": [
      "0 13 4\n",
      "1 18 0\n",
      "2 5 3\n",
      "3 11 7\n",
      "4 21 18\n",
      "5 21 6\n",
      "6 10 6\n",
      "7 13 1\n",
      "8 22 30\n",
      "9 17 9\n",
      "10 2 25\n",
      "11 13 12\n",
      "12 2 45\n",
      "13 1 22\n",
      "14 2 26\n",
      "15 1 13\n"
     ]
    },
    {
     "ename": "NameError",
     "evalue": "name 'breakme' is not defined",
     "output_type": "error",
     "traceback": [
      "\u001b[0;31m---------------------------------------------------------------------------\u001b[0m",
      "\u001b[0;31mNameError\u001b[0m                                 Traceback (most recent call last)",
      "Cell \u001b[0;32mIn[202], line 1\u001b[0m\n\u001b[0;32m----> 1\u001b[0m unit_series \u001b[38;5;241m=\u001b[39m \u001b[43mget_unit_statistic\u001b[49m\u001b[43m(\u001b[49m\n\u001b[1;32m      2\u001b[0m \u001b[43m    \u001b[49m\u001b[43munit_to_analyze\u001b[49m\u001b[43m,\u001b[49m\n\u001b[1;32m      3\u001b[0m \u001b[43m    \u001b[49m\u001b[43mspikesorting_folder\u001b[49m\u001b[43m,\u001b[49m\n\u001b[1;32m      4\u001b[0m \u001b[43m    \u001b[49m\u001b[43mstatistics_timestamp\u001b[49m\u001b[43m,\u001b[49m\n\u001b[1;32m      5\u001b[0m \u001b[43m    \u001b[49m\u001b[43mbird\u001b[49m\u001b[38;5;241;43m=\u001b[39;49m\u001b[43mbird\u001b[49m\u001b[43m,\u001b[49m\n\u001b[1;32m      6\u001b[0m \u001b[43m    \u001b[49m\u001b[43mrecompute\u001b[49m\u001b[38;5;241;43m=\u001b[39;49m\u001b[38;5;28;43;01mTrue\u001b[39;49;00m\u001b[43m,\u001b[49m\n\u001b[1;32m      7\u001b[0m \u001b[43m    \u001b[49m\u001b[43mparallel\u001b[49m\u001b[38;5;241;43m=\u001b[39;49m\u001b[38;5;28;43;01mFalse\u001b[39;49;00m\u001b[43m,\u001b[49m\n\u001b[1;32m      8\u001b[0m \u001b[43m    \u001b[49m\u001b[43msave\u001b[49m\u001b[38;5;241;43m=\u001b[39;49m\u001b[38;5;28;43;01mFalse\u001b[39;49;00m\u001b[43m,\u001b[49m\n\u001b[1;32m      9\u001b[0m \u001b[43m    \u001b[49m\u001b[43mplot\u001b[49m\u001b[38;5;241;43m=\u001b[39;49m\u001b[38;5;28;43;01mFalse\u001b[39;49;00m\u001b[43m,\u001b[49m\n\u001b[1;32m     10\u001b[0m \u001b[43m)\u001b[49m\n",
      "Cell \u001b[0;32mIn[191], line 89\u001b[0m, in \u001b[0;36mget_unit_statistic\u001b[0;34m(unit_to_analyze, spikesorting_folder, statistics_timestamp, bird, identifier, recompute, parallel, flip_bins, n_time_bins, gaussian_sigma_ms, save, plot)\u001b[0m\n\u001b[1;32m     86\u001b[0m     \u001b[38;5;28;01mreturn\u001b[39;00m unit_series\n\u001b[1;32m     88\u001b[0m \u001b[38;5;28;01mif\u001b[39;00m parallel \u001b[38;5;241m==\u001b[39m \u001b[38;5;28;01mFalse\u001b[39;00m:\n\u001b[0;32m---> 89\u001b[0m     \u001b[43mrun\u001b[49m\u001b[43m(\u001b[49m\u001b[43m)\u001b[49m\n\u001b[1;32m     90\u001b[0m \u001b[38;5;28;01melse\u001b[39;00m:\n\u001b[1;32m     91\u001b[0m     \u001b[38;5;28;01mtry\u001b[39;00m:\n",
      "Cell \u001b[0;32mIn[191], line 66\u001b[0m, in \u001b[0;36mget_unit_statistic.<locals>.run\u001b[0;34m()\u001b[0m\n\u001b[1;32m     64\u001b[0m \u001b[38;5;28;01mwith\u001b[39;00m warnings\u001b[38;5;241m.\u001b[39mcatch_warnings():\n\u001b[1;32m     65\u001b[0m     warnings\u001b[38;5;241m.\u001b[39mfilterwarnings(\u001b[38;5;124m\"\u001b[39m\u001b[38;5;124mignore\u001b[39m\u001b[38;5;124m\"\u001b[39m, category\u001b[38;5;241m=\u001b[39m\u001b[38;5;167;01mWarning\u001b[39;00m)\n\u001b[0;32m---> 66\u001b[0m     statistic_series \u001b[38;5;241m=\u001b[39m \u001b[43mcompute_single_unit_decoder\u001b[49m\u001b[43m(\u001b[49m\n\u001b[1;32m     67\u001b[0m \u001b[43m        \u001b[49m\u001b[43mtrial_aligned_spikes\u001b[49m\u001b[43m,\u001b[49m\n\u001b[1;32m     68\u001b[0m \u001b[43m        \u001b[49m\u001b[43mflip_bins\u001b[49m\u001b[38;5;241;43m=\u001b[39;49m\u001b[43mflip_bins\u001b[49m\u001b[43m,\u001b[49m\n\u001b[1;32m     69\u001b[0m \u001b[43m        \u001b[49m\u001b[43mn_time_bins\u001b[49m\u001b[38;5;241;43m=\u001b[39;49m\u001b[43mn_time_bins\u001b[49m\u001b[43m,\u001b[49m\n\u001b[1;32m     70\u001b[0m \u001b[43m        \u001b[49m\u001b[38;5;66;43;03m# n_interp_point_bins=n_interp_point_bins,\u001b[39;49;00m\n\u001b[1;32m     71\u001b[0m \u001b[43m        \u001b[49m\u001b[43mmode\u001b[49m\u001b[38;5;241;43m=\u001b[39;49m\u001b[38;5;124;43m\"\u001b[39;49m\u001b[38;5;124;43mconstant\u001b[39;49m\u001b[38;5;124;43m\"\u001b[39;49m\u001b[43m,\u001b[49m\n\u001b[1;32m     72\u001b[0m \u001b[43m    \u001b[49m\u001b[43m)\u001b[49m\n\u001b[1;32m     73\u001b[0m \u001b[38;5;28;01mif\u001b[39;00m statistic_series \u001b[38;5;129;01mis\u001b[39;00m \u001b[38;5;129;01mnot\u001b[39;00m \u001b[38;5;28;01mNone\u001b[39;00m:\n\u001b[1;32m     74\u001b[0m     unit_series_list\u001b[38;5;241m.\u001b[39mappend(statistic_series)\n",
      "Cell \u001b[0;32mIn[201], line 93\u001b[0m, in \u001b[0;36mcompute_single_unit_decoder\u001b[0;34m(trial_aligned_spikes, flip_bins, n_time_bins, n_interp_point_bins, mode)\u001b[0m\n\u001b[1;32m     90\u001b[0m \u001b[38;5;66;03m###############\u001b[39;00m\n\u001b[1;32m     92\u001b[0m \u001b[38;5;28;01mif\u001b[39;00m interp \u001b[38;5;241m==\u001b[39m \u001b[38;5;124m'\u001b[39m\u001b[38;5;124mAG\u001b[39m\u001b[38;5;124m'\u001b[39m:\n\u001b[0;32m---> 93\u001b[0m     \u001b[43mbreakme\u001b[49m\n\u001b[1;32m     95\u001b[0m \u001b[38;5;66;03m# mask noncued data for training\u001b[39;00m\n\u001b[1;32m     96\u001b[0m training_mask \u001b[38;5;241m=\u001b[39m np\u001b[38;5;241m.\u001b[39mzeros(\u001b[38;5;28mlen\u001b[39m(spike_vector_trials_interp))\n",
      "\u001b[0;31mNameError\u001b[0m: name 'breakme' is not defined"
     ]
    }
   ],
   "source": [
    "unit_series = get_unit_statistic(\n",
    "    unit_to_analyze,\n",
    "    spikesorting_folder,\n",
    "    statistics_timestamp,\n",
    "    bird=bird,\n",
    "    recompute=True,\n",
    "    parallel=False,\n",
    "    save=False,\n",
    "    plot=False,\n",
    ")"
   ]
  },
  {
   "cell_type": "code",
   "execution_count": null,
   "id": "e7793921",
   "metadata": {},
   "outputs": [],
   "source": [
    "# mask noncued data for training\n",
    "        training_mask = np.zeros(len(spike_vector_trials_interp))\n",
    "        training_mask[spike_vector_trials_interp.passive == True] = 1\n",
    "        training_mask[spike_vector_trials_interp.cue.isin([\"NC\", \"CN\"])] = 1\n",
    "        training_mask = training_mask.astype(bool)"
   ]
  },
  {
   "cell_type": "code",
   "execution_count": null,
   "id": "ea475bf0",
   "metadata": {},
   "outputs": [],
   "source": [
    "y_test = "
   ]
  },
  {
   "cell_type": "code",
   "execution_count": 197,
   "id": "42baf8d7",
   "metadata": {},
   "outputs": [
    {
     "name": "stdout",
     "output_type": "stream",
     "text": [
      "> \u001b[0;32m/tmp/ipykernel_46167/730991675.py\u001b[0m(91)\u001b[0;36mcompute_single_unit_decoder\u001b[0;34m()\u001b[0m\n",
      "\u001b[0;32m     89 \u001b[0;31m\u001b[0;34m\u001b[0m\u001b[0m\n",
      "\u001b[0m\u001b[0;32m     90 \u001b[0;31m        \u001b[0;32mif\u001b[0m \u001b[0minterp\u001b[0m \u001b[0;34m==\u001b[0m \u001b[0;34m'AG'\u001b[0m\u001b[0;34m:\u001b[0m\u001b[0;34m\u001b[0m\u001b[0;34m\u001b[0m\u001b[0m\n",
      "\u001b[0m\u001b[0;32m---> 91 \u001b[0;31m            \u001b[0mbreakme\u001b[0m\u001b[0;34m\u001b[0m\u001b[0;34m\u001b[0m\u001b[0m\n",
      "\u001b[0m\u001b[0;32m     92 \u001b[0;31m\u001b[0;34m\u001b[0m\u001b[0m\n",
      "\u001b[0m\u001b[0;32m     93 \u001b[0;31m        \u001b[0;31m# mask noncued data for training\u001b[0m\u001b[0;34m\u001b[0m\u001b[0;34m\u001b[0m\u001b[0m\n",
      "\u001b[0m\n",
      "ipdb>         training_mask = np.zeros(len(spike_vector_trials_interp))\n",
      "ipdb>         training_mask[spike_vector_trials_interp.passive == True] = 1\n",
      "ipdb>         training_mask[spike_vector_trials_interp.cue.isin([\"NC\", \"CN\"])] = 1\n",
      "ipdb>         training_mask = training_mask.astype(bool)\n",
      "ipdb>         y_test = spike_vector_trials_interp[             training_mask == False         ].interp_point_binned.values\n",
      "ipdb> y_test\n",
      "array([ 0,  0,  0,  0,  0,  0,  0,  0,  0,  0,  0,  0,  0,  0,  0,  0,  0,\n",
      "        1,  1,  1,  1,  1,  1,  1,  1,  1,  1,  1,  1,  1,  1,  1,  1,  1,\n",
      "        1,  2,  2,  2,  2,  2,  2,  2,  2,  3,  3,  3,  3,  3,  3,  3,  3,\n",
      "        3,  3,  3,  3,  3,  3,  3,  3,  3,  3,  4,  4,  4,  4,  4,  4,  4,\n",
      "        4,  4,  4,  4,  4,  4,  4,  4,  4,  4,  4,  4,  4,  4,  4,  4,  4,\n",
      "        4,  4,  4,  4,  4,  4,  4,  4,  4,  4,  4,  4,  4,  4,  4,  5,  5,\n",
      "        5,  5,  5,  5,  5,  5,  5,  5,  5,  5,  5,  5,  5,  5,  5,  5,  5,\n",
      "        5,  5,  5,  5,  5,  5,  5,  5,  6,  6,  6,  6,  6,  6,  6,  6,  6,\n",
      "        6,  6,  6,  6,  6,  6,  6,  7,  7,  7,  7,  7,  7,  7,  7,  7,  7,\n",
      "        7,  7,  7,  7,  8,  8,  8,  8,  8,  8,  8,  8,  8,  8,  8,  8,  8,\n",
      "        8,  8,  8,  8,  8,  8,  8,  8,  8,  8,  8,  8,  8,  8,  8,  8,  8,\n",
      "        8,  8,  8,  8,  8,  8,  8,  8,  8,  8,  8,  8,  8,  8,  8,  8,  8,\n",
      "        8,  8,  8,  8,  8,  9,  9,  9,  9,  9,  9,  9,  9,  9,  9,  9,  9,\n",
      "        9,  9,  9,  9,  9,  9,  9,  9,  9,  9,  9,  9,  9,  9, 10, 10, 10,\n",
      "       10, 10, 10, 10, 10, 10, 10, 10, 10, 10, 10, 10, 10, 10, 10, 10, 10,\n",
      "       10, 10, 10, 10, 10, 10, 10, 11, 11, 11, 11, 11, 11, 11, 11, 11, 11,\n",
      "       11, 11, 11, 11, 11, 11, 11, 11, 11, 11, 11, 11, 11, 11, 11, 12, 12,\n",
      "       12, 12, 12, 12, 12, 12, 12, 12, 12, 12, 12, 12, 12, 12, 12, 12, 12,\n",
      "       12, 12, 12, 12, 12, 12, 12, 12, 12, 12, 12, 12, 12, 12, 12, 12, 12,\n",
      "       12, 12, 12, 12, 12, 12, 12, 12, 12, 12, 12, 13, 13, 13, 13, 13, 13,\n",
      "       13, 13, 13, 13, 13, 13, 13, 13, 13, 13, 13, 13, 13, 13, 13, 13, 13,\n",
      "       14, 14, 14, 14, 14, 14, 14, 14, 14, 14, 14, 14, 14, 14, 14, 14, 14,\n",
      "       14, 14, 14, 14, 14, 14, 14, 14, 14, 14, 14, 15, 15, 15, 15, 15, 15,\n",
      "       15, 15, 15, 15, 15, 15, 15, 15])\n",
      "ipdb> np.unique(y_test_\n",
      "*** SyntaxError: unexpected EOF while parsing\n",
      "ipdb> np.unique(y_test)\n",
      "array([ 0,  1,  2,  3,  4,  5,  6,  7,  8,  9, 10, 11, 12, 13, 14, 15])\n",
      "ipdb> exit\n"
     ]
    }
   ],
   "source": [
    "%debug"
   ]
  },
  {
   "cell_type": "markdown",
   "id": "a18ab334",
   "metadata": {},
   "source": [
    "### make dataframe"
   ]
  },
  {
   "cell_type": "code",
   "execution_count": 175,
   "id": "bba0a52a",
   "metadata": {
    "ExecuteTime": {
     "end_time": "2021-10-25T00:31:51.094778Z",
     "start_time": "2021-10-25T00:31:50.941673Z"
    }
   },
   "outputs": [],
   "source": [
    "ensure_dir(DATA_DIR / 'unit_statistics' / statistics_timestamp / identifier)"
   ]
  },
  {
   "cell_type": "code",
   "execution_count": 176,
   "id": "d32cf92e",
   "metadata": {
    "ExecuteTime": {
     "end_time": "2021-10-25T00:31:51.195174Z",
     "start_time": "2021-10-25T00:31:51.137808Z"
    }
   },
   "outputs": [],
   "source": [
    "def read_and_unit(i):\n",
    "    try:\n",
    "        df = pd.read_pickle(i)\n",
    "        df['unit'] = i.stem\n",
    "        return df\n",
    "    except:\n",
    "        return"
   ]
  },
  {
   "cell_type": "code",
   "execution_count": 177,
   "id": "416ac9ea",
   "metadata": {
    "ExecuteTime": {
     "end_time": "2021-10-25T00:33:29.786993Z",
     "start_time": "2021-10-25T00:31:51.309058Z"
    },
    "scrolled": true
   },
   "outputs": [
    {
     "data": {
      "application/vnd.jupyter.widget-view+json": {
       "model_id": "3d7c608192f2498babd6c6497d3164c3",
       "version_major": 2,
       "version_minor": 0
      },
      "text/plain": [
       "  0%|          | 0/10 [00:00<?, ?it/s]"
      ]
     },
     "metadata": {},
     "output_type": "display_data"
    },
    {
     "name": "stdout",
     "output_type": "stream",
     "text": [
      "B1597\n"
     ]
    },
    {
     "data": {
      "application/vnd.jupyter.widget-view+json": {
       "model_id": "7e8be22828c84ddeb9b799c4d91037b9",
       "version_major": 2,
       "version_minor": 0
      },
      "text/plain": [
       "reading pickles:   0%|          | 0/6750 [00:00<?, ?it/s]"
      ]
     },
     "metadata": {},
     "output_type": "display_data"
    },
    {
     "name": "stdout",
     "output_type": "stream",
     "text": [
      "B1188\n"
     ]
    },
    {
     "data": {
      "application/vnd.jupyter.widget-view+json": {
       "model_id": "72cdc04b2b204c8e9d600cc61e6c2575",
       "version_major": 2,
       "version_minor": 0
      },
      "text/plain": [
       "reading pickles:   0%|          | 0/510 [00:00<?, ?it/s]"
      ]
     },
     "metadata": {},
     "output_type": "display_data"
    },
    {
     "name": "stdout",
     "output_type": "stream",
     "text": [
      "B1595\n"
     ]
    },
    {
     "data": {
      "application/vnd.jupyter.widget-view+json": {
       "model_id": "72a19072046c4963b9cfe590eb57ab66",
       "version_major": 2,
       "version_minor": 0
      },
      "text/plain": [
       "reading pickles:   0%|          | 0/242 [00:00<?, ?it/s]"
      ]
     },
     "metadata": {},
     "output_type": "display_data"
    },
    {
     "name": "stdout",
     "output_type": "stream",
     "text": [
      "B1276\n"
     ]
    },
    {
     "data": {
      "application/vnd.jupyter.widget-view+json": {
       "model_id": "31b735ffb94b459897bcae28e3dce63d",
       "version_major": 2,
       "version_minor": 0
      },
      "text/plain": [
       "reading pickles:   0%|          | 0/46 [00:00<?, ?it/s]"
      ]
     },
     "metadata": {},
     "output_type": "display_data"
    },
    {
     "name": "stdout",
     "output_type": "stream",
     "text": [
      "B1426\n"
     ]
    },
    {
     "data": {
      "application/vnd.jupyter.widget-view+json": {
       "model_id": "9037cdbebd9a47589313dcf946604a76",
       "version_major": 2,
       "version_minor": 0
      },
      "text/plain": [
       "reading pickles:   0%|          | 0/93 [00:00<?, ?it/s]"
      ]
     },
     "metadata": {},
     "output_type": "display_data"
    },
    {
     "name": "stdout",
     "output_type": "stream",
     "text": [
      "B1432\n"
     ]
    },
    {
     "data": {
      "application/vnd.jupyter.widget-view+json": {
       "model_id": "c25ef934b9da4d44a9f02e9b3b2f77a5",
       "version_major": 2,
       "version_minor": 0
      },
      "text/plain": [
       "reading pickles:   0%|          | 0/2157 [00:00<?, ?it/s]"
      ]
     },
     "metadata": {},
     "output_type": "display_data"
    },
    {
     "name": "stdout",
     "output_type": "stream",
     "text": [
      "B1170\n"
     ]
    },
    {
     "data": {
      "application/vnd.jupyter.widget-view+json": {
       "model_id": "ecc7a444ac1249aaac3491bcd41098fe",
       "version_major": 2,
       "version_minor": 0
      },
      "text/plain": [
       "reading pickles:   0%|          | 0/1281 [00:00<?, ?it/s]"
      ]
     },
     "metadata": {},
     "output_type": "display_data"
    },
    {
     "name": "stdout",
     "output_type": "stream",
     "text": [
      "B1244\n"
     ]
    },
    {
     "data": {
      "application/vnd.jupyter.widget-view+json": {
       "model_id": "46f031a16a3248138562f3242d516855",
       "version_major": 2,
       "version_minor": 0
      },
      "text/plain": [
       "reading pickles:   0%|          | 0/141 [00:00<?, ?it/s]"
      ]
     },
     "metadata": {},
     "output_type": "display_data"
    },
    {
     "name": "stdout",
     "output_type": "stream",
     "text": [
      "B1593\n"
     ]
    },
    {
     "data": {
      "application/vnd.jupyter.widget-view+json": {
       "model_id": "456ab0ac7759437bb3c7e64a1ed285ed",
       "version_major": 2,
       "version_minor": 0
      },
      "text/plain": [
       "reading pickles:   0%|          | 0/7714 [00:00<?, ?it/s]"
      ]
     },
     "metadata": {},
     "output_type": "display_data"
    },
    {
     "name": "stdout",
     "output_type": "stream",
     "text": [
      "B1248\n"
     ]
    },
    {
     "data": {
      "application/vnd.jupyter.widget-view+json": {
       "model_id": "8a784a36becf4f0c862dadf6ab3ce8a6",
       "version_major": 2,
       "version_minor": 0
      },
      "text/plain": [
       "reading pickles:   0%|          | 0/8698 [00:00<?, ?it/s]"
      ]
     },
     "metadata": {},
     "output_type": "display_data"
    }
   ],
   "source": [
    "for bird, timestamp, sorter in tqdm(birds):\n",
    "    print(bird)\n",
    "    spikesorting_folder = (DATA_DIR\n",
    "                / \"spikesorting\"\n",
    "                / bird\n",
    "                / timestamp)\n",
    "    # get the summary of recordings for the bird\n",
    "    recording_summary_df = pd.read_pickle(\n",
    "        DATA_DIR / \"spikesorting\" / \"recording_df\" / f\"{bird}.pickle.zip\"\n",
    "    )\n",
    "    unit_series_save_loc = (\n",
    "        spikesorting_folder / \"unit_statistics\" / statistics_timestamp / identifier\n",
    "    )\n",
    "    unit_pickles = list(unit_series_save_loc.glob(\"*.pickle\"))\n",
    "    if len(unit_pickles) == 0:\n",
    "        print('\\t no units')\n",
    "        continue\n",
    "    unit_statistics_df = pd.concat(\n",
    "        Parallel(n_jobs=-1, prefer=\"threads\")(\n",
    "            delayed(read_and_unit)(i)\n",
    "            for i in tqdm(unit_pickles, leave=False, desc=\"reading pickles\")\n",
    "        ),\n",
    "        axis=1,\n",
    "    ).T\n",
    "\n",
    "    unit_statistics_df.to_pickle(\n",
    "        DATA_DIR\n",
    "        / \"unit_statistics\"\n",
    "        / statistics_timestamp\n",
    "        / identifier\n",
    "        / \"{}.pickle\".format(bird)\n",
    "    )\n",
    "    "
   ]
  },
  {
   "cell_type": "code",
   "execution_count": null,
   "id": "0b802737",
   "metadata": {},
   "outputs": [],
   "source": []
  },
  {
   "cell_type": "code",
   "execution_count": null,
   "id": "f5be0888",
   "metadata": {},
   "outputs": [],
   "source": []
  },
  {
   "cell_type": "code",
   "execution_count": null,
   "id": "8fca274f",
   "metadata": {},
   "outputs": [],
   "source": []
  }
 ],
 "metadata": {
  "kernelspec": {
   "display_name": "cdcp_paper",
   "language": "python",
   "name": "cdcp_paper"
  },
  "language_info": {
   "codemirror_mode": {
    "name": "ipython",
    "version": 3
   },
   "file_extension": ".py",
   "mimetype": "text/x-python",
   "name": "python",
   "nbconvert_exporter": "python",
   "pygments_lexer": "ipython3",
   "version": "3.9.16"
  }
 },
 "nbformat": 4,
 "nbformat_minor": 5
}
