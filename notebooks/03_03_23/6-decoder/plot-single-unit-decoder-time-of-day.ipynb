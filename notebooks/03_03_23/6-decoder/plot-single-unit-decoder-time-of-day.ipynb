{
 "cells": [
  {
   "cell_type": "code",
   "execution_count": 12,
   "id": "9773fb69",
   "metadata": {},
   "outputs": [
    {
     "name": "stdout",
     "output_type": "stream",
     "text": [
      "The autoreload extension is already loaded. To reload it, use:\n",
      "  %reload_ext autoreload\n"
     ]
    }
   ],
   "source": [
    "%load_ext autoreload\n",
    "%autoreload 2"
   ]
  },
  {
   "cell_type": "code",
   "execution_count": 13,
   "id": "c8cc2005",
   "metadata": {},
   "outputs": [],
   "source": [
    "train_method = 'valid'"
   ]
  },
  {
   "cell_type": "code",
   "execution_count": 14,
   "id": "2935fe4d",
   "metadata": {},
   "outputs": [],
   "source": [
    "import pandas  as pd\n",
    "from cdcp.paths import DATA_DIR, ensure_dir\n",
    "import numpy as np\n",
    "import matplotlib.pyplot as plt\n",
    "import datetime\n",
    "from pathlib2 import Path\n",
    "from tqdm import tqdm\n",
    "pd.set_option('display.max_columns', 500)\n",
    "from functools import reduce\n",
    "import scipy.stats"
   ]
  },
  {
   "cell_type": "code",
   "execution_count": 15,
   "id": "fe3c97aa",
   "metadata": {},
   "outputs": [],
   "source": [
    "from cdcp.paths import DATA_PATH_MAGPI, FIGURE_DIR, ensure_dir\n",
    "from cdcp.general import save_fig\n",
    "SAVE_FIGS = True"
   ]
  },
  {
   "cell_type": "code",
   "execution_count": 16,
   "id": "30f1691f",
   "metadata": {},
   "outputs": [],
   "source": [
    "from cdcp.visualization.colors import colors as cdcp_colors"
   ]
  },
  {
   "cell_type": "code",
   "execution_count": 17,
   "id": "200984ed",
   "metadata": {},
   "outputs": [],
   "source": [
    "import warnings\n",
    "warnings.filterwarnings('ignore')"
   ]
  },
  {
   "cell_type": "code",
   "execution_count": 18,
   "id": "5539e61f",
   "metadata": {},
   "outputs": [],
   "source": [
    "from cdcp.paths import DATA_PATH_MAGPI, FIGURE_DIR, ensure_dir\n",
    "from cdcp.general import save_fig"
   ]
  },
  {
   "cell_type": "code",
   "execution_count": 19,
   "id": "137c1b4c",
   "metadata": {},
   "outputs": [
    {
     "data": {
      "text/plain": [
       "'2021-10-23_23-02-31_846685'"
      ]
     },
     "execution_count": 19,
     "metadata": {},
     "output_type": "execute_result"
    }
   ],
   "source": [
    "statistics_timestamp = '2021-10-23_23-02-31_846685'# datetime.now().strftime(\"%Y-%m-%d_%H-%M-%S_%f\")#\n",
    "statistics_timestamp"
   ]
  },
  {
   "cell_type": "code",
   "execution_count": 20,
   "id": "0e13948b",
   "metadata": {},
   "outputs": [],
   "source": [
    "birds = [\n",
    "    ('B1597', '2021-05-14_12-40-20_423998', 'kilosort2_5'),\n",
    "    ('B1188', '2021-05-31_18-52-29_558216', 'kilosort2_5'),\n",
    "    ('B1595', '2021-07-10_16-42-47_090257', 'kilosort2'),\n",
    "    ('B1276', '2021-07-14_11-14-02_257025', 'kilosort2'),\n",
    "    ('B1426', '2021-07-14_11-29-39_657273', 'kilosort2'),\n",
    "    ('B1432', '2021-06-01_15-14-38_561892', 'kilosort2_5'),\n",
    "    ('B1170', '2021-06-01_21-01-26_519005', 'kilosort2_5'),\n",
    "    ('B1244', '2021-07-14_12-57-45_546674', 'kilosort2'),\n",
    "    ('B1593', '2021-06-28_18-13-24_826008', 'kilosort2_5'),\n",
    "    ('B1248', '2021-07-03_18-08-01_063431', 'kilosort2_5'),\n",
    "    # acute\n",
    "    #('B1279', '2021-04-12_16-27-07_289527', 'kilosort2_5'),\n",
    "    #('B1500', '2021-08-27_09-24-48_680961', 'kilosort2_5'),\n",
    "    #('B1239', '2021-05-17_22-18-51_557635', 'kilosort2'),\n",
    "    #('B1459', '2021-08-26_21-21-12_755614', 'kilosort2_5'),\n",
    "]\n",
    "birds_df = pd.DataFrame(birds, columns = ['bird', 'timestamp', 'sorter']).set_index('bird')"
   ]
  },
  {
   "cell_type": "code",
   "execution_count": 21,
   "id": "1afc14de",
   "metadata": {},
   "outputs": [],
   "source": [
    "identifiers = ['spike_count', 'unit_location', 'time_of_day']"
   ]
  },
  {
   "cell_type": "code",
   "execution_count": 22,
   "id": "04b0c751",
   "metadata": {
    "scrolled": true
   },
   "outputs": [
    {
     "name": "stderr",
     "output_type": "stream",
     "text": [
      "birds:  10%|█         | 1/10 [00:01<00:10,  1.17s/it]"
     ]
    },
    {
     "name": "stdout",
     "output_type": "stream",
     "text": [
      "B1597 nrows per [6750, 8711, 6750]\n"
     ]
    },
    {
     "name": "stderr",
     "output_type": "stream",
     "text": [
      "\r",
      "birds:  20%|██        | 2/10 [00:01<00:04,  1.66it/s]"
     ]
    },
    {
     "name": "stdout",
     "output_type": "stream",
     "text": [
      "B1188 nrows per [510, 821, 510]\n",
      "B1595 nrows per [242, 325, 242]\n"
     ]
    },
    {
     "name": "stderr",
     "output_type": "stream",
     "text": [
      "birds:  50%|█████     | 5/10 [00:01<00:01,  4.05it/s]"
     ]
    },
    {
     "name": "stdout",
     "output_type": "stream",
     "text": [
      "B1276 nrows per [46, 57, 46]\n",
      "B1426 nrows per [93, 180, 93]\n"
     ]
    },
    {
     "name": "stderr",
     "output_type": "stream",
     "text": [
      "\r",
      "birds:  60%|██████    | 6/10 [00:02<00:01,  3.73it/s]"
     ]
    },
    {
     "name": "stdout",
     "output_type": "stream",
     "text": [
      "B1432 nrows per [2157, 2364, 2157]\n"
     ]
    },
    {
     "name": "stderr",
     "output_type": "stream",
     "text": [
      "\r",
      "birds:  70%|███████   | 7/10 [00:02<00:00,  3.78it/s]"
     ]
    },
    {
     "name": "stdout",
     "output_type": "stream",
     "text": [
      "B1170 nrows per [1281, 1693, 1281]\n",
      "B1244 nrows per [141, 150, 141]\n"
     ]
    },
    {
     "name": "stderr",
     "output_type": "stream",
     "text": [
      "\r",
      "birds:  90%|█████████ | 9/10 [00:04<00:00,  1.51it/s]"
     ]
    },
    {
     "name": "stdout",
     "output_type": "stream",
     "text": [
      "B1593 nrows per [7714, 13260, 7714]\n"
     ]
    },
    {
     "name": "stderr",
     "output_type": "stream",
     "text": [
      "birds: 100%|██████████| 10/10 [00:05<00:00,  1.85it/s]"
     ]
    },
    {
     "name": "stdout",
     "output_type": "stream",
     "text": [
      "B1248 nrows per [8698, 13184, 8698]\n"
     ]
    },
    {
     "name": "stderr",
     "output_type": "stream",
     "text": [
      "\n"
     ]
    }
   ],
   "source": [
    "all_unit_statistics_df= []\n",
    "for bird, timestamp, sorter in tqdm(birds, desc='birds'):\n",
    "    \n",
    "    unit_statistics_df_list = []\n",
    "    for identifier in identifiers:\n",
    "        unit_statistics_df = pd.read_pickle(\n",
    "        DATA_DIR\n",
    "        / \"unit_statistics\"\n",
    "        / statistics_timestamp\n",
    "        / identifier\n",
    "        / \"{}.pickle\".format(bird)\n",
    "    )\n",
    "        unit_statistics_df_list.append(unit_statistics_df)\n",
    "        \n",
    "    print(bird, 'nrows per', [len(i) for i in unit_statistics_df_list])\n",
    "    \n",
    "    # combine dfs\n",
    "    unit_statistics_df = reduce(lambda x, y: pd.merge(x, y, on = 'unit', how='outer'), unit_statistics_df_list)\n",
    "    unit_statistics_df['bird'] = bird\n",
    "    \n",
    "    all_unit_statistics_df.append(unit_statistics_df)\n",
    "\n",
    "unit_statistics_df = pd.concat(all_unit_statistics_df)"
   ]
  },
  {
   "cell_type": "code",
   "execution_count": 23,
   "id": "b5f81a7a",
   "metadata": {},
   "outputs": [
    {
     "name": "stdout",
     "output_type": "stream",
     "text": [
      "6754\n",
      "6754\n"
     ]
    }
   ],
   "source": [
    "# merge with categorical units\n",
    "categorical_units_df = pd.read_pickle(DATA_DIR / 'categorical_unit_01_23_22.pickle')\n",
    "categorical_units_df= categorical_units_df[categorical_units_df.categorical_unit == True]\n",
    "unit_statistics_df_cat = pd.merge(unit_statistics_df, categorical_units_df, on = ['bird', 'unit'])\n",
    "# subset categorical units\n",
    "#unit_statistics_df_cat = unit_statistics_df_cat[unit_statistics_df_cat.categorical_unit == True]\n",
    "unit_statistics_df = unit_statistics_df_cat\n",
    "print(len(unit_statistics_df))\n",
    "\n",
    "### merge with unit types\n",
    "unit_type_df = pd.read_pickle(DATA_DIR / \"unit_classes_01_23_22.pickle\")\n",
    "#unit_type_df = unit_type_df[[\"nuclei\",\"AP\",\"ML\",\"DV\",\"amplitude\",\"template_amplitude\",\"sr\",\"fw\",\"hw\",\"bird\",\"unit\"]]\n",
    "unit_statistics_df_ut = pd.merge(unit_statistics_df, unit_type_df, on = ['bird', 'unit'])\n",
    "unit_statistics_df = unit_statistics_df_ut\n",
    "print(len(unit_statistics_df))"
   ]
  },
  {
   "cell_type": "code",
   "execution_count": 24,
   "id": "03d993ef",
   "metadata": {},
   "outputs": [],
   "source": [
    "unit_statistics_df = unit_statistics_df.sort_values(by=['n_active_trials'], ascending=False)"
   ]
  },
  {
   "cell_type": "code",
   "execution_count": 25,
   "id": "9eb3d76b",
   "metadata": {},
   "outputs": [
    {
     "data": {
      "text/html": [
       "<div>\n",
       "<style scoped>\n",
       "    .dataframe tbody tr th:only-of-type {\n",
       "        vertical-align: middle;\n",
       "    }\n",
       "\n",
       "    .dataframe tbody tr th {\n",
       "        vertical-align: top;\n",
       "    }\n",
       "\n",
       "    .dataframe thead th {\n",
       "        text-align: right;\n",
       "    }\n",
       "</style>\n",
       "<table border=\"1\" class=\"dataframe\">\n",
       "  <thead>\n",
       "    <tr style=\"text-align: right;\">\n",
       "      <th></th>\n",
       "      <th>n_trials</th>\n",
       "      <th>n_cued_trials</th>\n",
       "      <th>n_incorrect_trials</th>\n",
       "      <th>n_correct_trials</th>\n",
       "      <th>n_reward_trials</th>\n",
       "      <th>n_passive_trials</th>\n",
       "      <th>n_active_trials</th>\n",
       "      <th>n_spikes</th>\n",
       "      <th>unit</th>\n",
       "      <th>hemisphere</th>\n",
       "      <th>labeled_region</th>\n",
       "      <th>estimated_nuclei</th>\n",
       "      <th>distance_to_estimated_nuclei</th>\n",
       "      <th>ML</th>\n",
       "      <th>AP</th>\n",
       "      <th>DV</th>\n",
       "      <th>AE_unique_hours</th>\n",
       "      <th>AE_hourly_acc</th>\n",
       "      <th>AF_unique_hours</th>\n",
       "      <th>AF_hourly_acc</th>\n",
       "      <th>BF_unique_hours</th>\n",
       "      <th>BF_hourly_acc</th>\n",
       "      <th>BE_unique_hours</th>\n",
       "      <th>BE_hourly_acc</th>\n",
       "      <th>CF_unique_hours</th>\n",
       "      <th>CF_hourly_acc</th>\n",
       "      <th>AG_unique_hours</th>\n",
       "      <th>AG_hourly_acc</th>\n",
       "      <th>BH_unique_hours</th>\n",
       "      <th>BH_hourly_acc</th>\n",
       "      <th>BG_unique_hours</th>\n",
       "      <th>BG_hourly_acc</th>\n",
       "      <th>DF_unique_hours</th>\n",
       "      <th>DF_hourly_acc</th>\n",
       "      <th>DH_unique_hours</th>\n",
       "      <th>DH_hourly_acc</th>\n",
       "      <th>AH_unique_hours</th>\n",
       "      <th>AH_hourly_acc</th>\n",
       "      <th>CE_unique_hours</th>\n",
       "      <th>CE_hourly_acc</th>\n",
       "      <th>CG_unique_hours</th>\n",
       "      <th>CG_hourly_acc</th>\n",
       "      <th>DE_unique_hours</th>\n",
       "      <th>DE_hourly_acc</th>\n",
       "      <th>bird</th>\n",
       "      <th>DG_unique_hours</th>\n",
       "      <th>DG_hourly_acc</th>\n",
       "      <th>CH_unique_hours</th>\n",
       "      <th>CH_hourly_acc</th>\n",
       "      <th>categorical_unit</th>\n",
       "      <th>categoricality</th>\n",
       "      <th>fw</th>\n",
       "      <th>sr</th>\n",
       "      <th>unit_type</th>\n",
       "      <th>best_chan_templates</th>\n",
       "      <th>best_chan_templates_norm</th>\n",
       "      <th>amplitude</th>\n",
       "    </tr>\n",
       "  </thead>\n",
       "  <tbody>\n",
       "    <tr>\n",
       "      <th>1185</th>\n",
       "      <td>135308</td>\n",
       "      <td>22462</td>\n",
       "      <td>2952</td>\n",
       "      <td>21969</td>\n",
       "      <td>7852</td>\n",
       "      <td>108288</td>\n",
       "      <td>27020</td>\n",
       "      <td>3782468</td>\n",
       "      <td>3428</td>\n",
       "      <td>NaN</td>\n",
       "      <td>NaN</td>\n",
       "      <td>NCL</td>\n",
       "      <td>494.54</td>\n",
       "      <td>2731.25</td>\n",
       "      <td>2420.0</td>\n",
       "      <td>-802.499502</td>\n",
       "      <td>[21, 19, 17, 20, 18]</td>\n",
       "      <td>[0.3393483709273183, 0.35449957947855343, 0.35...</td>\n",
       "      <td>[17, 18, 21, 19, 20]</td>\n",
       "      <td>[0.3161856963613551, 0.3252858958068615, 0.296...</td>\n",
       "      <td>[17, 18, 21, 19, 20]</td>\n",
       "      <td>[0.3307155322862129, 0.32721338229294167, 0.31...</td>\n",
       "      <td>[17, 21, 19, 20, 18]</td>\n",
       "      <td>[0.18192488262910797, 0.1882716049382716, 0.18...</td>\n",
       "      <td>[21, 17, 18, 20, 19]</td>\n",
       "      <td>[0.38225806451612904, 0.36752136752136755, 0.3...</td>\n",
       "      <td>[21, 20, 17, 18, 19]</td>\n",
       "      <td>[0.2605421686746988, 0.23803680981595093, 0.24...</td>\n",
       "      <td>[17, 19, 21, 20, 18]</td>\n",
       "      <td>[0.2185792349726776, 0.23036649214659685, 0.14...</td>\n",
       "      <td>[20, 19, 17, 18, 21]</td>\n",
       "      <td>[0.1763157894736842, 0.18963337547408343, 0.17...</td>\n",
       "      <td>[19, 17, 20, 18, 21]</td>\n",
       "      <td>[0.20418848167539266, 0.16666666666666666, 0.2...</td>\n",
       "      <td>[18, 17, 20, 19, 21]</td>\n",
       "      <td>[0.16842105263157894, 0.21428571428571427, 0.1...</td>\n",
       "      <td>[20, 19, 17, 21, 18]</td>\n",
       "      <td>[0.14594594594594595, 0.2, 0.1956521739130435,...</td>\n",
       "      <td>[18, 17, 21, 19, 20]</td>\n",
       "      <td>[0.23421052631578948, 0.21345407503234154, 0.2...</td>\n",
       "      <td>[19, 21, 18, 17, 20]</td>\n",
       "      <td>[0.26059850374064836, 0.28213166144200624, 0.2...</td>\n",
       "      <td>[18, 20, 17, 21, 19]</td>\n",
       "      <td>[0.14035087719298245, 0.20105820105820105, 0.2...</td>\n",
       "      <td>B1597</td>\n",
       "      <td>NaN</td>\n",
       "      <td>NaN</td>\n",
       "      <td>NaN</td>\n",
       "      <td>NaN</td>\n",
       "      <td>True</td>\n",
       "      <td>0.499018</td>\n",
       "      <td>43.0</td>\n",
       "      <td>25.960996</td>\n",
       "      <td>1</td>\n",
       "      <td>[14.0, 13.911411411411411, 13.822822822822824,...</td>\n",
       "      <td>[0.01709673880257429, 0.0169885548054323, 0.01...</td>\n",
       "      <td>-560.25</td>\n",
       "    </tr>\n",
       "    <tr>\n",
       "      <th>188</th>\n",
       "      <td>62396</td>\n",
       "      <td>16809</td>\n",
       "      <td>1337</td>\n",
       "      <td>17917</td>\n",
       "      <td>5211</td>\n",
       "      <td>42386</td>\n",
       "      <td>20010</td>\n",
       "      <td>1519167</td>\n",
       "      <td>11670</td>\n",
       "      <td>NaN</td>\n",
       "      <td>NaN</td>\n",
       "      <td>Field_L</td>\n",
       "      <td>558.515</td>\n",
       "      <td>2317.25</td>\n",
       "      <td>2420.0</td>\n",
       "      <td>-722.499502</td>\n",
       "      <td>[21, 17, 19, 20, 18]</td>\n",
       "      <td>[0.21014492753623187, 0.20838471023427868, 0.2...</td>\n",
       "      <td>[20, 19, 17, 18, 21]</td>\n",
       "      <td>[0.23684210526315788, 0.23024054982817868, 0.1...</td>\n",
       "      <td>[20, 17, 19, 18, 21]</td>\n",
       "      <td>[0.2601010101010101, 0.205761316872428, 0.2573...</td>\n",
       "      <td>[19, 20, 18, 17, 21]</td>\n",
       "      <td>[0.13636363636363635, 0.1553784860557769, 0.15...</td>\n",
       "      <td>[20, 19, 21, 17, 18]</td>\n",
       "      <td>[0.22310756972111553, 0.24302788844621515, 0.2...</td>\n",
       "      <td>[20, 17, 21, 19, 18]</td>\n",
       "      <td>[0.1776061776061776, 0.17509727626459143, 0.16...</td>\n",
       "      <td>[17, 21, 19, 20, 18]</td>\n",
       "      <td>[0.1867704280155642, 0.2116788321167883, 0.270...</td>\n",
       "      <td>[20, 18, 21, 17, 19]</td>\n",
       "      <td>[0.11610486891385768, 0.1422924901185771, 0.2,...</td>\n",
       "      <td>[20, 21, 19, 18, 17]</td>\n",
       "      <td>[0.14772727272727273, 0.2702702702702703, 0.19...</td>\n",
       "      <td>[19, 20, 17, 18, 21]</td>\n",
       "      <td>[0.1601423487544484, 0.22692307692307692, 0.13...</td>\n",
       "      <td>[18, 21, 19, 20, 17]</td>\n",
       "      <td>[0.19924812030075187, 0.1554054054054054, 0.16...</td>\n",
       "      <td>[20, 19, 21, 17, 18]</td>\n",
       "      <td>[0.14336917562724014, 0.15546218487394958, 0.1...</td>\n",
       "      <td>[17, 18, 21, 20, 19]</td>\n",
       "      <td>[0.15748031496062992, 0.1893939393939394, 0.17...</td>\n",
       "      <td>[18, 17, 21, 20, 19]</td>\n",
       "      <td>[0.21311475409836064, 0.1532567049808429, 0.25...</td>\n",
       "      <td>B1597</td>\n",
       "      <td>NaN</td>\n",
       "      <td>NaN</td>\n",
       "      <td>NaN</td>\n",
       "      <td>NaN</td>\n",
       "      <td>True</td>\n",
       "      <td>0.433930</td>\n",
       "      <td>85.0</td>\n",
       "      <td>15.855983</td>\n",
       "      <td>0</td>\n",
       "      <td>[46.5, 46.588588588588586, 46.67717717717718, ...</td>\n",
       "      <td>[0.08471652194211443, 0.08487791800897435, 0.0...</td>\n",
       "      <td>-447.00</td>\n",
       "    </tr>\n",
       "  </tbody>\n",
       "</table>\n",
       "</div>"
      ],
      "text/plain": [
       "     n_trials n_cued_trials n_incorrect_trials n_correct_trials  \\\n",
       "1185   135308         22462               2952            21969   \n",
       "188     62396         16809               1337            17917   \n",
       "\n",
       "     n_reward_trials n_passive_trials n_active_trials n_spikes   unit  \\\n",
       "1185            7852           108288           27020  3782468   3428   \n",
       "188             5211            42386           20010  1519167  11670   \n",
       "\n",
       "     hemisphere labeled_region estimated_nuclei distance_to_estimated_nuclei  \\\n",
       "1185        NaN            NaN              NCL                       494.54   \n",
       "188         NaN            NaN          Field_L                      558.515   \n",
       "\n",
       "           ML      AP          DV       AE_unique_hours  \\\n",
       "1185  2731.25  2420.0 -802.499502  [21, 19, 17, 20, 18]   \n",
       "188   2317.25  2420.0 -722.499502  [21, 17, 19, 20, 18]   \n",
       "\n",
       "                                          AE_hourly_acc       AF_unique_hours  \\\n",
       "1185  [0.3393483709273183, 0.35449957947855343, 0.35...  [17, 18, 21, 19, 20]   \n",
       "188   [0.21014492753623187, 0.20838471023427868, 0.2...  [20, 19, 17, 18, 21]   \n",
       "\n",
       "                                          AF_hourly_acc       BF_unique_hours  \\\n",
       "1185  [0.3161856963613551, 0.3252858958068615, 0.296...  [17, 18, 21, 19, 20]   \n",
       "188   [0.23684210526315788, 0.23024054982817868, 0.1...  [20, 17, 19, 18, 21]   \n",
       "\n",
       "                                          BF_hourly_acc       BE_unique_hours  \\\n",
       "1185  [0.3307155322862129, 0.32721338229294167, 0.31...  [17, 21, 19, 20, 18]   \n",
       "188   [0.2601010101010101, 0.205761316872428, 0.2573...  [19, 20, 18, 17, 21]   \n",
       "\n",
       "                                          BE_hourly_acc       CF_unique_hours  \\\n",
       "1185  [0.18192488262910797, 0.1882716049382716, 0.18...  [21, 17, 18, 20, 19]   \n",
       "188   [0.13636363636363635, 0.1553784860557769, 0.15...  [20, 19, 21, 17, 18]   \n",
       "\n",
       "                                          CF_hourly_acc       AG_unique_hours  \\\n",
       "1185  [0.38225806451612904, 0.36752136752136755, 0.3...  [21, 20, 17, 18, 19]   \n",
       "188   [0.22310756972111553, 0.24302788844621515, 0.2...  [20, 17, 21, 19, 18]   \n",
       "\n",
       "                                          AG_hourly_acc       BH_unique_hours  \\\n",
       "1185  [0.2605421686746988, 0.23803680981595093, 0.24...  [17, 19, 21, 20, 18]   \n",
       "188   [0.1776061776061776, 0.17509727626459143, 0.16...  [17, 21, 19, 20, 18]   \n",
       "\n",
       "                                          BH_hourly_acc       BG_unique_hours  \\\n",
       "1185  [0.2185792349726776, 0.23036649214659685, 0.14...  [20, 19, 17, 18, 21]   \n",
       "188   [0.1867704280155642, 0.2116788321167883, 0.270...  [20, 18, 21, 17, 19]   \n",
       "\n",
       "                                          BG_hourly_acc       DF_unique_hours  \\\n",
       "1185  [0.1763157894736842, 0.18963337547408343, 0.17...  [19, 17, 20, 18, 21]   \n",
       "188   [0.11610486891385768, 0.1422924901185771, 0.2,...  [20, 21, 19, 18, 17]   \n",
       "\n",
       "                                          DF_hourly_acc       DH_unique_hours  \\\n",
       "1185  [0.20418848167539266, 0.16666666666666666, 0.2...  [18, 17, 20, 19, 21]   \n",
       "188   [0.14772727272727273, 0.2702702702702703, 0.19...  [19, 20, 17, 18, 21]   \n",
       "\n",
       "                                          DH_hourly_acc       AH_unique_hours  \\\n",
       "1185  [0.16842105263157894, 0.21428571428571427, 0.1...  [20, 19, 17, 21, 18]   \n",
       "188   [0.1601423487544484, 0.22692307692307692, 0.13...  [18, 21, 19, 20, 17]   \n",
       "\n",
       "                                          AH_hourly_acc       CE_unique_hours  \\\n",
       "1185  [0.14594594594594595, 0.2, 0.1956521739130435,...  [18, 17, 21, 19, 20]   \n",
       "188   [0.19924812030075187, 0.1554054054054054, 0.16...  [20, 19, 21, 17, 18]   \n",
       "\n",
       "                                          CE_hourly_acc       CG_unique_hours  \\\n",
       "1185  [0.23421052631578948, 0.21345407503234154, 0.2...  [19, 21, 18, 17, 20]   \n",
       "188   [0.14336917562724014, 0.15546218487394958, 0.1...  [17, 18, 21, 20, 19]   \n",
       "\n",
       "                                          CG_hourly_acc       DE_unique_hours  \\\n",
       "1185  [0.26059850374064836, 0.28213166144200624, 0.2...  [18, 20, 17, 21, 19]   \n",
       "188   [0.15748031496062992, 0.1893939393939394, 0.17...  [18, 17, 21, 20, 19]   \n",
       "\n",
       "                                          DE_hourly_acc   bird  \\\n",
       "1185  [0.14035087719298245, 0.20105820105820105, 0.2...  B1597   \n",
       "188   [0.21311475409836064, 0.1532567049808429, 0.25...  B1597   \n",
       "\n",
       "     DG_unique_hours DG_hourly_acc CH_unique_hours CH_hourly_acc  \\\n",
       "1185             NaN           NaN             NaN           NaN   \n",
       "188              NaN           NaN             NaN           NaN   \n",
       "\n",
       "      categorical_unit  categoricality    fw         sr  unit_type  \\\n",
       "1185              True        0.499018  43.0  25.960996          1   \n",
       "188               True        0.433930  85.0  15.855983          0   \n",
       "\n",
       "                                    best_chan_templates  \\\n",
       "1185  [14.0, 13.911411411411411, 13.822822822822824,...   \n",
       "188   [46.5, 46.588588588588586, 46.67717717717718, ...   \n",
       "\n",
       "                               best_chan_templates_norm  amplitude  \n",
       "1185  [0.01709673880257429, 0.0169885548054323, 0.01...    -560.25  \n",
       "188   [0.08471652194211443, 0.08487791800897435, 0.0...    -447.00  "
      ]
     },
     "execution_count": 25,
     "metadata": {},
     "output_type": "execute_result"
    }
   ],
   "source": [
    "unit_statistics_df[:2]"
   ]
  },
  {
   "cell_type": "code",
   "execution_count": 26,
   "id": "ef74340b",
   "metadata": {},
   "outputs": [],
   "source": [
    "unit_statistics_df[\"bird_unit\"] = [\"_\".join([row.bird, row.unit]) for idx, row in unit_statistics_df.iterrows()]"
   ]
  },
  {
   "cell_type": "markdown",
   "id": "2aa02276",
   "metadata": {},
   "source": [
    "### Set rows to stims"
   ]
  },
  {
   "cell_type": "code",
   "execution_count": 33,
   "id": "ba4cc0da",
   "metadata": {},
   "outputs": [],
   "source": [
    "interps = ['AE', 'AF', 'AG', 'BE', 'BF', 'BG',  'CE', 'CF', 'CG'] #['AE', 'AF', 'BE', 'BF']"
   ]
  },
  {
   "cell_type": "code",
   "execution_count": 63,
   "id": "d5afd2f1",
   "metadata": {
    "scrolled": true
   },
   "outputs": [
    {
     "name": "stderr",
     "output_type": "stream",
     "text": [
      "100%|██████████| 6754/6754 [02:53<00:00, 39.01it/s] \n"
     ]
    }
   ],
   "source": [
    "acc_df_interp = pd.DataFrame(\n",
    "    #index = np.arange(len(unit_statistics_df)*len(interps)),\n",
    "    columns = ['interp', 'unit', 'bird', 'hourly_acc', 'unique_hours'] \n",
    ")\n",
    "i = 0\n",
    "n_skip = 0\n",
    "for axi, (idx, row) in tqdm(enumerate(unit_statistics_df.iterrows()), total = len(unit_statistics_df)):\n",
    "    for interp in interps:    \n",
    "        \n",
    "        if type(row[f'{interp}_hourly_acc']) != list:\n",
    "            continue\n",
    "        \n",
    "        if np.mean(row[f'{interp}_hourly_acc']) < 1/16:\n",
    "            continue\n",
    "            \n",
    "        #acc_df_interp.loc[i] = (\n",
    "        acc_df_interp.loc[len(acc_df_interp)] = (\n",
    "            [\n",
    "                interp,\n",
    "                row.bird_unit,\n",
    "                row.bird,\n",
    "                row[f'{interp}_hourly_acc'],\n",
    "                row[f'{interp}_unique_hours']\n",
    "                   ]\n",
    "                \n",
    "        )\n",
    "        i+=1"
   ]
  },
  {
   "cell_type": "code",
   "execution_count": 64,
   "id": "2cc089e8",
   "metadata": {},
   "outputs": [
    {
     "name": "stdout",
     "output_type": "stream",
     "text": [
      "prop units where sufficient data is available 0.9157536274800119\n"
     ]
    }
   ],
   "source": [
    "# only include interpolations where there are at least 1 sample for each cue / interp point\n",
    "prop_units = len(np.unique(acc_df_interp.unit)) / len(unit_statistics_df)\n",
    "print(f\"prop units where sufficient data is available {prop_units}\")"
   ]
  },
  {
   "cell_type": "code",
   "execution_count": 65,
   "id": "5f0a2dfe",
   "metadata": {},
   "outputs": [
    {
     "data": {
      "text/html": [
       "<div>\n",
       "<style scoped>\n",
       "    .dataframe tbody tr th:only-of-type {\n",
       "        vertical-align: middle;\n",
       "    }\n",
       "\n",
       "    .dataframe tbody tr th {\n",
       "        vertical-align: top;\n",
       "    }\n",
       "\n",
       "    .dataframe thead th {\n",
       "        text-align: right;\n",
       "    }\n",
       "</style>\n",
       "<table border=\"1\" class=\"dataframe\">\n",
       "  <thead>\n",
       "    <tr style=\"text-align: right;\">\n",
       "      <th></th>\n",
       "      <th>interp</th>\n",
       "      <th>unit</th>\n",
       "      <th>bird</th>\n",
       "      <th>hourly_acc</th>\n",
       "      <th>unique_hours</th>\n",
       "    </tr>\n",
       "  </thead>\n",
       "  <tbody>\n",
       "    <tr>\n",
       "      <th>0</th>\n",
       "      <td>AE</td>\n",
       "      <td>B1597_3428</td>\n",
       "      <td>B1597</td>\n",
       "      <td>[0.3393483709273183, 0.35449957947855343, 0.35...</td>\n",
       "      <td>[21, 19, 17, 20, 18]</td>\n",
       "    </tr>\n",
       "    <tr>\n",
       "      <th>1</th>\n",
       "      <td>AF</td>\n",
       "      <td>B1597_3428</td>\n",
       "      <td>B1597</td>\n",
       "      <td>[0.3161856963613551, 0.3252858958068615, 0.296...</td>\n",
       "      <td>[17, 18, 21, 19, 20]</td>\n",
       "    </tr>\n",
       "    <tr>\n",
       "      <th>2</th>\n",
       "      <td>AG</td>\n",
       "      <td>B1597_3428</td>\n",
       "      <td>B1597</td>\n",
       "      <td>[0.2605421686746988, 0.23803680981595093, 0.24...</td>\n",
       "      <td>[21, 20, 17, 18, 19]</td>\n",
       "    </tr>\n",
       "  </tbody>\n",
       "</table>\n",
       "</div>"
      ],
      "text/plain": [
       "  interp        unit   bird  \\\n",
       "0     AE  B1597_3428  B1597   \n",
       "1     AF  B1597_3428  B1597   \n",
       "2     AG  B1597_3428  B1597   \n",
       "\n",
       "                                          hourly_acc          unique_hours  \n",
       "0  [0.3393483709273183, 0.35449957947855343, 0.35...  [21, 19, 17, 20, 18]  \n",
       "1  [0.3161856963613551, 0.3252858958068615, 0.296...  [17, 18, 21, 19, 20]  \n",
       "2  [0.2605421686746988, 0.23803680981595093, 0.24...  [21, 20, 17, 18, 19]  "
      ]
     },
     "execution_count": 65,
     "metadata": {},
     "output_type": "execute_result"
    }
   ],
   "source": [
    "acc_df_interp[:3]"
   ]
  },
  {
   "cell_type": "code",
   "execution_count": 66,
   "id": "4617921f",
   "metadata": {},
   "outputs": [],
   "source": [
    "acc_df_interp['mean_acc'] = [np.mean(i) for i in acc_df_interp.hourly_acc]"
   ]
  },
  {
   "cell_type": "code",
   "execution_count": 67,
   "id": "ca54b05c",
   "metadata": {},
   "outputs": [
    {
     "data": {
      "image/png": "[encoded data removed]",
      "text/plain": [
       "<Figure size 640x480 with 1 Axes>"
      ]
     },
     "metadata": {},
     "output_type": "display_data"
    }
   ],
   "source": [
    "plt.hist(acc_df_interp['mean_acc'], bins = np.linspace(0,1, 100));"
   ]
  },
  {
   "cell_type": "code",
   "execution_count": 68,
   "id": "74f60b17",
   "metadata": {},
   "outputs": [],
   "source": [
    "acc_df_interp['hourly_acc_rel'] = [i - np.mean(i) for i in acc_df_interp.hourly_acc]"
   ]
  },
  {
   "cell_type": "code",
   "execution_count": 69,
   "id": "fd9c17f0",
   "metadata": {},
   "outputs": [
    {
     "data": {
      "text/plain": [
       "6185"
      ]
     },
     "execution_count": 69,
     "metadata": {},
     "output_type": "execute_result"
    }
   ],
   "source": [
    "len(np.unique(acc_df_interp.unit))"
   ]
  },
  {
   "cell_type": "code",
   "execution_count": 79,
   "id": "3694a1ca",
   "metadata": {},
   "outputs": [
    {
     "data": {
      "image/png": "[encoded data removed]",
      "text/plain": [
       "<Figure size 640x480 with 1 Axes>"
      ]
     },
     "metadata": {},
     "output_type": "display_data"
    }
   ],
   "source": [
    "plt.hist(acc, bins=50);"
   ]
  },
  {
   "cell_type": "code",
   "execution_count": 125,
   "id": "94e4f611",
   "metadata": {},
   "outputs": [],
   "source": [
    "acc = np.concatenate(acc_df_interp['hourly_acc_rel']) * 100\n",
    "hour = np.concatenate(acc_df_interp['unique_hours'])\n",
    "hour = np.concatenate(acc_df_interp['unique_hours'])\n",
    "m = hour<22\n",
    "hour = hour[m]# disclude the few recordings past 9\n",
    "acc = acc[m]"
   ]
  },
  {
   "cell_type": "code",
   "execution_count": 126,
   "id": "e5b73b0c",
   "metadata": {},
   "outputs": [],
   "source": [
    "import scipy.stats"
   ]
  },
  {
   "cell_type": "code",
   "execution_count": 127,
   "id": "9a4be92f",
   "metadata": {},
   "outputs": [
    {
     "data": {
      "text/plain": [
       "PearsonRResult(statistic=-0.028640961945906, pvalue=1.4328550374974762e-36)"
      ]
     },
     "execution_count": 127,
     "metadata": {},
     "output_type": "execute_result"
    }
   ],
   "source": [
    "scipy.stats.pearsonr(hour, acc)"
   ]
  },
  {
   "cell_type": "code",
   "execution_count": 116,
   "id": "0352e999",
   "metadata": {},
   "outputs": [],
   "source": [
    "def get_95_ci(x, y, n_resamples = 500, n_x_samples = 100, bounds = 95, x_range = None):\n",
    "    if x_range is None:\n",
    "        xmin = np.min(x)\n",
    "        xmax = np.max(x)\n",
    "    model_x = np.linspace(xmin, xmax, n_x_samples)\n",
    "    sample_matrix = np.zeros((n_resamples, n_x_samples))\n",
    "    for i in tqdm(range(n_resamples), leave=False):\n",
    "        sample_index = np.random.choice(range(0, len(y)), len(y))\n",
    "        X_samples = x[sample_index]\n",
    "        y_samples = y[sample_index] \n",
    "        m, b = np.polyfit(X_samples, y_samples, 1)\n",
    "        sample_matrix[i] = m * model_x + b\n",
    "    lower_, upper_ = np.percentile(sample_matrix, ((100-bounds)/2, (100-((100-bounds)/2))), axis=0)\n",
    "    return (lower_, upper_), model_x"
   ]
  },
  {
   "cell_type": "code",
   "execution_count": 117,
   "id": "be14f0a5",
   "metadata": {},
   "outputs": [
    {
     "name": "stderr",
     "output_type": "stream",
     "text": [
      "                                                 \r"
     ]
    }
   ],
   "source": [
    "(acc_lower, acc_upper), fit_x = get_95_ci(hour, acc)"
   ]
  },
  {
   "cell_type": "code",
   "execution_count": 121,
   "id": "d16c18ed",
   "metadata": {},
   "outputs": [
    {
     "data": {
      "text/plain": [
       "(-1.0, 1.0)"
      ]
     },
     "execution_count": 121,
     "metadata": {},
     "output_type": "execute_result"
    },
    {
     "data": {
      "image/png": "[encoded data removed]",
      "text/plain": [
       "<Figure size 640x480 with 1 Axes>"
      ]
     },
     "metadata": {},
     "output_type": "display_data"
    }
   ],
   "source": [
    "fig, ax = plt.subplots()\n",
    "ax.fill_between(\n",
    "        fit_x,\n",
    "        acc_lower,\n",
    "        acc_upper,\n",
    "        color='k',\n",
    "        alpha=0.25,\n",
    "    )\n",
    "\n",
    "for h in np.unique(hour):\n",
    "    mean_h = np.mean(acc[hour==h])\n",
    "    std_h = np.std(acc[hour==h])\n",
    "    sem_h = std_h/np.sqrt(sum(hour==h))\n",
    "    ax.scatter([h], [mean_h])\n",
    "    ax.errorbar([h], [mean_h], yerr=3*sem_h)\n",
    "#ax.axhline(0, color = 'k', ls='dashed')\n",
    "\n",
    "ax.set_ylabel('Accuracy')\n",
    "ax.set_xlabel('Time of Day (hour)')\n",
    "ax.set_ylim([-1,1])\n",
    "ax.axhline(0, color = 'k', ls='dashed')"
   ]
  },
  {
   "cell_type": "code",
   "execution_count": 129,
   "id": "70694226",
   "metadata": {},
   "outputs": [],
   "source": [
    "acc = np.concatenate(acc_df_interp['hourly_acc']) * 100\n",
    "hour = np.concatenate(acc_df_interp['unique_hours'])\n",
    "m = hour<22\n",
    "hour = hour[m]# disclude the few recordings past 9\n",
    "acc = acc[m]"
   ]
  },
  {
   "cell_type": "code",
   "execution_count": 130,
   "id": "7ce4a9db",
   "metadata": {},
   "outputs": [
    {
     "name": "stderr",
     "output_type": "stream",
     "text": [
      "                                                 \r"
     ]
    }
   ],
   "source": [
    "(acc_lower, acc_upper), fit_x = get_95_ci(hour, acc)"
   ]
  },
  {
   "cell_type": "code",
   "execution_count": 131,
   "id": "442e345c",
   "metadata": {},
   "outputs": [
    {
     "data": {
      "text/plain": [
       "(13.0, 15.0)"
      ]
     },
     "execution_count": 131,
     "metadata": {},
     "output_type": "execute_result"
    },
    {
     "data": {
      "image/png": "[encoded data removed]",
      "text/plain": [
       "<Figure size 400x200 with 1 Axes>"
      ]
     },
     "metadata": {},
     "output_type": "display_data"
    }
   ],
   "source": [
    "fig, ax = plt.subplots(figsize=(4,2))\n",
    "ax.fill_between(\n",
    "        fit_x,\n",
    "        acc_lower,\n",
    "        acc_upper,\n",
    "        color='k',\n",
    "        alpha=0.25,\n",
    "    )\n",
    "\n",
    "for h in np.unique(hour):\n",
    "    mean_h = np.mean(acc[hour==h])\n",
    "    std_h = np.std(acc[hour==h])\n",
    "    sem_h = std_h/np.sqrt(sum(hour==h))\n",
    "    ax.scatter([h], [mean_h])\n",
    "    ax.errorbar([h], [mean_h], yerr=3*sem_h)\n",
    "#ax.axhline(0, color = 'k', ls='dashed')\n",
    "[i.set_linewidth(3) for i in ax.spines.values()]\n",
    "\n",
    "ax.set_ylabel('Accuracy')\n",
    "ax.set_xlabel('Time of Day (hour)')\n",
    "ax.set_ylim([13,15])"
   ]
  },
  {
   "cell_type": "code",
   "execution_count": null,
   "id": "d5fc6859",
   "metadata": {},
   "outputs": [],
   "source": []
  }
 ],
 "metadata": {
  "kernelspec": {
   "display_name": "cdcp_paper",
   "language": "python",
   "name": "cdcp_paper"
  },
  "language_info": {
   "codemirror_mode": {
    "name": "ipython",
    "version": 3
   },
   "file_extension": ".py",
   "mimetype": "text/x-python",
   "name": "python",
   "nbconvert_exporter": "python",
   "pygments_lexer": "ipython3",
   "version": "3.9.16"
  }
 },
 "nbformat": 4,
 "nbformat_minor": 5
}
