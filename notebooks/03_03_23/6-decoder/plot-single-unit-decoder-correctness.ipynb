{
 "cells": [
  {
   "cell_type": "code",
   "execution_count": 1,
   "id": "9773fb69",
   "metadata": {},
   "outputs": [],
   "source": [
    "%load_ext autoreload\n",
    "%autoreload 2"
   ]
  },
  {
   "cell_type": "code",
   "execution_count": 2,
   "id": "c8cc2005",
   "metadata": {},
   "outputs": [],
   "source": [
    "train_method = 'valid'"
   ]
  },
  {
   "cell_type": "code",
   "execution_count": 3,
   "id": "2935fe4d",
   "metadata": {},
   "outputs": [],
   "source": [
    "import pandas  as pd\n",
    "from cdcp.paths import DATA_DIR, ensure_dir\n",
    "import numpy as np\n",
    "import matplotlib.pyplot as plt\n",
    "import datetime\n",
    "from pathlib2 import Path\n",
    "from tqdm import tqdm\n",
    "pd.set_option('display.max_columns', 500)\n",
    "from functools import reduce\n",
    "import scipy.stats"
   ]
  },
  {
   "cell_type": "code",
   "execution_count": 4,
   "id": "fe3c97aa",
   "metadata": {},
   "outputs": [
    {
     "name": "stderr",
     "output_type": "stream",
     "text": [
      "/n/groups/datta/tim_sainburg/projects/CDCP_paper/cdcp/general.py:6: TqdmExperimentalWarning: Using `tqdm.autonotebook.tqdm` in notebook mode. Use `tqdm.tqdm` instead to force console mode (e.g. in jupyter console)\n",
      "  from tqdm.autonotebook import tqdm\n"
     ]
    }
   ],
   "source": [
    "from cdcp.paths import DATA_PATH_MAGPI, FIGURE_DIR, ensure_dir\n",
    "from cdcp.general import save_fig\n",
    "SAVE_FIGS = True"
   ]
  },
  {
   "cell_type": "code",
   "execution_count": 5,
   "id": "30f1691f",
   "metadata": {},
   "outputs": [],
   "source": [
    "from cdcp.visualization.colors import colors as cdcp_colors"
   ]
  },
  {
   "cell_type": "code",
   "execution_count": 6,
   "id": "200984ed",
   "metadata": {},
   "outputs": [],
   "source": [
    "import warnings\n",
    "warnings.filterwarnings('ignore')"
   ]
  },
  {
   "cell_type": "code",
   "execution_count": 7,
   "id": "5539e61f",
   "metadata": {},
   "outputs": [],
   "source": [
    "from cdcp.paths import DATA_PATH_MAGPI, FIGURE_DIR, ensure_dir\n",
    "from cdcp.general import save_fig"
   ]
  },
  {
   "cell_type": "code",
   "execution_count": 8,
   "id": "137c1b4c",
   "metadata": {},
   "outputs": [
    {
     "data": {
      "text/plain": [
       "'2021-10-23_23-02-31_846685'"
      ]
     },
     "execution_count": 8,
     "metadata": {},
     "output_type": "execute_result"
    }
   ],
   "source": [
    "statistics_timestamp = '2021-10-23_23-02-31_846685'# datetime.now().strftime(\"%Y-%m-%d_%H-%M-%S_%f\")#\n",
    "statistics_timestamp"
   ]
  },
  {
   "cell_type": "code",
   "execution_count": 9,
   "id": "0e13948b",
   "metadata": {},
   "outputs": [],
   "source": [
    "birds = [\n",
    "    ('B1597', '2021-05-14_12-40-20_423998', 'kilosort2_5'),\n",
    "    ('B1188', '2021-05-31_18-52-29_558216', 'kilosort2_5'),\n",
    "    ('B1595', '2021-07-10_16-42-47_090257', 'kilosort2'),\n",
    "    ('B1276', '2021-07-14_11-14-02_257025', 'kilosort2'),\n",
    "    ('B1426', '2021-07-14_11-29-39_657273', 'kilosort2'),\n",
    "    ('B1432', '2021-06-01_15-14-38_561892', 'kilosort2_5'),\n",
    "    ('B1170', '2021-06-01_21-01-26_519005', 'kilosort2_5'),\n",
    "    ('B1244', '2021-07-14_12-57-45_546674', 'kilosort2'),\n",
    "    ('B1593', '2021-06-28_18-13-24_826008', 'kilosort2_5'),\n",
    "    ('B1248', '2021-07-03_18-08-01_063431', 'kilosort2_5'),\n",
    "    # acute\n",
    "    #('B1279', '2021-04-12_16-27-07_289527', 'kilosort2_5'),\n",
    "    #('B1500', '2021-08-27_09-24-48_680961', 'kilosort2_5'),\n",
    "    #('B1239', '2021-05-17_22-18-51_557635', 'kilosort2'),\n",
    "    #('B1459', '2021-08-26_21-21-12_755614', 'kilosort2_5'),\n",
    "]\n",
    "birds_df = pd.DataFrame(birds, columns = ['bird', 'timestamp', 'sorter']).set_index('bird')"
   ]
  },
  {
   "cell_type": "code",
   "execution_count": 10,
   "id": "1afc14de",
   "metadata": {},
   "outputs": [],
   "source": [
    "identifiers = ['spike_count', 'unit_location', 'decoder_correctness']"
   ]
  },
  {
   "cell_type": "code",
   "execution_count": 12,
   "id": "04b0c751",
   "metadata": {
    "scrolled": true
   },
   "outputs": [
    {
     "name": "stderr",
     "output_type": "stream",
     "text": [
      "birds:  30%|███       | 3/10 [00:00<00:00, 13.30it/s]"
     ]
    },
    {
     "name": "stdout",
     "output_type": "stream",
     "text": [
      "B1597 nrows per [6750, 8711, 6750]\n",
      "B1188 nrows per [510, 821, 510]\n",
      "B1595 nrows per [242, 325, 242]\n"
     ]
    },
    {
     "name": "stderr",
     "output_type": "stream",
     "text": [
      "\r",
      "birds:  60%|██████    | 6/10 [00:00<00:00, 16.29it/s]"
     ]
    },
    {
     "name": "stdout",
     "output_type": "stream",
     "text": [
      "B1276 nrows per [46, 57, 46]\n",
      "B1426 nrows per [93, 180, 93]\n",
      "B1432 nrows per [2157, 2364, 2157]\n",
      "B1170 nrows per [1281, 1693, 1281]\n"
     ]
    },
    {
     "name": "stderr",
     "output_type": "stream",
     "text": [
      "\r",
      "birds:  80%|████████  | 8/10 [00:00<00:00, 16.01it/s]"
     ]
    },
    {
     "name": "stdout",
     "output_type": "stream",
     "text": [
      "B1244 nrows per [141, 150, 141]\n",
      "B1593 nrows per [7714, 13260, 7714]\n"
     ]
    },
    {
     "name": "stderr",
     "output_type": "stream",
     "text": [
      "birds: 100%|██████████| 10/10 [00:00<00:00, 10.57it/s]"
     ]
    },
    {
     "name": "stdout",
     "output_type": "stream",
     "text": [
      "B1248 nrows per [8698, 13184, 8698]\n"
     ]
    },
    {
     "name": "stderr",
     "output_type": "stream",
     "text": [
      "\n"
     ]
    }
   ],
   "source": [
    "all_unit_statistics_df= []\n",
    "for bird, timestamp, sorter in tqdm(birds, desc='birds'):\n",
    "    \n",
    "    unit_statistics_df_list = []\n",
    "    for identifier in identifiers:\n",
    "        unit_statistics_df = pd.read_pickle(\n",
    "        DATA_DIR\n",
    "        / \"unit_statistics\"\n",
    "        / statistics_timestamp\n",
    "        / identifier\n",
    "        / \"{}.pickle\".format(bird)\n",
    "    )\n",
    "        unit_statistics_df_list.append(unit_statistics_df)\n",
    "        \n",
    "    print(bird, 'nrows per', [len(i) for i in unit_statistics_df_list])\n",
    "    \n",
    "    # combine dfs\n",
    "    unit_statistics_df = reduce(lambda x, y: pd.merge(x, y, on = 'unit', how='outer'), unit_statistics_df_list)\n",
    "    unit_statistics_df['bird'] = bird\n",
    "    \n",
    "    all_unit_statistics_df.append(unit_statistics_df)\n",
    "\n",
    "unit_statistics_df = pd.concat(all_unit_statistics_df)"
   ]
  },
  {
   "cell_type": "code",
   "execution_count": 13,
   "id": "b5f81a7a",
   "metadata": {},
   "outputs": [
    {
     "name": "stdout",
     "output_type": "stream",
     "text": [
      "6754\n",
      "6754\n"
     ]
    }
   ],
   "source": [
    "# merge with categorical units\n",
    "categorical_units_df = pd.read_pickle(DATA_DIR / 'categorical_unit_01_23_22.pickle')\n",
    "categorical_units_df= categorical_units_df[categorical_units_df.categorical_unit == True]\n",
    "unit_statistics_df_cat = pd.merge(unit_statistics_df, categorical_units_df, on = ['bird', 'unit'])\n",
    "# subset categorical units\n",
    "#unit_statistics_df_cat = unit_statistics_df_cat[unit_statistics_df_cat.categorical_unit == True]\n",
    "unit_statistics_df = unit_statistics_df_cat\n",
    "print(len(unit_statistics_df))\n",
    "\n",
    "### merge with unit types\n",
    "unit_type_df = pd.read_pickle(DATA_DIR / \"unit_classes_01_23_22.pickle\")\n",
    "#unit_type_df = unit_type_df[[\"nuclei\",\"AP\",\"ML\",\"DV\",\"amplitude\",\"template_amplitude\",\"sr\",\"fw\",\"hw\",\"bird\",\"unit\"]]\n",
    "unit_statistics_df_ut = pd.merge(unit_statistics_df, unit_type_df, on = ['bird', 'unit'])\n",
    "unit_statistics_df = unit_statistics_df_ut\n",
    "print(len(unit_statistics_df))"
   ]
  },
  {
   "cell_type": "code",
   "execution_count": 14,
   "id": "03d993ef",
   "metadata": {},
   "outputs": [],
   "source": [
    "unit_statistics_df = unit_statistics_df.sort_values(by=['n_active_trials'], ascending=False)"
   ]
  },
  {
   "cell_type": "code",
   "execution_count": 15,
   "id": "9eb3d76b",
   "metadata": {},
   "outputs": [
    {
     "data": {
      "text/html": [
       "<div>\n",
       "<style scoped>\n",
       "    .dataframe tbody tr th:only-of-type {\n",
       "        vertical-align: middle;\n",
       "    }\n",
       "\n",
       "    .dataframe tbody tr th {\n",
       "        vertical-align: top;\n",
       "    }\n",
       "\n",
       "    .dataframe thead th {\n",
       "        text-align: right;\n",
       "    }\n",
       "</style>\n",
       "<table border=\"1\" class=\"dataframe\">\n",
       "  <thead>\n",
       "    <tr style=\"text-align: right;\">\n",
       "      <th></th>\n",
       "      <th>n_trials</th>\n",
       "      <th>n_cued_trials</th>\n",
       "      <th>n_incorrect_trials</th>\n",
       "      <th>n_correct_trials</th>\n",
       "      <th>n_reward_trials</th>\n",
       "      <th>n_passive_trials</th>\n",
       "      <th>n_active_trials</th>\n",
       "      <th>n_spikes</th>\n",
       "      <th>unit</th>\n",
       "      <th>hemisphere</th>\n",
       "      <th>labeled_region</th>\n",
       "      <th>estimated_nuclei</th>\n",
       "      <th>distance_to_estimated_nuclei</th>\n",
       "      <th>ML</th>\n",
       "      <th>AP</th>\n",
       "      <th>DV</th>\n",
       "      <th>AE_mean_correct</th>\n",
       "      <th>AE_mean_incorrect</th>\n",
       "      <th>AE_correct_t</th>\n",
       "      <th>AE_correct_p</th>\n",
       "      <th>AF_mean_correct</th>\n",
       "      <th>AF_mean_incorrect</th>\n",
       "      <th>AF_correct_t</th>\n",
       "      <th>AF_correct_p</th>\n",
       "      <th>BF_mean_correct</th>\n",
       "      <th>BF_mean_incorrect</th>\n",
       "      <th>BF_correct_t</th>\n",
       "      <th>BF_correct_p</th>\n",
       "      <th>BE_mean_correct</th>\n",
       "      <th>BE_mean_incorrect</th>\n",
       "      <th>BE_correct_t</th>\n",
       "      <th>BE_correct_p</th>\n",
       "      <th>BG_mean_correct</th>\n",
       "      <th>BG_mean_incorrect</th>\n",
       "      <th>BG_correct_t</th>\n",
       "      <th>BG_correct_p</th>\n",
       "      <th>CE_mean_correct</th>\n",
       "      <th>CE_mean_incorrect</th>\n",
       "      <th>CE_correct_t</th>\n",
       "      <th>CE_correct_p</th>\n",
       "      <th>CG_mean_correct</th>\n",
       "      <th>CG_mean_incorrect</th>\n",
       "      <th>CG_correct_t</th>\n",
       "      <th>CG_correct_p</th>\n",
       "      <th>AG_mean_correct</th>\n",
       "      <th>AG_mean_incorrect</th>\n",
       "      <th>AG_correct_t</th>\n",
       "      <th>AG_correct_p</th>\n",
       "      <th>CF_mean_correct</th>\n",
       "      <th>CF_mean_incorrect</th>\n",
       "      <th>CF_correct_t</th>\n",
       "      <th>CF_correct_p</th>\n",
       "      <th>bird</th>\n",
       "      <th>categorical_unit</th>\n",
       "      <th>categoricality</th>\n",
       "      <th>fw</th>\n",
       "      <th>sr</th>\n",
       "      <th>unit_type</th>\n",
       "      <th>best_chan_templates</th>\n",
       "      <th>best_chan_templates_norm</th>\n",
       "      <th>amplitude</th>\n",
       "    </tr>\n",
       "  </thead>\n",
       "  <tbody>\n",
       "    <tr>\n",
       "      <th>1185</th>\n",
       "      <td>135308</td>\n",
       "      <td>22462</td>\n",
       "      <td>2952</td>\n",
       "      <td>21969</td>\n",
       "      <td>7852</td>\n",
       "      <td>108288</td>\n",
       "      <td>27020</td>\n",
       "      <td>3782468</td>\n",
       "      <td>3428</td>\n",
       "      <td>NaN</td>\n",
       "      <td>NaN</td>\n",
       "      <td>NCL</td>\n",
       "      <td>494.54</td>\n",
       "      <td>2731.25</td>\n",
       "      <td>2420.0</td>\n",
       "      <td>-802.499502</td>\n",
       "      <td>0.343833</td>\n",
       "      <td>0.32</td>\n",
       "      <td>0.71855</td>\n",
       "      <td>0.472486</td>\n",
       "      <td>0.283934</td>\n",
       "      <td>0.227941</td>\n",
       "      <td>1.947703</td>\n",
       "      <td>0.051562</td>\n",
       "      <td>0.31675</td>\n",
       "      <td>0.330396</td>\n",
       "      <td>-0.420082</td>\n",
       "      <td>0.674463</td>\n",
       "      <td>0.195622</td>\n",
       "      <td>0.157143</td>\n",
       "      <td>1.703268</td>\n",
       "      <td>0.08864</td>\n",
       "      <td>0.198992</td>\n",
       "      <td>0.144444</td>\n",
       "      <td>1.192916</td>\n",
       "      <td>0.233485</td>\n",
       "      <td>0.152709</td>\n",
       "      <td>0.131313</td>\n",
       "      <td>0.535872</td>\n",
       "      <td>0.592284</td>\n",
       "      <td>0.225962</td>\n",
       "      <td>0.170732</td>\n",
       "      <td>1.10831</td>\n",
       "      <td>0.268265</td>\n",
       "      <td>0.248815</td>\n",
       "      <td>0.326316</td>\n",
       "      <td>-1.550623</td>\n",
       "      <td>0.121606</td>\n",
       "      <td>0.288416</td>\n",
       "      <td>0.15625</td>\n",
       "      <td>2.223578</td>\n",
       "      <td>0.026637</td>\n",
       "      <td>B1597</td>\n",
       "      <td>True</td>\n",
       "      <td>0.499018</td>\n",
       "      <td>43.0</td>\n",
       "      <td>25.960996</td>\n",
       "      <td>1</td>\n",
       "      <td>[14.0, 13.911411411411411, 13.822822822822824,...</td>\n",
       "      <td>[0.01709673880257429, 0.0169885548054323, 0.01...</td>\n",
       "      <td>-560.25</td>\n",
       "    </tr>\n",
       "    <tr>\n",
       "      <th>188</th>\n",
       "      <td>62396</td>\n",
       "      <td>16809</td>\n",
       "      <td>1337</td>\n",
       "      <td>17917</td>\n",
       "      <td>5211</td>\n",
       "      <td>42386</td>\n",
       "      <td>20010</td>\n",
       "      <td>1519167</td>\n",
       "      <td>11670</td>\n",
       "      <td>NaN</td>\n",
       "      <td>NaN</td>\n",
       "      <td>Field_L</td>\n",
       "      <td>558.515</td>\n",
       "      <td>2317.25</td>\n",
       "      <td>2420.0</td>\n",
       "      <td>-722.499502</td>\n",
       "      <td>0.259982</td>\n",
       "      <td>0.271186</td>\n",
       "      <td>-0.270191</td>\n",
       "      <td>0.787037</td>\n",
       "      <td>0.219341</td>\n",
       "      <td>0.221591</td>\n",
       "      <td>-0.069458</td>\n",
       "      <td>0.944631</td>\n",
       "      <td>0.242928</td>\n",
       "      <td>0.186992</td>\n",
       "      <td>1.414023</td>\n",
       "      <td>0.157488</td>\n",
       "      <td>0.166742</td>\n",
       "      <td>0.168627</td>\n",
       "      <td>-0.07646</td>\n",
       "      <td>0.939059</td>\n",
       "      <td>NaN</td>\n",
       "      <td>NaN</td>\n",
       "      <td>NaN</td>\n",
       "      <td>NaN</td>\n",
       "      <td>NaN</td>\n",
       "      <td>NaN</td>\n",
       "      <td>NaN</td>\n",
       "      <td>NaN</td>\n",
       "      <td>NaN</td>\n",
       "      <td>NaN</td>\n",
       "      <td>NaN</td>\n",
       "      <td>NaN</td>\n",
       "      <td>NaN</td>\n",
       "      <td>NaN</td>\n",
       "      <td>NaN</td>\n",
       "      <td>NaN</td>\n",
       "      <td>NaN</td>\n",
       "      <td>NaN</td>\n",
       "      <td>NaN</td>\n",
       "      <td>NaN</td>\n",
       "      <td>B1597</td>\n",
       "      <td>True</td>\n",
       "      <td>0.433930</td>\n",
       "      <td>85.0</td>\n",
       "      <td>15.855983</td>\n",
       "      <td>0</td>\n",
       "      <td>[46.5, 46.588588588588586, 46.67717717717718, ...</td>\n",
       "      <td>[0.08471652194211443, 0.08487791800897435, 0.0...</td>\n",
       "      <td>-447.00</td>\n",
       "    </tr>\n",
       "  </tbody>\n",
       "</table>\n",
       "</div>"
      ],
      "text/plain": [
       "     n_trials n_cued_trials n_incorrect_trials n_correct_trials  \\\n",
       "1185   135308         22462               2952            21969   \n",
       "188     62396         16809               1337            17917   \n",
       "\n",
       "     n_reward_trials n_passive_trials n_active_trials n_spikes   unit  \\\n",
       "1185            7852           108288           27020  3782468   3428   \n",
       "188             5211            42386           20010  1519167  11670   \n",
       "\n",
       "     hemisphere labeled_region estimated_nuclei distance_to_estimated_nuclei  \\\n",
       "1185        NaN            NaN              NCL                       494.54   \n",
       "188         NaN            NaN          Field_L                      558.515   \n",
       "\n",
       "           ML      AP          DV AE_mean_correct AE_mean_incorrect  \\\n",
       "1185  2731.25  2420.0 -802.499502        0.343833              0.32   \n",
       "188   2317.25  2420.0 -722.499502        0.259982          0.271186   \n",
       "\n",
       "     AE_correct_t AE_correct_p AF_mean_correct AF_mean_incorrect AF_correct_t  \\\n",
       "1185      0.71855     0.472486        0.283934          0.227941     1.947703   \n",
       "188     -0.270191     0.787037        0.219341          0.221591    -0.069458   \n",
       "\n",
       "     AF_correct_p BF_mean_correct BF_mean_incorrect BF_correct_t BF_correct_p  \\\n",
       "1185     0.051562         0.31675          0.330396    -0.420082     0.674463   \n",
       "188      0.944631        0.242928          0.186992     1.414023     0.157488   \n",
       "\n",
       "     BE_mean_correct BE_mean_incorrect BE_correct_t BE_correct_p  \\\n",
       "1185        0.195622          0.157143     1.703268      0.08864   \n",
       "188         0.166742          0.168627     -0.07646     0.939059   \n",
       "\n",
       "     BG_mean_correct BG_mean_incorrect BG_correct_t BG_correct_p  \\\n",
       "1185        0.198992          0.144444     1.192916     0.233485   \n",
       "188              NaN               NaN          NaN          NaN   \n",
       "\n",
       "     CE_mean_correct CE_mean_incorrect CE_correct_t CE_correct_p  \\\n",
       "1185        0.152709          0.131313     0.535872     0.592284   \n",
       "188              NaN               NaN          NaN          NaN   \n",
       "\n",
       "     CG_mean_correct CG_mean_incorrect CG_correct_t CG_correct_p  \\\n",
       "1185        0.225962          0.170732      1.10831     0.268265   \n",
       "188              NaN               NaN          NaN          NaN   \n",
       "\n",
       "     AG_mean_correct AG_mean_incorrect AG_correct_t AG_correct_p  \\\n",
       "1185        0.248815          0.326316    -1.550623     0.121606   \n",
       "188              NaN               NaN          NaN          NaN   \n",
       "\n",
       "     CF_mean_correct CF_mean_incorrect CF_correct_t CF_correct_p   bird  \\\n",
       "1185        0.288416           0.15625     2.223578     0.026637  B1597   \n",
       "188              NaN               NaN          NaN          NaN  B1597   \n",
       "\n",
       "      categorical_unit  categoricality    fw         sr  unit_type  \\\n",
       "1185              True        0.499018  43.0  25.960996          1   \n",
       "188               True        0.433930  85.0  15.855983          0   \n",
       "\n",
       "                                    best_chan_templates  \\\n",
       "1185  [14.0, 13.911411411411411, 13.822822822822824,...   \n",
       "188   [46.5, 46.588588588588586, 46.67717717717718, ...   \n",
       "\n",
       "                               best_chan_templates_norm  amplitude  \n",
       "1185  [0.01709673880257429, 0.0169885548054323, 0.01...    -560.25  \n",
       "188   [0.08471652194211443, 0.08487791800897435, 0.0...    -447.00  "
      ]
     },
     "execution_count": 15,
     "metadata": {},
     "output_type": "execute_result"
    }
   ],
   "source": [
    "unit_statistics_df[:2]"
   ]
  },
  {
   "cell_type": "code",
   "execution_count": 16,
   "id": "ef74340b",
   "metadata": {},
   "outputs": [],
   "source": [
    "unit_statistics_df[\"bird_unit\"] = [\"_\".join([row.bird, row.unit]) for idx, row in unit_statistics_df.iterrows()]"
   ]
  },
  {
   "cell_type": "markdown",
   "id": "2aa02276",
   "metadata": {},
   "source": [
    "### Set rows to stims"
   ]
  },
  {
   "cell_type": "code",
   "execution_count": 17,
   "id": "ba4cc0da",
   "metadata": {},
   "outputs": [],
   "source": [
    "interps = ['AE', 'AF', 'AG', 'BE', 'BF', 'BG',  'CE', 'CF', 'CG'] #['AE', 'AF', 'BE', 'BF']"
   ]
  },
  {
   "cell_type": "code",
   "execution_count": 33,
   "id": "d5afd2f1",
   "metadata": {
    "scrolled": true
   },
   "outputs": [
    {
     "name": "stderr",
     "output_type": "stream",
     "text": [
      "100%|██████████| 6754/6754 [00:32<00:00, 206.92it/s] \n"
     ]
    }
   ],
   "source": [
    "acc_df_interp = pd.DataFrame(\n",
    "    #index = np.arange(len(unit_statistics_df)*len(interps)),\n",
    "    columns = ['interp', 'unit', 'bird', 'mean_incorrect', 'mean_correct', 'correct_t', 'correct_p'] \n",
    ")\n",
    "i = 0\n",
    "n_skip = 0\n",
    "for axi, (idx, row) in tqdm(enumerate(unit_statistics_df.iterrows()), total = len(unit_statistics_df)):\n",
    "    for interp in interps:    \n",
    "        \n",
    "        if np.isnan(row[f'{interp}_mean_correct']):\n",
    "            continue\n",
    "        if np.isnan(row[f'{interp}_mean_incorrect']):\n",
    "            continue\n",
    "        \n",
    "        if np.mean(row[f'{interp}_mean_correct']) < 1/16:\n",
    "            continue\n",
    "            \n",
    "        #acc_df_interp.loc[i] = (\n",
    "        acc_df_interp.loc[len(acc_df_interp)] = (\n",
    "            [\n",
    "                interp,\n",
    "                row.bird_unit,\n",
    "                row.bird,\n",
    "                row[f'{interp}_mean_incorrect'],\n",
    "                row[f'{interp}_mean_correct'],\n",
    "                row[f'{interp}_correct_t'],\n",
    "                row[f'{interp}_correct_p'],\n",
    "                \n",
    "                \n",
    "                   ]\n",
    "                \n",
    "        )\n",
    "        i+=1"
   ]
  },
  {
   "cell_type": "code",
   "execution_count": 34,
   "id": "2cc089e8",
   "metadata": {},
   "outputs": [
    {
     "name": "stdout",
     "output_type": "stream",
     "text": [
      "prop units where sufficient data is available 0.7016582765768433\n"
     ]
    }
   ],
   "source": [
    "# only include interpolations where there are at least 1 sample for each cue / interp point\n",
    "prop_units = len(np.unique(acc_df_interp.unit)) / len(unit_statistics_df)\n",
    "print(f\"prop units where sufficient data is available {prop_units}\")"
   ]
  },
  {
   "cell_type": "code",
   "execution_count": 35,
   "id": "5f0a2dfe",
   "metadata": {},
   "outputs": [
    {
     "data": {
      "text/html": [
       "<div>\n",
       "<style scoped>\n",
       "    .dataframe tbody tr th:only-of-type {\n",
       "        vertical-align: middle;\n",
       "    }\n",
       "\n",
       "    .dataframe tbody tr th {\n",
       "        vertical-align: top;\n",
       "    }\n",
       "\n",
       "    .dataframe thead th {\n",
       "        text-align: right;\n",
       "    }\n",
       "</style>\n",
       "<table border=\"1\" class=\"dataframe\">\n",
       "  <thead>\n",
       "    <tr style=\"text-align: right;\">\n",
       "      <th></th>\n",
       "      <th>interp</th>\n",
       "      <th>unit</th>\n",
       "      <th>bird</th>\n",
       "      <th>mean_incorrect</th>\n",
       "      <th>mean_correct</th>\n",
       "      <th>correct_t</th>\n",
       "      <th>correct_p</th>\n",
       "    </tr>\n",
       "  </thead>\n",
       "  <tbody>\n",
       "    <tr>\n",
       "      <th>0</th>\n",
       "      <td>AE</td>\n",
       "      <td>B1597_3428</td>\n",
       "      <td>B1597</td>\n",
       "      <td>0.320000</td>\n",
       "      <td>0.343833</td>\n",
       "      <td>0.718550</td>\n",
       "      <td>0.472486</td>\n",
       "    </tr>\n",
       "    <tr>\n",
       "      <th>1</th>\n",
       "      <td>AF</td>\n",
       "      <td>B1597_3428</td>\n",
       "      <td>B1597</td>\n",
       "      <td>0.227941</td>\n",
       "      <td>0.283934</td>\n",
       "      <td>1.947703</td>\n",
       "      <td>0.051562</td>\n",
       "    </tr>\n",
       "    <tr>\n",
       "      <th>2</th>\n",
       "      <td>AG</td>\n",
       "      <td>B1597_3428</td>\n",
       "      <td>B1597</td>\n",
       "      <td>0.326316</td>\n",
       "      <td>0.248815</td>\n",
       "      <td>-1.550623</td>\n",
       "      <td>0.121606</td>\n",
       "    </tr>\n",
       "  </tbody>\n",
       "</table>\n",
       "</div>"
      ],
      "text/plain": [
       "  interp        unit   bird  mean_incorrect  mean_correct  correct_t  \\\n",
       "0     AE  B1597_3428  B1597        0.320000      0.343833   0.718550   \n",
       "1     AF  B1597_3428  B1597        0.227941      0.283934   1.947703   \n",
       "2     AG  B1597_3428  B1597        0.326316      0.248815  -1.550623   \n",
       "\n",
       "   correct_p  \n",
       "0   0.472486  \n",
       "1   0.051562  \n",
       "2   0.121606  "
      ]
     },
     "execution_count": 35,
     "metadata": {},
     "output_type": "execute_result"
    }
   ],
   "source": [
    "acc_df_interp[:3]"
   ]
  },
  {
   "cell_type": "code",
   "execution_count": 59,
   "id": "dd9b8744",
   "metadata": {},
   "outputs": [],
   "source": [
    "correctness_diff = acc_df_interp.mean_correct.values  - acc_df_interp.mean_incorrect.values\n",
    "acc_df_interp['correctness_diff'] = correctness_diff"
   ]
  },
  {
   "cell_type": "code",
   "execution_count": 60,
   "id": "ab56e803",
   "metadata": {},
   "outputs": [
    {
     "data": {
      "text/plain": [
       "(0.0029784385135286163, 0.012598425196850394)"
      ]
     },
     "execution_count": 60,
     "metadata": {},
     "output_type": "execute_result"
    }
   ],
   "source": [
    "np.mean(correctness_diff), np.median(correctness_diff)"
   ]
  },
  {
   "cell_type": "code",
   "execution_count": 66,
   "id": "86194dee",
   "metadata": {},
   "outputs": [],
   "source": [
    "mean_diff_by_unit = acc_df_interp[['unit', 'correctness_diff']].groupby(by=\"unit\").mean()"
   ]
  },
  {
   "cell_type": "code",
   "execution_count": 67,
   "id": "8299b29a",
   "metadata": {},
   "outputs": [
    {
     "data": {
      "text/html": [
       "<div>\n",
       "<style scoped>\n",
       "    .dataframe tbody tr th:only-of-type {\n",
       "        vertical-align: middle;\n",
       "    }\n",
       "\n",
       "    .dataframe tbody tr th {\n",
       "        vertical-align: top;\n",
       "    }\n",
       "\n",
       "    .dataframe thead th {\n",
       "        text-align: right;\n",
       "    }\n",
       "</style>\n",
       "<table border=\"1\" class=\"dataframe\">\n",
       "  <thead>\n",
       "    <tr style=\"text-align: right;\">\n",
       "      <th></th>\n",
       "      <th>correctness_diff</th>\n",
       "    </tr>\n",
       "    <tr>\n",
       "      <th>unit</th>\n",
       "      <th></th>\n",
       "    </tr>\n",
       "  </thead>\n",
       "  <tbody>\n",
       "    <tr>\n",
       "      <th>B1170_1002</th>\n",
       "      <td>-0.008004</td>\n",
       "    </tr>\n",
       "    <tr>\n",
       "      <th>B1170_1027</th>\n",
       "      <td>0.003943</td>\n",
       "    </tr>\n",
       "    <tr>\n",
       "      <th>B1170_1037</th>\n",
       "      <td>0.000220</td>\n",
       "    </tr>\n",
       "    <tr>\n",
       "      <th>B1170_1038</th>\n",
       "      <td>0.010374</td>\n",
       "    </tr>\n",
       "    <tr>\n",
       "      <th>B1170_1044</th>\n",
       "      <td>-0.007136</td>\n",
       "    </tr>\n",
       "    <tr>\n",
       "      <th>...</th>\n",
       "      <td>...</td>\n",
       "    </tr>\n",
       "    <tr>\n",
       "      <th>B1597_9830</th>\n",
       "      <td>0.026322</td>\n",
       "    </tr>\n",
       "    <tr>\n",
       "      <th>B1597_9918</th>\n",
       "      <td>0.015613</td>\n",
       "    </tr>\n",
       "    <tr>\n",
       "      <th>B1597_9962</th>\n",
       "      <td>0.015992</td>\n",
       "    </tr>\n",
       "    <tr>\n",
       "      <th>B1597_9967</th>\n",
       "      <td>0.098081</td>\n",
       "    </tr>\n",
       "    <tr>\n",
       "      <th>B1597_9975</th>\n",
       "      <td>-0.045183</td>\n",
       "    </tr>\n",
       "  </tbody>\n",
       "</table>\n",
       "<p>4739 rows × 1 columns</p>\n",
       "</div>"
      ],
      "text/plain": [
       "            correctness_diff\n",
       "unit                        \n",
       "B1170_1002         -0.008004\n",
       "B1170_1027          0.003943\n",
       "B1170_1037          0.000220\n",
       "B1170_1038          0.010374\n",
       "B1170_1044         -0.007136\n",
       "...                      ...\n",
       "B1597_9830          0.026322\n",
       "B1597_9918          0.015613\n",
       "B1597_9962          0.015992\n",
       "B1597_9967          0.098081\n",
       "B1597_9975         -0.045183\n",
       "\n",
       "[4739 rows x 1 columns]"
      ]
     },
     "execution_count": 67,
     "metadata": {},
     "output_type": "execute_result"
    }
   ],
   "source": [
    "mean_diff_by_unit"
   ]
  },
  {
   "cell_type": "code",
   "execution_count": 68,
   "id": "4258ae3b",
   "metadata": {},
   "outputs": [
    {
     "data": {
      "text/plain": [
       "0.5722726313568264"
      ]
     },
     "execution_count": 68,
     "metadata": {},
     "output_type": "execute_result"
    }
   ],
   "source": [
    "np.mean(mean_diff_by_unit.correctness_diff > 0)"
   ]
  },
  {
   "cell_type": "code",
   "execution_count": 71,
   "id": "97df912c",
   "metadata": {},
   "outputs": [
    {
     "data": {
      "text/plain": [
       "TtestResult(statistic=4.894890054033204, pvalue=1.0162744081047937e-06, df=4738)"
      ]
     },
     "execution_count": 71,
     "metadata": {},
     "output_type": "execute_result"
    }
   ],
   "source": [
    "scipy.stats.ttest_1samp(mean_diff_by_unit.correctness_diff, 0)"
   ]
  },
  {
   "cell_type": "code",
   "execution_count": 70,
   "id": "7ebc1e4d",
   "metadata": {},
   "outputs": [
    {
     "data": {
      "text/plain": [
       "BinomTestResult(k=2712, n=4739, alternative='two-sided', statistic=0.5722726313568264, pvalue=2.441272324328651e-23)"
      ]
     },
     "execution_count": 70,
     "metadata": {},
     "output_type": "execute_result"
    }
   ],
   "source": [
    "scipy.stats.binomtest(\n",
    "    np.sum(mean_diff_by_unit.correctness_diff > 0), n=len(mean_diff_by_unit), p=0.5\n",
    ")"
   ]
  },
  {
   "cell_type": "code",
   "execution_count": 63,
   "id": "08f904ba",
   "metadata": {},
   "outputs": [
    {
     "data": {
      "text/plain": [
       "0.5595727702412375"
      ]
     },
     "execution_count": 63,
     "metadata": {},
     "output_type": "execute_result"
    }
   ],
   "source": [
    "np.mean(acc_df_interp.mean_correct.values  > acc_df_interp.mean_incorrect.values)"
   ]
  },
  {
   "cell_type": "code",
   "execution_count": 62,
   "id": "0cc284f3",
   "metadata": {},
   "outputs": [
    {
     "data": {
      "text/plain": [
       "(-0.25, 0.25)"
      ]
     },
     "execution_count": 62,
     "metadata": {},
     "output_type": "execute_result"
    },
    {
     "data": {
      "image/png": "[encoded data removed]",
      "text/plain": [
       "<Figure size 640x480 with 1 Axes>"
      ]
     },
     "metadata": {},
     "output_type": "display_data"
    }
   ],
   "source": [
    "fig, ax = plt.subplots()\n",
    "ax.hist(correctness_diff, bins=np.linspace(-1,1,100));\n",
    "ax.axvline(np.mean(correctness_diff), color = 'red')\n",
    "ax.axvline(0, color = 'k')\n",
    "ax.set_xlim([-0.25,0.25])"
   ]
  },
  {
   "cell_type": "code",
   "execution_count": null,
   "id": "e50f989f",
   "metadata": {},
   "outputs": [],
   "source": []
  }
 ],
 "metadata": {
  "kernelspec": {
   "display_name": "cdcp_paper",
   "language": "python",
   "name": "cdcp_paper"
  },
  "language_info": {
   "codemirror_mode": {
    "name": "ipython",
    "version": 3
   },
   "file_extension": ".py",
   "mimetype": "text/x-python",
   "name": "python",
   "nbconvert_exporter": "python",
   "pygments_lexer": "ipython3",
   "version": "3.9.16"
  }
 },
 "nbformat": 4,
 "nbformat_minor": 5
}
