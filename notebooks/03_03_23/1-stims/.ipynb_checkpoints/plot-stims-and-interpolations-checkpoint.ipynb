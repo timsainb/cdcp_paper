{
 "cells": [
  {
   "cell_type": "code",
   "execution_count": 1,
   "id": "246c2a79",
   "metadata": {},
   "outputs": [],
   "source": [
    "%load_ext autoreload\n",
    "%autoreload 2"
   ]
  },
  {
   "cell_type": "code",
   "execution_count": 2,
   "id": "595030c5",
   "metadata": {},
   "outputs": [
    {
     "name": "stderr",
     "output_type": "stream",
     "text": [
      "/tmp/ipykernel_28020/3784489319.py:4: TqdmExperimentalWarning: Using `tqdm.autonotebook.tqdm` in notebook mode. Use `tqdm.tqdm` instead to force console mode (e.g. in jupyter console)\n",
      "  from tqdm.autonotebook import tqdm\n"
     ]
    }
   ],
   "source": [
    "import numpy as np\n",
    "import pandas as pd\n",
    "import matplotlib.pyplot as plt\n",
    "from tqdm.autonotebook import tqdm\n",
    "pd.set_option('display.max_columns', 500)\n",
    "import seaborn as sns"
   ]
  },
  {
   "cell_type": "code",
   "execution_count": 3,
   "id": "0a885394",
   "metadata": {},
   "outputs": [
    {
     "data": {
      "text/plain": [
       "(('B1174',\n",
       "  'B1426',\n",
       "  'B1170',\n",
       "  'B1432',\n",
       "  'B1437',\n",
       "  'B1433',\n",
       "  'B1597',\n",
       "  'B1427',\n",
       "  'B1188',\n",
       "  'B1244',\n",
       "  'B1590',\n",
       "  'B1399',\n",
       "  'B1591',\n",
       "  'B1252',\n",
       "  'B1110',\n",
       "  'B1390',\n",
       "  'B1248',\n",
       "  'B1593',\n",
       "  'B1595',\n",
       "  'B1276'),\n",
       " PosixPath('/mnt/cube/RawData/Magpi'))"
      ]
     },
     "execution_count": 3,
     "metadata": {},
     "output_type": "execute_result"
    }
   ],
   "source": [
    "from cdcp.experiment_info import subjects\n",
    "from cdcp.paths import DATA_PATH_MAGPI, DATA_DIR\n",
    "from cdcp.behavior.data import prepare_behavior_data\n",
    "from cdcp.visualization.colors import colors\n",
    "subjects, DATA_PATH_MAGPI"
   ]
  },
  {
   "cell_type": "code",
   "execution_count": 4,
   "id": "58430141",
   "metadata": {},
   "outputs": [],
   "source": [
    "# pickled dataframes\n",
    "stim_df = pd.read_pickle(DATA_DIR / 'stimuli' / 'stim_df.pickle.zip' , compression='zip')"
   ]
  },
  {
   "cell_type": "code",
   "execution_count": 5,
   "id": "fc6c9638",
   "metadata": {},
   "outputs": [
    {
     "data": {
      "text/html": [
       "<div>\n",
       "<style scoped>\n",
       "    .dataframe tbody tr th:only-of-type {\n",
       "        vertical-align: middle;\n",
       "    }\n",
       "\n",
       "    .dataframe tbody tr th {\n",
       "        vertical-align: top;\n",
       "    }\n",
       "\n",
       "    .dataframe thead th {\n",
       "        text-align: right;\n",
       "    }\n",
       "</style>\n",
       "<table border=\"1\" class=\"dataframe\">\n",
       "  <thead>\n",
       "    <tr style=\"text-align: right;\">\n",
       "      <th></th>\n",
       "      <th>stims</th>\n",
       "      <th>idx</th>\n",
       "      <th>z</th>\n",
       "      <th>x</th>\n",
       "      <th>recon_x</th>\n",
       "      <th>syll_wav</th>\n",
       "      <th>wav_file</th>\n",
       "      <th>stim_length</th>\n",
       "      <th>syll_start</th>\n",
       "      <th>bird</th>\n",
       "      <th>datetime</th>\n",
       "      <th>generated_audio</th>\n",
       "    </tr>\n",
       "  </thead>\n",
       "  <tbody>\n",
       "    <tr>\n",
       "      <th>A</th>\n",
       "      <td>A</td>\n",
       "      <td>0</td>\n",
       "      <td>[-1.5310783386230469, 0.15899673104286194, -0....</td>\n",
       "      <td>[0.0, 0.0, 0.0, 0.0, 0.0, 0.0, 0.0, 0.0, 0.0, ...</td>\n",
       "      <td>[2.354109710722696e-05, 2.357472340008826e-06,...</td>\n",
       "      <td>[-18, -21, -18, -19, -23, -16, -15, -24, -17, ...</td>\n",
       "      <td>../../data/interim/st_wavs/b1077/wavs/2018-01-...</td>\n",
       "      <td>0.606612</td>\n",
       "      <td>1853779.625</td>\n",
       "      <td>b1077</td>\n",
       "      <td>05/01/18 13:33:29.485819</td>\n",
       "      <td>[6, 2, -5, -7, -12, -5, 0, 1, 13, 2, 6, 20, 24...</td>\n",
       "    </tr>\n",
       "    <tr>\n",
       "      <th>B</th>\n",
       "      <td>B</td>\n",
       "      <td>1</td>\n",
       "      <td>[1.0914186239242554, -0.4693475067615509, -1.8...</td>\n",
       "      <td>[0.0, 0.0, 0.0, 0.0, 0.0, 0.0, 0.0, 0.0, 0.0, ...</td>\n",
       "      <td>[3.042301386813051e-06, 7.268283184203028e-07,...</td>\n",
       "      <td>[-69, -71, -58, -53, -42, -45, -37, -50, -64, ...</td>\n",
       "      <td>../../data/interim/st_wavs/b1159/wavs/2018-04-...</td>\n",
       "      <td>0.311291</td>\n",
       "      <td>1481033.000</td>\n",
       "      <td>b1159</td>\n",
       "      <td>21/04/18 18:13:16.363514</td>\n",
       "      <td>[-2, 0, -16, -54, -57, -23, -42, -44, -62, -49...</td>\n",
       "    </tr>\n",
       "    <tr>\n",
       "      <th>C</th>\n",
       "      <td>C</td>\n",
       "      <td>2</td>\n",
       "      <td>[1.3686274290084839, 1.2882750034332275, -0.63...</td>\n",
       "      <td>[0.0, 0.0, 0.0, 0.0, 0.0, 0.0, 0.0, 0.0, 0.0, ...</td>\n",
       "      <td>[3.574187132926454e-07, 4.783260010299273e-08,...</td>\n",
       "      <td>[22, 20, 26, 25, 15, 12, 12, 15, 15, 26, 34, 2...</td>\n",
       "      <td>../../data/interim/st_wavs/B338/wavs/2008-05-0...</td>\n",
       "      <td>0.309285</td>\n",
       "      <td>1494092.875</td>\n",
       "      <td>B338</td>\n",
       "      <td>04/05/08 18:56:33.879657</td>\n",
       "      <td>[0, 3, 6, 0, 2, 4, 14, 19, 20, 22, 27, 28, 27,...</td>\n",
       "    </tr>\n",
       "  </tbody>\n",
       "</table>\n",
       "</div>"
      ],
      "text/plain": [
       "  stims  idx                                                  z  \\\n",
       "A     A    0  [-1.5310783386230469, 0.15899673104286194, -0....   \n",
       "B     B    1  [1.0914186239242554, -0.4693475067615509, -1.8...   \n",
       "C     C    2  [1.3686274290084839, 1.2882750034332275, -0.63...   \n",
       "\n",
       "                                                   x  \\\n",
       "A  [0.0, 0.0, 0.0, 0.0, 0.0, 0.0, 0.0, 0.0, 0.0, ...   \n",
       "B  [0.0, 0.0, 0.0, 0.0, 0.0, 0.0, 0.0, 0.0, 0.0, ...   \n",
       "C  [0.0, 0.0, 0.0, 0.0, 0.0, 0.0, 0.0, 0.0, 0.0, ...   \n",
       "\n",
       "                                             recon_x  \\\n",
       "A  [2.354109710722696e-05, 2.357472340008826e-06,...   \n",
       "B  [3.042301386813051e-06, 7.268283184203028e-07,...   \n",
       "C  [3.574187132926454e-07, 4.783260010299273e-08,...   \n",
       "\n",
       "                                            syll_wav  \\\n",
       "A  [-18, -21, -18, -19, -23, -16, -15, -24, -17, ...   \n",
       "B  [-69, -71, -58, -53, -42, -45, -37, -50, -64, ...   \n",
       "C  [22, 20, 26, 25, 15, 12, 12, 15, 15, 26, 34, 2...   \n",
       "\n",
       "                                            wav_file  stim_length  \\\n",
       "A  ../../data/interim/st_wavs/b1077/wavs/2018-01-...     0.606612   \n",
       "B  ../../data/interim/st_wavs/b1159/wavs/2018-04-...     0.311291   \n",
       "C  ../../data/interim/st_wavs/B338/wavs/2008-05-0...     0.309285   \n",
       "\n",
       "    syll_start   bird                  datetime  \\\n",
       "A  1853779.625  b1077  05/01/18 13:33:29.485819   \n",
       "B  1481033.000  b1159  21/04/18 18:13:16.363514   \n",
       "C  1494092.875   B338  04/05/08 18:56:33.879657   \n",
       "\n",
       "                                     generated_audio  \n",
       "A  [6, 2, -5, -7, -12, -5, 0, 1, 13, 2, 6, 20, 24...  \n",
       "B  [-2, 0, -16, -54, -57, -23, -42, -44, -62, -49...  \n",
       "C  [0, 3, 6, 0, 2, 4, 14, 19, 20, 22, 27, 28, 27,...  "
      ]
     },
     "execution_count": 5,
     "metadata": {},
     "output_type": "execute_result"
    }
   ],
   "source": [
    "stim_df[:3]"
   ]
  },
  {
   "cell_type": "code",
   "execution_count": null,
   "id": "ee48a6b3",
   "metadata": {},
   "outputs": [
    {
     "data": {
      "application/vnd.jupyter.widget-view+json": {
       "model_id": "c5e4a13fcc434739aa4af6cfcc67435a",
       "version_major": 2,
       "version_minor": 0
      },
      "text/plain": [
       "  0%|          | 0/56 [00:00<?, ?it/s]"
      ]
     },
     "metadata": {},
     "output_type": "display_data"
    }
   ],
   "source": [
    "interp_df = []\n",
    "for i in tqdm(list((DATA_DIR / 'stimuli').glob('interp_df*'))):\n",
    "    print(i)\n",
    "    interp_df.append(pd.read_pickle(i , compression='zip'))"
   ]
  },
  {
   "cell_type": "code",
   "execution_count": null,
   "id": "7368be6c",
   "metadata": {},
   "outputs": [],
   "source": [
    "interp_df = pd.concat(interp_df)"
   ]
  },
  {
   "cell_type": "code",
   "execution_count": null,
   "id": "7c81c506",
   "metadata": {},
   "outputs": [],
   "source": []
  }
 ],
 "metadata": {
  "kernelspec": {
   "display_name": "cdcp_paper",
   "language": "python",
   "name": "cdcp_paper"
  },
  "language_info": {
   "codemirror_mode": {
    "name": "ipython",
    "version": 3
   },
   "file_extension": ".py",
   "mimetype": "text/x-python",
   "name": "python",
   "nbconvert_exporter": "python",
   "pygments_lexer": "ipython3",
   "version": "3.9.16"
  }
 },
 "nbformat": 4,
 "nbformat_minor": 5
}
