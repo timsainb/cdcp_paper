{
 "cells": [
  {
   "cell_type": "code",
   "execution_count": 1,
   "id": "cef6c39c",
   "metadata": {
    "ExecuteTime": {
     "end_time": "2022-01-23T20:31:09.094117Z",
     "start_time": "2022-01-23T20:31:09.078531Z"
    }
   },
   "outputs": [],
   "source": [
    "%load_ext autoreload\n",
    "%autoreload 2"
   ]
  },
  {
   "cell_type": "code",
   "execution_count": 2,
   "id": "e8fd39fe",
   "metadata": {
    "ExecuteTime": {
     "end_time": "2022-01-23T20:31:09.114221Z",
     "start_time": "2022-01-23T20:31:09.096368Z"
    }
   },
   "outputs": [],
   "source": [
    "import os\n",
    "# set to be lower priority\n",
    "#os.nice(1) "
   ]
  },
  {
   "cell_type": "code",
   "execution_count": 3,
   "id": "70cf8a5e",
   "metadata": {},
   "outputs": [],
   "source": [
    "import statsmodels.api as sm\n",
    "import statsmodels.formula.api as smf"
   ]
  },
  {
   "cell_type": "code",
   "execution_count": 4,
   "id": "f7441a86",
   "metadata": {},
   "outputs": [],
   "source": [
    "import warnings\n",
    "warnings.filterwarnings('ignore')"
   ]
  },
  {
   "cell_type": "code",
   "execution_count": 5,
   "id": "ba1df691",
   "metadata": {},
   "outputs": [],
   "source": [
    "from pathlib import Path\n",
    "def ensure_dir(path):\n",
    "    path.mkdir(parents=True, exist_ok=True)\n",
    "\n",
    "DATA_DIR = Path('/n/groups/datta/tim_sainburg/projects/CDCP_paper/data/')"
   ]
  },
  {
   "cell_type": "code",
   "execution_count": 6,
   "id": "29edc857",
   "metadata": {
    "ExecuteTime": {
     "end_time": "2022-01-23T20:31:09.888832Z",
     "start_time": "2022-01-23T20:31:09.116242Z"
    }
   },
   "outputs": [],
   "source": [
    "import pandas  as pd\n",
    "#from cdcp.paths import DATA_DIR, ensure_dir\n",
    "import numpy as np\n",
    "import matplotlib.pyplot as plt\n",
    "import datetime\n",
    "from pathlib import Path\n",
    "from tqdm.autonotebook import tqdm\n",
    "pd.set_option('display.max_columns', 500)\n",
    "from joblib import Parallel, delayed"
   ]
  },
  {
   "cell_type": "code",
   "execution_count": 7,
   "id": "bba7607d",
   "metadata": {},
   "outputs": [],
   "source": [
    "from pathlib import Path\n",
    "def ensure_dir(path):\n",
    "    path.mkdir(parents=True, exist_ok=True)\n",
    "\n",
    "DATA_DIR = Path('/n/groups/datta/tim_sainburg/projects/CDCP_paper/data/')"
   ]
  },
  {
   "cell_type": "code",
   "execution_count": 8,
   "id": "3bf16e5f",
   "metadata": {},
   "outputs": [
    {
     "data": {
      "text/plain": [
       "[PosixPath('/n/groups/datta/tim_sainburg/projects/CDCP_paper/data/spikerate_variance/B1595.csv'),\n",
       " PosixPath('/n/groups/datta/tim_sainburg/projects/CDCP_paper/data/spikerate_variance/B1593.csv'),\n",
       " PosixPath('/n/groups/datta/tim_sainburg/projects/CDCP_paper/data/spikerate_variance/B1426.csv'),\n",
       " PosixPath('/n/groups/datta/tim_sainburg/projects/CDCP_paper/data/spikerate_variance/B1170.csv'),\n",
       " PosixPath('/n/groups/datta/tim_sainburg/projects/CDCP_paper/data/spikerate_variance/B1244.csv'),\n",
       " PosixPath('/n/groups/datta/tim_sainburg/projects/CDCP_paper/data/spikerate_variance/B1248.csv'),\n",
       " PosixPath('/n/groups/datta/tim_sainburg/projects/CDCP_paper/data/spikerate_variance/B1432.csv'),\n",
       " PosixPath('/n/groups/datta/tim_sainburg/projects/CDCP_paper/data/spikerate_variance/B1597.csv'),\n",
       " PosixPath('/n/groups/datta/tim_sainburg/projects/CDCP_paper/data/spikerate_variance/B1188.csv')]"
      ]
     },
     "execution_count": 8,
     "metadata": {},
     "output_type": "execute_result"
    }
   ],
   "source": [
    "spikerate_variance_dfs = list((DATA_DIR / 'spikerate_variance').glob('*.csv'))\n",
    "spikerate_variance_dfs"
   ]
  },
  {
   "cell_type": "code",
   "execution_count": 9,
   "id": "f81b20f1",
   "metadata": {},
   "outputs": [],
   "source": [
    "all_unit_spikerates = pd.concat([pd.read_csv(i) for i in spikerate_variance_dfs])"
   ]
  },
  {
   "cell_type": "code",
   "execution_count": 10,
   "id": "ff41b5cd",
   "metadata": {},
   "outputs": [
    {
     "data": {
      "text/plain": [
       "417841"
      ]
     },
     "execution_count": 10,
     "metadata": {},
     "output_type": "execute_result"
    }
   ],
   "source": [
    "len(all_unit_spikerates)"
   ]
  },
  {
   "cell_type": "code",
   "execution_count": 11,
   "id": "a23ab6b0",
   "metadata": {},
   "outputs": [
    {
     "data": {
      "text/html": [
       "<div>\n",
       "<style scoped>\n",
       "    .dataframe tbody tr th:only-of-type {\n",
       "        vertical-align: middle;\n",
       "    }\n",
       "\n",
       "    .dataframe tbody tr th {\n",
       "        vertical-align: top;\n",
       "    }\n",
       "\n",
       "    .dataframe thead th {\n",
       "        text-align: right;\n",
       "    }\n",
       "</style>\n",
       "<table border=\"1\" class=\"dataframe\">\n",
       "  <thead>\n",
       "    <tr style=\"text-align: right;\">\n",
       "      <th></th>\n",
       "      <th>Unnamed: 0</th>\n",
       "      <th>cue_valid</th>\n",
       "      <th>stim_id</th>\n",
       "      <th>mean</th>\n",
       "      <th>std</th>\n",
       "      <th>count</th>\n",
       "      <th>unit</th>\n",
       "    </tr>\n",
       "  </thead>\n",
       "  <tbody>\n",
       "    <tr>\n",
       "      <th>0</th>\n",
       "      <td>0</td>\n",
       "      <td>invalid</td>\n",
       "      <td>CL0_0</td>\n",
       "      <td>1.428571</td>\n",
       "      <td>1.342460</td>\n",
       "      <td>14</td>\n",
       "      <td>B1595_387</td>\n",
       "    </tr>\n",
       "    <tr>\n",
       "      <th>1</th>\n",
       "      <td>1</td>\n",
       "      <td>invalid</td>\n",
       "      <td>CL0_1</td>\n",
       "      <td>1.076923</td>\n",
       "      <td>1.187542</td>\n",
       "      <td>13</td>\n",
       "      <td>B1595_387</td>\n",
       "    </tr>\n",
       "    <tr>\n",
       "      <th>2</th>\n",
       "      <td>2</td>\n",
       "      <td>invalid</td>\n",
       "      <td>CL0_2</td>\n",
       "      <td>1.565217</td>\n",
       "      <td>1.926516</td>\n",
       "      <td>23</td>\n",
       "      <td>B1595_387</td>\n",
       "    </tr>\n",
       "  </tbody>\n",
       "</table>\n",
       "</div>"
      ],
      "text/plain": [
       "   Unnamed: 0 cue_valid stim_id      mean       std  count       unit\n",
       "0           0   invalid   CL0_0  1.428571  1.342460     14  B1595_387\n",
       "1           1   invalid   CL0_1  1.076923  1.187542     13  B1595_387\n",
       "2           2   invalid   CL0_2  1.565217  1.926516     23  B1595_387"
      ]
     },
     "execution_count": 11,
     "metadata": {},
     "output_type": "execute_result"
    }
   ],
   "source": [
    "all_unit_spikerates[:3]"
   ]
  },
  {
   "cell_type": "code",
   "execution_count": 13,
   "id": "a23be247",
   "metadata": {},
   "outputs": [],
   "source": [
    "# split into stimuli and cue\n",
    "cues = [i.split('_')[0] for i in all_unit_spikerates.stim_id.values]\n",
    "stims = [i.split('_')[1] for i in all_unit_spikerates.stim_id.values]\n",
    "all_unit_spikerates['cues'] = cues\n",
    "all_unit_spikerates['stims'] = stims"
   ]
  },
  {
   "cell_type": "code",
   "execution_count": 14,
   "id": "5837c099",
   "metadata": {},
   "outputs": [
    {
     "data": {
      "text/html": [
       "<div>\n",
       "<style scoped>\n",
       "    .dataframe tbody tr th:only-of-type {\n",
       "        vertical-align: middle;\n",
       "    }\n",
       "\n",
       "    .dataframe tbody tr th {\n",
       "        vertical-align: top;\n",
       "    }\n",
       "\n",
       "    .dataframe thead th {\n",
       "        text-align: right;\n",
       "    }\n",
       "</style>\n",
       "<table border=\"1\" class=\"dataframe\">\n",
       "  <thead>\n",
       "    <tr style=\"text-align: right;\">\n",
       "      <th></th>\n",
       "      <th>Unnamed: 0</th>\n",
       "      <th>cue_valid</th>\n",
       "      <th>stim_id</th>\n",
       "      <th>mean</th>\n",
       "      <th>std</th>\n",
       "      <th>count</th>\n",
       "      <th>unit</th>\n",
       "      <th>cues</th>\n",
       "      <th>stims</th>\n",
       "    </tr>\n",
       "  </thead>\n",
       "  <tbody>\n",
       "    <tr>\n",
       "      <th>0</th>\n",
       "      <td>0</td>\n",
       "      <td>invalid</td>\n",
       "      <td>CL0_0</td>\n",
       "      <td>1.428571</td>\n",
       "      <td>1.342460</td>\n",
       "      <td>14</td>\n",
       "      <td>B1595_387</td>\n",
       "      <td>CL0</td>\n",
       "      <td>0</td>\n",
       "    </tr>\n",
       "    <tr>\n",
       "      <th>1</th>\n",
       "      <td>1</td>\n",
       "      <td>invalid</td>\n",
       "      <td>CL0_1</td>\n",
       "      <td>1.076923</td>\n",
       "      <td>1.187542</td>\n",
       "      <td>13</td>\n",
       "      <td>B1595_387</td>\n",
       "      <td>CL0</td>\n",
       "      <td>1</td>\n",
       "    </tr>\n",
       "    <tr>\n",
       "      <th>2</th>\n",
       "      <td>2</td>\n",
       "      <td>invalid</td>\n",
       "      <td>CL0_2</td>\n",
       "      <td>1.565217</td>\n",
       "      <td>1.926516</td>\n",
       "      <td>23</td>\n",
       "      <td>B1595_387</td>\n",
       "      <td>CL0</td>\n",
       "      <td>2</td>\n",
       "    </tr>\n",
       "  </tbody>\n",
       "</table>\n",
       "</div>"
      ],
      "text/plain": [
       "   Unnamed: 0 cue_valid stim_id      mean       std  count       unit cues  \\\n",
       "0           0   invalid   CL0_0  1.428571  1.342460     14  B1595_387  CL0   \n",
       "1           1   invalid   CL0_1  1.076923  1.187542     13  B1595_387  CL0   \n",
       "2           2   invalid   CL0_2  1.565217  1.926516     23  B1595_387  CL0   \n",
       "\n",
       "  stims  \n",
       "0     0  \n",
       "1     1  \n",
       "2     2  "
      ]
     },
     "execution_count": 14,
     "metadata": {},
     "output_type": "execute_result"
    }
   ],
   "source": [
    "all_unit_spikerates[:3]"
   ]
  },
  {
   "cell_type": "markdown",
   "id": "6dea10e2",
   "metadata": {},
   "source": [
    "### stats"
   ]
  },
  {
   "cell_type": "code",
   "execution_count": 29,
   "id": "99b829bd",
   "metadata": {},
   "outputs": [],
   "source": [
    "df = all_unit_spikerates.reset_index()[['stims', 'cue_valid', 'cues', 'unit', 'std']]\n",
    "df = df[pd.isnull(df['std']) == False]\n",
    "df['cues'] = df['cues'].astype('category')\n",
    "df['unit'] = df['unit'].astype('category')\n",
    "df['stims'] = df['stims'].astype('category')\n",
    "df['unit_stimulus_interaction'] = df['unit'].astype(str) + ':' + df['stims'].astype(str)\n",
    "df['unit_stimulus_interaction'] = df['unit_stimulus_interaction'].astype('category')\n",
    "df = df[df.cue_valid.isin(['valid', 'invalid'])]"
   ]
  },
  {
   "cell_type": "code",
   "execution_count": 30,
   "id": "488d8005",
   "metadata": {},
   "outputs": [
    {
     "data": {
      "text/html": [
       "<div>\n",
       "<style scoped>\n",
       "    .dataframe tbody tr th:only-of-type {\n",
       "        vertical-align: middle;\n",
       "    }\n",
       "\n",
       "    .dataframe tbody tr th {\n",
       "        vertical-align: top;\n",
       "    }\n",
       "\n",
       "    .dataframe thead th {\n",
       "        text-align: right;\n",
       "    }\n",
       "</style>\n",
       "<table border=\"1\" class=\"dataframe\">\n",
       "  <thead>\n",
       "    <tr style=\"text-align: right;\">\n",
       "      <th></th>\n",
       "      <th>stims</th>\n",
       "      <th>cue_valid</th>\n",
       "      <th>cues</th>\n",
       "      <th>unit</th>\n",
       "      <th>std</th>\n",
       "      <th>unit_stimulus_interaction</th>\n",
       "    </tr>\n",
       "  </thead>\n",
       "  <tbody>\n",
       "    <tr>\n",
       "      <th>0</th>\n",
       "      <td>0</td>\n",
       "      <td>invalid</td>\n",
       "      <td>CL0</td>\n",
       "      <td>B1595_387</td>\n",
       "      <td>1.342460</td>\n",
       "      <td>B1595_387:0</td>\n",
       "    </tr>\n",
       "    <tr>\n",
       "      <th>1</th>\n",
       "      <td>1</td>\n",
       "      <td>invalid</td>\n",
       "      <td>CL0</td>\n",
       "      <td>B1595_387</td>\n",
       "      <td>1.187542</td>\n",
       "      <td>B1595_387:1</td>\n",
       "    </tr>\n",
       "    <tr>\n",
       "      <th>2</th>\n",
       "      <td>2</td>\n",
       "      <td>invalid</td>\n",
       "      <td>CL0</td>\n",
       "      <td>B1595_387</td>\n",
       "      <td>1.926516</td>\n",
       "      <td>B1595_387:2</td>\n",
       "    </tr>\n",
       "  </tbody>\n",
       "</table>\n",
       "</div>"
      ],
      "text/plain": [
       "  stims cue_valid cues       unit       std unit_stimulus_interaction\n",
       "0     0   invalid  CL0  B1595_387  1.342460               B1595_387:0\n",
       "1     1   invalid  CL0  B1595_387  1.187542               B1595_387:1\n",
       "2     2   invalid  CL0  B1595_387  1.926516               B1595_387:2"
      ]
     },
     "execution_count": 30,
     "metadata": {},
     "output_type": "execute_result"
    }
   ],
   "source": [
    "df[:3]"
   ]
  },
  {
   "cell_type": "code",
   "execution_count": 31,
   "id": "9494d75e",
   "metadata": {},
   "outputs": [
    {
     "data": {
      "text/plain": [
       "85352"
      ]
     },
     "execution_count": 31,
     "metadata": {},
     "output_type": "execute_result"
    }
   ],
   "source": [
    "len(df.unit_stimulus_interaction.unique())"
   ]
  },
  {
   "cell_type": "code",
   "execution_count": 57,
   "id": "51e73f6d",
   "metadata": {},
   "outputs": [],
   "source": [
    "# Mixed Linear Model\n",
    "model = smf.mixedlm(\"std ~ cue_valid\", df, groups=df[\"unit_stimulus_interaction\"])"
   ]
  },
  {
   "cell_type": "code",
   "execution_count": 58,
   "id": "b15c55d2",
   "metadata": {},
   "outputs": [],
   "source": [
    "result = model.fit()"
   ]
  },
  {
   "cell_type": "code",
   "execution_count": 59,
   "id": "c0c8b019",
   "metadata": {},
   "outputs": [
    {
     "data": {
      "text/html": [
       "<table class=\"simpletable\">\n",
       "<tr>\n",
       "       <td>Model:</td>       <td>MixedLM</td> <td>Dependent Variable:</td>      <td>std</td>    \n",
       "</tr>\n",
       "<tr>\n",
       "  <td>No. Observations:</td> <td>262260</td>        <td>Method:</td>           <td>REML</td>    \n",
       "</tr>\n",
       "<tr>\n",
       "     <td>No. Groups:</td>     <td>85352</td>        <td>Scale:</td>           <td>6.6054</td>   \n",
       "</tr>\n",
       "<tr>\n",
       "  <td>Min. group size:</td>     <td>1</td>      <td>Log-Likelihood:</td>   <td>-699260.2369</td>\n",
       "</tr>\n",
       "<tr>\n",
       "  <td>Max. group size:</td>     <td>4</td>        <td>Converged:</td>           <td>Yes</td>    \n",
       "</tr>\n",
       "<tr>\n",
       "  <td>Mean group size:</td>    <td>3.1</td>            <td></td>                 <td></td>      \n",
       "</tr>\n",
       "</table>\n",
       "<table class=\"simpletable\">\n",
       "<tr>\n",
       "           <td></td>           <th>Coef.</th> <th>Std.Err.</th>    <th>z</th>    <th>P>|z|</th> <th>[0.025</th> <th>0.975]</th>\n",
       "</tr>\n",
       "<tr>\n",
       "  <th>Intercept</th>           <td>4.684</td>   <td>0.014</td>  <td>341.939</td> <td>0.000</td>  <td>4.657</td>  <td>4.711</td>\n",
       "</tr>\n",
       "<tr>\n",
       "  <th>cue_valid[T.valid]</th> <td>-0.515</td>   <td>0.011</td>  <td>-47.827</td> <td>0.000</td> <td>-0.536</td> <td>-0.494</td>\n",
       "</tr>\n",
       "<tr>\n",
       "  <th>Group Var</th>          <td>12.324</td>   <td>0.033</td>     <td></td>       <td></td>       <td></td>       <td></td>   \n",
       "</tr>\n",
       "</table><br/>\n"
      ],
      "text/latex": [
       "\\begin{table}\n",
       "\\caption{Mixed Linear Model Regression Results}\n",
       "\\label{}\n",
       "\\begin{center}\n",
       "\\begin{tabular}{llll}\n",
       "\\hline\n",
       "Model:            & MixedLM & Dependent Variable: & std           \\\\\n",
       "No. Observations: & 262260  & Method:             & REML          \\\\\n",
       "No. Groups:       & 85352   & Scale:              & 6.6054        \\\\\n",
       "Min. group size:  & 1       & Log-Likelihood:     & -699260.2369  \\\\\n",
       "Max. group size:  & 4       & Converged:          & Yes           \\\\\n",
       "Mean group size:  & 3.1     &                     &               \\\\\n",
       "\\hline\n",
       "\\end{tabular}\n",
       "\\end{center}\n",
       "\n",
       "\\begin{center}\n",
       "\\begin{tabular}{lrrrrrr}\n",
       "\\hline\n",
       "                    &  Coef. & Std.Err. &       z & P$> |$z$|$ & [0.025 & 0.975]  \\\\\n",
       "\\hline\n",
       "Intercept           &  4.684 &    0.014 & 341.939 &       0.000 &  4.657 &  4.711  \\\\\n",
       "cue\\_valid[T.valid] & -0.515 &    0.011 & -47.827 &       0.000 & -0.536 & -0.494  \\\\\n",
       "Group Var           & 12.324 &    0.033 &         &             &        &         \\\\\n",
       "\\hline\n",
       "\\end{tabular}\n",
       "\\end{center}\n",
       "\\end{table}\n",
       "\\bigskip\n"
      ],
      "text/plain": [
       "<class 'statsmodels.iolib.summary2.Summary'>\n",
       "\"\"\"\n",
       "            Mixed Linear Model Regression Results\n",
       "==============================================================\n",
       "Model:              MixedLM  Dependent Variable:  std         \n",
       "No. Observations:   262260   Method:              REML        \n",
       "No. Groups:         85352    Scale:               6.6054      \n",
       "Min. group size:    1        Log-Likelihood:      -699260.2369\n",
       "Max. group size:    4        Converged:           Yes         \n",
       "Mean group size:    3.1                                       \n",
       "--------------------------------------------------------------\n",
       "                   Coef.  Std.Err.    z    P>|z| [0.025 0.975]\n",
       "--------------------------------------------------------------\n",
       "Intercept           4.684    0.014 341.939 0.000  4.657  4.711\n",
       "cue_valid[T.valid] -0.515    0.011 -47.827 0.000 -0.536 -0.494\n",
       "Group Var          12.324    0.033                            \n",
       "==============================================================\n",
       "\n",
       "\"\"\""
      ]
     },
     "execution_count": 59,
     "metadata": {},
     "output_type": "execute_result"
    }
   ],
   "source": [
    "# Summary of the model\n",
    "result.summary()"
   ]
  },
  {
   "cell_type": "markdown",
   "id": "d06f7cf3",
   "metadata": {},
   "source": [
    "### plotting"
   ]
  },
  {
   "cell_type": "code",
   "execution_count": 42,
   "id": "52af5417",
   "metadata": {},
   "outputs": [],
   "source": [
    "all_unit_spikerates_pivot = all_unit_spikerates.pivot_table(index=['stims', 'unit'], columns='cue_valid', values=['mean', 'std', 'count'], aggfunc='first')\n"
   ]
  },
  {
   "cell_type": "code",
   "execution_count": 43,
   "id": "d8eb4858",
   "metadata": {},
   "outputs": [
    {
     "data": {
      "text/html": [
       "<div>\n",
       "<style scoped>\n",
       "    .dataframe tbody tr th:only-of-type {\n",
       "        vertical-align: middle;\n",
       "    }\n",
       "\n",
       "    .dataframe tbody tr th {\n",
       "        vertical-align: top;\n",
       "    }\n",
       "\n",
       "    .dataframe thead tr th {\n",
       "        text-align: left;\n",
       "    }\n",
       "\n",
       "    .dataframe thead tr:last-of-type th {\n",
       "        text-align: right;\n",
       "    }\n",
       "</style>\n",
       "<table border=\"1\" class=\"dataframe\">\n",
       "  <thead>\n",
       "    <tr>\n",
       "      <th></th>\n",
       "      <th></th>\n",
       "      <th colspan=\"3\" halign=\"left\">count</th>\n",
       "      <th colspan=\"3\" halign=\"left\">mean</th>\n",
       "      <th colspan=\"3\" halign=\"left\">std</th>\n",
       "    </tr>\n",
       "    <tr>\n",
       "      <th></th>\n",
       "      <th>cue_valid</th>\n",
       "      <th>invalid</th>\n",
       "      <th>uncued</th>\n",
       "      <th>valid</th>\n",
       "      <th>invalid</th>\n",
       "      <th>uncued</th>\n",
       "      <th>valid</th>\n",
       "      <th>invalid</th>\n",
       "      <th>uncued</th>\n",
       "      <th>valid</th>\n",
       "    </tr>\n",
       "    <tr>\n",
       "      <th>stims</th>\n",
       "      <th>unit</th>\n",
       "      <th></th>\n",
       "      <th></th>\n",
       "      <th></th>\n",
       "      <th></th>\n",
       "      <th></th>\n",
       "      <th></th>\n",
       "      <th></th>\n",
       "      <th></th>\n",
       "      <th></th>\n",
       "    </tr>\n",
       "  </thead>\n",
       "  <tbody>\n",
       "    <tr>\n",
       "      <th rowspan=\"3\" valign=\"top\">0</th>\n",
       "      <th>B1170_1002</th>\n",
       "      <td>21.0</td>\n",
       "      <td>12.0</td>\n",
       "      <td>10.0</td>\n",
       "      <td>2.476190</td>\n",
       "      <td>2.250000</td>\n",
       "      <td>4.20</td>\n",
       "      <td>3.880967</td>\n",
       "      <td>1.912875</td>\n",
       "      <td>3.521363</td>\n",
       "    </tr>\n",
       "    <tr>\n",
       "      <th>B1170_1027</th>\n",
       "      <td>84.0</td>\n",
       "      <td>22.0</td>\n",
       "      <td>20.0</td>\n",
       "      <td>1.095238</td>\n",
       "      <td>1.636364</td>\n",
       "      <td>2.05</td>\n",
       "      <td>1.572497</td>\n",
       "      <td>2.279212</td>\n",
       "      <td>3.186732</td>\n",
       "    </tr>\n",
       "    <tr>\n",
       "      <th>B1170_1037</th>\n",
       "      <td>21.0</td>\n",
       "      <td>12.0</td>\n",
       "      <td>10.0</td>\n",
       "      <td>7.142857</td>\n",
       "      <td>9.666667</td>\n",
       "      <td>7.80</td>\n",
       "      <td>4.850626</td>\n",
       "      <td>5.820549</td>\n",
       "      <td>5.432413</td>\n",
       "    </tr>\n",
       "  </tbody>\n",
       "</table>\n",
       "</div>"
      ],
      "text/plain": [
       "                   count                   mean                       std  \\\n",
       "cue_valid        invalid uncued valid   invalid    uncued valid   invalid   \n",
       "stims unit                                                                  \n",
       "0     B1170_1002    21.0   12.0  10.0  2.476190  2.250000  4.20  3.880967   \n",
       "      B1170_1027    84.0   22.0  20.0  1.095238  1.636364  2.05  1.572497   \n",
       "      B1170_1037    21.0   12.0  10.0  7.142857  9.666667  7.80  4.850626   \n",
       "\n",
       "                                      \n",
       "cue_valid           uncued     valid  \n",
       "stims unit                            \n",
       "0     B1170_1002  1.912875  3.521363  \n",
       "      B1170_1027  2.279212  3.186732  \n",
       "      B1170_1037  5.820549  5.432413  "
      ]
     },
     "execution_count": 43,
     "metadata": {},
     "output_type": "execute_result"
    }
   ],
   "source": [
    "all_unit_spikerates_pivot[:3]"
   ]
  },
  {
   "cell_type": "code",
   "execution_count": 45,
   "id": "78d195ef",
   "metadata": {},
   "outputs": [],
   "source": [
    "all_unit_spikerates_pivot[\"mean_diff\"] = all_unit_spikerates_pivot['mean']['valid'] - all_unit_spikerates_pivot['mean']['invalid']\n",
    "all_unit_spikerates_pivot[\"std_diff\"] = all_unit_spikerates_pivot['std']['valid'] - all_unit_spikerates_pivot['std']['invalid']"
   ]
  },
  {
   "cell_type": "code",
   "execution_count": 46,
   "id": "0e8d5ad2",
   "metadata": {},
   "outputs": [
    {
     "data": {
      "text/plain": [
       "-0.26227266202782773"
      ]
     },
     "execution_count": 46,
     "metadata": {},
     "output_type": "execute_result"
    }
   ],
   "source": [
    "np.nanmedian(all_unit_spikerates_pivot[\"std_diff\"])"
   ]
  },
  {
   "cell_type": "code",
   "execution_count": 53,
   "id": "92571755",
   "metadata": {},
   "outputs": [
    {
     "data": {
      "text/plain": [
       "<matplotlib.lines.Line2D at 0x7ff9bdda0df0>"
      ]
     },
     "execution_count": 53,
     "metadata": {},
     "output_type": "execute_result"
    },
    {
     "data": {
      "image/png": "[encoded data removed]",
      "text/plain": [
       "<Figure size 640x480 with 1 Axes>"
      ]
     },
     "metadata": {},
     "output_type": "display_data"
    }
   ],
   "source": [
    "fig, ax = plt.subplots()\n",
    "ax.hist(all_unit_spikerates_pivot.mean_diff.values, bins = np.linspace(-10, 10, 100));\n",
    "ax.axvline(0)"
   ]
  },
  {
   "cell_type": "code",
   "execution_count": null,
   "id": "480cde53",
   "metadata": {},
   "outputs": [],
   "source": []
  }
 ],
 "metadata": {
  "kernelspec": {
   "display_name": "peromoseq",
   "language": "python",
   "name": "peromoseq"
  },
  "language_info": {
   "codemirror_mode": {
    "name": "ipython",
    "version": 3
   },
   "file_extension": ".py",
   "mimetype": "text/x-python",
   "name": "python",
   "nbconvert_exporter": "python",
   "pygments_lexer": "ipython3",
   "version": "3.10.13"
  }
 },
 "nbformat": 4,
 "nbformat_minor": 5
}
