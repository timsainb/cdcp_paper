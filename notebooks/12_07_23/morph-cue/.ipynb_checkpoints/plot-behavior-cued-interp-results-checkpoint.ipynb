{
 "cells": [
  {
   "cell_type": "code",
   "execution_count": 2,
   "id": "b85d5abe-6799-4bab-897d-3fad2f50fdf2",
   "metadata": {},
   "outputs": [],
   "source": [
    "import matplotlib.pyplot as plt\n",
    "import numpy as np\n",
    "import pandas as pd\n",
    "from cdcp.paths import DATA_DIR\n",
    "from tqdm import tqdm"
   ]
  },
  {
   "cell_type": "code",
   "execution_count": null,
   "id": "4ce3e93f-8291-4451-b236-b29352f98f92",
   "metadata": {},
   "outputs": [],
   "source": [
    "from cdcp.behavior.psychometric import FourParameterLogistic, fit_FourParameterLogistic"
   ]
  },
  {
   "cell_type": "code",
   "execution_count": null,
   "id": "1e85994d-c751-4e7e-bc26-d3e6baae999e",
   "metadata": {},
   "outputs": [],
   "source": [
    "bird_folders = list(\n",
    "    #(DATA_DIR / \"behavior\" / \"interp_prediction_behavior_csvs\").glob(\"B*\")\n",
    "    (DATA_DIR / \"TS-231215-B1591-B1590\").glob(\"B*\")\n",
    "    \n",
    ")"
   ]
  },
  {
   "cell_type": "code",
   "execution_count": null,
   "id": "de14babc-119a-4a3d-92ba-c824f0d6cab4",
   "metadata": {},
   "outputs": [],
   "source": [
    "bird_folders"
   ]
  },
  {
   "cell_type": "code",
   "execution_count": null,
   "id": "83f66d17-4eaf-4927-b0b9-645f528fb2de",
   "metadata": {},
   "outputs": [],
   "source": [
    "from cdcp.paths import DATA_PATH_MAGPI, FIGURE_DIR, ensure_dir\n",
    "from cdcp.general import save_fig\n",
    "SAVE_FIGS = True"
   ]
  },
  {
   "cell_type": "code",
   "execution_count": null,
   "id": "4a4592cf-4865-407c-8420-65a38d5ef16d",
   "metadata": {},
   "outputs": [],
   "source": [
    "import json\n",
    "\n",
    "def js_r(filename: str):\n",
    "    with open(filename) as f_in:\n",
    "        return json.load(f_in)"
   ]
  },
  {
   "cell_type": "code",
   "execution_count": null,
   "id": "c628bc23-e338-4b9c-9c0f-8dcdae83dcaa",
   "metadata": {},
   "outputs": [],
   "source": [
    "js_r(bird_folders[0] / 'config.json')"
   ]
  },
  {
   "cell_type": "code",
   "execution_count": null,
   "id": "a7dd7c1c-d09f-4034-911b-6e737f8806bf",
   "metadata": {},
   "outputs": [],
   "source": [
    "interp_range = np.arange(48,80)\n",
    "interp_range"
   ]
  },
  {
   "cell_type": "markdown",
   "id": "e1aadd61-661d-4da9-851c-421c30504a8a",
   "metadata": {},
   "source": [
    "### Load data"
   ]
  },
  {
   "cell_type": "code",
   "execution_count": 9,
   "id": "a9d2c92b",
   "metadata": {},
   "outputs": [],
   "source": [
    "# Specify the date you want to compare against\n",
    "target_date = np.datetime64('2023-12-01')"
   ]
  },
  {
   "cell_type": "code",
   "execution_count": 10,
   "id": "dccce4a2-5a2c-450f-a1cf-65e9a0ce2239",
   "metadata": {},
   "outputs": [
    {
     "name": "stdout",
     "output_type": "stream",
     "text": [
      "/n/groups/datta/tim_sainburg/projects/CDCP_paper/data/TS-231215-B1591-B1590/B1590\n",
      "6585\n",
      "/n/groups/datta/tim_sainburg/projects/CDCP_paper/data/TS-231215-B1591-B1590/B1591\n"
     ]
    },
    {
     "name": "stderr",
     "output_type": "stream",
     "text": [
      "/tmp/ipykernel_18346/478466596.py:9: DtypeWarning: Columns (8) have mixed types. Specify dtype option on import or set low_memory=False.\n",
      "  [pd.read_csv(behavior_csv) for behavior_csv in behavior_csvs]\n"
     ]
    },
    {
     "name": "stdout",
     "output_type": "stream",
     "text": [
      "6178\n"
     ]
    }
   ],
   "source": [
    "behav_data = {}\n",
    "for bird in bird_folders:\n",
    "    \n",
    "    if bird.is_dir() == False:\n",
    "        continue\n",
    "    print(bird)\n",
    "    behavior_csvs = list(bird.glob(\"*.csv\"))\n",
    "    behav_data[bird.stem] = pd.concat(\n",
    "        [pd.read_csv(behavior_csv) for behavior_csv in behavior_csvs]\n",
    "    )\n",
    "    behav_data[bird.stem] = behav_data[bird.stem][\n",
    "        behav_data[bird.stem].type_ == \"normal\"\n",
    "    ]\n",
    "    behav_data[bird.stem]['time'] = pd.to_datetime(behav_data[bird.stem]['time'])\n",
    "\n",
    "    behav_data[bird.stem] = behav_data[bird.stem].sort_values(by='time')\n",
    "    behav_data[bird.stem]['correct_bool'] = behav_data[bird.stem].correct == True\n",
    "    \n",
    "    # only get most recent data\n",
    "    behav_data[bird.stem] = behav_data[bird.stem][behav_data[bird.stem].time.values > target_date]\n",
    "    \n",
    "    print(len(behav_data[bird.stem]))\n",
    "    #behav_data[bird.stem] = behav_data[bird.stem][10000:]\n",
    "    #print(len(behav_data[bird.stem]))\n",
    "    \n",
    "    # bin\n",
    "    bin_edges = np.linspace(0, 127, 32 + 1)\n",
    "\n",
    "    behav_data[bird.stem]['pos_bin'] = np.digitize(behav_data[bird.stem].interpolation_point.values, bin_edges)\n",
    "    \n",
    "    behav_data[bird.stem] = behav_data[bird.stem][behav_data[bird.stem].cueing == True]\n",
    "    behav_data[bird.stem] = behav_data[bird.stem][behav_data[bird.stem].response != \"none\"]\n",
    "\n",
    "    behav_data[bird.stem][\"response_bool\"] = behav_data[bird.stem].response == \"left\"\n",
    "    behav_data[bird.stem][\"interp\"] = [i + j for i, j in zip(behav_data[bird.stem].left_stim.values, behav_data[bird.stem].right_stim.values)]"
   ]
  },
  {
   "cell_type": "code",
   "execution_count": 11,
   "id": "ebec60c4-7533-4d6f-8b95-974b38c72a5f",
   "metadata": {},
   "outputs": [],
   "source": [
    "birds = list(behav_data.keys())"
   ]
  },
  {
   "cell_type": "markdown",
   "id": "ae85daaf-940a-4c71-9b9e-324b0e557210",
   "metadata": {},
   "source": [
    "### Describe data"
   ]
  },
  {
   "cell_type": "code",
   "execution_count": 12,
   "id": "75aefa39",
   "metadata": {},
   "outputs": [
    {
     "name": "stdout",
     "output_type": "stream",
     "text": [
      "['B1590', 'B1591'] [6499, 5962]\n"
     ]
    }
   ],
   "source": [
    "print(birds, [len(behav_data[i]) for i in birds])"
   ]
  },
  {
   "cell_type": "code",
   "execution_count": 13,
   "id": "be8fb8db-8d14-4acd-853d-18093f3957c0",
   "metadata": {},
   "outputs": [
    {
     "data": {
      "text/html": [
       "<div>\n",
       "<style scoped>\n",
       "    .dataframe tbody tr th:only-of-type {\n",
       "        vertical-align: middle;\n",
       "    }\n",
       "\n",
       "    .dataframe tbody tr th {\n",
       "        vertical-align: top;\n",
       "    }\n",
       "\n",
       "    .dataframe thead th {\n",
       "        text-align: right;\n",
       "    }\n",
       "</style>\n",
       "<table border=\"1\" class=\"dataframe\">\n",
       "  <thead>\n",
       "    <tr style=\"text-align: right;\">\n",
       "      <th></th>\n",
       "      <th>cue</th>\n",
       "      <th>count</th>\n",
       "      <th>prop</th>\n",
       "    </tr>\n",
       "  </thead>\n",
       "  <tbody>\n",
       "    <tr>\n",
       "      <th>0</th>\n",
       "      <td>CL0</td>\n",
       "      <td>1730</td>\n",
       "      <td>0.266195</td>\n",
       "    </tr>\n",
       "    <tr>\n",
       "      <th>1</th>\n",
       "      <td>CL1</td>\n",
       "      <td>1718</td>\n",
       "      <td>0.264348</td>\n",
       "    </tr>\n",
       "    <tr>\n",
       "      <th>2</th>\n",
       "      <td>CN</td>\n",
       "      <td>620</td>\n",
       "      <td>0.095399</td>\n",
       "    </tr>\n",
       "    <tr>\n",
       "      <th>3</th>\n",
       "      <td>CR0</td>\n",
       "      <td>1828</td>\n",
       "      <td>0.281274</td>\n",
       "    </tr>\n",
       "    <tr>\n",
       "      <th>4</th>\n",
       "      <td>NC</td>\n",
       "      <td>603</td>\n",
       "      <td>0.092784</td>\n",
       "    </tr>\n",
       "  </tbody>\n",
       "</table>\n",
       "</div>"
      ],
      "text/plain": [
       "   cue count      prop\n",
       "0  CL0  1730  0.266195\n",
       "1  CL1  1718  0.264348\n",
       "2   CN   620  0.095399\n",
       "3  CR0  1828  0.281274\n",
       "4   NC   603  0.092784"
      ]
     },
     "execution_count": 13,
     "metadata": {},
     "output_type": "execute_result"
    }
   ],
   "source": [
    "cue_count_df = pd.DataFrame(np.unique(behav_data[birds[0]].cue_class.values, return_counts=True)).T\n",
    "cue_count_df.columns = ['cue', 'count']\n",
    "cue_count_df['prop'] = cue_count_df['count'] / np.sum(cue_count_df['count'])\n",
    "cue_count_df"
   ]
  },
  {
   "cell_type": "code",
   "execution_count": 14,
   "id": "bc158e42-58bb-4956-93f9-9ff38616eed6",
   "metadata": {},
   "outputs": [
    {
     "data": {
      "text/plain": [
       "32"
      ]
     },
     "execution_count": 14,
     "metadata": {},
     "output_type": "execute_result"
    }
   ],
   "source": [
    "len(behav_data[birds[0]].interpolation_point.unique())"
   ]
  },
  {
   "cell_type": "code",
   "execution_count": 15,
   "id": "02599bb8",
   "metadata": {},
   "outputs": [
    {
     "data": {
      "image/png": "[encoded data removed]",
      "text/plain": [
       "<Figure size 1000x200 with 1 Axes>"
      ]
     },
     "metadata": {},
     "output_type": "display_data"
    }
   ],
   "source": [
    "fig, ax = plt.subplots(figsize=(10,2))\n",
    "ax.hist(behav_data[birds[0]].interpolation_point.values, bins = np.arange(128));"
   ]
  },
  {
   "cell_type": "code",
   "execution_count": 16,
   "id": "bb0f8bdb",
   "metadata": {},
   "outputs": [
    {
     "data": {
      "image/png": "[encoded data removed]",
      "text/plain": [
       "<Figure size 1500x200 with 1 Axes>"
      ]
     },
     "metadata": {},
     "output_type": "display_data"
    },
    {
     "data": {
      "image/png": "[encoded data removed]",
      "text/plain": [
       "<Figure size 1500x200 with 1 Axes>"
      ]
     },
     "metadata": {},
     "output_type": "display_data"
    }
   ],
   "source": [
    "for bird in birds:\n",
    "    fig, ax = plt.subplots(figsize=(15,2))\n",
    "    ax.plot(\n",
    "        behav_data[bird].time.values, \n",
    "        behav_data[bird].correct_bool.rolling(100).mean()\n",
    "    )\n",
    "    ax.set_ylim([0,1])\n",
    "    ax.set_title(bird)"
   ]
  },
  {
   "cell_type": "code",
   "execution_count": 17,
   "id": "d4d8e0f2-748e-433f-9cda-5fcc6d8f72c7",
   "metadata": {},
   "outputs": [],
   "source": [
    "count_dfs = []\n",
    "for cue in behav_data[birds[0]].cue_class.unique():\n",
    "    count_df = pd.DataFrame(np.unique(behav_data[birds[0]][behav_data[birds[0]].cue_class == cue].interp.values, return_counts=True)).T\n",
    "    count_df.columns = ['interp', 'count']\n",
    "    count_df['prop'] = count_df['count'] / np.sum(count_df['count'].values)\n",
    "    count_df['cue'] = cue\n",
    "    count_dfs.append(count_df)\n",
    "count_df = pd.concat(count_dfs)"
   ]
  },
  {
   "cell_type": "code",
   "execution_count": 18,
   "id": "b11b1bb3-22c4-424b-b183-e335ed8308a4",
   "metadata": {},
   "outputs": [
    {
     "data": {
      "text/html": [
       "<div>\n",
       "<style scoped>\n",
       "    .dataframe tbody tr th:only-of-type {\n",
       "        vertical-align: middle;\n",
       "    }\n",
       "\n",
       "    .dataframe tbody tr th {\n",
       "        vertical-align: top;\n",
       "    }\n",
       "\n",
       "    .dataframe thead th {\n",
       "        text-align: right;\n",
       "    }\n",
       "</style>\n",
       "<table border=\"1\" class=\"dataframe\">\n",
       "  <thead>\n",
       "    <tr style=\"text-align: right;\">\n",
       "      <th></th>\n",
       "      <th>interp</th>\n",
       "      <th>count</th>\n",
       "      <th>prop</th>\n",
       "      <th>cue</th>\n",
       "    </tr>\n",
       "  </thead>\n",
       "  <tbody>\n",
       "    <tr>\n",
       "      <th>0</th>\n",
       "      <td>AE</td>\n",
       "      <td>166</td>\n",
       "      <td>0.09081</td>\n",
       "      <td>CR0</td>\n",
       "    </tr>\n",
       "    <tr>\n",
       "      <th>1</th>\n",
       "      <td>BF</td>\n",
       "      <td>186</td>\n",
       "      <td>0.101751</td>\n",
       "      <td>CR0</td>\n",
       "    </tr>\n",
       "    <tr>\n",
       "      <th>2</th>\n",
       "      <td>CG</td>\n",
       "      <td>1476</td>\n",
       "      <td>0.80744</td>\n",
       "      <td>CR0</td>\n",
       "    </tr>\n",
       "  </tbody>\n",
       "</table>\n",
       "</div>"
      ],
      "text/plain": [
       "  interp count      prop  cue\n",
       "0     AE   166   0.09081  CR0\n",
       "1     BF   186  0.101751  CR0\n",
       "2     CG  1476   0.80744  CR0"
      ]
     },
     "execution_count": 18,
     "metadata": {},
     "output_type": "execute_result"
    }
   ],
   "source": [
    "count_df[:3]"
   ]
  },
  {
   "cell_type": "code",
   "execution_count": 19,
   "id": "8b76efcb-a165-4fd3-9d87-8e914c2d01d4",
   "metadata": {},
   "outputs": [],
   "source": [
    "import seaborn as sns"
   ]
  },
  {
   "cell_type": "code",
   "execution_count": 20,
   "id": "936fed01-7f86-485e-99ea-e8b31dffd26f",
   "metadata": {},
   "outputs": [
    {
     "data": {
      "text/plain": [
       "<Axes: xlabel='cue', ylabel='count'>"
      ]
     },
     "execution_count": 20,
     "metadata": {},
     "output_type": "execute_result"
    },
    {
     "data": {
      "image/png": "[encoded data removed]",
      "text/plain": [
       "<Figure size 1000x300 with 1 Axes>"
      ]
     },
     "metadata": {},
     "output_type": "display_data"
    }
   ],
   "source": [
    "fig, ax = plt.subplots(figsize=(10,3))\n",
    "sns.barplot(x='cue', y='count', hue='interp', data=count_df, ax = ax)"
   ]
  },
  {
   "cell_type": "code",
   "execution_count": 21,
   "id": "bebdd1ac-b675-4457-a707-9174ef969330",
   "metadata": {},
   "outputs": [
    {
     "data": {
      "text/plain": [
       "<Axes: xlabel='cue', ylabel='prop'>"
      ]
     },
     "execution_count": 21,
     "metadata": {},
     "output_type": "execute_result"
    },
    {
     "data": {
      "image/png": "[encoded data removed]",
      "text/plain": [
       "<Figure size 1000x300 with 1 Axes>"
      ]
     },
     "metadata": {},
     "output_type": "display_data"
    }
   ],
   "source": [
    "fig, ax = plt.subplots(figsize=(10,3))\n",
    "sns.barplot(x='cue', y='prop', hue='interp', data=count_df, ax = ax)"
   ]
  },
  {
   "cell_type": "code",
   "execution_count": 22,
   "id": "8c447e41-70b6-403a-ade4-cbc214b069e5",
   "metadata": {},
   "outputs": [
    {
     "data": {
      "text/html": [
       "<div>\n",
       "<style scoped>\n",
       "    .dataframe tbody tr th:only-of-type {\n",
       "        vertical-align: middle;\n",
       "    }\n",
       "\n",
       "    .dataframe tbody tr th {\n",
       "        vertical-align: top;\n",
       "    }\n",
       "\n",
       "    .dataframe thead th {\n",
       "        text-align: right;\n",
       "    }\n",
       "</style>\n",
       "<table border=\"1\" class=\"dataframe\">\n",
       "  <thead>\n",
       "    <tr style=\"text-align: right;\">\n",
       "      <th></th>\n",
       "      <th>interp</th>\n",
       "      <th>count</th>\n",
       "      <th>prop</th>\n",
       "      <th>cue</th>\n",
       "    </tr>\n",
       "  </thead>\n",
       "  <tbody>\n",
       "    <tr>\n",
       "      <th>0</th>\n",
       "      <td>AE</td>\n",
       "      <td>166</td>\n",
       "      <td>0.09081</td>\n",
       "      <td>CR0</td>\n",
       "    </tr>\n",
       "    <tr>\n",
       "      <th>1</th>\n",
       "      <td>BF</td>\n",
       "      <td>186</td>\n",
       "      <td>0.101751</td>\n",
       "      <td>CR0</td>\n",
       "    </tr>\n",
       "    <tr>\n",
       "      <th>2</th>\n",
       "      <td>CG</td>\n",
       "      <td>1476</td>\n",
       "      <td>0.80744</td>\n",
       "      <td>CR0</td>\n",
       "    </tr>\n",
       "    <tr>\n",
       "      <th>0</th>\n",
       "      <td>AE</td>\n",
       "      <td>190</td>\n",
       "      <td>0.315091</td>\n",
       "      <td>NC</td>\n",
       "    </tr>\n",
       "    <tr>\n",
       "      <th>1</th>\n",
       "      <td>BF</td>\n",
       "      <td>216</td>\n",
       "      <td>0.358209</td>\n",
       "      <td>NC</td>\n",
       "    </tr>\n",
       "    <tr>\n",
       "      <th>2</th>\n",
       "      <td>CG</td>\n",
       "      <td>197</td>\n",
       "      <td>0.3267</td>\n",
       "      <td>NC</td>\n",
       "    </tr>\n",
       "    <tr>\n",
       "      <th>0</th>\n",
       "      <td>AE</td>\n",
       "      <td>176</td>\n",
       "      <td>0.102445</td>\n",
       "      <td>CL1</td>\n",
       "    </tr>\n",
       "    <tr>\n",
       "      <th>1</th>\n",
       "      <td>BF</td>\n",
       "      <td>1363</td>\n",
       "      <td>0.793364</td>\n",
       "      <td>CL1</td>\n",
       "    </tr>\n",
       "    <tr>\n",
       "      <th>2</th>\n",
       "      <td>CG</td>\n",
       "      <td>179</td>\n",
       "      <td>0.104191</td>\n",
       "      <td>CL1</td>\n",
       "    </tr>\n",
       "    <tr>\n",
       "      <th>0</th>\n",
       "      <td>AE</td>\n",
       "      <td>1407</td>\n",
       "      <td>0.813295</td>\n",
       "      <td>CL0</td>\n",
       "    </tr>\n",
       "    <tr>\n",
       "      <th>1</th>\n",
       "      <td>BF</td>\n",
       "      <td>164</td>\n",
       "      <td>0.094798</td>\n",
       "      <td>CL0</td>\n",
       "    </tr>\n",
       "    <tr>\n",
       "      <th>2</th>\n",
       "      <td>CG</td>\n",
       "      <td>159</td>\n",
       "      <td>0.091908</td>\n",
       "      <td>CL0</td>\n",
       "    </tr>\n",
       "    <tr>\n",
       "      <th>0</th>\n",
       "      <td>AE</td>\n",
       "      <td>206</td>\n",
       "      <td>0.332258</td>\n",
       "      <td>CN</td>\n",
       "    </tr>\n",
       "    <tr>\n",
       "      <th>1</th>\n",
       "      <td>BF</td>\n",
       "      <td>219</td>\n",
       "      <td>0.353226</td>\n",
       "      <td>CN</td>\n",
       "    </tr>\n",
       "    <tr>\n",
       "      <th>2</th>\n",
       "      <td>CG</td>\n",
       "      <td>195</td>\n",
       "      <td>0.314516</td>\n",
       "      <td>CN</td>\n",
       "    </tr>\n",
       "  </tbody>\n",
       "</table>\n",
       "</div>"
      ],
      "text/plain": [
       "  interp count      prop  cue\n",
       "0     AE   166   0.09081  CR0\n",
       "1     BF   186  0.101751  CR0\n",
       "2     CG  1476   0.80744  CR0\n",
       "0     AE   190  0.315091   NC\n",
       "1     BF   216  0.358209   NC\n",
       "2     CG   197    0.3267   NC\n",
       "0     AE   176  0.102445  CL1\n",
       "1     BF  1363  0.793364  CL1\n",
       "2     CG   179  0.104191  CL1\n",
       "0     AE  1407  0.813295  CL0\n",
       "1     BF   164  0.094798  CL0\n",
       "2     CG   159  0.091908  CL0\n",
       "0     AE   206  0.332258   CN\n",
       "1     BF   219  0.353226   CN\n",
       "2     CG   195  0.314516   CN"
      ]
     },
     "execution_count": 22,
     "metadata": {},
     "output_type": "execute_result"
    }
   ],
   "source": [
    "count_df"
   ]
  },
  {
   "cell_type": "code",
   "execution_count": 23,
   "id": "bb2ef523-4f33-45ed-ba1a-48197b866fa8",
   "metadata": {},
   "outputs": [],
   "source": [
    "cue_map = {\n",
    "    \"AE\": \"CL0\",\n",
    "    \"BF\": \"CL1\",\n",
    "    \"CG\": \"CR0\",\n",
    "}"
   ]
  },
  {
   "cell_type": "markdown",
   "id": "53b96075-a0b0-4514-b8ed-bbeba20ccfd0",
   "metadata": {},
   "source": [
    "### Is the bird more accurate in the cued condition\n",
    "### Is the decision boundary sharper in the cued condition\n",
    "- for each bird, for each interpolation, split data into cued and uncued\n",
    "- compute accuracy\n",
    "- compute psychometric\n",
    "- plot accuracy differences\n",
    "- plot inflection point differences"
   ]
  },
  {
   "cell_type": "code",
   "execution_count": 24,
   "id": "4048206b-41da-4e6c-b3f4-1a952da0dd0c",
   "metadata": {},
   "outputs": [],
   "source": [
    "for bird in birds:\n",
    "    behav_data[bird]['bird'] = bird\n",
    "behav_data_all = pd.concat([behav_data[bird] for bird in birds])\n",
    "behav_data_all = behav_data_all[behav_data_all.type_ == 'normal']\n",
    "behav_data_all = behav_data_all[['bird', 'interp', 'pos_bin', 'cue_id', 'response', 'correct', 'rt']]"
   ]
  },
  {
   "cell_type": "code",
   "execution_count": 25,
   "id": "3063d039-2aa6-455e-a226-870c0ee5d525",
   "metadata": {},
   "outputs": [],
   "source": [
    "behav_data_all['cue_condition'] = None\n",
    "behav_data_all['cue_probability'] = None\n",
    "for morph, cue in cue_map.items():\n",
    "    behav_data_all.loc[(behav_data_all.cue_id == cue) & (behav_data_all.interp == morph), 'cue_condition'] = 'high_prob'\n",
    "    behav_data_all.loc[(behav_data_all.cue_id == cue) & (behav_data_all.interp != morph), 'cue_condition'] =  'low_prob'\n",
    "    behav_data_all.loc[(behav_data_all.cue_id == cue) & (behav_data_all.interp == morph), 'cue_probability'] = 0.8\n",
    "    behav_data_all.loc[(behav_data_all.cue_id == cue) & (behav_data_all.interp != morph), 'cue_probability'] = 0.1\n",
    "behav_data_all.loc[(behav_data_all.cue_id == 'NC'), 'cue_condition'] = 'uncued'\n",
    "behav_data_all.loc[(behav_data_all.cue_id == 'NC'), 'cue_probability'] = 0.1 / 3\n",
    "behav_data_all.loc[(behav_data_all.cue_id == 'CN'), 'cue_condition'] = 'middle_prob'\n",
    "behav_data_all.loc[(behav_data_all.cue_id == 'CN'), 'cue_probability'] = 1 / 3"
   ]
  },
  {
   "cell_type": "code",
   "execution_count": 26,
   "id": "f9550826-4220-4c68-bf37-6dcd586797aa",
   "metadata": {},
   "outputs": [
    {
     "data": {
      "text/plain": [
       "array(['right', 'left'], dtype=object)"
      ]
     },
     "execution_count": 26,
     "metadata": {},
     "output_type": "execute_result"
    }
   ],
   "source": [
    "behav_data_all.response.unique()"
   ]
  },
  {
   "cell_type": "code",
   "execution_count": 27,
   "id": "91a0f043-b22a-4605-a79c-8395c93934b5",
   "metadata": {},
   "outputs": [],
   "source": [
    "from scipy.stats import pearsonr"
   ]
  },
  {
   "cell_type": "code",
   "execution_count": 28,
   "id": "8d86db08-8947-440a-93f7-51b319787cc0",
   "metadata": {},
   "outputs": [
    {
     "data": {
      "text/plain": [
       "(PearsonRResult(statistic=0.054949810017272935, pvalue=8.356358459191918e-10),\n",
       " 12461)"
      ]
     },
     "execution_count": 28,
     "metadata": {},
     "output_type": "execute_result"
    }
   ],
   "source": [
    "pearsonr(behav_data_all.correct.values, behav_data_all.cue_probability.values), len(behav_data_all.correct.values)"
   ]
  },
  {
   "cell_type": "code",
   "execution_count": 29,
   "id": "0b315bfd",
   "metadata": {},
   "outputs": [
    {
     "data": {
      "text/html": [
       "<div>\n",
       "<style scoped>\n",
       "    .dataframe tbody tr th:only-of-type {\n",
       "        vertical-align: middle;\n",
       "    }\n",
       "\n",
       "    .dataframe tbody tr th {\n",
       "        vertical-align: top;\n",
       "    }\n",
       "\n",
       "    .dataframe thead th {\n",
       "        text-align: right;\n",
       "    }\n",
       "</style>\n",
       "<table border=\"1\" class=\"dataframe\">\n",
       "  <thead>\n",
       "    <tr style=\"text-align: right;\">\n",
       "      <th></th>\n",
       "      <th>bird</th>\n",
       "      <th>interp</th>\n",
       "      <th>pos_bin</th>\n",
       "      <th>cue_id</th>\n",
       "      <th>response</th>\n",
       "      <th>correct</th>\n",
       "      <th>rt</th>\n",
       "      <th>cue_condition</th>\n",
       "      <th>cue_probability</th>\n",
       "    </tr>\n",
       "  </thead>\n",
       "  <tbody>\n",
       "    <tr>\n",
       "      <th>865</th>\n",
       "      <td>B1590</td>\n",
       "      <td>CG</td>\n",
       "      <td>18</td>\n",
       "      <td>CR0</td>\n",
       "      <td>right</td>\n",
       "      <td>False</td>\n",
       "      <td>3.035127</td>\n",
       "      <td>high_prob</td>\n",
       "      <td>0.8</td>\n",
       "    </tr>\n",
       "    <tr>\n",
       "      <th>870</th>\n",
       "      <td>B1590</td>\n",
       "      <td>AE</td>\n",
       "      <td>13</td>\n",
       "      <td>NC</td>\n",
       "      <td>left</td>\n",
       "      <td>False</td>\n",
       "      <td>0.047696</td>\n",
       "      <td>uncued</td>\n",
       "      <td>0.033333</td>\n",
       "    </tr>\n",
       "    <tr>\n",
       "      <th>872</th>\n",
       "      <td>B1590</td>\n",
       "      <td>BF</td>\n",
       "      <td>14</td>\n",
       "      <td>CR0</td>\n",
       "      <td>left</td>\n",
       "      <td>False</td>\n",
       "      <td>0.157154</td>\n",
       "      <td>low_prob</td>\n",
       "      <td>0.1</td>\n",
       "    </tr>\n",
       "  </tbody>\n",
       "</table>\n",
       "</div>"
      ],
      "text/plain": [
       "      bird interp  pos_bin cue_id response correct        rt cue_condition  \\\n",
       "865  B1590     CG       18    CR0    right   False  3.035127     high_prob   \n",
       "870  B1590     AE       13     NC     left   False  0.047696        uncued   \n",
       "872  B1590     BF       14    CR0     left   False  0.157154      low_prob   \n",
       "\n",
       "    cue_probability  \n",
       "865             0.8  \n",
       "870        0.033333  \n",
       "872             0.1  "
      ]
     },
     "execution_count": 29,
     "metadata": {},
     "output_type": "execute_result"
    }
   ],
   "source": [
    "behav_data_all[:3]"
   ]
  },
  {
   "cell_type": "code",
   "execution_count": 31,
   "id": "be890620",
   "metadata": {},
   "outputs": [],
   "source": [
    "import statsmodels.api as sm\n",
    "import statsmodels.formula.api as smf"
   ]
  },
  {
   "cell_type": "code",
   "execution_count": 35,
   "id": "6b030da9",
   "metadata": {},
   "outputs": [
    {
     "name": "stderr",
     "output_type": "stream",
     "text": [
      "/tmp/ipykernel_18346/1175038176.py:2: SettingWithCopyWarning: \n",
      "A value is trying to be set on a copy of a slice from a DataFrame.\n",
      "Try using .loc[row_indexer,col_indexer] = value instead\n",
      "\n",
      "See the caveats in the documentation: https://pandas.pydata.org/pandas-docs/stable/user_guide/indexing.html#returning-a-view-versus-a-copy\n",
      "  df['correct'] = df['correct'].astype(float)\n",
      "/tmp/ipykernel_18346/1175038176.py:3: SettingWithCopyWarning: \n",
      "A value is trying to be set on a copy of a slice from a DataFrame.\n",
      "Try using .loc[row_indexer,col_indexer] = value instead\n",
      "\n",
      "See the caveats in the documentation: https://pandas.pydata.org/pandas-docs/stable/user_guide/indexing.html#returning-a-view-versus-a-copy\n",
      "  df['cue_probability'] = df['cue_probability'].astype(float)\n"
     ]
    }
   ],
   "source": [
    "df = behav_data_all[['bird', 'correct', 'cue_probability']]\n",
    "df['correct'] = df['correct'].astype(float)\n",
    "df['cue_probability'] = df['cue_probability'].astype(float)"
   ]
  },
  {
   "cell_type": "code",
   "execution_count": 38,
   "id": "98bf579c",
   "metadata": {},
   "outputs": [
    {
     "name": "stderr",
     "output_type": "stream",
     "text": [
      "/n/groups/datta/tim_sainburg/conda_envs/cdcp_paper/lib/python3.9/site-packages/statsmodels/base/model.py:604: ConvergenceWarning: Maximum Likelihood optimization failed to converge. Check mle_retvals\n",
      "  warnings.warn(\"Maximum Likelihood optimization failed to \"\n",
      "/n/groups/datta/tim_sainburg/conda_envs/cdcp_paper/lib/python3.9/site-packages/statsmodels/regression/mixed_linear_model.py:2200: ConvergenceWarning: Retrying MixedLM optimization with lbfgs\n",
      "  warnings.warn(\n",
      "/n/groups/datta/tim_sainburg/conda_envs/cdcp_paper/lib/python3.9/site-packages/statsmodels/regression/mixed_linear_model.py:2237: ConvergenceWarning: The MLE may be on the boundary of the parameter space.\n",
      "  warnings.warn(msg, ConvergenceWarning)\n",
      "/n/groups/datta/tim_sainburg/conda_envs/cdcp_paper/lib/python3.9/site-packages/statsmodels/regression/mixed_linear_model.py:2261: ConvergenceWarning: The Hessian matrix at the estimated parameter values is not positive definite.\n",
      "  warnings.warn(msg, ConvergenceWarning)\n"
     ]
    },
    {
     "name": "stdout",
     "output_type": "stream",
     "text": [
      "                Mixed Linear Model Regression Results\n",
      "======================================================================\n",
      "Model:                  MixedLM     Dependent Variable:     correct   \n",
      "No. Observations:       12461       Method:                 REML      \n",
      "No. Groups:             2           Scale:                  0.2008    \n",
      "Min. group size:        5962        Log-Likelihood:         -7685.9276\n",
      "Max. group size:        6499        Converged:              Yes       \n",
      "Mean group size:        6230.5                                        \n",
      "----------------------------------------------------------------------\n",
      "                            Coef.  Std.Err.   z    P>|z| [0.025 0.975]\n",
      "----------------------------------------------------------------------\n",
      "Intercept                    0.677    0.017 39.257 0.000  0.643  0.710\n",
      "cue_probability              0.076    0.013  6.023 0.000  0.051  0.101\n",
      "Group Var                    0.000                                    \n",
      "Group x cue_probability Cov -0.000                                    \n",
      "cue_probability Var          0.000                                    \n",
      "======================================================================\n",
      "\n"
     ]
    }
   ],
   "source": [
    "# Define the model, treating 'unit' as a random effect\n",
    "model = smf.mixedlm(\"correct ~ cue_probability\", df, groups=df[\"bird\"], re_formula=\"1 + cue_probability\")\n",
    "result = model.fit()\n",
    "\n",
    "# Print the summary to see the results\n",
    "print(result.summary())"
   ]
  },
  {
   "cell_type": "code",
   "execution_count": 91,
   "id": "d5c8b8be-526a-49ff-ab91-667a33dfd93e",
   "metadata": {},
   "outputs": [],
   "source": [
    "import seaborn as sns"
   ]
  },
  {
   "cell_type": "code",
   "execution_count": 159,
   "id": "5f939672-b717-4596-9af0-e88eeb1af1b6",
   "metadata": {},
   "outputs": [
    {
     "data": {
      "image/png": "[encoded data removed]",
      "text/plain": [
       "<Figure size 330x300 with 1 Axes>"
      ]
     },
     "metadata": {},
     "output_type": "display_data"
    }
   ],
   "source": [
    "# Draw a pointplot to show pulse as a function of three categorical factors\n",
    "g = sns.catplot(\n",
    "    data=behav_data_all,\n",
    "    x=\"cue_condition\",\n",
    "    y=\"correct\",\n",
    "    #hue=\"interp\",\n",
    "    #col=\"bird\",\n",
    "    order=[\"high_prob\", \"middle_prob\", \"low_prob\", \"uncued\"][::-1],\n",
    "    \n",
    "    palette=\"Greys\",\n",
    "    errorbar=\"se\",\n",
    "    kind=\"point\",\n",
    "    capsize=0.4,\n",
    "    height=3,\n",
    "    aspect=1.1,\n",
    ")\n",
    "#g.despine(left=True)\n",
    "ax = g.ax\n",
    "#ax.set_ylim([0,6, 0.8])\n",
    "ax.set_ylabel('Accuracy')\n",
    "ax.set_xlabel('P(morph|cue)')\n",
    "ax.set_xticklabels(\n",
    "    [\n",
    "        '0.1/3\\n(no cue)',\n",
    "        '0.1',\n",
    "        '1/3',\n",
    "        '0.8'\n",
    "    ]\n",
    ")\n",
    "[i.set_linewidth(3) for i in ax.spines.values()]\n",
    "\n",
    "if SAVE_FIGS:\n",
    "    ensure_dir(FIGURE_DIR / 'cued-morph' )\n",
    "    save_fig(FIGURE_DIR / 'cued-morph'/ 'cued-morph-acc', save_pdf=True)\n",
    "    plt.show()"
   ]
  },
  {
   "cell_type": "code",
   "execution_count": 92,
   "id": "365d994a",
   "metadata": {},
   "outputs": [
    {
     "data": {
      "text/plain": [
       "<seaborn.axisgrid.FacetGrid at 0x7f7e256df8e0>"
      ]
     },
     "execution_count": 92,
     "metadata": {},
     "output_type": "execute_result"
    },
    {
     "data": {
      "image/png": "[encoded data removed]",
      "text/plain": [
       "<Figure size 450x600 with 1 Axes>"
      ]
     },
     "metadata": {},
     "output_type": "display_data"
    }
   ],
   "source": [
    "# Draw a pointplot to show pulse as a function of three categorical factors\n",
    "g = sns.catplot(\n",
    "    data=behav_data_all,\n",
    "    x=\"cue_condition\",\n",
    "    y=\"correct\",\n",
    "    #hue=\"interp\",\n",
    "    #col=\"bird\",\n",
    "    order=[\"high_prob\", \"middle_prob\", \"low_prob\", \"uncued\"],\n",
    "    capsize=0.2,\n",
    "    palette=\"YlGnBu_d\",\n",
    "    errorbar=\"se\",\n",
    "    kind=\"point\",\n",
    "    height=6,\n",
    "    aspect=0.75,\n",
    ")\n",
    "g.despine(left=True)"
   ]
  },
  {
   "cell_type": "code",
   "execution_count": 94,
   "id": "5b05a5d2-750a-4ffa-80a8-8df9155cb052",
   "metadata": {},
   "outputs": [
    {
     "data": {
      "image/png": "[encoded data removed]",
      "text/plain": [
       "<Figure size 640x480 with 1 Axes>"
      ]
     },
     "metadata": {},
     "output_type": "display_data"
    }
   ],
   "source": [
    "# Draw a pointplot to show pulse as a function of three categorical factors\n",
    "g = sns.lineplot(\n",
    "    data=behav_data_all,\n",
    "    x=\"cue_probability\",\n",
    "    y=\"correct\",\n",
    ")"
   ]
  },
  {
   "cell_type": "code",
   "execution_count": null,
   "id": "fc3a6a7e-cd50-4afc-8199-ebacf7eada5e",
   "metadata": {},
   "outputs": [],
   "source": []
  }
 ],
 "metadata": {
  "kernelspec": {
   "display_name": "cdcp_paper",
   "language": "python",
   "name": "cdcp_paper"
  },
  "language_info": {
   "codemirror_mode": {
    "name": "ipython",
    "version": 3
   },
   "file_extension": ".py",
   "mimetype": "text/x-python",
   "name": "python",
   "nbconvert_exporter": "python",
   "pygments_lexer": "ipython3",
   "version": "3.9.16"
  }
 },
 "nbformat": 4,
 "nbformat_minor": 5
}
