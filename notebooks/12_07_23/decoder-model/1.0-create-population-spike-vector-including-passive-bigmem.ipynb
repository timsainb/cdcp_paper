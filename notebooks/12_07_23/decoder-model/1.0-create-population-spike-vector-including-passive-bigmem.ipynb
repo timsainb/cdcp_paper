{
 "cells": [
  {
   "cell_type": "code",
   "execution_count": 1,
   "id": "cef6c39c",
   "metadata": {
    "ExecuteTime": {
     "end_time": "2022-01-23T20:31:09.094117Z",
     "start_time": "2022-01-23T20:31:09.078531Z"
    }
   },
   "outputs": [],
   "source": [
    "%load_ext autoreload\n",
    "%autoreload 2"
   ]
  },
  {
   "cell_type": "code",
   "execution_count": 2,
   "id": "e8fd39fe",
   "metadata": {
    "ExecuteTime": {
     "end_time": "2022-01-23T20:31:09.114221Z",
     "start_time": "2022-01-23T20:31:09.096368Z"
    }
   },
   "outputs": [],
   "source": [
    "import os\n",
    "# set to be lower priority\n",
    "#os.nice(1) "
   ]
  },
  {
   "cell_type": "code",
   "execution_count": 3,
   "id": "f7441a86",
   "metadata": {},
   "outputs": [],
   "source": [
    "import warnings\n",
    "warnings.filterwarnings('ignore')"
   ]
  },
  {
   "cell_type": "code",
   "execution_count": 4,
   "id": "29edc857",
   "metadata": {
    "ExecuteTime": {
     "end_time": "2022-01-23T20:31:09.888832Z",
     "start_time": "2022-01-23T20:31:09.116242Z"
    }
   },
   "outputs": [],
   "source": [
    "import pandas  as pd\n",
    "from cdcp.paths import DATA_DIR, ensure_dir\n",
    "import numpy as np\n",
    "import matplotlib.pyplot as plt\n",
    "import datetime\n",
    "from pathlib2 import Path\n",
    "from tqdm.autonotebook import tqdm\n",
    "pd.set_option('display.max_columns', 500)\n",
    "from joblib import Parallel, delayed"
   ]
  },
  {
   "cell_type": "code",
   "execution_count": 5,
   "id": "d4c6795b",
   "metadata": {},
   "outputs": [],
   "source": [
    "from cdcp.spiketrain_analysis.spiketrain_utils import (\n",
    "    bin_interp_points,\n",
    ")"
   ]
  },
  {
   "cell_type": "code",
   "execution_count": 6,
   "id": "2f08f4df",
   "metadata": {
    "ExecuteTime": {
     "end_time": "2022-01-23T20:31:09.913834Z",
     "start_time": "2022-01-23T20:31:09.891750Z"
    }
   },
   "outputs": [],
   "source": [
    "from datetime import datetime"
   ]
  },
  {
   "cell_type": "code",
   "execution_count": 7,
   "id": "ef8c2b51",
   "metadata": {
    "ExecuteTime": {
     "end_time": "2022-01-23T20:31:24.777304Z",
     "start_time": "2022-01-23T20:31:24.748880Z"
    }
   },
   "outputs": [],
   "source": [
    "from cdcp.spiketrain_analysis.spiketrain_utils import (\n",
    "    get_spike_train_vector\n",
    ")"
   ]
  },
  {
   "cell_type": "code",
   "execution_count": 8,
   "id": "2736fd2c",
   "metadata": {
    "ExecuteTime": {
     "end_time": "2022-01-23T20:31:24.836501Z",
     "start_time": "2022-01-23T20:31:24.781929Z"
    }
   },
   "outputs": [],
   "source": [
    "from cdcp.spiketrain_analysis.unit_stats.cued_similarity_and_spikevector_differences import (\n",
    "    compute_cued_average_sm_rv_differences\n",
    ")"
   ]
  },
  {
   "cell_type": "code",
   "execution_count": 9,
   "id": "7a50515f-f888-4ef7-8c3b-6414f9331cb5",
   "metadata": {},
   "outputs": [
    {
     "data": {
      "text/plain": [
       "PosixPath('/n/groups/datta/tim_sainburg/projects/CDCP_paper/data')"
      ]
     },
     "execution_count": 9,
     "metadata": {},
     "output_type": "execute_result"
    }
   ],
   "source": [
    "DATA_DIR"
   ]
  },
  {
   "cell_type": "code",
   "execution_count": 10,
   "id": "c7770a9e-13c1-4ed1-9bdf-a9fcf197fc2e",
   "metadata": {},
   "outputs": [
    {
     "name": "stdout",
     "output_type": "stream",
     "text": [
      "total 3.4G\n",
      "-rw-r--r-- 1 tis697 NEUROBIO_DattaLab  8.0G Dec 14 15:51 B1597_spike_array.dat\n",
      "-rw-r--r-- 1 tis697 NEUROBIO_DattaLab   19G Dec 14 15:02 B1593_spike_array.dat\n",
      "-rw-r--r-- 1 tis697 NEUROBIO_DattaLab   19G Dec 14 15:00 B1593_spike_array.npy\n",
      "-rw-r--r-- 1 tis697 NEUROBIO_DattaLab   63M Dec 14 12:58 B1244.pickle\n",
      "-rw-r--r-- 1 tis697 NEUROBIO_DattaLab   66K Dec 14 12:58 B1244_units_present.npy\n",
      "-rw-r--r-- 1 tis697 NEUROBIO_DattaLab   20M Dec 14 12:58 B1244_spike_array.npy\n",
      "-rw-r--r-- 1 tis697 NEUROBIO_DattaLab  220M Dec 14 12:57 B1170.pickle\n",
      "-rw-r--r-- 1 tis697 NEUROBIO_DattaLab  896K Dec 14 12:57 B1170_units_present.npy\n",
      "-rw-r--r-- 1 tis697 NEUROBIO_DattaLab 1021M Dec 14 12:57 B1170_spike_array.npy\n",
      "-rw-r--r-- 1 tis697 NEUROBIO_DattaLab  533M Dec 14 12:52 B1432.pickle\n",
      "-rw-r--r-- 1 tis697 NEUROBIO_DattaLab  1.5M Dec 14 12:51 B1432_units_present.npy\n",
      "-rw-r--r-- 1 tis697 NEUROBIO_DattaLab  3.5G Dec 14 12:51 B1432_spike_array.npy\n",
      "-rw-r--r-- 1 tis697 NEUROBIO_DattaLab   18M Dec 14 12:41 B1426.pickle\n",
      "-rw-r--r-- 1 tis697 NEUROBIO_DattaLab   73K Dec 14 12:41 B1426_units_present.npy\n",
      "-rw-r--r-- 1 tis697 NEUROBIO_DattaLab   12M Dec 14 12:41 B1426_spike_array.npy\n",
      "-rw-r--r-- 1 tis697 NEUROBIO_DattaLab   17M Dec 14 12:41 B1595.pickle\n",
      "-rw-r--r-- 1 tis697 NEUROBIO_DattaLab  134K Dec 14 12:41 B1595_units_present.npy\n",
      "-rw-r--r-- 1 tis697 NEUROBIO_DattaLab   15M Dec 14 12:41 B1595_spike_array.npy\n",
      "-rw-r--r-- 1 tis697 NEUROBIO_DattaLab   72M Dec 14 12:40 B1188.pickle\n",
      "-rw-r--r-- 1 tis697 NEUROBIO_DattaLab  571K Dec 14 12:40 B1188_units_present.npy\n",
      "-rw-r--r-- 1 tis697 NEUROBIO_DattaLab  298M Dec 14 12:40 B1188_spike_array.npy\n",
      "-rw-r--r-- 1 tis697 NEUROBIO_DattaLab  1.1G Dec 14 12:38 B1597.pickle\n",
      "-rw-r--r-- 1 tis697 NEUROBIO_DattaLab  1.6M Dec 14 12:37 B1597_units_present.npy\n",
      "-rw-r--r-- 1 tis697 NEUROBIO_DattaLab  6.7G Dec 14 12:37 B1597_spike_array.npy\n"
     ]
    }
   ],
   "source": [
    "!ls -lht /n/groups/datta/tim_sainburg/projects/CDCP_paper/data/population_analyses_with_passive"
   ]
  },
  {
   "cell_type": "code",
   "execution_count": 11,
   "id": "f9e5e533",
   "metadata": {
    "ExecuteTime": {
     "end_time": "2022-01-23T20:31:24.868501Z",
     "start_time": "2022-01-23T20:31:24.841323Z"
    }
   },
   "outputs": [
    {
     "data": {
      "text/plain": [
       "'2021-10-23_23-02-31_846685'"
      ]
     },
     "execution_count": 11,
     "metadata": {},
     "output_type": "execute_result"
    }
   ],
   "source": [
    "# \"2021-10-07_16-05-58_796914\" '2021-10-06_13-30-08_899062' '2021-10-01_17-02-56_744915' \n",
    "statistics_timestamp = '2021-10-23_23-02-31_846685'# datetime.now().strftime(\"%Y-%m-%d_%H-%M-%S_%f\")#\n",
    "statistics_timestamp"
   ]
  },
  {
   "cell_type": "code",
   "execution_count": 12,
   "id": "8c22c611",
   "metadata": {
    "ExecuteTime": {
     "end_time": "2022-01-23T20:31:24.896122Z",
     "start_time": "2022-01-23T20:31:24.870955Z"
    }
   },
   "outputs": [],
   "source": [
    "birds = [\n",
    "    ('B1597', '2021-05-14_12-40-20_423998', 'kilosort2_5'),\n",
    "    ('B1188', '2021-05-31_18-52-29_558216', 'kilosort2_5'),\n",
    "    ('B1595', '2021-07-10_16-42-47_090257', 'kilosort2'),\n",
    "    ##('B1276', '2021-07-14_11-14-02_257025', 'kilosort2'),\n",
    "    ('B1426', '2021-07-14_11-29-39_657273', 'kilosort2'),\n",
    "    ('B1432', '2021-06-01_15-14-38_561892', 'kilosort2_5'),\n",
    "    ('B1170', '2021-06-01_21-01-26_519005', 'kilosort2_5'),\n",
    "    ('B1244', '2021-07-14_12-57-45_546674', 'kilosort2'),\n",
    "    ('B1593', '2021-06-28_18-13-24_826008', 'kilosort2_5'),\n",
    "    ('B1248', '2021-07-03_18-08-01_063431', 'kilosort2_5'),\n",
    "    # acute\n",
    "    #('B1279', '2021-04-12_16-27-07_289527', 'kilosort2_5'),\n",
    "    #('B1500', '2021-08-27_09-24-48_680961', 'kilosort2_5'),\n",
    "    #('B1239', '2021-05-17_22-18-51_557635', 'kilosort2'),\n",
    "    #('B1459', '2021-08-26_21-21-12_755614', 'kilosort2_5'),\n",
    "]"
   ]
  },
  {
   "cell_type": "code",
   "execution_count": 13,
   "id": "fee8b65f",
   "metadata": {
    "ExecuteTime": {
     "end_time": "2022-01-23T20:31:24.918123Z",
     "start_time": "2022-01-23T20:31:24.897999Z"
    }
   },
   "outputs": [],
   "source": [
    "min_playbacks = 1000"
   ]
  },
  {
   "cell_type": "code",
   "execution_count": 14,
   "id": "0e1495e6",
   "metadata": {
    "ExecuteTime": {
     "end_time": "2022-01-23T20:31:24.941123Z",
     "start_time": "2022-01-23T20:31:24.919834Z"
    }
   },
   "outputs": [],
   "source": [
    "import pandas as pd\n",
    "from cdcp.paths import DATA_DIR, ensure_dir\n",
    "import numpy as np\n",
    "import matplotlib.pyplot as plt\n",
    "import datetime\n",
    "from pathlib2 import Path\n",
    "from tqdm.autonotebook import tqdm\n",
    "from scipy.ndimage import gaussian_filter1d\n",
    "\n",
    "from sklearn.metrics.pairwise import (\n",
    "    cosine_similarity,\n",
    "    euclidean_distances,\n",
    "    manhattan_distances,\n",
    ")"
   ]
  },
  {
   "cell_type": "code",
   "execution_count": 15,
   "id": "cc9119b0",
   "metadata": {},
   "outputs": [],
   "source": [
    "def get_unit_spike_trains(\n",
    "    unit_recording_ids,\n",
    "    spikesorting_folder,\n",
    "    sorter,\n",
    "    unit,\n",
    "    bird,\n",
    "    save_folder=\"trial_aligned_spikes\",\n",
    "):\n",
    "    trial_aligned_spikes_list = []\n",
    "    for unit, recording_id in tqdm(\n",
    "        unit_recording_ids, desc=\"unit spike trains\", leave=False, disable=True\n",
    "    ):\n",
    "        trial_aligned_spikes_loc = (\n",
    "            DATA_DIR\n",
    "            / \"spikesorting\"\n",
    "            / save_folder\n",
    "            / bird\n",
    "            / recording_id\n",
    "            / \"{}.pickle.zip\".format(unit)\n",
    "        )\n",
    "        if trial_aligned_spikes_loc.exists():\n",
    "            trial_aligned_spikes = pd.read_pickle(trial_aligned_spikes_loc)\n",
    "            trial_aligned_spikes[\"recording_id\"] = recording_id\n",
    "\n",
    "            trial_aligned_spikes[\"stim\"] = [\n",
    "                i[:-4] if i[-4:].lower() == \".wav\" else i\n",
    "                for i in trial_aligned_spikes.stim.values\n",
    "            ]\n",
    "\n",
    "            mask = [\n",
    "                (i.split(\"_\")[-1].isnumeric() and len(i.split(\"_\")[-1]) == 3)\n",
    "                for i in trial_aligned_spikes.stim.values\n",
    "            ]\n",
    "\n",
    "            # get cue info\n",
    "            trial_aligned_spikes[\"cue\"] = [\n",
    "                i.split(\"_\")[0] if mask else np.nan\n",
    "                for i, m in zip(trial_aligned_spikes.stim.values, mask)\n",
    "            ]\n",
    "            trial_aligned_spikes[\"interp\"] = [\n",
    "                i.split(\"_\")[1] if mask else np.nan\n",
    "                for i, m in zip(trial_aligned_spikes.stim.values, mask)\n",
    "            ]\n",
    "\n",
    "            # for i, m in zip(trial_aligned_spikes.stim.values, mask):\n",
    "            #    if m:\n",
    "            #        int(i.split(\"_\")[2])\n",
    "            trial_aligned_spikes[\"interp_point\"] = [\n",
    "                np.nan if m == False else int(i.split(\"_\")[2])\n",
    "                for i, m in zip(trial_aligned_spikes.stim.values, mask)\n",
    "            ]\n",
    "            trial_aligned_spikes_list.append(trial_aligned_spikes)\n",
    "        else:\n",
    "            0\n",
    "            # print(\"{} does not have trial aligned spikes yet\".format(recording_id))\n",
    "            # print(\"\\t\", trial_aligned_spikes_loc)\n",
    "    if len(trial_aligned_spikes_list) < 1:\n",
    "        #breakme\n",
    "        return None\n",
    "    else:\n",
    "        return pd.concat(trial_aligned_spikes_list)"
   ]
  },
  {
   "cell_type": "code",
   "execution_count": 16,
   "id": "29360fa0",
   "metadata": {},
   "outputs": [],
   "source": [
    "def zscore(x):\n",
    "    return (x - np.mean(x)) / np.std(x)\n",
    "\n",
    "def clip(x, _min = -4, _max = 4):\n",
    "    x[x<_min] = _min\n",
    "    x[x>_max] = _max\n",
    "    return x"
   ]
  },
  {
   "cell_type": "code",
   "execution_count": 17,
   "id": "de360fa2",
   "metadata": {},
   "outputs": [],
   "source": [
    "def get_spike_vector(spike_times, time_min = 0, time_max = 1, n_parts = 5):\n",
    "    return np.histogram(spike_times, bins = np.linspace(time_min, time_max,  n_parts+1))[0]\n",
    "\n",
    "def get_n_spikes(\n",
    "    unit_to_analyze,\n",
    "    spikesorting_folder,\n",
    "    statistics_timestamp,\n",
    "    bird,\n",
    "    n_interp_point_bins = 16,\n",
    "    recompute=False,\n",
    "    parallel=True,\n",
    "    flip_bins=True,\n",
    "    n_time_bins=100,\n",
    "    gaussian_sigma_ms=25,\n",
    "    save=True,\n",
    "    plot=False,\n",
    "):\n",
    "    # load spike trains\n",
    "    trial_aligned_spikes = get_unit_spike_trains(\n",
    "        unit_to_analyze.sort_units,\n",
    "        spikesorting_folder,\n",
    "        sorter,\n",
    "        unit_to_analyze,\n",
    "        bird=bird,\n",
    "        save_folder=\"trial_aligned_spikes_padding_100ms\",\n",
    "    )\n",
    "    if trial_aligned_spikes is None:\n",
    "        # because there are not enough spikes for this unit to be worth it\n",
    "        return\n",
    "\n",
    "    # ensure interp point is an integer\n",
    "    trial_aligned_spikes[\"interp_point_binned\"] = bin_interp_points(\n",
    "        trial_aligned_spikes[\"interp_point\"].values.astype(int),\n",
    "        n_interp_point_bins,\n",
    "        flip_bins=flip_bins,\n",
    "    )\n",
    "    \n",
    "    # subset relevant trials\n",
    "    #trial_aligned_spikes = trial_aligned_spikes[trial_aligned_spikes.passive == False]\n",
    "    #trial_aligned_spikes = trial_aligned_spikes[\n",
    "    #    (np.isin(trial_aligned_spikes.cue, (\"NC\", \"CN\")) == False)\n",
    "    #]\n",
    "\n",
    "    if len(trial_aligned_spikes) < 100:\n",
    "        return\n",
    "\n",
    "    trial_aligned_spikes[\"n_spikes_z\"] = clip(zscore(trial_aligned_spikes.n_spikes.values), -4, 4)\n",
    "    \n",
    "    n_parts = 20\n",
    "    spike_times = np.zeros((len(trial_aligned_spikes), n_parts))\n",
    "    for rowi, (idx, row) in enumerate(trial_aligned_spikes.iterrows()):\n",
    "        if row.cue == 'NC':\n",
    "            spike_times[rowi] = get_spike_vector(row.spike_times, time_min = 0, time_max = 1, n_parts = n_parts)\n",
    "        else:\n",
    "            spike_times[rowi] = get_spike_vector(row.spike_times, time_min = 1, time_max = 2, n_parts = n_parts)\n",
    "    # zscore\n",
    "    spike_times = clip(zscore(spike_times))\n",
    "    trial_aligned_spikes['spike_vector'] = list(spike_times)\n",
    "    \n",
    "    return trial_aligned_spikes[[\"trial_id\", \"cue\", \"interp\", \"interp_point\", \"interp_point_binned\", \"n_spikes_z\", \"spike_vector\"]]"
   ]
  },
  {
   "cell_type": "code",
   "execution_count": 18,
   "id": "d6db4e79",
   "metadata": {},
   "outputs": [],
   "source": [
    "categorical_units_df = pd.read_pickle(DATA_DIR / 'categorical_unit_01_23_22.pickle')\n",
    "categorical_units_df= categorical_units_df[categorical_units_df.categorical_unit == True]"
   ]
  },
  {
   "cell_type": "code",
   "execution_count": 19,
   "id": "06ec733c-f86c-4a0b-a77d-bea2437d89b0",
   "metadata": {},
   "outputs": [],
   "source": [
    "import tempfile\n",
    "import shutil"
   ]
  },
  {
   "cell_type": "code",
   "execution_count": 20,
   "id": "a79844f3",
   "metadata": {},
   "outputs": [
    {
     "data": {
      "application/vnd.jupyter.widget-view+json": {
       "model_id": "2db8a4745fa744de9929b4f67d3c2b6a",
       "version_major": 2,
       "version_minor": 0
      },
      "text/plain": [
       "  0%|          | 0/9 [00:00<?, ?it/s]"
      ]
     },
     "metadata": {},
     "output_type": "display_data"
    },
    {
     "data": {
      "image/png": "[encoded data removed]",
      "text/plain": [
       "<Figure size 1000x200 with 2 Axes>"
      ]
     },
     "metadata": {},
     "output_type": "display_data"
    },
    {
     "name": "stdout",
     "output_type": "stream",
     "text": [
      "B1597 total # merged units: 1763\n"
     ]
    },
    {
     "data": {
      "application/vnd.jupyter.widget-view+json": {
       "model_id": "8d9b67f19bb94a979d7ff6be2e818ada",
       "version_major": 2,
       "version_minor": 0
      },
      "text/plain": [
       "unit:   0%|          | 0/1763 [00:00<?, ?it/s]"
      ]
     },
     "metadata": {},
     "output_type": "display_data"
    },
    {
     "name": "stderr",
     "output_type": "stream",
     "text": [
      "[Parallel(n_jobs=10)]: Using backend LokyBackend with 10 concurrent workers.\n",
      "[Parallel(n_jobs=10)]: Done   5 tasks      | elapsed:   18.6s\n",
      "[Parallel(n_jobs=10)]: Done  12 tasks      | elapsed:   30.6s\n",
      "[Parallel(n_jobs=10)]: Done  21 tasks      | elapsed:   39.4s\n",
      "[Parallel(n_jobs=10)]: Done  30 tasks      | elapsed:   46.6s\n",
      "[Parallel(n_jobs=10)]: Done  41 tasks      | elapsed:   52.1s\n",
      "[Parallel(n_jobs=10)]: Done  52 tasks      | elapsed:   57.9s\n",
      "[Parallel(n_jobs=10)]: Done  65 tasks      | elapsed:  1.1min\n",
      "[Parallel(n_jobs=10)]: Done  78 tasks      | elapsed:  1.1min\n",
      "[Parallel(n_jobs=10)]: Done  93 tasks      | elapsed:  1.3min\n",
      "[Parallel(n_jobs=10)]: Done 108 tasks      | elapsed:  1.4min\n",
      "[Parallel(n_jobs=10)]: Done 125 tasks      | elapsed:  1.5min\n",
      "[Parallel(n_jobs=10)]: Done 142 tasks      | elapsed:  1.5min\n",
      "[Parallel(n_jobs=10)]: Done 161 tasks      | elapsed:  1.7min\n",
      "[Parallel(n_jobs=10)]: Done 180 tasks      | elapsed:  1.7min\n",
      "[Parallel(n_jobs=10)]: Done 201 tasks      | elapsed:  1.9min\n",
      "[Parallel(n_jobs=10)]: Done 222 tasks      | elapsed:  1.9min\n",
      "[Parallel(n_jobs=10)]: Done 245 tasks      | elapsed:  2.1min\n",
      "[Parallel(n_jobs=10)]: Done 268 tasks      | elapsed:  2.2min\n",
      "[Parallel(n_jobs=10)]: Done 293 tasks      | elapsed:  2.2min\n",
      "[Parallel(n_jobs=10)]: Done 318 tasks      | elapsed:  2.3min\n",
      "[Parallel(n_jobs=10)]: Done 345 tasks      | elapsed:  2.4min\n",
      "[Parallel(n_jobs=10)]: Done 372 tasks      | elapsed:  2.5min\n",
      "[Parallel(n_jobs=10)]: Done 401 tasks      | elapsed:  2.6min\n",
      "[Parallel(n_jobs=10)]: Done 430 tasks      | elapsed:  2.7min\n",
      "[Parallel(n_jobs=10)]: Done 461 tasks      | elapsed:  2.7min\n",
      "[Parallel(n_jobs=10)]: Done 492 tasks      | elapsed:  2.8min\n",
      "[Parallel(n_jobs=10)]: Done 525 tasks      | elapsed:  2.9min\n",
      "[Parallel(n_jobs=10)]: Done 558 tasks      | elapsed:  3.0min\n",
      "[Parallel(n_jobs=10)]: Done 593 tasks      | elapsed:  3.1min\n",
      "[Parallel(n_jobs=10)]: Done 628 tasks      | elapsed:  3.1min\n",
      "[Parallel(n_jobs=10)]: Done 665 tasks      | elapsed:  3.3min\n",
      "[Parallel(n_jobs=10)]: Done 702 tasks      | elapsed:  3.4min\n",
      "[Parallel(n_jobs=10)]: Done 741 tasks      | elapsed:  3.5min\n",
      "[Parallel(n_jobs=10)]: Done 780 tasks      | elapsed:  3.6min\n",
      "[Parallel(n_jobs=10)]: Done 821 tasks      | elapsed:  3.7min\n",
      "[Parallel(n_jobs=10)]: Done 862 tasks      | elapsed:  3.7min\n",
      "[Parallel(n_jobs=10)]: Done 905 tasks      | elapsed:  3.8min\n",
      "[Parallel(n_jobs=10)]: Done 948 tasks      | elapsed:  3.9min\n",
      "[Parallel(n_jobs=10)]: Done 993 tasks      | elapsed:  4.1min\n",
      "[Parallel(n_jobs=10)]: Done 1038 tasks      | elapsed:  4.2min\n",
      "[Parallel(n_jobs=10)]: Done 1085 tasks      | elapsed:  4.3min\n",
      "[Parallel(n_jobs=10)]: Done 1132 tasks      | elapsed:  4.4min\n",
      "[Parallel(n_jobs=10)]: Done 1181 tasks      | elapsed:  4.5min\n",
      "[Parallel(n_jobs=10)]: Done 1230 tasks      | elapsed:  4.6min\n",
      "[Parallel(n_jobs=10)]: Done 1281 tasks      | elapsed:  4.7min\n",
      "[Parallel(n_jobs=10)]: Done 1332 tasks      | elapsed:  4.8min\n",
      "[Parallel(n_jobs=10)]: Done 1385 tasks      | elapsed:  5.1min\n",
      "[Parallel(n_jobs=10)]: Done 1438 tasks      | elapsed:  5.2min\n",
      "[Parallel(n_jobs=10)]: Done 1493 tasks      | elapsed:  5.3min\n",
      "[Parallel(n_jobs=10)]: Done 1548 tasks      | elapsed:  5.4min\n",
      "[Parallel(n_jobs=10)]: Done 1605 tasks      | elapsed:  5.5min\n",
      "[Parallel(n_jobs=10)]: Done 1662 tasks      | elapsed:  5.5min\n",
      "[Parallel(n_jobs=10)]: Done 1721 tasks      | elapsed:  5.5min\n",
      "[Parallel(n_jobs=10)]: Done 1763 out of 1763 | elapsed:  5.5min finished\n"
     ]
    },
    {
     "data": {
      "application/vnd.jupyter.widget-view+json": {
       "model_id": "5bd98e69413b4cf4947bb912fd281e3a",
       "version_major": 2,
       "version_minor": 0
      },
      "text/plain": [
       "  0%|          | 0/14022988 [00:00<?, ?it/s]"
      ]
     },
     "metadata": {},
     "output_type": "display_data"
    },
    {
     "name": "stdout",
     "output_type": "stream",
     "text": [
      "saving to pickle\n"
     ]
    },
    {
     "data": {
      "image/png": "[encoded data removed]",
      "text/plain": [
       "<Figure size 1000x200 with 2 Axes>"
      ]
     },
     "metadata": {},
     "output_type": "display_data"
    },
    {
     "name": "stdout",
     "output_type": "stream",
     "text": [
      "B1188 total # merged units: 214\n"
     ]
    },
    {
     "data": {
      "application/vnd.jupyter.widget-view+json": {
       "model_id": "9b5d48fd6b174009bd2896803c3d8cfd",
       "version_major": 2,
       "version_minor": 0
      },
      "text/plain": [
       "unit:   0%|          | 0/214 [00:00<?, ?it/s]"
      ]
     },
     "metadata": {},
     "output_type": "display_data"
    },
    {
     "name": "stderr",
     "output_type": "stream",
     "text": [
      "[Parallel(n_jobs=10)]: Using backend LokyBackend with 10 concurrent workers.\n",
      "[Parallel(n_jobs=10)]: Done   5 tasks      | elapsed:    8.1s\n",
      "[Parallel(n_jobs=10)]: Done  12 tasks      | elapsed:    9.1s\n",
      "[Parallel(n_jobs=10)]: Done  21 tasks      | elapsed:   10.4s\n",
      "[Parallel(n_jobs=10)]: Done  30 tasks      | elapsed:   11.3s\n",
      "[Parallel(n_jobs=10)]: Done  41 tasks      | elapsed:   12.8s\n",
      "[Parallel(n_jobs=10)]: Done  52 tasks      | elapsed:   14.4s\n",
      "[Parallel(n_jobs=10)]: Done  65 tasks      | elapsed:   16.3s\n",
      "[Parallel(n_jobs=10)]: Done  78 tasks      | elapsed:   17.7s\n",
      "[Parallel(n_jobs=10)]: Done  93 tasks      | elapsed:   19.3s\n",
      "[Parallel(n_jobs=10)]: Done 108 tasks      | elapsed:   21.2s\n",
      "[Parallel(n_jobs=10)]: Done 125 tasks      | elapsed:   23.0s\n",
      "[Parallel(n_jobs=10)]: Done 142 tasks      | elapsed:   24.7s\n",
      "[Parallel(n_jobs=10)]: Done 161 tasks      | elapsed:   26.1s\n",
      "[Parallel(n_jobs=10)]: Done 180 tasks      | elapsed:   27.5s\n",
      "[Parallel(n_jobs=10)]: Done 214 out of 214 | elapsed:   29.1s finished\n"
     ]
    },
    {
     "data": {
      "application/vnd.jupyter.widget-view+json": {
       "model_id": "3664290d74a641e7aab1b306323f1e60",
       "version_major": 2,
       "version_minor": 0
      },
      "text/plain": [
       "  0%|          | 0/1020279 [00:00<?, ?it/s]"
      ]
     },
     "metadata": {},
     "output_type": "display_data"
    },
    {
     "name": "stdout",
     "output_type": "stream",
     "text": [
      "saving to pickle\n"
     ]
    },
    {
     "data": {
      "image/png": "[encoded data removed]",
      "text/plain": [
       "<Figure size 1000x200 with 2 Axes>"
      ]
     },
     "metadata": {},
     "output_type": "display_data"
    },
    {
     "name": "stdout",
     "output_type": "stream",
     "text": [
      "B1595 total # merged units: 45\n"
     ]
    },
    {
     "data": {
      "application/vnd.jupyter.widget-view+json": {
       "model_id": "bb7e3e850d034aa6bdc1b1409254929a",
       "version_major": 2,
       "version_minor": 0
      },
      "text/plain": [
       "unit:   0%|          | 0/45 [00:00<?, ?it/s]"
      ]
     },
     "metadata": {},
     "output_type": "display_data"
    },
    {
     "name": "stderr",
     "output_type": "stream",
     "text": [
      "[Parallel(n_jobs=10)]: Using backend LokyBackend with 10 concurrent workers.\n",
      "[Parallel(n_jobs=10)]: Done   5 tasks      | elapsed:    2.9s\n",
      "[Parallel(n_jobs=10)]: Done  12 tasks      | elapsed:    3.3s\n",
      "[Parallel(n_jobs=10)]: Done  21 tasks      | elapsed:    3.7s\n",
      "[Parallel(n_jobs=10)]: Done  31 out of  45 | elapsed:    4.1s remaining:    1.9s\n",
      "[Parallel(n_jobs=10)]: Done  36 out of  45 | elapsed:    5.0s remaining:    1.2s\n",
      "[Parallel(n_jobs=10)]: Done  41 out of  45 | elapsed:    5.3s remaining:    0.5s\n",
      "[Parallel(n_jobs=10)]: Done  45 out of  45 | elapsed:    6.0s finished\n"
     ]
    },
    {
     "data": {
      "application/vnd.jupyter.widget-view+json": {
       "model_id": "dd5e4df05e384352a0eeabb3574199da",
       "version_major": 2,
       "version_minor": 0
      },
      "text/plain": [
       "  0%|          | 0/212354 [00:00<?, ?it/s]"
      ]
     },
     "metadata": {},
     "output_type": "display_data"
    },
    {
     "name": "stdout",
     "output_type": "stream",
     "text": [
      "saving to pickle\n"
     ]
    },
    {
     "data": {
      "image/png": "[encoded data removed]",
      "text/plain": [
       "<Figure size 1000x200 with 2 Axes>"
      ]
     },
     "metadata": {},
     "output_type": "display_data"
    },
    {
     "name": "stdout",
     "output_type": "stream",
     "text": [
      "B1426 total # merged units: 65\n"
     ]
    },
    {
     "data": {
      "application/vnd.jupyter.widget-view+json": {
       "model_id": "0115af658a8c4d7e8008d80d025f98e9",
       "version_major": 2,
       "version_minor": 0
      },
      "text/plain": [
       "unit:   0%|          | 0/65 [00:00<?, ?it/s]"
      ]
     },
     "metadata": {},
     "output_type": "display_data"
    },
    {
     "name": "stderr",
     "output_type": "stream",
     "text": [
      "[Parallel(n_jobs=10)]: Using backend LokyBackend with 10 concurrent workers.\n",
      "[Parallel(n_jobs=10)]: Done   5 tasks      | elapsed:    1.2s\n",
      "[Parallel(n_jobs=10)]: Done  12 tasks      | elapsed:    2.1s\n",
      "[Parallel(n_jobs=10)]: Done  21 tasks      | elapsed:    3.2s\n",
      "[Parallel(n_jobs=10)]: Done  30 tasks      | elapsed:    3.6s\n",
      "[Parallel(n_jobs=10)]: Done  41 tasks      | elapsed:    4.5s\n",
      "[Parallel(n_jobs=10)]: Done  53 out of  65 | elapsed:    4.9s remaining:    1.1s\n",
      "[Parallel(n_jobs=10)]: Done  60 out of  65 | elapsed:    5.1s remaining:    0.4s\n",
      "[Parallel(n_jobs=10)]: Done  65 out of  65 | elapsed:    5.2s finished\n"
     ]
    },
    {
     "data": {
      "application/vnd.jupyter.widget-view+json": {
       "model_id": "db8887c06cbb4267a72d783747340194",
       "version_major": 2,
       "version_minor": 0
      },
      "text/plain": [
       "  0%|          | 0/226777 [00:00<?, ?it/s]"
      ]
     },
     "metadata": {},
     "output_type": "display_data"
    },
    {
     "name": "stdout",
     "output_type": "stream",
     "text": [
      "saving to pickle\n"
     ]
    },
    {
     "data": {
      "image/png": "[encoded data removed]",
      "text/plain": [
       "<Figure size 1000x200 with 2 Axes>"
      ]
     },
     "metadata": {},
     "output_type": "display_data"
    },
    {
     "name": "stdout",
     "output_type": "stream",
     "text": [
      "B1432 total # merged units: 968\n"
     ]
    },
    {
     "data": {
      "application/vnd.jupyter.widget-view+json": {
       "model_id": "9cc45351af424eedb859e1e1e162797d",
       "version_major": 2,
       "version_minor": 0
      },
      "text/plain": [
       "unit:   0%|          | 0/968 [00:00<?, ?it/s]"
      ]
     },
     "metadata": {},
     "output_type": "display_data"
    },
    {
     "name": "stderr",
     "output_type": "stream",
     "text": [
      "[Parallel(n_jobs=10)]: Using backend LokyBackend with 10 concurrent workers.\n",
      "[Parallel(n_jobs=10)]: Done   5 tasks      | elapsed:    7.7s\n",
      "[Parallel(n_jobs=10)]: Done  12 tasks      | elapsed:   12.6s\n",
      "[Parallel(n_jobs=10)]: Done  21 tasks      | elapsed:   16.7s\n",
      "[Parallel(n_jobs=10)]: Done  30 tasks      | elapsed:   20.0s\n",
      "[Parallel(n_jobs=10)]: Done  41 tasks      | elapsed:   23.1s\n",
      "[Parallel(n_jobs=10)]: Done  52 tasks      | elapsed:   25.9s\n",
      "[Parallel(n_jobs=10)]: Done  65 tasks      | elapsed:   28.6s\n",
      "[Parallel(n_jobs=10)]: Done  78 tasks      | elapsed:   32.0s\n",
      "[Parallel(n_jobs=10)]: Done  93 tasks      | elapsed:   35.3s\n",
      "[Parallel(n_jobs=10)]: Done 108 tasks      | elapsed:   38.2s\n",
      "[Parallel(n_jobs=10)]: Done 125 tasks      | elapsed:   42.4s\n",
      "[Parallel(n_jobs=10)]: Done 142 tasks      | elapsed:   45.5s\n",
      "[Parallel(n_jobs=10)]: Done 161 tasks      | elapsed:   49.6s\n",
      "[Parallel(n_jobs=10)]: Done 180 tasks      | elapsed:   53.9s\n",
      "[Parallel(n_jobs=10)]: Done 201 tasks      | elapsed:   58.0s\n",
      "[Parallel(n_jobs=10)]: Done 222 tasks      | elapsed:  1.0min\n",
      "[Parallel(n_jobs=10)]: Done 245 tasks      | elapsed:  1.1min\n",
      "[Parallel(n_jobs=10)]: Done 268 tasks      | elapsed:  1.2min\n",
      "[Parallel(n_jobs=10)]: Done 293 tasks      | elapsed:  1.3min\n",
      "[Parallel(n_jobs=10)]: Done 318 tasks      | elapsed:  1.3min\n",
      "[Parallel(n_jobs=10)]: Done 345 tasks      | elapsed:  1.5min\n",
      "[Parallel(n_jobs=10)]: Done 372 tasks      | elapsed:  1.5min\n",
      "[Parallel(n_jobs=10)]: Done 401 tasks      | elapsed:  1.6min\n",
      "[Parallel(n_jobs=10)]: Done 430 tasks      | elapsed:  1.7min\n",
      "[Parallel(n_jobs=10)]: Done 461 tasks      | elapsed:  1.8min\n",
      "[Parallel(n_jobs=10)]: Done 492 tasks      | elapsed:  1.9min\n",
      "[Parallel(n_jobs=10)]: Done 525 tasks      | elapsed:  2.0min\n",
      "[Parallel(n_jobs=10)]: Done 558 tasks      | elapsed:  2.1min\n",
      "[Parallel(n_jobs=10)]: Done 593 tasks      | elapsed:  2.2min\n",
      "[Parallel(n_jobs=10)]: Done 628 tasks      | elapsed:  2.3min\n",
      "[Parallel(n_jobs=10)]: Done 665 tasks      | elapsed:  2.4min\n",
      "[Parallel(n_jobs=10)]: Done 702 tasks      | elapsed:  2.5min\n",
      "[Parallel(n_jobs=10)]: Done 741 tasks      | elapsed:  2.6min\n",
      "[Parallel(n_jobs=10)]: Done 780 tasks      | elapsed:  2.6min\n",
      "[Parallel(n_jobs=10)]: Done 821 tasks      | elapsed:  2.7min\n",
      "[Parallel(n_jobs=10)]: Done 862 tasks      | elapsed:  2.7min\n",
      "[Parallel(n_jobs=10)]: Done 905 tasks      | elapsed:  2.7min\n",
      "[Parallel(n_jobs=10)]: Done 948 tasks      | elapsed:  2.8min\n",
      "[Parallel(n_jobs=10)]: Done 968 out of 968 | elapsed:  2.8min finished\n"
     ]
    },
    {
     "data": {
      "application/vnd.jupyter.widget-view+json": {
       "model_id": "8b983d9c5858478893f5b7461c132279",
       "version_major": 2,
       "version_minor": 0
      },
      "text/plain": [
       "  0%|          | 0/7069124 [00:00<?, ?it/s]"
      ]
     },
     "metadata": {},
     "output_type": "display_data"
    },
    {
     "name": "stdout",
     "output_type": "stream",
     "text": [
      "saving to pickle\n"
     ]
    },
    {
     "data": {
      "image/png": "[encoded data removed]",
      "text/plain": [
       "<Figure size 1000x200 with 2 Axes>"
      ]
     },
     "metadata": {},
     "output_type": "display_data"
    },
    {
     "name": "stdout",
     "output_type": "stream",
     "text": [
      "B1170 total # merged units: 467\n"
     ]
    },
    {
     "data": {
      "application/vnd.jupyter.widget-view+json": {
       "model_id": "5ecf947fa6114d728b9811bf6313060c",
       "version_major": 2,
       "version_minor": 0
      },
      "text/plain": [
       "unit:   0%|          | 0/467 [00:00<?, ?it/s]"
      ]
     },
     "metadata": {},
     "output_type": "display_data"
    },
    {
     "name": "stderr",
     "output_type": "stream",
     "text": [
      "[Parallel(n_jobs=10)]: Using backend LokyBackend with 10 concurrent workers.\n",
      "[Parallel(n_jobs=10)]: Done   5 tasks      | elapsed:   10.4s\n",
      "[Parallel(n_jobs=10)]: Done  12 tasks      | elapsed:   17.8s\n",
      "[Parallel(n_jobs=10)]: Done  21 tasks      | elapsed:   20.6s\n",
      "[Parallel(n_jobs=10)]: Done  30 tasks      | elapsed:   21.2s\n",
      "[Parallel(n_jobs=10)]: Done  41 tasks      | elapsed:   24.8s\n",
      "[Parallel(n_jobs=10)]: Done  52 tasks      | elapsed:   26.7s\n",
      "[Parallel(n_jobs=10)]: Done  65 tasks      | elapsed:   28.8s\n",
      "[Parallel(n_jobs=10)]: Done  78 tasks      | elapsed:   30.6s\n",
      "[Parallel(n_jobs=10)]: Done  93 tasks      | elapsed:   33.6s\n",
      "[Parallel(n_jobs=10)]: Done 108 tasks      | elapsed:   35.6s\n",
      "[Parallel(n_jobs=10)]: Done 125 tasks      | elapsed:   38.6s\n",
      "[Parallel(n_jobs=10)]: Done 142 tasks      | elapsed:   41.1s\n",
      "[Parallel(n_jobs=10)]: Done 161 tasks      | elapsed:   44.0s\n",
      "[Parallel(n_jobs=10)]: Done 180 tasks      | elapsed:   46.8s\n",
      "[Parallel(n_jobs=10)]: Done 201 tasks      | elapsed:   49.8s\n",
      "[Parallel(n_jobs=10)]: Done 222 tasks      | elapsed:   52.9s\n",
      "[Parallel(n_jobs=10)]: Done 245 tasks      | elapsed:   59.4s\n",
      "[Parallel(n_jobs=10)]: Done 268 tasks      | elapsed:  1.0min\n",
      "[Parallel(n_jobs=10)]: Done 293 tasks      | elapsed:  1.1min\n",
      "[Parallel(n_jobs=10)]: Done 318 tasks      | elapsed:  1.1min\n",
      "[Parallel(n_jobs=10)]: Done 345 tasks      | elapsed:  1.2min\n",
      "[Parallel(n_jobs=10)]: Done 372 tasks      | elapsed:  1.2min\n",
      "[Parallel(n_jobs=10)]: Done 401 tasks      | elapsed:  1.2min\n",
      "[Parallel(n_jobs=10)]: Done 430 tasks      | elapsed:  1.3min\n",
      "[Parallel(n_jobs=10)]: Done 467 out of 467 | elapsed:  1.3min finished\n"
     ]
    },
    {
     "data": {
      "application/vnd.jupyter.widget-view+json": {
       "model_id": "613bb3a7a46245f78e1946e113af8cd1",
       "version_major": 2,
       "version_minor": 0
      },
      "text/plain": [
       "  0%|          | 0/2901420 [00:00<?, ?it/s]"
      ]
     },
     "metadata": {},
     "output_type": "display_data"
    },
    {
     "name": "stdout",
     "output_type": "stream",
     "text": [
      "saving to pickle\n"
     ]
    },
    {
     "data": {
      "image/png": "[encoded data removed]",
      "text/plain": [
       "<Figure size 1000x200 with 2 Axes>"
      ]
     },
     "metadata": {},
     "output_type": "display_data"
    },
    {
     "name": "stdout",
     "output_type": "stream",
     "text": [
      "B1244 total # merged units: 123\n"
     ]
    },
    {
     "data": {
      "application/vnd.jupyter.widget-view+json": {
       "model_id": "39a04b6167234e12bf30dc7a2dc87025",
       "version_major": 2,
       "version_minor": 0
      },
      "text/plain": [
       "unit:   0%|          | 0/123 [00:00<?, ?it/s]"
      ]
     },
     "metadata": {},
     "output_type": "display_data"
    },
    {
     "name": "stderr",
     "output_type": "stream",
     "text": [
      "[Parallel(n_jobs=10)]: Using backend LokyBackend with 10 concurrent workers.\n",
      "[Parallel(n_jobs=10)]: Done   5 tasks      | elapsed:    7.1s\n",
      "[Parallel(n_jobs=10)]: Done  12 tasks      | elapsed:    9.0s\n",
      "[Parallel(n_jobs=10)]: Done  21 tasks      | elapsed:   10.8s\n",
      "[Parallel(n_jobs=10)]: Done  30 tasks      | elapsed:   11.3s\n",
      "[Parallel(n_jobs=10)]: Done  41 tasks      | elapsed:   14.5s\n",
      "[Parallel(n_jobs=10)]: Done  52 tasks      | elapsed:   16.5s\n",
      "[Parallel(n_jobs=10)]: Done  65 tasks      | elapsed:   18.3s\n",
      "[Parallel(n_jobs=10)]: Done  78 tasks      | elapsed:   20.1s\n",
      "[Parallel(n_jobs=10)]: Done  93 tasks      | elapsed:   22.8s\n",
      "[Parallel(n_jobs=10)]: Done 117 out of 123 | elapsed:   24.3s remaining:    1.2s\n",
      "[Parallel(n_jobs=10)]: Done 123 out of 123 | elapsed:   24.6s finished\n"
     ]
    },
    {
     "data": {
      "application/vnd.jupyter.widget-view+json": {
       "model_id": "1c53a16b71054c51866a0fbe1d98bf26",
       "version_major": 2,
       "version_minor": 0
      },
      "text/plain": [
       "  0%|          | 0/841046 [00:00<?, ?it/s]"
      ]
     },
     "metadata": {},
     "output_type": "display_data"
    },
    {
     "name": "stdout",
     "output_type": "stream",
     "text": [
      "saving to pickle\n"
     ]
    },
    {
     "data": {
      "image/png": "[encoded data removed]",
      "text/plain": [
       "<Figure size 1000x200 with 2 Axes>"
      ]
     },
     "metadata": {},
     "output_type": "display_data"
    },
    {
     "name": "stdout",
     "output_type": "stream",
     "text": [
      "B1593 total # merged units: 2054\n"
     ]
    },
    {
     "data": {
      "application/vnd.jupyter.widget-view+json": {
       "model_id": "330469d851f249bf90332ce096cf6e57",
       "version_major": 2,
       "version_minor": 0
      },
      "text/plain": [
       "unit:   0%|          | 0/2054 [00:00<?, ?it/s]"
      ]
     },
     "metadata": {},
     "output_type": "display_data"
    },
    {
     "name": "stderr",
     "output_type": "stream",
     "text": [
      "[Parallel(n_jobs=10)]: Using backend LokyBackend with 10 concurrent workers.\n",
      "[Parallel(n_jobs=10)]: Done   5 tasks      | elapsed:   10.0s\n",
      "[Parallel(n_jobs=10)]: Done  12 tasks      | elapsed:   16.3s\n",
      "[Parallel(n_jobs=10)]: Done  21 tasks      | elapsed:   21.4s\n",
      "[Parallel(n_jobs=10)]: Done  30 tasks      | elapsed:   25.8s\n",
      "[Parallel(n_jobs=10)]: Done  41 tasks      | elapsed:   29.9s\n",
      "[Parallel(n_jobs=10)]: Done  52 tasks      | elapsed:   33.7s\n",
      "[Parallel(n_jobs=10)]: Done  65 tasks      | elapsed:   38.8s\n",
      "[Parallel(n_jobs=10)]: Done  78 tasks      | elapsed:   43.3s\n",
      "[Parallel(n_jobs=10)]: Done  93 tasks      | elapsed:   47.6s\n",
      "[Parallel(n_jobs=10)]: Done 108 tasks      | elapsed:   51.4s\n",
      "[Parallel(n_jobs=10)]: Done 125 tasks      | elapsed:   55.9s\n",
      "[Parallel(n_jobs=10)]: Done 142 tasks      | elapsed:  1.0min\n",
      "[Parallel(n_jobs=10)]: Done 161 tasks      | elapsed:  1.1min\n",
      "[Parallel(n_jobs=10)]: Done 180 tasks      | elapsed:  1.2min\n",
      "[Parallel(n_jobs=10)]: Done 201 tasks      | elapsed:  1.2min\n",
      "[Parallel(n_jobs=10)]: Done 222 tasks      | elapsed:  1.3min\n",
      "[Parallel(n_jobs=10)]: Done 245 tasks      | elapsed:  1.4min\n",
      "[Parallel(n_jobs=10)]: Done 268 tasks      | elapsed:  1.5min\n",
      "[Parallel(n_jobs=10)]: Done 293 tasks      | elapsed:  1.5min\n",
      "[Parallel(n_jobs=10)]: Done 318 tasks      | elapsed:  1.6min\n",
      "[Parallel(n_jobs=10)]: Done 345 tasks      | elapsed:  1.7min\n",
      "[Parallel(n_jobs=10)]: Done 372 tasks      | elapsed:  1.8min\n",
      "[Parallel(n_jobs=10)]: Done 401 tasks      | elapsed:  1.9min\n",
      "[Parallel(n_jobs=10)]: Done 430 tasks      | elapsed:  1.9min\n",
      "[Parallel(n_jobs=10)]: Done 461 tasks      | elapsed:  2.0min\n",
      "[Parallel(n_jobs=10)]: Done 492 tasks      | elapsed:  2.1min\n",
      "[Parallel(n_jobs=10)]: Done 525 tasks      | elapsed:  2.1min\n",
      "[Parallel(n_jobs=10)]: Done 558 tasks      | elapsed:  2.3min\n",
      "[Parallel(n_jobs=10)]: Done 593 tasks      | elapsed:  2.3min\n",
      "[Parallel(n_jobs=10)]: Done 628 tasks      | elapsed:  2.4min\n",
      "[Parallel(n_jobs=10)]: Done 665 tasks      | elapsed:  2.5min\n",
      "[Parallel(n_jobs=10)]: Done 702 tasks      | elapsed:  2.6min\n",
      "[Parallel(n_jobs=10)]: Done 741 tasks      | elapsed:  2.7min\n",
      "[Parallel(n_jobs=10)]: Done 780 tasks      | elapsed:  2.7min\n",
      "[Parallel(n_jobs=10)]: Done 821 tasks      | elapsed:  2.9min\n",
      "[Parallel(n_jobs=10)]: Done 862 tasks      | elapsed:  3.0min\n",
      "[Parallel(n_jobs=10)]: Done 905 tasks      | elapsed:  3.0min\n",
      "[Parallel(n_jobs=10)]: Done 948 tasks      | elapsed:  3.1min\n",
      "[Parallel(n_jobs=10)]: Done 993 tasks      | elapsed:  3.2min\n",
      "[Parallel(n_jobs=10)]: Done 1038 tasks      | elapsed:  3.3min\n",
      "[Parallel(n_jobs=10)]: Done 1085 tasks      | elapsed:  3.4min\n",
      "[Parallel(n_jobs=10)]: Done 1132 tasks      | elapsed:  3.5min\n",
      "[Parallel(n_jobs=10)]: Done 1181 tasks      | elapsed:  3.7min\n",
      "[Parallel(n_jobs=10)]: Done 1230 tasks      | elapsed:  3.8min\n",
      "[Parallel(n_jobs=10)]: Done 1281 tasks      | elapsed:  3.9min\n",
      "[Parallel(n_jobs=10)]: Done 1332 tasks      | elapsed:  4.0min\n",
      "[Parallel(n_jobs=10)]: Done 1385 tasks      | elapsed:  4.0min\n",
      "[Parallel(n_jobs=10)]: Done 1438 tasks      | elapsed:  4.1min\n",
      "[Parallel(n_jobs=10)]: Done 1493 tasks      | elapsed:  4.2min\n",
      "[Parallel(n_jobs=10)]: Done 1548 tasks      | elapsed:  4.3min\n",
      "[Parallel(n_jobs=10)]: Done 1605 tasks      | elapsed:  4.4min\n",
      "[Parallel(n_jobs=10)]: Done 1662 tasks      | elapsed:  4.6min\n",
      "[Parallel(n_jobs=10)]: Done 1721 tasks      | elapsed:  4.7min\n",
      "[Parallel(n_jobs=10)]: Done 1780 tasks      | elapsed:  4.8min\n",
      "[Parallel(n_jobs=10)]: Done 1841 tasks      | elapsed:  4.9min\n",
      "[Parallel(n_jobs=10)]: Done 1902 tasks      | elapsed:  5.0min\n",
      "[Parallel(n_jobs=10)]: Done 1965 tasks      | elapsed:  5.1min\n",
      "[Parallel(n_jobs=10)]: Done 2028 tasks      | elapsed:  5.2min\n",
      "[Parallel(n_jobs=10)]: Done 2054 out of 2054 | elapsed:  5.2min finished\n"
     ]
    },
    {
     "data": {
      "application/vnd.jupyter.widget-view+json": {
       "model_id": "43509eee4060489e9d8cdf751f0aed67",
       "version_major": 2,
       "version_minor": 0
      },
      "text/plain": [
       "  0%|          | 0/13320543 [00:00<?, ?it/s]"
      ]
     },
     "metadata": {},
     "output_type": "display_data"
    },
    {
     "name": "stdout",
     "output_type": "stream",
     "text": [
      "saving to pickle\n"
     ]
    },
    {
     "data": {
      "image/png": "[encoded data removed]",
      "text/plain": [
       "<Figure size 1000x200 with 2 Axes>"
      ]
     },
     "metadata": {},
     "output_type": "display_data"
    },
    {
     "name": "stdout",
     "output_type": "stream",
     "text": [
      "B1248 total # merged units: 1021\n"
     ]
    },
    {
     "data": {
      "application/vnd.jupyter.widget-view+json": {
       "model_id": "a8d6370950c743d3b767e19dc4b7b0cd",
       "version_major": 2,
       "version_minor": 0
      },
      "text/plain": [
       "unit:   0%|          | 0/1021 [00:00<?, ?it/s]"
      ]
     },
     "metadata": {},
     "output_type": "display_data"
    },
    {
     "name": "stderr",
     "output_type": "stream",
     "text": [
      "[Parallel(n_jobs=10)]: Using backend LokyBackend with 10 concurrent workers.\n",
      "[Parallel(n_jobs=10)]: Done   5 tasks      | elapsed:   12.7s\n",
      "[Parallel(n_jobs=10)]: Done  12 tasks      | elapsed:   16.7s\n",
      "[Parallel(n_jobs=10)]: Done  21 tasks      | elapsed:   19.8s\n",
      "[Parallel(n_jobs=10)]: Done  30 tasks      | elapsed:   22.4s\n",
      "[Parallel(n_jobs=10)]: Done  41 tasks      | elapsed:   25.2s\n",
      "[Parallel(n_jobs=10)]: Done  52 tasks      | elapsed:   27.6s\n",
      "[Parallel(n_jobs=10)]: Done  65 tasks      | elapsed:   29.7s\n",
      "[Parallel(n_jobs=10)]: Done  78 tasks      | elapsed:   31.8s\n",
      "[Parallel(n_jobs=10)]: Done  93 tasks      | elapsed:   34.3s\n",
      "[Parallel(n_jobs=10)]: Done 108 tasks      | elapsed:   36.5s\n",
      "[Parallel(n_jobs=10)]: Done 125 tasks      | elapsed:   39.1s\n",
      "[Parallel(n_jobs=10)]: Done 142 tasks      | elapsed:   41.7s\n",
      "[Parallel(n_jobs=10)]: Done 161 tasks      | elapsed:   52.7s\n",
      "[Parallel(n_jobs=10)]: Done 180 tasks      | elapsed:   54.5s\n",
      "[Parallel(n_jobs=10)]: Done 201 tasks      | elapsed:   58.4s\n",
      "[Parallel(n_jobs=10)]: Done 222 tasks      | elapsed:  1.0min\n",
      "[Parallel(n_jobs=10)]: Done 245 tasks      | elapsed:  1.1min\n",
      "[Parallel(n_jobs=10)]: Done 268 tasks      | elapsed:  1.1min\n",
      "[Parallel(n_jobs=10)]: Done 293 tasks      | elapsed:  1.2min\n",
      "[Parallel(n_jobs=10)]: Done 318 tasks      | elapsed:  1.2min\n",
      "[Parallel(n_jobs=10)]: Done 345 tasks      | elapsed:  1.3min\n",
      "[Parallel(n_jobs=10)]: Done 372 tasks      | elapsed:  1.4min\n",
      "[Parallel(n_jobs=10)]: Done 401 tasks      | elapsed:  1.4min\n",
      "[Parallel(n_jobs=10)]: Done 430 tasks      | elapsed:  1.5min\n",
      "[Parallel(n_jobs=10)]: Done 461 tasks      | elapsed:  1.5min\n",
      "[Parallel(n_jobs=10)]: Done 492 tasks      | elapsed:  1.6min\n",
      "[Parallel(n_jobs=10)]: Done 525 tasks      | elapsed:  1.7min\n",
      "[Parallel(n_jobs=10)]: Done 558 tasks      | elapsed:  1.7min\n",
      "[Parallel(n_jobs=10)]: Done 593 tasks      | elapsed:  1.8min\n",
      "[Parallel(n_jobs=10)]: Done 628 tasks      | elapsed:  1.9min\n",
      "[Parallel(n_jobs=10)]: Done 665 tasks      | elapsed:  1.9min\n",
      "[Parallel(n_jobs=10)]: Done 702 tasks      | elapsed:  2.0min\n",
      "[Parallel(n_jobs=10)]: Done 741 tasks      | elapsed:  2.1min\n",
      "[Parallel(n_jobs=10)]: Done 780 tasks      | elapsed:  2.1min\n",
      "[Parallel(n_jobs=10)]: Done 821 tasks      | elapsed:  2.2min\n",
      "[Parallel(n_jobs=10)]: Done 862 tasks      | elapsed:  2.4min\n",
      "[Parallel(n_jobs=10)]: Done 905 tasks      | elapsed:  2.5min\n",
      "[Parallel(n_jobs=10)]: Done 948 tasks      | elapsed:  2.6min\n",
      "[Parallel(n_jobs=10)]: Done 993 tasks      | elapsed:  2.6min\n",
      "[Parallel(n_jobs=10)]: Done 1021 out of 1021 | elapsed:  2.6min finished\n"
     ]
    },
    {
     "data": {
      "application/vnd.jupyter.widget-view+json": {
       "model_id": "33fc3ff466204f05bba832d481c654b8",
       "version_major": 2,
       "version_minor": 0
      },
      "text/plain": [
       "  0%|          | 0/6172668 [00:00<?, ?it/s]"
      ]
     },
     "metadata": {},
     "output_type": "display_data"
    },
    {
     "name": "stdout",
     "output_type": "stream",
     "text": [
      "saving to pickle\n"
     ]
    }
   ],
   "source": [
    "for bird, timestamp, sorter in tqdm(birds):\n",
    "    spikesorting_folder = (DATA_DIR\n",
    "                / \"spikesorting\"\n",
    "                / bird\n",
    "                / timestamp)\n",
    "    # get the summary of recordings for the bird\n",
    "    recording_summary_df = pd.read_pickle(\n",
    "        DATA_DIR / \"spikesorting\" / \"recording_df\" / f\"{bird}.pickle.zip\"\n",
    "    )\n",
    "\n",
    "    # get units that are to be merged\n",
    "    merged_units = pd.read_pickle(\n",
    "            DATA_DIR / \"spikesorting\" / \"unit_clusters\" / f\"{bird}.pickle.zip\"\n",
    "        )\n",
    "    merged_units = merged_units.sort_values(by='n_playbacks', ascending=False)\n",
    "    merged_units = merged_units[merged_units.n_playbacks.astype('float')  > min_playbacks]\n",
    "    \n",
    "    # subset only units that are categorical\n",
    "    categorical_merged_units_mask = np.isin(merged_units.cluster_id.values, categorical_units_df[categorical_units_df['bird'] == bird].unit.astype(int).values)\n",
    "    merged_units = merged_units[categorical_merged_units_mask]\n",
    "    \n",
    "    plot = True\n",
    "    if plot:\n",
    "        fig, axs = plt.subplots(ncols=2, figsize=(10,2))\n",
    "        axs[0].hist(np.log10(merged_units.n_playbacks.values.astype('float')+1), bins = 100);\n",
    "        axs[0].set_title('log # playbacks')\n",
    "        axs[1].hist(np.log10(merged_units.n_spikes.values.astype('float')+1), bins = 100);\n",
    "        axs[1].set_title('log # spikes')\n",
    "        plt.show()\n",
    "        print('{} total # merged units: {}'.format(bird, len(merged_units)))\n",
    "\n",
    "    ensure_dir(spikesorting_folder / 'population_statistics' / statistics_timestamp)\n",
    "    \n",
    "    \n",
    "    with warnings.catch_warnings():\n",
    "        warnings.filterwarnings(\"ignore\", category=Warning)\n",
    "        all_unit_spikes = Parallel(n_jobs = 10, verbose=10)(\n",
    "            delayed(get_n_spikes)(\n",
    "                unit_to_analyze,\n",
    "                spikesorting_folder,\n",
    "                statistics_timestamp,\n",
    "                bird = bird,\n",
    "                recompute=True,\n",
    "                parallel=True,\n",
    "\n",
    "                        )\n",
    "            for uniti, unit_to_analyze in tqdm(\n",
    "                merged_units.iterrows(), desc=\"unit\", total=len(merged_units)\n",
    "            )\n",
    "        );\n",
    "        \n",
    "    # subset\n",
    "    all_unit_spikes = [i for i in all_unit_spikes if type(i) == pd.DataFrame]\n",
    "    \n",
    "    merged_df = (\n",
    "        pd.concat(all_unit_spikes, keys=range(1, len(all_unit_spikes) + 1))\n",
    "        .reset_index(level=1, drop=True)\n",
    "        .reset_index()\n",
    "    )\n",
    "    del all_unit_spikes\n",
    "\n",
    "    # remove any columns without a trial name\n",
    "    merged_df = merged_df[np.array([type(i) == str for i in merged_df.trial_id.values])]\n",
    "    \n",
    "    merged_df = merged_df.rename(columns={\"index\": \"unit\"})\n",
    "\n",
    "    unique_units = merged_df.unit.unique()\n",
    "    unique_trials = merged_df.trial_id.unique()\n",
    "    unique_trial_dict = dict(zip(unique_trials, np.arange(len(unique_trials))))\n",
    "\n",
    "    ensure_dir(DATA_DIR / 'population_analyses_with_passive2')    \n",
    "    units_present = np.zeros(len(unique_trials))\n",
    "\n",
    "    # Create a temporary file\n",
    "    with tempfile.NamedTemporaryFile(delete=False) as temp_file:\n",
    "        temp_file_path = temp_file.name\n",
    "    \n",
    "    memmap_file_path = DATA_DIR / 'population_analyses_with_passive2' / f\"{bird}_spike_array.dat\"\n",
    "    # Create a memmap array\n",
    "    shape = (len(unique_trials), len(unique_units), len(merged_df.iloc[0].spike_vector))\n",
    "    spike_array = np.memmap(temp_file_path, dtype=np.float32, mode='w+', shape=shape)\n",
    "    \n",
    "    # Populate the memmap array\n",
    "    for idx, row in tqdm(merged_df.iterrows(), total=len(merged_df)):\n",
    "        if type(row.trial_id) != str and np.isnan(row.trial_id):\n",
    "            continue\n",
    "        spike_array[unique_trial_dict[row.trial_id], row.unit-1, :] = row.spike_vector.astype(np.float32)\n",
    "        units_present[unique_trial_dict[row.trial_id]] += 1\n",
    "    # Flush changes to disk\n",
    "    spike_array.flush()\n",
    "    shutil.move(temp_file_path, memmap_file_path)\n",
    "\n",
    "    #ensure_dir(DATA_DIR / 'population_analyses_with_passive')    \n",
    "    #np.save(DATA_DIR / 'population_analyses_with_passive' / f\"{bird}_spike_array.npy\", spike_array)\n",
    "    #del spike_array \n",
    "    np.save(DATA_DIR / 'population_analyses_with_passive2' / f\"{bird}_units_present.npy\", units_present)\n",
    "\n",
    "    print('saving to pickle')\n",
    "    merged_df[\n",
    "          ['unit', 'trial_id', 'cue', 'interp', 'interp_point', 'interp_point_binned']\n",
    "      ].to_pickle(DATA_DIR / 'population_analyses_with_passive2' / f'{bird}.pickle')"
   ]
  },
  {
   "cell_type": "code",
   "execution_count": 21,
   "id": "8a7e7244",
   "metadata": {},
   "outputs": [
    {
     "ename": "NameError",
     "evalue": "name 'breakme' is not defined",
     "output_type": "error",
     "traceback": [
      "\u001b[0;31m---------------------------------------------------------------------------\u001b[0m",
      "\u001b[0;31mNameError\u001b[0m                                 Traceback (most recent call last)",
      "Cell \u001b[0;32mIn[21], line 1\u001b[0m\n\u001b[0;32m----> 1\u001b[0m \u001b[43mbreakme\u001b[49m\n",
      "\u001b[0;31mNameError\u001b[0m: name 'breakme' is not defined"
     ]
    }
   ],
   "source": [
    "breakme"
   ]
  },
  {
   "cell_type": "code",
   "execution_count": null,
   "id": "d6475206",
   "metadata": {},
   "outputs": [],
   "source": [
    "for uniti, unit_to_analyze in tqdm(\n",
    "                merged_units.iterrows(), desc=\"unit\", total=len(merged_units)\n",
    "            ):\n",
    "    \n",
    "    test = get_n_spikes(\n",
    "                unit_to_analyze,\n",
    "                spikesorting_folder,\n",
    "                statistics_timestamp,\n",
    "                bird = bird,\n",
    "                recompute=True,\n",
    "                parallel=True,\n",
    "\n",
    "                        )\n",
    "    break"
   ]
  },
  {
   "cell_type": "code",
   "execution_count": null,
   "id": "e18ed2ed",
   "metadata": {},
   "outputs": [],
   "source": [
    "test"
   ]
  }
 ],
 "metadata": {
  "kernelspec": {
   "display_name": "cdcp_paper",
   "language": "python",
   "name": "cdcp_paper"
  },
  "language_info": {
   "codemirror_mode": {
    "name": "ipython",
    "version": 3
   },
   "file_extension": ".py",
   "mimetype": "text/x-python",
   "name": "python",
   "nbconvert_exporter": "python",
   "pygments_lexer": "ipython3",
   "version": "3.9.16"
  }
 },
 "nbformat": 4,
 "nbformat_minor": 5
}
