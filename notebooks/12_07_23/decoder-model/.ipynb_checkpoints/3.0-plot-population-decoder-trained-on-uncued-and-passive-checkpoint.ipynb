{
 "cells": [
  {
   "cell_type": "markdown",
   "id": "ba76c068",
   "metadata": {},
   "source": [
    "### Test shift in predictions & accuracy in population model\n",
    "- For each bird, we create a dataset of n_trials * n_neurons, where trials are the total number of spikes during that trial\n",
    "- we train a "
   ]
  },
  {
   "cell_type": "code",
   "execution_count": 1,
   "id": "cef6c39c",
   "metadata": {
    "ExecuteTime": {
     "end_time": "2022-01-23T20:31:09.094117Z",
     "start_time": "2022-01-23T20:31:09.078531Z"
    }
   },
   "outputs": [],
   "source": [
    "%load_ext autoreload\n",
    "%autoreload 2"
   ]
  },
  {
   "cell_type": "code",
   "execution_count": 2,
   "id": "e8fd39fe",
   "metadata": {
    "ExecuteTime": {
     "end_time": "2022-01-23T20:31:09.114221Z",
     "start_time": "2022-01-23T20:31:09.096368Z"
    }
   },
   "outputs": [],
   "source": [
    "import os\n",
    "# set to be lower priority\n",
    "#os.nice(1) "
   ]
  },
  {
   "cell_type": "code",
   "execution_count": 3,
   "id": "f7441a86",
   "metadata": {},
   "outputs": [],
   "source": [
    "import warnings\n",
    "warnings.filterwarnings('ignore')"
   ]
  },
  {
   "cell_type": "code",
   "execution_count": 18,
   "id": "29edc857",
   "metadata": {
    "ExecuteTime": {
     "end_time": "2022-01-23T20:31:09.888832Z",
     "start_time": "2022-01-23T20:31:09.116242Z"
    }
   },
   "outputs": [],
   "source": [
    "import pandas  as pd\n",
    "from cdcp.paths import DATA_DIR, ensure_dir, FIGURE_DIR\n",
    "import numpy as np\n",
    "import matplotlib.pyplot as plt\n",
    "import datetime\n",
    "from pathlib2 import Path\n",
    "from tqdm.autonotebook import tqdm\n",
    "pd.set_option('display.max_columns', 500)\n",
    "from joblib import Parallel, delayed"
   ]
  },
  {
   "cell_type": "code",
   "execution_count": 5,
   "id": "d4c6795b",
   "metadata": {},
   "outputs": [],
   "source": [
    "from cdcp.spiketrain_analysis.spiketrain_utils import (\n",
    "    bin_interp_points,\n",
    ")"
   ]
  },
  {
   "cell_type": "code",
   "execution_count": 6,
   "id": "2f08f4df",
   "metadata": {
    "ExecuteTime": {
     "end_time": "2022-01-23T20:31:09.913834Z",
     "start_time": "2022-01-23T20:31:09.891750Z"
    }
   },
   "outputs": [],
   "source": [
    "from datetime import datetime"
   ]
  },
  {
   "cell_type": "code",
   "execution_count": 7,
   "id": "ef8c2b51",
   "metadata": {
    "ExecuteTime": {
     "end_time": "2022-01-23T20:31:24.777304Z",
     "start_time": "2022-01-23T20:31:24.748880Z"
    }
   },
   "outputs": [],
   "source": [
    "from cdcp.spiketrain_analysis.spiketrain_utils import (\n",
    "    get_spike_train_vector\n",
    ")"
   ]
  },
  {
   "cell_type": "code",
   "execution_count": 8,
   "id": "2736fd2c",
   "metadata": {
    "ExecuteTime": {
     "end_time": "2022-01-23T20:31:24.836501Z",
     "start_time": "2022-01-23T20:31:24.781929Z"
    }
   },
   "outputs": [],
   "source": [
    "from cdcp.spiketrain_analysis.unit_stats.cued_similarity_and_spikevector_differences import (\n",
    "    compute_cued_average_sm_rv_differences\n",
    ")"
   ]
  },
  {
   "cell_type": "code",
   "execution_count": 20,
   "id": "efaf2b80",
   "metadata": {},
   "outputs": [],
   "source": [
    "from cdcp.paths import DATA_PATH_MAGPI, FIGURE_DIR, ensure_dir\n",
    "from cdcp.general import save_fig\n",
    "SAVE_FIGS = True"
   ]
  },
  {
   "cell_type": "code",
   "execution_count": 10,
   "id": "6d907b91",
   "metadata": {},
   "outputs": [],
   "source": [
    "results_df = pd.read_pickle(DATA_DIR / \"population_analyses_with_passive2\"/'results_df.pickle')"
   ]
  },
  {
   "cell_type": "code",
   "execution_count": 11,
   "id": "63f82b07",
   "metadata": {},
   "outputs": [
    {
     "data": {
      "text/plain": [
       "29"
      ]
     },
     "execution_count": 11,
     "metadata": {},
     "output_type": "execute_result"
    }
   ],
   "source": [
    "len(results_df)"
   ]
  },
  {
   "cell_type": "code",
   "execution_count": 12,
   "id": "111dd0ec",
   "metadata": {},
   "outputs": [],
   "source": [
    "held_out_accs = (results_df.acc_held_out_valid.values + results_df.acc_held_out_invalid.values)/2"
   ]
  },
  {
   "cell_type": "code",
   "execution_count": 21,
   "id": "1ab16ab9",
   "metadata": {},
   "outputs": [
    {
     "data": {
      "image/png": "[encoded data removed]",
      "text/plain": [
       "<Figure size 200x100 with 1 Axes>"
      ]
     },
     "metadata": {},
     "output_type": "display_data"
    }
   ],
   "source": [
    "fig, ax = plt.subplots(figsize=(2,1))\n",
    "ax.hist(held_out_accs * 100, bins=np.linspace(0,50,20), color = '#999999');\n",
    "ax.axvline((1/16)* 100, color = 'k', ls='dashed')\n",
    "ax.set_xlabel('Accuracy (%; held out)',fontsize=10)\n",
    "ax.set_ylabel('# populations', fontsize=10)\n",
    "ax.text(0.05, 0.5, 'chance', rotation=90, va='center', ha='left', fontstyle='italic', transform=ax.transAxes)\n",
    "ax.set_xlim([-5,50])\n",
    "[i.set_linewidth(3) for i in ax.spines.values()]\n",
    "ax.set_yticks([0,3])\n",
    "\n",
    "if SAVE_FIGS:\n",
    "    ensure_dir(FIGURE_DIR / 'population_decoder' )\n",
    "    save_fig(FIGURE_DIR / 'population_decoder'/ 'accuracy-hist', save_pdf=True)\n",
    "    plt.show()"
   ]
  },
  {
   "cell_type": "code",
   "execution_count": 24,
   "id": "45c84968-eed3-4934-8416-82aa125e5fab",
   "metadata": {},
   "outputs": [],
   "source": [
    "cm_valid =  np.sum(np.stack(results_df.cm_valid.values), axis=0)\n",
    "cm_invalid =  np.sum(np.stack(results_df.cm_invalid.values), axis=0)"
   ]
  },
  {
   "cell_type": "code",
   "execution_count": 25,
   "id": "4902b05e",
   "metadata": {},
   "outputs": [],
   "source": [
    "def confusion_matrix_to_labels(confusion_matrix):\n",
    "    x_true = []\n",
    "    x_predicted = []\n",
    "    \n",
    "    for true_label in range(len(confusion_matrix)):\n",
    "        for predicted_label in range(len(confusion_matrix[true_label])):\n",
    "            count = confusion_matrix[true_label][predicted_label]\n",
    "            x_true.extend([true_label] * count)\n",
    "            x_predicted.extend([predicted_label] * count)\n",
    "            \n",
    "    return np.array(x_true), np.array(x_predicted)"
   ]
  },
  {
   "cell_type": "code",
   "execution_count": 31,
   "id": "e30193da",
   "metadata": {},
   "outputs": [],
   "source": [
    "x_true, x_predicted = confusion_matrix_to_labels(cm_valid + cm_invalid)\n",
    "acc_curve = np.array(\n",
    "    [np.mean(np.abs(x_true - x_predicted) < i) for i in range(1, 17)]\n",
    ")\n",
    "acc_curve_sem = np.array(\n",
    "    [np.std(np.abs(x_true - x_predicted) < i)/np.sqrt(len(x_true)) for i in range(1, 17)]\n",
    ")"
   ]
  },
  {
   "cell_type": "code",
   "execution_count": 33,
   "id": "79c1b3fa-443b-4f8a-99aa-4d45e5660c98",
   "metadata": {},
   "outputs": [
    {
     "data": {
      "text/plain": [
       "((8,), (16,))"
      ]
     },
     "execution_count": 33,
     "metadata": {},
     "output_type": "execute_result"
    }
   ],
   "source": [
    "np.arange(0,127, len(m)).shape, m.shape"
   ]
  },
  {
   "cell_type": "code",
   "execution_count": 40,
   "id": "b69be289-3eee-431e-b934-f9f6c7556f15",
   "metadata": {},
   "outputs": [
    {
     "data": {
      "image/png": "[encoded data removed]",
      "text/plain": [
       "<Figure size 200x100 with 1 Axes>"
      ]
     },
     "metadata": {},
     "output_type": "display_data"
    }
   ],
   "source": [
    "fig, ax = plt.subplots(figsize=(2,1))\n",
    "\n",
    "m = acc_curve*100\n",
    "ax.plot(np.linspace(0,127, len(m)), m, lw=4, color = 'k')\n",
    "chance = np.array([\n",
    "        np.mean(np.abs(np.random.permutation(x_true) - x_predicted) < i)*100\n",
    "        for i in range(1, 17)\n",
    "    ])\n",
    "plt.plot(\n",
    "    np.linspace(0,127, len(chance)),\n",
    "    chance,\n",
    "    color=\"black\",\n",
    "    ls='dashed'\n",
    ")\n",
    "ax.set_ylim([0,110])\n",
    "ax.set_yticks([0,100])\n",
    "ax.set_xlim([0,128])\n",
    "err = (acc_curve_sem*3) * 100\n",
    "ax.fill_between(np.linspace(0,127, len(m)), m-err, m+err, color = 'blue', alpha = 0.25)\n",
    "[i.set_linewidth(3) for i in ax.spines.values()]\n",
    "ax.set_ylabel('Acc. (%; h/o)',fontsize=10)\n",
    "ax.set_xlabel('Bin size (morph)',fontsize=10)\n",
    "if SAVE_FIGS:\n",
    "    ensure_dir(FIGURE_DIR / 'population_decoder' )\n",
    "    save_fig(FIGURE_DIR / 'population_decoder'/ 'accuracy-curve', save_pdf=True)\n",
    "    plt.show()"
   ]
  },
  {
   "cell_type": "markdown",
   "id": "64818846",
   "metadata": {},
   "source": [
    "### Acc. shift"
   ]
  },
  {
   "cell_type": "code",
   "execution_count": 41,
   "id": "1c268bad",
   "metadata": {},
   "outputs": [],
   "source": [
    "cm_valid =  np.sum(np.stack(results_df.cm_valid.values), axis=0)\n",
    "cm_invalid =  np.sum(np.stack(results_df.cm_invalid.values), axis=0)"
   ]
  },
  {
   "cell_type": "code",
   "execution_count": 42,
   "id": "a705cae0",
   "metadata": {},
   "outputs": [
    {
     "data": {
      "text/plain": [
       "<matplotlib.image.AxesImage at 0x7f3f9a240730>"
      ]
     },
     "execution_count": 42,
     "metadata": {},
     "output_type": "execute_result"
    },
    {
     "data": {
      "image/png": "[encoded data removed]",
      "text/plain": [
       "<Figure size 500x200 with 2 Axes>"
      ]
     },
     "metadata": {},
     "output_type": "display_data"
    }
   ],
   "source": [
    "fig, axs = plt.subplots(ncols=2, figsize=(5,2))\n",
    "axs[0].matshow(cm_valid)\n",
    "axs[1].matshow(cm_invalid)"
   ]
  },
  {
   "cell_type": "code",
   "execution_count": 43,
   "id": "d19d7b4f",
   "metadata": {},
   "outputs": [],
   "source": [
    "cm_overall = cm_valid+ cm_invalid\n",
    "normalized_matrix = cm_overall.astype('float') / cm_overall.sum(axis=1)[:, np.newaxis]"
   ]
  },
  {
   "cell_type": "code",
   "execution_count": 44,
   "id": "377eed8b",
   "metadata": {},
   "outputs": [
    {
     "data": {
      "text/plain": [
       "<matplotlib.colorbar.Colorbar at 0x7f3f9a16ab80>"
      ]
     },
     "execution_count": 44,
     "metadata": {},
     "output_type": "execute_result"
    },
    {
     "data": {
      "image/png": "[encoded data removed]",
      "text/plain": [
       "<Figure size 300x300 with 2 Axes>"
      ]
     },
     "metadata": {},
     "output_type": "display_data"
    }
   ],
   "source": [
    "fig, ax = plt.subplots(figsize=(3,3))\n",
    "cax = ax.matshow(normalized_matrix, cmap = 'Blues')\n",
    "ax.axis('off')\n",
    "fig.colorbar(cax)\n"
   ]
  },
  {
   "cell_type": "code",
   "execution_count": 45,
   "id": "3c3e8ead",
   "metadata": {},
   "outputs": [],
   "source": [
    "x_true, x_predicted = confusion_matrix_to_labels(cm_valid)\n",
    "error_valid = np.abs(x_true - x_predicted)\n",
    "\n",
    "x_true, x_predicted = confusion_matrix_to_labels(cm_invalid)\n",
    "error_invalid = np.abs(x_true - x_predicted)"
   ]
  },
  {
   "cell_type": "code",
   "execution_count": 46,
   "id": "012ec524",
   "metadata": {},
   "outputs": [],
   "source": [
    "import scipy.stats as stats"
   ]
  },
  {
   "cell_type": "code",
   "execution_count": 47,
   "id": "da665157",
   "metadata": {},
   "outputs": [
    {
     "data": {
      "text/plain": [
       "Ttest_indResult(statistic=-7.043026563183019, pvalue=1.885961382532345e-12)"
      ]
     },
     "execution_count": 47,
     "metadata": {},
     "output_type": "execute_result"
    }
   ],
   "source": [
    "stats.ttest_ind(error_valid, error_invalid)"
   ]
  },
  {
   "cell_type": "code",
   "execution_count": 142,
   "id": "9ba12719-c61c-4d5c-ba79-7db81e32ffe2",
   "metadata": {},
   "outputs": [
    {
     "data": {
      "text/plain": [
       "(194977, 52015)"
      ]
     },
     "execution_count": 142,
     "metadata": {},
     "output_type": "execute_result"
    }
   ],
   "source": [
    "len(error_valid), len(error_invalid)"
   ]
  },
  {
   "cell_type": "code",
   "execution_count": 48,
   "id": "20c7ad99",
   "metadata": {},
   "outputs": [],
   "source": [
    "x_true, x_predicted = confusion_matrix_to_labels(cm_valid)\n",
    "acc_curve_valid = np.array(\n",
    "    [np.mean(np.abs(x_true - x_predicted) < i) for i in range(1, 17)]\n",
    ")\n",
    "acc_curve_sem_valid = np.array(\n",
    "    [np.std(np.abs(x_true - x_predicted) < i)/np.sqrt(len(x_true)) for i in range(1, 17)]\n",
    ")\n",
    "x_true, x_predicted = confusion_matrix_to_labels(cm_invalid)\n",
    "acc_curve_invalid = np.array(\n",
    "    [np.mean(np.abs(x_true - x_predicted) < i) for i in range(1, 17)]\n",
    ")\n",
    "acc_curve_sem_invalid = np.array(\n",
    "    [np.std(np.abs(x_true - x_predicted) < i)/np.sqrt(len(x_true)) for i in range(1, 17)]\n",
    ")"
   ]
  },
  {
   "cell_type": "code",
   "execution_count": 56,
   "id": "e96d5e4b",
   "metadata": {},
   "outputs": [
    {
     "data": {
      "image/png": "[encoded data removed]",
      "text/plain": [
       "<Figure size 250x100 with 1 Axes>"
      ]
     },
     "metadata": {},
     "output_type": "display_data"
    }
   ],
   "source": [
    "fig, ax = plt.subplots(figsize=(2.5,1))\n",
    "ax.plot(np.linspace(0,128, len(acc_curve_valid)), (acc_curve_valid - acc_curve_invalid)*100, lw=2)\n",
    "m = (acc_curve_valid - acc_curve_invalid)*100\n",
    "err = (acc_curve_sem_valid*3) * 100\n",
    "ax.fill_between(np.linspace(0,128, len(acc_curve_valid)), m-err, m+err, color = 'blue', alpha = 0.25)\n",
    "ax.axhline(0, color = 'k', ls='dashed')\n",
    "ax.set_ylim([-3,3])\n",
    "ax.set_ylabel('$\\Delta$ Acc. valid - invalid (%)')\n",
    "ax.set_xlabel('Max distance from target (morph)')\n",
    "ax.set_xlim([0,100])\n",
    "\n",
    "[i.set_linewidth(3) for i in ax.spines.values()]\n",
    "\n",
    "if SAVE_FIGS:\n",
    "    ensure_dir(FIGURE_DIR / 'population_decoder' )\n",
    "    save_fig(FIGURE_DIR / 'population_decoder'/ 'accuracy-shift-curve', save_pdf=True)\n",
    "    plt.show()"
   ]
  },
  {
   "cell_type": "code",
   "execution_count": 57,
   "id": "47a1d94e",
   "metadata": {},
   "outputs": [
    {
     "data": {
      "text/plain": [
       "[<matplotlib.lines.Line2D at 0x7f3f99c3a550>]"
      ]
     },
     "execution_count": 57,
     "metadata": {},
     "output_type": "execute_result"
    },
    {
     "data": {
      "image/png": "[encoded data removed]",
      "text/plain": [
       "<Figure size 300x200 with 1 Axes>"
      ]
     },
     "metadata": {},
     "output_type": "display_data"
    }
   ],
   "source": [
    "fig, ax = plt.subplots(figsize=(3,2))\n",
    "\n",
    "ax.plot(acc_curve_valid*100, lw=1)\n",
    "ax.plot(acc_curve_invalid*100, lw=1)\n",
    "plt.plot(\n",
    "    [\n",
    "        np.mean(np.abs(np.random.permutation(x_true) - x_predicted) < i)*100\n",
    "        for i in range(1, 16)\n",
    "    ],\n",
    "    color=\"black\",\n",
    "    ls='dashed'\n",
    ")"
   ]
  },
  {
   "cell_type": "code",
   "execution_count": 58,
   "id": "7bae9dfd",
   "metadata": {},
   "outputs": [
    {
     "data": {
      "image/png": "[encoded data removed]",
      "text/plain": [
       "<Figure size 300x200 with 1 Axes>"
      ]
     },
     "metadata": {},
     "output_type": "display_data"
    }
   ],
   "source": [
    "# look across morphs\n",
    "fig, ax = plt.subplots(figsize=(3,2))\n",
    "\n",
    "for cm_valid, cm_invalid in zip(results_df.cm_valid.values, results_df.cm_invalid.values):\n",
    "    x_true, x_predicted = confusion_matrix_to_labels(cm_valid)\n",
    "    acc_curve_valid = np.array(\n",
    "        [np.mean(np.abs(x_true - x_predicted) < i) for i in range(1, 17)]\n",
    "    )\n",
    "    acc_curve_sem_valid = np.array(\n",
    "        [np.std(np.abs(x_true - x_predicted) < i)/np.sqrt(len(x_true)) for i in range(1, 17)]\n",
    "    )\n",
    "    x_true, x_predicted = confusion_matrix_to_labels(cm_invalid)\n",
    "    acc_curve_invalid = np.array(\n",
    "        [np.mean(np.abs(x_true - x_predicted) < i) for i in range(1, 17)]\n",
    "    )\n",
    "    acc_curve_sem_invalid = np.array(\n",
    "        [np.std(np.abs(x_true - x_predicted) < i)/np.sqrt(len(x_true)) for i in range(1, 17)]\n",
    "    )\n",
    "    \n",
    "    ax.plot((acc_curve_valid - acc_curve_invalid)*100, lw=2, color = 'k', alpha = 0.2)\n",
    "    #m = (acc_curve_valid - acc_curve_invalid)*100\n",
    "    #err = (acc_curve_sem_valid*3) * 100\n",
    "    #ax.fill_between(np.arange(len(m)), m-err, m+err, color = 'blue', alpha = 0.25)\n",
    "ax.axhline(0, color = 'k', ls='dashed')\n",
    "ax.set_ylim([-10,10])\n",
    "ax.set_ylabel('$\\Delta$ Acc. valid - invalid (%)')\n",
    "ax.set_xlabel('Max distance from target')\n",
    "ax.set_xlim([0,15])\n",
    "plt.show()"
   ]
  },
  {
   "cell_type": "markdown",
   "id": "f2fdc74f",
   "metadata": {},
   "source": [
    "### Neurometric shift"
   ]
  },
  {
   "cell_type": "code",
   "execution_count": 59,
   "id": "640ff269",
   "metadata": {},
   "outputs": [],
   "source": [
    "cm_valid =  np.sum(np.stack(results_df.cm_valid.values), axis=0)\n",
    "cm_invalid =  np.sum(np.stack(results_df.cm_invalid.values), axis=0)"
   ]
  },
  {
   "cell_type": "code",
   "execution_count": 60,
   "id": "e20eca23",
   "metadata": {},
   "outputs": [
    {
     "data": {
      "text/plain": [
       "<matplotlib.image.AxesImage at 0x7f3f9a222730>"
      ]
     },
     "execution_count": 60,
     "metadata": {},
     "output_type": "execute_result"
    },
    {
     "data": {
      "image/png": "[encoded data removed]",
      "text/plain": [
       "<Figure size 500x200 with 2 Axes>"
      ]
     },
     "metadata": {},
     "output_type": "display_data"
    }
   ],
   "source": [
    "fig, axs = plt.subplots(ncols=2, figsize=(5,2))\n",
    "axs[0].matshow(cm_valid)\n",
    "axs[1].matshow(cm_invalid)"
   ]
  },
  {
   "cell_type": "code",
   "execution_count": 61,
   "id": "abd3b9de",
   "metadata": {},
   "outputs": [],
   "source": [
    "x_true_valid, x_predicted_valid = confusion_matrix_to_labels(cm_valid)\n",
    "x_true_invalid, x_predicted_invalid = confusion_matrix_to_labels(cm_invalid)"
   ]
  },
  {
   "cell_type": "code",
   "execution_count": 62,
   "id": "0ea280da",
   "metadata": {},
   "outputs": [],
   "source": [
    "cue_left_true = np.concatenate([x_true_valid[x_true_valid<8], x_true_invalid[x_true_invalid>=8]])\n",
    "cue_left_pred = np.concatenate([x_predicted_valid[x_true_valid<8], x_predicted_invalid[x_true_invalid>=8]])\n",
    "\n",
    "cue_right_true = np.concatenate([x_true_valid[x_true_valid>=8], x_true_invalid[x_true_invalid<8]])\n",
    "cue_right_pred = np.concatenate([x_predicted_valid[x_true_valid>=8], x_predicted_invalid[x_true_invalid<8]])"
   ]
  },
  {
   "cell_type": "code",
   "execution_count": 148,
   "id": "d7dee9e4-ba88-43cc-b53d-480c640bd76f",
   "metadata": {},
   "outputs": [
    {
     "data": {
      "text/plain": [
       "(-0.7595711604604145, 0.646817482477634)"
      ]
     },
     "execution_count": 148,
     "metadata": {},
     "output_type": "execute_result"
    }
   ],
   "source": [
    "np.mean(cue_left_true - cue_left_pred), np.mean(cue_right_true - cue_right_pred)"
   ]
  },
  {
   "cell_type": "code",
   "execution_count": 146,
   "id": "22de98e7-44ec-4fce-9bb0-a00bb438a830",
   "metadata": {},
   "outputs": [
    {
     "data": {
      "text/plain": [
       "Ttest_indResult(statistic=-97.51834850828209, pvalue=0.0)"
      ]
     },
     "execution_count": 146,
     "metadata": {},
     "output_type": "execute_result"
    }
   ],
   "source": [
    "stats.ttest_ind(cue_left_true - cue_left_pred, cue_right_true - cue_right_pred)"
   ]
  },
  {
   "cell_type": "code",
   "execution_count": 63,
   "id": "61c952bb",
   "metadata": {},
   "outputs": [
    {
     "data": {
      "text/plain": [
       "(122843, 124149)"
      ]
     },
     "execution_count": 63,
     "metadata": {},
     "output_type": "execute_result"
    }
   ],
   "source": [
    "len(cue_right_true), len(cue_left_true)"
   ]
  },
  {
   "cell_type": "code",
   "execution_count": 64,
   "id": "9473c925",
   "metadata": {},
   "outputs": [],
   "source": [
    "cue_right_nm = np.array(\n",
    "    [\n",
    "        np.mean(cue_right_pred[cue_right_true == i] > 8)\n",
    "        for i in np.unique(cue_right_true)\n",
    "    ]\n",
    ")\n",
    "cue_left_nm = np.array(\n",
    "    [np.mean(cue_left_pred[cue_left_true == i] > 8) for i in np.unique(cue_left_true)]\n",
    ")\n",
    "\n",
    "cue_right_nm_sem = np.array(\n",
    "    [\n",
    "        np.std(cue_right_pred[cue_right_true == i] > 8)\n",
    "        / np.sqrt(np.sum(cue_right_true == i))\n",
    "        for i in np.unique(cue_right_true)\n",
    "    ]\n",
    ")\n",
    "cue_left_nm_sem = np.array(\n",
    "    [\n",
    "        np.std(cue_left_pred[cue_left_true == i] > 8)\n",
    "        / np.sqrt(np.sum(cue_right_true == i))\n",
    "        for i in np.unique(cue_left_true)\n",
    "    ]\n",
    ")"
   ]
  },
  {
   "cell_type": "code",
   "execution_count": 65,
   "id": "972cd5a7",
   "metadata": {},
   "outputs": [],
   "source": [
    "from cdcp.visualization.colors import colors as cdcp_colors"
   ]
  },
  {
   "cell_type": "code",
   "execution_count": 143,
   "id": "811c1dc0",
   "metadata": {},
   "outputs": [
    {
     "data": {
      "text/plain": [
       "{'cue': {'L': {'dark': '#4D3A7D',\n",
       "   'light': '#674ea7',\n",
       "   0.875: '#4D3A7D',\n",
       "   0.75: '#674ea7',\n",
       "   0.25: '#B05280',\n",
       "   0.125: '#7D3A5B',\n",
       "   0.5: '#666666'},\n",
       "  'R': {'dark': '#7D3A5B',\n",
       "   'light': '#B05280',\n",
       "   0.875: '#7D3A5B',\n",
       "   0.75: '#B05280',\n",
       "   0.25: '#674ea7',\n",
       "   0.125: '#4D3A7D',\n",
       "   0.5: '#666666'},\n",
       "  'N': {'dark': '#000000',\n",
       "   'light': '#666666',\n",
       "   0.75: '#666666',\n",
       "   0.5: '#666666',\n",
       "   0.25: '#666666',\n",
       "   0.125: '#666666',\n",
       "   0.875: '#666666'},\n",
       "  'C': {'dark': '#000000',\n",
       "   'light': '#666666',\n",
       "   0.75: '#666666',\n",
       "   0.5: '#666666',\n",
       "   0.25: '#666666',\n",
       "   0.125: '#666666',\n",
       "   0.875: '#666666'}},\n",
       " 'reinforce': {'L': {'dark': '#e69138', 'light': '#fce5cd'},\n",
       "  'R': {'dark': '#6aa84f', 'light': '#d9ead3'}},\n",
       " 'cue_type': {'CL': '#4D3A7D',\n",
       "  'CN': '#666666',\n",
       "  'NC': '#666666',\n",
       "  'CR': '#7D3A5B'},\n",
       " 'cue_pal': {'NC': '#666666',\n",
       "  'CN': '#333333',\n",
       "  'CL1': '#4D3A7D',\n",
       "  'CL0': '#674ea7',\n",
       "  'CR1': '#7D3A5B',\n",
       "  'CR0': '#B05280'}}"
      ]
     },
     "execution_count": 143,
     "metadata": {},
     "output_type": "execute_result"
    }
   ],
   "source": [
    "cdcp_colors"
   ]
  },
  {
   "cell_type": "code",
   "execution_count": 67,
   "id": "1a2d2b25",
   "metadata": {},
   "outputs": [],
   "source": [
    "from cdcp.behavior.psychometric import FourParameterLogistic, fit_FourParameterLogistic"
   ]
  },
  {
   "cell_type": "code",
   "execution_count": 158,
   "id": "f7c07f62",
   "metadata": {},
   "outputs": [
    {
     "data": {
      "image/png": "[encoded data removed]",
      "text/plain": [
       "<Figure size 600x300 with 4 Axes>"
      ]
     },
     "metadata": {},
     "output_type": "display_data"
    }
   ],
   "source": [
    "fig, axs = plt.subplots(\n",
    "    nrows=2,\n",
    "    ncols=2,\n",
    "    figsize=(6, 3),\n",
    "    gridspec_kw={\n",
    "        \"height_ratios\": [1, 5],\n",
    "        \"width_ratios\": [11, 1],\n",
    "        \"hspace\": 0.1,\n",
    "        \"wspace\": 0.05,\n",
    "    },\n",
    ")\n",
    "x = np.linspace(0,128, 16)\n",
    "\n",
    "ax = axs[0, 0]\n",
    "ax.set_xticks([], [])\n",
    "ax.set_yticks([])\n",
    "plt.tick_params(axis=\"both\", which=\"major\", labelsize=16)\n",
    "[i.set_linewidth(4) for i in ax.spines.values()]\n",
    "ax.set_xlim([0, 127])\n",
    "\n",
    "ax = axs[0, 1]\n",
    "ax.axis(\"off\")\n",
    "\n",
    "ax = axs[1, 0]\n",
    "\n",
    "# cue right\n",
    "ax.scatter(x, cue_right_nm, color=cdcp_colors[\"cue\"][\"R\"][\"dark\"])\n",
    "\n",
    "# fit logistic\n",
    "(\n",
    "    (_min, _max, _inflection, _slope),\n",
    "    results_logistic_CR,\n",
    "    y_model,\n",
    "    r_squared,\n",
    ") = fit_FourParameterLogistic(\n",
    "    cue_right_true * 8 + 4,\n",
    "    cue_right_pred > 8,\n",
    "    #x,\n",
    "    #cue_right_nm,\n",
    "    _inflection=(128 / 2) - 1,\n",
    "    _inflection_bounds=[\n",
    "        0 + int(128 / 8),\n",
    "        128 - 1 - int(128 / 8),\n",
    "    ],\n",
    "    _min_bounds=[-1, 2],\n",
    "    _max_bounds=[-1, 2],\n",
    ")\n",
    "xmodel = np.linspace(0,128, 1000)\n",
    "ymodel = FourParameterLogistic({\"_min\":_min, \"_max\":_max, \"inflection\":_inflection, \"slope\":_slope}, xmodel)\n",
    "\n",
    "ax.plot(\n",
    "    xmodel, ymodel, color=cdcp_colors[\"cue\"][\"R\"][\"dark\"], lw=4,\n",
    ")\n",
    "axs[0, 0].axvline(_inflection, color=cdcp_colors[\"cue\"][\"R\"][\"dark\"], lw=2)\n",
    "\n",
    "midpoint_csr = (_min+(_max - _min) / 2)\n",
    "axs[1, 1].axhline(\n",
    "    midpoint_csr, color=cdcp_colors[\"cue\"][\"R\"][\"dark\"], lw =2\n",
    ")\n",
    "\n",
    "# cue left\n",
    "ax.scatter(x, cue_left_nm, color=cdcp_colors[\"cue\"][\"L\"][\"dark\"])\n",
    "x = np.linspace(0,128, 16)\n",
    "# fit logistic\n",
    "(\n",
    "    (_min, _max, _inflection, _slope),\n",
    "    results_logistic_CL,\n",
    "    y_model,\n",
    "    r_squared,\n",
    ") = fit_FourParameterLogistic(\n",
    "    cue_left_true * 8 + 4,\n",
    "    cue_left_pred > 8,\n",
    "    _inflection=(128 / 2) - 1,\n",
    "    _inflection_bounds=[\n",
    "        0 + int(128 / 8),\n",
    "        128 - 1 - int(128 / 8),\n",
    "    ],\n",
    "    _min_bounds=[-1, 2],\n",
    "    _max_bounds=[-1, 2],\n",
    ")\n",
    "xmodel = np.linspace(0,128, 1000)\n",
    "ymodel = FourParameterLogistic({\"_min\":_min, \"_max\":_max, \"inflection\":_inflection, \"slope\":_slope}, xmodel)\n",
    "\n",
    "ax.plot(\n",
    "    xmodel, ymodel, color=cdcp_colors[\"cue\"][\"L\"][\"dark\"], lw=4,\n",
    ")\n",
    "\n",
    "axs[0, 0].axvline(_inflection, color=cdcp_colors[\"cue\"][\"L\"][\"dark\"], lw=2)\n",
    "\n",
    "midpoint_csr = (_min+(_max - _min) / 2)\n",
    "axs[1, 1].axhline(\n",
    "    midpoint_csr, color=cdcp_colors[\"cue\"][\"L\"][\"dark\"], lw =2\n",
    ")\n",
    "\n",
    "if False:\n",
    "    ax.errorbar(\n",
    "        x,\n",
    "        cue_right_nm,\n",
    "        yerr=cue_right_nm_sem * 3,\n",
    "        alpha=1,\n",
    "        ls='none',\n",
    "        color=cdcp_colors[\"cue\"][\"R\"][\"dark\"],\n",
    "    )\n",
    "    ax.errorbar(\n",
    "        x,\n",
    "        cue_left_nm,\n",
    "        yerr=cue_left_nm_sem * 3,\n",
    "        alpha=1,\n",
    "        ls='none',\n",
    "         color=cdcp_colors[\"cue\"][\"L\"][\"dark\"]\n",
    "    )\n",
    "ax.set_ylim([0, 1])\n",
    "\n",
    "ax.set_xticks([0,127])\n",
    "#ax.set_yticks([0,1])\n",
    "ax.set_xticklabels([1,128])\n",
    "#ax.set_ylim([0, 1])\n",
    "ax.set_xlim([0, 127])\n",
    "[i.set_linewidth(4) for i in ax.spines.values()];\n",
    "\n",
    "ax.xaxis.set_tick_params(labelsize=16)\n",
    "ax.yaxis.set_tick_params(labelsize=16)\n",
    "\n",
    "\n",
    "ax = axs[1, 1]\n",
    "ax.set_ylim(axs[1,0].get_ylim())\n",
    "\n",
    "ax = axs[1, 1]\n",
    "ax.set_xticks([])\n",
    "ax.set_yticks([])\n",
    "[i.set_linewidth(4) for i in ax.spines.values()]\n",
    "ax.set_ylim([0, 1])\n",
    "\n",
    "if False:\n",
    "    ensure_dir(FIGURE_DIR / 'population_decoder' )\n",
    "    save_fig(FIGURE_DIR / 'population_decoder'/ 'neurometric-shift', save_pdf=True)\n",
    "    plt.show()"
   ]
  },
  {
   "cell_type": "code",
   "execution_count": 159,
   "id": "ac3696ca-aa2b-4236-9509-a191e394b0a2",
   "metadata": {},
   "outputs": [
    {
     "data": {
      "text/html": [
       "<h2>Fit Statistics</h2><table><tr><td>fitting method</td><td>leastsq</td><td></td></tr><tr><td># function evals</td><td>41</td><td></td></tr><tr><td># data points</td><td>124149</td><td></td></tr><tr><td># variables</td><td>4</td><td></td></tr><tr><td>chi-square</td><td> 16599.2352</td><td></td></tr><tr><td>reduced chi-square</td><td> 0.13370845</td><td></td></tr><tr><td>Akaike info crit.</td><td>-249795.410</td><td></td></tr><tr><td>Bayesian info crit.</td><td>-249756.493</td><td></td></tr></table><h2>Variables</h2><table><tr><th> name </th><th> value </th><th> standard error </th><th> relative error </th><th> initial value </th><th> min </th><th> max </th><th> vary </th></tr><tr><td> _min </td><td>  0.12006897 </td><td>  0.00135494 </td><td> (1.13%) </td><td> 0.1 </td><td> -1.00000000 </td><td>  2.00000000 </td><td> True </td></tr><tr><td> _max </td><td>  0.80428574 </td><td>  0.00358185 </td><td> (0.45%) </td><td> 0.9 </td><td> -1.00000000 </td><td>  2.00000000 </td><td> True </td></tr><tr><td> inflection </td><td>  71.2536669 </td><td>  0.18602942 </td><td> (0.26%) </td><td> 63.0 </td><td>  16.0000000 </td><td>  111.000000 </td><td> True </td></tr><tr><td> slope </td><td>  10.5953092 </td><td>  0.20676232 </td><td> (1.95%) </td><td> 10 </td><td>  1.0000e-10 </td><td>  100.000000 </td><td> True </td></tr></table><h2>Correlations (unreported correlations are < 0.100)</h2><table><tr><td>_max</td><td>inflection</td><td>0.6100</td></tr><tr><td>_max</td><td>slope</td><td>-0.5188</td></tr><tr><td>inflection</td><td>slope</td><td>-0.4387</td></tr><tr><td>_min</td><td>slope</td><td>0.3425</td></tr><tr><td>_min</td><td>inflection</td><td>0.1469</td></tr><tr><td>_min</td><td>_max</td><td>-0.1100</td></tr></table>"
      ],
      "text/plain": [
       "<lmfit.minimizer.MinimizerResult at 0x7f08b79008e0>"
      ]
     },
     "execution_count": 159,
     "metadata": {},
     "output_type": "execute_result"
    }
   ],
   "source": [
    "results_logistic_CL"
   ]
  },
  {
   "cell_type": "code",
   "execution_count": 160,
   "id": "5d6cde99-21d0-41d3-ba3e-3533a0718333",
   "metadata": {},
   "outputs": [
    {
     "data": {
      "text/html": [
       "<h2>Fit Statistics</h2><table><tr><td>fitting method</td><td>leastsq</td><td></td></tr><tr><td># function evals</td><td>41</td><td></td></tr><tr><td># data points</td><td>122843</td><td></td></tr><tr><td># variables</td><td>4</td><td></td></tr><tr><td>chi-square</td><td> 20738.2075</td><td></td></tr><tr><td>reduced chi-square</td><td> 0.16882429</td><td></td></tr><tr><td>Akaike info crit.</td><td>-218521.017</td><td></td></tr><tr><td>Bayesian info crit.</td><td>-218482.143</td><td></td></tr></table><h2>Variables</h2><table><tr><th> name </th><th> value </th><th> standard error </th><th> relative error </th><th> initial value </th><th> min </th><th> max </th><th> vary </th></tr><tr><td> _min </td><td>  0.13854457 </td><td>  0.00274471 </td><td> (1.98%) </td><td> 0.1 </td><td> -1.00000000 </td><td>  2.00000000 </td><td> True </td></tr><tr><td> _max </td><td>  0.81100959 </td><td>  0.00182059 </td><td> (0.22%) </td><td> 0.9 </td><td> -1.00000000 </td><td>  2.00000000 </td><td> True </td></tr><tr><td> inflection </td><td>  71.2654611 </td><td>  0.10284496 </td><td> (0.14%) </td><td> 63.0 </td><td>  16.0000000 </td><td>  111.000000 </td><td> True </td></tr><tr><td> slope </td><td>  14.7312210 </td><td>  0.28141957 </td><td> (1.91%) </td><td> 10 </td><td>  1.0000e-10 </td><td>  100.000000 </td><td> True </td></tr></table><h2>Correlations (unreported correlations are < 0.100)</h2><table><tr><td>_min</td><td>inflection</td><td>0.4689</td></tr><tr><td>_max</td><td>slope</td><td>-0.4381</td></tr><tr><td>_max</td><td>inflection</td><td>0.3256</td></tr><tr><td>_min</td><td>slope</td><td>0.2967</td></tr></table>"
      ],
      "text/plain": [
       "<lmfit.minimizer.MinimizerResult at 0x7f08b78e8a90>"
      ]
     },
     "execution_count": 160,
     "metadata": {},
     "output_type": "execute_result"
    }
   ],
   "source": [
    "results_logistic_CR"
   ]
  },
  {
   "cell_type": "code",
   "execution_count": 163,
   "id": "1ccdddc1-a5e8-4475-86f0-c390eb381b1d",
   "metadata": {},
   "outputs": [
    {
     "name": "stdout",
     "output_type": "stream",
     "text": [
      "Help on MinimizerResult in module lmfit.minimizer object:\n",
      "\n",
      "class MinimizerResult(builtins.object)\n",
      " |  MinimizerResult(**kws)\n",
      " |  \n",
      " |  The results of a minimization.\n",
      " |  \n",
      " |  Minimization results include data such as status and error messages,\n",
      " |  fit statistics, and the updated (i.e., best-fit) parameters themselves\n",
      " |  in the :attr:`params` attribute.\n",
      " |  \n",
      " |  The list of (possible) `MinimizerResult` attributes is given below:\n",
      " |  \n",
      " |  Attributes\n",
      " |  ----------\n",
      " |  params : Parameters\n",
      " |      The best-fit parameters resulting from the fit.\n",
      " |  status : int\n",
      " |      Termination status of the optimizer. Its value depends on the\n",
      " |      underlying solver. Refer to `message` for details.\n",
      " |  var_names : list\n",
      " |      Ordered list of variable parameter names used in optimization, and\n",
      " |      useful for understanding the values in :attr:`init_vals` and\n",
      " |      :attr:`covar`.\n",
      " |  covar : numpy.ndarray\n",
      " |      Covariance matrix from minimization, with rows and columns\n",
      " |      corresponding to :attr:`var_names`.\n",
      " |  init_vals : list\n",
      " |      List of initial values for variable parameters using\n",
      " |      :attr:`var_names`.\n",
      " |  init_values : dict\n",
      " |      Dictionary of initial values for variable parameters.\n",
      " |  nfev : int\n",
      " |      Number of function evaluations.\n",
      " |  success : bool\n",
      " |      True if the fit succeeded, otherwise False.\n",
      " |  errorbars : bool\n",
      " |      True if uncertainties were estimated, otherwise False.\n",
      " |  message : str\n",
      " |      Message about fit success.\n",
      " |  call_kws : dict\n",
      " |      Keyword arguments sent to underlying solver.\n",
      " |  ier : int\n",
      " |      Integer error value from :scipydoc:`optimize.leastsq` (`'leastsq'`\n",
      " |      method only).\n",
      " |  lmdif_message : str\n",
      " |      Message from :scipydoc:`optimize.leastsq` (`'leastsq'` method only).\n",
      " |  nvarys : int\n",
      " |      Number of variables in fit: :math:`N_{\\rm varys}`.\n",
      " |  ndata : int\n",
      " |      Number of data points: :math:`N`.\n",
      " |  nfree : int\n",
      " |      Degrees of freedom in fit: :math:`N - N_{\\rm varys}`.\n",
      " |  residual : numpy.ndarray\n",
      " |      Residual array :math:`{\\rm Resid_i}`. Return value of the objective\n",
      " |      function when using the best-fit values of the parameters.\n",
      " |  chisqr : float\n",
      " |      Chi-square: :math:`\\chi^2 = \\sum_i^N [{\\rm Resid}_i]^2`.\n",
      " |  redchi : float\n",
      " |      Reduced chi-square:\n",
      " |      :math:`\\chi^2_{\\nu}= {\\chi^2} / {(N - N_{\\rm varys})}`.\n",
      " |  aic : float\n",
      " |      Akaike Information Criterion statistic:\n",
      " |      :math:`N \\ln(\\chi^2/N) + 2 N_{\\rm varys}`.\n",
      " |  bic : float\n",
      " |      Bayesian Information Criterion statistic:\n",
      " |      :math:`N \\ln(\\chi^2/N) + \\ln(N) N_{\\rm varys}`.\n",
      " |  flatchain : pandas.DataFrame\n",
      " |      A flatchain view of the sampling chain from the `emcee` method.\n",
      " |  \n",
      " |  Methods\n",
      " |  -------\n",
      " |  show_candidates\n",
      " |      :meth:`pretty_print` representation of candidates from the `brute`\n",
      " |      fitting method.\n",
      " |  \n",
      " |  Methods defined here:\n",
      " |  \n",
      " |  __init__(self, **kws)\n",
      " |      Initialize self.  See help(type(self)) for accurate signature.\n",
      " |  \n",
      " |  show_candidates(self, candidate_nmb='all')\n",
      " |      Show pretty_print() representation of candidates.\n",
      " |      \n",
      " |      Showing all stored candidates (default) or the specified\n",
      " |      candidate-# obtained from the `brute` fitting method.\n",
      " |      \n",
      " |      Parameters\n",
      " |      ----------\n",
      " |      candidate_nmb : int or 'all', optional\n",
      " |          The candidate-number to show using the :meth:`pretty_print`\n",
      " |          method (default is 'all').\n",
      " |  \n",
      " |  ----------------------------------------------------------------------\n",
      " |  Readonly properties defined here:\n",
      " |  \n",
      " |  flatchain\n",
      " |      Show flatchain view of the sampling chain from `emcee` method.\n",
      " |  \n",
      " |  ----------------------------------------------------------------------\n",
      " |  Data descriptors defined here:\n",
      " |  \n",
      " |  __dict__\n",
      " |      dictionary for instance variables (if defined)\n",
      " |  \n",
      " |  __weakref__\n",
      " |      list of weak references to the object (if defined)\n",
      "\n"
     ]
    }
   ],
   "source": [
    "help(results_logistic_CR)"
   ]
  },
  {
   "cell_type": "code",
   "execution_count": 170,
   "id": "712cf282-76ab-4b36-a09e-a839ab1241f6",
   "metadata": {},
   "outputs": [
    {
     "data": {
      "text/plain": [
       "<Parameter 'inflection', value=71.25366693788318 +/- 0.186, bounds=[16:111]>"
      ]
     },
     "execution_count": 170,
     "metadata": {},
     "output_type": "execute_result"
    }
   ],
   "source": [
    "results_logistic_CL.__dict__['params']['inflection']"
   ]
  },
  {
   "cell_type": "code",
   "execution_count": 188,
   "id": "a22df427-c9b3-4543-bcf6-7b25261b092d",
   "metadata": {},
   "outputs": [],
   "source": [
    "mean1 = CL_inflection = results_logistic_CL.__dict__['params']['inflection'].value\n",
    "se1 = CL_se = results_logistic_CL.__dict__['params']['inflection'].stderr\n",
    "n1 = CL_dof = results_logistic_CL.ndata\n",
    "\n",
    "mean2 = CR_inflection = results_logistic_CR.__dict__['params']['inflection'].value\n",
    "se2 = CR_se = results_logistic_CR.__dict__['params']['inflection'].stderr\n",
    "n2 = CR_dof = results_logistic_CR.ndata"
   ]
  },
  {
   "cell_type": "code",
   "execution_count": 189,
   "id": "784f1cc3-85c2-45de-ac78-3a9b26b0bdcf",
   "metadata": {},
   "outputs": [],
   "source": [
    "# Calculating the standard error of the difference\n",
    "sed = np.sqrt(se1**2 + se2**2)\n",
    "\n",
    "# Calculating the t-statistic\n",
    "t_statistic = (mean1 - mean2) / sed\n",
    "\n",
    "# Degrees of freedom\n",
    "df = min(n1 - 1, n2 - 1)\n",
    "\n",
    "# Calculating the p-value for one-tailed test\n",
    "p_value = stats.t.sf(np.abs(t_statistic), df)"
   ]
  },
  {
   "cell_type": "code",
   "execution_count": 190,
   "id": "76cee4d9-5e5c-446b-a50a-6ae5e7a33ab8",
   "metadata": {},
   "outputs": [
    {
     "data": {
      "text/plain": [
       "(-0.05548502028304903, 122842, 0.47787607694153045)"
      ]
     },
     "execution_count": 190,
     "metadata": {},
     "output_type": "execute_result"
    }
   ],
   "source": [
    "t_statistic, df, p_value\n"
   ]
  },
  {
   "cell_type": "code",
   "execution_count": null,
   "id": "13dea3a8",
   "metadata": {},
   "outputs": [],
   "source": []
  }
 ],
 "metadata": {
  "kernelspec": {
   "display_name": "cdcp_paper",
   "language": "python",
   "name": "cdcp_paper"
  },
  "language_info": {
   "codemirror_mode": {
    "name": "ipython",
    "version": 3
   },
   "file_extension": ".py",
   "mimetype": "text/x-python",
   "name": "python",
   "nbconvert_exporter": "python",
   "pygments_lexer": "ipython3",
   "version": "3.9.16"
  }
 },
 "nbformat": 4,
 "nbformat_minor": 5
}
