{
 "cells": [
  {
   "cell_type": "markdown",
   "id": "ba76c068",
   "metadata": {},
   "source": [
    "### Test shift in predictions & accuracy in population model\n",
    "- For each bird, we create a dataset of n_trials * n_neurons, where trials are the total number of spikes during that trial\n",
    "- we train a "
   ]
  },
  {
   "cell_type": "code",
   "execution_count": 2,
   "id": "cef6c39c",
   "metadata": {
    "ExecuteTime": {
     "end_time": "2022-01-23T20:31:09.094117Z",
     "start_time": "2022-01-23T20:31:09.078531Z"
    }
   },
   "outputs": [],
   "source": [
    "%load_ext autoreload\n",
    "%autoreload 2"
   ]
  },
  {
   "cell_type": "code",
   "execution_count": 3,
   "id": "e8fd39fe",
   "metadata": {
    "ExecuteTime": {
     "end_time": "2022-01-23T20:31:09.114221Z",
     "start_time": "2022-01-23T20:31:09.096368Z"
    }
   },
   "outputs": [],
   "source": [
    "import os\n",
    "# set to be lower priority\n",
    "#os.nice(1) "
   ]
  },
  {
   "cell_type": "code",
   "execution_count": 4,
   "id": "f7441a86",
   "metadata": {},
   "outputs": [],
   "source": [
    "import warnings\n",
    "warnings.filterwarnings('ignore')"
   ]
  },
  {
   "cell_type": "code",
   "execution_count": 5,
   "id": "29edc857",
   "metadata": {
    "ExecuteTime": {
     "end_time": "2022-01-23T20:31:09.888832Z",
     "start_time": "2022-01-23T20:31:09.116242Z"
    }
   },
   "outputs": [],
   "source": [
    "import pandas  as pd\n",
    "from cdcp.paths import DATA_DIR, ensure_dir, FIGURE_DIR\n",
    "import numpy as np\n",
    "import matplotlib.pyplot as plt\n",
    "import datetime\n",
    "from pathlib2 import Path\n",
    "from tqdm.autonotebook import tqdm\n",
    "pd.set_option('display.max_columns', 500)\n",
    "from joblib import Parallel, delayed"
   ]
  },
  {
   "cell_type": "code",
   "execution_count": 6,
   "id": "d4c6795b",
   "metadata": {},
   "outputs": [],
   "source": [
    "from cdcp.spiketrain_analysis.spiketrain_utils import (\n",
    "    bin_interp_points,\n",
    ")"
   ]
  },
  {
   "cell_type": "code",
   "execution_count": 7,
   "id": "2f08f4df",
   "metadata": {
    "ExecuteTime": {
     "end_time": "2022-01-23T20:31:09.913834Z",
     "start_time": "2022-01-23T20:31:09.891750Z"
    }
   },
   "outputs": [],
   "source": [
    "from datetime import datetime"
   ]
  },
  {
   "cell_type": "code",
   "execution_count": 8,
   "id": "ef8c2b51",
   "metadata": {
    "ExecuteTime": {
     "end_time": "2022-01-23T20:31:24.777304Z",
     "start_time": "2022-01-23T20:31:24.748880Z"
    }
   },
   "outputs": [],
   "source": [
    "from cdcp.spiketrain_analysis.spiketrain_utils import (\n",
    "    get_spike_train_vector\n",
    ")"
   ]
  },
  {
   "cell_type": "code",
   "execution_count": 9,
   "id": "2736fd2c",
   "metadata": {
    "ExecuteTime": {
     "end_time": "2022-01-23T20:31:24.836501Z",
     "start_time": "2022-01-23T20:31:24.781929Z"
    }
   },
   "outputs": [],
   "source": [
    "from cdcp.spiketrain_analysis.unit_stats.cued_similarity_and_spikevector_differences import (\n",
    "    compute_cued_average_sm_rv_differences\n",
    ")"
   ]
  },
  {
   "cell_type": "code",
   "execution_count": 10,
   "id": "efaf2b80",
   "metadata": {},
   "outputs": [],
   "source": [
    "from cdcp.paths import DATA_PATH_MAGPI, FIGURE_DIR, ensure_dir\n",
    "from cdcp.general import save_fig\n",
    "SAVE_FIGS = True"
   ]
  },
  {
   "cell_type": "code",
   "execution_count": 11,
   "id": "6d907b91",
   "metadata": {},
   "outputs": [],
   "source": [
    "results_df = pd.read_pickle(DATA_DIR / \"population_analyses_with_passive2\"/'results_df.pickle')"
   ]
  },
  {
   "cell_type": "code",
   "execution_count": 12,
   "id": "63f82b07",
   "metadata": {},
   "outputs": [
    {
     "data": {
      "text/plain": [
       "29"
      ]
     },
     "execution_count": 12,
     "metadata": {},
     "output_type": "execute_result"
    }
   ],
   "source": [
    "len(results_df)"
   ]
  },
  {
   "cell_type": "code",
   "execution_count": 13,
   "id": "e817d21e",
   "metadata": {},
   "outputs": [
    {
     "data": {
      "text/html": [
       "<div>\n",
       "<style scoped>\n",
       "    .dataframe tbody tr th:only-of-type {\n",
       "        vertical-align: middle;\n",
       "    }\n",
       "\n",
       "    .dataframe tbody tr th {\n",
       "        vertical-align: top;\n",
       "    }\n",
       "\n",
       "    .dataframe thead th {\n",
       "        text-align: right;\n",
       "    }\n",
       "</style>\n",
       "<table border=\"1\" class=\"dataframe\">\n",
       "  <thead>\n",
       "    <tr style=\"text-align: right;\">\n",
       "      <th></th>\n",
       "      <th>bird</th>\n",
       "      <th>morph</th>\n",
       "      <th>acc_train</th>\n",
       "      <th>acc_held_out_valid</th>\n",
       "      <th>acc_held_out_invalid</th>\n",
       "      <th>n_train</th>\n",
       "      <th>n_invalid</th>\n",
       "      <th>cm_valid</th>\n",
       "      <th>cm_invalid</th>\n",
       "    </tr>\n",
       "  </thead>\n",
       "  <tbody>\n",
       "    <tr>\n",
       "      <th>0</th>\n",
       "      <td>B1597</td>\n",
       "      <td>AF</td>\n",
       "      <td>0.547657</td>\n",
       "      <td>0.281187</td>\n",
       "      <td>0.273413</td>\n",
       "      <td>11929</td>\n",
       "      <td>1591</td>\n",
       "      <td>[[103, 111, 55, 37, 10, 12, 3, 2, 0, 1, 2, 0, ...</td>\n",
       "      <td>[[26, 22, 12, 7, 4, 0, 1, 0, 0, 0, 0, 0, 0, 0,...</td>\n",
       "    </tr>\n",
       "    <tr>\n",
       "      <th>1</th>\n",
       "      <td>B1597</td>\n",
       "      <td>BE</td>\n",
       "      <td>0.399735</td>\n",
       "      <td>0.183005</td>\n",
       "      <td>0.164223</td>\n",
       "      <td>12078</td>\n",
       "      <td>1705</td>\n",
       "      <td>[[74, 83, 46, 71, 14, 10, 1, 23, 3, 4, 1, 2, 3...</td>\n",
       "      <td>[[15, 6, 9, 12, 8, 4, 1, 8, 3, 0, 0, 0, 0, 0, ...</td>\n",
       "    </tr>\n",
       "    <tr>\n",
       "      <th>2</th>\n",
       "      <td>B1597</td>\n",
       "      <td>AE</td>\n",
       "      <td>0.521908</td>\n",
       "      <td>0.346580</td>\n",
       "      <td>0.288967</td>\n",
       "      <td>38662</td>\n",
       "      <td>1713</td>\n",
       "      <td>[[186, 112, 77, 2, 12, 6, 0, 1, 2, 3, 4, 0, 3,...</td>\n",
       "      <td>[[16, 19, 17, 2, 4, 2, 0, 1, 1, 1, 0, 0, 0, 0,...</td>\n",
       "    </tr>\n",
       "  </tbody>\n",
       "</table>\n",
       "</div>"
      ],
      "text/plain": [
       "    bird morph  acc_train  acc_held_out_valid  acc_held_out_invalid  n_train  \\\n",
       "0  B1597    AF   0.547657            0.281187              0.273413    11929   \n",
       "1  B1597    BE   0.399735            0.183005              0.164223    12078   \n",
       "2  B1597    AE   0.521908            0.346580              0.288967    38662   \n",
       "\n",
       "   n_invalid                                           cm_valid  \\\n",
       "0       1591  [[103, 111, 55, 37, 10, 12, 3, 2, 0, 1, 2, 0, ...   \n",
       "1       1705  [[74, 83, 46, 71, 14, 10, 1, 23, 3, 4, 1, 2, 3...   \n",
       "2       1713  [[186, 112, 77, 2, 12, 6, 0, 1, 2, 3, 4, 0, 3,...   \n",
       "\n",
       "                                          cm_invalid  \n",
       "0  [[26, 22, 12, 7, 4, 0, 1, 0, 0, 0, 0, 0, 0, 0,...  \n",
       "1  [[15, 6, 9, 12, 8, 4, 1, 8, 3, 0, 0, 0, 0, 0, ...  \n",
       "2  [[16, 19, 17, 2, 4, 2, 0, 1, 1, 1, 0, 0, 0, 0,...  "
      ]
     },
     "execution_count": 13,
     "metadata": {},
     "output_type": "execute_result"
    }
   ],
   "source": [
    "results_df[:3]"
   ]
  },
  {
   "cell_type": "code",
   "execution_count": 14,
   "id": "4db69e7c",
   "metadata": {},
   "outputs": [],
   "source": [
    "def confusion_matrix_to_labels(confusion_matrix):\n",
    "    x_true = []\n",
    "    x_predicted = []\n",
    "    \n",
    "    for true_label in range(len(confusion_matrix)):\n",
    "        for predicted_label in range(len(confusion_matrix[true_label])):\n",
    "            count = confusion_matrix[true_label][predicted_label]\n",
    "            x_true.extend([true_label] * count)\n",
    "            x_predicted.extend([predicted_label] * count)\n",
    "            \n",
    "    return np.array(x_true), np.array(x_predicted)"
   ]
  },
  {
   "cell_type": "markdown",
   "id": "3c68b5b7",
   "metadata": {},
   "source": [
    "### Test whether prediction accuracy is improved for cued stimulus"
   ]
  },
  {
   "cell_type": "code",
   "execution_count": 15,
   "id": "aac92ccf",
   "metadata": {},
   "outputs": [
    {
     "data": {
      "application/vnd.jupyter.widget-view+json": {
       "model_id": "4f79bc2cb6b74560aac61382e4e9b55d",
       "version_major": 2,
       "version_minor": 0
      },
      "text/plain": [
       "  0%|          | 0/29 [00:00<?, ?it/s]"
      ]
     },
     "metadata": {},
     "output_type": "display_data"
    }
   ],
   "source": [
    "correctness_dfs = []\n",
    "for idx, row in tqdm(results_df.iterrows(), total=len(results_df)):\n",
    "    x_true_valid, x_predicted_valid = confusion_matrix_to_labels(row.cm_valid)\n",
    "    x_true_invalid, x_predicted_invalid = confusion_matrix_to_labels(row.cm_invalid)\n",
    "\n",
    "    correct_df = pd.DataFrame({\n",
    "        'correct':np.concatenate([x_true_valid == x_predicted_valid, x_true_invalid == x_predicted_invalid]),\n",
    "        'valid':np.concatenate([np.repeat(True, len(x_true_valid)), np.repeat(False, len(x_true_invalid))]),\n",
    "    })\n",
    "    correct_df['population'] = row.bird + '_' + row.morph\n",
    "    correctness_dfs.append(correct_df)\n",
    "prediction_by_cue_df = pd.concat(correctness_dfs)"
   ]
  },
  {
   "cell_type": "code",
   "execution_count": 16,
   "id": "773f7c11",
   "metadata": {},
   "outputs": [],
   "source": [
    "df = prediction_by_cue_df\n",
    "df['valid'] = df['valid'].astype(float)\n",
    "df['correct'] = df['correct'].astype('category')"
   ]
  },
  {
   "cell_type": "code",
   "execution_count": 17,
   "id": "2fc43607",
   "metadata": {},
   "outputs": [
    {
     "data": {
      "text/plain": [
       "246992"
      ]
     },
     "execution_count": 17,
     "metadata": {},
     "output_type": "execute_result"
    }
   ],
   "source": [
    "len(df)"
   ]
  },
  {
   "cell_type": "code",
   "execution_count": 18,
   "id": "7f57f40e",
   "metadata": {},
   "outputs": [
    {
     "data": {
      "text/html": [
       "<div>\n",
       "<style scoped>\n",
       "    .dataframe tbody tr th:only-of-type {\n",
       "        vertical-align: middle;\n",
       "    }\n",
       "\n",
       "    .dataframe tbody tr th {\n",
       "        vertical-align: top;\n",
       "    }\n",
       "\n",
       "    .dataframe thead th {\n",
       "        text-align: right;\n",
       "    }\n",
       "</style>\n",
       "<table border=\"1\" class=\"dataframe\">\n",
       "  <thead>\n",
       "    <tr style=\"text-align: right;\">\n",
       "      <th></th>\n",
       "      <th>correct</th>\n",
       "      <th>valid</th>\n",
       "      <th>population</th>\n",
       "    </tr>\n",
       "  </thead>\n",
       "  <tbody>\n",
       "    <tr>\n",
       "      <th>0</th>\n",
       "      <td>True</td>\n",
       "      <td>1.0</td>\n",
       "      <td>B1597_AF</td>\n",
       "    </tr>\n",
       "    <tr>\n",
       "      <th>1</th>\n",
       "      <td>True</td>\n",
       "      <td>1.0</td>\n",
       "      <td>B1597_AF</td>\n",
       "    </tr>\n",
       "    <tr>\n",
       "      <th>2</th>\n",
       "      <td>True</td>\n",
       "      <td>1.0</td>\n",
       "      <td>B1597_AF</td>\n",
       "    </tr>\n",
       "  </tbody>\n",
       "</table>\n",
       "</div>"
      ],
      "text/plain": [
       "  correct  valid population\n",
       "0    True    1.0   B1597_AF\n",
       "1    True    1.0   B1597_AF\n",
       "2    True    1.0   B1597_AF"
      ]
     },
     "execution_count": 18,
     "metadata": {},
     "output_type": "execute_result"
    }
   ],
   "source": [
    "df[:3]"
   ]
  },
  {
   "cell_type": "code",
   "execution_count": 19,
   "id": "bf02e4c8",
   "metadata": {},
   "outputs": [],
   "source": [
    "import statsmodels.api as sm\n",
    "import statsmodels.formula.api as smf"
   ]
  },
  {
   "cell_type": "code",
   "execution_count": 20,
   "id": "e5de5ff2",
   "metadata": {},
   "outputs": [
    {
     "name": "stderr",
     "output_type": "stream",
     "text": [
      "/n/groups/datta/tim_sainburg/conda_envs/cdcp_paper/lib/python3.9/site-packages/statsmodels/regression/mixed_linear_model.py:2237: ConvergenceWarning: The MLE may be on the boundary of the parameter space.\n",
      "  warnings.warn(msg, ConvergenceWarning)\n"
     ]
    }
   ],
   "source": [
    "# Mixed Linear Model\n",
    "model = smf.mixedlm(\"valid ~ correct\", df, groups=df[\"population\"], re_formula=\"1 + correct\")\n",
    "result = model.fit()"
   ]
  },
  {
   "cell_type": "code",
   "execution_count": 21,
   "id": "fc539812",
   "metadata": {},
   "outputs": [
    {
     "data": {
      "text/html": [
       "<table class=\"simpletable\">\n",
       "<tr>\n",
       "       <td>Model:</td>       <td>MixedLM</td> <td>Dependent Variable:</td>     <td>valid</td>   \n",
       "</tr>\n",
       "<tr>\n",
       "  <td>No. Observations:</td> <td>246992</td>        <td>Method:</td>           <td>REML</td>    \n",
       "</tr>\n",
       "<tr>\n",
       "     <td>No. Groups:</td>      <td>29</td>          <td>Scale:</td>           <td>0.1659</td>   \n",
       "</tr>\n",
       "<tr>\n",
       "  <td>Min. group size:</td>    <td>671</td>     <td>Log-Likelihood:</td>   <td>-128667.2358</td>\n",
       "</tr>\n",
       "<tr>\n",
       "  <td>Max. group size:</td>   <td>21882</td>      <td>Converged:</td>           <td>Yes</td>    \n",
       "</tr>\n",
       "<tr>\n",
       "  <td>Mean group size:</td>  <td>8517.0</td>           <td></td>                 <td></td>      \n",
       "</tr>\n",
       "</table>\n",
       "<table class=\"simpletable\">\n",
       "<tr>\n",
       "               <td></td>                <th>Coef.</th> <th>Std.Err.</th>    <th>z</th>    <th>P>|z|</th> <th>[0.025</th> <th>0.975]</th>\n",
       "</tr>\n",
       "<tr>\n",
       "  <th>Intercept</th>                    <td>0.789</td>   <td>0.004</td>  <td>217.499</td> <td>0.000</td>  <td>0.782</td>  <td>0.797</td>\n",
       "</tr>\n",
       "<tr>\n",
       "  <th>correct[T.True]</th>              <td>0.008</td>   <td>0.004</td>   <td>2.139</td>  <td>0.032</td>  <td>0.001</td>  <td>0.015</td>\n",
       "</tr>\n",
       "<tr>\n",
       "  <th>Group Var</th>                    <td>0.000</td>   <td>0.000</td>     <td></td>       <td></td>       <td></td>       <td></td>   \n",
       "</tr>\n",
       "<tr>\n",
       "  <th>Group x correct[T.True] Cov</th> <td>-0.000</td>   <td>0.000</td>     <td></td>       <td></td>       <td></td>       <td></td>   \n",
       "</tr>\n",
       "<tr>\n",
       "  <th>correct[T.True] Var</th>          <td>0.000</td>   <td>0.000</td>     <td></td>       <td></td>       <td></td>       <td></td>   \n",
       "</tr>\n",
       "</table>"
      ],
      "text/plain": [
       "<class 'statsmodels.iolib.summary2.Summary'>\n",
       "\"\"\"\n",
       "                 Mixed Linear Model Regression Results\n",
       "=======================================================================\n",
       "Model:                 MixedLM     Dependent Variable:     valid       \n",
       "No. Observations:      246992      Method:                 REML        \n",
       "No. Groups:            29          Scale:                  0.1659      \n",
       "Min. group size:       671         Log-Likelihood:         -128667.2358\n",
       "Max. group size:       21882       Converged:              Yes         \n",
       "Mean group size:       8517.0                                          \n",
       "-----------------------------------------------------------------------\n",
       "                            Coef.  Std.Err.    z    P>|z| [0.025 0.975]\n",
       "-----------------------------------------------------------------------\n",
       "Intercept                    0.789    0.004 217.499 0.000  0.782  0.797\n",
       "correct[T.True]              0.008    0.004   2.139 0.032  0.001  0.015\n",
       "Group Var                    0.000    0.000                            \n",
       "Group x correct[T.True] Cov -0.000    0.000                            \n",
       "correct[T.True] Var          0.000    0.000                            \n",
       "=======================================================================\n",
       "\n",
       "\"\"\""
      ]
     },
     "execution_count": 21,
     "metadata": {},
     "output_type": "execute_result"
    }
   ],
   "source": [
    "# Summary of the model\n",
    "result.summary()"
   ]
  },
  {
   "cell_type": "code",
   "execution_count": null,
   "id": "d05a21be-b620-48b1-9719-2a313693dad6",
   "metadata": {},
   "outputs": [],
   "source": []
  },
  {
   "cell_type": "code",
   "execution_count": null,
   "id": "becaea14-6136-49d7-8c68-504368ca520d",
   "metadata": {},
   "outputs": [],
   "source": []
  },
  {
   "cell_type": "code",
   "execution_count": null,
   "id": "67d79650-8707-4481-84df-f84ea9a5003f",
   "metadata": {},
   "outputs": [],
   "source": []
  }
 ],
 "metadata": {
  "kernelspec": {
   "display_name": "cdcp_paper",
   "language": "python",
   "name": "cdcp_paper"
  },
  "language_info": {
   "codemirror_mode": {
    "name": "ipython",
    "version": 3
   },
   "file_extension": ".py",
   "mimetype": "text/x-python",
   "name": "python",
   "nbconvert_exporter": "python",
   "pygments_lexer": "ipython3",
   "version": "3.9.16"
  }
 },
 "nbformat": 4,
 "nbformat_minor": 5
}
