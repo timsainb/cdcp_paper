{
 "cells": [
  {
   "cell_type": "code",
   "execution_count": 1,
   "id": "6112ca98",
   "metadata": {},
   "outputs": [
    {
     "name": "stderr",
     "output_type": "stream",
     "text": [
      "/n/groups/datta/tim_sainburg/projects/CDCP_paper/cdcp/general.py:6: TqdmExperimentalWarning: Using `tqdm.autonotebook.tqdm` in notebook mode. Use `tqdm.tqdm` instead to force console mode (e.g. in jupyter console)\n",
      "  from tqdm.autonotebook import tqdm\n"
     ]
    }
   ],
   "source": [
    "%load_ext autoreload\n",
    "%autoreload 2\n",
    "\n",
    "#from behav import plotting, utils, loading\n",
    "import numpy as np\n",
    "import pandas as pd\n",
    "import matplotlib.pyplot as plt\n",
    "from tqdm import tqdm\n",
    "pd.set_option('display.max_columns', 500)\n",
    "import seaborn as sns\n",
    "\n",
    "from matplotlib import rcParams\n",
    "#rcParams['font.family'] = 'Arial'\n",
    "\n",
    "from cdcp.experiment_info import subjects\n",
    "from cdcp.paths import DATA_PATH_MAGPI\n",
    "from cdcp.behavior.data import prepare_behavior_data\n",
    "from cdcp.visualization.colors import colors\n",
    "subjects, DATA_PATH_MAGPI\n",
    "from cdcp.paths import DATA_PATH_MAGPI, FIGURE_DIR, ensure_dir\n",
    "from cdcp.general import save_fig\n",
    "\n",
    "from cdcp.paths import DATA_PATH_MAGPI, FIGURE_DIR, ensure_dir\n",
    "from cdcp.general import save_fig\n",
    "\n",
    "from cdcp.paths import DATA_DIR, ensure_dir\n",
    "\n",
    "from cdcp.visualization.colors import colors as cdcp_colors\n",
    "\n",
    "save_figs = True\n",
    "\n",
    "from cdcp.behavior.data import bin_data, cue_direction"
   ]
  },
  {
   "cell_type": "code",
   "execution_count": 2,
   "id": "7489dfab",
   "metadata": {},
   "outputs": [],
   "source": [
    "fit_df_interp = pd.read_pickle(DATA_DIR/'behavior'/'fit_df_interp.pickle')\n",
    "cue_prob_dict = {\n",
    "    'NC': 0.5,\n",
    "    'CL0': 0.25,\n",
    "    'CN': 0.5,\n",
    "    'CR1': 0.875,\n",
    "    'CL1': 0.125, \n",
    "    'CR0': 0.75\n",
    "}\n",
    "fit_df_interp['cue_prob'] = [cue_prob_dict[cue] for cue in fit_df_interp.cue.values]\n",
    "fit_df_interp['psychometric_inflection'] = fit_df_interp['_inflection']"
   ]
  },
  {
   "cell_type": "code",
   "execution_count": 3,
   "id": "e0f418ad",
   "metadata": {},
   "outputs": [
    {
     "data": {
      "text/html": [
       "<div>\n",
       "<style scoped>\n",
       "    .dataframe tbody tr th:only-of-type {\n",
       "        vertical-align: middle;\n",
       "    }\n",
       "\n",
       "    .dataframe tbody tr th {\n",
       "        vertical-align: top;\n",
       "    }\n",
       "\n",
       "    .dataframe thead th {\n",
       "        text-align: right;\n",
       "    }\n",
       "</style>\n",
       "<table border=\"1\" class=\"dataframe\">\n",
       "  <thead>\n",
       "    <tr style=\"text-align: right;\">\n",
       "      <th></th>\n",
       "      <th>bird</th>\n",
       "      <th>cue</th>\n",
       "      <th>interp</th>\n",
       "      <th>n_points</th>\n",
       "      <th>_min</th>\n",
       "      <th>_max</th>\n",
       "      <th>_inflection</th>\n",
       "      <th>_slope</th>\n",
       "      <th>model</th>\n",
       "      <th>y_interp</th>\n",
       "      <th>r_squared</th>\n",
       "      <th>cue_prob</th>\n",
       "      <th>psychometric_inflection</th>\n",
       "    </tr>\n",
       "  </thead>\n",
       "  <tbody>\n",
       "    <tr>\n",
       "      <th>0</th>\n",
       "      <td>B1174</td>\n",
       "      <td>NC</td>\n",
       "      <td>AE</td>\n",
       "      <td>14538</td>\n",
       "      <td>0.112693</td>\n",
       "      <td>0.903653</td>\n",
       "      <td>64.036638</td>\n",
       "      <td>14.918588</td>\n",
       "      <td>&lt;lmfit.minimizer.MinimizerResult object at 0x7...</td>\n",
       "      <td>[0.11269340812421869, 0.11269340812421869, 0.1...</td>\n",
       "      <td>0.538664</td>\n",
       "      <td>0.50</td>\n",
       "      <td>64.036638</td>\n",
       "    </tr>\n",
       "    <tr>\n",
       "      <th>1</th>\n",
       "      <td>B1174</td>\n",
       "      <td>CL0</td>\n",
       "      <td>AE</td>\n",
       "      <td>6876</td>\n",
       "      <td>0.099140</td>\n",
       "      <td>0.880312</td>\n",
       "      <td>64.357732</td>\n",
       "      <td>27.363792</td>\n",
       "      <td>&lt;lmfit.minimizer.MinimizerResult object at 0x7...</td>\n",
       "      <td>[0.09913953431260725, 0.09913953431260725, 0.0...</td>\n",
       "      <td>0.533202</td>\n",
       "      <td>0.25</td>\n",
       "      <td>64.357732</td>\n",
       "    </tr>\n",
       "    <tr>\n",
       "      <th>2</th>\n",
       "      <td>B1174</td>\n",
       "      <td>CN</td>\n",
       "      <td>AE</td>\n",
       "      <td>1606</td>\n",
       "      <td>0.131581</td>\n",
       "      <td>0.884359</td>\n",
       "      <td>64.226503</td>\n",
       "      <td>24.816837</td>\n",
       "      <td>&lt;lmfit.minimizer.MinimizerResult object at 0x7...</td>\n",
       "      <td>[0.1315810264285665, 0.1315810264285665, 0.131...</td>\n",
       "      <td>0.519944</td>\n",
       "      <td>0.50</td>\n",
       "      <td>64.226503</td>\n",
       "    </tr>\n",
       "  </tbody>\n",
       "</table>\n",
       "</div>"
      ],
      "text/plain": [
       "    bird  cue interp n_points      _min      _max  _inflection     _slope  \\\n",
       "0  B1174   NC     AE    14538  0.112693  0.903653    64.036638  14.918588   \n",
       "1  B1174  CL0     AE     6876  0.099140  0.880312    64.357732  27.363792   \n",
       "2  B1174   CN     AE     1606  0.131581  0.884359    64.226503  24.816837   \n",
       "\n",
       "                                               model  \\\n",
       "0  <lmfit.minimizer.MinimizerResult object at 0x7...   \n",
       "1  <lmfit.minimizer.MinimizerResult object at 0x7...   \n",
       "2  <lmfit.minimizer.MinimizerResult object at 0x7...   \n",
       "\n",
       "                                            y_interp  r_squared  cue_prob  \\\n",
       "0  [0.11269340812421869, 0.11269340812421869, 0.1...   0.538664      0.50   \n",
       "1  [0.09913953431260725, 0.09913953431260725, 0.0...   0.533202      0.25   \n",
       "2  [0.1315810264285665, 0.1315810264285665, 0.131...   0.519944      0.50   \n",
       "\n",
       "   psychometric_inflection  \n",
       "0                64.036638  \n",
       "1                64.357732  \n",
       "2                64.226503  "
      ]
     },
     "execution_count": 3,
     "metadata": {},
     "output_type": "execute_result"
    }
   ],
   "source": [
    "fit_df_interp[:3]"
   ]
  },
  {
   "cell_type": "code",
   "execution_count": 4,
   "id": "76332523",
   "metadata": {},
   "outputs": [
    {
     "data": {
      "text/html": [
       "<div>\n",
       "<style scoped>\n",
       "    .dataframe tbody tr th:only-of-type {\n",
       "        vertical-align: middle;\n",
       "    }\n",
       "\n",
       "    .dataframe tbody tr th {\n",
       "        vertical-align: top;\n",
       "    }\n",
       "\n",
       "    .dataframe thead th {\n",
       "        text-align: right;\n",
       "    }\n",
       "</style>\n",
       "<table border=\"1\" class=\"dataframe\">\n",
       "  <thead>\n",
       "    <tr style=\"text-align: right;\">\n",
       "      <th></th>\n",
       "      <th>bird</th>\n",
       "      <th>psychometric_inflection</th>\n",
       "      <th>cue_prob</th>\n",
       "    </tr>\n",
       "  </thead>\n",
       "  <tbody>\n",
       "    <tr>\n",
       "      <th>0</th>\n",
       "      <td>B1174</td>\n",
       "      <td>64.036638</td>\n",
       "      <td>0.50</td>\n",
       "    </tr>\n",
       "    <tr>\n",
       "      <th>1</th>\n",
       "      <td>B1174</td>\n",
       "      <td>64.357732</td>\n",
       "      <td>0.25</td>\n",
       "    </tr>\n",
       "    <tr>\n",
       "      <th>2</th>\n",
       "      <td>B1174</td>\n",
       "      <td>64.226503</td>\n",
       "      <td>0.50</td>\n",
       "    </tr>\n",
       "  </tbody>\n",
       "</table>\n",
       "</div>"
      ],
      "text/plain": [
       "    bird  psychometric_inflection  cue_prob\n",
       "0  B1174                64.036638      0.50\n",
       "1  B1174                64.357732      0.25\n",
       "2  B1174                64.226503      0.50"
      ]
     },
     "execution_count": 4,
     "metadata": {},
     "output_type": "execute_result"
    }
   ],
   "source": [
    "df = fit_df_interp[['bird', 'psychometric_inflection', 'cue_prob']]\n",
    "df[:3]"
   ]
  },
  {
   "cell_type": "markdown",
   "id": "be415982",
   "metadata": {},
   "source": [
    "### Test whether inflection point shifts with cue probability"
   ]
  },
  {
   "cell_type": "code",
   "execution_count": 5,
   "id": "fc9bdfe6",
   "metadata": {},
   "outputs": [],
   "source": [
    "import statsmodels.api as sm\n",
    "import statsmodels.formula.api as smf"
   ]
  },
  {
   "cell_type": "code",
   "execution_count": 9,
   "id": "0c6c3d22",
   "metadata": {},
   "outputs": [],
   "source": [
    "# Mixed Linear Model\n",
    "model = smf.mixedlm(\"psychometric_inflection ~ cue_prob\", df, groups=df[\"bird\"], re_formula=\"1 + cue_prob\")\n",
    "result = model.fit()"
   ]
  },
  {
   "cell_type": "code",
   "execution_count": 10,
   "id": "16a5ea36",
   "metadata": {},
   "outputs": [
    {
     "data": {
      "text/html": [
       "<table class=\"simpletable\">\n",
       "<tr>\n",
       "       <td>Model:</td>       <td>MixedLM</td> <td>Dependent Variable:</td> <td>psychometric_inflection</td>\n",
       "</tr>\n",
       "<tr>\n",
       "  <td>No. Observations:</td>  <td>1050</td>         <td>Method:</td>                <td>REML</td>          \n",
       "</tr>\n",
       "<tr>\n",
       "     <td>No. Groups:</td>      <td>20</td>          <td>Scale:</td>                <td>31.1758</td>        \n",
       "</tr>\n",
       "<tr>\n",
       "  <td>Min. group size:</td>    <td>24</td>      <td>Log-Likelihood:</td>         <td>-3318.5947</td>       \n",
       "</tr>\n",
       "<tr>\n",
       "  <td>Max. group size:</td>    <td>54</td>        <td>Converged:</td>                <td>Yes</td>          \n",
       "</tr>\n",
       "<tr>\n",
       "  <td>Mean group size:</td>   <td>52.5</td>            <td></td>                      <td></td>            \n",
       "</tr>\n",
       "</table>\n",
       "<table class=\"simpletable\">\n",
       "<tr>\n",
       "            <td></td>            <th>Coef.</th>  <th>Std.Err.</th>    <th>z</th>   <th>P>|z|</th> <th>[0.025</th>  <th>0.975]</th>\n",
       "</tr>\n",
       "<tr>\n",
       "  <th>Intercept</th>            <td>70.075</td>    <td>0.774</td>  <td>90.526</td> <td>0.000</td> <td>68.558</td>  <td>71.592</td>\n",
       "</tr>\n",
       "<tr>\n",
       "  <th>cue_prob</th>             <td>-11.117</td>   <td>1.158</td>  <td>-9.601</td> <td>0.000</td> <td>-13.387</td> <td>-8.848</td>\n",
       "</tr>\n",
       "<tr>\n",
       "  <th>Group Var</th>             <td>9.140</td>    <td>0.706</td>     <td></td>      <td></td>       <td></td>        <td></td>   \n",
       "</tr>\n",
       "<tr>\n",
       "  <th>Group x cue_prob Cov</th> <td>-11.589</td>   <td>0.999</td>     <td></td>      <td></td>       <td></td>        <td></td>   \n",
       "</tr>\n",
       "<tr>\n",
       "  <th>cue_prob Var</th>         <td>17.902</td>    <td>1.569</td>     <td></td>      <td></td>       <td></td>        <td></td>   \n",
       "</tr>\n",
       "</table>"
      ],
      "text/plain": [
       "<class 'statsmodels.iolib.summary2.Summary'>\n",
       "\"\"\"\n",
       "                Mixed Linear Model Regression Results\n",
       "=====================================================================\n",
       "Model:            MixedLM Dependent Variable: psychometric_inflection\n",
       "No. Observations: 1050    Method:             REML                   \n",
       "No. Groups:       20      Scale:              31.1758                \n",
       "Min. group size:  24      Log-Likelihood:     -3318.5947             \n",
       "Max. group size:  54      Converged:          Yes                    \n",
       "Mean group size:  52.5                                               \n",
       "---------------------------------------------------------------------\n",
       "                          Coef.  Std.Err.   z    P>|z|  [0.025 0.975]\n",
       "---------------------------------------------------------------------\n",
       "Intercept                 70.075    0.774 90.526 0.000  68.558 71.592\n",
       "cue_prob                 -11.117    1.158 -9.601 0.000 -13.387 -8.848\n",
       "Group Var                  9.140    0.706                            \n",
       "Group x cue_prob Cov     -11.589    0.999                            \n",
       "cue_prob Var              17.902    1.569                            \n",
       "=====================================================================\n",
       "\n",
       "\"\"\""
      ]
     },
     "execution_count": 10,
     "metadata": {},
     "output_type": "execute_result"
    }
   ],
   "source": [
    "# Summary of the model\n",
    "result.summary()"
   ]
  },
  {
   "cell_type": "markdown",
   "id": "e2893f72",
   "metadata": {},
   "source": [
    "### Test whether the magnitude of the inflection point shift increases with cue probability"
   ]
  },
  {
   "cell_type": "code",
   "execution_count": 11,
   "id": "b84357e1",
   "metadata": {},
   "outputs": [],
   "source": [
    "inflection_shift_df = pd.DataFrame(columns = ['bird', 'interp', 'slope', 'inflection_shift'])\n",
    "for bird in fit_df_interp.bird.unique():\n",
    "    for interp in fit_df_interp.interp.unique():\n",
    "        bird_interp_fit_df = fit_df_interp[(fit_df_interp.bird==bird) & (fit_df_interp.interp==interp)]\n",
    "        if len(bird_interp_fit_df) < 5:\n",
    "            continue\n",
    "        slope = bird_interp_fit_df[bird_interp_fit_df.cue == 'NC']._slope.values[0]\n",
    "        left_inflection = np.mean(bird_interp_fit_df[bird_interp_fit_df.cue.isin(['CL0', 'CL1'])]._inflection.values)\n",
    "        right_inflection = np.mean(bird_interp_fit_df[bird_interp_fit_df.cue.isin(['CR0', 'CR1'])]._inflection.values)\n",
    "        inflection_shift = left_inflection - right_inflection  \n",
    "        inflection_shift_df.loc[len(inflection_shift_df)] = [\n",
    "            bird, interp, slope, inflection_shift\n",
    "        ]"
   ]
  },
  {
   "cell_type": "code",
   "execution_count": 12,
   "id": "5ba0a44a",
   "metadata": {},
   "outputs": [
    {
     "data": {
      "text/plain": [
       "<matplotlib.collections.PathCollection at 0x7f8ff59d7220>"
      ]
     },
     "execution_count": 12,
     "metadata": {},
     "output_type": "execute_result"
    },
    {
     "data": {
      "image/png": "[encoded data removed]",
      "text/plain": [
       "<Figure size 640x480 with 1 Axes>"
      ]
     },
     "metadata": {},
     "output_type": "display_data"
    }
   ],
   "source": [
    "plt.scatter(1 / inflection_shift_df.slope, inflection_shift_df.inflection_shift)"
   ]
  },
  {
   "cell_type": "code",
   "execution_count": 21,
   "id": "c583ed63",
   "metadata": {},
   "outputs": [],
   "source": [
    "inflection_shift_df['inverse_slope'] = 1 / inflection_shift_df.slope"
   ]
  },
  {
   "cell_type": "code",
   "execution_count": 30,
   "id": "7f69713e",
   "metadata": {},
   "outputs": [],
   "source": [
    "df = inflection_shift_df[['bird', 'inverse_slope', 'inflection_shift', 'slope']]"
   ]
  },
  {
   "cell_type": "code",
   "execution_count": 26,
   "id": "524919bd-f27f-4360-8ac0-21910acd7246",
   "metadata": {},
   "outputs": [
    {
     "data": {
      "text/plain": [
       "<matplotlib.collections.PathCollection at 0x7f8ff5931100>"
      ]
     },
     "execution_count": 26,
     "metadata": {},
     "output_type": "execute_result"
    },
    {
     "data": {
      "image/png": "[encoded data removed]",
      "text/plain": [
       "<Figure size 640x480 with 1 Axes>"
      ]
     },
     "metadata": {},
     "output_type": "display_data"
    }
   ],
   "source": [
    "plt.scatter(df.inverse_slope, inflection_shift_df.inflection_shift)"
   ]
  },
  {
   "cell_type": "code",
   "execution_count": 33,
   "id": "8237a7c4",
   "metadata": {},
   "outputs": [],
   "source": [
    "# Mixed Linear Model\n",
    "model = smf.mixedlm(\"inflection_shift ~ slope\", df, groups=df[\"bird\"], re_formula=\"1 + slope\")\n",
    "result = model.fit()"
   ]
  },
  {
   "cell_type": "code",
   "execution_count": 34,
   "id": "1d950626",
   "metadata": {},
   "outputs": [
    {
     "data": {
      "text/html": [
       "<table class=\"simpletable\">\n",
       "<tr>\n",
       "       <td>Model:</td>       <td>MixedLM</td> <td>Dependent Variable:</td> <td>inflection_shift</td>\n",
       "</tr>\n",
       "<tr>\n",
       "  <td>No. Observations:</td>   <td>175</td>         <td>Method:</td>             <td>REML</td>      \n",
       "</tr>\n",
       "<tr>\n",
       "     <td>No. Groups:</td>      <td>20</td>          <td>Scale:</td>             <td>18.7350</td>    \n",
       "</tr>\n",
       "<tr>\n",
       "  <td>Min. group size:</td>     <td>4</td>      <td>Log-Likelihood:</td>       <td>-523.7910</td>   \n",
       "</tr>\n",
       "<tr>\n",
       "  <td>Max. group size:</td>     <td>9</td>        <td>Converged:</td>             <td>Yes</td>      \n",
       "</tr>\n",
       "<tr>\n",
       "  <td>Mean group size:</td>    <td>8.8</td>            <td></td>                   <td></td>        \n",
       "</tr>\n",
       "</table>\n",
       "<table class=\"simpletable\">\n",
       "<tr>\n",
       "          <td></td>           <th>Coef.</th> <th>Std.Err.</th>    <th>z</th>   <th>P>|z|</th> <th>[0.025</th> <th>0.975]</th>\n",
       "</tr>\n",
       "<tr>\n",
       "  <th>Intercept</th>         <td>11.419</td>   <td>1.624</td>   <td>7.032</td> <td>0.000</td>  <td>8.237</td> <td>14.602</td>\n",
       "</tr>\n",
       "<tr>\n",
       "  <th>slope</th>             <td>-0.401</td>   <td>0.099</td>  <td>-4.035</td> <td>0.000</td> <td>-0.596</td> <td>-0.206</td>\n",
       "</tr>\n",
       "<tr>\n",
       "  <th>Group Var</th>         <td>41.635</td>   <td>4.018</td>     <td></td>      <td></td>       <td></td>       <td></td>   \n",
       "</tr>\n",
       "<tr>\n",
       "  <th>Group x slope Cov</th> <td>-2.350</td>   <td>0.235</td>     <td></td>      <td></td>       <td></td>       <td></td>   \n",
       "</tr>\n",
       "<tr>\n",
       "  <th>slope Var</th>          <td>0.133</td>   <td>0.014</td>     <td></td>      <td></td>       <td></td>       <td></td>   \n",
       "</tr>\n",
       "</table>"
      ],
      "text/plain": [
       "<class 'statsmodels.iolib.summary2.Summary'>\n",
       "\"\"\"\n",
       "            Mixed Linear Model Regression Results\n",
       "==============================================================\n",
       "Model:            MixedLM Dependent Variable: inflection_shift\n",
       "No. Observations: 175     Method:             REML            \n",
       "No. Groups:       20      Scale:              18.7350         \n",
       "Min. group size:  4       Log-Likelihood:     -523.7910       \n",
       "Max. group size:  9       Converged:          Yes             \n",
       "Mean group size:  8.8                                         \n",
       "--------------------------------------------------------------\n",
       "                    Coef.  Std.Err.   z    P>|z| [0.025 0.975]\n",
       "--------------------------------------------------------------\n",
       "Intercept           11.419    1.624  7.032 0.000  8.237 14.602\n",
       "slope               -0.401    0.099 -4.035 0.000 -0.596 -0.206\n",
       "Group Var           41.635    4.018                           \n",
       "Group x slope Cov   -2.350    0.235                           \n",
       "slope Var            0.133    0.014                           \n",
       "==============================================================\n",
       "\n",
       "\"\"\""
      ]
     },
     "execution_count": 34,
     "metadata": {},
     "output_type": "execute_result"
    }
   ],
   "source": [
    "# Summary of the model\n",
    "result.summary()"
   ]
  },
  {
   "cell_type": "code",
   "execution_count": null,
   "id": "5b3789bf",
   "metadata": {},
   "outputs": [],
   "source": []
  }
 ],
 "metadata": {
  "kernelspec": {
   "display_name": "cdcp_paper",
   "language": "python",
   "name": "cdcp_paper"
  },
  "language_info": {
   "codemirror_mode": {
    "name": "ipython",
    "version": 3
   },
   "file_extension": ".py",
   "mimetype": "text/x-python",
   "name": "python",
   "nbconvert_exporter": "python",
   "pygments_lexer": "ipython3",
   "version": "3.9.16"
  }
 },
 "nbformat": 4,
 "nbformat_minor": 5
}
