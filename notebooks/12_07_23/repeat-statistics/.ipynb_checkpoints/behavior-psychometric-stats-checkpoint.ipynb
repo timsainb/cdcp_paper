{
 "cells": [
  {
   "cell_type": "code",
   "execution_count": 1,
   "id": "6112ca98",
   "metadata": {},
   "outputs": [
    {
     "name": "stderr",
     "output_type": "stream",
     "text": [
      "/n/groups/datta/tim_sainburg/projects/CDCP_paper/cdcp/general.py:6: TqdmExperimentalWarning: Using `tqdm.autonotebook.tqdm` in notebook mode. Use `tqdm.tqdm` instead to force console mode (e.g. in jupyter console)\n",
      "  from tqdm.autonotebook import tqdm\n"
     ]
    }
   ],
   "source": [
    "%load_ext autoreload\n",
    "%autoreload 2\n",
    "\n",
    "#from behav import plotting, utils, loading\n",
    "import numpy as np\n",
    "import pandas as pd\n",
    "import matplotlib.pyplot as plt\n",
    "from tqdm import tqdm\n",
    "pd.set_option('display.max_columns', 500)\n",
    "import seaborn as sns\n",
    "\n",
    "from matplotlib import rcParams\n",
    "#rcParams['font.family'] = 'Arial'\n",
    "\n",
    "from cdcp.experiment_info import subjects\n",
    "from cdcp.paths import DATA_PATH_MAGPI\n",
    "from cdcp.behavior.data import prepare_behavior_data\n",
    "from cdcp.visualization.colors import colors\n",
    "subjects, DATA_PATH_MAGPI\n",
    "from cdcp.paths import DATA_PATH_MAGPI, FIGURE_DIR, ensure_dir\n",
    "from cdcp.general import save_fig\n",
    "\n",
    "from cdcp.paths import DATA_PATH_MAGPI, FIGURE_DIR, ensure_dir\n",
    "from cdcp.general import save_fig\n",
    "\n",
    "from cdcp.paths import DATA_DIR, ensure_dir\n",
    "\n",
    "from cdcp.visualization.colors import colors as cdcp_colors\n",
    "\n",
    "save_figs = True\n",
    "\n",
    "from cdcp.behavior.data import bin_data, cue_direction"
   ]
  },
  {
   "cell_type": "code",
   "execution_count": 10,
   "id": "7489dfab",
   "metadata": {},
   "outputs": [],
   "source": [
    "fit_df_interp = pd.read_pickle(DATA_DIR/'behavior'/'fit_df_interp.pickle')\n",
    "cue_prob_dict = {\n",
    "    'NC': 0.5,\n",
    "    'CL0': 0.25,\n",
    "    'CN': 0.5,\n",
    "    'CR1': 0.875,\n",
    "    'CL1': 0.125, \n",
    "    'CR0': 0.75\n",
    "}\n",
    "fit_df_interp['cue_prob'] = [cue_prob_dict[cue] for cue in fit_df_interp.cue.values]\n",
    "fit_df_interp['psychometric_inflection'] = fit_df_interp['_inflection']"
   ]
  },
  {
   "cell_type": "code",
   "execution_count": 11,
   "id": "e0f418ad",
   "metadata": {},
   "outputs": [
    {
     "data": {
      "text/html": [
       "<div>\n",
       "<style scoped>\n",
       "    .dataframe tbody tr th:only-of-type {\n",
       "        vertical-align: middle;\n",
       "    }\n",
       "\n",
       "    .dataframe tbody tr th {\n",
       "        vertical-align: top;\n",
       "    }\n",
       "\n",
       "    .dataframe thead th {\n",
       "        text-align: right;\n",
       "    }\n",
       "</style>\n",
       "<table border=\"1\" class=\"dataframe\">\n",
       "  <thead>\n",
       "    <tr style=\"text-align: right;\">\n",
       "      <th></th>\n",
       "      <th>bird</th>\n",
       "      <th>cue</th>\n",
       "      <th>interp</th>\n",
       "      <th>n_points</th>\n",
       "      <th>_min</th>\n",
       "      <th>_max</th>\n",
       "      <th>_inflection</th>\n",
       "      <th>_slope</th>\n",
       "      <th>model</th>\n",
       "      <th>y_interp</th>\n",
       "      <th>r_squared</th>\n",
       "      <th>cue_prob</th>\n",
       "      <th>psychometric_inflection</th>\n",
       "    </tr>\n",
       "  </thead>\n",
       "  <tbody>\n",
       "    <tr>\n",
       "      <th>0</th>\n",
       "      <td>B1174</td>\n",
       "      <td>NC</td>\n",
       "      <td>AE</td>\n",
       "      <td>14538</td>\n",
       "      <td>0.112693</td>\n",
       "      <td>0.903653</td>\n",
       "      <td>64.036638</td>\n",
       "      <td>14.918588</td>\n",
       "      <td>&lt;lmfit.minimizer.MinimizerResult object at 0x7...</td>\n",
       "      <td>[0.11269340812421869, 0.11269340812421869, 0.1...</td>\n",
       "      <td>0.538664</td>\n",
       "      <td>0.50</td>\n",
       "      <td>64.036638</td>\n",
       "    </tr>\n",
       "    <tr>\n",
       "      <th>1</th>\n",
       "      <td>B1174</td>\n",
       "      <td>CL0</td>\n",
       "      <td>AE</td>\n",
       "      <td>6876</td>\n",
       "      <td>0.099140</td>\n",
       "      <td>0.880312</td>\n",
       "      <td>64.357732</td>\n",
       "      <td>27.363792</td>\n",
       "      <td>&lt;lmfit.minimizer.MinimizerResult object at 0x7...</td>\n",
       "      <td>[0.09913953431260725, 0.09913953431260725, 0.0...</td>\n",
       "      <td>0.533202</td>\n",
       "      <td>0.25</td>\n",
       "      <td>64.357732</td>\n",
       "    </tr>\n",
       "    <tr>\n",
       "      <th>2</th>\n",
       "      <td>B1174</td>\n",
       "      <td>CN</td>\n",
       "      <td>AE</td>\n",
       "      <td>1606</td>\n",
       "      <td>0.131581</td>\n",
       "      <td>0.884359</td>\n",
       "      <td>64.226503</td>\n",
       "      <td>24.816837</td>\n",
       "      <td>&lt;lmfit.minimizer.MinimizerResult object at 0x7...</td>\n",
       "      <td>[0.1315810264285665, 0.1315810264285665, 0.131...</td>\n",
       "      <td>0.519944</td>\n",
       "      <td>0.50</td>\n",
       "      <td>64.226503</td>\n",
       "    </tr>\n",
       "  </tbody>\n",
       "</table>\n",
       "</div>"
      ],
      "text/plain": [
       "    bird  cue interp n_points      _min      _max  _inflection     _slope  \\\n",
       "0  B1174   NC     AE    14538  0.112693  0.903653    64.036638  14.918588   \n",
       "1  B1174  CL0     AE     6876  0.099140  0.880312    64.357732  27.363792   \n",
       "2  B1174   CN     AE     1606  0.131581  0.884359    64.226503  24.816837   \n",
       "\n",
       "                                               model  \\\n",
       "0  <lmfit.minimizer.MinimizerResult object at 0x7...   \n",
       "1  <lmfit.minimizer.MinimizerResult object at 0x7...   \n",
       "2  <lmfit.minimizer.MinimizerResult object at 0x7...   \n",
       "\n",
       "                                            y_interp  r_squared  cue_prob  \\\n",
       "0  [0.11269340812421869, 0.11269340812421869, 0.1...   0.538664      0.50   \n",
       "1  [0.09913953431260725, 0.09913953431260725, 0.0...   0.533202      0.25   \n",
       "2  [0.1315810264285665, 0.1315810264285665, 0.131...   0.519944      0.50   \n",
       "\n",
       "   psychometric_inflection  \n",
       "0                64.036638  \n",
       "1                64.357732  \n",
       "2                64.226503  "
      ]
     },
     "execution_count": 11,
     "metadata": {},
     "output_type": "execute_result"
    }
   ],
   "source": [
    "fit_df_interp[:3]"
   ]
  },
  {
   "cell_type": "code",
   "execution_count": 13,
   "id": "76332523",
   "metadata": {},
   "outputs": [
    {
     "data": {
      "text/html": [
       "<div>\n",
       "<style scoped>\n",
       "    .dataframe tbody tr th:only-of-type {\n",
       "        vertical-align: middle;\n",
       "    }\n",
       "\n",
       "    .dataframe tbody tr th {\n",
       "        vertical-align: top;\n",
       "    }\n",
       "\n",
       "    .dataframe thead th {\n",
       "        text-align: right;\n",
       "    }\n",
       "</style>\n",
       "<table border=\"1\" class=\"dataframe\">\n",
       "  <thead>\n",
       "    <tr style=\"text-align: right;\">\n",
       "      <th></th>\n",
       "      <th>bird</th>\n",
       "      <th>psychometric_inflection</th>\n",
       "      <th>cue_prob</th>\n",
       "    </tr>\n",
       "  </thead>\n",
       "  <tbody>\n",
       "    <tr>\n",
       "      <th>0</th>\n",
       "      <td>B1174</td>\n",
       "      <td>64.036638</td>\n",
       "      <td>0.50</td>\n",
       "    </tr>\n",
       "    <tr>\n",
       "      <th>1</th>\n",
       "      <td>B1174</td>\n",
       "      <td>64.357732</td>\n",
       "      <td>0.25</td>\n",
       "    </tr>\n",
       "    <tr>\n",
       "      <th>2</th>\n",
       "      <td>B1174</td>\n",
       "      <td>64.226503</td>\n",
       "      <td>0.50</td>\n",
       "    </tr>\n",
       "  </tbody>\n",
       "</table>\n",
       "</div>"
      ],
      "text/plain": [
       "    bird  psychometric_inflection  cue_prob\n",
       "0  B1174                64.036638      0.50\n",
       "1  B1174                64.357732      0.25\n",
       "2  B1174                64.226503      0.50"
      ]
     },
     "execution_count": 13,
     "metadata": {},
     "output_type": "execute_result"
    }
   ],
   "source": [
    "df = fit_df_interp[['bird', 'psychometric_inflection', 'cue_prob']]\n",
    "df[:3]"
   ]
  },
  {
   "cell_type": "markdown",
   "id": "be415982",
   "metadata": {},
   "source": [
    "### Test whether inflection point shifts with cue probability"
   ]
  },
  {
   "cell_type": "code",
   "execution_count": 14,
   "id": "fc9bdfe6",
   "metadata": {},
   "outputs": [],
   "source": [
    "import statsmodels.api as sm\n",
    "import statsmodels.formula.api as smf"
   ]
  },
  {
   "cell_type": "code",
   "execution_count": 15,
   "id": "0c6c3d22",
   "metadata": {},
   "outputs": [],
   "source": [
    "# Mixed Linear Model\n",
    "model = smf.mixedlm(\"psychometric_inflection ~ cue_prob\", df, groups=df[\"bird\"])\n",
    "result = model.fit()"
   ]
  },
  {
   "cell_type": "code",
   "execution_count": 16,
   "id": "16a5ea36",
   "metadata": {},
   "outputs": [
    {
     "data": {
      "text/html": [
       "<table class=\"simpletable\">\n",
       "<tr>\n",
       "       <td>Model:</td>       <td>MixedLM</td> <td>Dependent Variable:</td> <td>psychometric_inflection</td>\n",
       "</tr>\n",
       "<tr>\n",
       "  <td>No. Observations:</td>  <td>1050</td>         <td>Method:</td>                <td>REML</td>          \n",
       "</tr>\n",
       "<tr>\n",
       "     <td>No. Groups:</td>      <td>20</td>          <td>Scale:</td>                <td>32.3485</td>        \n",
       "</tr>\n",
       "<tr>\n",
       "  <td>Min. group size:</td>    <td>24</td>      <td>Log-Likelihood:</td>         <td>-3328.0244</td>       \n",
       "</tr>\n",
       "<tr>\n",
       "  <td>Max. group size:</td>    <td>54</td>        <td>Converged:</td>                <td>Yes</td>          \n",
       "</tr>\n",
       "<tr>\n",
       "  <td>Mean group size:</td>   <td>52.5</td>            <td></td>                      <td></td>            \n",
       "</tr>\n",
       "</table>\n",
       "<table class=\"simpletable\">\n",
       "<tr>\n",
       "      <td></td>       <th>Coef.</th>  <th>Std.Err.</th>    <th>z</th>    <th>P>|z|</th> <th>[0.025</th>  <th>0.975]</th>\n",
       "</tr>\n",
       "<tr>\n",
       "  <th>Intercept</th> <td>70.126</td>    <td>0.495</td>  <td>141.716</td> <td>0.000</td> <td>69.156</td>  <td>71.095</td>\n",
       "</tr>\n",
       "<tr>\n",
       "  <th>cue_prob</th>  <td>-11.211</td>   <td>0.675</td>  <td>-16.620</td> <td>0.000</td> <td>-12.533</td> <td>-9.889</td>\n",
       "</tr>\n",
       "<tr>\n",
       "  <th>Group Var</th>  <td>1.993</td>    <td>0.151</td>     <td></td>       <td></td>       <td></td>        <td></td>   \n",
       "</tr>\n",
       "</table>"
      ],
      "text/plain": [
       "<class 'statsmodels.iolib.summary2.Summary'>\n",
       "\"\"\"\n",
       "                Mixed Linear Model Regression Results\n",
       "=====================================================================\n",
       "Model:            MixedLM Dependent Variable: psychometric_inflection\n",
       "No. Observations: 1050    Method:             REML                   \n",
       "No. Groups:       20      Scale:              32.3485                \n",
       "Min. group size:  24      Log-Likelihood:     -3328.0244             \n",
       "Max. group size:  54      Converged:          Yes                    \n",
       "Mean group size:  52.5                                               \n",
       "-----------------------------------------------------------------------\n",
       "                 Coef.    Std.Err.      z      P>|z|    [0.025   0.975]\n",
       "-----------------------------------------------------------------------\n",
       "Intercept        70.126      0.495   141.716   0.000    69.156   71.095\n",
       "cue_prob        -11.211      0.675   -16.620   0.000   -12.533   -9.889\n",
       "Group Var         1.993      0.151                                     \n",
       "=====================================================================\n",
       "\n",
       "\"\"\""
      ]
     },
     "execution_count": 16,
     "metadata": {},
     "output_type": "execute_result"
    }
   ],
   "source": [
    "# Summary of the model\n",
    "result.summary()"
   ]
  },
  {
   "cell_type": "markdown",
   "id": "e2893f72",
   "metadata": {},
   "source": [
    "### Test whether the magnitude of the inflection point shift increases with cue probability"
   ]
  },
  {
   "cell_type": "code",
   "execution_count": 46,
   "id": "b84357e1",
   "metadata": {},
   "outputs": [],
   "source": [
    "inflection_shift_df = pd.DataFrame(columns = ['bird', 'interp', 'slope', 'inflection_shift'])\n",
    "for bird in fit_df_interp.bird.unique():\n",
    "    for interp in fit_df_interp.interp.unique():\n",
    "        bird_interp_fit_df = fit_df_interp[(fit_df_interp.bird==bird) & (fit_df_interp.interp==interp)]\n",
    "        if len(bird_interp_fit_df) < 5:\n",
    "            continue\n",
    "        slope = bird_interp_fit_df[bird_interp_fit_df.cue == 'NC']._slope.values[0]\n",
    "        left_inflection = np.mean(bird_interp_fit_df[bird_interp_fit_df.cue.isin(['CL0', 'CL1'])]._inflection.values)\n",
    "        right_inflection = np.mean(bird_interp_fit_df[bird_interp_fit_df.cue.isin(['CR0', 'CR1'])]._inflection.values)\n",
    "        inflection_shift = left_inflection - right_inflection  \n",
    "        inflection_shift_df.loc[len(inflection_shift_df)] = [\n",
    "            bird, interp, slope, inflection_shift\n",
    "        ]"
   ]
  },
  {
   "cell_type": "code",
   "execution_count": 53,
   "id": "5ba0a44a",
   "metadata": {},
   "outputs": [
    {
     "data": {
      "text/plain": [
       "<matplotlib.collections.PathCollection at 0x7f74eeab77c0>"
      ]
     },
     "execution_count": 53,
     "metadata": {},
     "output_type": "execute_result"
    },
    {
     "data": {
      "image/png": "[encoded data removed]",
      "text/plain": [
       "<Figure size 640x480 with 1 Axes>"
      ]
     },
     "metadata": {},
     "output_type": "display_data"
    }
   ],
   "source": [
    "plt.scatter(1 / inflection_shift_df.slope, inflection_shift_df.inflection_shift)"
   ]
  },
  {
   "cell_type": "code",
   "execution_count": 54,
   "id": "c583ed63",
   "metadata": {},
   "outputs": [],
   "source": [
    "inflection_shift_df['inverse_slope'] = 1 / inflection_shift_df.slope"
   ]
  },
  {
   "cell_type": "code",
   "execution_count": 57,
   "id": "7f69713e",
   "metadata": {},
   "outputs": [],
   "source": [
    "df = inflection_shift_df[['bird', 'inverse_slope', 'inflection_shift']]"
   ]
  },
  {
   "cell_type": "code",
   "execution_count": 56,
   "id": "c59e0751",
   "metadata": {},
   "outputs": [
    {
     "data": {
      "text/html": [
       "<div>\n",
       "<style scoped>\n",
       "    .dataframe tbody tr th:only-of-type {\n",
       "        vertical-align: middle;\n",
       "    }\n",
       "\n",
       "    .dataframe tbody tr th {\n",
       "        vertical-align: top;\n",
       "    }\n",
       "\n",
       "    .dataframe thead th {\n",
       "        text-align: right;\n",
       "    }\n",
       "</style>\n",
       "<table border=\"1\" class=\"dataframe\">\n",
       "  <thead>\n",
       "    <tr style=\"text-align: right;\">\n",
       "      <th></th>\n",
       "      <th>bird</th>\n",
       "      <th>interp</th>\n",
       "      <th>slope</th>\n",
       "      <th>inflection_shift</th>\n",
       "      <th>inverse_slope</th>\n",
       "    </tr>\n",
       "  </thead>\n",
       "  <tbody>\n",
       "    <tr>\n",
       "      <th>0</th>\n",
       "      <td>B1174</td>\n",
       "      <td>AE</td>\n",
       "      <td>14.918588</td>\n",
       "      <td>1.848872</td>\n",
       "      <td>0.067030</td>\n",
       "    </tr>\n",
       "    <tr>\n",
       "      <th>1</th>\n",
       "      <td>B1174</td>\n",
       "      <td>BF</td>\n",
       "      <td>18.848140</td>\n",
       "      <td>1.277027</td>\n",
       "      <td>0.053056</td>\n",
       "    </tr>\n",
       "    <tr>\n",
       "      <th>2</th>\n",
       "      <td>B1174</td>\n",
       "      <td>AF</td>\n",
       "      <td>6.992853</td>\n",
       "      <td>5.114388</td>\n",
       "      <td>0.143003</td>\n",
       "    </tr>\n",
       "    <tr>\n",
       "      <th>3</th>\n",
       "      <td>B1174</td>\n",
       "      <td>BE</td>\n",
       "      <td>2.702706</td>\n",
       "      <td>7.974421</td>\n",
       "      <td>0.370000</td>\n",
       "    </tr>\n",
       "    <tr>\n",
       "      <th>4</th>\n",
       "      <td>B1174</td>\n",
       "      <td>CE</td>\n",
       "      <td>7.876655</td>\n",
       "      <td>4.689915</td>\n",
       "      <td>0.126957</td>\n",
       "    </tr>\n",
       "    <tr>\n",
       "      <th>...</th>\n",
       "      <td>...</td>\n",
       "      <td>...</td>\n",
       "      <td>...</td>\n",
       "      <td>...</td>\n",
       "      <td>...</td>\n",
       "    </tr>\n",
       "    <tr>\n",
       "      <th>170</th>\n",
       "      <td>B1276</td>\n",
       "      <td>CE</td>\n",
       "      <td>6.786639</td>\n",
       "      <td>5.671105</td>\n",
       "      <td>0.147348</td>\n",
       "    </tr>\n",
       "    <tr>\n",
       "      <th>171</th>\n",
       "      <td>B1276</td>\n",
       "      <td>BG</td>\n",
       "      <td>10.113181</td>\n",
       "      <td>3.552926</td>\n",
       "      <td>0.098881</td>\n",
       "    </tr>\n",
       "    <tr>\n",
       "      <th>172</th>\n",
       "      <td>B1276</td>\n",
       "      <td>CF</td>\n",
       "      <td>14.358846</td>\n",
       "      <td>5.205987</td>\n",
       "      <td>0.069643</td>\n",
       "    </tr>\n",
       "    <tr>\n",
       "      <th>173</th>\n",
       "      <td>B1276</td>\n",
       "      <td>CG</td>\n",
       "      <td>10.584441</td>\n",
       "      <td>7.356893</td>\n",
       "      <td>0.094478</td>\n",
       "    </tr>\n",
       "    <tr>\n",
       "      <th>174</th>\n",
       "      <td>B1276</td>\n",
       "      <td>AG</td>\n",
       "      <td>11.855579</td>\n",
       "      <td>5.350556</td>\n",
       "      <td>0.084348</td>\n",
       "    </tr>\n",
       "  </tbody>\n",
       "</table>\n",
       "<p>175 rows × 5 columns</p>\n",
       "</div>"
      ],
      "text/plain": [
       "      bird interp      slope  inflection_shift  inverse_slope\n",
       "0    B1174     AE  14.918588          1.848872       0.067030\n",
       "1    B1174     BF  18.848140          1.277027       0.053056\n",
       "2    B1174     AF   6.992853          5.114388       0.143003\n",
       "3    B1174     BE   2.702706          7.974421       0.370000\n",
       "4    B1174     CE   7.876655          4.689915       0.126957\n",
       "..     ...    ...        ...               ...            ...\n",
       "170  B1276     CE   6.786639          5.671105       0.147348\n",
       "171  B1276     BG  10.113181          3.552926       0.098881\n",
       "172  B1276     CF  14.358846          5.205987       0.069643\n",
       "173  B1276     CG  10.584441          7.356893       0.094478\n",
       "174  B1276     AG  11.855579          5.350556       0.084348\n",
       "\n",
       "[175 rows x 5 columns]"
      ]
     },
     "execution_count": 56,
     "metadata": {},
     "output_type": "execute_result"
    }
   ],
   "source": [
    "df"
   ]
  },
  {
   "cell_type": "code",
   "execution_count": 58,
   "id": "8237a7c4",
   "metadata": {},
   "outputs": [],
   "source": [
    "# Mixed Linear Model\n",
    "model = smf.mixedlm(\"inflection_shift ~ inverse_slope\", df, groups=df[\"bird\"])\n",
    "result = model.fit()"
   ]
  },
  {
   "cell_type": "code",
   "execution_count": 59,
   "id": "1d950626",
   "metadata": {},
   "outputs": [
    {
     "data": {
      "text/html": [
       "<table class=\"simpletable\">\n",
       "<tr>\n",
       "       <td>Model:</td>       <td>MixedLM</td> <td>Dependent Variable:</td> <td>inflection_shift</td>\n",
       "</tr>\n",
       "<tr>\n",
       "  <td>No. Observations:</td>   <td>175</td>         <td>Method:</td>             <td>REML</td>      \n",
       "</tr>\n",
       "<tr>\n",
       "     <td>No. Groups:</td>      <td>20</td>          <td>Scale:</td>             <td>13.5570</td>    \n",
       "</tr>\n",
       "<tr>\n",
       "  <td>Min. group size:</td>     <td>4</td>      <td>Log-Likelihood:</td>       <td>-488.9616</td>   \n",
       "</tr>\n",
       "<tr>\n",
       "  <td>Max. group size:</td>     <td>9</td>        <td>Converged:</td>             <td>Yes</td>      \n",
       "</tr>\n",
       "<tr>\n",
       "  <td>Mean group size:</td>    <td>8.8</td>            <td></td>                   <td></td>        \n",
       "</tr>\n",
       "</table>\n",
       "<table class=\"simpletable\">\n",
       "<tr>\n",
       "        <td></td>         <th>Coef.</th> <th>Std.Err.</th>    <th>z</th>   <th>P>|z|</th> <th>[0.025</th> <th>0.975]</th>\n",
       "</tr>\n",
       "<tr>\n",
       "  <th>Intercept</th>      <td>0.144</td>   <td>0.789</td>   <td>0.183</td> <td>0.855</td> <td>-1.403</td>  <td>1.692</td>\n",
       "</tr>\n",
       "<tr>\n",
       "  <th>inverse_slope</th> <td>59.009</td>   <td>4.119</td>  <td>14.326</td> <td>0.000</td> <td>50.936</td> <td>67.083</td>\n",
       "</tr>\n",
       "<tr>\n",
       "  <th>Group Var</th>      <td>6.442</td>   <td>0.783</td>     <td></td>      <td></td>       <td></td>       <td></td>   \n",
       "</tr>\n",
       "</table>"
      ],
      "text/plain": [
       "<class 'statsmodels.iolib.summary2.Summary'>\n",
       "\"\"\"\n",
       "            Mixed Linear Model Regression Results\n",
       "==============================================================\n",
       "Model:            MixedLM Dependent Variable: inflection_shift\n",
       "No. Observations: 175     Method:             REML            \n",
       "No. Groups:       20      Scale:              13.5570         \n",
       "Min. group size:  4       Log-Likelihood:     -488.9616       \n",
       "Max. group size:  9       Converged:          Yes             \n",
       "Mean group size:  8.8                                         \n",
       "---------------------------------------------------------------\n",
       "                Coef.   Std.Err.    z     P>|z|  [0.025  0.975]\n",
       "---------------------------------------------------------------\n",
       "Intercept        0.144     0.789   0.183  0.855  -1.403   1.692\n",
       "inverse_slope   59.009     4.119  14.326  0.000  50.936  67.083\n",
       "Group Var        6.442     0.783                               \n",
       "==============================================================\n",
       "\n",
       "\"\"\""
      ]
     },
     "execution_count": 59,
     "metadata": {},
     "output_type": "execute_result"
    }
   ],
   "source": [
    "# Summary of the model\n",
    "result.summary()"
   ]
  },
  {
   "cell_type": "code",
   "execution_count": null,
   "id": "5b3789bf",
   "metadata": {},
   "outputs": [],
   "source": []
  }
 ],
 "metadata": {
  "kernelspec": {
   "display_name": "cdcp_paper",
   "language": "python",
   "name": "cdcp_paper"
  },
  "language_info": {
   "codemirror_mode": {
    "name": "ipython",
    "version": 3
   },
   "file_extension": ".py",
   "mimetype": "text/x-python",
   "name": "python",
   "nbconvert_exporter": "python",
   "pygments_lexer": "ipython3",
   "version": "3.9.16"
  }
 },
 "nbformat": 4,
 "nbformat_minor": 5
}
