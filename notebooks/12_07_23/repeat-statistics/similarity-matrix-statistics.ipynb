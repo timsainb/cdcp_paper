{
 "cells": [
  {
   "cell_type": "code",
   "execution_count": 1,
   "id": "5012f202",
   "metadata": {
    "ExecuteTime": {
     "end_time": "2022-01-24T17:47:20.910367Z",
     "start_time": "2022-01-24T17:47:20.894460Z"
    }
   },
   "outputs": [],
   "source": [
    "%load_ext autoreload\n",
    "%autoreload 2"
   ]
  },
  {
   "cell_type": "code",
   "execution_count": 2,
   "id": "e1617ce5",
   "metadata": {
    "ExecuteTime": {
     "end_time": "2022-01-24T17:47:20.921600Z",
     "start_time": "2022-01-24T17:47:20.912579Z"
    }
   },
   "outputs": [],
   "source": [
    "import os\n",
    "# set to be lower priority\n",
    "#os.nice(1)"
   ]
  },
  {
   "cell_type": "code",
   "execution_count": 3,
   "id": "cea0ee5d",
   "metadata": {
    "ExecuteTime": {
     "end_time": "2022-01-24T17:47:20.934611Z",
     "start_time": "2022-01-24T17:47:20.923683Z"
    }
   },
   "outputs": [],
   "source": [
    "interpolations = [\n",
    "        \"AE\",\n",
    "        \"AF\",\n",
    "        \"AG\",\n",
    "        \"AH\",\n",
    "        \"BE\",\n",
    "        \"BF\",\n",
    "        \"BG\",\n",
    "        \"BH\",\n",
    "        \"CE\",\n",
    "        \"CF\",\n",
    "        \"CG\",\n",
    "        \"CH\",\n",
    "        \"DE\",\n",
    "        \"DF\",\n",
    "        \"DG\",\n",
    "        \"DH\",\n",
    "    ]"
   ]
  },
  {
   "cell_type": "code",
   "execution_count": 4,
   "id": "bb7f1c08",
   "metadata": {
    "ExecuteTime": {
     "end_time": "2022-01-24T17:47:21.451644Z",
     "start_time": "2022-01-24T17:47:20.936428Z"
    }
   },
   "outputs": [
    {
     "name": "stderr",
     "output_type": "stream",
     "text": [
      "/n/groups/datta/tim_sainburg/projects/CDCP_paper/cdcp/general.py:6: TqdmExperimentalWarning: Using `tqdm.autonotebook.tqdm` in notebook mode. Use `tqdm.tqdm` instead to force console mode (e.g. in jupyter console)\n",
      "  from tqdm.autonotebook import tqdm\n"
     ]
    }
   ],
   "source": [
    "from cdcp.paths import DATA_PATH_MAGPI, FIGURE_DIR, ensure_dir\n",
    "from cdcp.general import save_fig"
   ]
  },
  {
   "cell_type": "code",
   "execution_count": 5,
   "id": "db03ed5e",
   "metadata": {
    "ExecuteTime": {
     "end_time": "2022-01-24T17:47:22.429381Z",
     "start_time": "2022-01-24T17:47:21.453447Z"
    }
   },
   "outputs": [],
   "source": [
    "import pandas  as pd\n",
    "from cdcp.paths import DATA_DIR, ensure_dir\n",
    "import numpy as np\n",
    "import matplotlib.pyplot as plt\n",
    "import datetime\n",
    "from pathlib2 import Path\n",
    "from tqdm.autonotebook import tqdm\n",
    "pd.set_option('display.max_columns', 500)\n",
    "from joblib import Parallel, delayed\n",
    "from datetime import datetime\n",
    "from joblib import Parallel, delayed\n",
    "from functools import reduce\n",
    "from sklearn.decomposition import PCA\n",
    "from functools import reduce\n"
   ]
  },
  {
   "cell_type": "code",
   "execution_count": 6,
   "id": "8102b0c6",
   "metadata": {
    "ExecuteTime": {
     "end_time": "2022-01-24T17:47:22.615518Z",
     "start_time": "2022-01-24T17:47:22.432590Z"
    }
   },
   "outputs": [],
   "source": [
    "import seaborn as sns\n",
    "from cdcp.behavior.psychometric import FourParameterLogistic, fit_FourParameterLogistic\n",
    "import scipy.stats\n",
    "from cdcp.spiketrain_analysis.neurometric import (\n",
    "    get_interp_points_dists_from_similarity_matrix,\n",
    ")"
   ]
  },
  {
   "cell_type": "code",
   "execution_count": 7,
   "id": "0f16db66",
   "metadata": {
    "ExecuteTime": {
     "end_time": "2022-01-24T17:47:22.643772Z",
     "start_time": "2022-01-24T17:47:22.618956Z"
    }
   },
   "outputs": [],
   "source": [
    "%matplotlib inline"
   ]
  },
  {
   "cell_type": "code",
   "execution_count": 8,
   "id": "2ce3bb69",
   "metadata": {
    "ExecuteTime": {
     "end_time": "2022-01-24T17:47:22.669238Z",
     "start_time": "2022-01-24T17:47:22.645544Z"
    }
   },
   "outputs": [
    {
     "data": {
      "text/plain": [
       "'2021-10-23_23-02-31_846685'"
      ]
     },
     "execution_count": 8,
     "metadata": {},
     "output_type": "execute_result"
    }
   ],
   "source": [
    "# \"2021-10-07_16-05-58_796914\" '2021-10-06_13-30-08_899062' '2021-10-01_17-02-56_744915' \n",
    "statistics_timestamp = '2021-10-23_23-02-31_846685'# datetime.now().strftime(\"%Y-%m-%d_%H-%M-%S_%f\")#\n",
    "statistics_timestamp"
   ]
  },
  {
   "cell_type": "code",
   "execution_count": 9,
   "id": "79297042",
   "metadata": {
    "ExecuteTime": {
     "end_time": "2022-01-24T17:47:22.695062Z",
     "start_time": "2022-01-24T17:47:22.670957Z"
    }
   },
   "outputs": [],
   "source": [
    "birds = [\n",
    "    ('B1597', '2021-05-14_12-40-20_423998', 'kilosort2_5'),\n",
    "    ('B1188', '2021-05-31_18-52-29_558216', 'kilosort2_5'),\n",
    "    ('B1595', '2021-07-10_16-42-47_090257', 'kilosort2'),\n",
    "    ('B1276', '2021-07-14_11-14-02_257025', 'kilosort2'),\n",
    "    ('B1426', '2021-07-14_11-29-39_657273', 'kilosort2'),\n",
    "    ('B1432', '2021-06-01_15-14-38_561892', 'kilosort2_5'),\n",
    "    ('B1170', '2021-06-01_21-01-26_519005', 'kilosort2_5'),\n",
    "    ('B1244', '2021-07-14_12-57-45_546674', 'kilosort2'),\n",
    "    ('B1593', '2021-06-28_18-13-24_826008', 'kilosort2_5'),\n",
    "    ('B1248', '2021-07-03_18-08-01_063431', 'kilosort2_5'),\n",
    "    # acute\n",
    "    #('B1279', '2021-04-12_16-27-07_289527', 'kilosort2_5'),\n",
    "    #('B1500', '2021-08-27_09-24-48_680961', 'kilosort2_5'),\n",
    "    #('B1239', '2021-05-17_22-18-51_557635', 'kilosort2'),\n",
    "    #('B1459', '2021-08-26_21-21-12_755614', 'kilosort2_5'),\n",
    "]\n",
    "birds_df = pd.DataFrame(birds, columns = ['bird', 'timestamp', 'sorter']).set_index('bird')"
   ]
  },
  {
   "cell_type": "code",
   "execution_count": 10,
   "id": "1e02a712",
   "metadata": {
    "ExecuteTime": {
     "end_time": "2022-01-24T17:47:22.716245Z",
     "start_time": "2022-01-24T17:47:22.696777Z"
    }
   },
   "outputs": [],
   "source": [
    "identifiers = ['spike_count', 'unit_location']# , "
   ]
  },
  {
   "cell_type": "code",
   "execution_count": 11,
   "id": "df2403c0",
   "metadata": {
    "ExecuteTime": {
     "end_time": "2022-01-24T17:47:22.740840Z",
     "start_time": "2022-01-24T17:47:22.717959Z"
    }
   },
   "outputs": [],
   "source": [
    "n_interp_bins = 16"
   ]
  },
  {
   "cell_type": "code",
   "execution_count": 12,
   "id": "b676f50c",
   "metadata": {
    "ExecuteTime": {
     "end_time": "2022-01-24T17:47:23.231154Z",
     "start_time": "2022-01-24T17:47:22.742628Z"
    }
   },
   "outputs": [
    {
     "data": {
      "application/vnd.jupyter.widget-view+json": {
       "model_id": "d65a9e32a6164a0d9369e09ae5c70fca",
       "version_major": 2,
       "version_minor": 0
      },
      "text/plain": [
       "birds:   0%|          | 0/10 [00:00<?, ?it/s]"
      ]
     },
     "metadata": {},
     "output_type": "display_data"
    },
    {
     "name": "stdout",
     "output_type": "stream",
     "text": [
      "B1597 nrows per [6750, 8711]\n",
      "B1188 nrows per [510, 821]\n",
      "B1595 nrows per [242, 325]\n",
      "B1276 nrows per [46, 57]\n",
      "B1426 nrows per [93, 180]\n",
      "B1432 nrows per [2157, 2364]\n",
      "B1170 nrows per [1281, 1693]\n",
      "B1244 nrows per [141, 150]\n",
      "B1593 nrows per [7714, 13260]\n",
      "B1248 nrows per [8698, 13184]\n"
     ]
    }
   ],
   "source": [
    "all_unit_statistics_df= []\n",
    "for bird, timestamp, sorter in tqdm(birds, desc='birds'):\n",
    "    \n",
    "    unit_statistics_df_list = []\n",
    "    for identifier in identifiers:\n",
    "\n",
    "        unit_statistics_df = pd.read_pickle(\n",
    "            DATA_DIR\n",
    "            / \"unit_statistics\"\n",
    "            / statistics_timestamp\n",
    "            / identifier\n",
    "            / \"{}.pickle\".format(bird)\n",
    "        )\n",
    "        unit_statistics_df_list.append(unit_statistics_df)\n",
    "        \n",
    "    print(bird, 'nrows per', [len(i) for i in unit_statistics_df_list])\n",
    "    \n",
    "    # combine dfs\n",
    "    unit_statistics_df = reduce(lambda x, y: pd.merge(x, y, on = 'unit', how='outer'), unit_statistics_df_list)\n",
    "    unit_statistics_df['bird'] = bird\n",
    "    \n",
    "    all_unit_statistics_df.append(unit_statistics_df)\n",
    "    \n",
    "unit_statistics_df = pd.concat(all_unit_statistics_df)"
   ]
  },
  {
   "cell_type": "code",
   "execution_count": 13,
   "id": "3c70260d",
   "metadata": {
    "ExecuteTime": {
     "end_time": "2022-01-24T17:47:23.449809Z",
     "start_time": "2022-01-24T17:47:23.233140Z"
    }
   },
   "outputs": [
    {
     "name": "stdout",
     "output_type": "stream",
     "text": [
      "6754\n",
      "6754\n"
     ]
    }
   ],
   "source": [
    "# merge with categorical units\n",
    "categorical_units_df = pd.read_pickle(DATA_DIR / 'categorical_unit_01_23_22.pickle')\n",
    "categorical_units_df= categorical_units_df[categorical_units_df.categorical_unit == True]\n",
    "unit_statistics_df_cat = pd.merge(unit_statistics_df, categorical_units_df, on = ['bird', 'unit'])\n",
    "# subset categorical units\n",
    "#unit_statistics_df_cat = unit_statistics_df_cat[unit_statistics_df_cat.categorical_unit == True]\n",
    "unit_statistics_df = unit_statistics_df_cat\n",
    "print(len(unit_statistics_df))\n",
    "\n",
    "### merge with unit types\n",
    "unit_type_df = pd.read_pickle(DATA_DIR / \"unit_classes_01_23_22.pickle\")\n",
    "#unit_type_df = unit_type_df[[\"nuclei\",\"AP\",\"ML\",\"DV\",\"amplitude\",\"template_amplitude\",\"sr\",\"fw\",\"hw\",\"bird\",\"unit\"]]\n",
    "unit_statistics_df_ut = pd.merge(unit_statistics_df, unit_type_df, on = ['bird', 'unit'])\n",
    "unit_statistics_df = unit_statistics_df_ut\n",
    "print(len(unit_statistics_df))"
   ]
  },
  {
   "cell_type": "code",
   "execution_count": 14,
   "id": "f25f440a",
   "metadata": {
    "ExecuteTime": {
     "end_time": "2022-01-24T17:47:23.510362Z",
     "start_time": "2022-01-24T17:47:23.451756Z"
    }
   },
   "outputs": [
    {
     "data": {
      "text/html": [
       "<div>\n",
       "<style scoped>\n",
       "    .dataframe tbody tr th:only-of-type {\n",
       "        vertical-align: middle;\n",
       "    }\n",
       "\n",
       "    .dataframe tbody tr th {\n",
       "        vertical-align: top;\n",
       "    }\n",
       "\n",
       "    .dataframe thead th {\n",
       "        text-align: right;\n",
       "    }\n",
       "</style>\n",
       "<table border=\"1\" class=\"dataframe\">\n",
       "  <thead>\n",
       "    <tr style=\"text-align: right;\">\n",
       "      <th></th>\n",
       "      <th>n_trials</th>\n",
       "      <th>n_cued_trials</th>\n",
       "      <th>n_incorrect_trials</th>\n",
       "      <th>n_correct_trials</th>\n",
       "      <th>n_reward_trials</th>\n",
       "      <th>n_passive_trials</th>\n",
       "      <th>n_active_trials</th>\n",
       "      <th>n_spikes</th>\n",
       "      <th>unit</th>\n",
       "      <th>hemisphere</th>\n",
       "      <th>labeled_region</th>\n",
       "      <th>estimated_nuclei</th>\n",
       "      <th>distance_to_estimated_nuclei</th>\n",
       "      <th>ML</th>\n",
       "      <th>AP</th>\n",
       "      <th>DV</th>\n",
       "      <th>bird</th>\n",
       "      <th>categorical_unit</th>\n",
       "      <th>categoricality</th>\n",
       "      <th>fw</th>\n",
       "      <th>sr</th>\n",
       "      <th>unit_type</th>\n",
       "      <th>best_chan_templates</th>\n",
       "      <th>best_chan_templates_norm</th>\n",
       "      <th>amplitude</th>\n",
       "    </tr>\n",
       "  </thead>\n",
       "  <tbody>\n",
       "    <tr>\n",
       "      <th>0</th>\n",
       "      <td>7040</td>\n",
       "      <td>1178</td>\n",
       "      <td>258</td>\n",
       "      <td>1090</td>\n",
       "      <td>403</td>\n",
       "      <td>5597</td>\n",
       "      <td>1443</td>\n",
       "      <td>211131</td>\n",
       "      <td>6270</td>\n",
       "      <td>NaN</td>\n",
       "      <td>NaN</td>\n",
       "      <td>NCL</td>\n",
       "      <td>415.88</td>\n",
       "      <td>2917.25</td>\n",
       "      <td>2420.0</td>\n",
       "      <td>-722.499502</td>\n",
       "      <td>B1597</td>\n",
       "      <td>True</td>\n",
       "      <td>0.420068</td>\n",
       "      <td>70.0</td>\n",
       "      <td>19.505140</td>\n",
       "      <td>1</td>\n",
       "      <td>[29.0, 28.94094094094094, 28.88188188188188, 2...</td>\n",
       "      <td>[0.04162189031853942, 0.04153712653652313, 0.0...</td>\n",
       "      <td>-515.25</td>\n",
       "    </tr>\n",
       "    <tr>\n",
       "      <th>1</th>\n",
       "      <td>6206</td>\n",
       "      <td>1</td>\n",
       "      <td>0</td>\n",
       "      <td>0</td>\n",
       "      <td>0</td>\n",
       "      <td>6205</td>\n",
       "      <td>1</td>\n",
       "      <td>44958</td>\n",
       "      <td>935</td>\n",
       "      <td>NaN</td>\n",
       "      <td>NaN</td>\n",
       "      <td>Field_L</td>\n",
       "      <td>503.611</td>\n",
       "      <td>2344.25</td>\n",
       "      <td>2420.0</td>\n",
       "      <td>-822.499502</td>\n",
       "      <td>B1597</td>\n",
       "      <td>True</td>\n",
       "      <td>0.265302</td>\n",
       "      <td>86.0</td>\n",
       "      <td>7.202434</td>\n",
       "      <td>0</td>\n",
       "      <td>[29.5, 29.47047047047047, 29.44094094094094, 2...</td>\n",
       "      <td>[0.07603293844777533, 0.07595682940028006, 0.0...</td>\n",
       "      <td>-294.00</td>\n",
       "    </tr>\n",
       "    <tr>\n",
       "      <th>2</th>\n",
       "      <td>12810</td>\n",
       "      <td>1967</td>\n",
       "      <td>232</td>\n",
       "      <td>1925</td>\n",
       "      <td>521</td>\n",
       "      <td>10367</td>\n",
       "      <td>2443</td>\n",
       "      <td>218822</td>\n",
       "      <td>10839</td>\n",
       "      <td>NaN</td>\n",
       "      <td>NaN</td>\n",
       "      <td>CMM</td>\n",
       "      <td>250.448</td>\n",
       "      <td>1764.25</td>\n",
       "      <td>2420.0</td>\n",
       "      <td>-742.499502</td>\n",
       "      <td>B1597</td>\n",
       "      <td>True</td>\n",
       "      <td>0.296694</td>\n",
       "      <td>120.0</td>\n",
       "      <td>13.687375</td>\n",
       "      <td>0</td>\n",
       "      <td>[42.75, 42.779529529529526, 42.80905905905906,...</td>\n",
       "      <td>[0.1011863087601332, 0.10125620312487042, 0.10...</td>\n",
       "      <td>-314.00</td>\n",
       "    </tr>\n",
       "  </tbody>\n",
       "</table>\n",
       "</div>"
      ],
      "text/plain": [
       "  n_trials n_cued_trials n_incorrect_trials n_correct_trials n_reward_trials  \\\n",
       "0     7040          1178                258             1090             403   \n",
       "1     6206             1                  0                0               0   \n",
       "2    12810          1967                232             1925             521   \n",
       "\n",
       "  n_passive_trials n_active_trials n_spikes   unit hemisphere labeled_region  \\\n",
       "0             5597            1443   211131   6270        NaN            NaN   \n",
       "1             6205               1    44958    935        NaN            NaN   \n",
       "2            10367            2443   218822  10839        NaN            NaN   \n",
       "\n",
       "  estimated_nuclei distance_to_estimated_nuclei       ML      AP          DV  \\\n",
       "0              NCL                       415.88  2917.25  2420.0 -722.499502   \n",
       "1          Field_L                      503.611  2344.25  2420.0 -822.499502   \n",
       "2              CMM                      250.448  1764.25  2420.0 -742.499502   \n",
       "\n",
       "    bird  categorical_unit  categoricality     fw         sr  unit_type  \\\n",
       "0  B1597              True        0.420068   70.0  19.505140          1   \n",
       "1  B1597              True        0.265302   86.0   7.202434          0   \n",
       "2  B1597              True        0.296694  120.0  13.687375          0   \n",
       "\n",
       "                                 best_chan_templates  \\\n",
       "0  [29.0, 28.94094094094094, 28.88188188188188, 2...   \n",
       "1  [29.5, 29.47047047047047, 29.44094094094094, 2...   \n",
       "2  [42.75, 42.779529529529526, 42.80905905905906,...   \n",
       "\n",
       "                            best_chan_templates_norm  amplitude  \n",
       "0  [0.04162189031853942, 0.04153712653652313, 0.0...    -515.25  \n",
       "1  [0.07603293844777533, 0.07595682940028006, 0.0...    -294.00  \n",
       "2  [0.1011863087601332, 0.10125620312487042, 0.10...    -314.00  "
      ]
     },
     "execution_count": 14,
     "metadata": {},
     "output_type": "execute_result"
    }
   ],
   "source": [
    "unit_statistics_df[:3]"
   ]
  },
  {
   "cell_type": "markdown",
   "id": "36d4c99b",
   "metadata": {},
   "source": [
    "### get sm_differences"
   ]
  },
  {
   "cell_type": "code",
   "execution_count": 15,
   "id": "e159e1a2",
   "metadata": {
    "ExecuteTime": {
     "end_time": "2022-01-24T17:48:19.363415Z",
     "start_time": "2022-01-24T17:47:23.512110Z"
    }
   },
   "outputs": [
    {
     "data": {
      "application/vnd.jupyter.widget-view+json": {
       "model_id": "ce7e6aec81b343388b79701cf4765ce0",
       "version_major": 2,
       "version_minor": 0
      },
      "text/plain": [
       "birds:   0%|          | 0/10 [00:00<?, ?it/s]"
      ]
     },
     "metadata": {},
     "output_type": "display_data"
    }
   ],
   "source": [
    "metric = \"cosine\"\n",
    "shuffled=False\n",
    "identifier = 'sm_each_cue'\n",
    "stat_dfs = []\n",
    "for bird, timestamp, sorter in tqdm(birds, desc='birds'):\n",
    "    stat_df = pd.read_pickle(\n",
    "        DATA_DIR\n",
    "        / \"unit_statistics\"\n",
    "        / statistics_timestamp\n",
    "        / (identifier + \"_{}_{}\".format(metric, shuffled))\n",
    "        / \"{}.pickle\".format(bird, metric, shuffled)\n",
    "    )\n",
    "    stat_df['bird'] = bird\n",
    "    stat_dfs.append(stat_df)\n",
    "    \n",
    "stat_df = pd.concat(stat_dfs)"
   ]
  },
  {
   "cell_type": "code",
   "execution_count": 16,
   "id": "9ec27791",
   "metadata": {
    "ExecuteTime": {
     "end_time": "2022-01-24T17:48:19.614313Z",
     "start_time": "2022-01-24T17:48:19.365771Z"
    }
   },
   "outputs": [],
   "source": [
    "# only include categorical units\n",
    "stat_df = stat_df.merge(\n",
    "    unit_statistics_df[[\"bird\", \"unit\", \"unit_type\", \"estimated_nuclei\"]],\n",
    "    on=[\"bird\", \"unit\"],\n",
    ")"
   ]
  },
  {
   "cell_type": "code",
   "execution_count": 17,
   "id": "4027f127",
   "metadata": {},
   "outputs": [],
   "source": [
    "stat_df_by_cue = stat_df[['bird','unit', 'cue', 'sm', 'interp']].set_index(['bird','unit', 'interp', \"cue\"])['sm'].unstack()"
   ]
  },
  {
   "cell_type": "code",
   "execution_count": 18,
   "id": "aa96792b",
   "metadata": {},
   "outputs": [
    {
     "data": {
      "text/html": [
       "<div>\n",
       "<style scoped>\n",
       "    .dataframe tbody tr th:only-of-type {\n",
       "        vertical-align: middle;\n",
       "    }\n",
       "\n",
       "    .dataframe tbody tr th {\n",
       "        vertical-align: top;\n",
       "    }\n",
       "\n",
       "    .dataframe thead th {\n",
       "        text-align: right;\n",
       "    }\n",
       "</style>\n",
       "<table border=\"1\" class=\"dataframe\">\n",
       "  <thead>\n",
       "    <tr style=\"text-align: right;\">\n",
       "      <th></th>\n",
       "      <th></th>\n",
       "      <th>cue</th>\n",
       "      <th>CL</th>\n",
       "      <th>CL0</th>\n",
       "      <th>CL1</th>\n",
       "      <th>CN</th>\n",
       "      <th>CR</th>\n",
       "      <th>CR0</th>\n",
       "      <th>CR1</th>\n",
       "      <th>NC</th>\n",
       "    </tr>\n",
       "    <tr>\n",
       "      <th>bird</th>\n",
       "      <th>unit</th>\n",
       "      <th>interp</th>\n",
       "      <th></th>\n",
       "      <th></th>\n",
       "      <th></th>\n",
       "      <th></th>\n",
       "      <th></th>\n",
       "      <th></th>\n",
       "      <th></th>\n",
       "      <th></th>\n",
       "    </tr>\n",
       "  </thead>\n",
       "  <tbody>\n",
       "    <tr>\n",
       "      <th rowspan=\"3\" valign=\"top\">B1170</th>\n",
       "      <th>1002</th>\n",
       "      <th>AE</th>\n",
       "      <td>[[0.11488749307561258, 0.1251434973360783, 0.1...</td>\n",
       "      <td>[[0.11442067689587776, 0.13318712459387483, 0....</td>\n",
       "      <td>[[0.11895915406125047, 0.1164679208363863, 0.1...</td>\n",
       "      <td>[[0.07779934365718641, 0.1201674569469407, nan...</td>\n",
       "      <td>[[0.14728160810515842, 0.13291420077129618, 0....</td>\n",
       "      <td>[[0.16048979233778662, 0.16775167211948955, 0....</td>\n",
       "      <td>[[0.12675061355872022, 0.0398126685292455, 2.8...</td>\n",
       "      <td>[[0.0858863968276733, 0.08629990792105367, 0.0...</td>\n",
       "    </tr>\n",
       "    <tr>\n",
       "      <th>1027</th>\n",
       "      <th>AE</th>\n",
       "      <td>[[0.04746452663947074, 0.03745566365871532, 0....</td>\n",
       "      <td>[[0.03692981581595229, 0.03862733140388749, 0....</td>\n",
       "      <td>[[0.05676230116152044, 0.03657217434942476, 0....</td>\n",
       "      <td>[[0.04392579036840735, 0.024709889037166713, 0...</td>\n",
       "      <td>[[0.06205046227039378, 0.05381502848110543, 0....</td>\n",
       "      <td>[[0.06113532208260515, 0.04815370705543371, 0....</td>\n",
       "      <td>[[0.06126981138742152, 0.0610956787301662, 0.0...</td>\n",
       "      <td>[[0.06828327441774482, 0.05797462639410615, 0....</td>\n",
       "    </tr>\n",
       "    <tr>\n",
       "      <th>1037</th>\n",
       "      <th>AE</th>\n",
       "      <td>[[0.36525143940673077, 0.38990481152974005, 0....</td>\n",
       "      <td>[[0.3579198841935357, 0.3881325281463855, 0.38...</td>\n",
       "      <td>[[0.3613829896059862, 0.3837935767646858, 0.36...</td>\n",
       "      <td>[[0.4521886636309882, 0.28098742995398573, nan...</td>\n",
       "      <td>[[0.4411148455248399, 0.3993544407439167, 0.38...</td>\n",
       "      <td>[[0.4200897744510022, 0.41192072306986105, 0.3...</td>\n",
       "      <td>[[0.5084697453610892, 0.43824717846495537, 0.3...</td>\n",
       "      <td>[[0.4455007301654843, 0.39522492316429386, 0.4...</td>\n",
       "    </tr>\n",
       "  </tbody>\n",
       "</table>\n",
       "</div>"
      ],
      "text/plain": [
       "cue                                                               CL  \\\n",
       "bird  unit interp                                                      \n",
       "B1170 1002 AE      [[0.11488749307561258, 0.1251434973360783, 0.1...   \n",
       "      1027 AE      [[0.04746452663947074, 0.03745566365871532, 0....   \n",
       "      1037 AE      [[0.36525143940673077, 0.38990481152974005, 0....   \n",
       "\n",
       "cue                                                              CL0  \\\n",
       "bird  unit interp                                                      \n",
       "B1170 1002 AE      [[0.11442067689587776, 0.13318712459387483, 0....   \n",
       "      1027 AE      [[0.03692981581595229, 0.03862733140388749, 0....   \n",
       "      1037 AE      [[0.3579198841935357, 0.3881325281463855, 0.38...   \n",
       "\n",
       "cue                                                              CL1  \\\n",
       "bird  unit interp                                                      \n",
       "B1170 1002 AE      [[0.11895915406125047, 0.1164679208363863, 0.1...   \n",
       "      1027 AE      [[0.05676230116152044, 0.03657217434942476, 0....   \n",
       "      1037 AE      [[0.3613829896059862, 0.3837935767646858, 0.36...   \n",
       "\n",
       "cue                                                               CN  \\\n",
       "bird  unit interp                                                      \n",
       "B1170 1002 AE      [[0.07779934365718641, 0.1201674569469407, nan...   \n",
       "      1027 AE      [[0.04392579036840735, 0.024709889037166713, 0...   \n",
       "      1037 AE      [[0.4521886636309882, 0.28098742995398573, nan...   \n",
       "\n",
       "cue                                                               CR  \\\n",
       "bird  unit interp                                                      \n",
       "B1170 1002 AE      [[0.14728160810515842, 0.13291420077129618, 0....   \n",
       "      1027 AE      [[0.06205046227039378, 0.05381502848110543, 0....   \n",
       "      1037 AE      [[0.4411148455248399, 0.3993544407439167, 0.38...   \n",
       "\n",
       "cue                                                              CR0  \\\n",
       "bird  unit interp                                                      \n",
       "B1170 1002 AE      [[0.16048979233778662, 0.16775167211948955, 0....   \n",
       "      1027 AE      [[0.06113532208260515, 0.04815370705543371, 0....   \n",
       "      1037 AE      [[0.4200897744510022, 0.41192072306986105, 0.3...   \n",
       "\n",
       "cue                                                              CR1  \\\n",
       "bird  unit interp                                                      \n",
       "B1170 1002 AE      [[0.12675061355872022, 0.0398126685292455, 2.8...   \n",
       "      1027 AE      [[0.06126981138742152, 0.0610956787301662, 0.0...   \n",
       "      1037 AE      [[0.5084697453610892, 0.43824717846495537, 0.3...   \n",
       "\n",
       "cue                                                               NC  \n",
       "bird  unit interp                                                     \n",
       "B1170 1002 AE      [[0.0858863968276733, 0.08629990792105367, 0.0...  \n",
       "      1027 AE      [[0.06828327441774482, 0.05797462639410615, 0....  \n",
       "      1037 AE      [[0.4455007301654843, 0.39522492316429386, 0.4...  "
      ]
     },
     "execution_count": 18,
     "metadata": {},
     "output_type": "execute_result"
    }
   ],
   "source": [
    "stat_df_by_cue[:3]"
   ]
  },
  {
   "cell_type": "code",
   "execution_count": 19,
   "id": "ab12ef98",
   "metadata": {},
   "outputs": [],
   "source": [
    "CL_sm = np.stack([i for i in stat_df_by_cue.CL.values if type(i) == np.ndarray])\n",
    "CR_sm = np.stack([i for i in stat_df_by_cue.CR.values if type(i) == np.ndarray])\n",
    "diff = np.nanmean(CL_sm - CR_sm, axis=0)"
   ]
  },
  {
   "cell_type": "code",
   "execution_count": 20,
   "id": "116feaa4",
   "metadata": {},
   "outputs": [],
   "source": [
    "import matplotlib.patches as patches\n",
    "from cdcp.visualization.colors import colors as cdcp_colors"
   ]
  },
  {
   "cell_type": "code",
   "execution_count": 21,
   "id": "f0f8fdc3",
   "metadata": {},
   "outputs": [
    {
     "data": {
      "image/png": "[encoded data removed]",
      "text/plain": [
       "<Figure size 500x400 with 2 Axes>"
      ]
     },
     "metadata": {},
     "output_type": "display_data"
    }
   ],
   "source": [
    "fig, ax = plt.subplots(figsize=(5,4))\n",
    "vmin = -0.015\n",
    "vmax = 0.015\n",
    "im = ax.matshow(diff, vmin = vmin, vmax = vmax, cmap = 'coolwarm', extent=[0,1,0,1])\n",
    "# Create a Rectangle patch\n",
    "rect = patches.Rectangle((0, 0.5), 0.5, 0.5, linewidth=5, edgecolor='orange', facecolor='none')\n",
    "rect2 = patches.Rectangle((0.5,0), 0.5, 0.5, linewidth=5, edgecolor=cdcp_colors['reinforce']['R']['dark'], facecolor='none')\n",
    "\n",
    "# Add the patch to the Axes\n",
    "ax.add_patch(rect)\n",
    "ax.add_patch(rect2)\n",
    "ax.axis('off')\n",
    "ax.set_xlim([-0.01,1.01])\n",
    "ax.set_ylim([-0.01,1.01])\n",
    "cbar = plt.colorbar(im)#, orientation='horizontal')\n",
    "cbar.ax.tick_params(labelsize=12)"
   ]
  },
  {
   "cell_type": "code",
   "execution_count": 22,
   "id": "275f8f4a",
   "metadata": {},
   "outputs": [
    {
     "data": {
      "text/html": [
       "<div>\n",
       "<style scoped>\n",
       "    .dataframe tbody tr th:only-of-type {\n",
       "        vertical-align: middle;\n",
       "    }\n",
       "\n",
       "    .dataframe tbody tr th {\n",
       "        vertical-align: top;\n",
       "    }\n",
       "\n",
       "    .dataframe thead th {\n",
       "        text-align: right;\n",
       "    }\n",
       "</style>\n",
       "<table border=\"1\" class=\"dataframe\">\n",
       "  <thead>\n",
       "    <tr style=\"text-align: right;\">\n",
       "      <th></th>\n",
       "      <th>interp</th>\n",
       "      <th>cue</th>\n",
       "      <th>metric</th>\n",
       "      <th>sm</th>\n",
       "      <th>sm_n</th>\n",
       "      <th>shuffled</th>\n",
       "      <th>unit</th>\n",
       "      <th>bird</th>\n",
       "      <th>unit_type</th>\n",
       "      <th>estimated_nuclei</th>\n",
       "    </tr>\n",
       "  </thead>\n",
       "  <tbody>\n",
       "    <tr>\n",
       "      <th>0</th>\n",
       "      <td>BF</td>\n",
       "      <td>CL</td>\n",
       "      <td>cosine</td>\n",
       "      <td>[[0.0, 0.040445842060636124, 0.120043715935517...</td>\n",
       "      <td>[[1.0, 16.0, 14.0, 20.0, 8.0, 22.0, 16.0, 36.0...</td>\n",
       "      <td>False</td>\n",
       "      <td>3735</td>\n",
       "      <td>B1597</td>\n",
       "      <td>0</td>\n",
       "      <td>CMM</td>\n",
       "    </tr>\n",
       "    <tr>\n",
       "      <th>1</th>\n",
       "      <td>BF</td>\n",
       "      <td>CR</td>\n",
       "      <td>cosine</td>\n",
       "      <td>[[0.0, 0.0, 0.5000000000000001, nan, nan, 0.0,...</td>\n",
       "      <td>[[1.0, 10.0, 2.0, 0.0, 0.0, 4.0, 6.0, 4.0, 26....</td>\n",
       "      <td>False</td>\n",
       "      <td>3735</td>\n",
       "      <td>B1597</td>\n",
       "      <td>0</td>\n",
       "      <td>CMM</td>\n",
       "    </tr>\n",
       "    <tr>\n",
       "      <th>2</th>\n",
       "      <td>BF</td>\n",
       "      <td>CR1</td>\n",
       "      <td>cosine</td>\n",
       "      <td>[[nan, 0.0, nan, nan, nan, nan, nan, nan, 0.0,...</td>\n",
       "      <td>[[0.0, 1.0, 0.0, 0.0, 0.0, 0.0, 0.0, 0.0, 11.0...</td>\n",
       "      <td>False</td>\n",
       "      <td>3735</td>\n",
       "      <td>B1597</td>\n",
       "      <td>0</td>\n",
       "      <td>CMM</td>\n",
       "    </tr>\n",
       "  </tbody>\n",
       "</table>\n",
       "</div>"
      ],
      "text/plain": [
       "  interp  cue  metric                                                 sm  \\\n",
       "0     BF   CL  cosine  [[0.0, 0.040445842060636124, 0.120043715935517...   \n",
       "1     BF   CR  cosine  [[0.0, 0.0, 0.5000000000000001, nan, nan, 0.0,...   \n",
       "2     BF  CR1  cosine  [[nan, 0.0, nan, nan, nan, nan, nan, nan, 0.0,...   \n",
       "\n",
       "                                                sm_n shuffled  unit   bird  \\\n",
       "0  [[1.0, 16.0, 14.0, 20.0, 8.0, 22.0, 16.0, 36.0...    False  3735  B1597   \n",
       "1  [[1.0, 10.0, 2.0, 0.0, 0.0, 4.0, 6.0, 4.0, 26....    False  3735  B1597   \n",
       "2  [[0.0, 1.0, 0.0, 0.0, 0.0, 0.0, 0.0, 0.0, 11.0...    False  3735  B1597   \n",
       "\n",
       "   unit_type estimated_nuclei  \n",
       "0          0              CMM  \n",
       "1          0              CMM  \n",
       "2          0              CMM  "
      ]
     },
     "execution_count": 22,
     "metadata": {},
     "output_type": "execute_result"
    }
   ],
   "source": [
    "stat_df[:3]"
   ]
  },
  {
   "cell_type": "markdown",
   "id": "0d1d4a81",
   "metadata": {},
   "source": [
    "### Test whether the similarity is greater for predicted or not predicted stimuli"
   ]
  },
  {
   "cell_type": "code",
   "execution_count": 23,
   "id": "17fa8735",
   "metadata": {},
   "outputs": [
    {
     "name": "stderr",
     "output_type": "stream",
     "text": [
      "/tmp/ipykernel_7884/1747566265.py:5: RuntimeWarning: Mean of empty slice\n",
      "  sm_diff_left = np.nanmean(sm_diff[:,:8, :8], axis=(1,2))\n",
      "/tmp/ipykernel_7884/1747566265.py:6: RuntimeWarning: Mean of empty slice\n",
      "  sm_diff_right = np.nanmean(sm_diff[:,8:, 8:], axis=(1,2))\n"
     ]
    }
   ],
   "source": [
    "stat_df_by_cue = stat_df[['bird','unit', 'cue', 'sm', 'interp']].set_index(['bird','unit', 'interp', \"cue\"])['sm'].unstack()\n",
    "CL_sm = np.stack([i for i in stat_df_by_cue.CL.values if type(i) == np.ndarray])\n",
    "CR_sm = np.stack([i for i in stat_df_by_cue.CR.values if type(i) == np.ndarray])\n",
    "sm_diff = CL_sm - CR_sm\n",
    "sm_diff_left = np.nanmean(sm_diff[:,:8, :8], axis=(1,2))\n",
    "sm_diff_right = np.nanmean(sm_diff[:,8:, 8:], axis=(1,2))"
   ]
  },
  {
   "cell_type": "code",
   "execution_count": 24,
   "id": "dff2bbd0",
   "metadata": {},
   "outputs": [
    {
     "data": {
      "text/html": [
       "<div>\n",
       "<style scoped>\n",
       "    .dataframe tbody tr th:only-of-type {\n",
       "        vertical-align: middle;\n",
       "    }\n",
       "\n",
       "    .dataframe tbody tr th {\n",
       "        vertical-align: top;\n",
       "    }\n",
       "\n",
       "    .dataframe thead th {\n",
       "        text-align: right;\n",
       "    }\n",
       "</style>\n",
       "<table border=\"1\" class=\"dataframe\">\n",
       "  <thead>\n",
       "    <tr style=\"text-align: right;\">\n",
       "      <th></th>\n",
       "      <th></th>\n",
       "      <th>cue</th>\n",
       "      <th>CL</th>\n",
       "      <th>CL0</th>\n",
       "      <th>CL1</th>\n",
       "      <th>CN</th>\n",
       "      <th>CR</th>\n",
       "      <th>CR0</th>\n",
       "      <th>CR1</th>\n",
       "      <th>NC</th>\n",
       "    </tr>\n",
       "    <tr>\n",
       "      <th>bird</th>\n",
       "      <th>unit</th>\n",
       "      <th>interp</th>\n",
       "      <th></th>\n",
       "      <th></th>\n",
       "      <th></th>\n",
       "      <th></th>\n",
       "      <th></th>\n",
       "      <th></th>\n",
       "      <th></th>\n",
       "      <th></th>\n",
       "    </tr>\n",
       "  </thead>\n",
       "  <tbody>\n",
       "    <tr>\n",
       "      <th rowspan=\"3\" valign=\"top\">B1170</th>\n",
       "      <th>1002</th>\n",
       "      <th>AE</th>\n",
       "      <td>[[0.11488749307561258, 0.1251434973360783, 0.1...</td>\n",
       "      <td>[[0.11442067689587776, 0.13318712459387483, 0....</td>\n",
       "      <td>[[0.11895915406125047, 0.1164679208363863, 0.1...</td>\n",
       "      <td>[[0.07779934365718641, 0.1201674569469407, nan...</td>\n",
       "      <td>[[0.14728160810515842, 0.13291420077129618, 0....</td>\n",
       "      <td>[[0.16048979233778662, 0.16775167211948955, 0....</td>\n",
       "      <td>[[0.12675061355872022, 0.0398126685292455, 2.8...</td>\n",
       "      <td>[[0.0858863968276733, 0.08629990792105367, 0.0...</td>\n",
       "    </tr>\n",
       "    <tr>\n",
       "      <th>1027</th>\n",
       "      <th>AE</th>\n",
       "      <td>[[0.04746452663947074, 0.03745566365871532, 0....</td>\n",
       "      <td>[[0.03692981581595229, 0.03862733140388749, 0....</td>\n",
       "      <td>[[0.05676230116152044, 0.03657217434942476, 0....</td>\n",
       "      <td>[[0.04392579036840735, 0.024709889037166713, 0...</td>\n",
       "      <td>[[0.06205046227039378, 0.05381502848110543, 0....</td>\n",
       "      <td>[[0.06113532208260515, 0.04815370705543371, 0....</td>\n",
       "      <td>[[0.06126981138742152, 0.0610956787301662, 0.0...</td>\n",
       "      <td>[[0.06828327441774482, 0.05797462639410615, 0....</td>\n",
       "    </tr>\n",
       "    <tr>\n",
       "      <th>1037</th>\n",
       "      <th>AE</th>\n",
       "      <td>[[0.36525143940673077, 0.38990481152974005, 0....</td>\n",
       "      <td>[[0.3579198841935357, 0.3881325281463855, 0.38...</td>\n",
       "      <td>[[0.3613829896059862, 0.3837935767646858, 0.36...</td>\n",
       "      <td>[[0.4521886636309882, 0.28098742995398573, nan...</td>\n",
       "      <td>[[0.4411148455248399, 0.3993544407439167, 0.38...</td>\n",
       "      <td>[[0.4200897744510022, 0.41192072306986105, 0.3...</td>\n",
       "      <td>[[0.5084697453610892, 0.43824717846495537, 0.3...</td>\n",
       "      <td>[[0.4455007301654843, 0.39522492316429386, 0.4...</td>\n",
       "    </tr>\n",
       "  </tbody>\n",
       "</table>\n",
       "</div>"
      ],
      "text/plain": [
       "cue                                                               CL  \\\n",
       "bird  unit interp                                                      \n",
       "B1170 1002 AE      [[0.11488749307561258, 0.1251434973360783, 0.1...   \n",
       "      1027 AE      [[0.04746452663947074, 0.03745566365871532, 0....   \n",
       "      1037 AE      [[0.36525143940673077, 0.38990481152974005, 0....   \n",
       "\n",
       "cue                                                              CL0  \\\n",
       "bird  unit interp                                                      \n",
       "B1170 1002 AE      [[0.11442067689587776, 0.13318712459387483, 0....   \n",
       "      1027 AE      [[0.03692981581595229, 0.03862733140388749, 0....   \n",
       "      1037 AE      [[0.3579198841935357, 0.3881325281463855, 0.38...   \n",
       "\n",
       "cue                                                              CL1  \\\n",
       "bird  unit interp                                                      \n",
       "B1170 1002 AE      [[0.11895915406125047, 0.1164679208363863, 0.1...   \n",
       "      1027 AE      [[0.05676230116152044, 0.03657217434942476, 0....   \n",
       "      1037 AE      [[0.3613829896059862, 0.3837935767646858, 0.36...   \n",
       "\n",
       "cue                                                               CN  \\\n",
       "bird  unit interp                                                      \n",
       "B1170 1002 AE      [[0.07779934365718641, 0.1201674569469407, nan...   \n",
       "      1027 AE      [[0.04392579036840735, 0.024709889037166713, 0...   \n",
       "      1037 AE      [[0.4521886636309882, 0.28098742995398573, nan...   \n",
       "\n",
       "cue                                                               CR  \\\n",
       "bird  unit interp                                                      \n",
       "B1170 1002 AE      [[0.14728160810515842, 0.13291420077129618, 0....   \n",
       "      1027 AE      [[0.06205046227039378, 0.05381502848110543, 0....   \n",
       "      1037 AE      [[0.4411148455248399, 0.3993544407439167, 0.38...   \n",
       "\n",
       "cue                                                              CR0  \\\n",
       "bird  unit interp                                                      \n",
       "B1170 1002 AE      [[0.16048979233778662, 0.16775167211948955, 0....   \n",
       "      1027 AE      [[0.06113532208260515, 0.04815370705543371, 0....   \n",
       "      1037 AE      [[0.4200897744510022, 0.41192072306986105, 0.3...   \n",
       "\n",
       "cue                                                              CR1  \\\n",
       "bird  unit interp                                                      \n",
       "B1170 1002 AE      [[0.12675061355872022, 0.0398126685292455, 2.8...   \n",
       "      1027 AE      [[0.06126981138742152, 0.0610956787301662, 0.0...   \n",
       "      1037 AE      [[0.5084697453610892, 0.43824717846495537, 0.3...   \n",
       "\n",
       "cue                                                               NC  \n",
       "bird  unit interp                                                     \n",
       "B1170 1002 AE      [[0.0858863968276733, 0.08629990792105367, 0.0...  \n",
       "      1027 AE      [[0.06828327441774482, 0.05797462639410615, 0....  \n",
       "      1037 AE      [[0.4455007301654843, 0.39522492316429386, 0.4...  "
      ]
     },
     "execution_count": 24,
     "metadata": {},
     "output_type": "execute_result"
    }
   ],
   "source": [
    "stat_df_by_cue[:3]"
   ]
  },
  {
   "cell_type": "code",
   "execution_count": 25,
   "id": "81b7fb6e",
   "metadata": {},
   "outputs": [],
   "source": [
    "sm_df = pd.DataFrame({\n",
    "    'subject': np.tile(np.array(stat_df_by_cue.index.get_level_values('bird')),2),\n",
    "    'unit': np.tile(np.array(stat_df_by_cue.index.get_level_values('unit')),2),\n",
    "    'sm_diff': np.concatenate([sm_diff_left, sm_diff_right]),\n",
    "    'side': np.concatenate([np.repeat('L', len(sm_diff_left)), np.repeat('R', len(sm_diff_right))])\n",
    "})\n",
    "sm_df = sm_df[sm_df.sm_diff.isnull() == False]"
   ]
  },
  {
   "cell_type": "code",
   "execution_count": 26,
   "id": "91081032",
   "metadata": {},
   "outputs": [
    {
     "data": {
      "text/html": [
       "<div>\n",
       "<style scoped>\n",
       "    .dataframe tbody tr th:only-of-type {\n",
       "        vertical-align: middle;\n",
       "    }\n",
       "\n",
       "    .dataframe tbody tr th {\n",
       "        vertical-align: top;\n",
       "    }\n",
       "\n",
       "    .dataframe thead th {\n",
       "        text-align: right;\n",
       "    }\n",
       "</style>\n",
       "<table border=\"1\" class=\"dataframe\">\n",
       "  <thead>\n",
       "    <tr style=\"text-align: right;\">\n",
       "      <th></th>\n",
       "      <th>subject</th>\n",
       "      <th>unit</th>\n",
       "      <th>sm_diff</th>\n",
       "      <th>side</th>\n",
       "    </tr>\n",
       "  </thead>\n",
       "  <tbody>\n",
       "    <tr>\n",
       "      <th>0</th>\n",
       "      <td>B1170</td>\n",
       "      <td>1002</td>\n",
       "      <td>0.005066</td>\n",
       "      <td>L</td>\n",
       "    </tr>\n",
       "    <tr>\n",
       "      <th>1</th>\n",
       "      <td>B1170</td>\n",
       "      <td>1027</td>\n",
       "      <td>-0.007904</td>\n",
       "      <td>L</td>\n",
       "    </tr>\n",
       "    <tr>\n",
       "      <th>2</th>\n",
       "      <td>B1170</td>\n",
       "      <td>1037</td>\n",
       "      <td>0.017706</td>\n",
       "      <td>L</td>\n",
       "    </tr>\n",
       "  </tbody>\n",
       "</table>\n",
       "</div>"
      ],
      "text/plain": [
       "  subject  unit   sm_diff side\n",
       "0   B1170  1002  0.005066    L\n",
       "1   B1170  1027 -0.007904    L\n",
       "2   B1170  1037  0.017706    L"
      ]
     },
     "execution_count": 26,
     "metadata": {},
     "output_type": "execute_result"
    }
   ],
   "source": [
    "sm_df[:3]"
   ]
  },
  {
   "cell_type": "code",
   "execution_count": 27,
   "id": "95a508eb",
   "metadata": {},
   "outputs": [
    {
     "data": {
      "text/plain": [
       "44749"
      ]
     },
     "execution_count": 27,
     "metadata": {},
     "output_type": "execute_result"
    }
   ],
   "source": [
    "len(sm_df)"
   ]
  },
  {
   "cell_type": "code",
   "execution_count": 28,
   "id": "ce9387bb",
   "metadata": {},
   "outputs": [],
   "source": [
    "df = sm_df"
   ]
  },
  {
   "cell_type": "code",
   "execution_count": 29,
   "id": "ad361108",
   "metadata": {},
   "outputs": [],
   "source": [
    "import statsmodels.api as sm\n",
    "import statsmodels.formula.api as smf"
   ]
  },
  {
   "cell_type": "code",
   "execution_count": 35,
   "id": "7b3e4891-37e9-4b5f-ada0-4da9d7138849",
   "metadata": {},
   "outputs": [
    {
     "name": "stderr",
     "output_type": "stream",
     "text": [
      "/n/groups/datta/tim_sainburg/conda_envs/cdcp_paper/lib/python3.9/site-packages/statsmodels/base/model.py:604: ConvergenceWarning: Maximum Likelihood optimization failed to converge. Check mle_retvals\n",
      "  warnings.warn(\"Maximum Likelihood optimization failed to \"\n",
      "/n/groups/datta/tim_sainburg/conda_envs/cdcp_paper/lib/python3.9/site-packages/statsmodels/regression/mixed_linear_model.py:2200: ConvergenceWarning: Retrying MixedLM optimization with lbfgs\n",
      "  warnings.warn(\n",
      "/n/groups/datta/tim_sainburg/conda_envs/cdcp_paper/lib/python3.9/site-packages/statsmodels/regression/mixed_linear_model.py:2237: ConvergenceWarning: The MLE may be on the boundary of the parameter space.\n",
      "  warnings.warn(msg, ConvergenceWarning)\n"
     ]
    }
   ],
   "source": [
    "# Mixed Linear Model\n",
    "model = smf.mixedlm(\"sm_diff ~ side\", df, groups=df[\"unit\"], re_formula=\"1 + side\")\n",
    "result = model.fit()"
   ]
  },
  {
   "cell_type": "code",
   "execution_count": 36,
   "id": "f95e8c5e-a565-48a7-a06e-5bc34a2a15db",
   "metadata": {},
   "outputs": [
    {
     "data": {
      "text/html": [
       "<table class=\"simpletable\">\n",
       "<tr>\n",
       "       <td>Model:</td>       <td>MixedLM</td> <td>Dependent Variable:</td>   <td>sm_diff</td> \n",
       "</tr>\n",
       "<tr>\n",
       "  <td>No. Observations:</td>  <td>44749</td>        <td>Method:</td>          <td>REML</td>   \n",
       "</tr>\n",
       "<tr>\n",
       "     <td>No. Groups:</td>     <td>4705</td>         <td>Scale:</td>          <td>0.0063</td>  \n",
       "</tr>\n",
       "<tr>\n",
       "  <td>Min. group size:</td>     <td>1</td>      <td>Log-Likelihood:</td>   <td>46403.4045</td>\n",
       "</tr>\n",
       "<tr>\n",
       "  <td>Max. group size:</td>    <td>42</td>        <td>Converged:</td>          <td>Yes</td>   \n",
       "</tr>\n",
       "<tr>\n",
       "  <td>Mean group size:</td>    <td>9.5</td>            <td></td>                <td></td>     \n",
       "</tr>\n",
       "</table>\n",
       "<table class=\"simpletable\">\n",
       "<tr>\n",
       "            <td></td>             <th>Coef.</th> <th>Std.Err.</th>    <th>z</th>    <th>P>|z|</th> <th>[0.025</th> <th>0.975]</th>\n",
       "</tr>\n",
       "<tr>\n",
       "  <th>Intercept</th>             <td>-0.007</td>   <td>0.001</td>  <td>-10.108</td> <td>0.000</td> <td>-0.008</td> <td>-0.005</td>\n",
       "</tr>\n",
       "<tr>\n",
       "  <th>side[T.R]</th>              <td>0.009</td>   <td>0.001</td>  <td>10.100</td>  <td>0.000</td>  <td>0.008</td>  <td>0.011</td>\n",
       "</tr>\n",
       "<tr>\n",
       "  <th>Group Var</th>              <td>0.001</td>   <td>0.000</td>     <td></td>       <td></td>       <td></td>       <td></td>   \n",
       "</tr>\n",
       "<tr>\n",
       "  <th>Group x side[T.R] Cov</th>  <td>0.001</td>     <td></td>        <td></td>       <td></td>       <td></td>       <td></td>   \n",
       "</tr>\n",
       "<tr>\n",
       "  <th>side[T.R] Var</th>          <td>0.001</td>   <td>0.001</td>     <td></td>       <td></td>       <td></td>       <td></td>   \n",
       "</tr>\n",
       "</table>"
      ],
      "text/plain": [
       "<class 'statsmodels.iolib.summary2.Summary'>\n",
       "\"\"\"\n",
       "              Mixed Linear Model Regression Results\n",
       "=================================================================\n",
       "Model:               MixedLM    Dependent Variable:    sm_diff   \n",
       "No. Observations:    44749      Method:                REML      \n",
       "No. Groups:          4705       Scale:                 0.0063    \n",
       "Min. group size:     1          Log-Likelihood:        46403.4045\n",
       "Max. group size:     42         Converged:             Yes       \n",
       "Mean group size:     9.5                                         \n",
       "-----------------------------------------------------------------\n",
       "                      Coef.  Std.Err.    z    P>|z| [0.025 0.975]\n",
       "-----------------------------------------------------------------\n",
       "Intercept             -0.007    0.001 -10.108 0.000 -0.008 -0.005\n",
       "side[T.R]              0.009    0.001  10.100 0.000  0.008  0.011\n",
       "Group Var              0.001    0.000                            \n",
       "Group x side[T.R] Cov  0.001                                     \n",
       "side[T.R] Var          0.001    0.001                            \n",
       "=================================================================\n",
       "\n",
       "\"\"\""
      ]
     },
     "execution_count": 36,
     "metadata": {},
     "output_type": "execute_result"
    }
   ],
   "source": [
    "# Summary of the model\n",
    "result.summary()"
   ]
  },
  {
   "cell_type": "markdown",
   "id": "0d81256d",
   "metadata": {},
   "source": [
    "### Test the relationship between cue probability and similarity"
   ]
  },
  {
   "cell_type": "code",
   "execution_count": 37,
   "id": "cda4c2a8",
   "metadata": {},
   "outputs": [],
   "source": [
    "p_left = {\n",
    "    \"CL1\": 0.875,\n",
    "    'CL0': 0.75,\n",
    "    'CN': 0.5,\n",
    "    'CR0': 0.25,\n",
    "    'CR1': 0.125,\n",
    "}"
   ]
  },
  {
   "cell_type": "code",
   "execution_count": 38,
   "id": "f105069d",
   "metadata": {},
   "outputs": [],
   "source": [
    "import copy"
   ]
  },
  {
   "cell_type": "code",
   "execution_count": 39,
   "id": "1cc14771",
   "metadata": {},
   "outputs": [],
   "source": [
    "stat_df_by_cue_rel_CN = copy.deepcopy(stat_df_by_cue)\n",
    "for cue in ['CL1', 'CL0', 'CR0', 'CR1']:\n",
    "    stat_df_by_cue_rel_CN[cue] = stat_df_by_cue[cue].values - stat_df_by_cue['CN'].values\n",
    "    stat_df_by_cue_rel_CN = stat_df_by_cue_rel_CN[['CL1', 'CL0', 'CR0', 'CR1']]"
   ]
  },
  {
   "cell_type": "code",
   "execution_count": 40,
   "id": "3b676011",
   "metadata": {},
   "outputs": [
    {
     "data": {
      "text/html": [
       "<div>\n",
       "<style scoped>\n",
       "    .dataframe tbody tr th:only-of-type {\n",
       "        vertical-align: middle;\n",
       "    }\n",
       "\n",
       "    .dataframe tbody tr th {\n",
       "        vertical-align: top;\n",
       "    }\n",
       "\n",
       "    .dataframe thead th {\n",
       "        text-align: right;\n",
       "    }\n",
       "</style>\n",
       "<table border=\"1\" class=\"dataframe\">\n",
       "  <thead>\n",
       "    <tr style=\"text-align: right;\">\n",
       "      <th></th>\n",
       "      <th></th>\n",
       "      <th>cue</th>\n",
       "      <th>CL1</th>\n",
       "      <th>CL0</th>\n",
       "      <th>CR0</th>\n",
       "      <th>CR1</th>\n",
       "    </tr>\n",
       "    <tr>\n",
       "      <th>bird</th>\n",
       "      <th>unit</th>\n",
       "      <th>interp</th>\n",
       "      <th></th>\n",
       "      <th></th>\n",
       "      <th></th>\n",
       "      <th></th>\n",
       "    </tr>\n",
       "  </thead>\n",
       "  <tbody>\n",
       "    <tr>\n",
       "      <th rowspan=\"3\" valign=\"top\">B1170</th>\n",
       "      <th>1002</th>\n",
       "      <th>AE</th>\n",
       "      <td>[[0.041159810404064065, -0.0036995361105544022...</td>\n",
       "      <td>[[0.03662133323869135, 0.01301966764693413, na...</td>\n",
       "      <td>[[0.08269044868060021, 0.04758421517254885, na...</td>\n",
       "      <td>[[0.04895126990153381, -0.0803547884176952, na...</td>\n",
       "    </tr>\n",
       "    <tr>\n",
       "      <th>1027</th>\n",
       "      <th>AE</th>\n",
       "      <td>[[0.012836510793113085, 0.011862285312258046, ...</td>\n",
       "      <td>[[-0.006995974552455063, 0.013917442366720774,...</td>\n",
       "      <td>[[0.017209531714197798, 0.023443818018266997, ...</td>\n",
       "      <td>[[0.017344021019014166, 0.036385789692999486, ...</td>\n",
       "    </tr>\n",
       "    <tr>\n",
       "      <th>1037</th>\n",
       "      <th>AE</th>\n",
       "      <td>[[-0.090805674025002, 0.10280614681070005, nan...</td>\n",
       "      <td>[[-0.09426877943745249, 0.10714509819239976, n...</td>\n",
       "      <td>[[-0.03209888917998599, 0.13093329311587532, n...</td>\n",
       "      <td>[[0.056281081730101046, 0.15725974851096963, n...</td>\n",
       "    </tr>\n",
       "  </tbody>\n",
       "</table>\n",
       "</div>"
      ],
      "text/plain": [
       "cue                                                              CL1  \\\n",
       "bird  unit interp                                                      \n",
       "B1170 1002 AE      [[0.041159810404064065, -0.0036995361105544022...   \n",
       "      1027 AE      [[0.012836510793113085, 0.011862285312258046, ...   \n",
       "      1037 AE      [[-0.090805674025002, 0.10280614681070005, nan...   \n",
       "\n",
       "cue                                                              CL0  \\\n",
       "bird  unit interp                                                      \n",
       "B1170 1002 AE      [[0.03662133323869135, 0.01301966764693413, na...   \n",
       "      1027 AE      [[-0.006995974552455063, 0.013917442366720774,...   \n",
       "      1037 AE      [[-0.09426877943745249, 0.10714509819239976, n...   \n",
       "\n",
       "cue                                                              CR0  \\\n",
       "bird  unit interp                                                      \n",
       "B1170 1002 AE      [[0.08269044868060021, 0.04758421517254885, na...   \n",
       "      1027 AE      [[0.017209531714197798, 0.023443818018266997, ...   \n",
       "      1037 AE      [[-0.03209888917998599, 0.13093329311587532, n...   \n",
       "\n",
       "cue                                                              CR1  \n",
       "bird  unit interp                                                     \n",
       "B1170 1002 AE      [[0.04895126990153381, -0.0803547884176952, na...  \n",
       "      1027 AE      [[0.017344021019014166, 0.036385789692999486, ...  \n",
       "      1037 AE      [[0.056281081730101046, 0.15725974851096963, n...  "
      ]
     },
     "execution_count": 40,
     "metadata": {},
     "output_type": "execute_result"
    }
   ],
   "source": [
    "stat_df_by_cue_rel_CN[:3]"
   ]
  },
  {
   "cell_type": "code",
   "execution_count": 41,
   "id": "686bb443",
   "metadata": {},
   "outputs": [
    {
     "data": {
      "text/plain": [
       "25936"
      ]
     },
     "execution_count": 41,
     "metadata": {},
     "output_type": "execute_result"
    }
   ],
   "source": [
    "len(stat_df_by_cue_rel_CN)"
   ]
  },
  {
   "cell_type": "code",
   "execution_count": 42,
   "id": "793b6c93",
   "metadata": {},
   "outputs": [
    {
     "name": "stderr",
     "output_type": "stream",
     "text": [
      "/tmp/ipykernel_7884/1976604311.py:5: RuntimeWarning: Mean of empty slice\n",
      "  L = np.nanmean(np.stack(stat_df_by_cue_rel_CN[cue])[:, :8, :8], axis=(1,2)).flatten()\n",
      "/tmp/ipykernel_7884/1976604311.py:6: RuntimeWarning: Mean of empty slice\n",
      "  R = np.nanmean(np.stack(stat_df_by_cue_rel_CN[cue])[:, 8:, 8:], axis=(1,2)).flatten()\n"
     ]
    }
   ],
   "source": [
    "all_shifts = []\n",
    "all_probs = []\n",
    "all_unit = []\n",
    "for cue in ['CL1', 'CL0', 'CR0', 'CR1']:\n",
    "    L = np.nanmean(np.stack(stat_df_by_cue_rel_CN[cue])[:, :8, :8], axis=(1,2)).flatten()\n",
    "    R = np.nanmean(np.stack(stat_df_by_cue_rel_CN[cue])[:, 8:, 8:], axis=(1,2)).flatten()\n",
    "    unit = stat_df_by_cue_rel_CN[cue].index.get_level_values('unit')\n",
    "    \n",
    "    unit = np.concatenate([unit[(np.isnan(L) == False)], unit[(np.isnan(R) == False)]])\n",
    "    L =  L[np.isnan(L) == False] \n",
    "    R =  R[np.isnan(R) == False] \n",
    "    \n",
    "    shift = np.concatenate([L, R])\n",
    "    probs = np.concatenate([np.ones(len(L)) * p_left[cue], np.ones(len(R)) * (1 - p_left[cue])])\n",
    "    all_shifts.append(shift)\n",
    "    all_probs.append(probs)\n",
    "    all_unit.append(unit)\n",
    "    #break\n",
    "all_shifts = np.concatenate(all_shifts)\n",
    "all_probs = np.concatenate(all_probs)\n",
    "all_unit = np.concatenate(all_unit)"
   ]
  },
  {
   "cell_type": "code",
   "execution_count": 47,
   "id": "b0b2e9a6",
   "metadata": {},
   "outputs": [
    {
     "data": {
      "text/plain": [
       "(108153, 108153, 108153)"
      ]
     },
     "execution_count": 47,
     "metadata": {},
     "output_type": "execute_result"
    }
   ],
   "source": [
    "len(all_probs), len(all_unit), len(all_shifts)"
   ]
  },
  {
   "cell_type": "code",
   "execution_count": 44,
   "id": "9a29d02b",
   "metadata": {},
   "outputs": [],
   "source": [
    "similarity_shift_df = pd.DataFrame({\n",
    "    'unit': all_unit,\n",
    "    'similarity_rel_CN': all_shifts,\n",
    "    'p_stim' : all_probs\n",
    "})"
   ]
  },
  {
   "cell_type": "code",
   "execution_count": 48,
   "id": "62539f5a",
   "metadata": {},
   "outputs": [
    {
     "data": {
      "text/html": [
       "<div>\n",
       "<style scoped>\n",
       "    .dataframe tbody tr th:only-of-type {\n",
       "        vertical-align: middle;\n",
       "    }\n",
       "\n",
       "    .dataframe tbody tr th {\n",
       "        vertical-align: top;\n",
       "    }\n",
       "\n",
       "    .dataframe thead th {\n",
       "        text-align: right;\n",
       "    }\n",
       "</style>\n",
       "<table border=\"1\" class=\"dataframe\">\n",
       "  <thead>\n",
       "    <tr style=\"text-align: right;\">\n",
       "      <th></th>\n",
       "      <th>unit</th>\n",
       "      <th>similarity_rel_CN</th>\n",
       "      <th>p_stim</th>\n",
       "    </tr>\n",
       "  </thead>\n",
       "  <tbody>\n",
       "    <tr>\n",
       "      <th>0</th>\n",
       "      <td>1002</td>\n",
       "      <td>-0.036425</td>\n",
       "      <td>0.875</td>\n",
       "    </tr>\n",
       "    <tr>\n",
       "      <th>1</th>\n",
       "      <td>1027</td>\n",
       "      <td>0.007498</td>\n",
       "      <td>0.875</td>\n",
       "    </tr>\n",
       "    <tr>\n",
       "      <th>2</th>\n",
       "      <td>1037</td>\n",
       "      <td>-0.004476</td>\n",
       "      <td>0.875</td>\n",
       "    </tr>\n",
       "  </tbody>\n",
       "</table>\n",
       "</div>"
      ],
      "text/plain": [
       "   unit  similarity_rel_CN  p_stim\n",
       "0  1002          -0.036425   0.875\n",
       "1  1027           0.007498   0.875\n",
       "2  1037          -0.004476   0.875"
      ]
     },
     "execution_count": 48,
     "metadata": {},
     "output_type": "execute_result"
    }
   ],
   "source": [
    "similarity_shift_df[:3]"
   ]
  },
  {
   "cell_type": "code",
   "execution_count": 49,
   "id": "957a49b4",
   "metadata": {},
   "outputs": [],
   "source": [
    "df = similarity_shift_df"
   ]
  },
  {
   "cell_type": "code",
   "execution_count": 50,
   "id": "1b435b66",
   "metadata": {},
   "outputs": [
    {
     "name": "stderr",
     "output_type": "stream",
     "text": [
      "/n/groups/datta/tim_sainburg/conda_envs/cdcp_paper/lib/python3.9/site-packages/statsmodels/base/model.py:604: ConvergenceWarning: Maximum Likelihood optimization failed to converge. Check mle_retvals\n",
      "  warnings.warn(\"Maximum Likelihood optimization failed to \"\n",
      "/n/groups/datta/tim_sainburg/conda_envs/cdcp_paper/lib/python3.9/site-packages/statsmodels/regression/mixed_linear_model.py:2200: ConvergenceWarning: Retrying MixedLM optimization with lbfgs\n",
      "  warnings.warn(\n",
      "/n/groups/datta/tim_sainburg/conda_envs/cdcp_paper/lib/python3.9/site-packages/statsmodels/regression/mixed_linear_model.py:2237: ConvergenceWarning: The MLE may be on the boundary of the parameter space.\n",
      "  warnings.warn(msg, ConvergenceWarning)\n"
     ]
    }
   ],
   "source": [
    "# Mixed Linear Model\n",
    "model = smf.mixedlm(\"similarity_rel_CN ~ p_stim\", df, groups=df[\"unit\"], re_formula=\"1 + p_stim\")\n",
    "result = model.fit()"
   ]
  },
  {
   "cell_type": "code",
   "execution_count": 51,
   "id": "db54f563",
   "metadata": {},
   "outputs": [
    {
     "data": {
      "text/html": [
       "<table class=\"simpletable\">\n",
       "<tr>\n",
       "       <td>Model:</td>       <td>MixedLM</td> <td>Dependent Variable:</td> <td>similarity_rel_CN</td>\n",
       "</tr>\n",
       "<tr>\n",
       "  <td>No. Observations:</td> <td>108153</td>        <td>Method:</td>             <td>REML</td>       \n",
       "</tr>\n",
       "<tr>\n",
       "     <td>No. Groups:</td>     <td>4559</td>         <td>Scale:</td>             <td>0.0191</td>      \n",
       "</tr>\n",
       "<tr>\n",
       "  <td>Min. group size:</td>     <td>1</td>      <td>Log-Likelihood:</td>      <td>58391.2131</td>    \n",
       "</tr>\n",
       "<tr>\n",
       "  <td>Max. group size:</td>    <td>101</td>       <td>Converged:</td>             <td>Yes</td>       \n",
       "</tr>\n",
       "<tr>\n",
       "  <td>Mean group size:</td>   <td>23.7</td>            <td></td>                   <td></td>         \n",
       "</tr>\n",
       "</table>\n",
       "<table class=\"simpletable\">\n",
       "<tr>\n",
       "           <td></td>           <th>Coef.</th> <th>Std.Err.</th>    <th>z</th>   <th>P>|z|</th> <th>[0.025</th> <th>0.975]</th>\n",
       "</tr>\n",
       "<tr>\n",
       "  <th>Intercept</th>          <td>-0.001</td>   <td>0.001</td>  <td>-1.032</td> <td>0.302</td> <td>-0.004</td>  <td>0.001</td>\n",
       "</tr>\n",
       "<tr>\n",
       "  <th>p_stim</th>             <td>-0.010</td>   <td>0.001</td>  <td>-7.018</td> <td>0.000</td> <td>-0.013</td> <td>-0.007</td>\n",
       "</tr>\n",
       "<tr>\n",
       "  <th>Group Var</th>           <td>0.002</td>   <td>0.001</td>     <td></td>      <td></td>       <td></td>       <td></td>   \n",
       "</tr>\n",
       "<tr>\n",
       "  <th>Group x p_stim Cov</th> <td>-0.001</td>   <td>0.001</td>     <td></td>      <td></td>       <td></td>       <td></td>   \n",
       "</tr>\n",
       "<tr>\n",
       "  <th>p_stim Var</th>          <td>0.000</td>   <td>0.002</td>     <td></td>      <td></td>       <td></td>       <td></td>   \n",
       "</tr>\n",
       "</table>"
      ],
      "text/plain": [
       "<class 'statsmodels.iolib.summary2.Summary'>\n",
       "\"\"\"\n",
       "             Mixed Linear Model Regression Results\n",
       "===============================================================\n",
       "Model:            MixedLM Dependent Variable: similarity_rel_CN\n",
       "No. Observations: 108153  Method:             REML             \n",
       "No. Groups:       4559    Scale:              0.0191           \n",
       "Min. group size:  1       Log-Likelihood:     58391.2131       \n",
       "Max. group size:  101     Converged:          Yes              \n",
       "Mean group size:  23.7                                         \n",
       "---------------------------------------------------------------\n",
       "                     Coef.  Std.Err.   z    P>|z| [0.025 0.975]\n",
       "---------------------------------------------------------------\n",
       "Intercept            -0.001    0.001 -1.032 0.302 -0.004  0.001\n",
       "p_stim               -0.010    0.001 -7.018 0.000 -0.013 -0.007\n",
       "Group Var             0.002    0.001                           \n",
       "Group x p_stim Cov   -0.001    0.001                           \n",
       "p_stim Var            0.000    0.002                           \n",
       "===============================================================\n",
       "\n",
       "\"\"\""
      ]
     },
     "execution_count": 51,
     "metadata": {},
     "output_type": "execute_result"
    }
   ],
   "source": [
    "# Summary of the model\n",
    "result.summary()"
   ]
  },
  {
   "cell_type": "code",
   "execution_count": null,
   "id": "99da0406",
   "metadata": {},
   "outputs": [],
   "source": []
  }
 ],
 "metadata": {
  "kernelspec": {
   "display_name": "cdcp_paper",
   "language": "python",
   "name": "cdcp_paper"
  },
  "language_info": {
   "codemirror_mode": {
    "name": "ipython",
    "version": 3
   },
   "file_extension": ".py",
   "mimetype": "text/x-python",
   "name": "python",
   "nbconvert_exporter": "python",
   "pygments_lexer": "ipython3",
   "version": "3.10.15"
  }
 },
 "nbformat": 4,
 "nbformat_minor": 5
}
